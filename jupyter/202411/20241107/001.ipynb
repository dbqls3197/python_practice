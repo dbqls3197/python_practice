{
 "cells": [
  {
   "cell_type": "markdown",
   "id": "acf8aa63-e350-4212-a5a5-18f49ccdefbb",
   "metadata": {},
   "source": [
    "# 리스트\n"
   ]
  },
  {
   "cell_type": "code",
   "execution_count": 2,
   "id": "53b8050a-23ed-43ee-9652-03a55047df20",
   "metadata": {},
   "outputs": [],
   "source": [
    "a = [1, 3, 5, 7, 9]\n",
    "b = []\n",
    "b = list()\n",
    "c = [\"Life\", \"is\", \"too\", \"short\"]\n",
    "d = [1, 2, \"Life\", \"is\"]\n",
    "e = [1, 2, [\"Life\", \"is\"]]"
   ]
  },
  {
   "cell_type": "code",
   "execution_count": 3,
   "id": "2e141a36-0d6a-40c5-b9ca-d1b04fd8a95a",
   "metadata": {},
   "outputs": [
    {
     "name": "stdout",
     "output_type": "stream",
     "text": [
      "[1, 2, ['Life', 'is']]\n"
     ]
    }
   ],
   "source": [
    "print(e)"
   ]
  },
  {
   "cell_type": "code",
   "execution_count": 4,
   "id": "b5e6aeb0-456f-4029-bb08-2c602cb2505c",
   "metadata": {},
   "outputs": [
    {
     "data": {
      "text/plain": [
       "7"
      ]
     },
     "execution_count": 4,
     "metadata": {},
     "output_type": "execute_result"
    }
   ],
   "source": [
    "a[3]"
   ]
  },
  {
   "cell_type": "code",
   "execution_count": 5,
   "id": "06d504bf-5687-4c26-9fec-91f42ea9d734",
   "metadata": {},
   "outputs": [
    {
     "data": {
      "text/plain": [
       "['Life', 'is']"
      ]
     },
     "execution_count": 5,
     "metadata": {},
     "output_type": "execute_result"
    }
   ],
   "source": [
    "e[2]"
   ]
  },
  {
   "cell_type": "code",
   "execution_count": 6,
   "id": "7cfc4ca1-d53d-4db6-8970-20c6c84258fc",
   "metadata": {},
   "outputs": [
    {
     "data": {
      "text/plain": [
       "'is'"
      ]
     },
     "execution_count": 6,
     "metadata": {},
     "output_type": "execute_result"
    }
   ],
   "source": [
    "e[2][1]"
   ]
  },
  {
   "cell_type": "code",
   "execution_count": 7,
   "id": "1bccc620-8de0-4dd1-9228-ad0b31227ec7",
   "metadata": {},
   "outputs": [
    {
     "data": {
      "text/plain": [
       "8"
      ]
     },
     "execution_count": 7,
     "metadata": {},
     "output_type": "execute_result"
    }
   ],
   "source": [
    "a[0] + a[3]"
   ]
  },
  {
   "cell_type": "code",
   "execution_count": 8,
   "id": "a304b9a4-a4fa-4754-82bc-968c70b2a6a3",
   "metadata": {},
   "outputs": [
    {
     "data": {
      "text/plain": [
       "'short'"
      ]
     },
     "execution_count": 8,
     "metadata": {},
     "output_type": "execute_result"
    }
   ],
   "source": [
    "c[-1]"
   ]
  },
  {
   "cell_type": "code",
   "execution_count": 9,
   "id": "e2ad151c-ebc1-4d90-b73c-b381c6ff92d1",
   "metadata": {},
   "outputs": [
    {
     "data": {
      "text/plain": [
       "'Life'"
      ]
     },
     "execution_count": 9,
     "metadata": {},
     "output_type": "execute_result"
    }
   ],
   "source": [
    "a = [1, 2, ['a', 'b', ['Life', 'is']]]\n",
    "a[2][2][0]"
   ]
  },
  {
   "cell_type": "code",
   "execution_count": 10,
   "id": "c9518a32-5559-47a5-930b-b0a5278f27c3",
   "metadata": {},
   "outputs": [
    {
     "data": {
      "text/plain": [
       "[1, 3, 5]"
      ]
     },
     "execution_count": 10,
     "metadata": {},
     "output_type": "execute_result"
    }
   ],
   "source": [
    "a = [1, 3, 5, 7, 9]\n",
    "a[0:3]"
   ]
  },
  {
   "cell_type": "code",
   "execution_count": 11,
   "id": "f747a4bb-319f-49f9-9ce3-bdb57af38290",
   "metadata": {},
   "outputs": [
    {
     "data": {
      "text/plain": [
       "[1, 3, 5, 7, 9]"
      ]
     },
     "execution_count": 11,
     "metadata": {},
     "output_type": "execute_result"
    }
   ],
   "source": [
    "a"
   ]
  },
  {
   "cell_type": "code",
   "execution_count": 12,
   "id": "7ce18f38-6c99-4919-93f0-0489ea05d0b3",
   "metadata": {},
   "outputs": [
    {
     "data": {
      "text/plain": [
       "[1, 3]"
      ]
     },
     "execution_count": 12,
     "metadata": {},
     "output_type": "execute_result"
    }
   ],
   "source": [
    " b = a[:2]\n",
    "b"
   ]
  },
  {
   "cell_type": "code",
   "execution_count": 13,
   "id": "b9680b63-1c40-43d5-9902-a3d0cea1480f",
   "metadata": {},
   "outputs": [
    {
     "data": {
      "text/plain": [
       "[5, 7, 9]"
      ]
     },
     "execution_count": 13,
     "metadata": {},
     "output_type": "execute_result"
    }
   ],
   "source": [
    "a[2:]"
   ]
  },
  {
   "cell_type": "code",
   "execution_count": 14,
   "id": "94073f23-ff21-40b1-9e7c-c4cd86cb121d",
   "metadata": {},
   "outputs": [
    {
     "data": {
      "text/plain": [
       "[3, ['a', 'b', 'c'], 4]"
      ]
     },
     "execution_count": 14,
     "metadata": {},
     "output_type": "execute_result"
    }
   ],
   "source": [
    "a = [1, 2, 3, [\"a\", \"b\", \"c\"],4, 5]\n",
    "a[2:5]"
   ]
  },
  {
   "cell_type": "code",
   "execution_count": 15,
   "id": "72eea993-a8d7-40a5-9352-d6f29071586f",
   "metadata": {},
   "outputs": [
    {
     "data": {
      "text/plain": [
       "['a', 'b']"
      ]
     },
     "execution_count": 15,
     "metadata": {},
     "output_type": "execute_result"
    }
   ],
   "source": [
    "a[3][:2]"
   ]
  },
  {
   "cell_type": "code",
   "execution_count": 16,
   "id": "f683c8e1-e961-4509-b756-0d0d54febefe",
   "metadata": {},
   "outputs": [
    {
     "data": {
      "text/plain": [
       "[1, 2, 3, 4, 5, 6]"
      ]
     },
     "execution_count": 16,
     "metadata": {},
     "output_type": "execute_result"
    }
   ],
   "source": [
    "a = [1,2,3]\n",
    "b = [4,5,6]\n",
    "a  + b"
   ]
  },
  {
   "cell_type": "code",
   "execution_count": 17,
   "id": "66f54fb2-b28f-4c0b-be8b-35a30ad2059f",
   "metadata": {},
   "outputs": [
    {
     "data": {
      "text/plain": [
       "[1, 2, 3, 1, 2, 3, 1, 2, 3]"
      ]
     },
     "execution_count": 17,
     "metadata": {},
     "output_type": "execute_result"
    }
   ],
   "source": [
    "a * 3"
   ]
  },
  {
   "cell_type": "code",
   "execution_count": 18,
   "id": "50a676d5-4972-411a-9835-fe706082c4ca",
   "metadata": {},
   "outputs": [
    {
     "data": {
      "text/plain": [
       "'qweqweqwe'"
      ]
     },
     "execution_count": 18,
     "metadata": {},
     "output_type": "execute_result"
    }
   ],
   "source": [
    "\"qwe\" * 3"
   ]
  },
  {
   "cell_type": "code",
   "execution_count": 19,
   "id": "87b1accf-697c-483b-877b-0b63105a405f",
   "metadata": {},
   "outputs": [
    {
     "data": {
      "text/plain": [
       "7"
      ]
     },
     "execution_count": 19,
     "metadata": {},
     "output_type": "execute_result"
    }
   ],
   "source": [
    "a = [1,2,3,4,5,6,7]\n",
    "len(a)"
   ]
  },
  {
   "cell_type": "code",
   "execution_count": 20,
   "id": "a5f4cc6b-63b4-470e-a368-b026e826be5b",
   "metadata": {},
   "outputs": [
    {
     "data": {
      "text/plain": [
       "'3hi'"
      ]
     },
     "execution_count": 20,
     "metadata": {},
     "output_type": "execute_result"
    }
   ],
   "source": [
    "str(a[2]) + \"hi\""
   ]
  },
  {
   "cell_type": "code",
   "execution_count": 21,
   "id": "e067bb20-c7a6-462d-887a-4f076dff5505",
   "metadata": {},
   "outputs": [
    {
     "data": {
      "text/plain": [
       "[1, 2, 4, 4, 5, 6, 7]"
      ]
     },
     "execution_count": 21,
     "metadata": {},
     "output_type": "execute_result"
    }
   ],
   "source": [
    "a[2] = 4\n",
    "a"
   ]
  },
  {
   "cell_type": "code",
   "execution_count": 22,
   "id": "8ea4b113-3a13-4690-83ed-05baa1c05422",
   "metadata": {},
   "outputs": [
    {
     "data": {
      "text/plain": [
       "[1, 2, 3]"
      ]
     },
     "execution_count": 22,
     "metadata": {},
     "output_type": "execute_result"
    }
   ],
   "source": [
    "a = [1,2,3]\n",
    "b = a\n",
    "b"
   ]
  },
  {
   "cell_type": "code",
   "execution_count": 23,
   "id": "22173e53-0568-4e05-9084-549dca3a57aa",
   "metadata": {},
   "outputs": [
    {
     "data": {
      "text/plain": [
       "[1, 2, 3]"
      ]
     },
     "execution_count": 23,
     "metadata": {},
     "output_type": "execute_result"
    }
   ],
   "source": [
    "c = a[:]\n",
    "c"
   ]
  },
  {
   "cell_type": "code",
   "execution_count": 24,
   "id": "c6e06535-932c-404b-9ce0-35fd48a87fe7",
   "metadata": {},
   "outputs": [
    {
     "data": {
      "text/plain": [
       "[1, 2, 3]"
      ]
     },
     "execution_count": 24,
     "metadata": {},
     "output_type": "execute_result"
    }
   ],
   "source": [
    "a[1] = 2\n",
    "a"
   ]
  },
  {
   "cell_type": "code",
   "execution_count": 25,
   "id": "27ca3053-45fc-4805-83e9-a3ad373959c7",
   "metadata": {},
   "outputs": [
    {
     "data": {
      "text/plain": [
       "[1, 7, 3]"
      ]
     },
     "execution_count": 25,
     "metadata": {},
     "output_type": "execute_result"
    }
   ],
   "source": [
    "a[1] = 7\n",
    "a"
   ]
  },
  {
   "cell_type": "code",
   "execution_count": 26,
   "id": "a65f2056-dde6-41bb-95cb-8b8c7fc1f71d",
   "metadata": {},
   "outputs": [
    {
     "data": {
      "text/plain": [
       "[1, 7, 3]"
      ]
     },
     "execution_count": 26,
     "metadata": {},
     "output_type": "execute_result"
    }
   ],
   "source": [
    "b"
   ]
  },
  {
   "cell_type": "code",
   "execution_count": 27,
   "id": "ff4a34b2-795b-422e-8e42-a7986cf8fa54",
   "metadata": {},
   "outputs": [
    {
     "data": {
      "text/plain": [
       "[1, 2, 3]"
      ]
     },
     "execution_count": 27,
     "metadata": {},
     "output_type": "execute_result"
    }
   ],
   "source": [
    "c"
   ]
  },
  {
   "cell_type": "code",
   "execution_count": 28,
   "id": "bee42bb0-c465-4f33-9342-e19d4be91119",
   "metadata": {},
   "outputs": [
    {
     "data": {
      "text/plain": [
       "[1, 7, 3]"
      ]
     },
     "execution_count": 28,
     "metadata": {},
     "output_type": "execute_result"
    }
   ],
   "source": [
    "a"
   ]
  },
  {
   "cell_type": "code",
   "execution_count": 29,
   "id": "05c17cb2-3c34-48a5-8c51-1fe44276427d",
   "metadata": {},
   "outputs": [
    {
     "data": {
      "text/plain": [
       "[1, 3]"
      ]
     },
     "execution_count": 29,
     "metadata": {},
     "output_type": "execute_result"
    }
   ],
   "source": [
    "# 값 인데스로 삭제\n",
    "del a[1]\n",
    "a"
   ]
  },
  {
   "cell_type": "code",
   "execution_count": 30,
   "id": "1395ef31-6714-4766-a730-89cc9058d1ed",
   "metadata": {},
   "outputs": [
    {
     "data": {
      "text/plain": [
       "[1, 2]"
      ]
     },
     "execution_count": 30,
     "metadata": {},
     "output_type": "execute_result"
    }
   ],
   "source": [
    "a = [1,2,3,4,5]\n",
    "# 값 슬라이스로 삭제\n",
    "del a[2:]\n",
    "a"
   ]
  },
  {
   "cell_type": "code",
   "execution_count": 31,
   "id": "c5bd05da-6890-4d51-93ef-85c0cd623a68",
   "metadata": {},
   "outputs": [
    {
     "data": {
      "text/plain": [
       "[1, 2]"
      ]
     },
     "execution_count": 31,
     "metadata": {},
     "output_type": "execute_result"
    }
   ],
   "source": [
    "a"
   ]
  },
  {
   "cell_type": "code",
   "execution_count": 32,
   "id": "7aac0c9e-f26e-4ecb-8a3d-f8d2bb4b14b7",
   "metadata": {},
   "outputs": [
    {
     "data": {
      "text/plain": [
       "[1, 2, 5]"
      ]
     },
     "execution_count": 32,
     "metadata": {},
     "output_type": "execute_result"
    }
   ],
   "source": [
    "# 값을 추기\n",
    "a.append(5)\n",
    "a"
   ]
  },
  {
   "cell_type": "code",
   "execution_count": 33,
   "id": "6e913fe5-d882-4367-8a94-ffdbaf600341",
   "metadata": {},
   "outputs": [
    {
     "data": {
      "text/plain": [
       "[1, 2, 5, [6, 7]]"
      ]
     },
     "execution_count": 33,
     "metadata": {},
     "output_type": "execute_result"
    }
   ],
   "source": [
    "a.append([6,7])\n",
    "a"
   ]
  },
  {
   "cell_type": "code",
   "execution_count": 34,
   "id": "44caa9ca-2706-4164-93e8-aac128a49978",
   "metadata": {},
   "outputs": [
    {
     "data": {
      "text/plain": [
       "[1, 2, 3, 4]"
      ]
     },
     "execution_count": 34,
     "metadata": {},
     "output_type": "execute_result"
    }
   ],
   "source": [
    "# 순서대로 정렬\n",
    "a = [1, 4, 3, 2]\n",
    "a.sort()\n",
    "a"
   ]
  },
  {
   "cell_type": "code",
   "execution_count": 35,
   "id": "113760d9-d3a9-42b4-85be-b3f44fae9da5",
   "metadata": {},
   "outputs": [
    {
     "data": {
      "text/plain": [
       "[4, 3, 2, 1]"
      ]
     },
     "execution_count": 35,
     "metadata": {},
     "output_type": "execute_result"
    }
   ],
   "source": [
    "# 역순으로 정렬\n",
    "a.reverse()\n",
    "a"
   ]
  },
  {
   "cell_type": "code",
   "execution_count": 36,
   "id": "9a063aa2-0eeb-410c-96b3-65260c1ea167",
   "metadata": {},
   "outputs": [
    {
     "data": {
      "text/plain": [
       "['a', 'b', 'c']"
      ]
     },
     "execution_count": 36,
     "metadata": {},
     "output_type": "execute_result"
    }
   ],
   "source": [
    "a =[\"a\", \"c\", \"b\"]\n",
    "a.sort()\n",
    "a"
   ]
  },
  {
   "cell_type": "code",
   "execution_count": 37,
   "id": "8723fc4c-f0bc-4992-9ad9-4cbb54e35bb8",
   "metadata": {},
   "outputs": [
    {
     "data": {
      "text/plain": [
       "2"
      ]
     },
     "execution_count": 37,
     "metadata": {},
     "output_type": "execute_result"
    }
   ],
   "source": [
    "# 값의 인덱스 위치\n",
    "a.index(\"c\")\n"
   ]
  },
  {
   "cell_type": "code",
   "execution_count": 38,
   "id": "9c3249a1-91b6-4e14-8923-cf5db5f63720",
   "metadata": {},
   "outputs": [
    {
     "data": {
      "text/plain": [
       "[4, 1, 2, 3]"
      ]
     },
     "execution_count": 38,
     "metadata": {},
     "output_type": "execute_result"
    }
   ],
   "source": [
    "a = [1, 2, 3]\n",
    "# 특정 인덱스(0) 위치에 값(4) 넣기\n",
    "a.insert(0, 4)\n",
    "a"
   ]
  },
  {
   "cell_type": "code",
   "execution_count": 39,
   "id": "5a780937-04f2-4f23-b6ee-3513d7437142",
   "metadata": {},
   "outputs": [
    {
     "data": {
      "text/plain": [
       "[1, 2, 1, 2, 3]"
      ]
     },
     "execution_count": 39,
     "metadata": {},
     "output_type": "execute_result"
    }
   ],
   "source": [
    "a = [1,2,3,1,2,3]\n",
    "# 값으로 삭제 (가장 앞에있는 인덱스 값만 삭제)\n",
    "a.remove(3)\n",
    "a"
   ]
  },
  {
   "cell_type": "code",
   "execution_count": 40,
   "id": "80791087-cf9f-42e7-891e-334c53cc6710",
   "metadata": {},
   "outputs": [
    {
     "data": {
      "text/plain": [
       "[1, 2, 1, 2]"
      ]
     },
     "execution_count": 40,
     "metadata": {},
     "output_type": "execute_result"
    }
   ],
   "source": [
    "a.remove(3)\n",
    "a"
   ]
  },
  {
   "cell_type": "code",
   "execution_count": 41,
   "id": "e84fc3c8-10e3-4ec5-afd4-c46fbce55714",
   "metadata": {},
   "outputs": [
    {
     "name": "stdout",
     "output_type": "stream",
     "text": [
      "[1, 3] 2\n"
     ]
    }
   ],
   "source": [
    "a = [1, 2, 3]\n",
    "b = a.pop(1)\n",
    "print(a,b)"
   ]
  },
  {
   "cell_type": "code",
   "execution_count": 42,
   "id": "d1540129-f8e2-4428-8217-d14448b0a539",
   "metadata": {},
   "outputs": [
    {
     "name": "stdout",
     "output_type": "stream",
     "text": [
      "4\n",
      "2\n"
     ]
    }
   ],
   "source": [
    "a = [1, 2, 3, 1]\n",
    "b = len(a)\n",
    "c = a.count(1)\n",
    "print(b,c,sep=\"\\n\")"
   ]
  },
  {
   "cell_type": "code",
   "execution_count": 43,
   "id": "96ac94c2-8635-4fe4-b938-494c2b175a23",
   "metadata": {},
   "outputs": [
    {
     "name": "stdout",
     "output_type": "stream",
     "text": [
      "[3, 2, 3, 4, 5, 6, 7]\n",
      "[1, 2, 3, 4, 5, 6, 7]\n"
     ]
    }
   ],
   "source": [
    "a = [1,2,3,4,5,6,7]\n",
    "b = a.copy()\n",
    "#b =a[:]\n",
    "a[0] = 3\n",
    "print(a,b,sep=\"\\n\")"
   ]
  },
  {
   "cell_type": "code",
   "execution_count": 44,
   "id": "8bf0011a-98ad-493b-8ce4-5e400d28d563",
   "metadata": {},
   "outputs": [
    {
     "data": {
      "text/plain": [
       "[1, 2, 3, 4, 5]"
      ]
     },
     "execution_count": 44,
     "metadata": {},
     "output_type": "execute_result"
    }
   ],
   "source": [
    "# append 는 리스트 형태로 뿌려주고 extend는 인덱스로 분해해서 넣어줌\n",
    "a = [1, 2, 3]\n",
    "#a.append([4,5])\n",
    "a.extend([4,5])\n",
    "a"
   ]
  },
  {
   "cell_type": "code",
   "execution_count": 45,
   "id": "e739c961-1f43-4022-b1ec-8c1632a4f4bf",
   "metadata": {},
   "outputs": [
    {
     "data": {
      "text/plain": [
       "[1, 2, 3, 4, 5, 'H', 'e', 'l', 'l', 'o']"
      ]
     },
     "execution_count": 45,
     "metadata": {},
     "output_type": "execute_result"
    }
   ],
   "source": [
    "a.extend(\"Hello\")\n",
    "a"
   ]
  },
  {
   "cell_type": "markdown",
   "id": "cccd39e0-3c91-4946-9449-57c7df01f49e",
   "metadata": {},
   "source": [
    "### 컴프리헨션(comprehansion)"
   ]
  },
  {
   "cell_type": "code",
   "execution_count": 47,
   "id": "5b498c61-2850-4e56-b05b-f0e1072b9134",
   "metadata": {},
   "outputs": [
    {
     "name": "stdout",
     "output_type": "stream",
     "text": [
      "2\n",
      "4\n",
      "6\n",
      "8\n",
      "10\n"
     ]
    }
   ],
   "source": [
    "mylist = [1,2,3,4,5,6,7,8,9,10]\n",
    "for i in mylist:\n",
    "    if i % 2== 0:\n",
    "        print(i)"
   ]
  },
  {
   "cell_type": "code",
   "execution_count": 48,
   "id": "c7b1865a-aa33-44f4-9889-e75c423c2015",
   "metadata": {},
   "outputs": [
    {
     "name": "stdout",
     "output_type": "stream",
     "text": [
      "[2, 4, 6, 8, 10]\n"
     ]
    }
   ],
   "source": [
    "mylist = [1,2,3,4,5,6,7,8,9,10]\n",
    "even = []\n",
    "for i in mylist:\n",
    "    if i % 2== 0:\n",
    "        even.append(i)\n",
    "print(even)"
   ]
  },
  {
   "cell_type": "code",
   "execution_count": 49,
   "id": "ee15a29e-363a-4754-819b-17c4715ea115",
   "metadata": {},
   "outputs": [
    {
     "data": {
      "text/plain": [
       "[2, 4, 6, 8, 10]"
      ]
     },
     "execution_count": 49,
     "metadata": {},
     "output_type": "execute_result"
    }
   ],
   "source": [
    "mylist = [1,2,3,4,5,6,7,8,9,10]\n",
    "even2 = [i for i in mylist if i%2==0]\n",
    "even2"
   ]
  },
  {
   "cell_type": "code",
   "execution_count": 50,
   "id": "e324a3d9-2d38-4c01-a30f-5f23d5aa090e",
   "metadata": {},
   "outputs": [
    {
     "data": {
      "text/plain": [
       "[4, 16, 36, 64, 100]"
      ]
     },
     "execution_count": 50,
     "metadata": {},
     "output_type": "execute_result"
    }
   ],
   "source": [
    "even3 = [i**2 for i in mylist if i%2==0]\n",
    "even3"
   ]
  },
  {
   "cell_type": "code",
   "execution_count": 51,
   "id": "b1425a6c-fdfc-4579-8a9b-9b44d12c0076",
   "metadata": {},
   "outputs": [
    {
     "name": "stdout",
     "output_type": "stream",
     "text": [
      "[0, 4, 16, 36, 64]\n"
     ]
    }
   ],
   "source": [
    "squares = [x**2 for x in range(10) if x % 2 ==0]\n",
    "print(squares)"
   ]
  },
  {
   "cell_type": "code",
   "execution_count": 52,
   "id": "ff6b24b2-1a43-456d-ba26-a26ae7c905b3",
   "metadata": {},
   "outputs": [
    {
     "data": {
      "text/plain": [
       "['사과', '바나나', '오렌지', '좋은파인애플']"
      ]
     },
     "execution_count": 52,
     "metadata": {},
     "output_type": "execute_result"
    }
   ],
   "source": [
    "f = [\"사과\", \"바나나\", \"오렌지\", \"파인애플\"]\n",
    "f2 = [\"좋은\" +i if len(i)>3 else i for i in f]\n",
    "f2"
   ]
  },
  {
   "cell_type": "code",
   "execution_count": 53,
   "id": "9a33cab8-3297-46c3-93c0-b148dc75a5e7",
   "metadata": {},
   "outputs": [
    {
     "data": {
      "text/plain": [
       "{2: 4, 4: 16, 6: 36, 8: 64, 10: 100}"
      ]
     },
     "execution_count": 53,
     "metadata": {},
     "output_type": "execute_result"
    }
   ],
   "source": [
    "even4 = {i:i**2 for i in mylist if i%2==0}\n",
    "even4"
   ]
  },
  {
   "cell_type": "code",
   "execution_count": 54,
   "id": "1c848250-bbf5-4906-849f-5f558f8ea8d2",
   "metadata": {},
   "outputs": [
    {
     "data": {
      "text/plain": [
       "{'kim': 35, 'lee': 30}"
      ]
     },
     "execution_count": 54,
     "metadata": {},
     "output_type": "execute_result"
    }
   ],
   "source": [
    "d = {\"kim\":35, \"lee\":30, \"park\":25}\n",
    "d2 = {k:v for (k,v) in d. items() if v>=30}\n",
    "d2"
   ]
  },
  {
   "cell_type": "code",
   "execution_count": 55,
   "id": "37a0d044-d9cf-4e3e-916c-92967759649b",
   "metadata": {},
   "outputs": [
    {
     "data": {
      "text/plain": [
       "{'우유': 2073.0, '커피': 6219.0, '빵': 3455.0}"
      ]
     },
     "execution_count": 55,
     "metadata": {},
     "output_type": "execute_result"
    }
   ],
   "source": [
    "price ={\"우유\":1.5,\"커피\":4.5,\"빵\":2.5}\n",
    "price2 = {k:v*1382 for (k,v) in price.items()}\n",
    "price2"
   ]
  },
  {
   "cell_type": "code",
   "execution_count": 56,
   "id": "629aa361-a7d5-4e7d-b648-7e4363d1a979",
   "metadata": {},
   "outputs": [
    {
     "name": "stdout",
     "output_type": "stream",
     "text": [
      "{'a': 97, 'b': 98, 'c': 99, 'd': 100, 'e': 101, 'f': 102, 'g': 103, 'h': 104, 'i': 105, 'j': 106, 'k': 107, 'l': 108, 'm': 109, 'n': 110, 'o': 111, 'p': 112, 'q': 113, 'r': 114, 's': 115, 't': 116, 'u': 117, 'v': 118, 'w': 119, 'x': 120, 'y': 121, 'z': 122}\n"
     ]
    }
   ],
   "source": [
    "ascii_values = {chr(i) : i for i in range(97,123)}\n",
    "print(ascii_values)"
   ]
  },
  {
   "cell_type": "markdown",
   "id": "d025bcf9-33a7-40ae-98bb-f534f81ccb25",
   "metadata": {},
   "source": [
    "### 리스트 추가 메서드"
   ]
  },
  {
   "cell_type": "code",
   "execution_count": 58,
   "id": "e726345d-a73a-4413-b3f0-58e4e1eed1c9",
   "metadata": {},
   "outputs": [
    {
     "data": {
      "text/plain": [
       "[]"
      ]
     },
     "execution_count": 58,
     "metadata": {},
     "output_type": "execute_result"
    }
   ],
   "source": [
    "# 완전삭제\n",
    "a = [1,2]\n",
    "a.clear()\n",
    "a"
   ]
  },
  {
   "cell_type": "code",
   "execution_count": 59,
   "id": "78fd8655-123e-4002-8f00-57440ab367f4",
   "metadata": {},
   "outputs": [
    {
     "name": "stdout",
     "output_type": "stream",
     "text": [
      "3\n"
     ]
    }
   ],
   "source": [
    "a = [5,3,9]\n",
    "# 최소값\n",
    "print(min(a))"
   ]
  },
  {
   "cell_type": "code",
   "execution_count": 60,
   "id": "2eb49f8a-9565-4988-abde-717cfdcc82e1",
   "metadata": {},
   "outputs": [
    {
     "name": "stdout",
     "output_type": "stream",
     "text": [
      "9\n"
     ]
    }
   ],
   "source": [
    "# 최대값\n",
    "print(max(a))"
   ]
  },
  {
   "cell_type": "code",
   "execution_count": 61,
   "id": "6d2b1e9d-65f1-4d0b-9c8a-0bc62b467f7c",
   "metadata": {},
   "outputs": [
    {
     "name": "stdout",
     "output_type": "stream",
     "text": [
      "17\n"
     ]
    }
   ],
   "source": [
    "# 합계\n",
    "print(sum(a))"
   ]
  },
  {
   "cell_type": "markdown",
   "id": "4d17790a-29ac-47b8-a199-cf4db82f1cd5",
   "metadata": {},
   "source": [
    "## 튜플"
   ]
  },
  {
   "cell_type": "code",
   "execution_count": 63,
   "id": "8486ad76-03f0-454c-b106-585423796259",
   "metadata": {},
   "outputs": [
    {
     "data": {
      "text/plain": [
       "tuple"
      ]
     },
     "execution_count": 63,
     "metadata": {},
     "output_type": "execute_result"
    }
   ],
   "source": [
    "t1 = ()\n",
    "# 요소가 1개만 있다면 ,찍어줘야지 튜플이 된다\n",
    "t2 = (1,)\n",
    "t3 = (1, 2, 3)\n",
    "type(t3)\n",
    "t4 = 1, 2, 3\n",
    "type(t4)\n",
    "t5 = (\"a\", \"b\", (\"ab\",\"cd\"))\n",
    "type(t2)"
   ]
  },
  {
   "cell_type": "code",
   "execution_count": 64,
   "id": "05b45d6a-eb50-46a9-a31d-f9ed88db70f8",
   "metadata": {},
   "outputs": [
    {
     "data": {
      "text/plain": [
       "'b'"
      ]
     },
     "execution_count": 64,
     "metadata": {},
     "output_type": "execute_result"
    }
   ],
   "source": [
    "t5[1]"
   ]
  },
  {
   "cell_type": "code",
   "execution_count": 65,
   "id": "8f491b8d-4a67-427b-a0bc-6d9d7bf3da39",
   "metadata": {},
   "outputs": [
    {
     "ename": "TypeError",
     "evalue": "'tuple' object doesn't support item deletion",
     "output_type": "error",
     "traceback": [
      "\u001b[1;31m---------------------------------------------------------------------------\u001b[0m",
      "\u001b[1;31mTypeError\u001b[0m                                 Traceback (most recent call last)",
      "Cell \u001b[1;32mIn[65], line 1\u001b[0m\n\u001b[1;32m----> 1\u001b[0m \u001b[38;5;28;01mdel\u001b[39;00m t5[\u001b[38;5;241m1\u001b[39m]\n",
      "\u001b[1;31mTypeError\u001b[0m: 'tuple' object doesn't support item deletion"
     ]
    }
   ],
   "source": [
    "del t5[1]"
   ]
  },
  {
   "cell_type": "code",
   "execution_count": null,
   "id": "fb247e64-b863-411c-93ec-4519a95f2eee",
   "metadata": {},
   "outputs": [],
   "source": [
    "# 리스트는 수정이 되지만 튜플은 수정이 안됨"
   ]
  },
  {
   "cell_type": "code",
   "execution_count": 66,
   "id": "0d455531-1f6a-4be1-a6fb-f3bd191b9105",
   "metadata": {},
   "outputs": [
    {
     "data": {
      "text/plain": [
       "tuple"
      ]
     },
     "execution_count": 66,
     "metadata": {},
     "output_type": "execute_result"
    }
   ],
   "source": [
    "type(t5)"
   ]
  },
  {
   "cell_type": "code",
   "execution_count": 68,
   "id": "ea517e15-e7a1-4f04-b145-be8b19d3f0d9",
   "metadata": {},
   "outputs": [
    {
     "name": "stdout",
     "output_type": "stream",
     "text": [
      "['a', 'b', ('ab', 'cd')]\n"
     ]
    }
   ],
   "source": [
    "t6 = list(t5)\n",
    "print(t6)"
   ]
  },
  {
   "cell_type": "code",
   "execution_count": 70,
   "id": "c26ad2cb-1376-4866-869f-c556adbe5c14",
   "metadata": {},
   "outputs": [
    {
     "data": {
      "text/plain": [
       "'b'"
      ]
     },
     "execution_count": 70,
     "metadata": {},
     "output_type": "execute_result"
    }
   ],
   "source": [
    "t1 = (1, 2, 'a','b')\n",
    "t1[3]"
   ]
  },
  {
   "cell_type": "code",
   "execution_count": 72,
   "id": "c8ea0199-a60f-43e7-838c-0ebb66bc07b6",
   "metadata": {},
   "outputs": [
    {
     "data": {
      "text/plain": [
       "(2, 'a', 'b')"
      ]
     },
     "execution_count": 72,
     "metadata": {},
     "output_type": "execute_result"
    }
   ],
   "source": [
    "t1[1:]"
   ]
  },
  {
   "cell_type": "code",
   "execution_count": 74,
   "id": "321885c9-d111-4ec3-aa86-3a4007fd3ca5",
   "metadata": {},
   "outputs": [],
   "source": [
    "t1 =(1, 2, 'a','b')"
   ]
  },
  {
   "cell_type": "code",
   "execution_count": 76,
   "id": "5455a4ec-3f8c-49ce-8116-42ea4e934f37",
   "metadata": {},
   "outputs": [
    {
     "data": {
      "text/plain": [
       "(1, 2, 'a', 'b', 3, 4)"
      ]
     },
     "execution_count": 76,
     "metadata": {},
     "output_type": "execute_result"
    }
   ],
   "source": [
    "t2 = (3, 4)\n",
    "t1 + t2"
   ]
  },
  {
   "cell_type": "code",
   "execution_count": 77,
   "id": "e9954e8e-c4ac-40b1-8939-71c1872dd785",
   "metadata": {},
   "outputs": [
    {
     "data": {
      "text/plain": [
       "(3, 4, 3, 4, 3, 4)"
      ]
     },
     "execution_count": 77,
     "metadata": {},
     "output_type": "execute_result"
    }
   ],
   "source": [
    "t3 = t2 * 3\n",
    "t3"
   ]
  },
  {
   "cell_type": "code",
   "execution_count": 80,
   "id": "e4a7245f-ed2e-475e-af0a-13e8148afc20",
   "metadata": {},
   "outputs": [
    {
     "data": {
      "text/plain": [
       "4"
      ]
     },
     "execution_count": 80,
     "metadata": {},
     "output_type": "execute_result"
    }
   ],
   "source": [
    "len(t1)"
   ]
  },
  {
   "cell_type": "markdown",
   "id": "126c8bc5-d1b2-4c50-a671-d7b7049c5a86",
   "metadata": {},
   "source": [
    "## 딕셔너리"
   ]
  },
  {
   "cell_type": "code",
   "execution_count": 83,
   "id": "04247724-5c31-4dd1-844c-fdfc5be4a5cb",
   "metadata": {},
   "outputs": [
    {
     "data": {
      "text/plain": [
       "'010-9999-1234'"
      ]
     },
     "execution_count": 83,
     "metadata": {},
     "output_type": "execute_result"
    }
   ],
   "source": [
    "a = {'name':'pey','phone':'010-9999-1234','birth':\"1118\"}\n",
    "a1 = {1: \"hi\"}\n",
    "a2 = {'a': [1, 2, 3]}\n",
    "a['name']\n",
    "a['phone']"
   ]
  },
  {
   "cell_type": "code",
   "execution_count": 84,
   "id": "1d926214-94c4-47bf-9751-b37f0ec45721",
   "metadata": {},
   "outputs": [
    {
     "data": {
      "text/plain": [
       "{'name': 'pey', 'phone': '010-9999-1234', 'birth': '1118', 'height': 100}"
      ]
     },
     "execution_count": 84,
     "metadata": {},
     "output_type": "execute_result"
    }
   ],
   "source": [
    "a['height'] = 100\n",
    "a"
   ]
  },
  {
   "cell_type": "code",
   "execution_count": 85,
   "id": "3c0bb1e8-25d7-44e5-b5c9-28fca553e774",
   "metadata": {},
   "outputs": [
    {
     "data": {
      "text/plain": [
       "['name', 'phone', 'birth']"
      ]
     },
     "execution_count": 85,
     "metadata": {},
     "output_type": "execute_result"
    }
   ],
   "source": [
    "a = {'name':'pey','phone':'010-9999-1234','birth':\"1118\"}\n",
    "b = list(a.keys())\n",
    "b"
   ]
  },
  {
   "cell_type": "code",
   "execution_count": 87,
   "id": "84b63382-a9a3-4fed-902d-95cb32bf300d",
   "metadata": {},
   "outputs": [
    {
     "name": "stdout",
     "output_type": "stream",
     "text": [
      "name\n",
      "phone\n",
      "birth\n"
     ]
    }
   ],
   "source": [
    "for k in a.keys():\n",
    "    print(k)"
   ]
  },
  {
   "cell_type": "code",
   "execution_count": 90,
   "id": "57a5287e-f65a-49e1-8f02-0b2e03a2a4f7",
   "metadata": {},
   "outputs": [
    {
     "data": {
      "text/plain": [
       "['pey', '010-9999-1234', '1118']"
      ]
     },
     "execution_count": 90,
     "metadata": {},
     "output_type": "execute_result"
    }
   ],
   "source": [
    "list(a.values())"
   ]
  },
  {
   "cell_type": "code",
   "execution_count": 91,
   "id": "9fd8db39-99e1-4f77-b254-9543585f6af8",
   "metadata": {},
   "outputs": [
    {
     "data": {
      "text/plain": [
       "[('name', 'pey'), ('phone', '010-9999-1234'), ('birth', '1118')]"
      ]
     },
     "execution_count": 91,
     "metadata": {},
     "output_type": "execute_result"
    }
   ],
   "source": [
    "list(a.items())"
   ]
  },
  {
   "cell_type": "code",
   "execution_count": 93,
   "id": "ab2b549d-8b0e-4b40-9985-a9f462eb33cd",
   "metadata": {},
   "outputs": [
    {
     "data": {
      "text/plain": [
       "'pey'"
      ]
     },
     "execution_count": 93,
     "metadata": {},
     "output_type": "execute_result"
    }
   ],
   "source": [
    "# 딕셔너리 값 호출\n",
    "a['name']"
   ]
  },
  {
   "cell_type": "code",
   "execution_count": 95,
   "id": "0bb91d50-f453-43ab-8396-ce342c101dc2",
   "metadata": {},
   "outputs": [
    {
     "data": {
      "text/plain": [
       "'pey'"
      ]
     },
     "execution_count": 95,
     "metadata": {},
     "output_type": "execute_result"
    }
   ],
   "source": [
    "# 딕셔너리 값 호출(없으면 None)\n",
    "a.get('name')"
   ]
  },
  {
   "cell_type": "code",
   "execution_count": 97,
   "id": "94de689d-ef23-40e8-bbe0-0fe7d571caa9",
   "metadata": {},
   "outputs": [
    {
     "data": {
      "text/plain": [
       "NoneType"
      ]
     },
     "execution_count": 97,
     "metadata": {},
     "output_type": "execute_result"
    }
   ],
   "source": [
    "type(a.get('age'))"
   ]
  },
  {
   "cell_type": "code",
   "execution_count": 99,
   "id": "1dc4620b-fbaa-4399-94ad-80d6987a3e42",
   "metadata": {},
   "outputs": [
    {
     "ename": "KeyError",
     "evalue": "'age'",
     "output_type": "error",
     "traceback": [
      "\u001b[1;31m---------------------------------------------------------------------------\u001b[0m",
      "\u001b[1;31mKeyError\u001b[0m                                  Traceback (most recent call last)",
      "Cell \u001b[1;32mIn[99], line 2\u001b[0m\n\u001b[0;32m      1\u001b[0m \u001b[38;5;66;03m# 값이 없으면 에러\u001b[39;00m\n\u001b[1;32m----> 2\u001b[0m a[\u001b[38;5;124m'\u001b[39m\u001b[38;5;124mage\u001b[39m\u001b[38;5;124m'\u001b[39m]\n",
      "\u001b[1;31mKeyError\u001b[0m: 'age'"
     ]
    }
   ],
   "source": [
    "# 값이 없으면 에러\n",
    "a['age']"
   ]
  },
  {
   "cell_type": "code",
   "execution_count": null,
   "id": "994b6c97-2a43-4328-9e04-1ed6b597568a",
   "metadata": {},
   "outputs": [],
   "source": [
    "# 기본값 처리\n",
    "a.get('age',45)"
   ]
  },
  {
   "cell_type": "code",
   "execution_count": null,
   "id": "918e8346-2af1-430d-9256-154d26f1a61c",
   "metadata": {},
   "outputs": [],
   "source": [
    "a = {'name':'pey','phone':'010-9999-1234','birth':\"1118\"}\n",
    "'age' in a"
   ]
  },
  {
   "cell_type": "code",
   "execution_count": null,
   "id": "807ce00a-28d0-4942-9b01-275410fdafc1",
   "metadata": {},
   "outputs": [],
   "source": [
    "student_records = [\n",
    "    (\"John\",\"A\",95),\n",
    "    (\"Lisa\",\"B\",85),\n",
    "    (\"Mike\",\"A\",92)\n",
    "]\n",
    "\n",
    "for name, grade, score in student_records:\n",
    "    print(f\"학생:{name},등급: {grade}, 점수: {score}\")\n",
    "    "
   ]
  },
  {
   "cell_type": "code",
   "execution_count": 100,
   "id": "8f635483-ec58-471b-8ce3-88fa4fef4b50",
   "metadata": {},
   "outputs": [
    {
     "data": {
      "text/plain": [
       "{'a': 1, 'b': 2, 'c': 3}"
      ]
     },
     "execution_count": 100,
     "metadata": {},
     "output_type": "execute_result"
    }
   ],
   "source": [
    "a = [('a',1),('b',2),('c',3)]\n",
    "b = dict(a)\n",
    "b"
   ]
  },
  {
   "cell_type": "code",
   "execution_count": 101,
   "id": "bde1a44c-7bb7-4c7d-a7eb-617c53925b6b",
   "metadata": {},
   "outputs": [
    {
     "data": {
      "text/plain": [
       "{'김밥': 5000, '떡볶이': 5500, '튀김': 3000}"
      ]
     },
     "execution_count": 101,
     "metadata": {},
     "output_type": "execute_result"
    }
   ],
   "source": [
    "menu = dict(김밥=5000,떡볶이=5500,튀김=3000)\n",
    "menu"
   ]
  },
  {
   "cell_type": "code",
   "execution_count": 106,
   "id": "d77805dc-ecdd-45b1-be70-95731bc3cc9a",
   "metadata": {},
   "outputs": [
    {
     "data": {
      "text/plain": [
       "{'a': 1, 'b': 2, 'c': 3}"
      ]
     },
     "execution_count": 106,
     "metadata": {},
     "output_type": "execute_result"
    }
   ],
   "source": [
    "a =['a','b','c']\n",
    "b = [1,2,3]\n",
    "dict(zip(a,b))"
   ]
  },
  {
   "cell_type": "code",
   "execution_count": 109,
   "id": "bcfa39fd-ee90-403b-9867-c5f8a2632b0a",
   "metadata": {},
   "outputs": [
    {
     "name": "stdout",
     "output_type": "stream",
     "text": [
      "('a', 1)\n",
      "('b', 2)\n",
      "('c', 3)\n"
     ]
    }
   ],
   "source": [
    "z = zip(a,b)\n",
    "for i in z:\n",
    "    print(i)"
   ]
  },
  {
   "cell_type": "code",
   "execution_count": 146,
   "id": "0330d1c8-0792-478a-885d-482580ca5ff0",
   "metadata": {},
   "outputs": [
    {
     "data": {
      "text/plain": [
       "{'C001': {'이름': '김철수',\n",
       "  '나이': 35,\n",
       "  '성별': '남성',\n",
       "  '구매금액': 150000,\n",
       "  '구매날짜': '2024-03-15'},\n",
       " 'C002': {'이름': '이영희',\n",
       "  '나이': 28,\n",
       "  '성별': '여성',\n",
       "  '구매금액': 280000,\n",
       "  '구매날짜': '2024-03-14'},\n",
       " 'C003': {'이름': '박민수',\n",
       "  '나이': 42,\n",
       "  '성별': '남성',\n",
       "  '구매금액': 95000,\n",
       "  '구매날짜': '2024-03-13'}}"
      ]
     },
     "execution_count": 146,
     "metadata": {},
     "output_type": "execute_result"
    }
   ],
   "source": [
    "# 튜플 데이터 :( 고객ID, 이름, 나이, 성별, 구매금액, 구매날짜)\n",
    "customer_tuples = [\n",
    "    (\"C001\", \"김철수\", 35, \"남성\", 150000, \"2024-03-15\"),\n",
    "    (\"C002\", \"이영희\", 28, \"여성\", 280000, \"2024-03-14\"),\n",
    "    (\"C003\", \"박민수\", 42, \"남성\", 95000, \"2024-03-13\")\n",
    "]\n",
    "\n",
    "# 딕셔너리로 변환\n",
    "customer_dict = {\n",
    "    customer[0]: {\n",
    "        \"이름\" : customer[1],\n",
    "        \"나이\" : customer[2],\n",
    "        \"성별\" : customer[3],\n",
    "        \"구매금액\" : customer[4],\n",
    "        \"구매날짜\" : customer[5],\n",
    "    } for customer in customer_tuples\n",
    "}\n",
    "customer_dict"
   ]
  },
  {
   "cell_type": "code",
   "execution_count": 150,
   "id": "f641ee3d-58ab-4647-a1e8-f73cdc2448d9",
   "metadata": {},
   "outputs": [],
   "source": [
    "a = [{\"이름\": \"홍길동\", \"생일\": \"3월1일\"},\n",
    "     {\"이름\": \"이순신\", \"생일\": \"5월1일\"},\n",
    "     {\"이름\": \"강감찬\", \"생일\": \"7월1일\"}\n",
    "    ]"
   ]
  },
  {
   "cell_type": "code",
   "execution_count": 168,
   "id": "57c88c3f-aa13-4125-836c-47a1c165ead6",
   "metadata": {},
   "outputs": [
    {
     "name": "stdin",
     "output_type": "stream",
     "text": [
      "이름은? s\n"
     ]
    },
    {
     "name": "stdout",
     "output_type": "stream",
     "text": [
      "없는 이름입니다.\n"
     ]
    }
   ],
   "source": [
    "name = input(\"이름은?\")\n",
    "for i in range(len(a)):\n",
    "    if a[i][\"이름\"] == name:\n",
    "         print(a[i][\"생일\"])\n",
    "    else:\n",
    "        print(\"없는 이름입니다.\")\n",
    "        break;\n",
    "                 \n",
    "                 "
   ]
  },
  {
   "cell_type": "code",
   "execution_count": 188,
   "id": "264f2648-82f0-4bce-aa2e-1441b12e5069",
   "metadata": {},
   "outputs": [
    {
     "data": {
      "text/plain": [
       "[{'제품코드': 'P001',\n",
       "  '제품명': '노트북',\n",
       "  '카테고리': '전자기기',\n",
       "  '재고수량': 50,\n",
       "  '가격': 1200000,\n",
       "  '입고일': '2024-02-01'},\n",
       " {'제품코드': 'P002',\n",
       "  '제품명': '스마트폰',\n",
       "  '카테고리': '전자기기',\n",
       "  '재고수량': 100,\n",
       "  '가격': 850000,\n",
       "  '입고일': '2024-02-15'},\n",
       " {'제품코드': 'P003',\n",
       "  '제품명': '이어폰',\n",
       "  '카테고리': '엑세서리',\n",
       "  '재고수량': 200,\n",
       "  '가격': 180000,\n",
       "  '입고일': '2024-03-01'}]"
      ]
     },
     "execution_count": 188,
     "metadata": {},
     "output_type": "execute_result"
    }
   ],
   "source": [
    "# 튜플 데이터 :( 제품코드, 제품명, 카테고리, 재고수량, 가격, 입고일)\n",
    "inventory_tuples = [\n",
    "    (\"P001\", \"노트북\", \"전자기기\", 50, 1200000,\"2024-02-01\"),\n",
    "    (\"P002\", \"스마트폰\", \"전자기기\", 100, 850000, \"2024-02-15\"),\n",
    "    (\"P003\", \"이어폰\", \"엑세서리\", 200, 180000, \"2024-03-01\")\n",
    "]\n",
    "\n",
    "\n",
    "inventory_dict = [\n",
    "     {\n",
    "         \"제품코드\" : item[0],\n",
    "         \"제품명\" : item[1],\n",
    "         \"카테고리\" : item[2],\n",
    "         \"재고수량\" : item[3],\n",
    "         \"가격\" : item[4],\n",
    "         \"입고일\" : item[5],\n",
    "    } for item in inventory_tuples\n",
    "]\n",
    "inventory_dict"
   ]
  },
  {
   "cell_type": "code",
   "execution_count": 172,
   "id": "1a2c076b-c62e-4d0b-9c16-1d131d6f984a",
   "metadata": {},
   "outputs": [
    {
     "data": {
      "text/plain": [
       "{'2024-03-15': {'방문자수': 1500, '페이지뷰': 4500, '평균체류시간': 185, '이탈률': 25.5},\n",
       " '2024-03-14': {'방문자수': 1400, '페이지뷰': 4200, '평균체류시간': 190, '이탈률': 23.8},\n",
       " '2024-03-13': {'방문자수': 1600, '페이지뷰': 4800, '평균체류시간': 178, '이탈률': 26.2}}"
      ]
     },
     "execution_count": 172,
     "metadata": {},
     "output_type": "execute_result"
    }
   ],
   "source": [
    "# 튜플 데이터 (날짜, 방문자수, 페이지뷰, 평균체류시간, 이탈률)\n",
    "traffic_tuples = [\n",
    "    (\"2024-03-15\", 1500, 4500, 185, 25.5),\n",
    "    (\"2024-03-14\", 1400, 4200, 190, 23.8),\n",
    "    (\"2024-03-13\", 1600, 4800, 178, 26.2)\n",
    "]\n",
    "traffic_dict = {\n",
    "    traffic[0]: {\n",
    "        \"방문자수\" : traffic[1],\n",
    "        \"페이지뷰\" : traffic[2],\n",
    "        \"평균체류시간\" : traffic[3],\n",
    "        \"이탈률\" : traffic[4],\n",
    "    } for traffic in traffic_tuples\n",
    "}\n",
    "traffic_tuples\n"
   ]
  },
  {
   "cell_type": "code",
   "execution_count": 201,
   "id": "279248ba-9204-44c0-b1ae-47ce0a93b876",
   "metadata": {},
   "outputs": [
    {
     "name": "stdin",
     "output_type": "stream",
     "text": [
      "날짜는?  2024-03-15\n"
     ]
    },
    {
     "name": "stdout",
     "output_type": "stream",
     "text": [
      "방문자수는 1500 입니다.\n",
      "페이지뷰는 4500 입니다.\n",
      "평균체류시간은 185 입니다.\n",
      "이탈률은 25.5 입니다.\n"
     ]
    }
   ],
   "source": [
    "traffic_tuples = [\n",
    "    (\"2024-03-15\", 1500, 4500, 185, 25.5),\n",
    "    (\"2024-03-14\", 1400, 4200, 190, 23.8),\n",
    "    (\"2024-03-13\", 1600, 4800, 178, 26.2)\n",
    "]\n",
    "traffic_dict = {\n",
    "    traffic[0]: {\n",
    "        \"방문자수\": traffic[1],\n",
    "        \"페이지뷰\": traffic[2],\n",
    "        \"평균체류시간\": traffic[3],\n",
    "        \"이탈률\": traffic[4]\n",
    "    } for traffic in traffic_tuples\n",
    "}\n",
    "\n",
    "name = input(\"날짜는? \")\n",
    "\n",
    "if name in traffic_dict:\n",
    "    data = traffic_dict[name]\n",
    "    print(f\"방문자수는 {data['방문자수']} 입니다.\")\n",
    "    print(f\"페이지뷰는 {data['페이지뷰']} 입니다.\")\n",
    "    print(f\"평균체류시간은 {data['평균체류시간']} 입니다.\")\n",
    "    print(f\"이탈률은 {data['이탈률']} 입니다.\")\n",
    "else:\n",
    "    print(\"해당 날짜의 데이터가 없습니다.\")\n"
   ]
  },
  {
   "cell_type": "code",
   "execution_count": 259,
   "id": "8d9d8600-04e8-4dd5-b5f4-9a9ae5a29284",
   "metadata": {},
   "outputs": [
    {
     "name": "stdin",
     "output_type": "stream",
     "text": [
      "지역? 서울\n"
     ]
    },
    {
     "name": "stdout",
     "output_type": "stream",
     "text": [
      "매장 코드: 5001\n",
      "일일간매액: 5000000원\n",
      "방문객수: 200명\n",
      "평균구매액: 25000원\n",
      "직원수: 8명\n"
     ]
    }
   ],
   "source": [
    "store_sales_tuples = [\n",
    "    (\"5001\", \"서울\", 5000000, 200, 25000, 8),\n",
    "    (\"5002\", \"부산\", 3500000, 150, 23000, 6),\n",
    "    (\"5003\", \"대구\", 2800000, 120, 23500, 5),\n",
    "]\n",
    "\n",
    "store_sales_dict = {\n",
    "    store_sales[0]: {\n",
    "        \"지역\": store_sales[1],\n",
    "        \"일일간매액\": store_sales[2],\n",
    "        \"방문객수\": store_sales[3],\n",
    "        \"평균구매액\": store_sales[4],\n",
    "        \"직원수\": store_sales[5]\n",
    "    }\n",
    "    for store_sales in store_sales_tuples\n",
    "}\n",
    "\n",
    "name = input(\"지역?\")\n",
    "\n",
    "\n",
    "for store_code, data in store_sales_dict.items():\n",
    "    if data[\"지역\"] == name:\n",
    "        print(f\"매장 코드: {store_code}\")\n",
    "        print(f\"일일간매액: {data['일일간매액']}원\")\n",
    "        print(f\"방문객수: {data['방문객수']}명\")\n",
    "        print(f\"평균구매액: {data['평균구매액']}원\")\n",
    "        print(f\"직원수: {data['직원수']}명\")\n"
   ]
  },
  {
   "cell_type": "code",
   "execution_count": 243,
   "id": "5d0f2b3c-dcba-4325-ad0d-7bf7d6cb265c",
   "metadata": {},
   "outputs": [
    {
     "data": {
      "text/plain": [
       "'짝수'"
      ]
     },
     "execution_count": 243,
     "metadata": {},
     "output_type": "execute_result"
    }
   ],
   "source": [
    "# 파이썬 삼항연산자\n",
    "x = 10\n",
    "result = \"짝수\" if x % 2 == 0 else \"홀수\"\n",
    "result"
   ]
  },
  {
   "cell_type": "code",
   "execution_count": 245,
   "id": "da2c6483-2cf8-4fc9-b860-b41f009d9e41",
   "metadata": {},
   "outputs": [
    {
     "name": "stdout",
     "output_type": "stream",
     "text": [
      "성인\n"
     ]
    }
   ],
   "source": [
    "age = 18\n",
    "status = \"성인\" if age >= 18 else \"미성년자\"\n",
    "print(status)"
   ]
  },
  {
   "cell_type": "code",
   "execution_count": 249,
   "id": "22871fe4-c854-4c49-98fa-c8e8d3dbb24f",
   "metadata": {},
   "outputs": [
    {
     "name": "stdout",
     "output_type": "stream",
     "text": [
      "B\n"
     ]
    }
   ],
   "source": [
    "score = 85\n",
    "grade = \"A\" if score >= 90 else (\"B\" if score >= 80 else \"C\")\n",
    "print(grade)"
   ]
  },
  {
   "cell_type": "code",
   "execution_count": 255,
   "id": "09bbedb2-6667-4af8-8723-93f0c8f93105",
   "metadata": {},
   "outputs": [
    {
     "name": "stdout",
     "output_type": "stream",
     "text": [
      "['합격', '불합격', '불합격', '합격', '합격']\n"
     ]
    }
   ],
   "source": [
    "numbers = [67, 45, 30, 84, 95]\n",
    "result = [\"합격\" if n >= 60 else \"불합격\" for n in numbers]\n",
    "print(result)"
   ]
  },
  {
   "cell_type": "markdown",
   "id": "b866104f-88cd-4790-8254-958bb8326ec7",
   "metadata": {},
   "source": [
    "### enumerate"
   ]
  },
  {
   "cell_type": "code",
   "execution_count": 262,
   "id": "bf493f3b-1169-4b50-b2f7-ff7a48cd813e",
   "metadata": {},
   "outputs": [
    {
     "name": "stdout",
     "output_type": "stream",
     "text": [
      "0 apple\n",
      "1 banana\n",
      "2 cherry\n"
     ]
    }
   ],
   "source": [
    "fruits = [\"apple\", \"banana\", \"cherry\"]\n",
    "\n",
    "for index, fruit in enumerate(fruits):\n",
    "    print(index , fruit)"
   ]
  },
  {
   "cell_type": "code",
   "execution_count": 268,
   "id": "e1c235fe-aba9-453b-a7ed-54054a26a6a0",
   "metadata": {},
   "outputs": [
    {
     "name": "stdout",
     "output_type": "stream",
     "text": [
      "[100, 400, 900, 1600]\n"
     ]
    }
   ],
   "source": [
    "numbers = [10, 20, 30, 40]\n",
    "squared_numbers = [number**2 for index, number in enumerate(numbers)]\n",
    "print(squared_numbers)"
   ]
  },
  {
   "cell_type": "markdown",
   "id": "5ff7d373-7ccd-43c9-a849-675c688f6688",
   "metadata": {},
   "source": [
    "### 집합(set)"
   ]
  },
  {
   "cell_type": "code",
   "execution_count": 271,
   "id": "2ef64427-3df3-4f25-9311-eefd12963433",
   "metadata": {},
   "outputs": [
    {
     "name": "stdout",
     "output_type": "stream",
     "text": [
      "{1, 2, 3, 4, 5}\n"
     ]
    }
   ],
   "source": [
    "my_list = [1, 2, 2, 3, 4, 4, 5]\n",
    "my_set = set(my_list)\n",
    "print(my_set)"
   ]
  },
  {
   "cell_type": "markdown",
   "id": "aa085873-22a2-41d3-9a4b-cc359d7b6f14",
   "metadata": {},
   "source": [
    "### 활용"
   ]
  },
  {
   "cell_type": "code",
   "execution_count": 278,
   "id": "e2aa5445-9e1e-43bd-b61c-78ccf27a555e",
   "metadata": {},
   "outputs": [
    {
     "name": "stdout",
     "output_type": "stream",
     "text": [
      "245000\n",
      "280000\n"
     ]
    }
   ],
   "source": [
    "customer_dict = {\n",
    "    \"C001\" : {\"이름\": \"김철수\", \"나이\": 35, \"성별\": \"남성\", \"구매금액\" : 150000, \"구매날짜\" : \"2024-03-15\"},\n",
    "    \"C002\" : {\"이름\": \"이영희\", \"나이\": 28, \"성별\": \"여성\", \"구매금액\" : 280000, \"구매날짜\" : \"2024-03-14\"},\n",
    "    \"C003\" : {\"이름\": \"박민수\", \"나이\": 42, \"성별\": \"남성\", \"구매금액\" : 95000, \"구매날짜\" : \"2024-03-13\"}\n",
    "\n",
    "}\n",
    "\n",
    "# 성별 편균 구매금액 계산\n",
    "gender_totals = {\"남성\": [], \"여성\": []}\n",
    "for customer_id, info in customer_dict.items():\n",
    "    gender_totals[info[\"성별\"]].append(info[\"구매금액\"])\n",
    "\n",
    "print(sum(gender_totals[\"남성\"]))\n",
    "print(sum(gender_totals[\"여성\"]))"
   ]
  },
  {
   "cell_type": "code",
   "execution_count": 292,
   "id": "f99cb7c0-1a7d-4d9b-bb90-8a2b191ffa4f",
   "metadata": {},
   "outputs": [
    {
     "name": "stdout",
     "output_type": "stream",
     "text": [
      "카테고리별 재고 금액: {'전자기기': 145000000, '엑세서리': 36000000}\n"
     ]
    }
   ],
   "source": [
    "inventory_dict = {\n",
    "    \"P001\" : {\"제품명\": \"노트북\", \"카테고리\": \"전자기기\", \"재고수량\": 50, \"가격\" : 1200000, \"입고일\" : \"2024-02-01\"},\n",
    "    \"P002\" : {\"제품명\": \"스마트폰\", \"카테고리\": \"전자기기\", \"재고수량\": 100, \"가격\" : 850000, \"입고일\" : \"2024-02-15\"},\n",
    "    \"P003\" : {\"제품명\": \"이어폰\", \"카테고리\": \"엑세서리\", \"재고수량\": 200, \"가격\" : 180000, \"구매날짜\" : \"2024-03-01\"}\n",
    "}\n",
    "category_stock_value = {}\n",
    "for product_id, info in inventory_dict.items():\n",
    "    if info[\"카테고리\"] in category_stock_value:\n",
    "       category_stock_value[info[\"카테고리\"]] += info[\"재고수량\"] * info[\"가격\"]\n",
    "    else:\n",
    "       category_stock_value[info[\"카테고리\"]] = info[\"재고수량\"] * info[\"가격\"]\n",
    "\n",
    "print(\"카테고리별 재고 금액:\", category_stock_value)\n",
    "\n",
    "\n"
   ]
  },
  {
   "cell_type": "code",
   "execution_count": 366,
   "id": "2c06a921-88ee-45d7-95de-1bf2aa0cb75a",
   "metadata": {},
   "outputs": [
    {
     "name": "stdout",
     "output_type": "stream",
     "text": [
      "일별 사용자당 페이지뷰: {'2024-03-15': 3.0, '2024-03-14': 4.4, '2024-03-13': 2.3}\n"
     ]
    }
   ],
   "source": [
    "traffic_dict = {\n",
    "    \"2024-03-15\": {\"방문자수\": 1500, \"페이지뷰\": 4500, \"평균체류시간\": 185, \"이탈률\": 25.5},\n",
    "    \"2024-03-14\": {\"방문자수\": 1400, \"페이지뷰\": 6200, \"평균체류시간\": 190, \"이탈률\": 23.8},\n",
    "    \"2024-03-13\": {\"방문자수\": 2100, \"페이지뷰\": 4800, \"평균체류시간\": 178, \"이탈률\": 26.2}\n",
    "}\n",
    "#일별 사용자당 페이지뷰 계산\n",
    "daily_pages_per_visior ={}\n",
    "for date_id, info in traffic_dict.items():\n",
    "    daily_pages_per_visior[date_id] = round(info[\"페이지뷰\"]/info[\"방문자수\"],1)\n",
    "\n",
    "# daily_pages_per_visior ={\n",
    "#     date_id:round(info[\"페이지뷰\"]/info[\"방문자수\"],1)\n",
    "#     for date_id, info in traffic_dict.items()\n",
    "# }\n",
    "\n",
    "print(\"일별 사용자당 페이지뷰:\", daily_pages_per_visior)\n",
    "    "
   ]
  },
  {
   "cell_type": "code",
   "execution_count": 40,
   "id": "32a97fe3-223a-4b30-80df-a64a62d978d0",
   "metadata": {},
   "outputs": [
    {
     "name": "stdout",
     "output_type": "stream",
     "text": [
      "직원 1인당 매출액: {'S001': 625000, 'S002': 583333, 'S003': 560000}\n"
     ]
    }
   ],
   "source": [
    "store_sales_dict = {\n",
    "    \"S001\": {\"지역\": \"서울\", \"일일판매액\": 5000000, \"방문객수\": 200, \"평균구매액\": 25000, \"직원수\": 8},\n",
    "    \"S002\": {\"지역\": \"부산\", \"일일판매액\": 3500000, \"방문객수\": 150, \"평균구매액\": 23000, \"직원수\": 6},\n",
    "    \"S003\": {\"지역\": \"대구\", \"일일판매액\": 2800000, \"방문객수\": 120, \"평균구매액\": 23500, \"직원수\": 5}\n",
    "}\n",
    "\n",
    "# 직원 1인당 매출액 계산\n",
    "staff_sell ={}\n",
    "for staff_id, info in store_sales_dict.items():\n",
    "    staff_sell[staff_id] = round(info[\"일일판매액\"] / info[\"직원수\"])\n",
    "print(\"직원 1인당 매출액:\",staff_sell)\n",
    "\n",
    "    \n"
   ]
  },
  {
   "cell_type": "code",
   "execution_count": 28,
   "id": "e1965859-1ff1-4e7a-a0fd-8904a17c3b23",
   "metadata": {},
   "outputs": [
    {
     "name": "stdout",
     "output_type": "stream",
     "text": [
      "매장별 직원 생산성 :  {'S001': {'지역': '서울', '직원당매출': 625000.0}, 'S002': {'지역': '부산', '직원당매출': 583333.3333333334}, 'S003': {'지역': '대구', '직원당매출': 560000.0}}\n"
     ]
    }
   ],
   "source": [
    "store_sales_dict = {\n",
    "    \"S001\": {\"지역\": \"서울\", \"일일판매액\": 5000000, \"방문객수\": 200, \"평균구매액\": 25000, \"직원수\": 8},\n",
    "    \"S002\": {\"지역\": \"부산\", \"일일판매액\": 3500000, \"방문객수\": 150, \"평균구매액\": 23000, \"직원수\": 6},\n",
    "    \"S003\": {\"지역\": \"대구\", \"일일판매액\": 2800000, \"방문객수\": 120, \"평균구매액\": 23500, \"직원수\": 5}\n",
    "}\n",
    "employee_productibity = {\n",
    "    staff_id : {\n",
    "        \"지역\" : info[\"지역\"],\n",
    "        \"직원당매출\" : info[\"일일판매액\"] / info[\"직원수\"]\n",
    "    }\n",
    "    for staff_id, info in store_sales_dict.items():\n",
    "print(\"매장별 직원 생산성 : \", employee_productibity)"
   ]
  },
  {
   "cell_type": "code",
   "execution_count": 1,
   "id": "7fd17934-eaf9-45b2-b954-1dfc6317a575",
   "metadata": {},
   "outputs": [
    {
     "name": "stdout",
     "output_type": "stream",
     "text": [
      "평균 별점: {'P001': 4, 'P002': 5}\n"
     ]
    }
   ],
   "source": [
    "feedback_dict = {\n",
    "    \"R001\": {\"제품ID\": \"P001\", \"평점\": 4.5, \"리뷰내용\": \"매우 만족합니다\", \"작성일\": \"2024-03-15\", \"추천수\": 10},\n",
    "    \"R002\": {\"제품ID\": \"P001\", \"평점\": 3.5, \"리뷰내용\": \"보통입니다\", \"작성일\": \"2024-03-14\", \"추천수\": 5},\n",
    "    \"R003\": {\"제품ID\": \"P002\", \"평점\": 5.0, \"리뷰내용\": \"최고의 제품\", \"작성일\": \"2024-03-13\", \"추천수\": 15}\n",
    "}\n",
    "\n",
    "# 제품별 평균 평점 계산\n",
    "product_aver={}\n",
    "i = {}\n",
    "for average_id, info in feedback_dict.items():\n",
    "    \n",
    "      if info[\"평점\"] in product_aver:\n",
    "        product_aver[info[\"제품ID\"]] += round(info[\"평점\"]) / i\n",
    "      else:\n",
    "          product_aver[info[\"제품ID\"]] = round(info[\"평점\"])\n",
    "\n",
    "print(\"평균 별점:\",product_aver)\n",
    "          \n",
    "       "
   ]
  },
  {
   "cell_type": "code",
   "execution_count": 3,
   "id": "b83c7a78-55d8-4683-baed-df1bc5b499c9",
   "metadata": {},
   "outputs": [
    {
     "name": "stdout",
     "output_type": "stream",
     "text": [
      "제품 P001의 평균 평점: 4.00\n",
      "제품 P002의 평균 평점: 5.00\n",
      "제품 P003의 평균 평점: 1.00\n"
     ]
    }
   ],
   "source": [
    "feedback_dict = {\n",
    "    \"R001\": {\"제품ID\": \"P001\", \"평점\": 4.5, \"리뷰내용\": \"매우 만족합니다\", \"작성일\": \"2024-03-15\", \"추천수\": 10},\n",
    "    \"R002\": {\"제품ID\": \"P001\", \"평점\": 3.5, \"리뷰내용\": \"보통입니다\", \"작성일\": \"2024-03-14\", \"추천수\": 5},\n",
    "    \"R003\": {\"제품ID\": \"P002\", \"평점\": 5.0, \"리뷰내용\": \"최고의 제품\", \"작성일\": \"2024-03-13\", \"추천수\": 15},\n",
    "    \"R004\": {\"제품ID\": \"P003\", \"평점\": 1.0, \"리뷰내용\": \"매우 불만족합니다\", \"작성일\": \"2024-03-15\", \"추천수\": 10}\n",
    "}\n",
    "\n",
    "# 제품별 평균 평점 계산\n",
    "product_aver = {}\n",
    "\n",
    "for review_id, info in feedback_dict.items():\n",
    "    product_id = info[\"제품ID\"]\n",
    "    rating = info[\"평점\"]\n",
    "    \n",
    "    if product_id in product_aver:\n",
    "        product_aver[product_id][\"sum\"] += rating\n",
    "        product_aver[product_id][\"count\"] += 1\n",
    "    else:\n",
    "        product_aver[product_id] = {\"sum\": rating, \"count\": 1}\n",
    "\n",
    "# 평균 계산 후 출력\n",
    "for product_id, data in product_aver.items():\n",
    "    avg_rating = data[\"sum\"] / data[\"count\"]\n",
    "    print(f\"제품 {product_id}의 평균 평점: {avg_rating:.2f}\")\n"
   ]
  },
  {
   "cell_type": "code",
   "execution_count": null,
   "id": "d05c7003-6e05-436c-82f7-29e045a06041",
   "metadata": {},
   "outputs": [],
   "source": []
  }
 ],
 "metadata": {
  "kernelspec": {
   "display_name": "Python 3 (ipykernel)",
   "language": "python",
   "name": "python3"
  },
  "language_info": {
   "codemirror_mode": {
    "name": "ipython",
    "version": 3
   },
   "file_extension": ".py",
   "mimetype": "text/x-python",
   "name": "python",
   "nbconvert_exporter": "python",
   "pygments_lexer": "ipython3",
   "version": "3.12.7"
  }
 },
 "nbformat": 4,
 "nbformat_minor": 5
}
