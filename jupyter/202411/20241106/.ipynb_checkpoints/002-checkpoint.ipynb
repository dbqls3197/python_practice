{
 "cells": [
  {
   "cell_type": "code",
   "execution_count": 1,
   "id": "9bbf7d67-96d2-4678-95b2-1f70feccdfd4",
   "metadata": {},
   "outputs": [
    {
     "name": "stdout",
     "output_type": "stream",
     "text": [
      "True\n",
      "False\n"
     ]
    }
   ],
   "source": [
    "print(\"안녕\"in\"안녕하세요\")\n",
    "print(\"굿모닝\" in \"안녕하세요\")"
   ]
  },
  {
   "cell_type": "markdown",
   "id": "4bce42f3-dc70-4465-87c0-39a089a07fb0",
   "metadata": {},
   "source": [
    "### 조건"
   ]
  },
  {
   "cell_type": "code",
   "execution_count": 3,
   "id": "d9794a28-345c-4864-94a6-9d9c8e57c331",
   "metadata": {},
   "outputs": [
    {
     "name": "stdout",
     "output_type": "stream",
     "text": [
      "'W'가 문자열에 포함되어 있어요\n",
      "The End!!!\n"
     ]
    }
   ],
   "source": [
    "# ==, !== , <, >, <=, >=\n",
    "text = \"Hello, World!\"\n",
    "if \"A\" in text:\n",
    "    print(\"'H'가 문자열에 포함되어있어요\")\n",
    "elif \"W\" in text:\n",
    "    print(\"'W'가 문자열에 포함되어 있어요\")\n",
    "else:\n",
    "    print(\"'H'가 문자열에 포함되어 있지 않습니다.\")\n",
    "\n",
    "print(\"The End!!!\")"
   ]
  },
  {
   "cell_type": "code",
   "execution_count": 4,
   "id": "f3d5ee14-cf97-4f79-a1e2-3b507f3500d1",
   "metadata": {},
   "outputs": [
    {
     "name": "stdout",
     "output_type": "stream",
     "text": [
      "니꺼\n"
     ]
    }
   ],
   "source": [
    "a = \"수박\"\n",
    "if a==\"사과\":\n",
    "    print(\"내꺼\")\n",
    "elif a==\"수박\":\n",
    "    print(\"니꺼\")\n",
    "else:\n",
    "    print(\"안먹음\")"
   ]
  },
  {
   "cell_type": "code",
   "execution_count": 5,
   "id": "aba47f6d-39b1-4fc9-a4a1-accec9509af9",
   "metadata": {},
   "outputs": [
    {
     "name": "stdin",
     "output_type": "stream",
     "text": [
      "점수는? 12\n"
     ]
    },
    {
     "name": "stdout",
     "output_type": "stream",
     "text": [
      "F\n"
     ]
    }
   ],
   "source": [
    "score = int(input(\"점수는?\"))\n",
    "if score >= 90:\n",
    "    print(\"A\")\n",
    "elif score >= 80:\n",
    "    print(\"B\")\n",
    "elif score >= 70:\n",
    "    print(\"C\")\n",
    "elif score >= 60:\n",
    "    print(\"D\")\n",
    "else:\n",
    "    print(\"F\")\n",
    "    "
   ]
  },
  {
   "cell_type": "code",
   "execution_count": 6,
   "id": "c6024daf-79d4-4742-b3bb-fd48a48cc2fc",
   "metadata": {},
   "outputs": [
    {
     "name": "stdout",
     "output_type": "stream",
     "text": [
      "1\n"
     ]
    }
   ],
   "source": [
    "a = 3\n",
    "b = 4\n",
    "\n",
    "if a==3 and b==4:\n",
    "    print (\"1\")\n",
    "else:\n",
    "    print(\"2\")\n",
    "    "
   ]
  },
  {
   "cell_type": "code",
   "execution_count": 7,
   "id": "5904ae90-260f-4d7c-9a6c-b2c08cabc2bd",
   "metadata": {},
   "outputs": [
    {
     "name": "stdin",
     "output_type": "stream",
     "text": [
      "정수를 입력하세요 12\n"
     ]
    },
    {
     "name": "stdout",
     "output_type": "stream",
     "text": [
      "짝수입니다\n"
     ]
    }
   ],
   "source": [
    "number = int(input(\"정수를 입력하세요\"))\n",
    "if number % 2 ==0:\n",
    "    print(\"짝수입니다\")\n",
    "else:\n",
    "    print(\"홀수입니다\")"
   ]
  },
  {
   "cell_type": "code",
   "execution_count": 8,
   "id": "9b6b7aa0-5d1e-4b12-9a6f-ed9d2921bbfe",
   "metadata": {},
   "outputs": [
    {
     "name": "stdin",
     "output_type": "stream",
     "text": [
      "나이를 입력하세요: 12\n"
     ]
    },
    {
     "name": "stdout",
     "output_type": "stream",
     "text": [
      "어린이입니다\n"
     ]
    }
   ],
   "source": [
    "age = int(input(\"나이를 입력하세요:\")) # 노인, 성인, 청소년(20), 어린이 구분\n",
    "if age <= 12:\n",
    "    print(\"어린이입니다\")\n",
    "elif age <= 19:\n",
    "    print(\"청소년입니다\")\n",
    "elif age <= 64:\n",
    "    print(\"성인입니다\")\n",
    "else:\n",
    "    print(\"노인입니다\")"
   ]
  },
  {
   "cell_type": "code",
   "execution_count": 9,
   "id": "7360aee1-a35c-46f1-b6b4-ec7be1d5068a",
   "metadata": {},
   "outputs": [
    {
     "name": "stdin",
     "output_type": "stream",
     "text": [
      "사용자 이름을 입력하세요:  12\n",
      "비밀번호를 입력하세요:  12\n"
     ]
    },
    {
     "name": "stdout",
     "output_type": "stream",
     "text": [
      "로그인 실패\n"
     ]
    }
   ],
   "source": [
    "username = input(\"사용자 이름을 입력하세요: \")\n",
    "password = input(\"비밀번호를 입력하세요: \")\n",
    "\n",
    "uid = \"admin\"\n",
    "upw = \"1234\"\n",
    "\n",
    "if username ==uid and password == upw:\n",
    "    print(\"로그인 성공\")\n",
    "else:\n",
    "    print(\"로그인 실패\")"
   ]
  },
  {
   "cell_type": "code",
   "execution_count": 10,
   "id": "70332376-4edf-4e3b-95a5-dc8fa00cea30",
   "metadata": {},
   "outputs": [
    {
     "name": "stdin",
     "output_type": "stream",
     "text": [
      "문자열을 입력하세요: 12\n"
     ]
    },
    {
     "name": "stdout",
     "output_type": "stream",
     "text": [
      "문자열이 너무 짧습니다.\n"
     ]
    }
   ],
   "source": [
    "text = input(\"문자열을 입력하세요:\")\n",
    "\n",
    "if len(text) < 5:\n",
    "    print(\"문자열이 너무 짧습니다.\")\n",
    "elif len(text) > 20:\n",
    "    print(\"문자열이 너무 깁니다.\")\n",
    "else:\n",
    "    print(\"문자열 길이가 적당합니다.\")"
   ]
  },
  {
   "cell_type": "code",
   "execution_count": 11,
   "id": "0ce7f404-76ec-47eb-9ff3-b9d3c95521b0",
   "metadata": {},
   "outputs": [
    {
     "name": "stdin",
     "output_type": "stream",
     "text": [
      "현재 온도를 입력하세요 (c): 12\n"
     ]
    },
    {
     "name": "stdout",
     "output_type": "stream",
     "text": [
      "날씨가 시원합니다.\n"
     ]
    }
   ],
   "source": [
    "temperature  = float(input(\"현재 온도를 입력하세요 (c):\"))\n",
    "\n",
    "if temperature < 0:\n",
    "    print(\"날씨가 춥습니다.\")\n",
    "elif 0 <= temperature <= 20:\n",
    "    print(\"날씨가 시원합니다.\")\n",
    "elif 20 < temperature <= 30:\n",
    "    print(\"날씨가 따듯합니다.\")\n",
    "else:\n",
    "    print(\"날씨가 덥습니다.\")"
   ]
  },
  {
   "cell_type": "markdown",
   "id": "43ac3b05-5e99-455b-b8d0-f7f16eaadd2a",
   "metadata": {},
   "source": [
    "### 반복 (for)"
   ]
  },
  {
   "cell_type": "code",
   "execution_count": 13,
   "id": "da990cb8-7d78-4f3e-9ace-84b25bdcae1d",
   "metadata": {},
   "outputs": [
    {
     "name": "stdout",
     "output_type": "stream",
     "text": [
      "s\n",
      "e\n",
      "j\n",
      "o\n",
      "n\n",
      "g\n"
     ]
    }
   ],
   "source": [
    "for i in \"sejong\":\n",
    "    print(i,end=\"\\n\")"
   ]
  },
  {
   "cell_type": "code",
   "execution_count": 14,
   "id": "6a6592d0-8690-46f7-b78b-da81664d73d0",
   "metadata": {},
   "outputs": [
    {
     "name": "stdout",
     "output_type": "stream",
     "text": [
      "파이썬\n",
      "파이썬\n",
      "파이썬\n",
      "파이썬\n",
      "파이썬\n",
      "파이썬\n",
      "파이썬\n",
      "파이썬\n"
     ]
    }
   ],
   "source": [
    "for i in range(2,10):\n",
    "    print(\"파이썬\")\n",
    "    #print(i)"
   ]
  },
  {
   "cell_type": "code",
   "execution_count": 15,
   "id": "7653fa04-2660-494c-9c5e-8cb6465d426d",
   "metadata": {},
   "outputs": [
    {
     "name": "stdout",
     "output_type": "stream",
     "text": [
      "2 X 1 = 2\n",
      "2 X 2 = 4\n",
      "2 X 3 = 6\n",
      "2 X 4 = 8\n",
      "2 X 5 = 10\n",
      "2 X 6 = 12\n",
      "2 X 7 = 14\n",
      "2 X 8 = 16\n",
      "2 X 9 = 18\n"
     ]
    }
   ],
   "source": [
    "i = 2\n",
    "for j in range(1,10):\n",
    "    print(f\"{i} X {j} = {i*j}\")"
   ]
  },
  {
   "cell_type": "code",
   "execution_count": 31,
   "id": "d0849af8-295b-4a5c-8faf-0bdbff7803c8",
   "metadata": {},
   "outputs": [
    {
     "name": "stdout",
     "output_type": "stream",
     "text": [
      "1 X 1 = 1\t1 X 2 = 2\t1 X 3 = 3\t1 X 4 = 4\t1 X 5 = 5\t1 X 6 = 6\t1 X 7 = 7\t1 X 8 = 8\t1 X 9 = 9\t\n",
      "2 X 1 = 2\t2 X 2 = 4\t2 X 3 = 6\t2 X 4 = 8\t2 X 5 = 10\t2 X 6 = 12\t2 X 7 = 14\t2 X 8 = 16\t2 X 9 = 18\t\n",
      "3 X 1 = 3\t3 X 2 = 6\t3 X 3 = 9\t3 X 4 = 12\t3 X 5 = 15\t3 X 6 = 18\t3 X 7 = 21\t3 X 8 = 24\t3 X 9 = 27\t\n",
      "4 X 1 = 4\t4 X 2 = 8\t4 X 3 = 12\t4 X 4 = 16\t4 X 5 = 20\t4 X 6 = 24\t4 X 7 = 28\t4 X 8 = 32\t4 X 9 = 36\t\n",
      "5 X 1 = 5\t5 X 2 = 10\t5 X 3 = 15\t5 X 4 = 20\t5 X 5 = 25\t5 X 6 = 30\t5 X 7 = 35\t5 X 8 = 40\t5 X 9 = 45\t\n",
      "6 X 1 = 6\t6 X 2 = 12\t6 X 3 = 18\t6 X 4 = 24\t6 X 5 = 30\t6 X 6 = 36\t6 X 7 = 42\t6 X 8 = 48\t6 X 9 = 54\t\n",
      "7 X 1 = 7\t7 X 2 = 14\t7 X 3 = 21\t7 X 4 = 28\t7 X 5 = 35\t7 X 6 = 42\t7 X 7 = 49\t7 X 8 = 56\t7 X 9 = 63\t\n",
      "8 X 1 = 8\t8 X 2 = 16\t8 X 3 = 24\t8 X 4 = 32\t8 X 5 = 40\t8 X 6 = 48\t8 X 7 = 56\t8 X 8 = 64\t8 X 9 = 72\t\n",
      "9 X 1 = 9\t9 X 2 = 18\t9 X 3 = 27\t9 X 4 = 36\t9 X 5 = 45\t9 X 6 = 54\t9 X 7 = 63\t9 X 8 = 72\t9 X 9 = 81\t\n"
     ]
    }
   ],
   "source": [
    "for i in range(1,10):\n",
    "    for j in range(1,10):\n",
    "         print(f\"{i} X {j} = {i * j}\",end=\"\\t\")\n",
    "    print()"
   ]
  },
  {
   "cell_type": "code",
   "execution_count": 62,
   "id": "1551216f-a4d6-4449-8e10-597977376a36",
   "metadata": {},
   "outputs": [
    {
     "name": "stdout",
     "output_type": "stream",
     "text": [
      "*\n",
      "**\n",
      "***\n",
      "****\n",
      "*****\n",
      "******\n",
      "*******\n",
      "********\n",
      "*********\n",
      "**********\n"
     ]
    }
   ],
   "source": [
    "for j in range(1, 11):\n",
    "    for i in \"*\":\n",
    "        print(f\"{i * j}\")"
   ]
  },
  {
   "cell_type": "code",
   "execution_count": 78,
   "id": "594a38af-9a1a-4df4-bf35-a2e02c10664f",
   "metadata": {},
   "outputs": [
    {
     "name": "stdout",
     "output_type": "stream",
     "text": [
      "*\n",
      "**\n",
      "***\n",
      "****\n",
      "*****\n",
      "******\n",
      "*******\n",
      "********\n",
      "*********\n",
      "**********\n"
     ]
    }
   ],
   "source": [
    "for i in range(1, 11):\n",
    "    for j in range(i):\n",
    "        print('*', end=\"\")\n",
    "    print()"
   ]
  },
  {
   "cell_type": "code",
   "execution_count": 100,
   "id": "5749e6f2-c989-4c5b-8d34-15a65e888b94",
   "metadata": {},
   "outputs": [
    {
     "name": "stdout",
     "output_type": "stream",
     "text": [
      "55\n"
     ]
    }
   ],
   "source": [
    "# 1 부터 10 까지 합\n",
    "total = 0\n",
    "for i in range(1,11):\n",
    "    total += i\n",
    "print(total)"
   ]
  },
  {
   "cell_type": "code",
   "execution_count": 106,
   "id": "95291c5c-1964-4ff4-aa26-13167ebc2c5c",
   "metadata": {},
   "outputs": [
    {
     "name": "stdout",
     "output_type": "stream",
     "text": [
      "과일 : 사과\n",
      "과일 : 바나나\n",
      "과일 : 체리\n"
     ]
    }
   ],
   "source": [
    "fruits = [\"사과\", \"바나나\", \"체리\"]\n",
    "for fruit in fruits:\n",
    "    print(f\"과일 : {fruit}\")"
   ]
  },
  {
   "cell_type": "code",
   "execution_count": 114,
   "id": "10a7e8ce-5a47-437e-afa9-6ffaa98aa0ac",
   "metadata": {},
   "outputs": [
    {
     "name": "stdout",
     "output_type": "stream",
     "text": [
      "2\n",
      "4\n",
      "6\n",
      "8\n",
      "10\n"
     ]
    }
   ],
   "source": [
    "for i in range(1, 11):\n",
    "    if i % 2 ==0:\n",
    "        print(i)"
   ]
  },
  {
   "cell_type": "code",
   "execution_count": 124,
   "id": "9eda3015-b7e4-45a5-9459-4b25f2905d23",
   "metadata": {},
   "outputs": [
    {
     "name": "stdout",
     "output_type": "stream",
     "text": [
      "20이 리스트에 있습니다.\n"
     ]
    }
   ],
   "source": [
    "numbers = [10, 20, 30, 40, 50]\n",
    "target = 20\n",
    "found = False\n",
    "\n",
    "for number in numbers:\n",
    "    if number == target:\n",
    "        found = True\n",
    "        break\n",
    "\n",
    "if found:\n",
    "    print(f\"{target}이 리스트에 있습니다.\")\n",
    "else:\n",
    "    print(f\"{target}이 리스트에 없습니다.\")\n"
   ]
  },
  {
   "cell_type": "code",
   "execution_count": 177,
   "id": "00789c14-33a8-4e51-a331-26994a5424ca",
   "metadata": {},
   "outputs": [
    {
     "name": "stdout",
     "output_type": "stream",
     "text": [
      "1번 학생은 합격입니다\n",
      "2번 학생은 불합격입니다\n",
      "3번 학생은 합격입니다\n",
      "4번 학생은 불합격입니다\n",
      "5번 학생은 합격입니다\n"
     ]
    }
   ],
   "source": [
    "marks = [90, 25, 67, 45, 80]\n",
    "number = 0\n",
    "for mark in marks:\n",
    "    #break\n",
    "    #continue\n",
    "    number +=1\n",
    "    if mark >= 60:\n",
    "        print(f\"{number}번 학생은 합격입니다\")\n",
    "    elif mark < 60:\n",
    "        print(f\"{number}번 학생은 불합격입니다\")"
   ]
  },
  {
   "cell_type": "code",
   "execution_count": 185,
   "id": "1667a6ba-6cd6-4fb8-8ce2-4423e430c6f4",
   "metadata": {},
   "outputs": [
    {
     "name": "stdout",
     "output_type": "stream",
     "text": [
      "1번 학생은 합격입니다\n",
      "3번 학생은 합격입니다\n",
      "5번 학생은 합격입니다\n"
     ]
    }
   ],
   "source": [
    "marks = [90, 25, 67, 45, 80]\n",
    "number = 0\n",
    "for mark in marks:\n",
    "    number +=1\n",
    "    if mark < 60:\n",
    "        continue\n",
    "    print(f\"{number}번 학생은 합격입니다\")"
   ]
  },
  {
   "cell_type": "code",
   "execution_count": 191,
   "id": "5427f7a3-49ec-4e30-9047-410da7de6b8a",
   "metadata": {},
   "outputs": [
    {
     "name": "stdout",
     "output_type": "stream",
     "text": [
      "1번 학생은 합격입니다\n",
      "3번 학생은 합격입니다\n",
      "5번 학생은 합격입니다\n"
     ]
    }
   ],
   "source": [
    "marks = [90, 25, 67, 45, 80]\n",
    "\n",
    "for number in range(len(marks)):\n",
    "    if marks[number] < 60:\n",
    "        continue\n",
    "    print(f\"{number+1}번 학생은 합격입니다\")"
   ]
  },
  {
   "cell_type": "code",
   "execution_count": 203,
   "id": "2bbfe673-52e3-48a8-ac2a-338d92aacffc",
   "metadata": {},
   "outputs": [
    {
     "name": "stdout",
     "output_type": "stream",
     "text": [
      "모음의 개수: 3\n"
     ]
    }
   ],
   "source": [
    "text =\"Hello, World!\"\n",
    "vowels =\"aeiouAEIOU\"\n",
    "count = 0 \n",
    "\n",
    "# text 문장에서 모음의 개수 확인하기\n",
    "for i in text:\n",
    "    if i in vowels:\n",
    "        count += 1\n",
    "print(f\"모음의 개수: {count}\")\n"
   ]
  },
  {
   "cell_type": "markdown",
   "id": "d033f057-33bd-4e0b-8df6-964e543e3d65",
   "metadata": {},
   "source": [
    "### 문자열 구성 파악"
   ]
  },
  {
   "cell_type": "code",
   "execution_count": 211,
   "id": "656568f7-1d2a-44f7-ad9b-b9cf7a534d38",
   "metadata": {},
   "outputs": [
    {
     "name": "stdout",
     "output_type": "stream",
     "text": [
      "True\n"
     ]
    }
   ],
   "source": [
    "text = \"Hello\"\n",
    "print(text.isalpha()) # 문자열이 알파벳 문자로만 구성되어 있는지 확인"
   ]
  },
  {
   "cell_type": "code",
   "execution_count": 217,
   "id": "a80a062a-06d9-43a4-8f5b-c64397366cd6",
   "metadata": {},
   "outputs": [
    {
     "name": "stdout",
     "output_type": "stream",
     "text": [
      "True\n"
     ]
    }
   ],
   "source": [
    "text = \"12345\"\n",
    "print(text.isdigit())  # 문자열이 숫자(0~9)로만 구성되어 있는지 확이"
   ]
  },
  {
   "cell_type": "code",
   "execution_count": 223,
   "id": "12ab92b2-2444-400a-96eb-a74d0f195927",
   "metadata": {},
   "outputs": [
    {
     "name": "stdout",
     "output_type": "stream",
     "text": [
      "True\n"
     ]
    }
   ],
   "source": [
    "text = \"Hello123\"\n",
    "print(text.isalnum()) # 문자열이 알파벳 문자와 숫자만 포함하고 있는지 확인"
   ]
  },
  {
   "cell_type": "code",
   "execution_count": 227,
   "id": "75196275-1701-4b45-9c4f-5044f02727c2",
   "metadata": {},
   "outputs": [
    {
     "name": "stdout",
     "output_type": "stream",
     "text": [
      "True\n"
     ]
    }
   ],
   "source": [
    "text =\"HELLO\"\n",
    "print(text.isupper()) # 문자열의 모든 문자가 대문자인지 확인"
   ]
  },
  {
   "cell_type": "code",
   "execution_count": 231,
   "id": "b9f554ae-37b5-4a74-ab59-75b480a58ed5",
   "metadata": {},
   "outputs": [
    {
     "name": "stdout",
     "output_type": "stream",
     "text": [
      "True\n"
     ]
    }
   ],
   "source": [
    "text =\"hello\"\n",
    "print(text.islower()) # 문자열의 모든 문자가 소문자인지 확인"
   ]
  },
  {
   "cell_type": "code",
   "execution_count": 233,
   "id": "0239aa14-f489-41f9-b464-4316f1a1685c",
   "metadata": {},
   "outputs": [
    {
     "name": "stdout",
     "output_type": "stream",
     "text": [
      "True\n"
     ]
    }
   ],
   "source": [
    "text =\" \"\n",
    "print(text.isspace()) # 문자열이 공백 문자(스페이스, 텝 등)로만 구성되어 있는지 확인"
   ]
  },
  {
   "cell_type": "code",
   "execution_count": 243,
   "id": "cbcdebf8-00c8-4b7d-8078-46efe77eaba8",
   "metadata": {},
   "outputs": [
    {
     "name": "stdout",
     "output_type": "stream",
     "text": [
      "추출된 숫자: 123456\n"
     ]
    }
   ],
   "source": [
    "text = \"Hello123, World456!\"\n",
    "numbers =\"\"\n",
    "for char in text:\n",
    "    if char.isdigit():\n",
    "        numbers += char\n",
    "print(f\"추출된 숫자: {numbers}\")"
   ]
  },
  {
   "cell_type": "code",
   "execution_count": 249,
   "id": "65d0fb28-6fe4-4a47-b170-1f2dbef7eab8",
   "metadata": {},
   "outputs": [
    {
     "name": "stdout",
     "output_type": "stream",
     "text": [
      "대문자만 추출된 문자열: HW\n"
     ]
    }
   ],
   "source": [
    "text = \"Hello, World\"\n",
    "uppercase_letters =\"\"\n",
    "for char in text:\n",
    "    if char.isupper():\n",
    "        uppercase_letters += char\n",
    "print(f\"대문자만 추출된 문자열: {uppercase_letters}\")\n"
   ]
  },
  {
   "cell_type": "code",
   "execution_count": 255,
   "id": "fc113f1e-38fa-4db4-91c9-8e333e390a63",
   "metadata": {},
   "outputs": [
    {
     "name": "stdout",
     "output_type": "stream",
     "text": [
      "역순 문자열: !dlroW ,olleH\n"
     ]
    }
   ],
   "source": [
    "text = \"Hello, World!\"\n",
    "reversed_text =\"\"\n",
    "\n",
    "for char in text:\n",
    "    reversed_text = char + reversed_text\n",
    "print(f\"역순 문자열: {reversed_text}\")\n",
    "    "
   ]
  },
  {
   "cell_type": "markdown",
   "id": "b081cc99-34e8-41f8-8969-782b0a07ab32",
   "metadata": {},
   "source": [
    "### 반복문(while)\n"
   ]
  },
  {
   "cell_type": "code",
   "execution_count": 273,
   "id": "7f9250c8-afa7-4a43-987a-96d08299459a",
   "metadata": {},
   "outputs": [
    {
     "name": "stdout",
     "output_type": "stream",
     "text": [
      "나무를 1번 찍었습니다.\n",
      "나무를 2번 찍었습니다.\n",
      "나무를 3번 찍었습니다.\n",
      "나무를 4번 찍었습니다.\n",
      "나무를 5번 찍었습니다.\n",
      "나무를 6번 찍었습니다.\n",
      "나무를 7번 찍었습니다.\n",
      "나무를 8번 찍었습니다.\n",
      "나무를 9번 찍었습니다.\n",
      "나무를 10번 찍었습니다.\n",
      "나무 넘어갑니다.\n"
     ]
    }
   ],
   "source": [
    "treeHit = 0\n",
    "while treeHit < 10:\n",
    "    treeHit +=1\n",
    "    print(f\"나무를 {treeHit}번 찍었습니다.\")\n",
    "    if treeHit == 10:\n",
    "        print(\"나무 넘어갑니다.\")"
   ]
  },
  {
   "cell_type": "code",
   "execution_count": 283,
   "id": "5160939b-4fde-4aa2-94a1-d964da85e7db",
   "metadata": {},
   "outputs": [
    {
     "name": "stdout",
     "output_type": "stream",
     "text": [
      "돈을 받았으니 커피를 줍니다.\n",
      "남은 커피의 양은 2개 입니다\n",
      "돈을 받았으니 커피를 줍니다.\n",
      "남은 커피의 양은 1개 입니다\n",
      "돈을 받았으니 커피를 줍니다.\n",
      "남은 커피의 양은 0개 입니다\n",
      "커피가 떨어졌어요. 판매 중지합니다\n"
     ]
    }
   ],
   "source": [
    "coffee = 3\n",
    "money = 300\n",
    "while money:\n",
    "    print(\"돈을 받았으니 커피를 줍니다.\")\n",
    "    coffee -= 1\n",
    "    print(f\"남은 커피의 양은 {coffee}개 입니다\")\n",
    "    if coffee == 0:\n",
    "        print(\"커피가 떨어졌어요. 판매 중지합니다\")\n",
    "        break"
   ]
  },
  {
   "cell_type": "code",
   "execution_count": null,
   "id": "23856c2a-a6c3-4d75-8196-0571c172e55b",
   "metadata": {},
   "outputs": [
    {
     "name": "stdin",
     "output_type": "stream",
     "text": [
      "돈을 넣어 주세요 300\n"
     ]
    },
    {
     "name": "stdout",
     "output_type": "stream",
     "text": [
      "남은 커피의 양은9개 입니다\n"
     ]
    },
    {
     "name": "stdin",
     "output_type": "stream",
     "text": [
      "돈을 넣어 주세요 300\n"
     ]
    },
    {
     "name": "stdout",
     "output_type": "stream",
     "text": [
      "남은 커피의 양은8개 입니다\n"
     ]
    },
    {
     "name": "stdin",
     "output_type": "stream",
     "text": [
      "돈을 넣어 주세요 300\n"
     ]
    },
    {
     "name": "stdout",
     "output_type": "stream",
     "text": [
      "남은 커피의 양은7개 입니다\n"
     ]
    },
    {
     "name": "stdin",
     "output_type": "stream",
     "text": [
      "돈을 넣어 주세요 300\n"
     ]
    },
    {
     "name": "stdout",
     "output_type": "stream",
     "text": [
      "남은 커피의 양은6개 입니다\n"
     ]
    }
   ],
   "source": [
    "# 돈을 받는다 (input으로 받기)\n",
    "# 커피 한 잔 300원\n",
    "# 300원만 커피 주고\n",
    "# 300원 초과 커피 주고 거스름돈 주고\n",
    "# 300원 미만 거스름돈 돌려주고 커피 안주고\n",
    "# 커피 총 10잔이 다 떨어지면 판매 중지\n",
    "\n",
    "coffee = 10\n",
    "permoney = 300\n",
    "\n",
    "while True:\n",
    "    money = int(input(\"돈을 넣어 주세요\"))\n",
    "    if money == 300:\n",
    "        coffee -= 1\n",
    "        print(f\"남은 커피의 양은{coffee}개 입니다\")\n",
    "    "
   ]
  }
 ],
 "metadata": {
  "kernelspec": {
   "display_name": "Python 3 (ipykernel)",
   "language": "python",
   "name": "python3"
  },
  "language_info": {
   "codemirror_mode": {
    "name": "ipython",
    "version": 3
   },
   "file_extension": ".py",
   "mimetype": "text/x-python",
   "name": "python",
   "nbconvert_exporter": "python",
   "pygments_lexer": "ipython3",
   "version": "3.12.7"
  }
 },
 "nbformat": 4,
 "nbformat_minor": 5
}
