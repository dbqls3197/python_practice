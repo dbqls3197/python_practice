{
 "cells": [
  {
   "cell_type": "markdown",
   "id": "e2bbdace-3c20-4f22-9396-c4425202dabc",
   "metadata": {},
   "source": [
    "# 연산자"
   ]
  },
  {
   "cell_type": "markdown",
   "id": "93943561-1fd9-4711-95cc-3f2de8e3e209",
   "metadata": {},
   "source": [
    "'''\n",
    "== : 같다\n",
    "!= : 같지 않다\n",
    "> : 크다\n",
    "< : 작다\n",
    "\n",
    "+= :\n",
    "-= :\n",
    "*= :\n",
    "/= :\n",
    "\n",
    "* : 곱하기\n",
    "/ : 나누기\n",
    "// : 몫\n",
    "% : 나머지\n",
    "..."
   ]
  },
  {
   "cell_type": "code",
   "execution_count": 3,
   "id": "8c4fe1a7-de7b-4505-a83d-83e516bc3901",
   "metadata": {},
   "outputs": [
    {
     "name": "stdout",
     "output_type": "stream",
     "text": [
      "3.3333333333333335\n",
      "3\n",
      "1\n"
     ]
    }
   ],
   "source": [
    "a = 10\n",
    "b = 3\n",
    "print(a / b)\n",
    "print(a // b)\n",
    "print(a % b)"
   ]
  },
  {
   "cell_type": "code",
   "execution_count": 4,
   "id": "9998e14e-b0fd-4619-a750-6b6d44a7595c",
   "metadata": {},
   "outputs": [
    {
     "name": "stdout",
     "output_type": "stream",
     "text": [
      "7\n",
      "14\n",
      "2.0\n"
     ]
    }
   ],
   "source": [
    "c = 5\n",
    "c += 2\n",
    "print(c)\n",
    "c *= 2\n",
    "print(c)\n",
    "c /= 7\n",
    "print(c)\n"
   ]
  },
  {
   "cell_type": "code",
   "execution_count": 5,
   "id": "24e97437-b447-4f97-980e-21d263137491",
   "metadata": {},
   "outputs": [
    {
     "name": "stdout",
     "output_type": "stream",
     "text": [
      "25\n"
     ]
    }
   ],
   "source": [
    "c = 5\n",
    "d = c ** 2\n",
    "print(d)"
   ]
  },
  {
   "cell_type": "markdown",
   "id": "a01280d2-ee93-4074-a2ab-d3c5057914d8",
   "metadata": {},
   "source": [
    "### 문자열포멧팅"
   ]
  },
  {
   "cell_type": "code",
   "execution_count": 7,
   "id": "1a65717e-0990-4ccf-b067-85fe6f894912",
   "metadata": {},
   "outputs": [
    {
     "name": "stdout",
     "output_type": "stream",
     "text": [
      " I eat 3 apples.\n"
     ]
    }
   ],
   "source": [
    "a = \" I eat %d apples.\" %3\n",
    "print(a)"
   ]
  },
  {
   "cell_type": "code",
   "execution_count": 8,
   "id": "30b63cd6-26a4-4023-a89a-4e0f3c019d1b",
   "metadata": {},
   "outputs": [
    {
     "name": "stdout",
     "output_type": "stream",
     "text": [
      " I eat five apples.\n"
     ]
    }
   ],
   "source": [
    "a = \" I eat %s apples.\" %\"five\"\n",
    "print(a)"
   ]
  },
  {
   "cell_type": "code",
   "execution_count": 9,
   "id": "731e5b3b-e29a-4d98-87a8-f604ec482730",
   "metadata": {},
   "outputs": [
    {
     "name": "stdout",
     "output_type": "stream",
     "text": [
      "3\n"
     ]
    }
   ],
   "source": [
    "number = 3 \n",
    "\"I eat %d apples.\" % number\n",
    "print(number)"
   ]
  },
  {
   "cell_type": "code",
   "execution_count": 10,
   "id": "a3c10086-7426-47a5-8b1d-99e5a5251f22",
   "metadata": {},
   "outputs": [
    {
     "name": "stdout",
     "output_type": "stream",
     "text": [
      "I ate 10% apples. so I was sick for three days.\n"
     ]
    }
   ],
   "source": [
    "number = 10 \n",
    "day =\"three\"\n",
    "a = \"I ate %d%% apples. so I was sick for %s days.\" % (number, day)\n",
    "print(a)"
   ]
  },
  {
   "cell_type": "code",
   "execution_count": 11,
   "id": "464ed090-ed05-4d0a-8fdc-57545f973c5a",
   "metadata": {},
   "outputs": [
    {
     "name": "stdout",
     "output_type": "stream",
     "text": [
      "|        hi|\n",
      "|hi        |\n"
     ]
    }
   ],
   "source": [
    "str1 = \"|%10s|\" % \"hi\"\n",
    "print(str1)\n",
    "str2 = \"|%-10s|\" % \"hi\"\n",
    "print(str2)"
   ]
  },
  {
   "cell_type": "code",
   "execution_count": 12,
   "id": "4f1beb37-1da3-4438-ab12-7c82923248a1",
   "metadata": {},
   "outputs": [
    {
     "name": "stdout",
     "output_type": "stream",
     "text": [
      "|3.4213| |       3.4|\n"
     ]
    }
   ],
   "source": [
    "a = \"|%.4f|\" % 3.42134234\n",
    "b = \"|%10.1f|\" %3.41541346\n",
    "print(a,b)"
   ]
  },
  {
   "cell_type": "markdown",
   "id": "6e6d9eae-74ea-491c-a7ef-d8fff4934ac2",
   "metadata": {},
   "source": [
    "### format 함수를 활용한 포맷"
   ]
  },
  {
   "cell_type": "code",
   "execution_count": 20,
   "id": "c58e9fea-9d2a-4cd3-96c6-05042f387196",
   "metadata": {},
   "outputs": [
    {
     "name": "stdout",
     "output_type": "stream",
     "text": [
      "25\n",
      "김철수님은25살입니다.\n",
      "김철수님은25살입니다.\n",
      "김철수님은25살입니다.\n"
     ]
    }
   ],
   "source": [
    "이름 = \"김철수\"\n",
    "나이 = 25\n",
    "print(str(나이))\n",
    "\n",
    "print(이름 + \"님은\" + str(나이) + \"살입니다.\")\n",
    "print(f\"{이름}님은{나이}살입니다.\")\n",
    "print(\"{}님은{}살입니다.\".format(이름,나이))"
   ]
  },
  {
   "cell_type": "code",
   "execution_count": 15,
   "id": "177e2491-39e0-4747-87a4-679ad68822d5",
   "metadata": {},
   "outputs": [
    {
     "name": "stdout",
     "output_type": "stream",
     "text": [
      "I eat 3 apples\n"
     ]
    }
   ],
   "source": [
    "a= \"I eat {} apples\".format(3)\n",
    "print(a)"
   ]
  },
  {
   "cell_type": "code",
   "execution_count": 16,
   "id": "e69f82ac-345f-4be9-983d-c58f7c7c515e",
   "metadata": {},
   "outputs": [
    {
     "name": "stdout",
     "output_type": "stream",
     "text": [
      "I ate 10 apples. so I was sick for three days.\n"
     ]
    }
   ],
   "source": [
    "number = 10 \n",
    "day =\"three\"\n",
    "a = \"I ate {} apples. so I was sick for {} days.\".format(number, day)\n",
    "#a = \"I ate {1} apples. so I was sick for {0} days.\".format(number, day)\n",
    "print(a)"
   ]
  },
  {
   "cell_type": "code",
   "execution_count": 17,
   "id": "a6ebea09-3304-41bc-a32c-51e6ec28cd5c",
   "metadata": {},
   "outputs": [
    {
     "name": "stdout",
     "output_type": "stream",
     "text": [
      "I ate 10 apples. so I was sick for 3 days.\n"
     ]
    }
   ],
   "source": [
    "b = \"I ate {number} apples. so I was sick for {day} days.\".format(number=10, day=3)\n",
    "print(b)"
   ]
  },
  {
   "cell_type": "code",
   "execution_count": 27,
   "id": "4cffa4e5-cc4f-4498-8a75-c76f54a7458e",
   "metadata": {},
   "outputs": [
    {
     "name": "stdout",
     "output_type": "stream",
     "text": [
      "I ate 10 apples. so I was sick for 3 days.\n"
     ]
    }
   ],
   "source": [
    "c =\"I ate {} apples. so I was sick for {} days.\".format(10, \"3\")\n",
    "print(c)"
   ]
  },
  {
   "cell_type": "code",
   "execution_count": 19,
   "id": "1baf08f9-219b-462a-af21-ffd6c002cd64",
   "metadata": {},
   "outputs": [
    {
     "name": "stdout",
     "output_type": "stream",
     "text": [
      "|hi        |\n",
      "|        hi|\n",
      "|    hi    |\n",
      "|####hi####|\n",
      "|@@@@@@@@hi|\n",
      "|hi!!!!!!!!|\n"
     ]
    }
   ],
   "source": [
    "a = \"|{:<10}|\".format(\"hi\")\n",
    "b = \"|{:>10}|\".format(\"hi\")\n",
    "c = \"|{:^10}|\".format(\"hi\")\n",
    "\n",
    "d = \"|{:#^10}|\".format(\"hi\")\n",
    "e = \"|{:@>10}|\".format(\"hi\")\n",
    "f = \"|{:!<10}|\".format(\"hi\")\n",
    "print(a,b,c,d,e,f,sep=\"\\n\")"
   ]
  },
  {
   "cell_type": "code",
   "execution_count": 20,
   "id": "ab2dd8f4-a45e-4dd5-96ce-1137143ddf05",
   "metadata": {},
   "outputs": [
    {
     "name": "stdin",
     "output_type": "stream",
     "text": [
      "이름을 입력하세요: 12\n",
      "나이를 입력하세요: 12\n"
     ]
    },
    {
     "name": "stdout",
     "output_type": "stream",
     "text": [
      "안녕하세요,12님! 당신의 나이는12세입니다.\n"
     ]
    }
   ],
   "source": [
    "name = input(\"이름을 입력하세요:\")\n",
    "age = int(input(\"나이를 입력하세요:\"))\n",
    "output =\"안녕하세요,{}님! 당신의 나이는{}세입니다.\".format(name, age)\n",
    "print(output)"
   ]
  },
  {
   "cell_type": "code",
   "execution_count": 21,
   "id": "a5eeb875-8240-43c6-8911-7b90583b94c6",
   "metadata": {},
   "outputs": [
    {
     "name": "stdout",
     "output_type": "stream",
     "text": [
      "3.4213\n"
     ]
    }
   ],
   "source": [
    "y = 3.42132455\n",
    "a = \"{0:0.4f}\".format(y)\n",
    "print(a)"
   ]
  },
  {
   "cell_type": "code",
   "execution_count": 22,
   "id": "a262b8e6-de12-4f59-b5a3-e680cd5b690b",
   "metadata": {},
   "outputs": [
    {
     "name": "stdin",
     "output_type": "stream",
     "text": [
      "상품명을 입력하세요: 12\n",
      "가격을 입력하세요: 12\n"
     ]
    },
    {
     "name": "stdout",
     "output_type": "stream",
     "text": [
      "상품명: 12, 가격: 12.00원\n"
     ]
    }
   ],
   "source": [
    "product_name = input(\"상품명을 입력하세요:\")\n",
    "price = float(input(\"가격을 입력하세요:\"))\n",
    "output = \"상품명: {}, 가격: {:.2f}원\".format(product_name,price)\n",
    "print(output)"
   ]
  },
  {
   "cell_type": "code",
   "execution_count": 23,
   "id": "1d387214-00dd-43d8-8a9f-dae024d761e8",
   "metadata": {},
   "outputs": [
    {
     "name": "stdout",
     "output_type": "stream",
     "text": [
      "숫자 : 0005\n"
     ]
    }
   ],
   "source": [
    "number = 5\n",
    "output = \"숫자 : {:04d}\".format(number)\n",
    "print(output)"
   ]
  },
  {
   "cell_type": "code",
   "execution_count": 24,
   "id": "d630e74f-5d67-4df7-a933-f0e36e6b8558",
   "metadata": {},
   "outputs": [
    {
     "name": "stdout",
     "output_type": "stream",
     "text": [
      "가격: 123,456.79원\n"
     ]
    }
   ],
   "source": [
    "number = 123456.789\n",
    "output = \"가격: {:,.2f}원\".format (number)\n",
    "print(output)"
   ]
  },
  {
   "cell_type": "code",
   "execution_count": 25,
   "id": "9b118faf-dff8-4864-8ffb-fb42c4715026",
   "metadata": {},
   "outputs": [
    {
     "name": "stdout",
     "output_type": "stream",
     "text": [
      "3 4\n"
     ]
    }
   ],
   "source": [
    "a = \"{2} {3}\".format(1,2,3,4,5)\n",
    "print(a)"
   ]
  },
  {
   "cell_type": "code",
   "execution_count": 26,
   "id": "f1612b85-69dd-42ff-bf59-da3f8934b94c",
   "metadata": {},
   "outputs": [
    {
     "name": "stdout",
     "output_type": "stream",
     "text": [
      "1 2 2\n"
     ]
    }
   ],
   "source": [
    "a = \"{0} {1} {1}\".format(1,2)\n",
    "print(a)"
   ]
  },
  {
   "cell_type": "markdown",
   "id": "a8ff0e5d-e987-43df-b299-80779027a587",
   "metadata": {},
   "source": [
    "### f 문자열(스트링) 포멧팅"
   ]
  },
  {
   "cell_type": "code",
   "execution_count": 28,
   "id": "a23a582c-a88f-4e66-a823-c6e94d037d04",
   "metadata": {},
   "outputs": [
    {
     "name": "stdout",
     "output_type": "stream",
     "text": [
      "나의 이름은 김철수입니다.나이는25살입니다.\n"
     ]
    }
   ],
   "source": [
    "이름 = \"김철수\"\n",
    "나이 = 25\n",
    "print(f\"나의 이름은 {이름}입니다.나이는{나이}살입니다.\")"
   ]
  },
  {
   "cell_type": "code",
   "execution_count": 29,
   "id": "a22c4846-3c4d-401e-b20c-b53fbe5a9f33",
   "metadata": {},
   "outputs": [
    {
     "name": "stdout",
     "output_type": "stream",
     "text": [
      "나는 내년이면 31살이 된다.\n"
     ]
    }
   ],
   "source": [
    "age = 30\n",
    "a = f\"나는 내년이면 {age + 1 }살이 된다.\"\n",
    "print(a)"
   ]
  },
  {
   "cell_type": "code",
   "execution_count": 30,
   "id": "8e885e9d-efb5-430e-bdf2-e906a177d60a",
   "metadata": {},
   "outputs": [
    {
     "name": "stdout",
     "output_type": "stream",
     "text": [
      "나의 이름은 홍길동입니다.나이는30살입니다.\n"
     ]
    }
   ],
   "source": [
    "d = {\"name\":\"홍길동\", \"age\":30}\n",
    "print(f\"나의 이름은 {d['name']}입니다.나이는{d['age']}살입니다.\")"
   ]
  },
  {
   "cell_type": "code",
   "execution_count": 31,
   "id": "2c987e9a-49e0-4e43-81e3-1c2b1645e5c0",
   "metadata": {},
   "outputs": [
    {
     "name": "stdout",
     "output_type": "stream",
     "text": [
      "가격: 123,456,789원\n"
     ]
    }
   ],
   "source": [
    "number = 123456789\n",
    "output = f\"가격: {number:,}원\"\n",
    "print(output)"
   ]
  },
  {
   "cell_type": "code",
   "execution_count": 32,
   "id": "0ddfb91f-0098-4db1-9432-2ec9567b09c2",
   "metadata": {},
   "outputs": [
    {
     "name": "stdout",
     "output_type": "stream",
     "text": [
      "x + y의 값은15입니다\n"
     ]
    }
   ],
   "source": [
    "x = 10\n",
    "y = 5\n",
    "\n",
    "print(f\"x + y의 값은{x + y}입니다\")"
   ]
  },
  {
   "cell_type": "code",
   "execution_count": 33,
   "id": "a5d6cd7b-22c1-44bc-a767-2a13f237ffa6",
   "metadata": {},
   "outputs": [
    {
     "name": "stdout",
     "output_type": "stream",
     "text": [
      "원래가격15000원, 할인율20.0%, 최종가격:12000.0 원\n"
     ]
    }
   ],
   "source": [
    "price = 15000\n",
    "discount_rate = 0.2\n",
    "final_price = price *(1 - discount_rate)\n",
    "\n",
    "print(f\"원래가격{price}원, 할인율{discount_rate * 100}%, 최종가격:{final_price} 원\")"
   ]
  },
  {
   "cell_type": "code",
   "execution_count": 34,
   "id": "976d3b20-eae4-45b2-b700-7ff0bc21e3a0",
   "metadata": {},
   "outputs": [
    {
     "name": "stdout",
     "output_type": "stream",
     "text": [
      "상품가격50000원, 세금:5000.0원, 최종가격:55000.0원입니다\n"
     ]
    }
   ],
   "source": [
    "price = 50000\n",
    "tax_rate = 0.1\n",
    "final_price = price *(tax_rate + 1)\n",
    "tax = price * tax_rate\n",
    "print(f\"상품가격{price}원, 세금:{tax}원, 최종가격:{final_price:.1f}원입니다\")"
   ]
  },
  {
   "cell_type": "markdown",
   "id": "7360fc76-070c-46e9-8d74-a6af25356290",
   "metadata": {},
   "source": [
    "### 문자열 함수"
   ]
  },
  {
   "cell_type": "code",
   "execution_count": 36,
   "id": "a57ed0bb-c9c5-42c0-a748-121807a8d06e",
   "metadata": {},
   "outputs": [
    {
     "name": "stdout",
     "output_type": "stream",
     "text": [
      "5\n",
      "2\n",
      "2\n",
      "2\n",
      "-1\n"
     ]
    }
   ],
   "source": [
    "a = \"hobby\"\n",
    "print(len(a))\n",
    "print(a.count(\"b\")) # 문자 개수\n",
    "\n",
    "print(a.find(\"b\")) # 위치 \n",
    "print(a.index(\"b\")) #위치\n",
    "\n",
    "print(a.find(\"i\")) # 위치 \n",
    "#print(a.index(\"i\")) #위치"
   ]
  },
  {
   "cell_type": "code",
   "execution_count": 37,
   "id": "039ec20a-bdae-468f-ae1e-0cbb502fc381",
   "metadata": {},
   "outputs": [
    {
     "name": "stdout",
     "output_type": "stream",
     "text": [
      "['1', '2', '3', '4', '5']\n"
     ]
    }
   ],
   "source": [
    "a = \"1,2,3,4,5\"\n",
    "print(a.split(\",\"))"
   ]
  },
  {
   "cell_type": "code",
   "execution_count": 38,
   "id": "9873cc25-3db7-4667-ba52-2363d71a517a",
   "metadata": {},
   "outputs": [
    {
     "name": "stdout",
     "output_type": "stream",
     "text": [
      "a,b,c,d\n"
     ]
    }
   ],
   "source": [
    "a = \",\".join('abcd')\n",
    "print(a)"
   ]
  },
  {
   "cell_type": "code",
   "execution_count": 39,
   "id": "149b9af0-4efc-46e1-9a84-31d263289287",
   "metadata": {},
   "outputs": [
    {
     "name": "stdout",
     "output_type": "stream",
     "text": [
      "hi\n",
      "|hi|\n"
     ]
    }
   ],
   "source": [
    "a = \"hi\"\n",
    "print(f\"{a}\")\n",
    "print(f\"|{a.strip()}|\")"
   ]
  },
  {
   "cell_type": "code",
   "execution_count": 40,
   "id": "d361f20e-e433-48fc-98a0-48771283761b",
   "metadata": {},
   "outputs": [
    {
     "data": {
      "text/plain": [
       "'HI'"
      ]
     },
     "execution_count": 40,
     "metadata": {},
     "output_type": "execute_result"
    }
   ],
   "source": [
    "a = \"hi\"\n",
    "a.upper()"
   ]
  },
  {
   "cell_type": "code",
   "execution_count": 41,
   "id": "8987d527-fab8-462a-9793-072090af258b",
   "metadata": {},
   "outputs": [
    {
     "data": {
      "text/plain": [
       "'hi'"
      ]
     },
     "execution_count": 41,
     "metadata": {},
     "output_type": "execute_result"
    }
   ],
   "source": [
    "a = \"HI\"\n",
    "a.lower()"
   ]
  },
  {
   "cell_type": "code",
   "execution_count": 61,
   "id": "b3d93cb2-55f4-40ba-a586-e71192257441",
   "metadata": {},
   "outputs": [
    {
     "name": "stdout",
     "output_type": "stream",
     "text": [
      "맞은 문제는13개 이며 틀린문제는7개입니다.점수는65.00입니다.\n"
     ]
    }
   ],
   "source": [
    "kor_data = \"10011110101010111011\"\n",
    "tot = len(kor_data)\n",
    "a = (kor_data.count(\"1\"))\n",
    "b = (kor_data.count(\"0\"))\n",
    "print(f\"맞은 문제는{a}개 이며 틀린문제는{b}개입니다.점수는{a/tot *100:.2f}입니다.\")"
   ]
  },
  {
   "cell_type": "code",
   "execution_count": 54,
   "id": "2c7b4538-48a2-42c0-b05d-a0f0ac069b2a",
   "metadata": {},
   "outputs": [
    {
     "name": "stdin",
     "output_type": "stream",
     "text": [
      "전화번호? 415498878778465611323456\n"
     ]
    },
    {
     "name": "stdout",
     "output_type": "stream",
     "text": [
      "415498878778465\n"
     ]
    }
   ],
   "source": [
    "number = input(\"전화번호?\")\n",
    "r = number[0:-9]\n",
    "print(r)\n",
    "if r==\"02\":\n",
    "    print(\"서울입니다\")\n",
    "elif r==\"031\":\n",
    "    print(\"경기도입니다\")\n"
   ]
  },
  {
   "cell_type": "code",
   "execution_count": 121,
   "id": "e87efd22-059c-4812-a7b9-f68b7178270a",
   "metadata": {},
   "outputs": [
    {
     "name": "stdin",
     "output_type": "stream",
     "text": [
      "날짜를 입력하세요 (YYYY-MM-DD):     20241111\n"
     ]
    },
    {
     "name": "stdout",
     "output_type": "stream",
     "text": [
      "올해는2024년 입니다.\n"
     ]
    }
   ],
   "source": [
    "date_input = input(\"날짜를 입력하세요 (YYYY-MM-DD):\").strip()\n",
    "year = date_input[:4]\n",
    "print(f\"올해는{year}년 입니다.\")"
   ]
  },
  {
   "cell_type": "code",
   "execution_count": null,
   "id": "b68923a2-c147-4670-994b-224d34eeeff1",
   "metadata": {},
   "outputs": [],
   "source": [
    "    "
   ]
  }
 ],
 "metadata": {
  "kernelspec": {
   "display_name": "Python 3 (ipykernel)",
   "language": "python",
   "name": "python3"
  },
  "language_info": {
   "codemirror_mode": {
    "name": "ipython",
    "version": 3
   },
   "file_extension": ".py",
   "mimetype": "text/x-python",
   "name": "python",
   "nbconvert_exporter": "python",
   "pygments_lexer": "ipython3",
   "version": "3.12.7"
  }
 },
 "nbformat": 4,
 "nbformat_minor": 5
}
