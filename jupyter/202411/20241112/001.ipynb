{
 "cells": [
  {
   "cell_type": "code",
   "execution_count": 198,
   "id": "431649bd-cb53-4a09-8db9-fdad3c4dab8f",
   "metadata": {},
   "outputs": [],
   "source": [
    "# w를 사용하면 파일을새로만들고 사용하기\n",
    "f = open(\"새 파일.txt\", 'w')\n",
    "f.close()"
   ]
  },
  {
   "cell_type": "code",
   "execution_count": 19,
   "id": "c19d1d72-8d9a-4cfa-9705-e11aca5ef67f",
   "metadata": {},
   "outputs": [],
   "source": [
    "f = open(\"C:/xampp/새 파일.txt\", 'w')\n",
    "f.close()\n"
   ]
  },
  {
   "cell_type": "code",
   "execution_count": 178,
   "id": "870c6543-7642-4b82-96d7-40c9cb9a0790",
   "metadata": {},
   "outputs": [],
   "source": [
    "f = open(\"새 파일.txt\", 'w', encoding='utf-8')\n",
    "for i in range(1, 11):\n",
    "    data = f\"{i}번째 줄입니다.\\n\"\n",
    "    f.write(data)\n",
    "f.close()"
   ]
  },
  {
   "cell_type": "code",
   "execution_count": 182,
   "id": "088a5eac-6ae7-4083-8270-0552f74ec090",
   "metadata": {},
   "outputs": [
    {
     "name": "stdout",
     "output_type": "stream",
     "text": [
      "1번째 줄입니다.\n",
      "\n"
     ]
    }
   ],
   "source": [
    "# r을 사용하면 일기기능\n",
    "f = open(\"새 파일.txt\",'r',encoding='UTF8')\n",
    "lines = f.readline()\n",
    "print(lines)\n",
    "f.close()"
   ]
  },
  {
   "cell_type": "code",
   "execution_count": 189,
   "id": "ae4228c0-edac-4185-9a91-f1cad7e44080",
   "metadata": {},
   "outputs": [
    {
     "name": "stdout",
     "output_type": "stream",
     "text": [
      "1번째 줄입니다.\n",
      "2번째 줄입니다.\n",
      "3번째 줄입니다.\n",
      "4번째 줄입니다.\n",
      "5번째 줄입니다.\n",
      "6번째 줄입니다.\n",
      "7번째 줄입니다.\n",
      "8번째 줄입니다.\n",
      "9번째 줄입니다.\n",
      "10번째 줄입니다.\n",
      "\n"
     ]
    }
   ],
   "source": [
    "f = open(\"새 파일.txt\",'r',encoding='UTF8')\n",
    "data = f.read()\n",
    "print(data)\n",
    "f.close()\n",
    "f = open(\"새 파일2.txt\", 'w')\n",
    "f.write(data)\n",
    "f.close()"
   ]
  },
  {
   "cell_type": "code",
   "execution_count": 207,
   "id": "c6d9d287-10b9-45c6-98bc-fcd9af4ee517",
   "metadata": {},
   "outputs": [],
   "source": [
    "# a를 사용하면 뒤에 붙여서 나옴 (a에서도 파일을 만들 수 있음)\n",
    "f = open(\"새 파일3.txt\", 'a', encoding='utf-8')\n",
    "for i in range(21, 31):\n",
    "    data = f\"{i}번째 줄입니다.^^\\n\"\n",
    "    f.write(data)\n",
    "f.close()"
   ]
  },
  {
   "cell_type": "code",
   "execution_count": 215,
   "id": "5c311a93-2bec-4050-b982-e3eeca4204ab",
   "metadata": {},
   "outputs": [
    {
     "name": "stdout",
     "output_type": "stream",
     "text": [
      "21번째 줄입니다.^^\n",
      "\n",
      "22번째 줄입니다.^^\n",
      "\n",
      "23번째 줄입니다.^^\n",
      "\n",
      "24번째 줄입니다.^^\n",
      "\n",
      "25번째 줄입니다.^^\n",
      "\n",
      "26번째 줄입니다.^^\n",
      "\n",
      "27번째 줄입니다.^^\n",
      "\n",
      "28번째 줄입니다.^^\n",
      "\n",
      "29번째 줄입니다.^^\n",
      "\n",
      "30번째 줄입니다.^^\n",
      "\n"
     ]
    }
   ],
   "source": [
    "# 객체로 파일 읽기\n",
    "f = open(\"새 파일.txt\",'r',encoding='UTF8')\n",
    "for line in f:\n",
    "    print(line)\n",
    "f.close()\n",
    "        "
   ]
  },
  {
   "cell_type": "code",
   "execution_count": 213,
   "id": "af669537-3341-4d52-9cdc-2949d027f44f",
   "metadata": {},
   "outputs": [
    {
     "name": "stdout",
     "output_type": "stream",
     "text": [
      "21번째 줄입니다.^^\n",
      "22번째 줄입니다.^^\n",
      "23번째 줄입니다.^^\n",
      "24번째 줄입니다.^^\n",
      "25번째 줄입니다.^^\n",
      "26번째 줄입니다.^^\n",
      "27번째 줄입니다.^^\n",
      "28번째 줄입니다.^^\n",
      "29번째 줄입니다.^^\n",
      "30번째 줄입니다.^^\n",
      "\n"
     ]
    }
   ],
   "source": [
    "with open(\"새 파일.txt\",'r',encoding='utf-8') as f:\n",
    "    data =f.read()\n",
    "    print(data)"
   ]
  },
  {
   "cell_type": "code",
   "execution_count": 293,
   "id": "342cabb2-e0a5-4690-8bda-b545ac926385",
   "metadata": {},
   "outputs": [],
   "source": [
    "lines = ['Hello, World!','Hello again!']\n",
    "\n",
    "with open(\"새파일5.txt\",'w',encoding='utf-8')as f:\n",
    "        f.writelines(lines)"
   ]
  },
  {
   "cell_type": "code",
   "execution_count": 239,
   "id": "faa6ba0f-cf23-488f-8819-6060c5439d4c",
   "metadata": {},
   "outputs": [
    {
     "name": "stdout",
     "output_type": "stream",
     "text": [
      "Hello, World!Hello again!\n"
     ]
    }
   ],
   "source": [
    "!type 새파일5.txt"
   ]
  },
  {
   "cell_type": "code",
   "execution_count": 258,
   "id": "360871ba-d0c7-4668-a985-b74488bd4ee7",
   "metadata": {},
   "outputs": [],
   "source": [
    "with open(\"매수종목1.txt\",'w',encoding='utf-8')as f:\n",
    "    f.write(\"005930\\n\")\n",
    "    f.write(\"005380\\n\")\n",
    "    f.write(\"035420\\n\")"
   ]
  },
  {
   "cell_type": "code",
   "execution_count": 264,
   "id": "7269ef3a-9b84-40aa-9107-2085dc7057a9",
   "metadata": {},
   "outputs": [],
   "source": [
    "with open(\"매수종목2.txt\",'w',encoding='utf-8')as f:\n",
    "    f.write(\"005930 삼성전자\\n\")\n",
    "    f.write(\"005380 현대차\\n\")\n",
    "    f.write(\"035420 naver\\n\")"
   ]
  },
  {
   "cell_type": "code",
   "execution_count": 313,
   "id": "673f8c27-16ac-4252-ba5b-f95e55ae73c0",
   "metadata": {},
   "outputs": [
    {
     "name": "stdout",
     "output_type": "stream",
     "text": [
      "['005930', '005380', '035420']\n",
      "['005930\\n', '005380\\n', '035420\\n']\n"
     ]
    }
   ],
   "source": [
    "with open(\"매수종목1.txt\",'r',encoding='utf-8')as f:\n",
    "    lines = f.readlines()\n",
    "    codes=[]\n",
    "    for line in lines:\n",
    "        c = line.strip()\n",
    "        codes.append(c)\n",
    "print(codes)\n",
    "print(lines)\n",
    "\n",
    "        "
   ]
  },
  {
   "cell_type": "code",
   "execution_count": 315,
   "id": "869dbbcf-7c2f-4405-90bc-60b03b71b6cb",
   "metadata": {},
   "outputs": [],
   "source": [
    "# 매수종목2.txt를 읽어서 딕셔너리로 만들기(key: 종목번호, value: 종목명)"
   ]
  },
  {
   "cell_type": "code",
   "execution_count": 426,
   "id": "3e7f15b0-8c25-4d7a-9cce-5fd5c3d51695",
   "metadata": {},
   "outputs": [
    {
     "name": "stdout",
     "output_type": "stream",
     "text": [
      "{'005930': '삼성전자', '005380': '현대차', '035420': 'naver'}\n"
     ]
    }
   ],
   "source": [
    "with open (\"매수종목2.txt\",'r',encoding='utf-8')as f:\n",
    "    lines =f.readlines()\n",
    "    data = {}\n",
    "    for line in lines:\n",
    "        a = line.strip()\n",
    "        k, v = line.split()\n",
    "        data[k] = v\n",
    "print(data)\n",
    "        \n",
    "\n",
    "\n",
    "        "
   ]
  },
  {
   "cell_type": "code",
   "execution_count": 428,
   "id": "de1b6315-994e-4afb-bba4-84fac1b8bb1d",
   "metadata": {},
   "outputs": [
    {
     "name": "stdout",
     "output_type": "stream",
     "text": [
      "{'005930': '삼성전자', '005380': '현대차', '035420': 'naver'}\n"
     ]
    }
   ],
   "source": [
    "with open (\"매수종목2.txt\",'r',encoding='utf-8')as f:\n",
    "    lines =f.readlines()\n",
    "    data = {}\n",
    "    for line in lines:\n",
    "        line = line.strip()\n",
    "        t = line.split()\n",
    "        data[t[0]] = t[1]\n",
    "print(data)"
   ]
  },
  {
   "cell_type": "code",
   "execution_count": 432,
   "id": "12cd57a9-2087-4679-8d6e-2bdb1747f49e",
   "metadata": {},
   "outputs": [
    {
     "name": "stdout",
     "output_type": "stream",
     "text": [
      "{'005930': '삼성전자', '005380': '현대차', '035420': 'naver'}\n"
     ]
    }
   ],
   "source": [
    "with open (\"매수종목2.txt\",'r',encoding='utf-8')as f:\n",
    "    data = {t.split()[0]:t.split()[1] for t in f.readlines()}\n",
    "print(data)"
   ]
  },
  {
   "cell_type": "markdown",
   "id": "6dda0202-dbc5-471a-9907-42e577d3b93f",
   "metadata": {},
   "source": [
    "### csv 파일"
   ]
  },
  {
   "cell_type": "code",
   "execution_count": 487,
   "id": "db8b296a-9c03-4451-adb7-abf029d05fa3",
   "metadata": {},
   "outputs": [],
   "source": [
    "# 한 줄씩 입력(1차원 리스트)\n",
    "import csv\n",
    "with open(\"매수종목.csv\", mode=\"w\",encoding=\"utf-8\",newline='') as f:\n",
    "    wr = csv.writer(f)\n",
    "    wr.writerow([\"종목명\",\"종목코드\",\"PER\"])\n",
    "    wr.writerow([\"삼성,전자\",\"005930\", 15.59])\n",
    "    wr.writerow([\"NAVER\",\"035420\", 55.82])"
   ]
  },
  {
   "cell_type": "code",
   "execution_count": 452,
   "id": "5896d3a0-2868-420f-94c7-e8d51fd4a703",
   "metadata": {},
   "outputs": [],
   "source": [
    "# 여러줄 입력 (2차원 리스트)\n",
    "import csv\n",
    "data = [\n",
    "    ['이름','나이','도시'],\n",
    "    ['김철수','25','서울'],\n",
    "    ['이영희','28','부산']\n",
    "]\n",
    "with open('data.csv', 'w', newline=\"\",encoding=\"utf-8\") as f:\n",
    "    wr = csv.writer(f)\n",
    "    wr.writerows(data)"
   ]
  },
  {
   "cell_type": "code",
   "execution_count": 459,
   "id": "559e3ad5-983d-4f03-84ce-d3fb484fca85",
   "metadata": {},
   "outputs": [
    {
     "name": "stdout",
     "output_type": "stream",
     "text": [
      "['종목명', '종목코드', 'PER']\n",
      "['삼성전자', '005930', '15.59']\n",
      "['NAVER', '035420', '55.82']\n"
     ]
    }
   ],
   "source": [
    "import csv\n",
    "\n",
    "'''f = open(\"매수종목.csv\", mode=\"r\",encoding=\"utf-8\")\n",
    "reader = csv.reader(f)\n",
    "for row in reader:\n",
    "    print(row)\n",
    "f.close()'''\n",
    "\n",
    "with open(\"매수종목.csv\", mode=\"r\",encoding=\"utf-8\") as f:\n",
    "    reader = csv.reader(f)\n",
    "    for row in reader:\n",
    "        print(row)"
   ]
  },
  {
   "cell_type": "code",
   "execution_count": 483,
   "id": "51097c64-2fd0-43a7-97c0-5ba0ce6d66c9",
   "metadata": {},
   "outputs": [
    {
     "name": "stdout",
     "output_type": "stream",
     "text": [
      "[['이름', '나이', '도시'], ['김철수', '25', '서울'], ['이영희', '28', '부산']]\n"
     ]
    }
   ],
   "source": [
    "import csv\n",
    "\n",
    "with open(\"data.csv\",mode=\"r\",encoding=\"utf-8\") as f:\n",
    "    a = []\n",
    "    reader = csv.reader(f)\n",
    "    for row in reader:\n",
    "       #print(row)\n",
    "       a.append(row)\n",
    "print(a)\n",
    "        "
   ]
  },
  {
   "cell_type": "code",
   "execution_count": 485,
   "id": "71d68a99-fc43-415a-a987-3f047ec4008c",
   "metadata": {},
   "outputs": [
    {
     "name": "stdout",
     "output_type": "stream",
     "text": [
      "[['이름', '나이', '도시'], ['김철수', '25', '서울'], ['이영희', '28', '부산']]\n"
     ]
    }
   ],
   "source": [
    "import csv\n",
    "\n",
    "with open(\"data.csv\",mode=\"r\",encoding=\"utf-8\") as f:\n",
    "    data = [row for row in csv.reader(f)]\n",
    "print(data)\n",
    "    "
   ]
  },
  {
   "cell_type": "code",
   "execution_count": 507,
   "id": "eb737ba6-104f-4e5b-a6cd-c25fd3175c16",
   "metadata": {},
   "outputs": [
    {
     "name": "stdout",
     "output_type": "stream",
     "text": [
      "[['이름', '나이', '키', '몸무게'], ['김철수', '25', '190', '90'], ['이영철', '28', '180', '80']]\n"
     ]
    }
   ],
   "source": [
    "# write_csv(data, Filename)\n",
    "# result = read_csv(filename) # 최종: 2차원 배열[리스트]\n",
    "\n",
    "data = [\n",
    "    ['이름','나이','키',\"몸무게\"],\n",
    "    ['김철수','25','190',\"90\"],\n",
    "    ['이영철','28','180',\"80\"]\n",
    "]\n",
    "filename =\"data2.csv\"\n",
    "\n",
    "def write_csv(data, filename):\n",
    "    with open(filename,\"w\",encoding=\"utf-8\", newline='') as f:\n",
    "        wr = csv.writer(f)\n",
    "        wr.writerows(data)\n",
    "    \n",
    "\n",
    "def read_csv(filename):\n",
    "    with open(\"data2.csv\",mode=\"r\",encoding=\"utf-8\") as f:\n",
    "        return [row for row in csv.reader(f)]\n",
    "\n",
    "### 함수 호출\n",
    "write_csv(data,filename)\n",
    "result = read_csv(filename)\n",
    "print(result)"
   ]
  },
  {
   "cell_type": "code",
   "execution_count": 510,
   "id": "bba88c67-cc0d-4aac-8b4f-769deca648a9",
   "metadata": {},
   "outputs": [
    {
     "name": "stdout",
     "output_type": "stream",
     "text": [
      "[['이름', '나이', '키', '몸무게'], ['김철수', '25', '190', '90'], ['이영철', '28', '180', '80']]\n"
     ]
    }
   ],
   "source": [
    "# write_csv(data, Filename)\n",
    "# result = read_csv(filename) # 최종: 2차원 배열[리스트]\n",
    "\n",
    "data = [\n",
    "    ['이름','나이','키',\"몸무게\"],\n",
    "    ['김철수','25','190',\"90\"],\n",
    "    ['이영철','28','180',\"80\"]\n",
    "]\n",
    "filename =\"data2.csv\"\n",
    "\n",
    "def write_csv(data, filename):\n",
    "    with open(filename,\"w\",encoding=\"utf-8\", newline='') as f:\n",
    "        wr = csv.writer(f)\n",
    "        wr.writerows(data)\n",
    "    \n",
    "\n",
    "def read_csv(filename):\n",
    "    with open(\"data2.csv\",mode=\"r\",encoding=\"utf-8\") as f:\n",
    "        data = []\n",
    "        reader = csv.reader(f)\n",
    "        for row in reader:\n",
    "            data.append(row)\n",
    "    return data\n",
    "\n",
    "write_csv(data,filename)\n",
    "result = read_csv(filename)\n",
    "print(result)"
   ]
  },
  {
   "cell_type": "code",
   "execution_count": 538,
   "id": "4b1ca416-8371-4114-8b4d-8e2647089489",
   "metadata": {},
   "outputs": [
    {
     "name": "stdout",
     "output_type": "stream",
     "text": [
      "[['이름', '과목', '점수'], ['김철수', '수학', '90'], ['이영희', '영어', '85'], ['박민수', '과학', '88']]\n"
     ]
    }
   ],
   "source": [
    "grades_data = [\n",
    "    ['김철수',\"수학\",\"90\"],\n",
    "    ['이영희',\"영어\",\"85\"],\n",
    "    [\"박민수\",\"과학\",\"88\"]\n",
    "]\n",
    "\n",
    "filename = \"grades.csv\"\n",
    "\n",
    "def writer_grades(data, filename):\n",
    "    with open(filename,\"w\",encoding=\"utf-8\", newline='') as f:\n",
    "        wr = csv.writer(f)\n",
    "        wr.writerow([\"이름\",\"과목\",\"점수\"])\n",
    "        wr.writerows(data)\n",
    "        \n",
    "def read_csv(filename):\n",
    "    with open(filename, \"r\",encoding=\"utf-8\") as f:\n",
    "       reader = csv.reader(f)\n",
    "       return [row for row in reader]\n",
    "\n",
    "writer_grades(grades_data, filename)\n",
    "result = read_csv(filename)\n",
    "print(result)\n",
    "    "
   ]
  },
  {
   "cell_type": "code",
   "execution_count": 550,
   "id": "ffb7f8d1-cead-4d80-aa8c-9b7dbab74154",
   "metadata": {},
   "outputs": [
    {
     "name": "stdout",
     "output_type": "stream",
     "text": [
      "[['ID', '이름', '부서'], ['001', '김영희', '인사부'], ['002', '이철수', '개발부'], ['003', '박지민', '마케팅부']]\n"
     ]
    }
   ],
   "source": [
    "# 직원 정보 관리\n",
    "employees_data = [\n",
    "    ['001',\"김영희\",\"인사부\"],\n",
    "    ['002',\"이철수\",\"개발부\"],\n",
    "    ['003',\"박지민\",\"마케팅부\"]\n",
    "]\n",
    "\n",
    "filename = 'employees.csv'\n",
    "def writer_employees(data,filename):\n",
    "       with open(filename,\"w\",encoding=\"utf-8\", newline='') as f:\n",
    "           wr = csv.writer(f)\n",
    "           wr.writerow([\"ID\",\"이름\",\"부서\"])\n",
    "           wr.writerows(data)\n",
    "\n",
    "def read_employees(filename):\n",
    "    with open(filename, \"r\",encoding=\"utf-8\") as f:\n",
    "        reader = csv.reader(f)\n",
    "        return [row for row in reader]\n",
    "\n",
    "writer_employees(employees_data, filename)\n",
    "result = read_employees(filename)\n",
    "print(result)\n"
   ]
  },
  {
   "cell_type": "code",
   "execution_count": 554,
   "id": "0318871b-65b6-426a-a0e3-281bb4073501",
   "metadata": {},
   "outputs": [
    {
     "name": "stdout",
     "output_type": "stream",
     "text": [
      "[['제목', '감독', '개봉 연도'], ['001', '김영희', '인사부'], ['002', '이철수', '개발부'], ['003', '박지민', '마케팅부']]\n"
     ]
    }
   ],
   "source": [
    "# 영화 정보 관리\n",
    "\n",
    "movies_data = [\n",
    "    ['인셉션',\"크리스토퍼 놀란\",\"2010\"],\n",
    "    ['타이타닉',\"제임스 카메론\",\"1997\"],\n",
    "    ['겨울왕국',\"크리스 벅\",\"2013\"]\n",
    "]\n",
    "\n",
    "filename = 'movies.csv'\n",
    "\n",
    "def writer_movies(data,filename):\n",
    "    with open(filename,\"w\",encoding=\"utf-8\", newline='') as f:\n",
    "        wr = csv.writer(f)\n",
    "        wr.writerow([\"제목\",\"감독\",\"개봉 연도\"])\n",
    "        wr.writerows(data)\n",
    "\n",
    "def read_movies(filename):\n",
    "      with open(filename, \"r\",encoding=\"utf-8\") as f:\n",
    "          reader = csv.reader(f)\n",
    "          return [row for row in reader]\n",
    "\n",
    "writer_movies(employees_data, filename)\n",
    "result = read_movies(filename)\n",
    "print(result)"
   ]
  },
  {
   "cell_type": "code",
   "execution_count": 601,
   "id": "1cb2ff34-b01d-45e9-aef9-5ad3ed00a006",
   "metadata": {},
   "outputs": [
    {
     "name": "stdout",
     "output_type": "stream",
     "text": [
      "The autoreload extension is already loaded. To reload it, use:\n",
      "  %reload_ext autoreload\n"
     ]
    },
    {
     "data": {
      "text/plain": [
       "<module 'minfo' from 'D:\\\\study\\\\jupyter\\\\20241112\\\\minfo.py'>"
      ]
     },
     "execution_count": 601,
     "metadata": {},
     "output_type": "execute_result"
    }
   ],
   "source": [
    "# 자동으로 모듈 로딩\n",
    "%load_ext autoreload\n",
    "%autoreload 2\n",
    "\n",
    "    # 수동으로 모듈 로딩\n",
    "import importlib\n",
    "importlib.reload(minfo)"
   ]
  },
  {
   "cell_type": "code",
   "execution_count": 603,
   "id": "e433cd8c-d1f7-41fd-b074-9d49e3ba3442",
   "metadata": {},
   "outputs": [
    {
     "name": "stdout",
     "output_type": "stream",
     "text": [
      "[['제목', '저자', '출판 연도'], ['파이썬 완벽 가이드', '존 스미스', '2020'], ['모두의 데이터 분석', '김예린', '2021'], ['안전한 웹 개발', '이민호', '2022']]\n"
     ]
    }
   ],
   "source": [
    "# 영화 정보 관리\n",
    "import minfo as mf\n",
    "\n",
    "books_data = [\n",
    "    ['파이썬 완벽 가이드',\"존 스미스\",\"2020\"],\n",
    "    ['모두의 데이터 분석',\"김예린\",\"2021\"],\n",
    "    ['안전한 웹 개발',\"이민호\",\"2022\"]\n",
    "]\n",
    "\n",
    "filename = \"books.csv\"\n",
    "mf.write_books(books_data,filename)\n",
    "result = mf.read_books(filename)\n",
    "print(result)"
   ]
  },
  {
   "cell_type": "code",
   "execution_count": 615,
   "id": "aa11b624-9881-4369-a2f5-73adf92fae26",
   "metadata": {},
   "outputs": [
    {
     "name": "stdout",
     "output_type": "stream",
     "text": [
      "[['상품명', '수량', '가격'], ['사과', '5', '1000'], ['바나나', '10', '500'], ['우유', '2', '1500']]\n"
     ]
    }
   ],
   "source": [
    "# 쇼핑 목록 관리\n",
    "import minfo as sf\n",
    "\n",
    "shopping_data = [\n",
    "    [\"사과\",\"5\",\"1000\"],\n",
    "    [\"바나나\",\"10\",\"500\"],\n",
    "    [\"우유\",\"2\",\"1500\"]\n",
    "]\n",
    "\n",
    "filename = \"shopping_list.csv\"\n",
    "sf.write_shopping_list(shopping_data, filename)\n",
    "result = sf.read_shopping_list(filename)\n",
    "print(result)"
   ]
  },
  {
   "cell_type": "markdown",
   "id": "32c74b94-b82b-450c-a5b0-5d2757800271",
   "metadata": {},
   "source": [
    "### 내장 모듈"
   ]
  },
  {
   "cell_type": "code",
   "execution_count": 631,
   "id": "f871fd88-3e71-4666-b64d-ac94245ef448",
   "metadata": {},
   "outputs": [
    {
     "name": "stdout",
     "output_type": "stream",
     "text": [
      "9\n"
     ]
    }
   ],
   "source": [
    "import random\n",
    "\n",
    "print(random.randint(1,10)) # 1 ~ 10 사이 랜던 정수(10포함)"
   ]
  },
  {
   "cell_type": "code",
   "execution_count": 639,
   "id": "d804a8f8-93c1-473d-89de-fd5a4444f0dc",
   "metadata": {},
   "outputs": [
    {
     "name": "stdout",
     "output_type": "stream",
     "text": [
      "7\n"
     ]
    }
   ],
   "source": [
    "# 기본 난수\n",
    "print(random.randrange(1,10)) # 1 ~ 9 사이 랜덤 정수"
   ]
  },
  {
   "cell_type": "code",
   "execution_count": 641,
   "id": "4fb12c71-53af-48c3-9fc4-2bdd2b740ea5",
   "metadata": {},
   "outputs": [
    {
     "name": "stdout",
     "output_type": "stream",
     "text": [
      "9\n"
     ]
    }
   ],
   "source": [
    "print(random.randrange(10)) # 0 ~ 9사이 랜덤 정수"
   ]
  },
  {
   "cell_type": "code",
   "execution_count": 649,
   "id": "d7e77dbb-501d-446e-a4b1-3513b8ce0031",
   "metadata": {},
   "outputs": [
    {
     "name": "stdout",
     "output_type": "stream",
     "text": [
      "2\n"
     ]
    }
   ],
   "source": [
    "print(random.randrange(0,101,2)) # 짝수만 (0, 2, 4, .....,100)"
   ]
  },
  {
   "cell_type": "code",
   "execution_count": 778,
   "id": "efa284e6-be61-407c-8682-1477b5c1c68b",
   "metadata": {},
   "outputs": [
    {
     "name": "stdout",
     "output_type": "stream",
     "text": [
      "0.9354458651872302\n"
     ]
    }
   ],
   "source": [
    "print(random.random()) # 0 ~ 1 사이 랜덤 실수 (1은 포함 안됨)"
   ]
  },
  {
   "cell_type": "code",
   "execution_count": 768,
   "id": "3c078378-9b59-4721-99c8-799af8520e95",
   "metadata": {},
   "outputs": [
    {
     "name": "stdout",
     "output_type": "stream",
     "text": [
      "9.185620112430444\n"
     ]
    }
   ],
   "source": [
    "print(random.random()*9 +1) # 1~ 10사이 랜덤 실수 (10은 포함 안됨)"
   ]
  },
  {
   "cell_type": "code",
   "execution_count": 744,
   "id": "d9516d86-c714-4357-8cb6-0d634778bde7",
   "metadata": {},
   "outputs": [
    {
     "name": "stdout",
     "output_type": "stream",
     "text": [
      "9.503840687230994\n"
     ]
    }
   ],
   "source": [
    "print(random.uniform(1,10))  # 1~ 10사이 랜덤 실수 (10은 포함 안됨)"
   ]
  },
  {
   "cell_type": "code",
   "execution_count": 892,
   "id": "6f9964c0-005e-4ecd-8194-a716aeff14be",
   "metadata": {},
   "outputs": [
    {
     "data": {
      "text/plain": [
       "7"
      ]
     },
     "execution_count": 892,
     "metadata": {},
     "output_type": "execute_result"
    }
   ],
   "source": [
    "# 시퀀스 관련\n",
    "a =[1,2,3,4,5,6,7]\n",
    "b = random.choice(a) # 리스트에서 무작위 선택\n",
    "b\n"
   ]
  },
  {
   "cell_type": "code",
   "execution_count": 904,
   "id": "cec16d93-15ad-420d-8914-af77e156c445",
   "metadata": {},
   "outputs": [
    {
     "data": {
      "text/plain": [
       "[4, 5, 2]"
      ]
     },
     "execution_count": 904,
     "metadata": {},
     "output_type": "execute_result"
    }
   ],
   "source": [
    "a =[1,2,3,4,5,6,7,8,9,10,11]\n",
    "b = random.choices(a,k=3) # k개 무작위 선택(중복 가능)\n",
    "b"
   ]
  },
  {
   "cell_type": "code",
   "execution_count": 1247,
   "id": "1ff67b4d-fe02-4574-b7d3-81c7cb69ef2a",
   "metadata": {},
   "outputs": [
    {
     "data": {
      "text/plain": [
       "[11, 4, 2]"
      ]
     },
     "execution_count": 1247,
     "metadata": {},
     "output_type": "execute_result"
    }
   ],
   "source": [
    "c =random.sample(a,3) # k개 무작위 선택(중복 불가)\n",
    "c"
   ]
  },
  {
   "cell_type": "code",
   "execution_count": 1610,
   "id": "eb35183b-0cee-415c-9f0e-9c7d3d594d78",
   "metadata": {},
   "outputs": [
    {
     "data": {
      "text/plain": [
       "['B']"
      ]
     },
     "execution_count": 1610,
     "metadata": {},
     "output_type": "execute_result"
    }
   ],
   "source": [
    "items = [\"A\",\"B\",\"C\"]\n",
    "weights = [1, 2, 3] # 가중치\n",
    "random.choices(items,weights=weights, k=1)"
   ]
  },
  {
   "cell_type": "code",
   "execution_count": 1742,
   "id": "49239dcb-c4a1-4c0b-8768-3562a9d8a740",
   "metadata": {},
   "outputs": [
    {
     "data": {
      "text/plain": [
       "2.2440916858147144"
      ]
     },
     "execution_count": 1742,
     "metadata": {},
     "output_type": "execute_result"
    }
   ],
   "source": [
    "random.gauss(0,1) "
   ]
  },
  {
   "cell_type": "code",
   "execution_count": 1772,
   "id": "6a5a6eed-44ba-404d-b926-e819d03be666",
   "metadata": {},
   "outputs": [
    {
     "name": "stdin",
     "output_type": "stream",
     "text": [
      "메뉴는 1\n",
      "메뉴는 \n"
     ]
    },
    {
     "name": "stdout",
     "output_type": "stream",
     "text": [
      "점심메뉴는  1 으로 하세요\n"
     ]
    }
   ],
   "source": [
    "import random\n",
    "menulist = []\n",
    "while True:\n",
    "    menu = input(\"메뉴는\")\n",
    "    if (menu==\"\"):\n",
    "        break\n",
    "    menulist.append(menu)\n",
    "print(\"점심메뉴는 \",random.choice(menulist),\"으로 하세요\")\n",
    "    "
   ]
  },
  {
   "cell_type": "code",
   "execution_count": 1770,
   "id": "cc5b1c48-fa7c-43f6-8b43-ddba23478bde",
   "metadata": {},
   "outputs": [
    {
     "name": "stdout",
     "output_type": "stream",
     "text": [
      "로또번호: [9, 13, 15, 27, 28, 36]\n"
     ]
    }
   ],
   "source": [
    "def generate_lotto():\n",
    "    return sorted(random.sample(range(1,46),6))\n",
    "\n",
    "print(\"로또번호:\",generate_lotto())"
   ]
  },
  {
   "cell_type": "code",
   "execution_count": 1774,
   "id": "d4510f83-6289-4bc0-bbc0-8b344bebd911",
   "metadata": {},
   "outputs": [
    {
     "name": "stdout",
     "output_type": "stream",
     "text": [
      "선택한 과일: 바나나\n"
     ]
    }
   ],
   "source": [
    "fruits =[\"사과\",\"바나나\",\"오렌지\"]\n",
    "weights = [0.5, 0.3, 0.2]\n",
    "print(\"선택한 과일:\",random.choices(fruits,weights=weights, k=1)[0])"
   ]
  },
  {
   "cell_type": "code",
   "execution_count": 1790,
   "id": "6616180a-e38d-4cd1-82c0-3e6c677f2464",
   "metadata": {},
   "outputs": [
    {
     "name": "stdout",
     "output_type": "stream",
     "text": [
      "섞은 카드: ['c3', 'c5', 'cA', 'c9', 'd3']\n"
     ]
    }
   ],
   "source": [
    "def shuffle_cards():\n",
    "    suits =['c','d']\n",
    "    numbers = ['A','2','3','4','5','6','7','8','9','j','q','k']\n",
    "    cards = [f\"{suit}{num}\" for suit in suits for num in numbers]\n",
    "    random.shuffle(cards)\n",
    "    return cards\n",
    "\n",
    "print(\"섞은 카드:\", shuffle_cards()[:5])"
   ]
  },
  {
   "cell_type": "code",
   "execution_count": 1798,
   "id": "3d55ec8f-b5cd-45b2-9ea1-28b2d2a7f313",
   "metadata": {},
   "outputs": [
    {
     "name": "stdout",
     "output_type": "stream",
     "text": [
      "2\n",
      "2\n",
      "-1\n",
      "1\n",
      "2\n",
      "2\n",
      "-2\n",
      "1\n",
      "1\n",
      "-2\n",
      "2.0\n",
      "1.4142135623730951\n"
     ]
    }
   ],
   "source": [
    "import math\n",
    "\n",
    "# 1.ceil() -올림\n",
    "print(math.ceil(1.4)) # 2\n",
    "print(math.ceil(1.7)) # 2\n",
    "print(math.ceil(-1.4)) # -1\n",
    "\n",
    "# 2.round() -반올림\n",
    "print(round(1.4)) # 1\n",
    "print(round(1.7)) # 2\n",
    "print(round(1.5)) # 2\n",
    "print(round(-1.5)) # -2\n",
    "\n",
    "# 3.floor() -내림\n",
    "print(math.floor(1.7)) # 1\n",
    "print(math.floor(1.4)) # 1\n",
    "print(math.floor(-1.7)) # -2\n",
    "\n",
    "# 4.sqrt() -제곱근\n",
    "print(math.sqrt(4)) # 2\n",
    "print(math.sqrt(2)) # 1.4142135623730951\n",
    "\n",
    "# 5.factorial() -계승\n",
    "print(math.factorial(5)) # 120 (5! = 5 × 4 × 3 × 2 × 1)\n",
    "print(math.factorial(3)) # 6 (3! = 3 × 2 × 1)\n",
    "\n",
    "# 6. pi - 원주율\n",
    "print(math.pi)           # 3.141592653589793"
   ]
  },
  {
   "cell_type": "code",
   "execution_count": 1801,
   "id": "f60b7249-825f-4d5e-8669-93228dc64e63",
   "metadata": {},
   "outputs": [
    {
     "name": "stdout",
     "output_type": "stream",
     "text": [
      "2024-11-12 18:09:09.736191\n",
      "2024-11-12\n",
      "2024-08-05\n",
      "2025-07-19\n",
      "249\n"
     ]
    }
   ],
   "source": [
    "import datetime\n",
    "now = datetime.datetime.now()\n",
    "print(now)\n",
    "today = datetime.date.today()\n",
    "print(today)\n",
    "setdate = datetime.date(2024,8,5)\n",
    "print(setdate)\n",
    "mydate = \"2025-07-19\"\n",
    "tmp1 = mydate.split(\"-\")\n",
    "setdate2 = datetime.date(int(tmp1[0]),int(tmp1[1]),int(tmp1[2]))\n",
    "print(setdate2)\n",
    "rday = setdate2 - today\n",
    "print(rday.days)"
   ]
  },
  {
   "cell_type": "code",
   "execution_count": 1803,
   "id": "f17f2ae6-bbf5-4897-809f-0ee48c38b892",
   "metadata": {},
   "outputs": [
    {
     "name": "stdout",
     "output_type": "stream",
     "text": [
      "2024 년\n",
      "11 월\n",
      "12 일\n",
      "18\n",
      "9\n",
      "14\n",
      "1\n",
      "2\n"
     ]
    }
   ],
   "source": [
    "now = datetime.datetime.now() # 현재날짜 및 현재시간\n",
    "print(now.year,\"년\")\n",
    "print(now.month,\"월\")\n",
    "print(now.day,\"일\")\n",
    "print(now.hour)\n",
    "print(now.minute)\n",
    "print(now.second)\n",
    "print(now.weekday()) #0~6 (월~일)\n",
    "print(now.isoweekday()) #1~7 (월~일)"
   ]
  },
  {
   "cell_type": "code",
   "execution_count": null,
   "id": "53425207-aed2-4b02-983b-a480389e1fdd",
   "metadata": {},
   "outputs": [],
   "source": []
  }
 ],
 "metadata": {
  "kernelspec": {
   "display_name": "Python 3 (ipykernel)",
   "language": "python",
   "name": "python3"
  },
  "language_info": {
   "codemirror_mode": {
    "name": "ipython",
    "version": 3
   },
   "file_extension": ".py",
   "mimetype": "text/x-python",
   "name": "python",
   "nbconvert_exporter": "python",
   "pygments_lexer": "ipython3",
   "version": "3.12.7"
  }
 },
 "nbformat": 4,
 "nbformat_minor": 5
}
