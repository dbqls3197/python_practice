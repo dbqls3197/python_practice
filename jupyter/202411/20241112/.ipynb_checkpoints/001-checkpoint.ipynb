{
 "cells": [
  {
   "cell_type": "code",
   "execution_count": 198,
   "id": "431649bd-cb53-4a09-8db9-fdad3c4dab8f",
   "metadata": {},
   "outputs": [],
   "source": [
    "# w를 사용하면 파일을새로만들고 사용하기\n",
    "f = open(\"새 파일.txt\", 'w')\n",
    "f.close()"
   ]
  },
  {
   "cell_type": "code",
   "execution_count": 19,
   "id": "c19d1d72-8d9a-4cfa-9705-e11aca5ef67f",
   "metadata": {},
   "outputs": [],
   "source": [
    "f = open(\"C:/xampp/새 파일.txt\", 'w')\n",
    "f.close()\n"
   ]
  },
  {
   "cell_type": "code",
   "execution_count": 178,
   "id": "870c6543-7642-4b82-96d7-40c9cb9a0790",
   "metadata": {},
   "outputs": [],
   "source": [
    "f = open(\"새 파일.txt\", 'w', encoding='utf-8')\n",
    "for i in range(1, 11):\n",
    "    data = f\"{i}번째 줄입니다.\\n\"\n",
    "    f.write(data)\n",
    "f.close()"
   ]
  },
  {
   "cell_type": "code",
   "execution_count": 182,
   "id": "088a5eac-6ae7-4083-8270-0552f74ec090",
   "metadata": {},
   "outputs": [
    {
     "name": "stdout",
     "output_type": "stream",
     "text": [
      "1번째 줄입니다.\n",
      "\n"
     ]
    }
   ],
   "source": [
    "# r을 사용하면 일기기능\n",
    "f = open(\"새 파일.txt\",'r',encoding='UTF8')\n",
    "lines = f.readline()\n",
    "print(lines)\n",
    "f.close()"
   ]
  },
  {
   "cell_type": "code",
   "execution_count": 189,
   "id": "ae4228c0-edac-4185-9a91-f1cad7e44080",
   "metadata": {},
   "outputs": [
    {
     "name": "stdout",
     "output_type": "stream",
     "text": [
      "1번째 줄입니다.\n",
      "2번째 줄입니다.\n",
      "3번째 줄입니다.\n",
      "4번째 줄입니다.\n",
      "5번째 줄입니다.\n",
      "6번째 줄입니다.\n",
      "7번째 줄입니다.\n",
      "8번째 줄입니다.\n",
      "9번째 줄입니다.\n",
      "10번째 줄입니다.\n",
      "\n"
     ]
    }
   ],
   "source": [
    "f = open(\"새 파일.txt\",'r',encoding='UTF8')\n",
    "data = f.read()\n",
    "print(data)\n",
    "f.close()\n",
    "f = open(\"새 파일2.txt\", 'w')\n",
    "f.write(data)\n",
    "f.close()"
   ]
  },
  {
   "cell_type": "code",
   "execution_count": 207,
   "id": "c6d9d287-10b9-45c6-98bc-fcd9af4ee517",
   "metadata": {},
   "outputs": [],
   "source": [
    "# a를 사용하면 뒤에 붙여서 나옴 (a에서도 파일을 만들 수 있음)\n",
    "f = open(\"새 파일3.txt\", 'a', encoding='utf-8')\n",
    "for i in range(21, 31):\n",
    "    data = f\"{i}번째 줄입니다.^^\\n\"\n",
    "    f.write(data)\n",
    "f.close()"
   ]
  },
  {
   "cell_type": "code",
   "execution_count": 215,
   "id": "5c311a93-2bec-4050-b982-e3eeca4204ab",
   "metadata": {},
   "outputs": [
    {
     "name": "stdout",
     "output_type": "stream",
     "text": [
      "21번째 줄입니다.^^\n",
      "\n",
      "22번째 줄입니다.^^\n",
      "\n",
      "23번째 줄입니다.^^\n",
      "\n",
      "24번째 줄입니다.^^\n",
      "\n",
      "25번째 줄입니다.^^\n",
      "\n",
      "26번째 줄입니다.^^\n",
      "\n",
      "27번째 줄입니다.^^\n",
      "\n",
      "28번째 줄입니다.^^\n",
      "\n",
      "29번째 줄입니다.^^\n",
      "\n",
      "30번째 줄입니다.^^\n",
      "\n"
     ]
    }
   ],
   "source": [
    "# 객체로 파일 읽기\n",
    "f = open(\"새 파일.txt\",'r',encoding='UTF8')\n",
    "for line in f:\n",
    "    print(line)\n",
    "f.close()\n",
    "        "
   ]
  },
  {
   "cell_type": "code",
   "execution_count": 213,
   "id": "af669537-3341-4d52-9cdc-2949d027f44f",
   "metadata": {},
   "outputs": [
    {
     "name": "stdout",
     "output_type": "stream",
     "text": [
      "21번째 줄입니다.^^\n",
      "22번째 줄입니다.^^\n",
      "23번째 줄입니다.^^\n",
      "24번째 줄입니다.^^\n",
      "25번째 줄입니다.^^\n",
      "26번째 줄입니다.^^\n",
      "27번째 줄입니다.^^\n",
      "28번째 줄입니다.^^\n",
      "29번째 줄입니다.^^\n",
      "30번째 줄입니다.^^\n",
      "\n"
     ]
    }
   ],
   "source": [
    "with open(\"새 파일.txt\",'r',encoding='utf-8') as f:\n",
    "    data =f.read()\n",
    "    print(data)"
   ]
  },
  {
   "cell_type": "code",
   "execution_count": 293,
   "id": "342cabb2-e0a5-4690-8bda-b545ac926385",
   "metadata": {},
   "outputs": [],
   "source": [
    "lines = ['Hello, World!','Hello again!']\n",
    "\n",
    "with open(\"새파일5.txt\",'w',encoding='utf-8')as f:\n",
    "        f.writelines(lines)"
   ]
  },
  {
   "cell_type": "code",
   "execution_count": 239,
   "id": "faa6ba0f-cf23-488f-8819-6060c5439d4c",
   "metadata": {},
   "outputs": [
    {
     "name": "stdout",
     "output_type": "stream",
     "text": [
      "Hello, World!Hello again!\n"
     ]
    }
   ],
   "source": [
    "!type 새파일5.txt"
   ]
  },
  {
   "cell_type": "code",
   "execution_count": 258,
   "id": "360871ba-d0c7-4668-a985-b74488bd4ee7",
   "metadata": {},
   "outputs": [],
   "source": [
    "with open(\"매수종목1.txt\",'w',encoding='utf-8')as f:\n",
    "    f.write(\"005930\\n\")\n",
    "    f.write(\"005380\\n\")\n",
    "    f.write(\"035420\\n\")"
   ]
  },
  {
   "cell_type": "code",
   "execution_count": 264,
   "id": "7269ef3a-9b84-40aa-9107-2085dc7057a9",
   "metadata": {},
   "outputs": [],
   "source": [
    "with open(\"매수종목2.txt\",'w',encoding='utf-8')as f:\n",
    "    f.write(\"005930 삼성전자\\n\")\n",
    "    f.write(\"005380 현대차\\n\")\n",
    "    f.write(\"035420 naver\\n\")"
   ]
  },
  {
   "cell_type": "code",
   "execution_count": 313,
   "id": "673f8c27-16ac-4252-ba5b-f95e55ae73c0",
   "metadata": {},
   "outputs": [
    {
     "name": "stdout",
     "output_type": "stream",
     "text": [
      "['005930', '005380', '035420']\n",
      "['005930\\n', '005380\\n', '035420\\n']\n"
     ]
    }
   ],
   "source": [
    "with open(\"매수종목1.txt\",'r',encoding='utf-8')as f:\n",
    "    lines = f.readlines()\n",
    "    codes=[]\n",
    "    for line in lines:\n",
    "        c = line.strip()\n",
    "        codes.append(c)\n",
    "print(codes)\n",
    "print(lines)\n",
    "\n",
    "        "
   ]
  },
  {
   "cell_type": "code",
   "execution_count": 315,
   "id": "869dbbcf-7c2f-4405-90bc-60b03b71b6cb",
   "metadata": {},
   "outputs": [],
   "source": [
    "# 매수종목2.txt를 읽어서 딕셔너리로 만들기(key: 종목번호, value: 종목명)"
   ]
  },
  {
   "cell_type": "code",
   "execution_count": 426,
   "id": "3e7f15b0-8c25-4d7a-9cce-5fd5c3d51695",
   "metadata": {},
   "outputs": [
    {
     "name": "stdout",
     "output_type": "stream",
     "text": [
      "{'005930': '삼성전자', '005380': '현대차', '035420': 'naver'}\n"
     ]
    }
   ],
   "source": [
    "with open (\"매수종목2.txt\",'r',encoding='utf-8')as f:\n",
    "    lines =f.readlines()\n",
    "    data = {}\n",
    "    for line in lines:\n",
    "        a = line.strip()\n",
    "        k, v = line.split()\n",
    "        data[k] = v\n",
    "print(data)\n",
    "        \n",
    "\n",
    "\n",
    "        "
   ]
  },
  {
   "cell_type": "code",
   "execution_count": 428,
   "id": "de1b6315-994e-4afb-bba4-84fac1b8bb1d",
   "metadata": {},
   "outputs": [
    {
     "name": "stdout",
     "output_type": "stream",
     "text": [
      "{'005930': '삼성전자', '005380': '현대차', '035420': 'naver'}\n"
     ]
    }
   ],
   "source": [
    "with open (\"매수종목2.txt\",'r',encoding='utf-8')as f:\n",
    "    lines =f.readlines()\n",
    "    data = {}\n",
    "    for line in lines:\n",
    "        line = line.strip()\n",
    "        t = line.split()\n",
    "        data[t[0]] = t[1]\n",
    "print(data)"
   ]
  },
  {
   "cell_type": "code",
   "execution_count": 432,
   "id": "12cd57a9-2087-4679-8d6e-2bdb1747f49e",
   "metadata": {},
   "outputs": [
    {
     "name": "stdout",
     "output_type": "stream",
     "text": [
      "{'005930': '삼성전자', '005380': '현대차', '035420': 'naver'}\n"
     ]
    }
   ],
   "source": [
    "with open (\"매수종목2.txt\",'r',encoding='utf-8')as f:\n",
    "    data = {t.split()[0]:t.split()[1] for t in f.readlines()}\n",
    "print(data)"
   ]
  },
  {
   "cell_type": "markdown",
   "id": "6dda0202-dbc5-471a-9907-42e577d3b93f",
   "metadata": {},
   "source": [
    "### csv 파일"
   ]
  },
  {
   "cell_type": "code",
   "execution_count": 487,
   "id": "db8b296a-9c03-4451-adb7-abf029d05fa3",
   "metadata": {},
   "outputs": [],
   "source": [
    "# 한 줄씩 입력(1차원 리스트)\n",
    "import csv\n",
    "with open(\"매수종목.csv\", mode=\"w\",encoding=\"utf-8\",newline='') as f:\n",
    "    wr = csv.writer(f)\n",
    "    wr.writerow([\"종목명\",\"종목코드\",\"PER\"])\n",
    "    wr.writerow([\"삼성,전자\",\"005930\", 15.59])\n",
    "    wr.writerow([\"NAVER\",\"035420\", 55.82])"
   ]
  },
  {
   "cell_type": "code",
   "execution_count": 452,
   "id": "5896d3a0-2868-420f-94c7-e8d51fd4a703",
   "metadata": {},
   "outputs": [],
   "source": [
    "# 여러줄 입력 (2차원 리스트)\n",
    "import csv\n",
    "data = [\n",
    "    ['이름','나이','도시'],\n",
    "    ['김철수','25','서울'],\n",
    "    ['이영희','28','부산']\n",
    "]\n",
    "with open('data.csv', 'w', newline=\"\",encoding=\"utf-8\") as f:\n",
    "    wr = csv.writer(f)\n",
    "    wr.writerows(data)"
   ]
  },
  {
   "cell_type": "code",
   "execution_count": 459,
   "id": "559e3ad5-983d-4f03-84ce-d3fb484fca85",
   "metadata": {},
   "outputs": [
    {
     "name": "stdout",
     "output_type": "stream",
     "text": [
      "['종목명', '종목코드', 'PER']\n",
      "['삼성전자', '005930', '15.59']\n",
      "['NAVER', '035420', '55.82']\n"
     ]
    }
   ],
   "source": [
    "import csv\n",
    "\n",
    "'''f = open(\"매수종목.csv\", mode=\"r\",encoding=\"utf-8\")\n",
    "reader = csv.reader(f)\n",
    "for row in reader:\n",
    "    print(row)\n",
    "f.close()'''\n",
    "\n",
    "with open(\"매수종목.csv\", mode=\"r\",encoding=\"utf-8\") as f:\n",
    "    reader = csv.reader(f)\n",
    "    for row in reader:\n",
    "        print(row)"
   ]
  },
  {
   "cell_type": "code",
   "execution_count": 483,
   "id": "51097c64-2fd0-43a7-97c0-5ba0ce6d66c9",
   "metadata": {},
   "outputs": [
    {
     "name": "stdout",
     "output_type": "stream",
     "text": [
      "[['이름', '나이', '도시'], ['김철수', '25', '서울'], ['이영희', '28', '부산']]\n"
     ]
    }
   ],
   "source": [
    "import csv\n",
    "\n",
    "with open(\"data.csv\",mode=\"r\",encoding=\"utf-8\") as f:\n",
    "    a = []\n",
    "    reader = csv.reader(f)\n",
    "    for row in reader:\n",
    "       #print(row)\n",
    "       a.append(row)\n",
    "print(a)\n",
    "        "
   ]
  },
  {
   "cell_type": "code",
   "execution_count": 485,
   "id": "71d68a99-fc43-415a-a987-3f047ec4008c",
   "metadata": {},
   "outputs": [
    {
     "name": "stdout",
     "output_type": "stream",
     "text": [
      "[['이름', '나이', '도시'], ['김철수', '25', '서울'], ['이영희', '28', '부산']]\n"
     ]
    }
   ],
   "source": [
    "import csv\n",
    "\n",
    "with open(\"data.csv\",mode=\"r\",encoding=\"utf-8\") as f:\n",
    "    data = [row for row in csv.reader(f)]\n",
    "print(data)\n",
    "    "
   ]
  },
  {
   "cell_type": "code",
   "execution_count": 507,
   "id": "eb737ba6-104f-4e5b-a6cd-c25fd3175c16",
   "metadata": {},
   "outputs": [
    {
     "name": "stdout",
     "output_type": "stream",
     "text": [
      "[['이름', '나이', '키', '몸무게'], ['김철수', '25', '190', '90'], ['이영철', '28', '180', '80']]\n"
     ]
    }
   ],
   "source": [
    "# write_csv(data, Filename)\n",
    "# result = read_csv(filename) # 최종: 2차원 배열[리스트]\n",
    "\n",
    "data = [\n",
    "    ['이름','나이','키',\"몸무게\"],\n",
    "    ['김철수','25','190',\"90\"],\n",
    "    ['이영철','28','180',\"80\"]\n",
    "]\n",
    "filename =\"data2.csv\"\n",
    "\n",
    "def write_csv(data, filename):\n",
    "    with open(filename,\"w\",encoding=\"utf-8\", newline='') as f:\n",
    "        wr = csv.writer(f)\n",
    "        wr.writerows(data)\n",
    "    \n",
    "\n",
    "def read_csv(filename):\n",
    "    with open(\"data2.csv\",mode=\"r\",encoding=\"utf-8\") as f:\n",
    "        return [row for row in csv.reader(f)]\n",
    "\n",
    "### 함수 호출\n",
    "write_csv(data,filename)\n",
    "result = read_csv(filename)\n",
    "print(result)"
   ]
  },
  {
   "cell_type": "code",
   "execution_count": 510,
   "id": "bba88c67-cc0d-4aac-8b4f-769deca648a9",
   "metadata": {},
   "outputs": [
    {
     "name": "stdout",
     "output_type": "stream",
     "text": [
      "[['이름', '나이', '키', '몸무게'], ['김철수', '25', '190', '90'], ['이영철', '28', '180', '80']]\n"
     ]
    }
   ],
   "source": [
    "# write_csv(data, Filename)\n",
    "# result = read_csv(filename) # 최종: 2차원 배열[리스트]\n",
    "\n",
    "data = [\n",
    "    ['이름','나이','키',\"몸무게\"],\n",
    "    ['김철수','25','190',\"90\"],\n",
    "    ['이영철','28','180',\"80\"]\n",
    "]\n",
    "filename =\"data2.csv\"\n",
    "\n",
    "def write_csv(data, filename):\n",
    "    with open(filename,\"w\",encoding=\"utf-8\", newline='') as f:\n",
    "        wr = csv.writer(f)\n",
    "        wr.writerows(data)\n",
    "    \n",
    "\n",
    "def read_csv(filename):\n",
    "    with open(\"data2.csv\",mode=\"r\",encoding=\"utf-8\") as f:\n",
    "        data = []\n",
    "        reader = csv.reader(f)\n",
    "        for row in reader:\n",
    "            data.append(row)\n",
    "    return data\n",
    "\n",
    "write_csv(data,filename)\n",
    "result = read_csv(filename)\n",
    "print(result)"
   ]
  },
  {
   "cell_type": "code",
   "execution_count": 538,
   "id": "4b1ca416-8371-4114-8b4d-8e2647089489",
   "metadata": {},
   "outputs": [
    {
     "name": "stdout",
     "output_type": "stream",
     "text": [
      "[['이름', '과목', '점수'], ['김철수', '수학', '90'], ['이영희', '영어', '85'], ['박민수', '과학', '88']]\n"
     ]
    }
   ],
   "source": [
    "grades_data = [\n",
    "    ['김철수',\"수학\",\"90\"],\n",
    "    ['이영희',\"영어\",\"85\"],\n",
    "    [\"박민수\",\"과학\",\"88\"]\n",
    "]\n",
    "\n",
    "filename = \"grades.csv\"\n",
    "\n",
    "def writer_grades(data, filename):\n",
    "    with open(filename,\"w\",encoding=\"utf-8\", newline='') as f:\n",
    "        wr = csv.writer(f)\n",
    "        wr.writerow([\"이름\",\"과목\",\"점수\"])\n",
    "        wr.writerows(data)\n",
    "        \n",
    "def read_csv(filename):\n",
    "    with open(filename, \"r\",encoding=\"utf-8\") as f:\n",
    "       reader = csv.reader(f)\n",
    "       return [row for row in reader]\n",
    "\n",
    "writer_grades(grades_data, filename)\n",
    "result = read_csv(filename)\n",
    "print(result)\n",
    "    "
   ]
  },
  {
   "cell_type": "code",
   "execution_count": 550,
   "id": "ffb7f8d1-cead-4d80-aa8c-9b7dbab74154",
   "metadata": {},
   "outputs": [
    {
     "name": "stdout",
     "output_type": "stream",
     "text": [
      "[['ID', '이름', '부서'], ['001', '김영희', '인사부'], ['002', '이철수', '개발부'], ['003', '박지민', '마케팅부']]\n"
     ]
    }
   ],
   "source": [
    "# 직원 정보 관리\n",
    "employees_data = [\n",
    "    ['001',\"김영희\",\"인사부\"],\n",
    "    ['002',\"이철수\",\"개발부\"],\n",
    "    ['003',\"박지민\",\"마케팅부\"]\n",
    "]\n",
    "\n",
    "filename = 'employees.csv'\n",
    "def writer_employees(data,filename):\n",
    "       with open(filename,\"w\",encoding=\"utf-8\", newline='') as f:\n",
    "           wr = csv.writer(f)\n",
    "           wr.writerow([\"ID\",\"이름\",\"부서\"])\n",
    "           wr.writerows(data)\n",
    "\n",
    "def read_employees(filename):\n",
    "    with open(filename, \"r\",encoding=\"utf-8\") as f:\n",
    "        reader = csv.reader(f)\n",
    "        return [row for row in reader]\n",
    "\n",
    "writer_employees(employees_data, filename)\n",
    "result = read_employees(filename)\n",
    "print(result)\n"
   ]
  },
  {
   "cell_type": "code",
   "execution_count": 554,
   "id": "0318871b-65b6-426a-a0e3-281bb4073501",
   "metadata": {},
   "outputs": [
    {
     "name": "stdout",
     "output_type": "stream",
     "text": [
      "[['제목', '감독', '개봉 연도'], ['001', '김영희', '인사부'], ['002', '이철수', '개발부'], ['003', '박지민', '마케팅부']]\n"
     ]
    }
   ],
   "source": [
    "# 영화 정보 관리\n",
    "\n",
    "movies_data = [\n",
    "    ['인셉션',\"크리스토퍼 놀란\",\"2010\"],\n",
    "    ['타이타닉',\"제임스 카메론\",\"1997\"],\n",
    "    ['겨울왕국',\"크리스 벅\",\"2013\"]\n",
    "]\n",
    "\n",
    "filename = 'movies.csv'\n",
    "\n",
    "def writer_movies(data,filename):\n",
    "    with open(filename,\"w\",encoding=\"utf-8\", newline='') as f:\n",
    "        wr = csv.writer(f)\n",
    "        wr.writerow([\"제목\",\"감독\",\"개봉 연도\"])\n",
    "        wr.writerows(data)\n",
    "\n",
    "def read_movies(filename):\n",
    "      with open(filename, \"r\",encoding=\"utf-8\") as f:\n",
    "          reader = csv.reader(f)\n",
    "          return [row for row in reader]\n",
    "\n",
    "writer_movies(employees_data, filename)\n",
    "result = read_movies(filename)\n",
    "print(result)"
   ]
  },
  {
   "cell_type": "code",
   "execution_count": 577,
   "id": "e433cd8c-d1f7-41fd-b074-9d49e3ba3442",
   "metadata": {},
   "outputs": [
    {
     "ename": "NameError",
     "evalue": "name 'csv' is not defined",
     "output_type": "error",
     "traceback": [
      "\u001b[1;31m---------------------------------------------------------------------------\u001b[0m",
      "\u001b[1;31mNameError\u001b[0m                                 Traceback (most recent call last)",
      "Cell \u001b[1;32mIn[577], line 21\u001b[0m\n\u001b[0;32m     19\u001b[0m         \u001b[38;5;28;01mreturn\u001b[39;00m [row \u001b[38;5;28;01mfor\u001b[39;00m row \u001b[38;5;129;01min\u001b[39;00m reader]\n\u001b[0;32m     20\u001b[0m filename \u001b[38;5;241m=\u001b[39m \u001b[38;5;124m\"\u001b[39m\u001b[38;5;124mbooks.csv\u001b[39m\u001b[38;5;124m\"\u001b[39m\n\u001b[1;32m---> 21\u001b[0m mf\u001b[38;5;241m.\u001b[39mwrite_books(books_data,filename)\n\u001b[0;32m     22\u001b[0m result \u001b[38;5;241m=\u001b[39m mf\u001b[38;5;241m.\u001b[39mread_books(filename)\n\u001b[0;32m     23\u001b[0m \u001b[38;5;28mprint\u001b[39m(result)\n",
      "File \u001b[1;32mD:\\study\\jupyter\\20241112\\minfo.py:3\u001b[0m, in \u001b[0;36mwrite_books\u001b[1;34m(data, filename)\u001b[0m\n\u001b[0;32m      1\u001b[0m \u001b[38;5;28;01mdef\u001b[39;00m \u001b[38;5;21mwrite_books\u001b[39m(data, filename):\n\u001b[0;32m      2\u001b[0m     \u001b[38;5;28;01mwith\u001b[39;00m \u001b[38;5;28mopen\u001b[39m(filename, \u001b[38;5;124m'\u001b[39m\u001b[38;5;124mw\u001b[39m\u001b[38;5;124m'\u001b[39m, newline\u001b[38;5;241m=\u001b[39m\u001b[38;5;124m'\u001b[39m\u001b[38;5;124m'\u001b[39m, encoding\u001b[38;5;241m=\u001b[39m\u001b[38;5;124m'\u001b[39m\u001b[38;5;124mutf-8\u001b[39m\u001b[38;5;124m'\u001b[39m) \u001b[38;5;28;01mas\u001b[39;00m f:\n\u001b[1;32m----> 3\u001b[0m         writer \u001b[38;5;241m=\u001b[39m csv\u001b[38;5;241m.\u001b[39mwriter(f)\n\u001b[0;32m      4\u001b[0m         writer\u001b[38;5;241m.\u001b[39mwriterow([\u001b[38;5;124m'\u001b[39m\u001b[38;5;124m제목\u001b[39m\u001b[38;5;124m'\u001b[39m, \u001b[38;5;124m'\u001b[39m\u001b[38;5;124m저자\u001b[39m\u001b[38;5;124m'\u001b[39m, \u001b[38;5;124m'\u001b[39m\u001b[38;5;124m출판 연도\u001b[39m\u001b[38;5;124m'\u001b[39m])  \u001b[38;5;66;03m# 헤더 작성\u001b[39;00m\n\u001b[0;32m      5\u001b[0m         writer\u001b[38;5;241m.\u001b[39mwriterows(data)\n",
      "\u001b[1;31mNameError\u001b[0m: name 'csv' is not defined"
     ]
    }
   ],
   "source": [
    "# 영화 정보 관리\n",
    "import minfo as mf\n",
    "\n",
    "books_data = [\n",
    "    ['파이썬 완벽 가이드',\"존 스미스\",\"2020\"],\n",
    "    ['모두의 데이터 분석',\"김예린\",\"2021\"],\n",
    "    ['안전한 웹 개발',\"이민호\",\"2022\"]\n",
    "]\n",
    "\n",
    "filename = \"books.csv\"\n",
    "mf.write_books(books_data,filename)\n",
    "result = mf.read_books(filename)\n",
    "print(result)"
   ]
  },
  {
   "cell_type": "code",
   "execution_count": null,
   "id": "aa11b624-9881-4369-a2f5-73adf92fae26",
   "metadata": {},
   "outputs": [],
   "source": []
  }
 ],
 "metadata": {
  "kernelspec": {
   "display_name": "Python 3 (ipykernel)",
   "language": "python",
   "name": "python3"
  },
  "language_info": {
   "codemirror_mode": {
    "name": "ipython",
    "version": 3
   },
   "file_extension": ".py",
   "mimetype": "text/x-python",
   "name": "python",
   "nbconvert_exporter": "python",
   "pygments_lexer": "ipython3",
   "version": "3.12.7"
  }
 },
 "nbformat": 4,
 "nbformat_minor": 5
}
