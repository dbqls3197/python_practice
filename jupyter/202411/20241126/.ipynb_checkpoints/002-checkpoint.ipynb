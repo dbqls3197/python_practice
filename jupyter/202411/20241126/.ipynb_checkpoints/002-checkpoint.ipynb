{
 "cells": [
  {
   "cell_type": "code",
   "execution_count": null,
   "id": "54df3289-6095-4eda-8f7e-6df8722b4341",
   "metadata": {},
   "outputs": [],
   "source": [
    "import requests\n",
    "from bs4 import BeautifulSoup\n",
    "\n",
    "def download_image(url, filename):\n",
    "     response = requests.get(url)\n",
    "     with open(filename,'wb') as f:\n",
    "        f.write(response.content)\n",
    "         \n",
    "url ='http://10.0.66.99/ex4.html'\n",
    "response = requests.get(url)\n",
    "soup = BeautifulSoup(response.text, 'html.parser')\n",
    "\n",
    "pdfs = soup.select('pdf_doc > download-link')\n",
    "\n",
    "for fn, pdf in enumerate(pdfs,1):\n",
    "\n",
    "    src = image['href']\n",
    "    download_pdf(\"http://10.0.66.99/ex4.html\"+src, f'pdf_{fn:02}.pdf')"
   ]
  },
  {
   "cell_type": "code",
   "execution_count": 40,
   "id": "31266777-17bb-4c5b-b9cd-c180053cae58",
   "metadata": {},
   "outputs": [
    {
     "name": "stdout",
     "output_type": "stream",
     "text": [
      "Status code: 200 (Success)\n",
      "robots.txt Content:\n",
      "User-agent: *\n",
      "Disallow: /\n",
      "\n"
     ]
    }
   ],
   "source": [
    "import requests\n",
    "from bs4 import BeautifulSoup\n",
    "\n",
    "def check_robots_txt(url):\n",
    "\n",
    "    robots_url = f\"{url}/robots.txt\"\n",
    "\n",
    "    try:\n",
    "        response = requests.get(robots_url)\n",
    "\n",
    "        if response.status_code == 200:\n",
    "            print(f\"Status code: {response.status_code} (Success)\")\n",
    "            print(\"robots.txt Content:\")\n",
    "            print(response.text)\n",
    "        else:\n",
    "            print(f\"Status Code: {response.status_code} (No robots.txt found)\")\n",
    "\n",
    "    except Exception as e :\n",
    "        print(f\"Error occurred: {e}\")\n",
    "\n",
    "check_robots_txt(\"http://lecture.pul.kr\")"
   ]
  },
  {
   "cell_type": "code",
   "execution_count": null,
   "id": "c8e159f1-9838-4384-b6cd-35157c3356d7",
   "metadata": {},
   "outputs": [],
   "source": []
  }
 ],
 "metadata": {
  "kernelspec": {
   "display_name": "Python 3 (ipykernel)",
   "language": "python",
   "name": "python3"
  },
  "language_info": {
   "codemirror_mode": {
    "name": "ipython",
    "version": 3
   },
   "file_extension": ".py",
   "mimetype": "text/x-python",
   "name": "python",
   "nbconvert_exporter": "python",
   "pygments_lexer": "ipython3",
   "version": "3.12.7"
  }
 },
 "nbformat": 4,
 "nbformat_minor": 5
}
