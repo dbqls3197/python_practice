{
 "cells": [
  {
   "cell_type": "code",
   "execution_count": 46,
   "id": "2652f04b-198f-4c45-b378-141b859146e3",
   "metadata": {},
   "outputs": [
    {
     "name": "stdout",
     "output_type": "stream",
     "text": [
      "File: 001.ipynb - 1,741 bytes\n",
      "Total file size in 'D:\\study\\jupyter\\20241118' : 1,741 bytes\n"
     ]
    }
   ],
   "source": [
    "## 특정 폴더 내 모든 파일크기 및 합산 크기\n",
    "import os\n",
    "'''\n",
    "os.path.getsize(file_path) : 파일크기 (byte기준)\n",
    "1. 특정 폴더 목록 순회\n",
    "2. 목록의 절대경로\n",
    "3. 목록이 파일인지 확인\n",
    "4. 파일이면 파일크기 반환 및 전체크기 합산\n",
    "5. 개별파일 크기 및 크기 표시\n",
    "'''\n",
    "def calculate_total_file_size(file):\n",
    "    total_size = 0\n",
    "    for files in os.listdir(file):\n",
    "        file_path = os.path.join(file,files)\n",
    "        if os.path.isfile(file_path):\n",
    "            size = os.path.getsize(file_path)\n",
    "            total_size += size\n",
    "            print(f\"File: {files} - {size:,} bytes\")\n",
    "    print(f\"Total file size in '{file}' : {total_size:,} bytes\")\n",
    "            \n",
    "target_directory = os.getcwd()\n",
    "calculate_total_file_size(target_directory)"
   ]
  },
  {
   "cell_type": "code",
   "execution_count": 117,
   "id": "a370d80e-9bf8-4df4-8763-adef046254e3",
   "metadata": {},
   "outputs": [
    {
     "name": "stdout",
     "output_type": "stream",
     "text": [
      "D:/study/jupyter/20241118 폴더 내 파일 목록: ['D:/study/jupyter/20241118\\\\001.ipynb']\n",
      "File: D:/study/jupyter/20241118\\001.ipynb - 13,681 bytes\n",
      "------------------------------------------------------------\n",
      "Total file size in 'D:/study/jupyter/20241118': 13,681 bytes\n"
     ]
    },
    {
     "data": {
      "text/plain": [
       "'D:\\\\study\\\\jupyter\\\\20241118'"
      ]
     },
     "execution_count": 117,
     "metadata": {},
     "output_type": "execute_result"
    }
   ],
   "source": [
    "#특정 폴더 내 모든 파일크기 및 합산 크기\n",
    "'''\n",
    "os.path.getsize(file_path) :  파일크기 (byte기준)\n",
    "'''\n",
    "'''\n",
    "File: 파일명  - 파일크기 bytes\n",
    "'''\n",
    "'''\n",
    "[순서]\n",
    "1) 특정 폴더내 파일 목록 가져오기\n",
    "2) 특정 폴더 내 모든 파일크기 및 합산크기 출력\n",
    "'''\n",
    "\n",
    "import os\n",
    "\n",
    "#특정 폴더내 파일 목록 가져오기 get_files(특정 폴더 경로)\n",
    "def get_files(target_dir):\n",
    "    file_list = os.listdir(target_dir)\n",
    "    file = []\n",
    "    for i in file_list:\n",
    "        source_file = os.path.join(target_dir,i) # 타겟 폴더 위치랑 파일명을 조인함수를 통해 합쳐줘야됨 아니면 경로를 찾아가지 못함\n",
    "        if os.path.isfile(source_file):\n",
    "            file.append(source_file)\n",
    " \n",
    "    print(f\"{target_dir} 폴더 내 파일 목록: {file}\")\n",
    "    return file\n",
    "\n",
    "#특정 폴더 내 모든 파일크기 및 합산 크기 size_files(파일 리스트, 특정 폴더 경로)\n",
    "def size_files(file,target_dir):\n",
    "    total_size = 0\n",
    "    for i in file:\n",
    "        file_path = os.path.join(target_dir,i)\n",
    "        file_size = os.path.getsize(file_path)\n",
    "        total_size += file_size\n",
    "        print(f\"File: {i} - {file_size:,} bytes\")\n",
    "    print(\"-\"*60)\n",
    "    print(f\"Total file size in '{target_dir}': {total_size:,} bytes\")\n",
    "\n",
    "target_dir ='D:/study/jupyter/20241118'\n",
    "file = get_files(target_dir)\n",
    "size_files(file,target_dir)\n",
    "\n",
    "os.getcwd()"
   ]
  },
  {
   "cell_type": "code",
   "execution_count": 121,
   "id": "24c6f336-358c-49c8-b3a3-d8d26f4625aa",
   "metadata": {},
   "outputs": [
    {
     "name": "stdout",
     "output_type": "stream",
     "text": [
      "D:/study/jupyter/20241118 폴더 내 파일 목록: ['D:/study/jupyter/20241118\\\\001.ipynb']\n"
     ]
    },
    {
     "ename": "OSError",
     "evalue": "[WinError 123] 파일 이름, 디렉터리 이름 또는 볼륨 레이블 구문이 잘못되었습니다: 'D:/study/jupyter/20241118/D:/study/jupyter/20241118\\\\001.ipynb' -> 'D:/study/jupyter/20241118/newD:/study/jupyter/20241118\\\\001.ipynb'",
     "output_type": "error",
     "traceback": [
      "\u001b[1;31m---------------------------------------------------------------------------\u001b[0m",
      "\u001b[1;31mOSError\u001b[0m                                   Traceback (most recent call last)",
      "Cell \u001b[1;32mIn[121], line 43\u001b[0m\n\u001b[0;32m     41\u001b[0m rename2 \u001b[38;5;241m=\u001b[39m \u001b[38;5;124m'\u001b[39m\u001b[38;5;124m_jjang\u001b[39m\u001b[38;5;124m'\u001b[39m\n\u001b[0;32m     42\u001b[0m file \u001b[38;5;241m=\u001b[39m get_files(target_dir)\n\u001b[1;32m---> 43\u001b[0m rename_files(file, target_dir, rename1)\n",
      "Cell \u001b[1;32mIn[121], line 26\u001b[0m, in \u001b[0;36mrename_files\u001b[1;34m(file, target_dir, rename)\u001b[0m\n\u001b[0;32m     24\u001b[0m \u001b[38;5;28;01mif\u001b[39;00m i[:\u001b[38;5;28mlen\u001b[39m(rename)] \u001b[38;5;241m!=\u001b[39m rename:\n\u001b[0;32m     25\u001b[0m     new_name \u001b[38;5;241m=\u001b[39m rename \u001b[38;5;241m+\u001b[39m i\n\u001b[1;32m---> 26\u001b[0m     os\u001b[38;5;241m.\u001b[39mrename(target_dir\u001b[38;5;241m+\u001b[39m\u001b[38;5;124m'\u001b[39m\u001b[38;5;124m/\u001b[39m\u001b[38;5;124m'\u001b[39m\u001b[38;5;241m+\u001b[39mi , target_dir\u001b[38;5;241m+\u001b[39m\u001b[38;5;124m'\u001b[39m\u001b[38;5;124m/\u001b[39m\u001b[38;5;124m'\u001b[39m\u001b[38;5;241m+\u001b[39mnew_name)\n\u001b[0;32m     27\u001b[0m     \u001b[38;5;28mprint\u001b[39m(\u001b[38;5;124mf\u001b[39m\u001b[38;5;124m\"\u001b[39m\u001b[38;5;124m원래 name: \u001b[39m\u001b[38;5;132;01m{\u001b[39;00mi\u001b[38;5;132;01m}\u001b[39;00m\u001b[38;5;124m, New name: \u001b[39m\u001b[38;5;132;01m{\u001b[39;00mnew_name\u001b[38;5;132;01m}\u001b[39;00m\u001b[38;5;124m\"\u001b[39m)\n",
      "\u001b[1;31mOSError\u001b[0m: [WinError 123] 파일 이름, 디렉터리 이름 또는 볼륨 레이블 구문이 잘못되었습니다: 'D:/study/jupyter/20241118/D:/study/jupyter/20241118\\\\001.ipynb' -> 'D:/study/jupyter/20241118/newD:/study/jupyter/20241118\\\\001.ipynb'"
     ]
    }
   ],
   "source": [
    "#### 지정된 디렉토리 내의 모든 파일 이름에 '이름_' 전두사를 추가하여 이름을 변경\n",
    "'''\n",
    "1) 특정폴더 내의 파일 찾기\n",
    "2) 모든 파일 이름을 os.rename(전,후)를 사용하여 이름 변경\n",
    "'''\n",
    "import os\n",
    "\n",
    "#특정 폴더내 파일 목록 가져오기 get_files(특정 폴더 경로)\n",
    "def getfiles(target_dir):\n",
    "    file_list = os.listdir(target_dir)\n",
    "    file = []\n",
    "    for i in file_list:\n",
    "        source_file = os.path.join(target_dir,i) # 절대경로 : 루트부터 시작된 full 경로\n",
    "        if os.path.isfile(source_file):\n",
    "            file.append(i)\n",
    " \n",
    "    print(f\"{target_dir} 폴더 내 파일 목록: {file}\")\n",
    "    return file\n",
    "\n",
    "#모든 파일 이름을 junhyuk\n",
    " #접두사를 사용하여 이름변경 단, 같은 접두사가 이미 들어가 있는 경우는 제외\n",
    "def rename_files(file, target_dir, rename):\n",
    "    for i in file:\n",
    "        if i[:len(rename)] != rename:\n",
    "            new_name = rename + i\n",
    "            os.rename(target_dir+'/'+i , target_dir+'/'+new_name)\n",
    "            print(f\"원래 name: {i}, New name: {new_name}\")\n",
    "\n",
    "#모든 파일 이름을 _jjang 접미사를 사용하여 이름변경 단, 같은 접미사가 이미 들어가 있는 경우는 제외  .jpg -> _jjang.jpg 로 바꿔서 넣어줘도 가능\n",
    "def renamefiles2(file, target_dir,rename):\n",
    "    for i in file:\n",
    "        a = ''.join(i.split('.')[:-1])\n",
    "        if a[-len(rename):] != rename:\n",
    "            new_name = ''.join(i.split('.')[:-1])+rename+'.'+i.split('.')[-1]\n",
    "            os.rename(target_dir+'/'+i, target_dir+'/'+new_name)\n",
    "            print(f\"원래 name: {i}, New name: {new_name}\")\n",
    "\n",
    "\n",
    "target_dir = 'D:/study/jupyter/20241118'\n",
    "rename1 = 'new'\n",
    "rename2 = '_jjang'\n",
    "file = get_files(target_dir)\n",
    "rename_files(file, target_dir, rename1)\n",
    "#rename_files2(file, target_dir, rename2)"
   ]
  },
  {
   "cell_type": "code",
   "execution_count": 75,
   "id": "322e2137-b3ac-45d2-8ce0-545512e0c9d7",
   "metadata": {},
   "outputs": [
    {
     "name": "stdout",
     "output_type": "stream",
     "text": [
      "\n",
      "=== To Do List ===\n",
      "1. 할 일 추가\n",
      "2. 할 일 목록 보기\n",
      "3. 할 일 완료하기\n",
      "4. 종료\n"
     ]
    },
    {
     "name": "stdin",
     "output_type": "stream",
     "text": [
      "선택:  4\n"
     ]
    },
    {
     "name": "stdout",
     "output_type": "stream",
     "text": [
      "종료합니다\n"
     ]
    }
   ],
   "source": [
    "tasks = [] \n",
    "\n",
    "while True:\n",
    "    print(\"\\n=== To Do List ===\")\n",
    "    print(\"1. 할 일 추가\")\n",
    "    print(\"2. 할 일 목록 보기\")\n",
    "    print(\"3. 할 일 완료하기\")\n",
    "    print(\"4. 종료\")\n",
    "\n",
    "    choice = input(\"선택: \")\n",
    "\n",
    "    if choice == \"1\":\n",
    "        task = input(\"할 일을 입력하세요: \")\n",
    "        tasks.append(task)\n",
    "        print(\"추가되었습니다.\")\n",
    "    elif choice == \"2\":\n",
    "        if tasks:\n",
    "            for i, task in enumerate(tasks, 1):\n",
    "                print(f\"{i}. {task}\")\n",
    "        else:\n",
    "            print(\"추가된 할 일 목록이 없습니다.\")\n",
    "    elif choice == \"3\":\n",
    "        if tasks:\n",
    "            for i, task in enumerate(tasks, 1):\n",
    "                print(f\"{i}. {task}\")\n",
    "            num = int(input(\"완료된 목록 번호: \")) - 1\n",
    "            if 0 <= num < len(tasks):  # len(tasks)가 아니라 len(tasks)\n",
    "                completed_task = tasks.pop(num)  # tasks로 수정\n",
    "                print(f\"{completed_task}이 삭제되었습니다.\")  # dnum -> completed_task\n",
    "        else:\n",
    "            print(\"할 일이 없습니다.\")\n",
    "    elif choice == \"4\":\n",
    "        print(\"종료합니다\")\n",
    "        break\n"
   ]
  },
  {
   "cell_type": "code",
   "execution_count": 11,
   "id": "428fc0f5-0671-499d-b2f0-a25ea2b9e662",
   "metadata": {},
   "outputs": [
    {
     "name": "stdout",
     "output_type": "stream",
     "text": [
      "\n",
      "=== To Do List ===\n",
      "1. 할 일 추가\n",
      "2. 할 일 목록 보기\n",
      "3. 할 일 완료하기\n",
      "4. 종료\n"
     ]
    },
    {
     "name": "stdin",
     "output_type": "stream",
     "text": [
      "선택:  4\n"
     ]
    },
    {
     "name": "stdout",
     "output_type": "stream",
     "text": [
      "종료합니다\n"
     ]
    }
   ],
   "source": [
    "def show_menu():\n",
    "    print(\"\\n=== To Do List ===\")\n",
    "    print(\"1. 할 일 추가\")\n",
    "    print(\"2. 할 일 목록 보기\")\n",
    "    print(\"3. 할 일 완료하기\")\n",
    "    print(\"4. 종료\")\n",
    "\n",
    "def add_task(tasks):\n",
    "        task = input(\"할 일을 입력하세요: \")\n",
    "        tasks.append(task)\n",
    "        print(\"추가되었습니다.\")\n",
    "\n",
    "def show_tasks(tasks):\n",
    "    if tasks:\n",
    "            for i, task in enumerate(tasks, 1):\n",
    "                print(f\"{i}. {task}\")\n",
    "    else:\n",
    "        print(\"추가된 할 일 목록이 없습니다.\")\n",
    "\n",
    "def complete_task(task):\n",
    "    if tasks:\n",
    "            for i, task in enumerate(tasks, 1):\n",
    "                print(f\"{i}. {task}\")\n",
    "            num = int(input(\"완료된 목록 번호: \")) - 1\n",
    "            if 0 <= num < len(tasks):  \n",
    "                dnum = tasks.pop(num)  \n",
    "                print(f\"{dnum}이 삭제되었습니다.\") \n",
    "    else:\n",
    "        print(\"할 일이 없습니다.\")\n",
    "def main():\n",
    "    tasks = []\n",
    "    while True:\n",
    "        show_menu()\n",
    "        choice = input(\"선택: \")\n",
    "\n",
    "        if choice == \"1\":\n",
    "            add_task(tasks)\n",
    "        elif choice == \"2\":\n",
    "            show_task(tasks)\n",
    "        elif choice == \"3\":\n",
    "            complete_task(tasks)\n",
    "        elif choice == \"4\":\n",
    "            print(\"종료합니다\")\n",
    "            break\n",
    "main()\n"
   ]
  },
  {
   "cell_type": "code",
   "execution_count": 11,
   "id": "32ca7de0-97a9-4519-9651-3c931318e78d",
   "metadata": {},
   "outputs": [
    {
     "name": "stdout",
     "output_type": "stream",
     "text": [
      "\n",
      "=== To Do List ===\n",
      "1. 할 일 추가\n",
      "2. 할 일 목록 보기\n",
      "3. 할 일 완료하기\n",
      "4. 종료\n"
     ]
    },
    {
     "name": "stdin",
     "output_type": "stream",
     "text": [
      "선택:  3\n"
     ]
    },
    {
     "name": "stdout",
     "output_type": "stream",
     "text": [
      "1. 숨쉬기\n"
     ]
    },
    {
     "name": "stdin",
     "output_type": "stream",
     "text": [
      "완료된 목록 번호:  1\n"
     ]
    },
    {
     "name": "stdout",
     "output_type": "stream",
     "text": [
      "숨쉬기이 삭제되었습니다.\n",
      "\n",
      "=== To Do List ===\n",
      "1. 할 일 추가\n",
      "2. 할 일 목록 보기\n",
      "3. 할 일 완료하기\n",
      "4. 종료\n"
     ]
    },
    {
     "name": "stdin",
     "output_type": "stream",
     "text": [
      "선택:  커피먹기\n"
     ]
    },
    {
     "name": "stdout",
     "output_type": "stream",
     "text": [
      "\n",
      "=== To Do List ===\n",
      "1. 할 일 추가\n",
      "2. 할 일 목록 보기\n",
      "3. 할 일 완료하기\n",
      "4. 종료\n"
     ]
    },
    {
     "name": "stdin",
     "output_type": "stream",
     "text": [
      "선택:  2\n"
     ]
    },
    {
     "name": "stdout",
     "output_type": "stream",
     "text": [
      "추가된 할 일 목록이 없습니다.\n",
      "\n",
      "=== To Do List ===\n",
      "1. 할 일 추가\n",
      "2. 할 일 목록 보기\n",
      "3. 할 일 완료하기\n",
      "4. 종료\n"
     ]
    },
    {
     "name": "stdin",
     "output_type": "stream",
     "text": [
      "선택:  4\n"
     ]
    },
    {
     "name": "stdout",
     "output_type": "stream",
     "text": [
      "종료합니다\n"
     ]
    }
   ],
   "source": [
    "import sqlite3\n",
    "\n",
    "def show_menu():\n",
    "    print(\"\\n=== To Do List ===\")\n",
    "    print(\"1. 할 일 추가\")\n",
    "    print(\"2. 할 일 목록 보기\")\n",
    "    print(\"3. 할 일 완료하기\")\n",
    "    print(\"4. 종료\")\n",
    "\n",
    "def initialize_db():\n",
    "    conn = sqlite3.connect('tasks.db')\n",
    "    cursor = conn.cursor()\n",
    "    cursor.execute('''\n",
    "        CREATE TABLE IF NOT EXISTS tasks(\n",
    "        id INTEGER PRIMARY KEY AUTOINCREMENT,\n",
    "        task TEXT NOT NULL\n",
    "        )\n",
    "        ''')\n",
    "    return conn\n",
    "\n",
    "def load_tasks(conn):\n",
    "    cursor = conn.cursor()\n",
    "    cursor.execute('SELECT * FROM tasks')\n",
    "    return cursor.fetchall() # {(id,tasks),(id,task)}\n",
    "\n",
    "def save_task(tasks,conn):\n",
    "    cursor = conn.cursor()\n",
    "    cursor.execute('DELETE FROM tasks')\n",
    "    for task in tasks:\n",
    "        cursor.execute('INSERT INTO tasks (task) VALUES (?)',(task,))\n",
    "    conn.commit()\n",
    "         \n",
    "def add_task(tasks):\n",
    "        task = input(\"할 일을 입력하세요: \")\n",
    "        tasks.append(task)\n",
    "        print(\"추가되었습니다.\")\n",
    "\n",
    "def show_task(tasks):\n",
    "    if tasks:\n",
    "            for i, task in enumerate(tasks, 1):\n",
    "                print(f\"{i}. {task}\")\n",
    "    else:\n",
    "        print(\"추가된 할 일 목록이 없습니다.\")\n",
    "\n",
    "def complete_task(tasks):\n",
    "    if tasks:\n",
    "            for i, task in enumerate(tasks, 1):\n",
    "                print(f\"{i}. {task}\")\n",
    "            num = int(input(\"완료된 목록 번호: \")) - 1\n",
    "            if 0 <= num < len(tasks):  \n",
    "                dnum = tasks.pop(num)  \n",
    "                print(f\"{dnum}이 삭제되었습니다.\") \n",
    "    else:\n",
    "        print(\"할 일이 없습니다.\")\n",
    "def main():\n",
    "    conn = initialize_db()\n",
    "    tasks =load_tasks(conn)\n",
    "    tasks = [task[1] for task in tasks]\n",
    "    while True:\n",
    "        show_menu()\n",
    "        choice = input(\"선택: \")\n",
    "\n",
    "        if choice == \"1\":\n",
    "            add_task(tasks)\n",
    "            save_task(tasks,conn)\n",
    "        elif choice == \"2\":\n",
    "            show_task(tasks)\n",
    "        elif choice == \"3\":\n",
    "            complete_task(tasks)\n",
    "            save_task(tasks,conn)\n",
    "        elif choice == \"4\":\n",
    "            print(\"종료합니다\")\n",
    "            break\n",
    "main()\n"
   ]
  },
  {
   "cell_type": "code",
   "execution_count": null,
   "id": "4e4f70c0-343b-45ff-a040-541a33ab75d2",
   "metadata": {},
   "outputs": [
    {
     "name": "stdout",
     "output_type": "stream",
     "text": [
      "=== ToDo 관리 프로그램 ===\n",
      "\n",
      "1. 할일 추가\n",
      "2. 할일 완료\n",
      "3. 할일 삭제\n",
      "4. 할일 목록\n",
      "5. 종료\n",
      "할일이 없습니다.\n"
     ]
    },
    {
     "name": "stdin",
     "output_type": "stream",
     "text": [
      "\n",
      "선택하세요 (1-5):  1\n"
     ]
    },
    {
     "name": "stdout",
     "output_type": "stream",
     "text": [
      "=== ToDo 관리 프로그램 ===\n",
      "\n",
      "1. 할일 추가\n",
      "2. 할일 완료\n",
      "3. 할일 삭제\n",
      "4. 할일 목록\n",
      "5. 종료\n",
      "할일이 없습니다.\n"
     ]
    },
    {
     "name": "stdin",
     "output_type": "stream",
     "text": [
      "할일 제목:  숨쉬기\n"
     ]
    },
    {
     "name": "stdout",
     "output_type": "stream",
     "text": [
      "할일 \"숨쉬기\" 추가됨\n",
      "=== ToDo 관리 프로그램 ===\n",
      "\n",
      "1. 할일 추가\n",
      "2. 할일 완료\n",
      "3. 할일 삭제\n",
      "4. 할일 목록\n",
      "5. 종료\n",
      "\n",
      "\n",
      "**********************************************************************\n",
      "현재 할일 목록:\n",
      "[ ] #1 숨쉬기\n",
      "**********************************************************************\n"
     ]
    },
    {
     "name": "stdin",
     "output_type": "stream",
     "text": [
      "\n",
      "선택하세요 (1-5):  1\n"
     ]
    },
    {
     "name": "stdout",
     "output_type": "stream",
     "text": [
      "=== ToDo 관리 프로그램 ===\n",
      "\n",
      "1. 할일 추가\n",
      "2. 할일 완료\n",
      "3. 할일 삭제\n",
      "4. 할일 목록\n",
      "5. 종료\n",
      "\n",
      "\n",
      "**********************************************************************\n",
      "현재 할일 목록:\n",
      "[ ] #1 숨쉬기\n",
      "**********************************************************************\n"
     ]
    },
    {
     "name": "stdin",
     "output_type": "stream",
     "text": [
      "할일 제목:  커피마시기\n"
     ]
    },
    {
     "name": "stdout",
     "output_type": "stream",
     "text": [
      "할일 \"커피마시기\" 추가됨\n",
      "=== ToDo 관리 프로그램 ===\n",
      "\n",
      "1. 할일 추가\n",
      "2. 할일 완료\n",
      "3. 할일 삭제\n",
      "4. 할일 목록\n",
      "5. 종료\n",
      "\n",
      "\n",
      "**********************************************************************\n",
      "현재 할일 목록:\n",
      "[ ] #1 숨쉬기\n",
      "[ ] #2 커피마시기\n",
      "**********************************************************************\n"
     ]
    },
    {
     "name": "stdin",
     "output_type": "stream",
     "text": [
      "\n",
      "선택하세요 (1-5):  2\n"
     ]
    },
    {
     "name": "stdout",
     "output_type": "stream",
     "text": [
      "=== ToDo 관리 프로그램 ===\n",
      "\n",
      "1. 할일 추가\n",
      "2. 할일 완료\n",
      "3. 할일 삭제\n",
      "4. 할일 목록\n",
      "5. 종료\n",
      "\n",
      "\n",
      "**********************************************************************\n",
      "현재 할일 목록:\n",
      "[ ] #1 숨쉬기\n",
      "[ ] #2 커피마시기\n",
      "**********************************************************************\n"
     ]
    },
    {
     "name": "stdin",
     "output_type": "stream",
     "text": [
      "완료할 할일 번호:  1\n"
     ]
    },
    {
     "name": "stdout",
     "output_type": "stream",
     "text": [
      "할일 #1 완료 처리됨\n",
      "=== ToDo 관리 프로그램 ===\n",
      "\n",
      "1. 할일 추가\n",
      "2. 할일 완료\n",
      "3. 할일 삭제\n",
      "4. 할일 목록\n",
      "5. 종료\n",
      "\n",
      "\n",
      "**********************************************************************\n",
      "현재 할일 목록:\n",
      "[✓] #1 숨쉬기\n",
      "[ ] #2 커피마시기\n",
      "**********************************************************************\n"
     ]
    }
   ],
   "source": [
    "import sqlite3\n",
    "import os \n",
    "import time \n",
    "\n",
    "def clear_screen(): \n",
    "    # Windows \n",
    "    if os.name == 'nt': \n",
    "        os.system('cls') \n",
    "    # Mac/Linux \n",
    "    else: \n",
    "        os.system('clear')\n",
    "\n",
    "def init_db():\n",
    "    conn = sqlite3.connect('todo.db')\n",
    "    cursor = conn.cursor()\n",
    "    cursor.execute('''\n",
    "    CREATE TABLE IF NOT EXISTS tasks (\n",
    "        id INTEGER PRIMARY KEY AUTOINCREMENT,\n",
    "        title TEXT NOT NULL,\n",
    "        completed BOOLEAN DEFAULT FALSE,\n",
    "        created_at DATETIME DEFAULT CURRENT_TIMESTAMP\n",
    "    )\n",
    "    ''')\n",
    "    conn.commit()\n",
    "    return conn, cursor\n",
    "\n",
    "def add_task(cursor, conn, title):\n",
    "    cursor.execute('''\n",
    "    INSERT INTO tasks (title, completed)\n",
    "    VALUES (?, ?)\n",
    "    ''', (title, False))\n",
    "    conn.commit()\n",
    "    print(f'할일 \"{title}\" 추가됨')\n",
    "    time.sleep(1)\n",
    "\n",
    "def complete_task(cursor, conn, task_id):\n",
    "    cursor.execute('''\n",
    "    UPDATE tasks\n",
    "    SET completed = TRUE\n",
    "    WHERE id = ?\n",
    "    ''', (task_id,))\n",
    "   \n",
    "    if cursor.rowcount > 0:\n",
    "        conn.commit()\n",
    "        print(f'할일 #{task_id} 완료 처리됨')\n",
    "    else:\n",
    "        print(f'할일 #{task_id}를 찾을 수 없음')\n",
    "    time.sleep(1)\n",
    "\n",
    "def delete_task(cursor, conn, task_id):\n",
    "    cursor.execute('''\n",
    "    DELETE FROM tasks\n",
    "    WHERE id = ?\n",
    "    ''', (task_id,))\n",
    "   \n",
    "    if cursor.rowcount > 0:\n",
    "        conn.commit()\n",
    "        print(f'할일 #{task_id} 삭제됨')\n",
    "    else:\n",
    "        print(f'할일 #{task_id}를 찾을 수 없음')\n",
    "    time.sleep(1)\n",
    "\n",
    "def list_tasks(cursor):\n",
    "    cursor.execute('''\n",
    "    SELECT id, title, completed\n",
    "    FROM tasks\n",
    "    ORDER BY created_at\n",
    "    ''')\n",
    "    tasks = cursor.fetchall()\n",
    "\n",
    "    if not tasks:\n",
    "        print('할일이 없습니다.')\n",
    "        return\n",
    "\n",
    "    print('\\n')\n",
    "    print('*'*70)\n",
    "    print('현재 할일 목록:')\n",
    "    for task in tasks:\n",
    "        status = '✓' if task[2] else ' '\n",
    "        print(f\"[{status}] #{task[0]} {task[1]}\")\n",
    "    print('*'*70)\n",
    "def display_menu(): \n",
    "    print(\"=== ToDo 관리 프로그램 ===\") \n",
    "    print(\"\\n1. 할일 추가\") \n",
    "    print(\"2. 할일 완료\") \n",
    "    print(\"3. 할일 삭제\") \n",
    "    print(\"4. 할일 목록\") \n",
    "    print(\"5. 종료\")\n",
    "\n",
    "def main():\n",
    "    conn, cursor = init_db()\n",
    "   \n",
    "    while True:\n",
    "        clear_screen() \n",
    "        display_menu() \n",
    "        list_tasks(cursor)\n",
    "       \n",
    "        try:\n",
    "            choice = input(\"\\n선택하세요 (1-5): \")\n",
    "           \n",
    "            if choice == '1':\n",
    "                clear_screen() \n",
    "                display_menu() \n",
    "                list_tasks(cursor)\n",
    "                title = input(\"할일 제목: \")\n",
    "                add_task(cursor, conn, title)\n",
    "               \n",
    "            elif choice == '2':\n",
    "                clear_screen() \n",
    "                display_menu() \n",
    "                list_tasks(cursor)\n",
    "                task_id = int(input(\"완료할 할일 번호: \"))\n",
    "                complete_task(cursor, conn, task_id)\n",
    "               \n",
    "            elif choice == '3':\n",
    "                clear_screen() \n",
    "                display_menu() \n",
    "                list_tasks(cursor)\n",
    "                task_id = int(input(\"삭제할 할일 번호: \"))\n",
    "                delete_task(cursor, conn, task_id)\n",
    "               \n",
    "            elif choice == '4':\n",
    "                clear_screen() \n",
    "                display_menu() \n",
    "                list_tasks(cursor)\n",
    "                input(\"\\nEnter를 누르면 계속합니다...\")\n",
    "               \n",
    "            elif choice == '5':\n",
    "                clear_screen()\n",
    "                print(\"프로그램을 종료합니다.\")\n",
    "                conn.close()\n",
    "                break\n",
    "               \n",
    "            else:\n",
    "                print(\"잘못된 선택입니다. 다시 선택해주세요.\")\n",
    "                time.sleep(1)\n",
    "\n",
    "        except ValueError:\n",
    "            print(\"올바른 숫자를 입력해주세요.\")\n",
    "            time.sleep(1)\n",
    "        except Exception as e:\n",
    "            print(f\"오류가 발생했습니다: {e}\")\n",
    "            time.sleep(1)\n",
    "\n",
    "main()\n",
    "\n",
    "\n"
   ]
  },
  {
   "cell_type": "code",
   "execution_count": null,
   "id": "7e07ccef-1da2-4313-a547-72b845a5b2ce",
   "metadata": {},
   "outputs": [],
   "source": []
  }
 ],
 "metadata": {
  "kernelspec": {
   "display_name": "Python 3 (ipykernel)",
   "language": "python",
   "name": "python3"
  },
  "language_info": {
   "codemirror_mode": {
    "name": "ipython",
    "version": 3
   },
   "file_extension": ".py",
   "mimetype": "text/x-python",
   "name": "python",
   "nbconvert_exporter": "python",
   "pygments_lexer": "ipython3",
   "version": "3.12.7"
  }
 },
 "nbformat": 4,
 "nbformat_minor": 5
}
