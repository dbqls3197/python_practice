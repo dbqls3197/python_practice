{
 "cells": [
  {
   "cell_type": "code",
   "execution_count": 4,
   "id": "051216ab-8bb3-4d83-9bd1-9a974a2c5426",
   "metadata": {},
   "outputs": [
    {
     "ename": "NameError",
     "evalue": "name 'backup_files' is not defined",
     "output_type": "error",
     "traceback": [
      "\u001b[1;31m---------------------------------------------------------------------------\u001b[0m",
      "\u001b[1;31mNameError\u001b[0m                                 Traceback (most recent call last)",
      "Cell \u001b[1;32mIn[4], line 5\u001b[0m\n\u001b[0;32m      3\u001b[0m source_directory \u001b[38;5;241m=\u001b[39m \u001b[38;5;124m\"\u001b[39m\u001b[38;5;124mpath/to/source_directory\u001b[39m\u001b[38;5;124m\"\u001b[39m\n\u001b[0;32m      4\u001b[0m backup_directory \u001b[38;5;241m=\u001b[39m \u001b[38;5;124m\"\u001b[39m\u001b[38;5;124mpath/to/backup_directory\u001b[39m\u001b[38;5;124m\"\u001b[39m\n\u001b[1;32m----> 5\u001b[0m backup_files(source_directory, backup_directory)\n",
      "\u001b[1;31mNameError\u001b[0m: name 'backup_files' is not defined"
     ]
    }
   ],
   "source": [
    "# 빽업\n",
    "import os\n",
    "\n",
    "# os.path.exists # 빽업폴더가 존재하는지 확인\n",
    "# os.makedirs # 뺵업폴더가 없으면 생성\n",
    "# os.listdir # 원본폴더의 파일목롤 불러오기\n",
    "# for{\n",
    "    # os.path .isfile : 목록이 파일인지 확인\n",
    "        # with open(\"source_directory/파일명\",\"rb\") as f1 # 작업폴더 \n",
    "        # f1.read()\n",
    "        # with open(\"backup_directory/파일명\",\"wb\") as f2 # 뺵업폴더\n",
    "        # f2.write()\n",
    "    #}\n",
    "\n",
    "source_directory = os.getcwd()\n",
    "backup_directory = \"example_dir\"\n",
    "backup_files(source_directory, backup_directory)\n"
   ]
  },
  {
   "cell_type": "code",
   "execution_count": 222,
   "id": "2d8dffbd-f3b7-4ff9-afa6-baa96a02de18",
   "metadata": {},
   "outputs": [],
   "source": [
    "import os\n",
    "\n",
    "def backup_files(source_directory, backup_directory):  #객체 만들기\n",
    "\n",
    "    os.path.exists(\"afile\") # 파일이 있는지 체크\n",
    "    \n",
    "    new_file = \"afile\"  # 파일이 없다면 만들기\n",
    "    os.makedirs(new_file) \n",
    "    \n",
    "    example = os.listdir(source_directory) # 현재 파일 목록을 example에 넣음\n",
    "    for a in example: # example을 a에 넣고 \n",
    "        if os.path.isfile(a):  # 만약 (a)파일이 있다면  (절대경로)\n",
    "            with open(source_directory + \"/\" + a,\"rb\") as f1:\n",
    "                b  = f1.read() # (a)파일을 읽고 b에 넣기\n",
    "            with open(backup_directory + \"/\" + a,\"wb\") as f2:\n",
    "                f2.write(b)  # b로 옮겨진 파일을 백업파일에 넣기\n",
    "        \n",
    "    \n",
    "source_directory = os.getcwd() # 현재 파일\n",
    "backup_directory = os.getcwd() + '/afile' # 현재파일을 afile 파일에 넣기\n",
    "backup_files(source_directory, backup_directory)\n"
   ]
  },
  {
   "cell_type": "code",
   "execution_count": null,
   "id": "363b1847-48bf-4998-981a-bf25fd0cf9cf",
   "metadata": {},
   "outputs": [],
   "source": []
  }
 ],
 "metadata": {
  "kernelspec": {
   "display_name": "Python 3 (ipykernel)",
   "language": "python",
   "name": "python3"
  },
  "language_info": {
   "codemirror_mode": {
    "name": "ipython",
    "version": 3
   },
   "file_extension": ".py",
   "mimetype": "text/x-python",
   "name": "python",
   "nbconvert_exporter": "python",
   "pygments_lexer": "ipython3",
   "version": "3.12.7"
  }
 },
 "nbformat": 4,
 "nbformat_minor": 5
}
