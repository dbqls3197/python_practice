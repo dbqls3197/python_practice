{
 "cells": [
  {
   "cell_type": "markdown",
   "id": "503ef398-f70e-4a9b-83d6-3e7b230ba4b7",
   "metadata": {},
   "source": [
    "### JSON"
   ]
  },
  {
   "cell_type": "code",
   "execution_count": 5,
   "id": "403b20b7-f7b6-40d7-9a17-978a288431fb",
   "metadata": {},
   "outputs": [
    {
     "name": "stdout",
     "output_type": "stream",
     "text": [
      "<class 'dict'> {'이름': '홍길동', '나이': 30, '몸무게': 77}\n"
     ]
    }
   ],
   "source": [
    "import json\n",
    "\n",
    "data = {\n",
    "    \"이름\" : \"홍길동\",\n",
    "    \"나이\" : 30,\n",
    "    \"몸무게\": 77\n",
    "}\n",
    "\n",
    "print(type(data),data)"
   ]
  },
  {
   "cell_type": "code",
   "execution_count": 15,
   "id": "052aad07-a800-42f4-8956-d04fa4b5e8d2",
   "metadata": {},
   "outputs": [
    {
     "name": "stdout",
     "output_type": "stream",
     "text": [
      "<class 'str'> {\"이름\": \"홍길동\", \"나이\": 30, \"몸무게\": 77}\n"
     ]
    }
   ],
   "source": [
    "# 딕셔너리 --> 문자열\n",
    "#json_str = json.dumps(data)\n",
    "json_str = json.dumps(data,ensure_ascii=False)\n",
    "print(type(json_str),json_str)"
   ]
  },
  {
   "cell_type": "code",
   "execution_count": 23,
   "id": "1de5da2e-df6f-4243-ab6c-b7da8a828776",
   "metadata": {},
   "outputs": [
    {
     "name": "stdout",
     "output_type": "stream",
     "text": [
      "<class 'str'> {\"이름\": \"홍길동\", \"나이\": 30, \"몸무게\": 77}\n",
      "<class 'dict'> {'이름': '홍길동', '나이': 30, '몸무게': 77}\n"
     ]
    }
   ],
   "source": [
    "json_str2 = '{\"이름\": \"홍길동\", \"나이\": 30, \"몸무게\": 77}'\n",
    "print(type(json_str2),json_str2)\n",
    "# 문자열 --> 딕셔너리\n",
    "data2 = json.loads(json_str)\n",
    "print(type(data2),data2)"
   ]
  },
  {
   "cell_type": "code",
   "execution_count": 28,
   "id": "3be27518-878e-4c52-8e4a-cd47fabddfda",
   "metadata": {},
   "outputs": [],
   "source": [
    "### json을 파일로 저장\n",
    "\n",
    "data = {\n",
    "    \"name\" : \"김철수\",\n",
    "    \"age\" : 25,\n",
    "    \"cities\": ['서울','대구','부산']\n",
    "}\n",
    "\n",
    "with open('data.json','w',encoding='utf-8') as f:\n",
    "    json.dump(data,f,ensure_ascii=False)"
   ]
  },
  {
   "cell_type": "code",
   "execution_count": 41,
   "id": "996ce9db-1c91-4147-a4d8-33fbe4fdb303",
   "metadata": {},
   "outputs": [
    {
     "name": "stdout",
     "output_type": "stream",
     "text": [
      "<class 'dict'> {'name': '김철수', 'age': 25, 'cities': ['서울', '대구', '부산']}\n"
     ]
    }
   ],
   "source": [
    "with open('data.json','r',encoding='utf-8') as f:\n",
    "    data = json.load(f)\n",
    "\n",
    "print(type(data),data)"
   ]
  },
  {
   "cell_type": "markdown",
   "id": "fe35324a-04e1-4dd8-b6f2-462ff521345f",
   "metadata": {},
   "source": [
    "### os 모듈"
   ]
  },
  {
   "cell_type": "code",
   "execution_count": 63,
   "id": "7b81a3a2-dcf8-42fc-ba65-1c0340c5070b",
   "metadata": {},
   "outputs": [
    {
     "data": {
      "text/plain": [
       "'D:\\\\study\\\\jupyter\\\\20241115'"
      ]
     },
     "execution_count": 63,
     "metadata": {},
     "output_type": "execute_result"
    }
   ],
   "source": [
    "import os\n",
    "# 작업중인 디렉토리 위치\n",
    "os.getcwd()"
   ]
  },
  {
   "cell_type": "code",
   "execution_count": 65,
   "id": "95ef8932-e6f2-4339-a2c2-e51638e58bc6",
   "metadata": {},
   "outputs": [],
   "source": [
    "# 디렉토리 생성\n",
    "new_dir =\"example_dir\"\n",
    "os.makedirs(new_dir,exist_ok=True)\n",
    "#os.makedirs(new_dir) "
   ]
  },
  {
   "cell_type": "code",
   "execution_count": 67,
   "id": "2893f36f-c9e5-4c89-ba59-b9a8ae798ec3",
   "metadata": {},
   "outputs": [
    {
     "data": {
      "text/plain": [
       "['.ipynb_checkpoints', '001.ipynb', 'data.json', 'example_dir']"
      ]
     },
     "execution_count": 67,
     "metadata": {},
     "output_type": "execute_result"
    }
   ],
   "source": [
    "# 현재 디렉토리의 파일 및 폴더 목록\n",
    "files = os.listdir(\".\")\n",
    "files"
   ]
  },
  {
   "cell_type": "code",
   "execution_count": 75,
   "id": "fa82f7df-9741-4e84-8411-cae4f2d0dca2",
   "metadata": {},
   "outputs": [
    {
     "name": "stdout",
     "output_type": "stream",
     "text": [
      "파일이 삭제되었습니다.\n"
     ]
    }
   ],
   "source": [
    "dfile = 'example.txt'\n",
    "# 파일존재 여부를 확인한 후 삭제\n",
    "if os.path.exists(dfile):\n",
    "    os.remove(dfile)\n",
    "    print(\"파일이 삭제되었습니다.\")\n",
    "else:\n",
    "    print(\"삭제할 파일이 없습니다.\")"
   ]
  },
  {
   "cell_type": "code",
   "execution_count": 85,
   "id": "898cbebb-5754-4267-b416-be17c1b2805f",
   "metadata": {},
   "outputs": [
    {
     "name": "stdout",
     "output_type": "stream",
     "text": [
      "True\n",
      "False\n"
     ]
    }
   ],
   "source": [
    "# 파일여부\n",
    "print(os.path.isfile(\"sample.txt\"))\n",
    "print(os.path.isfile(\"example_dir\"))"
   ]
  },
  {
   "cell_type": "code",
   "execution_count": 89,
   "id": "29b1b37f-2f57-4e0f-9f4c-e8c30f061c4a",
   "metadata": {},
   "outputs": [
    {
     "name": "stdout",
     "output_type": "stream",
     "text": [
      "False\n",
      "True\n"
     ]
    }
   ],
   "source": [
    "# 디렉토리여부\n",
    "print(os.path.isdir(\"sample.txt\"))\n",
    "print(os.path.isdir(\"example_dir\"))"
   ]
  },
  {
   "cell_type": "code",
   "execution_count": 91,
   "id": "e006b088-d133-47ad-96ba-917f47e3a3f2",
   "metadata": {},
   "outputs": [],
   "source": [
    "# 디렉토리 변경\n",
    "cdir = \"example_dir\"\n",
    "os.chdir(cdir)"
   ]
  },
  {
   "cell_type": "code",
   "execution_count": 93,
   "id": "d9935b3f-4045-4887-b0cc-25c5f5b569f2",
   "metadata": {},
   "outputs": [
    {
     "data": {
      "text/plain": [
       "'D:\\\\study\\\\jupyter\\\\20241115\\\\example_dir'"
      ]
     },
     "execution_count": 93,
     "metadata": {},
     "output_type": "execute_result"
    }
   ],
   "source": [
    "os.getcwd()"
   ]
  },
  {
   "cell_type": "code",
   "execution_count": 95,
   "id": "c10d8015-ae41-4ac2-93d7-1ed411ecc532",
   "metadata": {},
   "outputs": [],
   "source": [
    "os.chdir(\"..\")"
   ]
  },
  {
   "cell_type": "code",
   "execution_count": 97,
   "id": "98fb63fb-bc00-466e-b74e-dc0d5cf2c7d4",
   "metadata": {},
   "outputs": [
    {
     "data": {
      "text/plain": [
       "'D:\\\\study\\\\jupyter\\\\20241115'"
      ]
     },
     "execution_count": 97,
     "metadata": {},
     "output_type": "execute_result"
    }
   ],
   "source": [
    "os.getcwd()"
   ]
  },
  {
   "cell_type": "code",
   "execution_count": 113,
   "id": "7a322caf-9248-4181-a732-72b39b013916",
   "metadata": {},
   "outputs": [],
   "source": [
    "os.rename(\"sample_new1.txt\",\"sample_new.txt\")"
   ]
  },
  {
   "cell_type": "code",
   "execution_count": 115,
   "id": "dbfc6ca2-de22-4f14-aceb-7291ebab4b8d",
   "metadata": {},
   "outputs": [],
   "source": [
    "os.rmdir(\"111\")"
   ]
  },
  {
   "cell_type": "code",
   "execution_count": 119,
   "id": "83a3dd46-df5a-4a65-9435-c7d85241ac78",
   "metadata": {},
   "outputs": [
    {
     "data": {
      "text/plain": [
       "6"
      ]
     },
     "execution_count": 119,
     "metadata": {},
     "output_type": "execute_result"
    }
   ],
   "source": [
    "os.cpu_count()"
   ]
  },
  {
   "cell_type": "code",
   "execution_count": 125,
   "id": "0e8a6d53-cdc8-497a-bf58-55005a7b5e37",
   "metadata": {},
   "outputs": [
    {
     "data": {
      "text/plain": [
       "0"
      ]
     },
     "execution_count": 125,
     "metadata": {},
     "output_type": "execute_result"
    }
   ],
   "source": [
    "os.system(\"cd example_dir\")"
   ]
  },
  {
   "cell_type": "code",
   "execution_count": 127,
   "id": "693352bb-54b2-4ed8-8b20-e916be69287d",
   "metadata": {},
   "outputs": [
    {
     "data": {
      "text/plain": [
       "'D:\\\\study\\\\jupyter\\\\20241115'"
      ]
     },
     "execution_count": 127,
     "metadata": {},
     "output_type": "execute_result"
    }
   ],
   "source": [
    "os.getcwd()"
   ]
  },
  {
   "cell_type": "code",
   "execution_count": 129,
   "id": "af941275-ad4a-4456-8cec-1e50d3f3ec23",
   "metadata": {},
   "outputs": [
    {
     "data": {
      "text/plain": [
       "0"
      ]
     },
     "execution_count": 129,
     "metadata": {},
     "output_type": "execute_result"
    }
   ],
   "source": [
    "os.system(\"echo. > example.txt\")"
   ]
  },
  {
   "cell_type": "code",
   "execution_count": 131,
   "id": "4d5c4717-db6f-429b-bd9b-ba281e92731d",
   "metadata": {},
   "outputs": [
    {
     "data": {
      "text/plain": [
       "0"
      ]
     },
     "execution_count": 131,
     "metadata": {},
     "output_type": "execute_result"
    }
   ],
   "source": [
    "os.system(\"dir > 111.txt\")"
   ]
  },
  {
   "cell_type": "code",
   "execution_count": 134,
   "id": "579a2c54-3805-48b4-9239-fcc1339cd1cd",
   "metadata": {},
   "outputs": [
    {
     "name": "stdout",
     "output_type": "stream",
     "text": [
      " D 드라이브의 볼륨: Data\n",
      " 볼륨 일련 번호: D4C9-F1E0\n",
      "\n",
      " D:\\study\\jupyter\\20241115 디렉터리\n",
      "\n",
      "2024-11-15  오후 12:43    <DIR>          .\n",
      "2024-11-15  오전 10:28    <DIR>          ..\n",
      "2024-11-15  오전 10:50    <DIR>          .ipynb_checkpoints\n",
      "2024-11-15  오후 12:43             9,734 001.ipynb\n",
      "2024-11-15  오후 12:40               674 111.txt\n",
      "2024-11-15  오전 10:50                74 data.json\n",
      "2024-11-15  오후 12:39                 3 example.txt\n",
      "2024-11-15  오전 11:37    <DIR>          example_dir\n",
      "2024-11-15  오전 11:47                 0 sample_new.txt\n",
      "               5개 파일              10,485 바이트\n",
      "               4개 디렉터리  410,695,917,568 바이트 남음\n",
      "\n"
     ]
    }
   ],
   "source": [
    "with os.popen(\"dir\") as p:\n",
    "    output = p.read()\n",
    "print(output)"
   ]
  },
  {
   "cell_type": "code",
   "execution_count": null,
   "id": "4494445e-afd7-4ba8-95e4-5527a013451f",
   "metadata": {},
   "outputs": [],
   "source": []
  }
 ],
 "metadata": {
  "kernelspec": {
   "display_name": "Python 3 (ipykernel)",
   "language": "python",
   "name": "python3"
  },
  "language_info": {
   "codemirror_mode": {
    "name": "ipython",
    "version": 3
   },
   "file_extension": ".py",
   "mimetype": "text/x-python",
   "name": "python",
   "nbconvert_exporter": "python",
   "pygments_lexer": "ipython3",
   "version": "3.12.7"
  }
 },
 "nbformat": 4,
 "nbformat_minor": 5
}
