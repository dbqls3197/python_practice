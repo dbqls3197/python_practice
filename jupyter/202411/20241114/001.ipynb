{
 "cells": [
  {
   "cell_type": "code",
   "execution_count": 2,
   "id": "566d1a35-13ba-4f90-bda6-ab91a11a2dfe",
   "metadata": {},
   "outputs": [
    {
     "name": "stdout",
     "output_type": "stream",
     "text": [
      "\\=== 계산기 ===\\\n",
      "1. 덧셈\n",
      "2. 뺼셈\n",
      "3. 곱셈\n",
      "4. 나눗셈\n",
      "5. 종료\n"
     ]
    },
    {
     "name": "stdin",
     "output_type": "stream",
     "text": [
      "연산을 선택하세요: 5\n"
     ]
    },
    {
     "name": "stdout",
     "output_type": "stream",
     "text": [
      "프로그램을 종료합니다\n"
     ]
    }
   ],
   "source": [
    "# 계산기 프로그램\n",
    "while True:\n",
    "    print(\"\\\\=== 계산기 ===\\\\\")\n",
    "    print(\"1. 덧셈\")\n",
    "    print(\"2. 뺼셈\")\n",
    "    print(\"3. 곱셈\")\n",
    "    print(\"4. 나눗셈\")\n",
    "    print(\"5. 종료\")\n",
    "\n",
    "    choice = input(\"연산을 선택하세요:\")\n",
    "\n",
    "    if choice ==\"5\":\n",
    "        print(\"프로그램을 종료합니다\")\n",
    "        break\n",
    "\n",
    "    num1 = float(input(\"첫 번째 숫자: \"))\n",
    "    num2 = float(input(\"두 번째 숫자: \"))\n",
    "\n",
    "    if choice == \"1\":\n",
    "        print(f\"결과: {num1 + num2}\")\n",
    "    elif choice == \"2\":\n",
    "        print(f\"결과: {num1 - num2}\")\n",
    "    elif choice == \"3\":\n",
    "        print(f\"결과: {num1 * num2}\")        \n",
    "    elif choice == \"4\":\n",
    "        print(f\"결과: {num1 / num2}\")\n",
    "\n"
   ]
  },
  {
   "cell_type": "markdown",
   "id": "d5f2b43f-7f56-4615-933c-7c3df0393587",
   "metadata": {},
   "source": [
    "##### def show():\n",
    "    print(\"\\\\=== 계산기 ===\\\\\")\n",
    "    print(\"1. 덧셈\")\n",
    "    print(\"2. 뺼셈\")\n",
    "    print(\"3. 곱셈\")\n",
    "    print(\"4. 나눗셈\")\n",
    "    print(\"5. 종료\")\n",
    "\n",
    "def show_a(a,b):\n",
    "    #print(f\"결과{num1 + num2}\")\n",
    "    return a + b\n",
    "\n",
    "def show_b(num1,num2):\n",
    "    print(f\"결과: {num1 - num2}\")\n",
    "\n",
    "def show_c(num1,num2):\n",
    "    print(f\"결과: {num1 * num2}\")\n",
    "\n",
    "def show_d(num1,num2):\n",
    "    print(f\"결과: {num1 / num2}\")\n",
    "\n",
    "\n",
    "def main():\n",
    "    \n",
    "    while True:\n",
    "        show()\n",
    "        choice = input(\"선택하세요\")\n",
    "        if choice ==\"5\":\n",
    "            print(\"프로그램을 종료합니다\")\n",
    "            break\n",
    "\n",
    "        #try:\n",
    "            #num1, num2 = get_numbers()\n",
    "        num1 = float(input(\"첫 번째 숫자: \"))\n",
    "        num2 = float(input(\"두 번째 숫자: \"))\n",
    "\n",
    "        if choice == \"1\":\n",
    "                #show_a(num1,num2)\n",
    "            print(f\"결과{show_a(num1,num2)}\")\n",
    "        elif choice == \"2\":\n",
    "            show_b(num1,num2)\n",
    "        elif choice == \"3\":\n",
    "            show_c(num1,num2)\n",
    "        elif choice == \"4\":\n",
    "                show_d(num1,num2)\n",
    "             # else:\n",
    "             #     print(\"유효하지 않은 선택입니다. 다시 시도해 주세요\")\n",
    "\n",
    "        # except TypeError:\n",
    "        #     print(\"타입이 맞지않습니다.)\n",
    "        #except Exception as e:\n",
    "            #print(f\"오류발생: {e}\")\n",
    "            #print(f\"예외 발생: {e.__class__.__name__} -{e}\")\n",
    "        \n",
    "                  \n",
    "\n",
    "\n",
    "\n",
    "main()\n",
    "\n",
    "    \n"
   ]
  },
  {
   "cell_type": "markdown",
   "id": "9de11aee-3b8e-436f-837c-a1856475f6f1",
   "metadata": {},
   "source": [
    "### 예외 처리"
   ]
  },
  {
   "cell_type": "code",
   "execution_count": 5,
   "id": "75eca3d2-8b22-4de6-98fb-947a56567df1",
   "metadata": {},
   "outputs": [
    {
     "name": "stdout",
     "output_type": "stream",
     "text": [
      "0으로 나누면 안됩니다\n"
     ]
    }
   ],
   "source": [
    "try:    \n",
    "    result = 10/0\n",
    "except ZeroDivisionError:\n",
    "    print(\"0으로 나누면 안됩니다\")"
   ]
  },
  {
   "cell_type": "code",
   "execution_count": 7,
   "id": "bb71cd12-b271-4f98-ac3f-9622fe1f470e",
   "metadata": {},
   "outputs": [],
   "source": [
    "# try:\n",
    "#     with open (\"아무거나.txt\",\"r\") as f:\n",
    "#             contenet = f.read()\n",
    "#         print(content)\n",
    "# except FileNotFoundError:\n",
    "#     print(\"파일을 찾을 수 없습니다.\")\n",
    "#     with open (\"아무거나.txt\",\"w\") as f:\n",
    "#         f.write(\"새로운 파일\")\n",
    "#     print(\"새로운 파일을 생성했어요\")"
   ]
  },
  {
   "cell_type": "code",
   "execution_count": null,
   "id": "8423ae57-f65e-470b-accb-c739ab2e527a",
   "metadata": {},
   "outputs": [],
   "source": [
    "try:\n",
    "    number = int(input(\"숫자를 입력하세요\"))\n",
    "    print(f\"입력한 숫자는: {number}입니다\")\n",
    "except ValueError:\n",
    "    print(\"숫자가 아닙니다\")"
   ]
  },
  {
   "cell_type": "code",
   "execution_count": null,
   "id": "546b9c87-92e3-4f25-ac11-845dd9e51afe",
   "metadata": {},
   "outputs": [],
   "source": [
    "try:\n",
    "    result = 10/int(input(\"숫자입력\"))\n",
    "    print(f\"결과: {result}\")\n",
    "except ValueError:\n",
    "    print(\"숫자가 아닙니다\")\n",
    "except ZeroDivisionError:\n",
    "    print(\"0으로 나누면 안됩니다\")    "
   ]
  },
  {
   "cell_type": "code",
   "execution_count": null,
   "id": "29892406-045b-4815-aa6c-84b82c939784",
   "metadata": {},
   "outputs": [],
   "source": [
    "# finally는 try를 사용할떄 성공,실패와 상관없이 출력\n",
    "try:\n",
    "    with open(\"아무거나3.txt\",\"r\") as f:\n",
    "    number = int(input(\"숫자를 입력하세요\"))\n",
    "except Exception as e:\n",
    "    print(f\"에외 발생: {e.__class__.__name__} - {e}\")\n",
    "else:\n",
    "    print(f\"입력한 숫자는: {number}입니다\")\n",
    "finally:\n",
    "    f.close()\n",
    "    print(\"기능구현완료\")\n"
   ]
  },
  {
   "cell_type": "code",
   "execution_count": 28,
   "id": "5e1b926b-2c2a-42b9-a954-3a86afc3fdae",
   "metadata": {},
   "outputs": [
    {
     "name": "stdin",
     "output_type": "stream",
     "text": [
      "첫번째 숫자:  3\n",
      "두번째 숫자:  5\n"
     ]
    },
    {
     "name": "stdout",
     "output_type": "stream",
     "text": [
      "첫 번쨰 숫자가 두 번째 숫자보다 작아요\n"
     ]
    }
   ],
   "source": [
    "\n",
    "class SejongError(Exception):\n",
    "    pass\n",
    "\n",
    "a = int(input(\"첫번째 숫자: \"))\n",
    "b = int(input(\"두번째 숫자: \"))\n",
    "\n",
    "try:\n",
    "    if a < b :\n",
    "        raise SejongError(\"첫 번쨰 숫자가 두 번째 숫자보다 작아요\")\n",
    "except SejongError as e:\n",
    "    print(e)\n",
    "else:\n",
    "    print(f\"결과: {a-b}\")"
   ]
  },
  {
   "cell_type": "code",
   "execution_count": 32,
   "id": "61ffa634-1c15-49b5-b799-ce2738cca278",
   "metadata": {},
   "outputs": [
    {
     "name": "stdout",
     "output_type": "stream",
     "text": [
      "오류발생: FileNotFoundError = [Errno 2] No such file or directory: '암거나.txt'\n",
      "오류 정보가 기록되었습니다.\n"
     ]
    }
   ],
   "source": [
    "from datetime import datetime\n",
    "\n",
    "def log_error(error_message):\n",
    "    with open(\"error_log.txt\",\"a\") as f:\n",
    "        f.write(f\"{datetime.now()} - {error_message}\\n\")\n",
    "try:\n",
    "    with open(\"암거나.txt\",\"r\") as f:\n",
    "        content = f.read()\n",
    "except Exception as e:\n",
    "    error_message = f\"{e.__class__.__name__} = {e}\"\n",
    "    print(\"오류발생: \" + error_message)\n",
    "\n",
    "    #오류 저장\n",
    "    log_error(error_message)\n",
    "    print(\"오류 정보가 기록되었습니다.\")\n",
    "    "
   ]
  },
  {
   "cell_type": "code",
   "execution_count": null,
   "id": "4bda0ab3-1540-4f64-a391-e7739d6634a3",
   "metadata": {},
   "outputs": [],
   "source": []
  }
 ],
 "metadata": {
  "kernelspec": {
   "display_name": "Python 3 (ipykernel)",
   "language": "python",
   "name": "python3"
  },
  "language_info": {
   "codemirror_mode": {
    "name": "ipython",
    "version": 3
   },
   "file_extension": ".py",
   "mimetype": "text/x-python",
   "name": "python",
   "nbconvert_exporter": "python",
   "pygments_lexer": "ipython3",
   "version": "3.12.7"
  }
 },
 "nbformat": 4,
 "nbformat_minor": 5
}
