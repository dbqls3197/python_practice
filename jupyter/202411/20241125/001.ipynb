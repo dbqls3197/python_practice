{
 "cells": [
  {
   "cell_type": "code",
   "execution_count": null,
   "id": "93a6f921-597f-4af1-aa45-04ac64f97e2e",
   "metadata": {},
   "outputs": [],
   "source": [
    "a, b = map(int,input().split())\n",
    "\n",
    "if not (-1000 <= a <= 1000) or not (-1000 <= b <= 1000) or a == 0 or b == 0:\n",
    "    print(\"잘못입력하셧습니다.\")\n",
    "else:\n",
    "    if a < 0 and b > 0:\n",
    "        print(2)\n",
    "    elif b < 0 and a > 0:\n",
    "        print(4)\n",
    "    elif a < 0 and b < 0:\n",
    "        print(3)\n",
    "    else:\n",
    "        print(1)"
   ]
  },
  {
   "cell_type": "markdown",
   "id": "b59afc61-8ec0-459a-9183-60a77ae9f203",
   "metadata": {},
   "source": [
    "## url"
   ]
  },
  {
   "cell_type": "code",
   "execution_count": 261,
   "id": "6c864ecd-b852-4891-9238-eb0d6efd2ce9",
   "metadata": {},
   "outputs": [],
   "source": [
    "import urllib.request\n",
    "response = urllib.request.urlopen(\"http://sejong123.ivyro.net/\")\n",
    "html = response.read().decode('utf-8')\n",
    "print(html)"
   ]
  },
  {
   "cell_type": "code",
   "execution_count": 259,
   "id": "31978a7b-fe88-44c2-89e0-5a44289c0ff2",
   "metadata": {},
   "outputs": [
    {
     "name": "stdout",
     "output_type": "stream",
     "text": [
      "Scheme: http\n",
      "Netloc: www.example.com\n",
      "path: /path\n",
      "Query: query=1\n",
      "Fragment: frgment\n"
     ]
    }
   ],
   "source": [
    "# URL 정보 파싱\n",
    "from urllib.parse import urlparse\n",
    "\n",
    "url = 'http://www.example.com/path?query=1#frgment'\n",
    "parsed_url = urlparse(url)\n",
    "#parsed_url\n",
    "\n",
    "print(\"Scheme:\",parsed_url.scheme)\n",
    "print(\"Netloc:\",parsed_url.netloc)\n",
    "print(\"path:\",parsed_url.path)\n",
    "print(\"Query:\",parsed_url.query)\n",
    "print(\"Fragment:\",parsed_url.fragment)"
   ]
  },
  {
   "cell_type": "code",
   "execution_count": 276,
   "id": "55e2dcd1-66a2-4b2e-b051-5a8ee57876d0",
   "metadata": {},
   "outputs": [
    {
     "name": "stdout",
     "output_type": "stream",
     "text": [
      "name=hong&age=30&city=Seoul\n",
      "{'name': ['hong'], 'age': ['30'], 'city': ['Seoul']}\n"
     ]
    }
   ],
   "source": [
    "# 쿼리 문자열 생성\n",
    "from urllib.parse import urlencode, parse_qs\n",
    "\n",
    "params = {\n",
    "    'name':'hong',\n",
    "    'age': 30,\n",
    "    'city':'Seoul'\n",
    "}\n",
    "\n",
    "query_string = urlencode(params)\n",
    "print(query_string)\n",
    "\n",
    "parsed_params = parse_qs(query_string)\n",
    "print(parsed_params)"
   ]
  },
  {
   "cell_type": "code",
   "execution_count": 306,
   "id": "dc0ba997-0d45-4015-a8bf-1791d9c1ba01",
   "metadata": {},
   "outputs": [
    {
     "name": "stdout",
     "output_type": "stream",
     "text": [
      "{\n",
      "  \"args\": {}, \n",
      "  \"data\": \"{\\\"name\\\": \\\"John Doe\\\", \\\"age\\\": 30}\", \n",
      "  \"files\": {}, \n",
      "  \"form\": {}, \n",
      "  \"headers\": {\n",
      "    \"Accept-Encoding\": \"identity\", \n",
      "    \"Content-Length\": \"31\", \n",
      "    \"Content-Type\": \"application/json\", \n",
      "    \"Host\": \"httpbin.org\", \n",
      "    \"User-Agent\": \"Python-urllib/3.12\", \n",
      "    \"X-Amzn-Trace-Id\": \"Root=1-6743d47e-3619cbfb1fa695974a713c33\"\n",
      "  }, \n",
      "  \"json\": {\n",
      "    \"age\": 30, \n",
      "    \"name\": \"John Doe\"\n",
      "  }, \n",
      "  \"origin\": \"221.150.237.129\", \n",
      "  \"url\": \"http://httpbin.org/post\"\n",
      "}\n",
      "\n"
     ]
    }
   ],
   "source": [
    "## post 로 데이터 전송\n",
    "import urllib.request\n",
    "import json\n",
    "\n",
    "#POST 요청을 보내는 예제\n",
    "url = \"http://httpbin.org/post\"\n",
    "data = {\n",
    "    'name': 'John Doe',\n",
    "    'age': 30\n",
    "}\n",
    "\n",
    "#데이터 인코딩\n",
    "data_encoded = json.dumps(data).encode('utf-8')\n",
    "req = urllib.request.Request(url, data=data_encoded, method='POST')\n",
    "req.add_header('Content-Type', 'application/json')\n",
    "\n",
    "#응답 받기\n",
    "with urllib.request.urlopen(req) as response:\n",
    "    result = response.read().decode('utf-8')\n",
    "    print(result)"
   ]
  },
  {
   "cell_type": "code",
   "execution_count": 314,
   "id": "56c8a4d6-8939-41b5-8bfd-680137d8b7be",
   "metadata": {},
   "outputs": [
    {
     "name": "stdout",
     "output_type": "stream",
     "text": [
      "{\n",
      "  \"user-agent\": \"Mozilla/5.0\"\n",
      "}\n",
      "\n"
     ]
    }
   ],
   "source": [
    "import urllib.request\n",
    "\n",
    "# 사용자 에이전트 설정\n",
    "url ='http://httpbin.org/user-agent'\n",
    "req = urllib.request.Request(url, headers={\"User-Agent\": \"Mozilla/5.0\"})\n",
    "\n",
    "# 요청 보내기\n",
    "with urllib.request.urlopen(req) as response:\n",
    "    print(response.read().decode(\"utf-8\"))\n",
    "# https://www.whatismybrowser.com/detect/what-is-my-user-agent/ (나의 에이전트 정보 알아내기)"
   ]
  },
  {
   "cell_type": "code",
   "execution_count": 316,
   "id": "6c9a0bd0-e2ff-4ba4-879b-0504ac67c285",
   "metadata": {},
   "outputs": [
    {
     "name": "stdout",
     "output_type": "stream",
     "text": [
      "{\n",
      "  \"user-agent\": \"Mozilla/5.0 (Windows NT 10.0; Win64; x64) AppleWebKit/537.36 (KHTML, Gecko) Chrome/130.0.0.0 Safari/537.36\"\n",
      "}\n",
      "\n"
     ]
    }
   ],
   "source": [
    "import urllib.request\n",
    "\n",
    "# 사용자 에이전트 설정\n",
    "url ='http://httpbin.org/user-agent'\n",
    "user_agent = 'Mozilla/5.0 (Windows NT 10.0; Win64; x64) AppleWebKit/537.36 (KHTML, Gecko) Chrome/130.0.0.0 Safari/537.36'\n",
    "req = urllib.request.Request(url, headers={\"User-Agent\": user_agent})\n",
    "\n",
    "# 요청 보내기\n",
    "with urllib.request.urlopen(req) as response:\n",
    "    print(response.read().decode(\"utf-8\"))"
   ]
  },
  {
   "cell_type": "code",
   "execution_count": 328,
   "id": "a3c578b2-4fe4-4ef6-8f23-408ab102b55b",
   "metadata": {},
   "outputs": [
    {
     "data": {
      "text/plain": [
       "('mypic.png', <http.client.HTTPMessage at 0x23f2849deb0>)"
      ]
     },
     "execution_count": 328,
     "metadata": {},
     "output_type": "execute_result"
    }
   ],
   "source": [
    "import urllib.request\n",
    "\n",
    "url = 'https://sejong123.ivyro.net/images/pic_08.png'\n",
    "filename = 'mypic.png'\n",
    "\n",
    "urllib.request.urlretrieve(url, filename)"
   ]
  },
  {
   "cell_type": "code",
   "execution_count": 332,
   "id": "e7830699-0ec0-418f-bba1-b29ebb39973c",
   "metadata": {},
   "outputs": [
    {
     "ename": "HTTPError",
     "evalue": "HTTP Error 403: Access Denied",
     "output_type": "error",
     "traceback": [
      "\u001b[1;31m---------------------------------------------------------------------------\u001b[0m",
      "\u001b[1;31mHTTPError\u001b[0m                                 Traceback (most recent call last)",
      "Cell \u001b[1;32mIn[332], line 6\u001b[0m\n\u001b[0;32m      3\u001b[0m url \u001b[38;5;241m=\u001b[39m \u001b[38;5;124m'\u001b[39m\u001b[38;5;124mhttps://image-comic.pstatic.net/webtoon/833908/thumbnail/thumbnail_IMAG21_96028c0b-4713-4b8d-b10e-560dcea36a17.jpg\u001b[39m\u001b[38;5;124m'\u001b[39m\n\u001b[0;32m      4\u001b[0m filename \u001b[38;5;241m=\u001b[39m \u001b[38;5;124m'\u001b[39m\u001b[38;5;124mmypic2.png\u001b[39m\u001b[38;5;124m'\u001b[39m\n\u001b[1;32m----> 6\u001b[0m urllib\u001b[38;5;241m.\u001b[39mrequest\u001b[38;5;241m.\u001b[39murlretrieve(url, filename)\n",
      "File \u001b[1;32m~\\anaconda3\\Lib\\urllib\\request.py:240\u001b[0m, in \u001b[0;36murlretrieve\u001b[1;34m(url, filename, reporthook, data)\u001b[0m\n\u001b[0;32m    223\u001b[0m \u001b[38;5;250m\u001b[39m\u001b[38;5;124;03m\"\"\"\u001b[39;00m\n\u001b[0;32m    224\u001b[0m \u001b[38;5;124;03mRetrieve a URL into a temporary location on disk.\u001b[39;00m\n\u001b[0;32m    225\u001b[0m \n\u001b[1;32m   (...)\u001b[0m\n\u001b[0;32m    236\u001b[0m \u001b[38;5;124;03mdata file as well as the resulting HTTPMessage object.\u001b[39;00m\n\u001b[0;32m    237\u001b[0m \u001b[38;5;124;03m\"\"\"\u001b[39;00m\n\u001b[0;32m    238\u001b[0m url_type, path \u001b[38;5;241m=\u001b[39m _splittype(url)\n\u001b[1;32m--> 240\u001b[0m \u001b[38;5;28;01mwith\u001b[39;00m contextlib\u001b[38;5;241m.\u001b[39mclosing(urlopen(url, data)) \u001b[38;5;28;01mas\u001b[39;00m fp:\n\u001b[0;32m    241\u001b[0m     headers \u001b[38;5;241m=\u001b[39m fp\u001b[38;5;241m.\u001b[39minfo()\n\u001b[0;32m    243\u001b[0m     \u001b[38;5;66;03m# Just return the local path and the \"headers\" for file://\u001b[39;00m\n\u001b[0;32m    244\u001b[0m     \u001b[38;5;66;03m# URLs. No sense in performing a copy unless requested.\u001b[39;00m\n",
      "File \u001b[1;32m~\\anaconda3\\Lib\\urllib\\request.py:215\u001b[0m, in \u001b[0;36murlopen\u001b[1;34m(url, data, timeout, cafile, capath, cadefault, context)\u001b[0m\n\u001b[0;32m    213\u001b[0m \u001b[38;5;28;01melse\u001b[39;00m:\n\u001b[0;32m    214\u001b[0m     opener \u001b[38;5;241m=\u001b[39m _opener\n\u001b[1;32m--> 215\u001b[0m \u001b[38;5;28;01mreturn\u001b[39;00m opener\u001b[38;5;241m.\u001b[39mopen(url, data, timeout)\n",
      "File \u001b[1;32m~\\anaconda3\\Lib\\urllib\\request.py:521\u001b[0m, in \u001b[0;36mOpenerDirector.open\u001b[1;34m(self, fullurl, data, timeout)\u001b[0m\n\u001b[0;32m    519\u001b[0m \u001b[38;5;28;01mfor\u001b[39;00m processor \u001b[38;5;129;01min\u001b[39;00m \u001b[38;5;28mself\u001b[39m\u001b[38;5;241m.\u001b[39mprocess_response\u001b[38;5;241m.\u001b[39mget(protocol, []):\n\u001b[0;32m    520\u001b[0m     meth \u001b[38;5;241m=\u001b[39m \u001b[38;5;28mgetattr\u001b[39m(processor, meth_name)\n\u001b[1;32m--> 521\u001b[0m     response \u001b[38;5;241m=\u001b[39m meth(req, response)\n\u001b[0;32m    523\u001b[0m \u001b[38;5;28;01mreturn\u001b[39;00m response\n",
      "File \u001b[1;32m~\\anaconda3\\Lib\\urllib\\request.py:630\u001b[0m, in \u001b[0;36mHTTPErrorProcessor.http_response\u001b[1;34m(self, request, response)\u001b[0m\n\u001b[0;32m    627\u001b[0m \u001b[38;5;66;03m# According to RFC 2616, \"2xx\" code indicates that the client's\u001b[39;00m\n\u001b[0;32m    628\u001b[0m \u001b[38;5;66;03m# request was successfully received, understood, and accepted.\u001b[39;00m\n\u001b[0;32m    629\u001b[0m \u001b[38;5;28;01mif\u001b[39;00m \u001b[38;5;129;01mnot\u001b[39;00m (\u001b[38;5;241m200\u001b[39m \u001b[38;5;241m<\u001b[39m\u001b[38;5;241m=\u001b[39m code \u001b[38;5;241m<\u001b[39m \u001b[38;5;241m300\u001b[39m):\n\u001b[1;32m--> 630\u001b[0m     response \u001b[38;5;241m=\u001b[39m \u001b[38;5;28mself\u001b[39m\u001b[38;5;241m.\u001b[39mparent\u001b[38;5;241m.\u001b[39merror(\n\u001b[0;32m    631\u001b[0m         \u001b[38;5;124m'\u001b[39m\u001b[38;5;124mhttp\u001b[39m\u001b[38;5;124m'\u001b[39m, request, response, code, msg, hdrs)\n\u001b[0;32m    633\u001b[0m \u001b[38;5;28;01mreturn\u001b[39;00m response\n",
      "File \u001b[1;32m~\\anaconda3\\Lib\\urllib\\request.py:559\u001b[0m, in \u001b[0;36mOpenerDirector.error\u001b[1;34m(self, proto, *args)\u001b[0m\n\u001b[0;32m    557\u001b[0m \u001b[38;5;28;01mif\u001b[39;00m http_err:\n\u001b[0;32m    558\u001b[0m     args \u001b[38;5;241m=\u001b[39m (\u001b[38;5;28mdict\u001b[39m, \u001b[38;5;124m'\u001b[39m\u001b[38;5;124mdefault\u001b[39m\u001b[38;5;124m'\u001b[39m, \u001b[38;5;124m'\u001b[39m\u001b[38;5;124mhttp_error_default\u001b[39m\u001b[38;5;124m'\u001b[39m) \u001b[38;5;241m+\u001b[39m orig_args\n\u001b[1;32m--> 559\u001b[0m     \u001b[38;5;28;01mreturn\u001b[39;00m \u001b[38;5;28mself\u001b[39m\u001b[38;5;241m.\u001b[39m_call_chain(\u001b[38;5;241m*\u001b[39margs)\n",
      "File \u001b[1;32m~\\anaconda3\\Lib\\urllib\\request.py:492\u001b[0m, in \u001b[0;36mOpenerDirector._call_chain\u001b[1;34m(self, chain, kind, meth_name, *args)\u001b[0m\n\u001b[0;32m    490\u001b[0m \u001b[38;5;28;01mfor\u001b[39;00m handler \u001b[38;5;129;01min\u001b[39;00m handlers:\n\u001b[0;32m    491\u001b[0m     func \u001b[38;5;241m=\u001b[39m \u001b[38;5;28mgetattr\u001b[39m(handler, meth_name)\n\u001b[1;32m--> 492\u001b[0m     result \u001b[38;5;241m=\u001b[39m func(\u001b[38;5;241m*\u001b[39margs)\n\u001b[0;32m    493\u001b[0m     \u001b[38;5;28;01mif\u001b[39;00m result \u001b[38;5;129;01mis\u001b[39;00m \u001b[38;5;129;01mnot\u001b[39;00m \u001b[38;5;28;01mNone\u001b[39;00m:\n\u001b[0;32m    494\u001b[0m         \u001b[38;5;28;01mreturn\u001b[39;00m result\n",
      "File \u001b[1;32m~\\anaconda3\\Lib\\urllib\\request.py:639\u001b[0m, in \u001b[0;36mHTTPDefaultErrorHandler.http_error_default\u001b[1;34m(self, req, fp, code, msg, hdrs)\u001b[0m\n\u001b[0;32m    638\u001b[0m \u001b[38;5;28;01mdef\u001b[39;00m \u001b[38;5;21mhttp_error_default\u001b[39m(\u001b[38;5;28mself\u001b[39m, req, fp, code, msg, hdrs):\n\u001b[1;32m--> 639\u001b[0m     \u001b[38;5;28;01mraise\u001b[39;00m HTTPError(req\u001b[38;5;241m.\u001b[39mfull_url, code, msg, hdrs, fp)\n",
      "\u001b[1;31mHTTPError\u001b[0m: HTTP Error 403: Access Denied"
     ]
    }
   ],
   "source": [
    "import urllib.request\n",
    "\n",
    "url = 'https://image-comic.pstatic.net/webtoon/833908/thumbnail/thumbnail_IMAG21_96028c0b-4713-4b8d-b10e-560dcea36a17.jpg'\n",
    "filename = 'mypic2.png'\n",
    "\n",
    "urllib.request.urlretrieve(url, filename)"
   ]
  },
  {
   "cell_type": "code",
   "execution_count": 348,
   "id": "eed19346-5b2f-4e14-90c3-b85562f298fa",
   "metadata": {},
   "outputs": [
    {
     "name": "stdout",
     "output_type": "stream",
     "text": [
      "mypic2.png다운로드 성공\n"
     ]
    }
   ],
   "source": [
    "import urllib.request\n",
    "\n",
    "url = 'https://image-comic.pstatic.net/webtoon/796152/thumbnail/thumbnail_IMAG21_26b9c1d8-ca2d-4fc7-87ea-a3334634236a.jpg'\n",
    "filename = 'mypic2.png'\n",
    "user_agent = 'Mozilla/5.0 (Windows NT 10.0; Win64; x64) AppleWebKit/537.36 (KHTML, Gecko) Chrome/130.0.0.0 Safari/537.36'\n",
    "req = urllib.request.Request(url, headers={\"User-Agent\": user_agent})\n",
    "\n",
    "with urllib.request.urlopen(req) as response:\n",
    "    with open(filename, 'wb') as f:\n",
    "        f.write(response.read())\n",
    "print(f\"{filename}다운로드 성공\")"
   ]
  },
  {
   "cell_type": "code",
   "execution_count": 353,
   "id": "6774a2b8-28c6-495a-8e8a-b04bd0500fd6",
   "metadata": {},
   "outputs": [
    {
     "name": "stdout",
     "output_type": "stream",
     "text": [
      "mypic3.png다운로드 성공\n"
     ]
    }
   ],
   "source": [
    "import urllib.request\n",
    "\n",
    "url = 'https://ticketimage.interpark.com/Play/image/large/24/24016171_p.gif'\n",
    "filename = 'mypic3.png'\n",
    "user_agent = 'Mozilla/5.0 (Windows NT 10.0; Win64; x64) AppleWebKit/537.36 (KHTML, Gecko) Chrome/130.0.0.0 Safari/537.36'\n",
    "req = urllib.request.Request(url, headers={\"User-Agent\": user_agent})\n",
    "\n",
    "with urllib.request.urlopen(req) as response:\n",
    "    with open(filename, 'wb') as f:\n",
    "        f.write(response.read())\n",
    "print(f\"{filename}다운로드 성공\")"
   ]
  },
  {
   "cell_type": "code",
   "execution_count": 360,
   "id": "d625a631-777c-4dcf-9c10-a12bdcf29c6b",
   "metadata": {},
   "outputs": [
    {
     "name": "stdout",
     "output_type": "stream",
     "text": [
      "mypic5.png다운로드 성공\n"
     ]
    }
   ],
   "source": [
    "import urllib.request\n",
    "\n",
    "url = 'https://image-comic.pstatic.net/webtoon/796152/1/20240826102704_5592af9f81c13c0aa24acc43b3237753_IMAG01_2.jpg'\n",
    "filename = 'mypic5.png'\n",
    "user_agent = 'Mozilla/5.0 (Windows NT 10.0; Win64; x64) AppleWebKit/537.36 (KHTML, Gecko) Chrome/130.0.0.0 Safari/537.36'\n",
    "req = urllib.request.Request(url, headers={\"User-Agent\": user_agent})\n",
    "\n",
    "with urllib.request.urlopen(req) as response:\n",
    "    with open(filename, 'wb') as f:\n",
    "        f.write(response.read())\n",
    "print(f\"{filename}다운로드 성공\")\n"
   ]
  },
  {
   "cell_type": "markdown",
   "id": "2392c39f-f28f-401e-9ac4-82b1085432e6",
   "metadata": {},
   "source": [
    "## 스크래핑(beautifulSoup)"
   ]
  },
  {
   "cell_type": "code",
   "execution_count": null,
   "id": "e48f79be-42b7-4c6d-939b-11f50fd50988",
   "metadata": {},
   "outputs": [],
   "source": []
  },
  {
   "cell_type": "code",
   "execution_count": 418,
   "id": "ec30c4a6-fb42-466b-b1c7-69314f41ed17",
   "metadata": {},
   "outputs": [
    {
     "name": "stdout",
     "output_type": "stream",
     "text": [
      "제목: 홈페이지\n",
      "h1: 안녕하세요\n",
      "내용: 컨텐츠 내용\n",
      "링크: https://example.com\n",
      "이미지: http://example.com/image.jpg\n"
     ]
    }
   ],
   "source": [
    "from bs4 import BeautifulSoup\n",
    "\n",
    "html_doc = '''\n",
    "<html>\n",
    "<head><title>홈페이지</title></head>\n",
    "<body>\n",
    "<h1>안녕하세요</h1>\n",
    "<p class=\"content\">컨텐츠 내용</p>\n",
    "<a href=\"https://example.com\">링크</a>\n",
    "<img src='http://example.com/image.jpg' alt=\"예제 이미지\" class='image-class'>\n",
    "</body>\n",
    "</html>\n",
    "'''\n",
    "\n",
    "soup = BeautifulSoup(html_doc,'html.parser')\n",
    "print(f'제목: {soup.title.string}')\n",
    "print(f'h1: {soup.h1.string}')\n",
    "print(f'내용: {soup.find('p',class_ = 'content').string}')\n",
    "print(f'링크: {soup.a['href']}') # 속성에 접근할떄 []\n",
    "print(f\"이미지: {soup.find('img')['src']}\")"
   ]
  },
  {
   "cell_type": "code",
   "execution_count": 492,
   "id": "fcaf9221-dd8b-4bd9-9b64-d3a9d709c804",
   "metadata": {},
   "outputs": [],
   "source": [
    "from bs4 import BeautifulSoup\n",
    "\n",
    "html_doc = '''\n",
    "<html>\n",
    "<head><title>홈페이지</title></head>\n",
    "<body>\n",
    "    <h1>안녕하세요!</h1>\n",
    "    <p class=\"content\">첫 번째 단락</p>\n",
    "    <p class=\"content\">두 번째 단락</p>\n",
    "</body>\n",
    "</html>\n",
    "'''\n",
    "\n",
    "soup = BeautifulSoup(html_doc, 'html.parser')"
   ]
  },
  {
   "cell_type": "code",
   "execution_count": 494,
   "id": "5668d888-1e60-49a0-9913-ff5a91081192",
   "metadata": {},
   "outputs": [
    {
     "name": "stdout",
     "output_type": "stream",
     "text": [
      "안녕하세요!\n"
     ]
    }
   ],
   "source": [
    "# soup.find(\"테그명\")\n",
    "h1 = soup.find('h1')\n",
    "print(h1.string)"
   ]
  },
  {
   "cell_type": "code",
   "execution_count": 496,
   "id": "97fb8860-2524-4b67-9a88-b0246239185c",
   "metadata": {},
   "outputs": [
    {
     "name": "stdout",
     "output_type": "stream",
     "text": [
      "첫 번째 단락\n"
     ]
    }
   ],
   "source": [
    "# soup.find(속성='속성값')\n",
    "cont = soup.find(class_=\"content\")\n",
    "print(cont.string)"
   ]
  },
  {
   "cell_type": "code",
   "execution_count": 498,
   "id": "e15e96f3-7f69-4b3c-acaa-93914a701995",
   "metadata": {},
   "outputs": [
    {
     "name": "stdout",
     "output_type": "stream",
     "text": [
      "첫 번째 단락\n"
     ]
    }
   ],
   "source": [
    "# soup.find(attrs={'속성'='속성값})\n",
    "cont1 = soup.find(attrs={'class':\"content\"})\n",
    "print(cont1.string)"
   ]
  },
  {
   "cell_type": "code",
   "execution_count": 500,
   "id": "1600fe7b-5412-4a3c-a7df-e547f17787db",
   "metadata": {},
   "outputs": [
    {
     "name": "stdout",
     "output_type": "stream",
     "text": [
      "첫 번째 단락\n"
     ]
    }
   ],
   "source": [
    "cont2 = soup.find('p',class_='content')\n",
    "print(cont2.string)"
   ]
  },
  {
   "cell_type": "code",
   "execution_count": 502,
   "id": "48387e62-43d1-4444-b9a8-661fe658b664",
   "metadata": {},
   "outputs": [
    {
     "name": "stdout",
     "output_type": "stream",
     "text": [
      "첫 번째 단락\n"
     ]
    }
   ],
   "source": [
    "cont3 = soup.find('p',attrs={'class':\"content\"})\n",
    "print(cont3.string)"
   ]
  },
  {
   "cell_type": "markdown",
   "id": "6fa9ccaa-5b6b-4277-b82b-b5236560e608",
   "metadata": {},
   "source": [
    "# find_all"
   ]
  },
  {
   "cell_type": "code",
   "execution_count": 511,
   "id": "72a9cfd8-d82c-4ae0-bad6-b1bfd7a10d66",
   "metadata": {},
   "outputs": [
    {
     "data": {
      "text/plain": [
       "[<p class=\"content\">첫 번째 단락</p>, <p class=\"content\">두 번째 단락</p>]"
      ]
     },
     "execution_count": 511,
     "metadata": {},
     "output_type": "execute_result"
    }
   ],
   "source": [
    "soup.find_all('p')"
   ]
  },
  {
   "cell_type": "code",
   "execution_count": 515,
   "id": "3c0fbea0-794b-497b-8983-9b7fb95e4d84",
   "metadata": {},
   "outputs": [],
   "source": [
    "from bs4 import BeautifulSoup\n",
    "\n",
    "html_doc = '''\n",
    "<html>\n",
    "<head><title>예제 페이지</title></head>\n",
    "<body>\n",
    "<h1>안녕하세요</h1>\n",
    "<p class=\"content\">첫 번째 단락</p>\n",
    "<p class=\"content\">두 번째 단락</p>\n",
    "<p class=\"content\">세 번째 단락</p>\n",
    "</body>\n",
    "</html>\n",
    "'''\n",
    "\n",
    "soup = BeautifulSoup(html_doc, 'html.parser')"
   ]
  },
  {
   "cell_type": "code",
   "execution_count": 517,
   "id": "525c1cda-5b9f-4b33-b8f5-728c851f9d1e",
   "metadata": {},
   "outputs": [
    {
     "name": "stdout",
     "output_type": "stream",
     "text": [
      "첫 번째 단락\n",
      "두 번째 단락\n",
      "세 번째 단락\n"
     ]
    }
   ],
   "source": [
    "# soup.find_all('태그명')\n",
    "p_tags = soup.find_all('p')\n",
    "for p in p_tags:\n",
    "    print(f\"{p.string}\")"
   ]
  },
  {
   "cell_type": "code",
   "execution_count": 519,
   "id": "048c6e05-4b85-4828-900f-6c53b76b55ea",
   "metadata": {},
   "outputs": [
    {
     "name": "stdout",
     "output_type": "stream",
     "text": [
      "첫 번째 단락\n",
      "두 번째 단락\n",
      "세 번째 단락\n"
     ]
    }
   ],
   "source": [
    "# soup.find_all(속성='속성값')\n",
    "content_tags = soup.find_all(class_='content')\n",
    "for tag in content_tags:\n",
    "    print(f\"{tag.string}\")"
   ]
  },
  {
   "cell_type": "code",
   "execution_count": 521,
   "id": "6684bc26-8d56-437a-9e10-a44f97a5071e",
   "metadata": {},
   "outputs": [
    {
     "name": "stdout",
     "output_type": "stream",
     "text": [
      "첫 번째 단락\n",
      "두 번째 단락\n",
      "세 번째 단락\n"
     ]
    }
   ],
   "source": [
    "# soup.find_all(attrs={'속성':'속성값'})\n",
    "class_tags = soup.find_all(attrs={'class':'content'})\n",
    "for tag in class_tags:\n",
    "    print(tag.string)"
   ]
  },
  {
   "cell_type": "code",
   "execution_count": 523,
   "id": "767c1a1b-1a96-4f2b-b4ca-357c831b436e",
   "metadata": {},
   "outputs": [
    {
     "name": "stdout",
     "output_type": "stream",
     "text": [
      "첫 번째 단락\n",
      "두 번째 단락\n",
      "세 번째 단락\n"
     ]
    }
   ],
   "source": [
    "# soup.find_all('태그명', 속성='속성값')\n",
    "p_content_tags = soup.find_all('p', class_='content')\n",
    "for tag in p_content_tags:\n",
    "    print(tag.string)"
   ]
  },
  {
   "cell_type": "code",
   "execution_count": 525,
   "id": "c62d5621-d77c-4a83-96eb-6fbde03312a4",
   "metadata": {},
   "outputs": [
    {
     "name": "stdout",
     "output_type": "stream",
     "text": [
      "첫 번째 단락\n",
      "두 번째 단락\n",
      "세 번째 단락\n"
     ]
    }
   ],
   "source": [
    "# soup.find_all('태그명', attrs={'속성':'속성값'})\n",
    "p_class_tags = soup.find_all('p',attrs={'class':'content'})\n",
    "for tag in p_class_tags:\n",
    "    print(f\"{tag.string}\")"
   ]
  },
  {
   "cell_type": "code",
   "execution_count": 527,
   "id": "c7f729a3-2516-477e-a868-f95cd6518e80",
   "metadata": {},
   "outputs": [
    {
     "name": "stdout",
     "output_type": "stream",
     "text": [
      "이미지: https://example.com/image1.jpg, 대체 텍스트: 첫 번째 이미지\n",
      "이미지: https://example.com/image1.jpg, 대체 텍스트: 두 번째 이미지\n",
      "이미지: https://example.com/image1.jpg, 대체 텍스트: 텍스트 없음\n"
     ]
    }
   ],
   "source": [
    "from bs4 import BeautifulSoup\n",
    "\n",
    "html_doc = '''\n",
    "<html>\n",
    "<head><title>예제 페이지</title></head>\n",
    "<body>\n",
    "<h1>안녕하세요</h1>\n",
    "<p class=\"content\">첫 번째 단락</p>\n",
    "<div id='gallery'>\n",
    "<img src=\"https://example.com/image1.jpg\" alt=\"첫 번째 이미지\" class=\"image\">\n",
    "<img src=\"https://example.com/image1.jpg\" alt=\"두 번째 이미지\" class=\"image\">\n",
    "<img src=\"https://example.com/image1.jpg\" class=\"image\">\n",
    "</div>\n",
    "<a href = \"https://example.com\" class=\"link\">링크</a>\n",
    "</body>\n",
    "</html>\n",
    "'''\n",
    "\n",
    "soup = BeautifulSoup(html_doc, 'html.parser')\n",
    "img_tags = soup.find_all('img')\n",
    "for img in img_tags:\n",
    "    print(f\"이미지: {img['src']}, 대체 텍스트: {img.get('alt','텍스트 없음')}\") # 그냥 태그만 입력하여 출력해도 되지만 get함수를 이용하면 안에 값이 없어도 대체 하여 불러올수 있음"
   ]
  },
  {
   "cell_type": "code",
   "execution_count": 529,
   "id": "3881ed36-000b-4f82-aaef-8e45250c4f64",
   "metadata": {},
   "outputs": [
    {
     "name": "stdout",
     "output_type": "stream",
     "text": [
      "이미지: data:image/svg+xml;base64,PHN2ZyB4bWxucz0iaHR0cDovL3d3dy53My5vcmcvMjAwMC9zdmciIHdpZHRoPSIyMDAiIGhlaWdodD0iMjAwIj48cmVjdCB3aWR0aD0iMjAwIiBoZWlnaHQ9IjIwMCIgZmlsbD0iI2YwZjBmMCIvPjxyZWN0IHg9IjcwIiB5PSI0MCIgd2lkdGg9IjYwIiBoZWlnaHQ9IjEyMCIgcng9IjUiIGZpbGw9IiM2NjY2NjYiLz48L3N2Zz4=\n",
      "이미지: data:image/svg+xml;base64,PHN2ZyB4bWxucz0iaHR0cDovL3d3dy53My5vcmcvMjAwMC9zdmciIHdpZHRoPSIyMDAiIGhlaWdodD0iMjAwIj48cmVjdCB3aWR0aD0iMjAwIiBoZWlnaHQ9IjIwMCIgZmlsbD0iI2YwZjBmMCIvPjxyZWN0IHg9IjIwIiB5PSI2MCIgd2lkdGg9IjE2MCIgaGVpZ2h0PSI4MCIgcng9IjUiIGZpbGw9IiM2NjY2NjYiLz48L3N2Zz4=\n",
      "이미지: data:image/svg+xml;base64,PHN2ZyB4bWxucz0iaHR0cDovL3d3dy53My5vcmcvMjAwMC9zdmciIHdpZHRoPSIyMDAiIGhlaWdodD0iMjAwIj48cmVjdCB3aWR0aD0iMjAwIiBoZWlnaHQ9IjIwMCIgZmlsbD0iI2YwZjBmMCIvPjxyZWN0IHg9IjQwIiB5PSI0MCIgd2lkdGg9IjEyMCIgaGVpZ2h0PSIxMjAiIHJ4PSI1IiBmaWxsPSIjNjY2NjY2Ii8+PC9zdmc+\n",
      "이미지: data:image/svg+xml;base64,PHN2ZyB4bWxucz0iaHR0cDovL3d3dy53My5vcmcvMjAwMC9zdmciIHdpZHRoPSIyMDAiIGhlaWdodD0iMjAwIj48cmVjdCB3aWR0aD0iMjAwIiBoZWlnaHQ9IjIwMCIgZmlsbD0iI2YwZjBmMCIvPjxjaXJjbGUgY3g9IjEwMCIgY3k9IjEwMCIgcj0iNDAiIGZpbGw9IiM2NjY2NjYiLz48L3N2Zz4=\n"
     ]
    }
   ],
   "source": [
    "import urllib.request\n",
    "from bs4 import BeautifulSoup\n",
    "\n",
    "url = 'http://lecture.pul.kr/ex3.html'\n",
    "\n",
    "response = urllib.request.urlopen(url)\n",
    "html_cont = response.read()\n",
    "# html_content = respose.read().decode('utf-8')\n",
    "\n",
    "soup = BeautifulSoup(html_cont, 'html.parser')\n",
    "img_tags = soup.find_all('img')\n",
    "for img in img_tags:\n",
    "    print(f\"이미지: {img['src']}\")"
   ]
  },
  {
   "cell_type": "code",
   "execution_count": 531,
   "id": "4775a1cd-a640-4b6c-85dd-03f5e6f73b90",
   "metadata": {},
   "outputs": [
    {
     "name": "stdout",
     "output_type": "stream",
     "text": [
      "모든 <p> 태그:\n",
      "첫 번째 단락\n",
      "두 번째 단락\n",
      "세 번째 단락\n",
      "네 번째 단락\n",
      "다섯 번째 단락\n"
     ]
    }
   ],
   "source": [
    "from bs4 import BeautifulSoup\n",
    "\n",
    "html_doc = \"\"\"\n",
    "<html>\n",
    "<head><title>예제 페이지</title></head>\n",
    "<body>\n",
    "    <h1>안녕하세요!</h1>\n",
    "    <p class=\"content\">첫 번째 단락</p>\n",
    "    <p class=\"content\">두 번째 단락</p>\n",
    "    <p class=\"other\">세 번째 단락</p>\n",
    "    <div id=\"main\">\n",
    "        <p class=\"content\">네 번째 단락</p>\n",
    "        <p class=\"other\">다섯 번째 단락</p>\n",
    "        <img src=\"https://example.com/image1.jpg\" alt=\"첫 번째 이미지\" class=\"image\">\n",
    "    </div>\n",
    "    <a href=\"https://example.com/\" class=\"link\">링크</a>\n",
    "    <img src=\"https://example.com/image2.jpg\" alt=\"두 번째 이미지\" class=\"image\">\n",
    "</body>\n",
    "</html>\n",
    "\"\"\"\n",
    "\n",
    "soup = BeautifulSoup(html_doc, 'html.parser')\n",
    "# 1. 태그 선택: 모든 <p> 태그 선택\n",
    "p_tags = soup.select('p')\n",
    "print(\"모든 <p> 태그:\")\n",
    "for p in p_tags:\n",
    "    print(p.string)"
   ]
  },
  {
   "cell_type": "code",
   "execution_count": 533,
   "id": "06514e40-a66d-4d41-9b55-028362d1beba",
   "metadata": {},
   "outputs": [
    {
     "name": "stdout",
     "output_type": "stream",
     "text": [
      "['content']\n",
      "['content']\n",
      "['other']\n",
      "['content']\n",
      "['other']\n"
     ]
    }
   ],
   "source": [
    "for p in p_tags:\n",
    "    print(p[\"class\"])"
   ]
  },
  {
   "cell_type": "code",
   "execution_count": 535,
   "id": "ab3d7d04-1e94-4444-8283-c41a1b91cc9a",
   "metadata": {},
   "outputs": [
    {
     "name": "stdout",
     "output_type": "stream",
     "text": [
      "첫 번째 단락\n",
      "두 번째 단락\n",
      "네 번째 단락\n"
     ]
    }
   ],
   "source": [
    "content_tags = soup.select('.content')\n",
    "for tag in content_tags:\n",
    "    print(tag.string)"
   ]
  },
  {
   "cell_type": "code",
   "execution_count": 537,
   "id": "0c915f46-27ea-46fd-9f4b-19e369740902",
   "metadata": {},
   "outputs": [
    {
     "name": "stdout",
     "output_type": "stream",
     "text": [
      "<div id=\"main\">\n",
      "<p class=\"content\">네 번째 단락</p>\n",
      "<p class=\"other\">다섯 번째 단락</p>\n",
      "<img alt=\"첫 번째 이미지\" class=\"image\" src=\"https://example.com/image1.jpg\"/>\n",
      "</div>\n",
      "\n",
      "<p class=\"content\">네 번째 단락</p>\n",
      "<p class=\"other\">다섯 번째 단락</p>\n",
      "<img alt=\"첫 번째 이미지\" class=\"image\" src=\"https://example.com/image1.jpg\"/>\n",
      "\n"
     ]
    }
   ],
   "source": [
    "main_div = soup.select('#main')\n",
    "for m in main_div:\n",
    "    print(m, m.decode_contents(), sep=\"\\n\")\n",
    "#print(main_div[0] if main_div else \"해당요소 없음\")"
   ]
  },
  {
   "cell_type": "code",
   "execution_count": 584,
   "id": "ad91a9c7-3af3-43df-ac07-8e254280350c",
   "metadata": {},
   "outputs": [],
   "source": [
    "get_text():\n",
    "    모든 자식 요소의 텍스트를 포함하여 요소 내부의 모든 텍스트를 가져옴.\n",
    "    여러 줄의 텍스트를 포함할 수 있음.\n",
    "    separator 인수를 통해 텍스트 간 구분자를 설정할 수 있음. ex) div.get_text(separator='|')\n",
    "\n",
    "string:\n",
    "    특정 태그의 텍스트를 가져오며, 해당 태그가 하나의 텍스트 노드만 있을 때 사용.\n",
    "    자식 요소가 있는 경우 None을 반환함."
   ]
  },
  {
   "cell_type": "code",
   "execution_count": 565,
   "id": "86dd3f49-6211-4c8a-b057-b077fe7e2dba",
   "metadata": {},
   "outputs": [
    {
     "name": "stdout",
     "output_type": "stream",
     "text": [
      "네 번째 단락\n",
      "네 번째 단락\n",
      "다섯 번째 단락\n",
      "다섯 번째 단락\n"
     ]
    }
   ],
   "source": [
    "main_p_tags = soup.select('#main p')\n",
    "for p in main_p_tags:\n",
    "    print(p.string)\n",
    "    print(p.get_text())"
   ]
  },
  {
   "cell_type": "code",
   "execution_count": 543,
   "id": "c2887866-c250-42ae-93db-9b390d94de09",
   "metadata": {},
   "outputs": [
    {
     "name": "stdout",
     "output_type": "stream",
     "text": [
      "https://example.com/\n"
     ]
    }
   ],
   "source": [
    "link_tag = soup.select('a.link')\n",
    "print(link_tag[0]['href'] if link_tag else \"해당 요소 없음\")"
   ]
  },
  {
   "cell_type": "code",
   "execution_count": 545,
   "id": "7f7810e7-05fe-43c8-91dc-451ca248d577",
   "metadata": {},
   "outputs": [
    {
     "name": "stdout",
     "output_type": "stream",
     "text": [
      "이미지 링크: https://example.com/image1.jpg, 대체 텍스트: 첫 번째 이미지\n",
      "이미지 링크: https://example.com/image2.jpg, 대체 텍스트: 두 번째 이미지\n"
     ]
    }
   ],
   "source": [
    "img_tags = soup.select('img')\n",
    "for img in img_tags:\n",
    "    print(f\"이미지 링크: {img['src']}, 대체 텍스트: {img['alt']}\")"
   ]
  },
  {
   "cell_type": "code",
   "execution_count": 547,
   "id": "b57aba9d-9bed-4fdf-b2f8-01578cc816c7",
   "metadata": {},
   "outputs": [
    {
     "name": "stdout",
     "output_type": "stream",
     "text": [
      "200\n"
     ]
    }
   ],
   "source": [
    "import requests\n",
    "\n",
    "response = requests.get('http://lecture.pul.kr/ex1.html')\n",
    "print(response.status_code) # HTTP 상태 코드\n",
    "#print(response.content) # 바이너리 형태\n",
    "#print(response.text)"
   ]
  },
  {
   "cell_type": "code",
   "execution_count": 549,
   "id": "923b4032-e533-49d4-a3b9-e5e6f00781c1",
   "metadata": {},
   "outputs": [
    {
     "name": "stdout",
     "output_type": "stream",
     "text": [
      "201\n",
      "{'title': 'foo', 'body': 'bar', 'userId': 1, 'id': 101}\n"
     ]
    }
   ],
   "source": [
    "# post로 값 전달하기\n",
    "import requests\n",
    "\n",
    "data = {'title':'foo','body':'bar','userId':1}\n",
    "response = requests.post('https://jsonplaceholder.typicode.com/posts', json=data)\n",
    "\n",
    "print(response.status_code)\n",
    "print(response.json())"
   ]
  },
  {
   "cell_type": "code",
   "execution_count": 555,
   "id": "aea867ed-3c37-40d3-a81d-fcacc62ebbfd",
   "metadata": {},
   "outputs": [
    {
     "name": "stdout",
     "output_type": "stream",
     "text": [
      "201\n",
      "{'id': 101}\n"
     ]
    }
   ],
   "source": [
    "# post로 값 전달하기\n",
    "import requests\n",
    "\n",
    "params = {'title':'foo','body':'bar','userId':1}\n",
    "response = requests.post('https://jsonplaceholder.typicode.com/posts', params=params)\n",
    "\n",
    "print(response.status_code)\n",
    "print(response.json())"
   ]
  },
  {
   "cell_type": "code",
   "execution_count": 582,
   "id": "1b97b89b-bb95-458d-890b-3a9cd92dc274",
   "metadata": {},
   "outputs": [],
   "source": [
    "import requests\n",
    "\n",
    "files = {'file': open ('example.txt','rb')}\n",
    "response = requests.post('http://httpbin.org/post', files-files,  params=params)\n",
    "print(response.status_code)"
   ]
  },
  {
   "cell_type": "code",
   "execution_count": 580,
   "id": "40d54ddd-5a08-4e75-ba05-e984bb68aa7d",
   "metadata": {},
   "outputs": [
    {
     "name": "stdout",
     "output_type": "stream",
     "text": [
      "{\n",
      "  \"args\": {}, \n",
      "  \"data\": \"\", \n",
      "  \"files\": {}, \n",
      "  \"form\": {}, \n",
      "  \"headers\": {\n",
      "    \"Accept\": \"*/*\", \n",
      "    \"Accept-Encoding\": \"gzip, deflate, br, zstd\", \n",
      "    \"Authorization\": \"Vearer YOUR_TOKEN\", \n",
      "    \"Content-Length\": \"0\", \n",
      "    \"Host\": \"httpbin.org\", \n",
      "    \"User-Agent\": \"python-requests/2.32.3\", \n",
      "    \"X-Amzn-Trace-Id\": \"Root=1-67441f52-1ecf85e423e5c9b6626957ce\"\n",
      "  }, \n",
      "  \"json\": null, \n",
      "  \"origin\": \"221.150.237.129\", \n",
      "  \"url\": \"http://httpbin.org/post\"\n",
      "}\n",
      "\n"
     ]
    }
   ],
   "source": [
    "# 해더 정보 \n",
    "import requests\n",
    "\n",
    "headers = {'Authorization': 'Vearer YOUR_TOKEN'}\n",
    "response = requests.post('http://httpbin.org/post',headers=headers)\n",
    "print(response.text)"
   ]
  },
  {
   "cell_type": "code",
   "execution_count": 551,
   "id": "1c82dcd2-dd0f-4a2d-b8fb-809e5a8e1a19",
   "metadata": {},
   "outputs": [],
   "source": [
    "import requests\n",
    "\n",
    "#GitHub API URL (예시로 사용자 정보를 가져오는 API)\n",
    "url = 'https://api.github.com/user'\n",
    "\n",
    "#Bearer Token 설정 (여기에는 실제 GitHub API 토큰을 넣어야 합니다)\n",
    "#GitHub 토큰을 생성하려면 GitHub 계정에서 'Settings' > 'Developer settings' > 'Personal access tokens' 에서 생성\n",
    "headers = {'Authorization': 'Bearer YOUR_TOKEN'}\n",
    "headers = {'User-Agent': 'Mozilla/5.0 (Windows NT 10.0; Win64; x64) AppleWebKit/537.36'}\n",
    "#GET 요청 보내기\n",
    "response = requests.get(url, headers=headers)\n",
    "\n",
    "#응답 상태 코드 출력\n",
    "print(\"상태 코드:\", response.status_code)\n",
    "\n",
    "#응답 내용 확인\n",
    "if response.status_code == 200:\n",
    "    print(\"응답 내용:\", response.json())  # JSON 형식으로 응답 내용 출력\n",
    "else:\n",
    "    print(\"오류 발생:\", response.text)\n",
    "\n",
    "#print(response.text)  # 텍스트 형식\n",
    "#print(response.content)  # 바이너리 형식\n",
    "#print(response.json())  # JSON 형식\n"
   ]
  },
  {
   "cell_type": "code",
   "execution_count": 592,
   "id": "ae75c85b-1972-4efb-92e5-67de0cfee20c",
   "metadata": {},
   "outputs": [
    {
     "name": "stdout",
     "output_type": "stream",
     "text": [
      "제목: Example Domain\n",
      "메인 제목: Example Domain\n",
      "본문: This domain is for use in illustrative examples in documents. You may use this domain in literature without prior coordination or asking for permission.\n",
      "\n",
      "링크 목록:\n",
      "-#\n"
     ]
    }
   ],
   "source": [
    "# http://leacture.pul.kr/ex1.html\n",
    "# 타이틀(title)\n",
    "# 메인제목(h1)\n",
    "# 본문(p)\n",
    "# 링크 목록 표시\n",
    "\n",
    "import requests\n",
    "from bs4 import BeautifulSoup\n",
    "\n",
    "url = \"http://leacture.pul.kr/ex1.html\"\n",
    "response = requests.get(url)\n",
    "\n",
    "soup = BeautifulSoup(response.text, 'html.parser')\n",
    "\n",
    "# title = soup.title.text\n",
    "# main_heading = soup.find('h1').text\n",
    "# paragraph = soup.find(\"p\").text\n",
    "# links = soup.find_all(\"a\")\n",
    "\n",
    "title = soup.select_one('title').text\n",
    "main_heading = soup.select_one('h1').text\n",
    "paragraph = soup.select_one(\"p\").text\n",
    "links = soup.select(\"a\")\n",
    "\n",
    "print(f\"제목: {title}\")\n",
    "print(f\"메인 제목: {main_heading}\")\n",
    "print(f\"본문: {paragraph}\")\n",
    "print(\"\\n링크 목록:\")\n",
    "for link in links:\n",
    "    print(f\"-{link.get(\"href\")}\")"
   ]
  },
  {
   "cell_type": "code",
   "execution_count": 630,
   "id": "8ad84a28-6f72-49db-a496-3492e996f42f",
   "metadata": {},
   "outputs": [
    {
     "name": "stdout",
     "output_type": "stream",
     "text": [
      "상품명: 스마트폰 A, 가격: 899,000원\n",
      "상품명: 노트북 B, 가격: 1,299,000원\n",
      "상품명: 태블릿 C, 가격: 599,000원\n",
      "상품명: 스마트워치 D, 가격: 299,000원\n"
     ]
    }
   ],
   "source": [
    "# http://lecture.pul.kr/ex2.html\n",
    "\n",
    "import requests\n",
    "from bs4 import BeautifulSoup\n",
    "\n",
    "url = \"http://lecture.pul.kr/ex2.html\"\n",
    "response = requests.get(url)\n",
    "\n",
    "soup = BeautifulSoup(response.text, 'html.parser')\n",
    "\n",
    "products = soup.select('div.product')\n",
    "for product in products:\n",
    "    name = product.select_one(\"h2.name\").text\n",
    "    price = product.select_one(\"span.price\").text\n",
    "    print(f\"상품명: {name}, 가격: {price}\")"
   ]
  },
  {
   "cell_type": "code",
   "execution_count": 622,
   "id": "0248dfd3-f112-4fc2-ac96-66fbe391ee6b",
   "metadata": {},
   "outputs": [
    {
     "name": "stdout",
     "output_type": "stream",
     "text": [
      " 상품명: 스마트폰 A\t가격: 899,000원\n",
      " 상품명: 노트북 B\t가격: 1,299,000원\n",
      " 상품명: 태블릿 C\t가격: 599,000원\n",
      " 상품명: 스마트워치 D\t가격: 299,000원\n"
     ]
    }
   ],
   "source": [
    "# http://lecture.pul.kr/ex2.html\n",
    "# 상품명: 스마트폰 A, 가격: 899,000원\n",
    "# 상품명: 노트북 B, 가격: 1,299,000원\n",
    "# 상품명: 태블릿 C, 가격: 599,000원\n",
    "# 상품명: 스마트워치 D, 가격: 299,000원\n",
    "import requests\n",
    "from bs4 import BeautifulSoup\n",
    "\n",
    "url = \"http://lecture.pul.kr/ex2.html\" # 주소 url변수에 저장\n",
    "response = requests.get(url) # url가져오기(?)\n",
    "soup = BeautifulSoup(response.text, 'html.parser') # text형식으로 url\n",
    "\n",
    "'''h2_tags = soup.select('h2') # 모든 h2 선택\n",
    "span_tags = soup.select('span') # 모든 span 선택\n",
    "h2_list =[] # 가져온 h2 저장할 리스트\n",
    "span_list = [] # 가져온 span 저장할 리스트\n",
    "\n",
    "for h2 in h2_tags: # h2 리스트에 저장\n",
    "    h2_list.append(h2.string)\n",
    "\n",
    "for span in span_tags: # span  리스트에 저장\n",
    "    span_list.append(span.string)\n",
    "\n",
    "for i in range(len(h2_list)): # h2 와 span 조건에 맞게 출력\n",
    "    print(f\"상품명: {h2_list[i]}, 가격: {span_list[i]}\")'''\n",
    "\n",
    "products = soup.select(\"div.product\") # 모든 product 클래스 가져옴\n",
    "for product in products: # product 중 name이라는 클래스와 price클래스로 상품명과 가격 출력\n",
    "    print(f\" 상품명: {product.select_one('.name').string}\\t가격: {product.select_one('.price').string}\")"
   ]
  },
  {
   "cell_type": "code",
   "execution_count": 644,
   "id": "c2fa5b28-0fca-4965-b600-3991faf7f783",
   "metadata": {},
   "outputs": [
    {
     "name": "stdout",
     "output_type": "stream",
     "text": [
      "상품명: 커피 머신, 가격: 150,000원,정보:향긋한 커피를 즐길 수 있는 머신입니다.\n",
      "상품명: 믹서기, 가격: 75,000원,정보:신선한 스무디를 만들어주는 믹서기입니다.\n",
      "상품명: 전자레인지, 가격: 120,000원,정보:빠른 조리를 도와주는 전자레인지입니다.\n",
      "상품명: 헤어 드라이어, 가격: 50,000원,정보:강력한 바람의 헤어 드라이어입니다.\n"
     ]
    }
   ],
   "source": [
    "## http://10.0.66.99/ex1.html\n",
    "import requests\n",
    "from bs4 import BeautifulSoup\n",
    "\n",
    "\n",
    "url = \"http://10.0.66.99/ex1.html\"\n",
    "response = requests.get(url)\n",
    "response.encoding = 'utf-8'\n",
    "\n",
    "soup = BeautifulSoup(response.text, 'html.parser')\n",
    "\n",
    "products = soup.select('div.item')\n",
    "for product in products:\n",
    "    name = product.select_one(\"h3.title\").text\n",
    "    price = product.select_one(\"span.cost\").text\n",
    "    information = product.select_one(\"p.details\").text\n",
    "    print(f\"상품명: {name}, 가격: {price},정보:{information}\")"
   ]
  },
  {
   "cell_type": "code",
   "execution_count": 692,
   "id": "9a2aae48-5f6a-4830-a4ae-25b301811fd9",
   "metadata": {},
   "outputs": [
    {
     "name": "stdout",
     "output_type": "stream",
     "text": [
      "상품명: 스마트폰 A, 가격: 899,000원,정보:최신 프리미엄 스마트폰\n",
      "상품명: 노트북 B, 가격: 1,299,000원,정보:고성능 비즈니스 노트북\n",
      "상품명: 태블릿 C, 가격: 599,000원,정보:휴대성 좋은 태블릿\n",
      "상품명: 스마트워치 D, 가격: 299,000원,정보:건강관리 스마트워치\n"
     ]
    }
   ],
   "source": [
    "## http://lecture.pul.kr/ex3.html\n",
    "import requests\n",
    "from bs4 import BeautifulSoup\n",
    "\n",
    "url =\"http://lecture.pul.kr/ex3.html\"\n",
    "response = requests.get(url)\n",
    "response.encoding = 'utf-8'\n",
    "\n",
    "soup = BeautifulSoup(response.text, 'html.parser')\n",
    "\n",
    "containers = soup.select('div.product')\n",
    "for container in containers:\n",
    "    name = container.select_one('h2.name').text\n",
    "    price = container.select_one('span.price').text\n",
    "    information = container.select_one('p.description').text\n",
    "    print(f\"상품명: {name}, 가격: {price},정보:{information}\")"
   ]
  },
  {
   "cell_type": "code",
   "execution_count": 764,
   "id": "6cf6c3d9-ca2a-41fd-b161-ce9288e5ab17",
   "metadata": {},
   "outputs": [
    {
     "data": {
      "text/plain": [
       "[{'상품': '스마트폰 A', '가격': '899,000원', '설명': '최신 프리미엄 스마트폰'},\n",
       " {'상품': '노트북 B', '가격': '1,299,000원', '설명': '고성능 비즈니스 노트북'},\n",
       " {'상품': '태블릿 C', '가격': '599,000원', '설명': '휴대성 좋은 태블릿'},\n",
       " {'상품': '스마트워치 D', '가격': '299,000원', '설명': '건강관리 스마트워치'}]"
      ]
     },
     "execution_count": 764,
     "metadata": {},
     "output_type": "execute_result"
    }
   ],
   "source": [
    "## http://lecture.pul.kr/ex3.html\n",
    "import requests\n",
    "from bs4 import BeautifulSoup\n",
    "\n",
    "url =\"http://lecture.pul.kr/ex3.html\"\n",
    "response = requests.get(url)\n",
    "response.encoding = 'utf-8'\n",
    "b = []\n",
    "soup = BeautifulSoup(response.text, 'html.parser')\n",
    "containers = soup.select('div.product')\n",
    "for container in containers:\n",
    "    name = container.select_one('h2.name').text\n",
    "    price = container.select_one('span.price').text\n",
    "    information = container.select_one('p.description').text\n",
    "\n",
    "    # c = {}\n",
    "    # c['상품'] = name\n",
    "    # c['가격'] = price\n",
    "    # c['설명'] = information\n",
    "\n",
    "    c ={\n",
    "        '상품':name,\n",
    "        '가격':price,\n",
    "        '설명':information\n",
    "    }\n",
    "    b.append(c)\n",
    "    #print(f\"상품명: {name}, 가격: {price}, 정보:{information}\")\n",
    "\n",
    "        \n",
    "        \n",
    "b"
   ]
  },
  {
   "cell_type": "code",
   "execution_count": null,
   "id": "c1afac1f-a85e-44c5-9a12-a2cd99216ade",
   "metadata": {},
   "outputs": [],
   "source": []
  }
 ],
 "metadata": {
  "kernelspec": {
   "display_name": "Python 3 (ipykernel)",
   "language": "python",
   "name": "python3"
  },
  "language_info": {
   "codemirror_mode": {
    "name": "ipython",
    "version": 3
   },
   "file_extension": ".py",
   "mimetype": "text/x-python",
   "name": "python",
   "nbconvert_exporter": "python",
   "pygments_lexer": "ipython3",
   "version": "3.12.7"
  }
 },
 "nbformat": 4,
 "nbformat_minor": 5
}
