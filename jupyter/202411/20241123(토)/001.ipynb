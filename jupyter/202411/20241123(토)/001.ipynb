{
 "cells": [
  {
   "cell_type": "code",
   "execution_count": 1,
   "id": "63b97ddf-790c-4c10-aeea-fa1f9a7079f6",
   "metadata": {},
   "outputs": [
    {
     "data": {
      "text/plain": [
       "range(0, 5)"
      ]
     },
     "execution_count": 1,
     "metadata": {},
     "output_type": "execute_result"
    }
   ],
   "source": [
    "a = range(5)\n",
    "a"
   ]
  },
  {
   "cell_type": "code",
   "execution_count": 2,
   "id": "1de46a2e-0725-498d-9971-4f018194c20b",
   "metadata": {},
   "outputs": [
    {
     "data": {
      "text/plain": [
       "[0, 1, 2, 3, 4]"
      ]
     },
     "execution_count": 2,
     "metadata": {},
     "output_type": "execute_result"
    }
   ],
   "source": [
    "list(range(5))"
   ]
  },
  {
   "cell_type": "code",
   "execution_count": 3,
   "id": "699c4f9a-3411-4499-b3b9-e71ac7caefff",
   "metadata": {},
   "outputs": [
    {
     "data": {
      "text/plain": [
       "[0, 1, 2, 3, 4]"
      ]
     },
     "execution_count": 3,
     "metadata": {},
     "output_type": "execute_result"
    }
   ],
   "source": [
    "list(range(0, 5))"
   ]
  },
  {
   "cell_type": "code",
   "execution_count": 4,
   "id": "bcab61a5-172c-4b5c-a5f6-7a930ade40c4",
   "metadata": {},
   "outputs": [
    {
     "data": {
      "text/plain": [
       "[5, 6, 7, 8, 9]"
      ]
     },
     "execution_count": 4,
     "metadata": {},
     "output_type": "execute_result"
    }
   ],
   "source": [
    "list(range(5, 10))"
   ]
  },
  {
   "cell_type": "code",
   "execution_count": 5,
   "id": "cad7abef-46fe-4328-983a-9c27e2cc31f1",
   "metadata": {},
   "outputs": [
    {
     "data": {
      "text/plain": [
       "[0, 2, 4, 6, 8]"
      ]
     },
     "execution_count": 5,
     "metadata": {},
     "output_type": "execute_result"
    }
   ],
   "source": [
    "list(range(0, 10, 2))"
   ]
  },
  {
   "cell_type": "code",
   "execution_count": 6,
   "id": "6e5eb62a-b9fc-4ebf-a2ff-9022f9e8385c",
   "metadata": {},
   "outputs": [
    {
     "data": {
      "text/plain": [
       "[0, 1, 2, 3, 4, 5, 6, 7, 8, 9, 10]"
      ]
     },
     "execution_count": 6,
     "metadata": {},
     "output_type": "execute_result"
    }
   ],
   "source": [
    "list(range(0, 10 +1))"
   ]
  },
  {
   "cell_type": "code",
   "execution_count": 7,
   "id": "38536ffd-fc65-4c78-a676-1c90c855ef48",
   "metadata": {},
   "outputs": [
    {
     "name": "stdout",
     "output_type": "stream",
     "text": [
      "1 = 반복 변수\n",
      "2 = 반복 변수\n",
      "3 = 반복 변수\n",
      "4 = 반복 변수\n",
      "5 = 반복 변수\n",
      "\n",
      "5 = 반복 변수\n",
      "6 = 반복 변수\n",
      "7 = 반복 변수\n",
      "8 = 반복 변수\n",
      "9 = 반복 변수\n",
      "\n",
      "0 = 반복 변수\n",
      "3 = 반복 변수\n",
      "6 = 반복 변수\n",
      "9 = 반복 변수\n",
      "\n"
     ]
    }
   ],
   "source": [
    "a = [1,2,3,4,5]\n",
    "\n",
    "for i in a:\n",
    "    print(str(i) + \" = 반복 변수\")\n",
    "print()\n",
    "\n",
    "for i in range(5, 10):\n",
    "    print(str(i) + \" = 반복 변수\")\n",
    "print()\n",
    "\n",
    "for i in range (0, 10, 3):\n",
    "    print(str(i) + \" = 반복 변수\")\n",
    "print()    "
   ]
  },
  {
   "cell_type": "code",
   "execution_count": 8,
   "id": "e95986eb-b691-40a6-9b61-a788e36acf82",
   "metadata": {},
   "outputs": [
    {
     "name": "stdout",
     "output_type": "stream",
     "text": [
      "0번쨰 반복: 273\n",
      "1번쨰 반복: 32\n",
      "2번쨰 반복: 103\n",
      "3번쨰 반복: 57\n",
      "4번쨰 반복: 52\n"
     ]
    }
   ],
   "source": [
    "array = [273, 32, 103, 57, 52]\n",
    "for i in range(len(array)):\n",
    "    print(\"{}번쨰 반복: {}\".format(i, array[i]))"
   ]
  },
  {
   "cell_type": "code",
   "execution_count": 9,
   "id": "ecf9c681-b190-4688-bcae-372742eeda73",
   "metadata": {},
   "outputs": [
    {
     "name": "stdout",
     "output_type": "stream",
     "text": [
      "현재 반복 변수: 4\n",
      "현재 반복 변수: 3\n",
      "현재 반복 변수: 2\n",
      "현재 반복 변수: 1\n",
      "현재 반복 변수: 0\n"
     ]
    }
   ],
   "source": [
    "for i in range(4, 0 -1, -1):\n",
    "    print(\"현재 반복 변수: {}\".format(i))"
   ]
  },
  {
   "cell_type": "code",
   "execution_count": 10,
   "id": "1cce1b13-dc84-4013-ae0d-99d5586e9f80",
   "metadata": {},
   "outputs": [
    {
     "name": "stdout",
     "output_type": "stream",
     "text": [
      "현재 반복 변수: 4\n",
      "현재 반복 변수: 3\n",
      "현재 반복 변수: 2\n",
      "현재 반복 변수: 1\n",
      "현재 반복 변수: 0\n"
     ]
    }
   ],
   "source": [
    "for i in reversed(range(5)):\n",
    "    print(\"현재 반복 변수: {}\".format(i))"
   ]
  },
  {
   "cell_type": "code",
   "execution_count": 11,
   "id": "b5ae0f16-3787-4f3b-9965-72e7eb1d894b",
   "metadata": {},
   "outputs": [
    {
     "name": "stdout",
     "output_type": "stream",
     "text": [
      "*\n",
      "**\n",
      "***\n",
      "****\n",
      "*****\n",
      "******\n",
      "*******\n",
      "********\n",
      "*********\n",
      "\n"
     ]
    }
   ],
   "source": [
    "a = \"\"\n",
    "for i in range(1,10):\n",
    "    for j in range(0,i):\n",
    "        a += \"*\"\n",
    "    a +=\"\\n\"\n",
    "\n",
    "print(a)"
   ]
  },
  {
   "cell_type": "code",
   "execution_count": 12,
   "id": "d21b5b61-0703-4a63-9c51-9e285f45067f",
   "metadata": {},
   "outputs": [
    {
     "name": "stdout",
     "output_type": "stream",
     "text": [
      "             *\n",
      "            ***\n",
      "           *****\n",
      "          *******\n",
      "         *********\n",
      "        ***********\n",
      "       *************\n",
      "      ***************\n",
      "     *****************\n",
      "    *******************\n",
      "   *********************\n",
      "  ***********************\n",
      " *************************\n",
      "***************************\n",
      "\n"
     ]
    }
   ],
   "source": [
    "a = \"\"\n",
    "for i in range(1, 15):\n",
    "    for j in range(14,i,-1):\n",
    "        a += ' '\n",
    "    for k in range(0,2 *i-1):\n",
    "        a += \"*\"\n",
    "    a +=\"\\n\"\n",
    "\n",
    "print(a)"
   ]
  },
  {
   "cell_type": "code",
   "execution_count": 13,
   "id": "044b2779-b2eb-4110-83a1-1842bf9badbe",
   "metadata": {},
   "outputs": [
    {
     "name": "stdout",
     "output_type": "stream",
     "text": [
      "0번째 반복입니다.\n",
      "1번째 반복입니다.\n",
      "2번째 반복입니다.\n",
      "3번째 반복입니다.\n",
      "4번째 반복입니다.\n",
      "5번째 반복입니다.\n",
      "6번째 반복입니다.\n",
      "7번째 반복입니다.\n",
      "8번째 반복입니다.\n",
      "9번째 반복입니다.\n"
     ]
    }
   ],
   "source": [
    "i = 0\n",
    "while i < 10:\n",
    "    print(\"{}번째 반복입니다.\".format(i))\n",
    "    i +=1"
   ]
  },
  {
   "cell_type": "code",
   "execution_count": 14,
   "id": "63c75070-fffc-4240-b137-655e55eb03d7",
   "metadata": {},
   "outputs": [
    {
     "name": "stdout",
     "output_type": "stream",
     "text": [
      "[1, 1]\n"
     ]
    }
   ],
   "source": [
    "list_test = [1, 2, 1, 2]\n",
    "value = 2\n",
    "\n",
    "while value in list_test:\n",
    "    list_test.remove(value)\n",
    "\n",
    "print(list_test)"
   ]
  },
  {
   "cell_type": "code",
   "execution_count": 15,
   "id": "42eff48e-dd07-4712-9142-fd10ec151844",
   "metadata": {},
   "outputs": [
    {
     "data": {
      "text/plain": [
       "1732613213.3167086"
      ]
     },
     "execution_count": 15,
     "metadata": {},
     "output_type": "execute_result"
    }
   ],
   "source": [
    "import time\n",
    "\n",
    "time.time()\n"
   ]
  },
  {
   "cell_type": "code",
   "execution_count": 16,
   "id": "143f8a96-c294-40b8-9d60-59487eb704e4",
   "metadata": {},
   "outputs": [
    {
     "name": "stdout",
     "output_type": "stream",
     "text": [
      "5초 동안 27799372번 반복했습니다.\n"
     ]
    }
   ],
   "source": [
    "import time\n",
    "\n",
    "number = 0\n",
    "tar =time.time() +5\n",
    "while time.time() <tar:\n",
    "    number += 1\n",
    "\n",
    "print(\"5초 동안 {}번 반복했습니다.\".format(number))"
   ]
  },
  {
   "cell_type": "code",
   "execution_count": 17,
   "id": "176a1df5-4d10-474c-8928-bb2f9121e0bf",
   "metadata": {},
   "outputs": [
    {
     "name": "stdout",
     "output_type": "stream",
     "text": [
      "0번째 반복문입니다.\n"
     ]
    },
    {
     "name": "stdin",
     "output_type": "stream",
     "text": [
      ">종료하시겠습니까?(y/n):  y\n"
     ]
    },
    {
     "name": "stdout",
     "output_type": "stream",
     "text": [
      "반복을 종료합니다.\n"
     ]
    }
   ],
   "source": [
    "i = 0\n",
    "\n",
    "while True:\n",
    "    print(\"{}번째 반복문입니다.\".format(i))\n",
    "    i = i +1\n",
    "    input_text = input(\">종료하시겠습니까?(y/n): \")\n",
    "    if input_text in [\"y\",\"Y\"]:\n",
    "        print(\"반복을 종료합니다.\")\n",
    "        break        "
   ]
  },
  {
   "cell_type": "code",
   "execution_count": 18,
   "id": "764d580e-fb8f-4f84-a1df-acec11c7d092",
   "metadata": {},
   "outputs": [
    {
     "name": "stdout",
     "output_type": "stream",
     "text": [
      "15\n",
      "20\n",
      "25\n"
     ]
    }
   ],
   "source": [
    "numbers = [5, 15, 6, 20, 7, 25]\n",
    "\n",
    "for number in numbers:\n",
    "    if number <10:\n",
    "        continue\n",
    "    print(number)\n",
    "    "
   ]
  },
  {
   "cell_type": "code",
   "execution_count": 19,
   "id": "110026ab-31fe-4169-82cd-599f32507922",
   "metadata": {},
   "outputs": [
    {
     "name": "stdout",
     "output_type": "stream",
     "text": [
      "{'name': '기사', 'hp': 200, 'mp': 30, 'level': 5}\n"
     ]
    }
   ],
   "source": [
    "key_list = [\"name\",\"hp\",'mp',\"level\"]\n",
    "value_list = ['기사',200,30,5]\n",
    "char = {}\n",
    "for i in range(0,len(key_list)):\n",
    "    char[key_list[i]] = value_list[i]\n",
    "    \n",
    "\n",
    "print(char)"
   ]
  },
  {
   "cell_type": "code",
   "execution_count": 20,
   "id": "0df82a4b-0e95-4692-a5f3-f98a83d32c3a",
   "metadata": {},
   "outputs": [
    {
     "name": "stdout",
     "output_type": "stream",
     "text": [
      "141를 더할 떄 10000을 넘으며 그때의 값은 10011입니다.\n"
     ]
    }
   ],
   "source": [
    "limit = 10000\n",
    "i = 1\n",
    "sum_value = 0\n",
    "while sum_value < limit:\n",
    "    sum_value +=i\n",
    "    i += 1\n",
    "        \n",
    "print(\"{}를 더할 떄 {}을 넘으며 그때의 값은 {}입니다.\" .format(i-1, limit, sum_value))"
   ]
  },
  {
   "cell_type": "code",
   "execution_count": 21,
   "id": "4bb0f5fd-454b-412e-8c7f-3b309453331a",
   "metadata": {},
   "outputs": [
    {
     "name": "stdout",
     "output_type": "stream",
     "text": [
      "최대가 되는 경우: 50 * 50 =2500\n"
     ]
    }
   ],
   "source": [
    "max_value = 0\n",
    "a = 0\n",
    "b = 0\n",
    "for i in range(1, 100 //2 +1):\n",
    "    j = 100 -i\n",
    "    current = i * j\n",
    "    if max_value < current:\n",
    "        a = i\n",
    "        b = j\n",
    "        max_value = current\n",
    "\n",
    "print(\"최대가 되는 경우: {} * {} ={}\".format(a,b,max_value))"
   ]
  },
  {
   "cell_type": "code",
   "execution_count": 22,
   "id": "e1fa51b9-9a35-4765-ac2f-b2e262f4690c",
   "metadata": {},
   "outputs": [
    {
     "name": "stdout",
     "output_type": "stream",
     "text": [
      "# reversed() 함수\n",
      "reversed([1,2,3,4,5]: <list_reverseiterator object at 0x000001C1F521F160>\n",
      "list(reversed([1,2,3,4,5])): [5, 4, 3, 2, 1]\n",
      "\n",
      "# reversed() 함수와 반복문\n",
      "for i in reversed([1,2,3,4,5]):\n",
      "- 5\n",
      "- 4\n",
      "- 3\n",
      "- 2\n",
      "- 1\n"
     ]
    }
   ],
   "source": [
    "list_a = [1,2,3,4,5]\n",
    "list_reversed = reversed(list_a)\n",
    "\n",
    "print(\"# reversed() 함수\")\n",
    "print(\"reversed([1,2,3,4,5]:\",list_reversed)\n",
    "print(\"list(reversed([1,2,3,4,5])):\",list(list_reversed))\n",
    "print()\n",
    "\n",
    "print(\"# reversed() 함수와 반복문\")\n",
    "print(\"for i in reversed([1,2,3,4,5]):\")\n",
    "for i in reversed(list_a):\n",
    "    print(\"-\",i)"
   ]
  },
  {
   "cell_type": "code",
   "execution_count": 23,
   "id": "8d159d87-21da-4d59-a38f-e4aa9783ad81",
   "metadata": {},
   "outputs": [
    {
     "name": "stdout",
     "output_type": "stream",
     "text": [
      "1번째 요소는 요소A입니다.\n",
      "2번째 요소는 요소B입니다.\n",
      "3번째 요소는 요소C입니다.\n"
     ]
    }
   ],
   "source": [
    "ex = [\"요소A\", \"요소B\", \"요소C\"]\n",
    "a = 0\n",
    "for i in ex:\n",
    "    a = a + 1\n",
    "    print(f\"{a}번째 요소는 {i}입니다.\")"
   ]
  },
  {
   "cell_type": "code",
   "execution_count": 24,
   "id": "b257a117-abce-42b2-bdad-29ceb70f7ef0",
   "metadata": {},
   "outputs": [
    {
     "name": "stdout",
     "output_type": "stream",
     "text": [
      "#단순 출력\n",
      "['요소A', '요소B', '요소C']\n",
      "\n",
      "#enumerate() 함수 적용 출력\n",
      "<enumerate object at 0x000001C1F52541D0>\n",
      "\n",
      "# list() 함수로 강제 변환 출력\n",
      "[(0, '요소A'), (1, '요소B'), (2, '요소C')]\n",
      "\n",
      "# 반목문과 조합하기\n",
      "1번째 요소는 요소A입니다.\n",
      "2번째 요소는 요소B입니다.\n",
      "3번째 요소는 요소C입니다.\n"
     ]
    }
   ],
   "source": [
    "ex = [\"요소A\", \"요소B\", \"요소C\"]\n",
    "print(\"#단순 출력\")\n",
    "print(ex)\n",
    "print()\n",
    "\n",
    "print(\"#enumerate() 함수 적용 출력\")\n",
    "print(enumerate(ex))\n",
    "print()\n",
    "\n",
    "print(\"# list() 함수로 강제 변환 출력\")\n",
    "print(list(enumerate(ex)))\n",
    "print()\n",
    "\n",
    "print(\"# 반목문과 조합하기\")\n",
    "for i, value in enumerate(ex):\n",
    "    print(\"{}번째 요소는 {}입니다.\".format(i+1, value))\n"
   ]
  },
  {
   "cell_type": "code",
   "execution_count": 25,
   "id": "f8ed76b3-dfcc-4c57-aec2-a05c47be868b",
   "metadata": {},
   "outputs": [
    {
     "name": "stdout",
     "output_type": "stream",
     "text": [
      "['키A', '키B', '키C']\n"
     ]
    }
   ],
   "source": [
    "ex = {\n",
    "    \"키A\":\"값A\",\n",
    "    \"키B\":\"값B\",\n",
    "    \"키C\":\"값C\",\n",
    "}\n",
    "i =list(ex.keys())\n",
    "print(i)\n",
    "# print(\"# 딕셔너리의 items()함수\")\n",
    "# print(\"items():\",ex.items())\n",
    "# print()\n",
    "\n",
    "# print(\"# 딕셔너리의 items() 함수와 반복문 조합하기\")\n",
    "\n",
    "# for key, element in ex.items():\n",
    "#     print(\"dictionary[{}] = {}\".format(key,element))"
   ]
  },
  {
   "cell_type": "code",
   "execution_count": 26,
   "id": "cf75c711-aa11-4d06-b2de-cb036a590dd8",
   "metadata": {},
   "outputs": [
    {
     "name": "stdout",
     "output_type": "stream",
     "text": [
      "dict_keys(['자바', 'PHP', 'HTML'])\n",
      "dict_values([80, 90, 70])\n",
      "dict_items([('자바', 80), ('PHP', 90), ('HTML', 70)])\n",
      "True\n",
      "False\n",
      "None\n"
     ]
    }
   ],
   "source": [
    "dict1 = {\"자바\":80, \"PHP\":90, \"HTML\":70} \n",
    " \n",
    "print(dict1.keys())\n",
    "print(dict1.values())\n",
    "print(dict1.items())  \n",
    " \n",
    "print('HTML' in dict1) # True\n",
    "print('파이썬' in dict1) # False\n",
    "\n",
    "print(dict1.get(\"파이썬\"))"
   ]
  },
  {
   "cell_type": "code",
   "execution_count": 27,
   "id": "383dce2b-631a-44cb-9365-777021386c76",
   "metadata": {},
   "outputs": [
    {
     "name": "stdout",
     "output_type": "stream",
     "text": [
      "[0, 4, 16, 36, 64, 100, 144, 196, 256, 324]\n"
     ]
    }
   ],
   "source": [
    "array = []\n",
    "\n",
    "for i in range(0, 20, 2):\n",
    "    array.append(i * i)\n",
    "\n",
    "print(array)"
   ]
  },
  {
   "cell_type": "code",
   "execution_count": 28,
   "id": "e9600898-cb25-4b49-bd02-e76f2e1f1e6f",
   "metadata": {},
   "outputs": [
    {
     "name": "stdout",
     "output_type": "stream",
     "text": [
      "[0, 4, 16, 36, 64, 100, 144, 196, 256, 324]\n"
     ]
    }
   ],
   "source": [
    "array = [i * i for i in range(0, 20, 2)]\n",
    "\n",
    "print(array)"
   ]
  },
  {
   "cell_type": "code",
   "execution_count": 29,
   "id": "faf730c7-7c97-4e5e-8c9a-bdee57a1d9c1",
   "metadata": {},
   "outputs": [
    {
     "name": "stdout",
     "output_type": "stream",
     "text": [
      "['사과', '자두', '바나나', '체리']\n"
     ]
    }
   ],
   "source": [
    "array = [\"사과\",\"자두\",\"초콜릿\",\"바나나\",\"체리\"]\n",
    "output = [fruit for fruit in array if fruit != \"초콜릿\"]\n",
    "\n",
    "print(output)"
   ]
  },
  {
   "cell_type": "code",
   "execution_count": 30,
   "id": "2d127012-a4d8-422c-963b-a1ca50661079",
   "metadata": {},
   "outputs": [
    {
     "name": "stdin",
     "output_type": "stream",
     "text": [
      "정수 입력> 1\n"
     ]
    },
    {
     "name": "stdout",
     "output_type": "stream",
     "text": [
      "          입력한 문자열은 1입니다.\n",
      "          1는(은) 홀수입니다.\n"
     ]
    }
   ],
   "source": [
    "number = int(input(\"정수 입력>\"))\n",
    "\n",
    "if number % 2 == 0:\n",
    "    print(\"\"\"\\\n",
    "          입력한 문자열은 {}입니다.\n",
    "          {}는(은) 짝수입니다.\"\"\".format(number,number))\n",
    "else:\n",
    "    print(\"\"\"\\\n",
    "          입력한 문자열은 {}입니다.\n",
    "          {}는(은) 홀수입니다.\"\"\".format(number,number))"
   ]
  },
  {
   "cell_type": "code",
   "execution_count": 31,
   "id": "4aee51cf-8f8b-4be2-b76c-e6c548855e96",
   "metadata": {},
   "outputs": [
    {
     "name": "stdin",
     "output_type": "stream",
     "text": [
      "정수 입력>  1\n"
     ]
    },
    {
     "name": "stdout",
     "output_type": "stream",
     "text": [
      "입력한 문자열은 1입니다.\n",
      "1는(은) 홀수입니다.\n"
     ]
    }
   ],
   "source": [
    "number = int(input(\"정수 입력> \"))\n",
    "\n",
    "if number % 2 == 0:\n",
    "    print(\"\"\"입력한 문자열은{}입니다.\n",
    "{}는(은) 짝수입니다.\"\"\".format(number,number))\n",
    "else:\n",
    "    print(\"\"\"입력한 문자열은 {}입니다.\n",
    "{}는(은) 홀수입니다.\"\"\".format(number,number))"
   ]
  },
  {
   "cell_type": "code",
   "execution_count": 32,
   "id": "e2c54461-be81-4411-8925-3cb33c5bda27",
   "metadata": {},
   "outputs": [
    {
     "name": "stdin",
     "output_type": "stream",
     "text": [
      "정수 입력>  1\n"
     ]
    },
    {
     "name": "stdout",
     "output_type": "stream",
     "text": [
      "입력한 문자열은 1입니다.\n",
      "1는(은) 홀수입니다.\n"
     ]
    }
   ],
   "source": [
    "number = int(input(\"정수 입력> \"))\n",
    "\n",
    "if number % 2 == 0:\n",
    "    print(\"입력한 문자열은{}입니다.\\n{}는(은) 짝수입니다.\".format(number,number))\n",
    "else:\n",
    "    print(\"입력한 문자열은 {}입니다.\\n{}는(은) 홀수입니다.\".format(number,number))\n",
    "    "
   ]
  },
  {
   "cell_type": "code",
   "execution_count": 33,
   "id": "f300f5a1-94ee-4673-9461-205cee65b1f9",
   "metadata": {},
   "outputs": [
    {
     "name": "stdout",
     "output_type": "stream",
     "text": [
      "이렇게 입력해도하나의 문자열로 연결되어생성됩니다.\n",
      "<class 'str'>\n"
     ]
    }
   ],
   "source": [
    "test =(\n",
    "    \"이렇게 입력해도\"\n",
    "    \"하나의 문자열로 연결되어\"\n",
    "    \"생성됩니다.\"\n",
    ")\n",
    "\n",
    "print(test)\n",
    "print(type(test))"
   ]
  },
  {
   "cell_type": "code",
   "execution_count": 34,
   "id": "a7d8d780-6987-46ae-9d50-f84fcdb91986",
   "metadata": {},
   "outputs": [
    {
     "name": "stdin",
     "output_type": "stream",
     "text": [
      "정수 입력>  1\n"
     ]
    },
    {
     "name": "stdout",
     "output_type": "stream",
     "text": [
      "입력한 문자열은 1입니다.\n",
      "1는(은) 홀수 입니다.\n"
     ]
    }
   ],
   "source": [
    "number = int(input(\"정수 입력> \"))\n",
    "\n",
    "if number % 2 == 0:\n",
    "    print((\n",
    "        \"입력한 문자열은 {}입니다.\\n\"\n",
    "        \"{}는(은) 짝수 입니다.\"\n",
    "    ).format(number,number))\n",
    "else:\n",
    "    print((\n",
    "        \"입력한 문자열은 {}입니다.\\n\"\n",
    "        \"{}는(은) 홀수 입니다.\"\n",
    "    ).format(number,number))"
   ]
  },
  {
   "cell_type": "code",
   "execution_count": 35,
   "id": "8393f31d-5fe6-4f9c-b1b0-1910e4ec88d6",
   "metadata": {},
   "outputs": [
    {
     "name": "stdout",
     "output_type": "stream",
     "text": [
      "1,2,3,4,5\n"
     ]
    }
   ],
   "source": [
    "print(\",\".join([\"1\",\"2\",\"3\",\"4\",\"5\"]))"
   ]
  },
  {
   "cell_type": "code",
   "execution_count": 36,
   "id": "34aeb13a-16dc-41cf-84ce-b04bec6252e3",
   "metadata": {},
   "outputs": [
    {
     "name": "stdout",
     "output_type": "stream",
     "text": [
      "reversed_number: <list_reverseiterator object at 0x000001C1F522FBB0>\n",
      "6\n",
      "5\n",
      "4\n",
      "3\n",
      "2\n"
     ]
    }
   ],
   "source": [
    "numbers = [1,2,3,4,5,6]\n",
    "r_num = reversed(numbers)\n",
    "\n",
    "print(\"reversed_number:\",r_num)\n",
    "print(next(r_num))\n",
    "print(next(r_num))\n",
    "print(next(r_num))\n",
    "print(next(r_num))\n",
    "print(next(r_num))"
   ]
  },
  {
   "cell_type": "code",
   "execution_count": 37,
   "id": "3785b7d8-596f-4f0a-bb5a-78bcece795b9",
   "metadata": {},
   "outputs": [
    {
     "data": {
      "text/plain": [
       "'1010'"
      ]
     },
     "execution_count": 37,
     "metadata": {},
     "output_type": "execute_result"
    }
   ],
   "source": [
    "\"{:b}\".format(10)"
   ]
  },
  {
   "cell_type": "code",
   "execution_count": 38,
   "id": "baa88135-2d85-407d-a89b-804135345dc2",
   "metadata": {},
   "outputs": [
    {
     "name": "stdout",
     "output_type": "stream",
     "text": [
      "2 : 10\n",
      "5 : 101\n",
      "6 : 110\n",
      "11 : 1011\n",
      "13 : 1101\n",
      "14 : 1110\n",
      "23 : 10111\n",
      "27 : 11011\n",
      "29 : 11101\n",
      "30 : 11110\n",
      "47 : 101111\n",
      "55 : 110111\n",
      "59 : 111011\n",
      "61 : 111101\n",
      "62 : 111110\n",
      "95 : 1011111\n",
      "합계 539\n"
     ]
    }
   ],
   "source": [
    "output = [i for i in range(1,100+1)\n",
    "          if\"{:b}\".format(i).count(\"0\") ==1]\n",
    "\n",
    "for i in output:\n",
    "    print(\"{} : {}\".format(i, \"{:b}\".format(i)))\n",
    "print(\"합계\",sum(output))"
   ]
  },
  {
   "cell_type": "code",
   "execution_count": 39,
   "id": "7c0148b0-f714-4f0a-a679-5d0bdc47f329",
   "metadata": {},
   "outputs": [
    {
     "name": "stdout",
     "output_type": "stream",
     "text": [
      "사용된 숫자의 종류는 5개 입니다.\n",
      "{1: 5, 2: 5, 3: 3, 4: 4, 5: 3}\n"
     ]
    }
   ],
   "source": [
    "count = {}\n",
    "a = [1,2,3,4,1,2,3,4,5,1,2,3,4,5,1,2,4,5,1,2]\n",
    "for i in a:\n",
    "    if i not in count:\n",
    "        count[i] = 0\n",
    "    count[i] +=1\n",
    "print(f\"사용된 숫자의 종류는 {len(count)}개 입니다.\")\n",
    "print(count)\n",
    "        \n",
    "    \n"
   ]
  },
  {
   "cell_type": "code",
   "execution_count": 40,
   "id": "ef745f94-fcb2-444f-858f-f13e7b69f406",
   "metadata": {},
   "outputs": [
    {
     "name": "stdin",
     "output_type": "stream",
     "text": [
      "염기 서열을 입력해주세요: 1\n"
     ]
    },
    {
     "ename": "KeyError",
     "evalue": "'1'",
     "output_type": "error",
     "traceback": [
      "\u001b[1;31m---------------------------------------------------------------------------\u001b[0m",
      "\u001b[1;31mKeyError\u001b[0m                                  Traceback (most recent call last)",
      "Cell \u001b[1;32mIn[40], line 9\u001b[0m\n\u001b[0;32m      2\u001b[0m count \u001b[38;5;241m=\u001b[39m {\n\u001b[0;32m      3\u001b[0m     \u001b[38;5;124m\"\u001b[39m\u001b[38;5;124ma\u001b[39m\u001b[38;5;124m\"\u001b[39m:\u001b[38;5;241m0\u001b[39m,\n\u001b[0;32m      4\u001b[0m     \u001b[38;5;124m\"\u001b[39m\u001b[38;5;124mt\u001b[39m\u001b[38;5;124m\"\u001b[39m:\u001b[38;5;241m0\u001b[39m,\n\u001b[0;32m      5\u001b[0m     \u001b[38;5;124m\"\u001b[39m\u001b[38;5;124mg\u001b[39m\u001b[38;5;124m\"\u001b[39m:\u001b[38;5;241m0\u001b[39m,\n\u001b[0;32m      6\u001b[0m     \u001b[38;5;124m\"\u001b[39m\u001b[38;5;124mc\u001b[39m\u001b[38;5;124m\"\u001b[39m:\u001b[38;5;241m0\u001b[39m\n\u001b[0;32m      7\u001b[0m }\n\u001b[0;32m      8\u001b[0m \u001b[38;5;28;01mfor\u001b[39;00m nu \u001b[38;5;129;01min\u001b[39;00m nus:\n\u001b[1;32m----> 9\u001b[0m     count[nu] \u001b[38;5;241m+\u001b[39m\u001b[38;5;241m=\u001b[39m\u001b[38;5;241m1\u001b[39m\n\u001b[0;32m     11\u001b[0m \u001b[38;5;28;01mfor\u001b[39;00m key \u001b[38;5;129;01min\u001b[39;00m count:\n\u001b[0;32m     12\u001b[0m     \u001b[38;5;28mprint\u001b[39m(\u001b[38;5;124mf\u001b[39m\u001b[38;5;124m\"\u001b[39m\u001b[38;5;132;01m{\u001b[39;00mkey\u001b[38;5;132;01m}\u001b[39;00m\u001b[38;5;124m의 개수: \u001b[39m\u001b[38;5;132;01m{\u001b[39;00mcount[key]\u001b[38;5;132;01m}\u001b[39;00m\u001b[38;5;124m\"\u001b[39m)\n",
      "\u001b[1;31mKeyError\u001b[0m: '1'"
     ]
    }
   ],
   "source": [
    "nus = input(\"염기 서열을 입력해주세요:\")\n",
    "count = {\n",
    "    \"a\":0,\n",
    "    \"t\":0,\n",
    "    \"g\":0,\n",
    "    \"c\":0\n",
    "}\n",
    "for nu in nus:\n",
    "    count[nu] +=1\n",
    "\n",
    "for key in count:\n",
    "    print(f\"{key}의 개수: {count[key]}\")"
   ]
  },
  {
   "cell_type": "code",
   "execution_count": null,
   "id": "0ceeeb9e-335e-4656-8760-d62a532bdef8",
   "metadata": {},
   "outputs": [],
   "source": [
    "nus = input(\"염기 서열을 입력해주세요:\")\n",
    "count = {}\n",
    "for i in range(0,len(nus),3):\n",
    "    codon = nus[i:i+3]\n",
    "    if len(codon) == 3:\n",
    "        if codon not in count:\n",
    "            count[codon] = 0\n",
    "        count[codon] += 1\n",
    "print(count)"
   ]
  },
  {
   "cell_type": "code",
   "execution_count": null,
   "id": "b7710ba4-0f1f-4d6f-9ab6-8cc4f61844ea",
   "metadata": {},
   "outputs": [],
   "source": [
    "b = []\n",
    "a =[1,2,[3,4],5,[6,7],[8,9]]\n",
    "for i in a:\n",
    "    if type(i) == list:\n",
    "        for j in i:\n",
    "            b.append(j)\n",
    "    else:\n",
    "        b.append(i)\n",
    "\n",
    "print(b)\n",
    "        \n",
    "        "
   ]
  },
  {
   "cell_type": "code",
   "execution_count": null,
   "id": "ff2d5a7c-4a07-4aad-9de0-f7b216aa5b63",
   "metadata": {},
   "outputs": [],
   "source": [
    "dic ={\n",
    "    \"name\": \"7D 건조 망고\",\n",
    "    \"type\": \"당절임\",\n",
    "    \"ingredient\" : [\"망고\",\"설탕\",\"메타중아황산나트륨\",\"치자황색소\"],\n",
    "    \"origin\" : \"필리핀\"\n",
    "}\n",
    "\n",
    "print(\"name :\",dic[\"name\"])\n",
    "print(\"type :\",dic[\"type\"])\n",
    "print(\"ingredient :\",dic[\"ingredient\"])\n",
    "print(\"origin:\",dic[\"origin\"])\n",
    "print()\n",
    "\n",
    "dic[\"name\"] = \"8D 건조 망고\"\n",
    "print(\"name:\",dic[\"name\"])\n",
    "print(dic[\"name\"])\n",
    "\n",
    "dic[\"price\"] = 5000\n",
    "print(dic)\n",
    "\n",
    "dic[\"name\"] = \"8D 건조 파인애플\"\n",
    "\n",
    "print(dic)\n",
    "\n",
    "del dic[\"ingredient\"]\n",
    "\n",
    "print(dic)"
   ]
  },
  {
   "cell_type": "code",
   "execution_count": null,
   "id": "29379952-0a69-4822-9b12-57ae54ef5bb6",
   "metadata": {},
   "outputs": [],
   "source": [
    "dic = {}\n",
    "print(dic)\n",
    "\n",
    "dic[\"name\"] = \"새로운 이름\"\n",
    "dic['head'] = \"새로운 정신\"\n",
    "dic['body'] = '새로운 몸'\n",
    "\n",
    "print(dic)"
   ]
  },
  {
   "cell_type": "code",
   "execution_count": null,
   "id": "337dc449-fe9b-4e98-85da-34f6522f470d",
   "metadata": {},
   "outputs": [],
   "source": [
    "dic ={\n",
    "    \"name\": \"7D 건조 망고\",\n",
    "    \"type\": \"당절임\"\n",
    "}\n",
    "del dic[\"name\"]\n",
    "del dic['type']\n",
    "print(dic)"
   ]
  },
  {
   "cell_type": "code",
   "execution_count": null,
   "id": "92885ee6-fc13-4004-a6ab-22723d5bbfcb",
   "metadata": {},
   "outputs": [],
   "source": [
    "pets = [\n",
    "    {\"name\":\"구름\", \"age\": 5},\n",
    "    {\"name\":\"초코\", \"age\": 3},\n",
    "    {\"name\":\"아지\", \"age\": 1},\n",
    "    {\"name\":\"호랑이\", \"age\": 1}\n",
    "]\n",
    "\n",
    "print(\"# 우리 동네 애완 동물들\")\n",
    "for i in pets:\n",
    "    print(i['name'],str(i['age']) +\"살\")\n",
    "    "
   ]
  },
  {
   "cell_type": "code",
   "execution_count": null,
   "id": "1af315b3-1af0-423d-a465-42ef6fd10257",
   "metadata": {},
   "outputs": [],
   "source": [
    "numbers = [1,2,3,4,6,4,3,2,1,3,4,6,7,8]\n",
    "count= {}\n",
    "\n",
    "for i in numbers:\n",
    "    if i not in count:\n",
    "        count[i] = 1\n",
    "    else:\n",
    "        count[i] = count[i] + 1\n",
    "\n",
    "print(count)"
   ]
  },
  {
   "cell_type": "code",
   "execution_count": 73,
   "id": "5ff4756b-ce63-47f4-986d-937a7dc688c4",
   "metadata": {},
   "outputs": [
    {
     "name": "stdout",
     "output_type": "stream",
     "text": [
      "name 기사\n",
      "level 12\n",
      "sword 불꽃의 검\n",
      "armor 풀 플레이트\n",
      "skill 베기\n",
      "skill 세게 베기\n",
      "skill 아주 세게 베기\n"
     ]
    }
   ],
   "source": [
    "char = {\n",
    "    \"name\":\"기사\",\n",
    "    \"level\" : 12,\n",
    "    \"items\" : {\n",
    "        \"sword\": \"불꽃의 검\",\n",
    "        \"armor\": \"풀 플레이트\"\n",
    "    },\n",
    "    \"skill\":['베기','세게 베기','아주 세게 베기']\n",
    "}\n",
    "for key in char:\n",
    "    if type(char[key]) is dict:\n",
    "        for i in char[key]:\n",
    "            print(i,char[key][i])\n",
    "    elif type(char[key]) is list:\n",
    "        for i in char[key]:\n",
    "            print(key, i)\n",
    "    else:\n",
    "        print(key,char[key])\n",
    "        \n",
    "            \n",
    "        "
   ]
  },
  {
   "cell_type": "code",
   "execution_count": null,
   "id": "355f8375-eeb2-4e5f-b5cb-b9befe024ef0",
   "metadata": {},
   "outputs": [],
   "source": []
  }
 ],
 "metadata": {
  "kernelspec": {
   "display_name": "Python 3 (ipykernel)",
   "language": "python",
   "name": "python3"
  },
  "language_info": {
   "codemirror_mode": {
    "name": "ipython",
    "version": 3
   },
   "file_extension": ".py",
   "mimetype": "text/x-python",
   "name": "python",
   "nbconvert_exporter": "python",
   "pygments_lexer": "ipython3",
   "version": "3.12.7"
  }
 },
 "nbformat": 4,
 "nbformat_minor": 5
}
