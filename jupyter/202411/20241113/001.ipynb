{
 "cells": [
  {
   "cell_type": "code",
   "execution_count": 5,
   "id": "e12a5768-a114-4427-b5b5-aeda286cb565",
   "metadata": {},
   "outputs": [
    {
     "name": "stdout",
     "output_type": "stream",
     "text": [
      "{'홍길동': 20, '김민수': 22, '이영희': 19, '박지훈': 21, '최지혜': 20, '이수진': 23, '김철수': 24, '정하늘': 22, '유재석': 25, '신동엽': 30}\n"
     ]
    }
   ],
   "source": [
    "def read_students(filename):\n",
    "    students={}\n",
    "    with open(filename,'r',encoding=\"utf-8\") as f:\n",
    "        next(f)\n",
    "        for line in f:\n",
    "            info = line.strip().split(\",\")\n",
    "            students[info[0]] = int(info[1])\n",
    "    return students\n",
    "\n",
    "filename_students = \"students.txt\"\n",
    "students_dict = read_students(filename_students)\n",
    "print(students_dict)"
   ]
  },
  {
   "cell_type": "code",
   "execution_count": 6,
   "id": "376e17e8-0627-4edc-8ace-724e9ad14294",
   "metadata": {},
   "outputs": [
    {
     "name": "stdout",
     "output_type": "stream",
     "text": [
      "{'이름': ['홍길동', '김민수', '이영희', '박지훈', '최지혜', '이수진', '김철수', '정하늘', '유재석', '신동엽'], '나이': ['20', '22', '19', '21', '20', '23', '24', '22', '25', '30'], '키': ['175', '180', '160', '182', '168', '165', '173', '170', '182', '179']}\n"
     ]
    }
   ],
   "source": [
    "def read_students(filename):\n",
    "    students={}\n",
    "    with open(filename,'r',encoding=\"utf-8\") as f:\n",
    "        header = f.readline().strip().split(\",\")\n",
    "        \n",
    "        # 헤더를 키로 초기화\n",
    "        for key in header:\n",
    "           students[key] = []\n",
    "\n",
    "        for line in f:\n",
    "            values = line.strip().split(',')\n",
    "            for i in range(len(header)):\n",
    "                students[header[i]].append(values[i])\n",
    "    \n",
    "    return students\n",
    "            \n",
    "filename_students = \"students.txt\"\n",
    "students_dict = read_students(filename_students)\n",
    "print(students_dict)"
   ]
  },
  {
   "cell_type": "code",
   "execution_count": 7,
   "id": "6acda0be-ec19-4e04-bd2c-f7bab1f3459e",
   "metadata": {},
   "outputs": [
    {
     "name": "stdout",
     "output_type": "stream",
     "text": [
      "{'이름': ['홍길동', '김민수', '이영희', '박지훈', '최지혜', '이수진', '김철수', '정하늘', '유재석', '신동엽'], '나이': ['20', '22', '19', '21', '20', '23', '24', '22', '25', '30'], '키': ['175', '180', '160', '182', '168', '165', '173', '170', '182', '179']}\n"
     ]
    }
   ],
   "source": [
    "def read_students(filename):\n",
    "    students={}\n",
    "    with open(filename,'r',encoding=\"utf-8\") as f:\n",
    "        header = f.readline().strip().split(\",\")\n",
    "        \n",
    "        # 헤더를 키로 초기화\n",
    "        for key in header:\n",
    "           students[key] = []\n",
    "\n",
    "        for line in f:\n",
    "            values = line.strip().split(',')\n",
    "            for k, v in zip(header,values):\n",
    "                students[k].append(v)\n",
    "\n",
    "    return students\n",
    "            \n",
    "filename_students = \"students.txt\"\n",
    "students_dict = read_students(filename_students)\n",
    "print(students_dict)"
   ]
  },
  {
   "cell_type": "code",
   "execution_count": 8,
   "id": "a6fd73d6-5616-49c0-9d0f-7600097ab3c2",
   "metadata": {},
   "outputs": [
    {
     "name": "stdout",
     "output_type": "stream",
     "text": [
      "{'': ['상품명', '사과', '바나나', '오렌지', '포도', '망고', '딸기', '복숭아', '수박', '키위', '배']}\n"
     ]
    }
   ],
   "source": [
    "def read_products(filename):\n",
    "    products = {}\n",
    "    \n",
    "    with open(filename, 'r', encoding=\"utf-8\") as f:\n",
    "       \n",
    "        header = f.readline().strip().split(\",\")\n",
    "        for key in header:\n",
    "            products[key] = []\n",
    "        for line in f:  \n",
    "            values = line.strip().split(',')\n",
    "            for i in range(len(header)):\n",
    "                products[header[i]].append(values[i])\n",
    "    return products\n",
    "filename_products = \"products.txt\"\n",
    "products_dict = read_products(filename_products)\n",
    "print(products_dict)"
   ]
  },
  {
   "cell_type": "code",
   "execution_count": 9,
   "id": "33aa8a00-d2b0-4b7e-a295-12d98868b1f8",
   "metadata": {},
   "outputs": [
    {
     "name": "stdout",
     "output_type": "stream",
     "text": [
      "(['홍길동', '김민수', '이영희', '박지훈', '최지혜', '이수진', '김철수', '정하늘', '유재석', '신동엽'], [20, 22, 19, 21, 20, 23, 24, 22, 25, 30])\n"
     ]
    }
   ],
   "source": [
    "def read_students(filename):\n",
    "    names = []  # 이름 리스트\n",
    "    ages = []   # 나이 리스트\n",
    "    \n",
    "    with open(filename, 'r', encoding=\"utf-8\") as f:\n",
    "        next(f)  # 첫 번째 줄(헤더)을 건너뜁니다.\n",
    "        for line in f:\n",
    "            info = line.strip().split(\",\")  # 각 학생의 정보를 쉼표로 구분\n",
    "            names.append(info[0])  # 이름을 names 리스트에 추가\n",
    "            ages.append(int(info[1]))  # 나이를 ages 리스트에 추가\n",
    "    \n",
    "    return (names, ages)  # 이름 리스트와 나이 리스트를 튜플로 반환\n",
    "\n",
    "filename_students = \"students.txt\"\n",
    "students_tuple = read_students(filename_students)\n",
    "print(students_tuple)\n"
   ]
  },
  {
   "cell_type": "code",
   "execution_count": 10,
   "id": "8b71734d-299c-4baf-ac3a-0b0d999f27a6",
   "metadata": {},
   "outputs": [
    {
     "name": "stdout",
     "output_type": "stream",
     "text": [
      "{'이름': ['홍길동', '김민수', '이영희', '박지훈', '최지혜', '이수진', '김철수', '정하늘', '유재석', '신동엽'], '나이': ['20', '22', '19', '21', '20', '23', '24', '22', '25', '30'], '키': ['175', '180', '160', '182', '168', '165', '173', '170', '182', '179']}\n"
     ]
    }
   ],
   "source": [
    "def read_csv_to_dict(filename):\n",
    "    data = {}  # 데이터를 저장할 딕셔너리\n",
    "    \n",
    "    with open(filename, 'r', encoding='utf-8') as f:\n",
    "        # 첫 번째 줄을 읽어 구분자로 키들을 분리\n",
    "        headers = f.readline().strip().split(',')\n",
    "        \n",
    "        # 각 키에 대한 값을 저장할 리스트 초기화\n",
    "        for header in headers:\n",
    "            data[header] = []\n",
    "        \n",
    "        # 두 번째 줄부터 나머지 데이터 처리\n",
    "        for line in f:\n",
    "            values = line.strip().split(',')  # 각 값을 쉼표로 분리\n",
    "            for i, value in enumerate(values):\n",
    "                data[headers[i]].append(value)  # 해당 키에 값을 추가\n",
    "\n",
    "    return data\n",
    "\n",
    "filename = \"students.txt\"\n",
    "students_data = read_csv_to_dict(filename)\n",
    "print(students_data)\n"
   ]
  },
  {
   "cell_type": "code",
   "execution_count": 11,
   "id": "ea75723e-f30a-43b8-a512-034df20ce0a8",
   "metadata": {},
   "outputs": [
    {
     "name": "stdout",
     "output_type": "stream",
     "text": [
      "{'names': ['홍길동', '김민수', '이영희', '박지훈', '최지혜', '이수진', '김철수', '정하늘', '유재석', '신동엽'], 'ages': [20, 22, 19, 21, 20, 23, 24, 22, 25, 30]}\n"
     ]
    }
   ],
   "source": [
    "def read_students(filename):\n",
    "    students = {'names': [], 'ages': []}  # 이름과 나이를 저장할 딕셔너리\n",
    "    \n",
    "    with open(filename, 'r', encoding=\"utf-8\") as f:\n",
    "        next(f)  # 첫 번째 줄(헤더)을 건너뛰기\n",
    "        \n",
    "        for line in f:\n",
    "            info = line.strip().split(\",\")  # 각 항목을 쉼표로 나누기\n",
    "            name = info[0]  # 학생 이름\n",
    "            age = int(info[1])  # 학생 나이\n",
    "            \n",
    "            students['names'].append(name)  # 이름 리스트에 추가\n",
    "            students['ages'].append(age)    # 나이 리스트에 추가\n",
    "\n",
    "    return students\n",
    "\n",
    "filename_students = \"students.txt\"\n",
    "students_dict = read_students(filename_students)\n",
    "print(students_dict)\n"
   ]
  },
  {
   "cell_type": "markdown",
   "id": "91713968-a23e-45e0-804d-80ede18dafe6",
   "metadata": {},
   "source": [
    "### datetime 추가"
   ]
  },
  {
   "cell_type": "code",
   "execution_count": 13,
   "id": "81bc53a8-a2f1-4270-803e-1098a780c42b",
   "metadata": {},
   "outputs": [
    {
     "name": "stdout",
     "output_type": "stream",
     "text": [
      "2024\n"
     ]
    }
   ],
   "source": [
    "import datetime\n",
    "now = datetime.datetime.now()\n",
    "print(now.year)"
   ]
  },
  {
   "cell_type": "code",
   "execution_count": 14,
   "id": "2f7e35aa-a27f-4d28-ae8e-221dcc70d85d",
   "metadata": {},
   "outputs": [
    {
     "name": "stdout",
     "output_type": "stream",
     "text": [
      "현재 시간: 2024-11-13 13:51:06\n"
     ]
    }
   ],
   "source": [
    "from datetime import datetime\n",
    "# datetime객체를 문자열로 변환\n",
    "now = datetime.now()\n",
    "formatted_date = now.strftime(\"%Y-%m-%d %H:%M:%S\")\n",
    "print(\"현재 시간:\",formatted_date)"
   ]
  },
  {
   "cell_type": "code",
   "execution_count": 22,
   "id": "96ddea3a-a88b-41da-a6c3-26b963b77b73",
   "metadata": {},
   "outputs": [
    {
     "name": "stderr",
     "output_type": "stream",
     "text": [
      "UsageError: Line magic function `%Y:` not found.\n"
     ]
    }
   ],
   "source": [
    "%Y: 4자리 연도 (예: 2023)\n",
    "%y: 2자리 연도 (예: 23)\n",
    "%m: 2자리 월 (01-12)\n",
    "%d: 2자리 일 (01-31)\n",
    "%H: 24시간제 시 (00-23)\n",
    "%I: 12시간제 시 (01-12)\n",
    "%M: 분 (00-59)\n",
    "%S: 초 (00-59)\n",
    "%A: 요일 이름 (예: Monday)\n",
    "%B: 월 이름 (예: January)"
   ]
  },
  {
   "cell_type": "code",
   "execution_count": null,
   "id": "0430c6a6-4f13-4f2c-8ddf-a383da9e7041",
   "metadata": {},
   "outputs": [],
   "source": [
    "from datetime import datetime\n",
    "#  문자열을 datetime 객체로 변환\n",
    "date_string = \"2023-10-12 14:30:59\"\n",
    "date_object = datetime.strptime(date_string,\"%Y-%m-%d %H:%M:%S\")\n",
    "print(\",변환된 날짜 객체:\",date_object, type(date_object))"
   ]
  },
  {
   "cell_type": "code",
   "execution_count": null,
   "id": "5c911933-a7b1-4348-ab15-ab58fd81dad9",
   "metadata": {},
   "outputs": [],
   "source": [
    "from datetime import datetime\n",
    "# 문자열을 datetime 객체로 변환\n",
    "date_string = \"2023-10-12 14:30:59\"\n",
    "date_object = datetime.strptime(date_string,\"%Y-%m-%d %H:%M:%S\")\n",
    "\n",
    "# datetime 객체를 다른 형식의 문자열로 변환\n",
    "formatted_data = date_object.strftime(\"%A, %B %d, %Y %I %M %p\")\n",
    "print(\"형식 변경된 날짜:\",formatted_date)\n"
   ]
  },
  {
   "cell_type": "markdown",
   "id": "bea906ce-5493-4cb3-a646-7b5068d7ecc0",
   "metadata": {},
   "source": [
    "### timedelta 모듈"
   ]
  },
  {
   "cell_type": "code",
   "execution_count": 14,
   "id": "865804f9-d9c4-46ba-a457-f8a48bc6b95e",
   "metadata": {},
   "outputs": [
    {
     "name": "stdout",
     "output_type": "stream",
     "text": [
      "5 days, 0:00:00 3:00:00 0:30:00\n"
     ]
    }
   ],
   "source": [
    "from datetime import timedelta\n",
    "# 두 날짜 또는 시간 간의 차이를 표현하는 데 사ㅓ용\n",
    "t1 = timedelta(days=5) # 5일\n",
    "t2 = timedelta(hours=3) # 3시간\n",
    "t3 = timedelta(minutes=30) #30분 \n",
    "\n",
    "print(t1,t2,t3)"
   ]
  },
  {
   "cell_type": "code",
   "execution_count": 16,
   "id": "b43ec352-9cf1-417f-9eb7-698c9941127c",
   "metadata": {},
   "outputs": [
    {
     "ename": "SyntaxError",
     "evalue": "invalid syntax (3511522577.py, line 1)",
     "output_type": "error",
     "traceback": [
      "\u001b[1;36m  Cell \u001b[1;32mIn[16], line 1\u001b[1;36m\u001b[0m\n\u001b[1;33m    days: 일 수 (정수)\u001b[0m\n\u001b[1;37m            ^\u001b[0m\n\u001b[1;31mSyntaxError\u001b[0m\u001b[1;31m:\u001b[0m invalid syntax\n"
     ]
    }
   ],
   "source": [
    "days: 일 수 (정수)\n",
    "seconds: 초 (정수)\n",
    "microseconds: 마이크로초 (정수)\n",
    "milliseconds: 밀리초 (정수)\n",
    "minutes: 분 (정수)\n",
    "hours: 시간 (정수)\n",
    "weeks: 주 (정수)"
   ]
  },
  {
   "cell_type": "code",
   "execution_count": 18,
   "id": "11ea8094-a4d9-478f-87ac-5a6860744135",
   "metadata": {},
   "outputs": [
    {
     "name": "stdout",
     "output_type": "stream",
     "text": [
      "현재 시간 2024-11-18 18:21:17.582777\n",
      "10일 후 : 2024-11-28 18:21:17.582777\n",
      "5시간 전: 2024-11-18 13:21:17.582777\n"
     ]
    }
   ],
   "source": [
    "from datetime import datetime, timedelta\n",
    "now = datetime.now() # 현재 날짜와 시간\n",
    "print(\"현재 시간\", now)\n",
    "\n",
    "# 10일 후 \n",
    "future_date =now +timedelta(days=10)\n",
    "print(\"10일 후 :\",future_date)\n",
    "\n",
    "past_time = now - timedelta(hours=5)\n",
    "print(\"5시간 전:\", past_time)"
   ]
  },
  {
   "cell_type": "code",
   "execution_count": 20,
   "id": "304d2250-44be-4627-973f-17601a1f2cb1",
   "metadata": {},
   "outputs": [
    {
     "name": "stdout",
     "output_type": "stream",
     "text": [
      "일 수: 1\n",
      "초 수: 19800\n",
      "총 초 수: 106200.0\n"
     ]
    }
   ],
   "source": [
    "delta = timedelta(days=1, hours=5, minutes=30)\n",
    "print(\"일 수:\",delta.days)\n",
    "print(\"초 수:\",delta.seconds)\n",
    "print(\"총 초 수:\",delta.total_seconds())\n"
   ]
  },
  {
   "cell_type": "code",
   "execution_count": null,
   "id": "5af531cd-beb4-46f6-8c34-9bd66809d6d8",
   "metadata": {},
   "outputs": [],
   "source": [
    "[timedelta 객체는 다음과 같은 속성 제공]\n",
    "days: 타임델타 객체의 일 수\n",
    "seconds: 타임델타 객체의 초 수 (일에 포함되지 않는)\n",
    "microseconds: 타임델타 객체의 마이크로초 수\n",
    "total_seconds(): 타임델타 객체를 초 단위로 변환한 값"
   ]
  },
  {
   "cell_type": "code",
   "execution_count": 18,
   "id": "1eab1de7-2fcf-4a2a-8912-269f6b5f1dd5",
   "metadata": {},
   "outputs": [
    {
     "name": "stdin",
     "output_type": "stream",
     "text": [
      "날짜를 입력하세요(YYYY-MM-DD 형식):  2024-11-11\n"
     ]
    },
    {
     "name": "stdout",
     "output_type": "stream",
     "text": [
      "2024-11-11에서 10일 후 : 2024-11-21\n",
      "2024-11-11에서 5일 전 : 2024-11-06\n"
     ]
    }
   ],
   "source": [
    "from datetime import datetime, timedelta\n",
    "\n",
    "# 사용자로부터 날짜 입력 받기\n",
    "input_date = input(\"날짜를 입력하세요(YYYY-MM-DD 형식): \")\n",
    "date_obj = datetime.strptime(input_date, '%Y-%m-%d')\n",
    "\n",
    "# 10일 더하기\n",
    "new_date = date_obj +timedelta(days=10)\n",
    "print(f\"{input_date}에서 10일 후 : {new_date.strftime('%Y-%m-%d')}\")\n",
    "\n",
    "# 5일 뺴기\n",
    "previous_date = date_obj - timedelta(days=5)\n",
    "print(f\"{input_date}에서 5일 전 : {previous_date.strftime('%Y-%m-%d')}\")"
   ]
  },
  {
   "cell_type": "markdown",
   "id": "a9345ece-5c82-4a51-9660-496838933656",
   "metadata": {},
   "source": [
    "### time 모듈"
   ]
  },
  {
   "cell_type": "code",
   "execution_count": 20,
   "id": "61f30e79-23a4-4a14-8d99-615cacf11a0d",
   "metadata": {},
   "outputs": [
    {
     "name": "stdout",
     "output_type": "stream",
     "text": [
      "현재 시간(초): 1731473493.4144995\n",
      "현재 시간: 2024-11-13 13:51:33\n"
     ]
    }
   ],
   "source": [
    "import time\n",
    "\n",
    "current_time = time.time()\n",
    "print(\"현재 시간(초):\",current_time)\n",
    "\n",
    "local_time = time.localtime() # 구조적 시간\n",
    "print(\"현재 시간:\", time.strftime(\"%Y-%m-%d %H:%M:%S\",local_time))"
   ]
  },
  {
   "cell_type": "code",
   "execution_count": 22,
   "id": "49faa78f-e502-4a8c-b2bf-9a8f097a0f4f",
   "metadata": {},
   "outputs": [
    {
     "name": "stdout",
     "output_type": "stream",
     "text": [
      "시작\n",
      "2초 후\n"
     ]
    }
   ],
   "source": [
    "print(\"시작\")\n",
    "time.sleep(2)\n",
    "print(\"2초 후\")"
   ]
  },
  {
   "cell_type": "code",
   "execution_count": 24,
   "id": "ce3049f8-f5bf-48c8-bbca-455c3650fcd2",
   "metadata": {},
   "outputs": [
    {
     "name": "stdin",
     "output_type": "stream",
     "text": [
      "타이머를 몇 분으로 설정하시겠습니까? 1\n"
     ]
    },
    {
     "name": "stdout",
     "output_type": "stream",
     "text": [
      "타이머 시작: 1분 후에 알림이 웁니다.\n",
      "남은시간: 0:00:00.969773\n",
      "타이머 완료! 시간입니다!\n"
     ]
    }
   ],
   "source": [
    "from datetime import datetime, timedelta\n",
    "import time\n",
    "\n",
    "def start_timer(minutes):\n",
    "    \"\"\" 타이머를 시작하는 함수\"\"\"\n",
    "    duration = timedelta(minutes=minutes) # 타이머 시간 설정\n",
    "    end_time = datetime.now() + duration # 종료 시간 계산\n",
    "\n",
    "    print(f\"타이머 시작: {minutes}분 후에 알림이 웁니다.\")\n",
    "    while datetime.now() < end_time:\n",
    "        time_left = end_time -datetime.now()\n",
    "\n",
    "        # 같은 초에 남은 시간 출력\n",
    "        print(f\"남은시간: {time_left}\",end='\\r')\n",
    "        time.sleep(1) # 1초 대기\n",
    "\n",
    "    print(\"\\n타이머 완료! 시간입니다!\")\n",
    "\n",
    "# 프로그램 실행\n",
    "\n",
    "# 사용자로부터 분 단위 입력 받기\n",
    "\n",
    "try:\n",
    "    minutes =int(input(\"타이머를 몇 분으로 설정하시겠습니까?\"))\n",
    "    if minutes <=0:\n",
    "        raise ValueError(\"0 또는 그 이하의 값은 입력할 수 없습니다.\")\n",
    "    start_timer(minutes)\n",
    "except ValueError as e:\n",
    "    print(f\"잘못된 입력: {e}\")"
   ]
  },
  {
   "cell_type": "markdown",
   "id": "987a20b2-50a7-49d2-b8bd-55ea6f9dbe0d",
   "metadata": {},
   "source": [
    "\n"
   ]
  }
 ],
 "metadata": {
  "kernelspec": {
   "display_name": "Python 3 (ipykernel)",
   "language": "python",
   "name": "python3"
  },
  "language_info": {
   "codemirror_mode": {
    "name": "ipython",
    "version": 3
   },
   "file_extension": ".py",
   "mimetype": "text/x-python",
   "name": "python",
   "nbconvert_exporter": "python",
   "pygments_lexer": "ipython3",
   "version": "3.12.7"
  }
 },
 "nbformat": 4,
 "nbformat_minor": 5
}
