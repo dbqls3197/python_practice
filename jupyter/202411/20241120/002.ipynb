{
 "cells": [
  {
   "cell_type": "markdown",
   "id": "17bd6910-9789-410f-84ad-ed857af7e9bd",
   "metadata": {},
   "source": [
    "### 클래스 객체를 리스트 원소로"
   ]
  },
  {
   "cell_type": "code",
   "execution_count": 2,
   "id": "cb8a5132-b76e-4101-aea1-8e145e961018",
   "metadata": {},
   "outputs": [
    {
     "name": "stdout",
     "output_type": "stream",
     "text": [
      "학생 이름: 홍길동\n",
      "국어 : 85\n",
      "영어 : 90\n",
      "수학 : 78\n",
      "총점: 253, 평균84.33\n",
      "\n",
      "학생 이름: 김영희\n",
      "국어 : 92\n",
      "영어 : 88\n",
      "수학 : 95\n",
      "총점: 275, 평균91.67\n",
      "\n",
      "학생 이름: 이철수\n",
      "국어 : 70\n",
      "영어 : 75\n",
      "수학 : 80\n",
      "총점: 225, 평균75.00\n",
      "\n"
     ]
    }
   ],
   "source": [
    "class Student:\n",
    "\n",
    "    def __init__ (self,name,scores):\n",
    "        self.name = name\n",
    "        self.scores = scores\n",
    "        \n",
    "\n",
    "    def total_score(self):\n",
    "        return sum(self.scores.values())\n",
    "\n",
    "    def avg_score(self):\n",
    "        return self.total_score() / len(self.scores)\n",
    "\n",
    "    def show_info(self):\n",
    "        print(f\"학생 이름: {self.name}\")\n",
    "        for subject, score in self.scores.items():\n",
    "            print(f\"{subject} : {score}\")\n",
    "        print(f\"총점: {self.total_score()}, 평균{self.avg_score():.2f}\\n\") \n",
    "\n",
    "students =[]\n",
    "\n",
    "students.append(Student(\"홍길동\",{\"국어\":85, \"영어\": 90, \"수학\":78}))\n",
    "students.append(Student(\"김영희\",{\"국어\":92, \"영어\": 88, \"수학\":95}))\n",
    "students.append(Student(\"이철수\",{\"국어\":70, \"영어\": 75, \"수학\":80}))\n",
    "\n",
    "'''std =Student(\"홍길동\",{\"국어\":85, \"영어\": 90, \"수학\":78})\n",
    "std.show_info()\n",
    "'''\n",
    "#print(students)\n",
    "for student in students:\n",
    "    student.show_info()\n",
    "# name, scores\n",
    "# Student(\"홍길동\",{\"국어\":85, \"영어\": 90, \"수학\":78})"
   ]
  },
  {
   "cell_type": "code",
   "execution_count": 3,
   "id": "735acde1-007c-4984-97c2-8203a0791da9",
   "metadata": {},
   "outputs": [
    {
     "name": "stdin",
     "output_type": "stream",
     "text": [
      "점수를 입력하세요 (0~100) :  1\n"
     ]
    },
    {
     "name": "stdout",
     "output_type": "stream",
     "text": [
      "당신의 점수는1점이고, 학점은F입니다.\n"
     ]
    }
   ],
   "source": [
    "def calulate_grade():\n",
    "\n",
    "    score = int(input(\"점수를 입력하세요 (0~100) : \"))\n",
    "\n",
    "    if score >= 90:\n",
    "        grade =\"A\"\n",
    "    elif score >= 80:\n",
    "        grade =\"B\"\n",
    "    elif score >= 70:\n",
    "        grade =\"C\"\n",
    "    elif score >= 60:\n",
    "        grade =\"D\"\n",
    "    else:\n",
    "        grade =\"F\"\n",
    "\n",
    "    print(f\"당신의 점수는{score}점이고, 학점은{grade}입니다.\")\n",
    "\n",
    "calulate_grade()"
   ]
  },
  {
   "cell_type": "code",
   "execution_count": 4,
   "id": "feb3dc9e-bc76-4a91-b631-4c130006b0a6",
   "metadata": {},
   "outputs": [
    {
     "name": "stdin",
     "output_type": "stream",
     "text": [
      "점수를 입력하세요 (0~100) :  1\n"
     ]
    },
    {
     "name": "stdout",
     "output_type": "stream",
     "text": [
      "당신의 점수는1점이고, 학점은F입니다.\n"
     ]
    }
   ],
   "source": [
    "class GradeCalulator:\n",
    "    def __init__(self):\n",
    "        self.grade_scale = [\n",
    "            (90,'A'),\n",
    "            (80,'B'),\n",
    "            (70,'C'),\n",
    "            (60,'D'),\n",
    "            (0,'F'),\n",
    "        ]\n",
    "    def calculate_grade(self,score):\n",
    "        for min_score, grade in self.grade_scale:\n",
    "            if score >= min_score:\n",
    "                return grade\n",
    "    def run(self):\n",
    "        score = int(input(\"점수를 입력하세요 (0~100) : \"))\n",
    "        grade = self.calculate_grade(score)\n",
    "        print(f\"당신의 점수는{score}점이고, 학점은{grade}입니다.\")\n",
    "        \n",
    "\n",
    "grd =GradeCalulator()\n",
    "grd.run()"
   ]
  },
  {
   "cell_type": "code",
   "execution_count": 5,
   "id": "8c9cb6e1-57f3-411d-aed1-754f139c2cc3",
   "metadata": {},
   "outputs": [
    {
     "name": "stdout",
     "output_type": "stream",
     "text": [
      "[(90, 'A'), (80, 'B'), (70, 'C'), (60, 'D'), (0, 'F')]\n"
     ]
    },
    {
     "name": "stdin",
     "output_type": "stream",
     "text": [
      "점수를 입력하세요 (0~100) :  4\n"
     ]
    },
    {
     "name": "stdout",
     "output_type": "stream",
     "text": [
      "당신의 점수는4점이고, 학점은F입니다.\n"
     ]
    }
   ],
   "source": [
    "class GradeCalulator:\n",
    "    def __init__(self,data):\n",
    "        self.grade_scale = list(zip(data[0],data[1]))\n",
    "        print(self.grade_scale)\n",
    "    def calculate_grade(self,score):\n",
    "        for min_score, grade in self.grade_scale:\n",
    "            if score >= min_score:\n",
    "                return grade\n",
    "            \n",
    "    def run(self):\n",
    "        score = int(input(\"점수를 입력하세요 (0~100) : \"))\n",
    "        grade = self.calculate_grade(score)\n",
    "        print(f\"당신의 점수는{score}점이고, 학점은{grade}입니다.\")\n",
    "        \n",
    "\n",
    "data = [(90,80,70,60,0),('A','B','C','D','F')]\n",
    "grader = GradeCalulator(data)\n",
    "grader.run()"
   ]
  },
  {
   "cell_type": "markdown",
   "id": "439d35e7-0cd1-4d67-8c69-b309809171c5",
   "metadata": {},
   "source": [
    "### 장바구니 리스트\n"
   ]
  },
  {
   "cell_type": "code",
   "execution_count": 7,
   "id": "4f6fc07b-c398-4d27-8444-8fc19c6376de",
   "metadata": {},
   "outputs": [
    {
     "name": "stdout",
     "output_type": "stream",
     "text": [
      "1. 항목 추가\n",
      "2. 항목 삭제\n",
      "3. 목록 보기\n",
      "4. 종료\n",
      "\n",
      "[]\n",
      "\n"
     ]
    },
    {
     "name": "stdin",
     "output_type": "stream",
     "text": [
      "원하는 작업을 선택하세요:  4\n"
     ]
    },
    {
     "name": "stdout",
     "output_type": "stream",
     "text": [
      "프로그램을 종료합니다.\n"
     ]
    }
   ],
   "source": [
    "'''\n",
    "1. 항목 추가\n",
    "2. 항목 삭제\n",
    "3. 목록 보기\n",
    "4. 종료\n",
    "원하는 작업을 선택하세요:\n",
    "'''\n",
    "# 항목: 두부, 오이...\n",
    "#import os\n",
    "def shopping_list():\n",
    "    items = []\n",
    "\n",
    "    while True:\n",
    "        \n",
    "\n",
    "        print(\"1. 항목 추가\") \n",
    "        print(\"2. 항목 삭제\") \n",
    "        print(\"3. 목록 보기\") \n",
    "        print(\"4. 종료\")\n",
    "\n",
    "        print(f\"\\n{items}\\n\")\n",
    "\n",
    "        choice = input(\"원하는 작업을 선택하세요: \")\n",
    "\n",
    "        if choice ==\"1\":\n",
    "            while True:\n",
    "                item =input(\"--> 추가할 상품은?(취소0)\")\n",
    "                if item:\n",
    "                    items.append(item)\n",
    "                    print(f\"{item}가 추가되었습니다.\")\n",
    "                    if item ==\"0\":\n",
    "                        items.remove('0')\n",
    "                        break\n",
    "                    #input(\"아무키나 누르세요...\")\n",
    "        elif choice == \"2\":\n",
    "            while True:\n",
    "                item = input (\"--> 삭제할 상품은? \")\n",
    "                if item in items:\n",
    "                    items.remove(item)\n",
    "                    print(f\"{item}이 삭제되었습니다.\")\n",
    "                    #input(\"아무키나 누르세요...\")\n",
    "                else:\n",
    "                    print(\"장바구니가 비어 있습니다\")\n",
    "                    if item ==\"0\":\n",
    "                        break\n",
    "                #input(\"아무키나 누르세요...\")\n",
    "        elif choice == \"3\":\n",
    "            if items:\n",
    "                print(\" == 현재 장바구니 목록==\")\n",
    "                for item in items:\n",
    "                    print(f\"{item}\")\n",
    "                #input(\"아무키나 누르세요...\")\n",
    "            else:\n",
    "                print(\"장바구니가 비어 있습니다.\")\n",
    "                #input(\"아무키나 누르세요...\")\n",
    "        elif choice == \"4\":\n",
    "            print(\"프로그램을 종료합니다.\")\n",
    "            break\n",
    "\n",
    "shopping_list()"
   ]
  },
  {
   "cell_type": "code",
   "execution_count": 8,
   "id": "cbd460ce-a349-4cdf-b4ac-a899369de2e4",
   "metadata": {},
   "outputs": [
    {
     "name": "stdout",
     "output_type": "stream",
     "text": [
      "1. 항목 추가\n",
      "2. 항목 삭제\n",
      "3. 목록 보기\n",
      "4. 종료\n",
      "\n",
      "[]\n",
      "\n"
     ]
    },
    {
     "name": "stdin",
     "output_type": "stream",
     "text": [
      "원하는 작업을 선택하세요:  4\n"
     ]
    },
    {
     "name": "stdout",
     "output_type": "stream",
     "text": [
      "프로그램을 종료합니다.\n"
     ]
    }
   ],
   "source": [
    "\n",
    "\n",
    "items = []\n",
    "def show_menu():\n",
    "    \n",
    "        print(\"1. 항목 추가\") \n",
    "        print(\"2. 항목 삭제\") \n",
    "        print(\"3. 목록 보기\") \n",
    "        print(\"4. 종료\")\n",
    "\n",
    "        print(f\"\\n{items}\\n\")\n",
    "\n",
    "def input_menu():\n",
    "    while True:\n",
    "        item =input(\"--> 추가할 상품은?(취소0)\")\n",
    "        if item:\n",
    "            items.append(item)\n",
    "            print(f\"{item}가 추가되었습니다.\")\n",
    "            if item ==\"0\":\n",
    "                items.remove('0')\n",
    "                break\n",
    "\n",
    "def output_menu():\n",
    "    while True:\n",
    "        item = input (\"--> 삭제할 상품은? \")\n",
    "        if item in items:\n",
    "            items.remove(item)\n",
    "            print(f\"{item}이 삭제되었습니다.\")\n",
    "        else:\n",
    "            print(\"장바구니가 비어 있습니다\")\n",
    "            if item ==\"0\":\n",
    "                break\n",
    "def show_list():\n",
    "    if items:\n",
    "        print(\" == 현재 장바구니 목록==\")\n",
    "        for item in items:\n",
    "            print(f\"{item}\")\n",
    "    else:\n",
    "        print(\"장바구니가 비어 있습니다.\")\n",
    "def shopping_list():\n",
    "\n",
    "    while True:\n",
    "        show_menu()\n",
    "        choice = input(\"원하는 작업을 선택하세요: \")\n",
    "\n",
    "        if choice ==\"1\":\n",
    "            input_menu()\n",
    "        elif choice == \"2\":\n",
    "           output_menu()\n",
    "        elif choice == \"3\":\n",
    "            show_list()\n",
    "        elif choice == \"4\":\n",
    "            print(\"프로그램을 종료합니다.\")\n",
    "            break\n",
    "\n",
    "shopping_list()"
   ]
  },
  {
   "cell_type": "code",
   "execution_count": 9,
   "id": "4bdd0bf4-446c-4ab2-9ea0-ad94de4825f5",
   "metadata": {},
   "outputs": [
    {
     "name": "stdout",
     "output_type": "stream",
     "text": [
      "\n",
      "1: 항목 추가\n",
      "2: 항목 삭제\n",
      "3: 목록 보기\n",
      "4: 종료\n",
      "\n",
      "■ ()\n",
      "\n"
     ]
    },
    {
     "name": "stdin",
     "output_type": "stream",
     "text": [
      "원하는 작업을 선택하세요:  4\n"
     ]
    },
    {
     "name": "stdout",
     "output_type": "stream",
     "text": [
      "프로그램을 종료합니다.\n"
     ]
    }
   ],
   "source": [
    "import os\n",
    "\n",
    "class ShoppingList:\n",
    "\n",
    "    def __init__(self):\n",
    "        self.items = []\n",
    "        self.main_func = True\n",
    "\n",
    "    def display_cart(self):\n",
    "        print(f\"\\n■ ({','.join(self.items)})\\n\")\n",
    "\n",
    "    def clear_screen(self):\n",
    "        # Corrected clear_screen method to check the OS and execute the appropriate clear command\n",
    "        os.system('cls' if os.name == 'nt' else 'clear')\n",
    "\n",
    "    def show_menu(self):\n",
    "        self.clear_screen()\n",
    "        print(\"\\n1: 항목 추가\",\"2: 항목 삭제\",\"3: 목록 보기\",\"4: 종료\",sep=\"\\n\")\n",
    "        self.display_cart()\n",
    "\n",
    "    def add_item(self):\n",
    "        print(\"<항목 추가>\")\n",
    "        self.display_cart()\n",
    "        item = input(\"->추가 항목 (종료:0)? \")\n",
    "        if item == \"0\":\n",
    "            self.main_func = True\n",
    "            return\n",
    "        self.items.append(item)\n",
    "\n",
    "    def remove_item(self):\n",
    "        print(\"<항목 삭제>\")\n",
    "        self.display_cart()\n",
    "        if self.items:\n",
    "            item = input(\"-삭제 항목 (종료:0)? \")\n",
    "            if item == \"0\":\n",
    "                self.main_func = True\n",
    "                return\n",
    "            if item in self.items:\n",
    "                self.items.remove(item)\n",
    "            else:\n",
    "                print(\"\\n장바구니에 없는 항목입니다.\")\n",
    "                input(\"아무키나 누르세요...\")\n",
    "        else:\n",
    "            print(\"\\n장바구니가 비어 있습니다.\")\n",
    "            input(\"아무키나 누르세요...\")\n",
    "        self.main_func = True\n",
    "\n",
    "    def view_list(self):\n",
    "        print(\"<목록 보기>\\n\")\n",
    "        if self.items:\n",
    "            for i, item in enumerate(self.items, 1):  # Corrected the missing 'for' keyword\n",
    "                print(f\"{i}. {item}\")\n",
    "            input(\"아무키나 누르세요...\")\n",
    "        else:\n",
    "            print(\"\\n장바구니가 비어 있습니다.\")\n",
    "            input(\"아무키나 누르세요...\")\n",
    "        self.main_func = True\n",
    "\n",
    "    def run(self):\n",
    "        while True:\n",
    "            if self.main_func:\n",
    "                self.show_menu()\n",
    "                choice = input(\"원하는 작업을 선택하세요: \")\n",
    "                self.main_func = False\n",
    "\n",
    "            self.clear_screen()\n",
    "            if choice == \"1\":\n",
    "                self.add_item()\n",
    "            elif choice == \"2\":\n",
    "                self.remove_item()\n",
    "            elif choice == \"3\":\n",
    "                self.view_list()\n",
    "            elif choice == \"4\":\n",
    "                print(\"프로그램을 종료합니다.\")\n",
    "                break\n",
    "            else:\n",
    "                print(\"잘못된 입력입니다.\")\n",
    "                input(\"아무키나 누르세요...\")\n",
    "\n",
    "shopping = ShoppingList()\n",
    "shopping.run()\n"
   ]
  },
  {
   "cell_type": "markdown",
   "id": "ff7f4727-f96f-4170-b2d9-74224cbc032b",
   "metadata": {},
   "source": [
    "### 계산기1"
   ]
  },
  {
   "cell_type": "code",
   "execution_count": 11,
   "id": "1f8370f0-1b86-4223-b425-2adf83a8c18d",
   "metadata": {},
   "outputs": [
    {
     "name": "stdin",
     "output_type": "stream",
     "text": [
      "첫 번째 숫자를 입력하세요 1\n",
      "연산자를 입력하세요(+, -, *, /): +\n",
      "두 번째 숫자를 입력하세요 41\n"
     ]
    },
    {
     "name": "stdout",
     "output_type": "stream",
     "text": [
      "결과: 1.0 + 41.0 = 42.0\n"
     ]
    }
   ],
   "source": [
    "'''\n",
    "첫 번째 숫자를 입력하세요: 3\n",
    "연산자를 입력하세요 (+, -, *, /): +\n",
    "두 번째 숫자를 입력하세요: 7\n",
    "결과: 3.0 +7.0 =10.0\n",
    "'''\n",
    "\n",
    "def simple_cal():\n",
    "    num1 = float(input('첫 번째 숫자를 입력하세요'))\n",
    "    a = input(\"연산자를 입력하세요(+, -, *, /):\")\n",
    "    num2 = float(input('두 번째 숫자를 입력하세요'))\n",
    "    \n",
    "    '''f a == \"+\":\n",
    "        result = num1 + num2\n",
    "    \n",
    "    elif a == \"-\":\n",
    "        result = num1 - num2\n",
    "    \n",
    "    elif a == \"*\":\n",
    "        result = num1 * num2\n",
    "    \n",
    "    elif a == \"/\":\n",
    "        if num2 != 0:\n",
    "            result = num1 / num2\n",
    "    \n",
    "        else:\n",
    "            print(\"0으로 나눌 수 없어요\")\n",
    "    \n",
    "    else:\n",
    "        print(\"잘못된 연산자!\")\n",
    "        return\n",
    "        '''\n",
    "    result = eval(f\"{num1} {a} {num2}\")\n",
    "    \n",
    "    print(f\"결과: {num1} {a} {num2} = {result}\")\n",
    "        \n",
    "simple_cal()\n",
    "\n",
    "        \n"
   ]
  },
  {
   "cell_type": "code",
   "execution_count": 12,
   "id": "3ebcd6d9-b066-48f1-84f6-bb6b770309f9",
   "metadata": {},
   "outputs": [
    {
     "name": "stdin",
     "output_type": "stream",
     "text": [
      "첫 번째 숫자를 입력하세요 1\n",
      "연산자를 입력하세요(+, -, *, /): +\n",
      "두 번째 숫자를 입력하세요 1\n"
     ]
    },
    {
     "name": "stdout",
     "output_type": "stream",
     "text": [
      "결과: 1.0 + 1.0 = 2.0\n"
     ]
    }
   ],
   "source": [
    "class Calculator:\n",
    "\n",
    "    def __init__(self):\n",
    "        self.operations = {\n",
    "            '+': lambda x, y: x + y,\n",
    "            '-': lambda x, y: x - y,\n",
    "            '*': lambda x, y: x * y,\n",
    "            '/': lambda x, y: x / y if y !=0 else None\n",
    "        }\n",
    "    def calculate(self, num1, a, num2):\n",
    "        if a not in self.operations:\n",
    "            return None\n",
    "        return self.operations[a](num1,num2)\n",
    "         \n",
    "    def run(self):\n",
    "        num1 = float(input('첫 번째 숫자를 입력하세요'))\n",
    "        a = input(\"연산자를 입력하세요(+, -, *, /):\")\n",
    "        num2 = float(input('두 번째 숫자를 입력하세요'))\n",
    "\n",
    "        result =self.calculate(num1, a, num2)\n",
    "\n",
    "        if result is None:\n",
    "            if a==\"/\" and num2 ==0:\n",
    "                print(\"0으로 나눌 수 없어요\")\n",
    "            else:\n",
    "                print(\"잘못된 연산입니다\")\n",
    "        else:\n",
    "            print(f\"결과: {num1} {a} {num2} = {result}\")\n",
    "            \n",
    "\n",
    "calc = Calculator()\n",
    "calc.run()\n",
    "        \n"
   ]
  },
  {
   "cell_type": "code",
   "execution_count": 13,
   "id": "3f30cb3b-d982-4330-95bd-996a74b6dc11",
   "metadata": {},
   "outputs": [
    {
     "name": "stdout",
     "output_type": "stream",
     "text": [
      "[계산기]\n",
      "====================\n",
      "초기화: c,종료 q\n",
      "====================\n"
     ]
    },
    {
     "name": "stdin",
     "output_type": "stream",
     "text": [
      "\n",
      "계산하기 :  q\n"
     ]
    },
    {
     "name": "stdout",
     "output_type": "stream",
     "text": [
      "\n",
      "계산기를 종료합니다.\n"
     ]
    }
   ],
   "source": [
    "import os\n",
    "\n",
    "class  Calculator:\n",
    "\n",
    "    def __init__(self):\n",
    "        self.result =''\n",
    "        \n",
    "    def clear_screen(self):\n",
    "        os.system('cls' if os.name == 'nt' else 'clear')\n",
    "\n",
    "    def show_menu(self):\n",
    "        print(\"[계산기]\")\n",
    "        print('=' * 20)\n",
    "        print(\"초기화: c\", \"종료 q\", sep=',')\n",
    "        print('=' * 20)\n",
    "\n",
    "    def calculate(self,exp):\n",
    "        try:\n",
    "            self.result =round(eval(str(self.result) + exp, {\"__builtins__\" :None}, {}),2)\n",
    "            return True\n",
    "        except Exception as e:\n",
    "            print(f\"\\n올바른 수식이 아닙니다!\",e)\n",
    "            input('\\n계속하시려면 아무 키나 누르세요...')\n",
    "            return False\n",
    "\n",
    "    \n",
    "    def run(self):\n",
    "    \n",
    "        while True:\n",
    "            self.clear_screen()\n",
    "            self.show_menu()\n",
    "            exp = input(f\"\\n계산하기 : {self.result}\")\n",
    "    \n",
    "            if exp.lower() == \"q\":\n",
    "                self.clear_screen()\n",
    "                print(\"\\n계산기를 종료합니다.\")\n",
    "                break\n",
    "            elif exp.lower() == \"c\":\n",
    "                self.result = \"\"\n",
    "                continue\n",
    "           \n",
    "            self.calculate(exp)\n",
    "\n",
    "me1 = Calculator()\n",
    "me1.run()\n",
    "\n"
   ]
  },
  {
   "cell_type": "markdown",
   "id": "f11324e6-13e3-4ff5-a0be-c3ea9bf7657d",
   "metadata": {},
   "source": [
    "### 가계부 관리"
   ]
  },
  {
   "cell_type": "code",
   "execution_count": 15,
   "id": "0b8fad34-53f8-4cd8-aebf-d93172422923",
   "metadata": {},
   "outputs": [
    {
     "name": "stdout",
     "output_type": "stream",
     "text": [
      "==== 가계부 ====\n",
      "1. 지출 입력\n",
      "2. 지출 목록 보기\n",
      "3. 총 지출 확인\n",
      "4. 종료\n"
     ]
    },
    {
     "name": "stdin",
     "output_type": "stream",
     "text": [
      "원하는 작업을 선택하세요: 4\n"
     ]
    },
    {
     "name": "stdout",
     "output_type": "stream",
     "text": [
      "종료합니다\n"
     ]
    }
   ],
   "source": [
    "'''\n",
    "==== 가계부 ====\n",
    "1. 지출 입력\n",
    "2. 지출 목록 보기\n",
    "3. 총 지출 확인\n",
    "4. 종료\n",
    "원하는 작업을 선택하세요 1\n",
    "날짜를 입력하세요 (예: 11-19)11\n",
    "지출 항목을 입력하세요: 커피\n",
    "금액을 입력하세요: 5000\n",
    "지출이 기록되었습니다.\n",
    "\n",
    "날짜     항목     금액\n",
    "------------------------\n",
    "11      커피     5000원\n",
    "\n",
    "[3]\n",
    "총 지출: 5000원\n",
    "'''    \n",
    "expense= []\n",
    "def show_menu():\n",
    "    print('==== 가계부 ====')\n",
    "    print(\"1. 지출 입력\")\n",
    "    print(\"2. 지출 목록 보기\")\n",
    "    print(\"3. 총 지출 확인\")\n",
    "    print(\"4. 종료\")\n",
    "\n",
    "def date_time():\n",
    "    date = input(\"날짜를 입력하세요(예 11-19)\")\n",
    "    item = input(\"지출 항목을 입력하세요: \")\n",
    "    amount = int(input(\"지출 금액을 입력하세요: \"))\n",
    "\n",
    "    \n",
    "    expense.append([date,item,amount])\n",
    "    #expense.append((date,item,amount))\n",
    "    #expense.append({'date':date,'item':item,'amount':amount})\n",
    "    \n",
    " \n",
    "    print('지출이 기록되었습니다')\n",
    "\n",
    "def show_list():\n",
    "    print(\"\\n날짜\\t항목\\t금액\")\n",
    "    print(\"-\" * 30)\n",
    "    for i in expense:\n",
    "        print(f\"{i[0]}\\t{i[1]}\\t{i[2]:,}원\")\n",
    "        #print(f\"{i['date']}\\t{i['item']}\\t{i['amount']:,}원\")\n",
    "        \n",
    "\n",
    "def total_pay():\n",
    "    total = 0\n",
    "    for i in expense:\n",
    "        total +=i[2]\n",
    "        #total +=i['amount']\n",
    "    \n",
    "    \n",
    "    print(f\"\\n총 지출: {total:,}원\")\n",
    "def main():\n",
    "    \n",
    "    while True:\n",
    "        show_menu()\n",
    "        choice = input(\"원하는 작업을 선택하세요:\")\n",
    "        \n",
    "        if choice == \"1\":\n",
    "            date_time()\n",
    "        elif choice ==\"2\":\n",
    "            show_list()\n",
    "        elif choice ==\"3\":\n",
    "            total_pay()\n",
    "        elif choice ==\"4\":\n",
    "            print(\"종료합니다\")\n",
    "            break\n",
    "        \n",
    "    \n",
    "        \n",
    "          \n",
    "          \n",
    "    \n",
    "main()"
   ]
  },
  {
   "cell_type": "code",
   "execution_count": 16,
   "id": "8185d74a-44e2-4e12-943c-5a235d24f846",
   "metadata": {},
   "outputs": [
    {
     "name": "stdout",
     "output_type": "stream",
     "text": [
      "==== 가계부 ====\n",
      "1. 지출 입력\n",
      "2. 지출 목록 보기\n",
      "3. 총 지출 확인\n",
      "4. 종료\n"
     ]
    },
    {
     "name": "stdin",
     "output_type": "stream",
     "text": [
      "원하는 작업을 선택하세요: 4\n"
     ]
    },
    {
     "name": "stdout",
     "output_type": "stream",
     "text": [
      "종료합니다\n"
     ]
    }
   ],
   "source": [
    "class Product:\n",
    "\n",
    "    def __init__(self):\n",
    "        self.expense= []\n",
    "    \n",
    "    def show_menu(self):\n",
    "        print('==== 가계부 ====')\n",
    "        print(\"1. 지출 입력\")\n",
    "        print(\"2. 지출 목록 보기\")\n",
    "        print(\"3. 총 지출 확인\")\n",
    "        print(\"4. 종료\")\n",
    "    \n",
    "    def date_time(self):\n",
    "        date = input(\"날짜를 입력하세요(예 11-19)\")\n",
    "        item = input(\"지출 항목을 입력하세요: \")\n",
    "        amount = int(input(\"지출 금액을 입력하세요: \"))\n",
    "    \n",
    "        \n",
    "        self.expense.append([date,item,amount])\n",
    "        #expense.append((date,item,amount))\n",
    "        #expense.append({'date':date,'item':item,'amount':amount})\n",
    "        \n",
    "     \n",
    "        print('지출이 기록되었습니다')\n",
    "    \n",
    "    def show_list(self):\n",
    "        print(\"\\n날짜\\t항목\\t금액\")\n",
    "        print(\"-\" * 30)\n",
    "        for i in self.expense:\n",
    "            print(f\"{i[0]}\\t{i[1]}\\t{i[2]:,}원\")\n",
    "            #print(f\"{i['date']}\\t{i['item']}\\t{i['amount']:,}원\")\n",
    "            \n",
    "    \n",
    "    def total_pay(self):\n",
    "        total = 0\n",
    "        for i in self.expense:\n",
    "            total +=i[2]\n",
    "            #total +=i['amount']\n",
    "        \n",
    "        \n",
    "        print(f\"\\n총 지출: {total:,}원\")\n",
    "    def main(self):\n",
    "        \n",
    "        while True:\n",
    "            show_menu()\n",
    "            choice = input(\"원하는 작업을 선택하세요:\")\n",
    "            \n",
    "            if choice == \"1\":\n",
    "                date_time()\n",
    "            elif choice ==\"2\":\n",
    "                show_list()\n",
    "            elif choice ==\"3\":\n",
    "                total_pay()\n",
    "            elif choice ==\"4\":\n",
    "                print(\"종료합니다\")\n",
    "                break\n",
    "            \n",
    "        \n",
    "            \n",
    "a =Product()\n",
    "a.main()\n",
    "              \n",
    "        "
   ]
  },
  {
   "cell_type": "code",
   "execution_count": 43,
   "id": "aa2967f1-dda3-42db-80cc-c306ff3b7ed3",
   "metadata": {},
   "outputs": [
    {
     "name": "stdout",
     "output_type": "stream",
     "text": [
      "1100000\n",
      "2100000\n",
      "{1: {'name': '노트북', 'price': 1000000, 'quantity': 2}, 2: {'name': '마우스', 'price': 50000, 'quantity': 2}}\n",
      "1890000.0\n"
     ]
    }
   ],
   "source": [
    "class ShoppingCart:\n",
    "    def __init__(self):\n",
    "        self.items = {}\n",
    "        self.total = 0\n",
    "\n",
    "    def add_item(self, item_id, name, price, quantity=1):\n",
    "        if item_id in self.items:\n",
    "            self.items[item_id]['quantity'] += quantity\n",
    "        else:\n",
    "            self.items[item_id] = {\n",
    "                'name': name,\n",
    "                'price': price,\n",
    "                'quantity': quantity\n",
    "            }\n",
    "        self.calculate_total()\n",
    "\n",
    "    def remove_item(self, item_id, quantity=1):\n",
    "        if item_id in self.items:\n",
    "            self.items[item_id]['quantity'] -= quantity\n",
    "            if self.items[item_id]['quantity'] <= 0:\n",
    "                del self.items[item_id]\n",
    "            self.calculate_total()\n",
    "\n",
    "    def calculate_total(self):\n",
    "        self.total = sum(item['price'] * item['quantity'] \n",
    "                        for item in self.items.values())\n",
    "\n",
    "    def apply_discount(self, percent):\n",
    "        self.total *= (1 - percent/100)\n",
    "\n",
    "cart1 = ShoppingCart()\n",
    "cart1.add_item(1,\"노트북\",1000000)\n",
    "cart1.add_item(2,\"마우스\",50000,2)\n",
    "print(cart1.total)\n",
    "cart1.add_item(1,\"노트북\",1000000)\n",
    "print(cart1.total)\n",
    "print(cart1.items)\n",
    "cart1.apply_discount(10)\n",
    "print(cart1.total)\n"
   ]
  },
  {
   "cell_type": "code",
   "execution_count": null,
   "id": "4a209c92-9bea-4efc-bcc7-c1354e6221d4",
   "metadata": {},
   "outputs": [],
   "source": []
  }
 ],
 "metadata": {
  "kernelspec": {
   "display_name": "Python 3 (ipykernel)",
   "language": "python",
   "name": "python3"
  },
  "language_info": {
   "codemirror_mode": {
    "name": "ipython",
    "version": 3
   },
   "file_extension": ".py",
   "mimetype": "text/x-python",
   "name": "python",
   "nbconvert_exporter": "python",
   "pygments_lexer": "ipython3",
   "version": "3.12.7"
  }
 },
 "nbformat": 4,
 "nbformat_minor": 5
}
