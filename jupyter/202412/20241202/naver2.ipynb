{
 "cells": [
  {
   "cell_type": "code",
   "execution_count": 7,
   "id": "992af7c2-8e30-4daf-bf67-24658c3213d8",
   "metadata": {},
   "outputs": [
    {
     "data": {
      "text/plain": [
       "True"
      ]
     },
     "execution_count": 7,
     "metadata": {},
     "output_type": "execute_result"
    }
   ],
   "source": [
    "import requests\n",
    "from bs4 import BeautifulSoup\n",
    "import webbrowser\n",
    "import os\n",
    "from urllib.parse import urljoin\n",
    "import subprocess\n",
    "\n",
    "# 1. 네이버 뉴스 사이트에 접속합니다.\n",
    "url = 'https://news.naver.com/'\n",
    "response = requests.get(url)\n",
    "\n",
    "# 2. 최신 뉴스 기사 제목과 링크를 추출합니다.\n",
    "soup = BeautifulSoup(response.text, 'html.parser')\n",
    "articles = soup.find_all('li', class_='cnf_news_item')  # 클래스명을 네이버 뉴스 사이트의 실제 클래스명으로 바꾸세요.\n",
    "\n",
    "# 3. 추출된 데이터를 HTML 리스트로 변환합니다.\n",
    "html_content = '''<html>\n",
    "<head>\n",
    "    <meta charset=\"UTF-8\">  <!-- UTF-8 문자 인코딩 설정 -->\n",
    "    <title>네이버 뉴스 최신 기사 목록</title>\n",
    "</head>\n",
    "<body>\n",
    "    <h1>네이버 뉴스 최신 기사 목록</h1>\n",
    "    <ul>'''\n",
    "\n",
    "for article in articles:\n",
    "    title = article.get_text()\n",
    "    link = article.find('a')['href']  # <a> 태그의 href 속성에서 링크를 추출\n",
    "    full_link = urljoin(url, link)  # 상대 경로를 절대 경로로 변환\n",
    "    html_content += f'<li><a href=\"{full_link}\">{title}</a></li>'\n",
    "    \n",
    "html_content += '''</ul>\n",
    "</body>\n",
    "</html>'''\n",
    "\n",
    "# 4. HTML 파일로 저장합니다.\n",
    "file_path = 'news_list.html'\n",
    "with open(file_path, 'w', encoding='utf-8') as f:\n",
    "    f.write(html_content)\n",
    "\n",
    "# 5. 로컬 서버 실행\n",
    "subprocess.Popen([\"python\", \"-m\", \"http.server\", \"8000\"])\n",
    "\n",
    "# 6. 웹 브라우저에서 자동으로 HTML 파일 열기\n",
    "file_url = 'http://localhost:8000/news_list.html'\n",
    "webbrowser.open(file_url)\n"
   ]
  },
  {
   "cell_type": "code",
   "execution_count": null,
   "id": "453ae1c9-3395-4ec6-b682-2706779c44c7",
   "metadata": {},
   "outputs": [],
   "source": []
  }
 ],
 "metadata": {
  "kernelspec": {
   "display_name": "Python 3 (ipykernel)",
   "language": "python",
   "name": "python3"
  },
  "language_info": {
   "codemirror_mode": {
    "name": "ipython",
    "version": 3
   },
   "file_extension": ".py",
   "mimetype": "text/x-python",
   "name": "python",
   "nbconvert_exporter": "python",
   "pygments_lexer": "ipython3",
   "version": "3.12.7"
  }
 },
 "nbformat": 4,
 "nbformat_minor": 5
}
