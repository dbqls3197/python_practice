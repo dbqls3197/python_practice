{
 "cells": [
  {
   "cell_type": "markdown",
   "id": "78c59381-b09c-4bb9-9eb3-9a0356de65f3",
   "metadata": {},
   "source": [
    "## 문서자동화"
   ]
  },
  {
   "cell_type": "code",
   "execution_count": 7,
   "id": "1ca07952-01f1-4d79-9a54-feb16cbc0e3c",
   "metadata": {},
   "outputs": [],
   "source": [
    "#! pip install openpyxl\n",
    "# ! pip list (설치되어있는 파일 확인)"
   ]
  },
  {
   "cell_type": "code",
   "execution_count": 13,
   "id": "c26caec1-c06c-4611-a55a-4d187e70afe4",
   "metadata": {},
   "outputs": [],
   "source": [
    "from openpyxl import Workbook\n",
    "\n",
    "# 객체 생성\n",
    "wb = Workbook()\n",
    "\n",
    "# 활성화된 워크시트 선택\n",
    "ws = wb.active\n",
    "\n",
    "# 시트 제목\n",
    "ws.title = \"수강생_정보\"\n",
    "\n",
    "# A1셀에 데이터 입력\n",
    "ws['A1'] = '손유빈'\n",
    "\n",
    "# 엑셀파일로 저장\n",
    "wb.save(\"수강생리스트.xlsx\")\n",
    "\n",
    "# 워크북 닫기\n",
    "wb.close()"
   ]
  },
  {
   "cell_type": "code",
   "execution_count": 21,
   "id": "e56e18fa-6f50-4e1b-b1fe-65664f14dcc1",
   "metadata": {},
   "outputs": [
    {
     "name": "stdout",
     "output_type": "stream",
     "text": [
      "['Sheet', '2024-12']\n",
      "['2024-12']\n"
     ]
    }
   ],
   "source": [
    "from openpyxl import Workbook\n",
    "\n",
    "# 객체 생성\n",
    "wb = Workbook()\n",
    "\n",
    "ws = wb.create_sheet('2024-12')\n",
    "\n",
    "print(wb.sheetnames)\n",
    "\n",
    "del wb['Sheet']\n",
    "\n",
    "print(wb.sheetnames)\n",
    "\n",
    "wb.save('엑셀자동화/거래처A매입현황.xlsx')\n",
    "wb.close()"
   ]
  },
  {
   "cell_type": "code",
   "execution_count": 25,
   "id": "76afc307-02f5-438e-991b-c9165b70c1d2",
   "metadata": {},
   "outputs": [],
   "source": [
    "from openpyxl import Workbook, load_workbook\n",
    "\n",
    "file_path = '엑셀자동화/거래처A매입현황.xlsx'\n",
    "\n",
    "# 기존 파일을 읽어서 생성된 객체\n",
    "wb = load_workbook(file_path)\n",
    "\n",
    "ws = wb.active\n",
    "\n",
    "# 데이터 추가 1\n",
    "ws['A1'] = '날짜'\n",
    "ws['B1'] = '제품명'\n",
    "ws['C1'] = '가격'\n",
    "ws['D1'] = '수량'\n",
    "ws['E1'] = '합계'\n",
    "\n",
    "# 데이터 추가 2\n",
    "ws.cell(row=2,column=1,value='2024-12-05')\n",
    "ws.cell(row=2,column=2,value='게이밍 마우스')\n",
    "ws.cell(row=2,column=3,value= 50000)\n",
    "ws.cell(row=2,column=4,value= 30)\n",
    "ws.cell(row=2,column=5,value='=C2*D2')\n",
    "\n",
    "# 데이터 추가 3\n",
    "ws.append(['2024-12-05','기계식 키보드',12000,15,'=C3*D3'])\n",
    "\n",
    "ws[\"C2\"] = 40000\n",
    "ws[\"D2\"] = 40\n",
    "\n",
    "del ws[\"A3\"]\n",
    "\n",
    "wb.save(file_path)\n",
    "wb.close()\n",
    "\n",
    "ws['A3'] = '2024-12-05'"
   ]
  },
  {
   "cell_type": "markdown",
   "id": "ed6f48c2-405f-455d-90c1-f216a8aee5d4",
   "metadata": {},
   "source": [
    "### 매출데이터 생성\n"
   ]
  },
  {
   "cell_type": "code",
   "execution_count": 38,
   "id": "af7ffa5c-9092-418d-bd62-b81df9542e39",
   "metadata": {},
   "outputs": [],
   "source": [
    "from openpyxl import Workbook\n",
    "import random\n",
    "\n",
    "wb = Workbook()\n",
    "ws = wb.active\n",
    "ws.title = 'data'\n",
    "\n",
    "ws.append(['순번','제품명','가격','수량','합계'])\n",
    "\n",
    "name_list = ['기계식 키보드','게이밍 마우스','32인치 모니터','마우스 패드']\n",
    "\n",
    "for i in range(random.randint(5, 10)):\n",
    "    name = random.choice(name_list)\n",
    "    if name == '기계식 키보드':\n",
    "        price = 12000\n",
    "    elif name == '게이밍 마우스':\n",
    "        price = 40000\n",
    "    elif name == '32인치 모니터':\n",
    "        price = 350000    \n",
    "    elif name == '마우스 패드':\n",
    "        price = 20000\n",
    "    quantitiy = random.randint(1,5)\n",
    "\n",
    "    ws.append([i+1, name, price, quantitiy, f\"=C{i+2}*D{i+2}\"])\n",
    "\n",
    "#wb.save('엑셀자동화/스마트스토어.xlsx')\n",
    "#wb.save('엑셀자동화/11번가.xlsx')\n",
    "wb.save('엑셀자동화/쿠팡.xlsx')\n",
    "wb.close()"
   ]
  },
  {
   "cell_type": "code",
   "execution_count": 6,
   "id": "ad1d2c63-54d5-48cd-97ec-c0211ce0aff3",
   "metadata": {},
   "outputs": [
    {
     "name": "stdout",
     "output_type": "stream",
     "text": [
      "순번 제품명 가격 수량 합계 \n",
      "1 게이밍 마우스 40000 1 40000 \n",
      "2 기계식 키보드 12000 3 36000 \n",
      "3 게이밍 마우스 40000 2 80000 \n",
      "4 32인치 모니터 350000 3 1050000 \n",
      "5 기계식 키보드 12000 3 36000 \n",
      "6 32인치 모니터 350000 4 1400000 \n",
      "7 마우스 패드 20000 5 100000 \n",
      "8 게이밍 마우스 40000 1 40000 \n",
      "9 기계식 키보드 12000 3 36000 \n",
      "10 게이밍 마우스 40000 4 160000 \n"
     ]
    }
   ],
   "source": [
    "import win32com.client\n",
    "import os\n",
    "from openpyxl import Workbook, load_workbook\n",
    "\n",
    "file_path = \"엑셀자동화/스마트스토어.xlsx\"\n",
    "\n",
    "\n",
    "excel = win32com.client.Dispatch(\"Excel.Application\")\n",
    "excel.Visible = False\n",
    "ewb = excel.Workbooks.Open(os.path.abspath(file_path))\n",
    "ewb.Application.Calculate()\n",
    "ewb.Save()\n",
    "ewb.Close()\n",
    "excel.Quit()\n",
    "\n",
    "\n",
    "wb = load_workbook(file_path, data_only=True) # 수식의 계산 결과만 읽음\n",
    "ws = wb['data']\n",
    "\n",
    "# 행과 열 개수를 모두 아는 경우\n",
    "# for x in range(1,8 +1):\n",
    "#     for y in (range(1, 5 +1)):\n",
    "#         print(ws.cell(row=x,column=y).value,end=\" \")\n",
    "#     print()\n",
    "\n",
    "# 행과 열 개수를 모두 모를 경우\n",
    "for x in range(1, ws.max_row + 1):\n",
    "    for y in (range(1, ws.max_column + 1)):\n",
    "        print(ws.cell(row=x,column=y).value,end=\" \")\n",
    "    print()\n"
   ]
  },
  {
   "cell_type": "code",
   "execution_count": 20,
   "id": "f79c2033-0318-4a8c-9174-e772df0ffbe4",
   "metadata": {},
   "outputs": [
    {
     "name": "stdout",
     "output_type": "stream",
     "text": [
      "['순번', '제품명', '가격', '수량', '합계']\n",
      "[1, '게이밍 마우스', 40000, 1, 40000]\n",
      "[2, '기계식 키보드', 12000, 3, 36000]\n",
      "[3, '게이밍 마우스', 40000, 2, 80000]\n",
      "[4, '32인치 모니터', 350000, 3, 1050000]\n",
      "[5, '기계식 키보드', 12000, 3, 36000]\n",
      "[6, '32인치 모니터', 350000, 4, 1400000]\n",
      "[7, '마우스 패드', 20000, 5, 100000]\n",
      "[8, '게이밍 마우스', 40000, 1, 40000]\n",
      "[9, '기계식 키보드', 12000, 3, 36000]\n",
      "[10, '게이밍 마우스', 40000, 4, 160000]\n"
     ]
    }
   ],
   "source": [
    "# for row in ws.rows:\n",
    "#     print(row)\n",
    "    \n",
    "for row in ws.iter_rows():\n",
    "    #for cell in row:\n",
    "        #print(cell.value)\n",
    "    print([cell.value for cell in row])"
   ]
  },
  {
   "cell_type": "code",
   "execution_count": 35,
   "id": "5a481a9d-a890-4f83-b409-275df4e17df1",
   "metadata": {},
   "outputs": [
    {
     "name": "stdout",
     "output_type": "stream",
     "text": [
      "[1, '게이밍 마우스', 40000, 1, 40000]\n",
      "[2, '기계식 키보드', 12000, 3, 36000]\n",
      "[3, '게이밍 마우스', 40000, 2, 80000]\n",
      "[4, '32인치 모니터', 350000, 3, 1050000]\n",
      "[5, '기계식 키보드', 12000, 3, 36000]\n",
      "[6, '32인치 모니터', 350000, 4, 1400000]\n"
     ]
    }
   ],
   "source": [
    "for row in ws.iter_rows(min_row=2,max_row=7):\n",
    "    print([cell.value for cell in row])"
   ]
  },
  {
   "cell_type": "code",
   "execution_count": 41,
   "id": "047fdfc4-09bf-492a-8bd2-081f3c314259",
   "metadata": {},
   "outputs": [
    {
     "name": "stdout",
     "output_type": "stream",
     "text": [
      "(<Cell 'data'.A1>, <Cell 'data'.B1>, <Cell 'data'.C1>, <Cell 'data'.D1>, <Cell 'data'.E1>)\n",
      "(<Cell 'data'.A2>, <Cell 'data'.B2>, <Cell 'data'.C2>, <Cell 'data'.D2>, <Cell 'data'.E2>)\n",
      "(<Cell 'data'.A3>, <Cell 'data'.B3>, <Cell 'data'.C3>, <Cell 'data'.D3>, <Cell 'data'.E3>)\n",
      "(<Cell 'data'.A4>, <Cell 'data'.B4>, <Cell 'data'.C4>, <Cell 'data'.D4>, <Cell 'data'.E4>)\n",
      "(<Cell 'data'.A5>, <Cell 'data'.B5>, <Cell 'data'.C5>, <Cell 'data'.D5>, <Cell 'data'.E5>)\n",
      "(<Cell 'data'.A6>, <Cell 'data'.B6>, <Cell 'data'.C6>, <Cell 'data'.D6>, <Cell 'data'.E6>)\n",
      "(<Cell 'data'.A7>, <Cell 'data'.B7>, <Cell 'data'.C7>, <Cell 'data'.D7>, <Cell 'data'.E7>)\n",
      "(<Cell 'data'.A8>, <Cell 'data'.B8>, <Cell 'data'.C8>, <Cell 'data'.D8>, <Cell 'data'.E8>)\n",
      "(<Cell 'data'.A9>, <Cell 'data'.B9>, <Cell 'data'.C9>, <Cell 'data'.D9>, <Cell 'data'.E9>)\n",
      "(<Cell 'data'.A10>, <Cell 'data'.B10>, <Cell 'data'.C10>, <Cell 'data'.D10>, <Cell 'data'.E10>)\n",
      "(<Cell 'data'.A11>, <Cell 'data'.B11>, <Cell 'data'.C11>, <Cell 'data'.D11>, <Cell 'data'.E11>)\n"
     ]
    }
   ],
   "source": [
    "for row in ws.iter_rows():\n",
    "    print(row)"
   ]
  },
  {
   "cell_type": "code",
   "execution_count": 37,
   "id": "fc64eab4-d9d9-4205-ae86-989683a0948e",
   "metadata": {},
   "outputs": [
    {
     "name": "stdout",
     "output_type": "stream",
     "text": [
      "['게이밍 마우스', 40000, 1]\n",
      "['기계식 키보드', 12000, 3]\n",
      "['게이밍 마우스', 40000, 2]\n",
      "['32인치 모니터', 350000, 3]\n",
      "['기계식 키보드', 12000, 3]\n",
      "['32인치 모니터', 350000, 4]\n"
     ]
    }
   ],
   "source": [
    "for row in ws.iter_rows(min_row=2,max_row=7,min_col=2,max_col=4):\n",
    "    print([cell.value for cell in row])"
   ]
  },
  {
   "cell_type": "code",
   "execution_count": 44,
   "id": "23f1701a-6a35-446d-a3ee-187f367a797a",
   "metadata": {},
   "outputs": [
    {
     "name": "stdout",
     "output_type": "stream",
     "text": [
      "(1, '게이밍 마우스', 40000, 1, 40000)\n",
      "(2, '기계식 키보드', 12000, 3, 36000)\n",
      "(3, '게이밍 마우스', 40000, 2, 80000)\n",
      "(4, '32인치 모니터', 350000, 3, 1050000)\n",
      "(5, '기계식 키보드', 12000, 3, 36000)\n",
      "(6, '32인치 모니터', 350000, 4, 1400000)\n",
      "(7, '마우스 패드', 20000, 5, 100000)\n",
      "(8, '게이밍 마우스', 40000, 1, 40000)\n",
      "(9, '기계식 키보드', 12000, 3, 36000)\n",
      "(10, '게이밍 마우스', 40000, 4, 160000)\n"
     ]
    }
   ],
   "source": [
    "for row in ws.iter_rows(min_row=2, values_only=True):\n",
    "    print(row)"
   ]
  },
  {
   "cell_type": "code",
   "execution_count": 48,
   "id": "b01f07e1-b52d-4651-8cfd-e602821d34a9",
   "metadata": {},
   "outputs": [
    {
     "name": "stdout",
     "output_type": "stream",
     "text": [
      "[1, '게이밍 마우스', 40000, 1, 40000]\n",
      "[2, '기계식 키보드', 12000, 3, 36000]\n",
      "[3, '게이밍 마우스', 40000, 2, 80000]\n",
      "[4, '32인치 모니터', 350000, 3, 1050000]\n",
      "[5, '기계식 키보드', 12000, 3, 36000]\n",
      "[6, '32인치 모니터', 350000, 4, 1400000]\n",
      "[7, '마우스 패드', 20000, 5, 100000]\n",
      "[8, '게이밍 마우스', 40000, 1, 40000]\n",
      "[9, '기계식 키보드', 12000, 3, 36000]\n",
      "[10, '게이밍 마우스', 40000, 4, 160000]\n"
     ]
    }
   ],
   "source": [
    "for row in ws.iter_rows(min_row=2,max_row=ws.max_row,min_col=1,max_col=ws.max_column):\n",
    "    print([cell.value for cell in row])"
   ]
  },
  {
   "cell_type": "code",
   "execution_count": 52,
   "id": "8afd0597-9651-4adf-a21e-4012c86105bb",
   "metadata": {},
   "outputs": [
    {
     "name": "stdout",
     "output_type": "stream",
     "text": [
      "[1, '게이밍 마우스', 40000, 1, 40000]\n",
      "[2, '기계식 키보드', 12000, 3, 36000]\n",
      "[3, '게이밍 마우스', 40000, 2, 80000]\n",
      "[4, '32인치 모니터', 350000, 3, 1050000]\n",
      "[5, '기계식 키보드', 12000, 3, 36000]\n",
      "[6, '32인치 모니터', 350000, 4, 1400000]\n",
      "[7, '마우스 패드', 20000, 5, 100000]\n",
      "[8, '게이밍 마우스', 40000, 1, 40000]\n",
      "[9, '기계식 키보드', 12000, 3, 36000]\n",
      "[10, '게이밍 마우스', 40000, 4, 160000]\n"
     ]
    }
   ],
   "source": [
    "# 리스트로 변환\n",
    "for row in ws.iter_rows(min_row=2, values_only=True):\n",
    "    print(list(row))"
   ]
  },
  {
   "cell_type": "code",
   "execution_count": 56,
   "id": "edb5ad5d-bbe7-41a8-95a3-fa55ef9f5fbf",
   "metadata": {},
   "outputs": [
    {
     "name": "stdout",
     "output_type": "stream",
     "text": [
      "(1, '게이밍 마우스', 40000, 1, 40000)\n",
      "(2, '기계식 키보드', 12000, 3, 36000)\n",
      "(3, '게이밍 마우스', 40000, 2, 80000)\n",
      "(4, '32인치 모니터', 350000, 3, 1050000)\n",
      "(5, '기계식 키보드', 12000, 3, 36000)\n",
      "(6, '32인치 모니터', 350000, 4, 1400000)\n",
      "(7, '마우스 패드', 20000, 5, 100000)\n",
      "(8, '게이밍 마우스', 40000, 1, 40000)\n",
      "(9, '기계식 키보드', 12000, 3, 36000)\n",
      "(10, '게이밍 마우스', 40000, 4, 160000)\n"
     ]
    }
   ],
   "source": [
    "# 튜플로 변환\n",
    "for row in ws.iter_rows(min_row=2, values_only=True):\n",
    "    print(tuple(row))"
   ]
  },
  {
   "cell_type": "code",
   "execution_count": 88,
   "id": "adaaddcd-230b-48a1-8248-807c4089c24a",
   "metadata": {},
   "outputs": [],
   "source": [
    "## 문서 취합\n",
    "\n",
    "from openpyxl import Workbook, load_workbook\n",
    "import win32com.client\n",
    "import os\n",
    "\n",
    "total_wb = Workbook()\n",
    "total_ws = total_wb.active\n",
    "total_ws.title = 'data'\n",
    "\n",
    "total_ws.append(['순번','제품명','가격','수량','합계'])\n",
    "\n",
    "file_list = ['스마트스토어','11번가','쿠팡']\n",
    "\n",
    "excel = win32com.client.Dispatch(\"Excel.Application\")\n",
    "excel.Visible = False\n",
    "\n",
    "for file in file_list:\n",
    "    file_path = f'엑셀자동화/{file}.xlsx'\n",
    "\n",
    "    ewb = excel.Workbooks.Open(os.path.abspath(file_path))\n",
    "    ewb.Application.Calculate()\n",
    "    ewb.Save()\n",
    "    ewb.Close()\n",
    "\n",
    "    wb = load_workbook(file_path, data_only=True)\n",
    "    ws = wb.active\n",
    "\n",
    "    for row in ws.iter_rows(min_row=2):\n",
    "        # data = []\n",
    "        # for cell in row:\n",
    "        #     data.append(cell.value)\n",
    "        # total_ws.append(data)\n",
    "        total_ws.append([cell.value for cell in row])\n",
    "\n",
    "\n",
    "\n",
    "excel.Quit()\n",
    "\n",
    "for i, cell in enumerate(total_ws[\"A\"][1:],start=1):\n",
    "    cell.value = i\n",
    "\n",
    "total_wb.save('엑셀자동화/total.xlsx')\n",
    "total_wb.close()"
   ]
  },
  {
   "cell_type": "code",
   "execution_count": 173,
   "id": "6e98adab-9b61-4c8a-aec9-c52a7d95b4e1",
   "metadata": {},
   "outputs": [
    {
     "data": {
      "text/plain": [
       "<bound method Workbook.close of <openpyxl.workbook.workbook.Workbook object at 0x000002DE23CDB4D0>>"
      ]
     },
     "execution_count": 173,
     "metadata": {},
     "output_type": "execute_result"
    }
   ],
   "source": [
    "## 제품 분리 (텝별로 분리)\n",
    "from openpyxl import Workbook, load_workbook\n",
    "\n",
    "wb = load_workbook('엑셀자동화/total.xlsx')\n",
    "ws = wb.active\n",
    "\n",
    "name_list = []\n",
    "for row in ws.iter_rows(min_row=2,min_col=2):\n",
    "    name = row[0].value\n",
    "    if name not in name_list:\n",
    "        name_list.append(name)\n",
    "        wb.create_sheet(name)\n",
    "\n",
    "    wb[name].append([cell.value for cell in row])\n",
    "\n",
    "# # 제품이름 리스트(텝 생성2)\n",
    "# name_list = list(set([cell.value for cell in ws['B'][1:]]))\n",
    "# for name in name_list:\n",
    "#     wb.creat_sheet(name)\n",
    "\n",
    "# for row in ws.iter_rows(min_row=2,min_col=2):\n",
    "#     wb[row[0].value].append([cell.value for cell in row])\n",
    "    \n",
    "wb.save('엑셀자동화/total.xlsx')\n",
    "wb.close"
   ]
  },
  {
   "cell_type": "code",
   "execution_count": null,
   "id": "71322e07-deeb-419c-a164-7d513ca3f2e3",
   "metadata": {},
   "outputs": [],
   "source": [
    "from openpyxl.styles import Font, Side, Border, Alignment\n",
    "\n",
    "header_fill = patternFill(start_color=\"CCCCCC\",end_color=\"CCCCCC\",fill_type=\"soild\")\n",
    "cell.fill = header_fill"
   ]
  }
 ],
 "metadata": {
  "kernelspec": {
   "display_name": "Python 3 (ipykernel)",
   "language": "python",
   "name": "python3"
  },
  "language_info": {
   "codemirror_mode": {
    "name": "ipython",
    "version": 3
   },
   "file_extension": ".py",
   "mimetype": "text/x-python",
   "name": "python",
   "nbconvert_exporter": "python",
   "pygments_lexer": "ipython3",
   "version": "3.12.7"
  }
 },
 "nbformat": 4,
 "nbformat_minor": 5
}
