{
 "cells": [
  {
   "cell_type": "code",
   "execution_count": 2,
   "id": "2c32c262-1ecd-4e6c-8f04-530cfa343580",
   "metadata": {},
   "outputs": [],
   "source": [
    "import re\n",
    "import requests\n",
    "\n",
    "url = \"http://lecture.pul.kr/ex6.html\"\n",
    "response = requests.get(url)\n",
    "html_content = response.text\n",
    "\n"
   ]
  },
  {
   "cell_type": "code",
   "execution_count": 4,
   "id": "8005685e-7b9b-47ac-aebb-c88adfbe4dd2",
   "metadata": {},
   "outputs": [
    {
     "name": "stdout",
     "output_type": "stream",
     "text": [
      "이메일 주소 추출 : ['test@example.com', 'hello@world.net']\n"
     ]
    }
   ],
   "source": [
    "#1. 이메일 주소 추출\n",
    "\n",
    "#email_pattern = r'[a-zA-Z0-9._%+-]+@[a-zA-Z0-9.-]+\\.[a-zA-Z]{2,}'\n",
    "email_pattern = r'[\\w.%+-]+@[\\w.-]+\\.[a-zA-Z]{2,}'\n",
    "\n",
    "emails = re.findall(email_pattern, html_content)\n",
    "print('이메일 주소 추출 :',emails)"
   ]
  },
  {
   "cell_type": "code",
   "execution_count": 6,
   "id": "a8feef8d-f915-4dcd-a89c-11e042f95de0",
   "metadata": {},
   "outputs": [
    {
     "name": "stdout",
     "output_type": "stream",
     "text": [
      "전화번호 추출 : ['(123) 456-7890', '987-654-3210']\n"
     ]
    }
   ],
   "source": [
    "# 2. 전화번호 추출\n",
    "\n",
    "phone_pattern =r'\\(?\\d{3}\\)?[-,\\s]?\\d{3,4}[-.\\s]?\\d{4}'\n",
    "\n",
    "phones = re.findall(phone_pattern,html_content)\n",
    "print('전화번호 추출 :',phones)"
   ]
  },
  {
   "cell_type": "code",
   "execution_count": 8,
   "id": "f133450c-92f2-4e5d-a75d-bb838ad58ff6",
   "metadata": {},
   "outputs": [
    {
     "name": "stdout",
     "output_type": "stream",
     "text": [
      "가격추출 : ['$19.99', '$29.99']\n"
     ]
    }
   ],
   "source": [
    "# 3. 가격 추출\n",
    "\n",
    "price_pattern = r'\\$\\d+\\.\\d{2}'\n",
    "#price_pattern = r'\\$\\d+(\\.\\d{2})?'\n",
    "\n",
    "prices = re.findall(price_pattern, html_content)\n",
    "print(\"가격추출 :\",prices)"
   ]
  },
  {
   "cell_type": "code",
   "execution_count": 12,
   "id": "3e37851e-93d7-4531-a600-aa51f62249a8",
   "metadata": {},
   "outputs": [
    {
     "name": "stdout",
     "output_type": "stream",
     "text": [
      "링크 추출 : ['https://example.com', 'http://test.com']\n"
     ]
    }
   ],
   "source": [
    "# 4. 링크 추출\n",
    "\n",
    "link_pattern =r'https?://[^\\s\"<]+'\n",
    "links = re.findall(link_pattern, html_content)\n",
    "print(\"링크 추출 :\",links)"
   ]
  },
  {
   "cell_type": "code",
   "execution_count": 18,
   "id": "c56c6ebd-58c8-4941-9ff1-9d41dd626432",
   "metadata": {},
   "outputs": [
    {
     "name": "stdout",
     "output_type": "stream",
     "text": [
      "특수문자 추출 : ['<', '!', '>', '<', '=', '\"', '\"', '>', '<', '>', '<', '=', '\"', '-', '\"', '>', '<', '=', '\"', '\"', '=', '\"', '=', '-', ',', '-', '=', '.', '\"', '>', '<', '>', '<', '/', '>', '<', '/', '>', '<', '>', '<', '>', '<', '/', '>', '<', '>', '.', '<', '/', '>', '<', '>', '<', '/', '>', '<', '>', '<', '>', ':', '@', '.', '<', '/', '>', '<', '>', ':', '@', '.', '<', '/', '>', '<', '>', ':', '(', ')', '-', '<', '/', '>', '<', '>', ':', '-', '-', '<', '/', '>', '<', '/', '>', '<', '>', '<', '/', '>', '<', '=', '\"', '\"', '>', '<', '>', '<', '/', '>', '<', '>', ':', '$', '.', '<', '/', '>', '<', '>', ':', '!', '<', '/', '>', '<', '/', '>', '<', '=', '\"', '\"', '>', '<', '>', '<', '/', '>', '<', '>', ':', '$', '.', '<', '/', '>', '<', '>', ':', '!', '<', '/', '>', '<', '/', '>', '<', '>', '<', '/', '>', '<', '>', '<', '=', '\"', ':', '/', '/', '.', '\"', '>', '<', '/', '>', '<', '=', '\"', ':', '/', '/', '.', '\"', '>', '<', '/', '>', '!', '<', '/', '>', '<', '>', '<', '/', '>', '<', '>', '<', '>', '(', ')', '<', '/', '>', '<', '>', '(', ')', '<', '/', '>', '<', '>', '(', ')', '<', '/', '>', '<', '>', '(', ')', '<', '/', '>', '<', '/', '>', '<', '>', '<', '/', '>', '<', '>', ':', '@', '#', '$', '%', '^', '&', '*', '(', ')', '+', '[', ']', '{', '}', '|', ';', \"'\", ':', '\"', ',', '.', '<', '>', '?', '/', '~', '`', '<', '/', '>', '<', '>', '<', '/', '>', '<', '>', '<', '!', '-', '-', '-', '-', '>', '<', '>', '.', '<', '/', '>', '<', '/', '>', '<', '>', '<', '/', '>', '<', '>', '<', '>', '&', ';', '.', '.', '<', '/', '>', '<', '/', '>', '<', '/', '>', '<', '/', '>']\n"
     ]
    }
   ],
   "source": [
    "# 5. 특수 문자 추출\n",
    "\n",
    "special_char_pattern = r'[^\\w\\s]'\n",
    "special_chars = re.findall(special_char_pattern, html_content)\n",
    "print(\"특수문자 추출 :\",special_chars)\n"
   ]
  },
  {
   "cell_type": "code",
   "execution_count": 20,
   "id": "4d09d6dd-15a2-466e-8406-e9cbf9fa72b4",
   "metadata": {},
   "outputs": [
    {
     "name": "stdout",
     "output_type": "stream",
     "text": [
      "주석 재거: <!DOCTYPE html>\n",
      "<html lang=\"en\">\n",
      "<head>\n",
      "    <meta charset=\"UTF-8\">\n",
      "    <meta name=\"viewport\" content=\"width=device-width, initial-scale=1.0\">\n",
      "    <title>Sample HTML for Regex</title>\n",
      "</head>\n",
      "<body>\n",
      "    <h1>Sample HTML Document</h1>\n",
      "    <p>This is a sample HTML document to demonstrate various regex patterns.</p>\n",
      "    \n",
      "    <h2>Contact Information</h2>\n",
      "    <ul>\n",
      "        <li>Email: test@example.com</li>\n",
      "        <li>Email: hello@world.net</li>\n",
      "        <li>Phone: (123) 456-7890</li>\n",
      "        <li>Phone: 987-654-3210</li>\n",
      "    </ul>\n",
      "    \n",
      "    <h2>Products</h2>\n",
      "    <div class=\"product\">\n",
      "        <h3>Product 1</h3>\n",
      "        <p>Price: $19.99</p>\n",
      "        <p>Description: A great product for everyone!</p>\n",
      "    </div>\n",
      "    <div class=\"product\">\n",
      "        <h3>Product 2</h3>\n",
      "        <p>Price: $29.99</p>\n",
      "        <p>Description: Another fantastic product!</p>\n",
      "    </div>\n",
      "    \n",
      "    <h2>Links</h2>\n",
      "    <p>Visit <a href=\"https://example.com\">Example</a> or <a href=\"http://test.com\">Test</a>!</p>\n",
      "    \n",
      "    <h2>List of Items</h2>\n",
      "    <ul>\n",
      "        <li>(Apple)</li>\n",
      "        <li>(Banana)</li>\n",
      "        <li>(Orange)</li>\n",
      "        <li>(Grapes)</li>\n",
      "    </ul>\n",
      "\n",
      "    <h2>Text with Special Characters</h2>\n",
      "    <p>Special characters: @#$%^&*()_+[]{}|;':\",.<>?/~`</p>\n",
      "\n",
      "    <h2>Comments</h2>\n",
      "    <div>\n",
      "        \n",
      "        <p>Some more text here.</p>\n",
      "    </div>\n",
      "\n",
      "    <h2>Footer</h2>\n",
      "    <footer>\n",
      "        <p>&copy; 2023 Sample Company. All rights reserved.</p>\n",
      "    </footer>\n",
      "</body>\n",
      "</html>\n",
      "\n",
      "\n"
     ]
    }
   ],
   "source": [
    "# 6. 주석 제거\n",
    "# re.DOTALL : \\n 를 포함한 모든문자와 매치되도록\n",
    "\n",
    "comment_pattern = r\"<!--.*?-->\"\n",
    "cleaned_html = re.sub(comment_pattern,'',html_content, flags=re.DOTALL)\n",
    "print(\"주석 재거:\",cleaned_html)"
   ]
  },
  {
   "cell_type": "code",
   "execution_count": 22,
   "id": "bd935da4-8829-4526-a015-04b962d40825",
   "metadata": {},
   "outputs": [
    {
     "name": "stdout",
     "output_type": "stream",
     "text": [
      "괄호 내용 추출 : ['123', 'Apple', 'Banana', 'Orange', 'Grapes', '']\n"
     ]
    }
   ],
   "source": [
    "# 7. 괄호 안의 내용 추출\n",
    "\n",
    "parenthesis_pattern = r'\\((.*?)\\)'\n",
    "items = re.findall(parenthesis_pattern, html_content)\n",
    "print(\"괄호 내용 추출 :\",items)"
   ]
  },
  {
   "cell_type": "code",
   "execution_count": 32,
   "id": "7606eb02-7d26-4bd0-b57e-66a9df1b866c",
   "metadata": {},
   "outputs": [
    {
     "name": "stdout",
     "output_type": "stream",
     "text": [
      "텍스트 추출 : Sample HTML for Regex\n",
      "텍스트 추출 : Sample HTML Document\n",
      "텍스트 추출 : This is a sample HTML document to demonstrate various regex patterns.\n",
      "텍스트 추출 : Contact Information\n",
      "텍스트 추출 : Email: test@example.com\n",
      "텍스트 추출 : Email: hello@world.net\n",
      "텍스트 추출 : Phone: (123) 456-7890\n",
      "텍스트 추출 : Phone: 987-654-3210\n",
      "텍스트 추출 : Products\n",
      "텍스트 추출 : Product 1\n",
      "텍스트 추출 : Price: $19.99\n",
      "텍스트 추출 : Description: A great product for everyone!\n",
      "텍스트 추출 : Product 2\n",
      "텍스트 추출 : Price: $29.99\n",
      "텍스트 추출 : Description: Another fantastic product!\n",
      "텍스트 추출 : Links\n",
      "텍스트 추출 : Visit\n",
      "텍스트 추출 : Example\n",
      "텍스트 추출 : or\n",
      "텍스트 추출 : Test\n",
      "텍스트 추출 : List of Items\n",
      "텍스트 추출 : Text with Special Characters\n",
      "텍스트 추출 : Special characters: @#$%^&*()_+[]{}|;':\",.\n",
      "텍스트 추출 : Comments\n",
      "텍스트 추출 : Some more text here.\n",
      "텍스트 추출 : Footer\n"
     ]
    }
   ],
   "source": [
    "# 8. 모든 텍스트 추출\n",
    "\n",
    "text_pattern = r'>\\s*(\\w+.*?)\\s*<'\n",
    "for text in re.finditer(text_pattern, html_content):\n",
    "    print(\"텍스트 추출 :\",text.group(1))\n",
    "\n",
    "# texts = re.findall(text_pattern, html_content)\n",
    "# print(texts)"
   ]
  },
  {
   "cell_type": "code",
   "execution_count": 34,
   "id": "498bb764-cef1-4424-a6c8-4d9692c8b8e6",
   "metadata": {},
   "outputs": [
    {
     "name": "stdout",
     "output_type": "stream",
     "text": [
      "제품 이름 추출: ['Product 1', 'Product 2']\n"
     ]
    }
   ],
   "source": [
    "# 9. 제품 이름 추출\n",
    "\n",
    "product_name_pattern = r'<h3>(.*?)</h3>'\n",
    "product_names = re.findall(product_name_pattern, html_content)\n",
    "print(\"제품 이름 추출:\",product_names)"
   ]
  },
  {
   "cell_type": "code",
   "execution_count": 40,
   "id": "641de3dc-1f2c-4bdd-95eb-1de8d4ed4299",
   "metadata": {},
   "outputs": [
    {
     "name": "stdout",
     "output_type": "stream",
     "text": [
      "제품 가격 추출:  ['19.99', '29.99']\n"
     ]
    }
   ],
   "source": [
    "# 10. 제품 가격 추출\n",
    "\n",
    "product_price_pattern =r\"Price:\\s*\\$(\\d+\\.\\d{2})\"\n",
    "product_prices = re.findall(product_price_pattern, html_content)\n",
    "print(\"제품 가격 추출: \",product_prices)"
   ]
  },
  {
   "cell_type": "code",
   "execution_count": 46,
   "id": "046bfd36-c0b5-49f1-923e-e024d8d3c7a4",
   "metadata": {},
   "outputs": [
    {
     "name": "stdout",
     "output_type": "stream",
     "text": [
      "Footer 내용 추출 : &copy; 2023 Sample Company. All rights reserved.\n",
      "<footer>\n",
      "        <p>&copy; 2023 Sample Company. All rights reserved.</p>\n",
      "    </footer>\n",
      "&copy; 2023 Sample Company. All rights reserved.\n"
     ]
    }
   ],
   "source": [
    "# 11. Footer 내용 추출\n",
    "\n",
    "footer_pattern = r'<footer>.*<p>(.*?)</p>.*</footer>'\n",
    "for content in re.finditer(footer_pattern, html_content, flags =re.DOTALL):\n",
    "    print(\"Footer 내용 추출 :\",content.group(1).strip())\n",
    "\n",
    "match = re.search(footer_pattern, html_content, flags =re.DOTALL)\n",
    "print(match.group())  # 패턴 그룹 전체\n",
    "print(match.group(1)) # 캡춰그룹만"
   ]
  },
  {
   "cell_type": "code",
   "execution_count": 54,
   "id": "47a7e8da-c843-4eb9-b769-4683ff8d8a58",
   "metadata": {},
   "outputs": [
    {
     "name": "stdout",
     "output_type": "stream",
     "text": [
      "모든 링크의 텍스트 추출: ['Example', 'Test']\n"
     ]
    }
   ],
   "source": [
    "# 12. 모든 링크의 텍스트 추출\n",
    "\n",
    "link_text_pattern = r'<a href=\"[^\"]*\">(.*?)</a>'\n",
    "link_texts = re.findall(link_text_pattern, html_content)\n",
    "print(\"모든 링크의 텍스트 추출:\",link_texts)"
   ]
  },
  {
   "cell_type": "code",
   "execution_count": 56,
   "id": "df23b2fb-a7e3-4e82-87f2-b30027b32467",
   "metadata": {},
   "outputs": [
    {
     "name": "stdout",
     "output_type": "stream",
     "text": [
      "모든 li요소 내용 추출 : ['Email: test@example.com', 'Email: hello@world.net', 'Phone: (123) 456-7890', 'Phone: 987-654-3210', '(Apple)', '(Banana)', '(Orange)', '(Grapes)']\n"
     ]
    }
   ],
   "source": [
    "# 13. 모든 <li> 요소의 내용 추출\n",
    "\n",
    "list_item_pattern = r'<li>(.*?)</li>'\n",
    "list_items = re.findall(list_item_pattern, html_content)\n",
    "print(\"모든 li요소 내용 추출 :\",list_items)"
   ]
  },
  {
   "cell_type": "code",
   "execution_count": 60,
   "id": "ddce3db1-3e55-43d9-b851-459e2680f53d",
   "metadata": {},
   "outputs": [
    {
     "name": "stdout",
     "output_type": "stream",
     "text": [
      "특정 단어 찾기:  ['product', 'Product', 'product', 'product', 'Product', 'product']\n"
     ]
    }
   ],
   "source": [
    "# 14. 특정 단어 찾기\n",
    "#re.IGNORECASE 대소문자 구분없이 찾기\n",
    "\n",
    "word_pattern = r'\\bproduct\\b' # 단어경\n",
    "found_words = re.findall(word_pattern,html_content, flags=re.IGNORECASE)\n",
    "print(\"특정 단어 찾기: \",found_words)"
   ]
  },
  {
   "cell_type": "code",
   "execution_count": 62,
   "id": "d0c0f38c-7269-4c60-83f3-f927675b2dd5",
   "metadata": {},
   "outputs": [
    {
     "name": "stdout",
     "output_type": "stream",
     "text": [
      "특정 css 요소 추출: \n",
      "        <h3>Product 1</h3>\n",
      "        <p>Price: $19.99</p>\n",
      "        <p>Description: A great product for everyone!</p>\n",
      "    \n",
      "특정 css 요소 추출: \n",
      "        <h3>Product 2</h3>\n",
      "        <p>Price: $29.99</p>\n",
      "        <p>Description: Another fantastic product!</p>\n",
      "    \n"
     ]
    }
   ],
   "source": [
    "# 15. 특정 CSS 클래스의 요소 추출\n",
    "product_div_pattern = r'<div class=\"product\">(.*?)</div>'\n",
    "for product in re.finditer(product_div_pattern,html_content, flags =re.DOTALL):\n",
    "    print(\"특정 css 요소 추출:\",product.group(1))"
   ]
  },
  {
   "cell_type": "code",
   "execution_count": 64,
   "id": "99d0b3f5-8134-4e04-9461-4982bf06583d",
   "metadata": {},
   "outputs": [
    {
     "name": "stdout",
     "output_type": "stream",
     "text": [
      "['\\r\\n        <h3>Product 1</h3>\\r\\n        <p>Price: $19.99</p>\\r\\n        <p>Description: A great product for everyone!</p>\\r\\n    ', '\\r\\n        <h3>Product 2</h3>\\r\\n        <p>Price: $29.99</p>\\r\\n        <p>Description: Another fantastic product!</p>\\r\\n    ']\n"
     ]
    }
   ],
   "source": [
    "product_items = re.findall(product_div_pattern, html_content, flags=re.DOTALL)\n",
    "print(product_items)"
   ]
  },
  {
   "cell_type": "code",
   "execution_count": 68,
   "id": "74c62786-1115-40d9-bc03-4a34d327ea50",
   "metadata": {},
   "outputs": [
    {
     "name": "stdout",
     "output_type": "stream",
     "text": [
      "특정 css 요소 추출: Product 1\n",
      "Price: $19.99\n",
      "Description: A great product for everyone!\n",
      "특정 css 요소 추출: Product 2\n",
      "Price: $29.99\n",
      "Description: Another fantastic product!\n"
     ]
    }
   ],
   "source": [
    "from bs4 import BeautifulSoup\n",
    "import requests\n",
    "\n",
    "url = \"http://lecture.pul.kr/ex6.html\"\n",
    "response = requests.get(url)\n",
    "html_content = response.text\n",
    "\n",
    "soup = BeautifulSoup(html_content, 'html.parser')\n",
    "product_divs = soup.select('div.product')\n",
    "for product in product_divs:\n",
    "    print(\"특정 css 요소 추출:\",product.text.strip())"
   ]
  },
  {
   "cell_type": "code",
   "execution_count": 78,
   "id": "daca1985-a311-41c8-aa3a-eb7b1e97f76f",
   "metadata": {},
   "outputs": [
    {
     "name": "stdout",
     "output_type": "stream",
     "text": [
      "모든 헤더 추출: ['Sample HTML Document', 'Contact Information', 'Products', 'Product 1', 'Product 2', 'Links', 'List of Items', 'Text with Special Characters', 'Comments', 'Footer']\n"
     ]
    }
   ],
   "source": [
    "# 16. 모든 헤더 추출\n",
    "header_pattern = r'<h[1-6]>(.*?)</h[1-6]>'\n",
    "headers = re.findall(header_pattern,html_content)\n",
    "print(\"모든 헤더 추출:\",headers)"
   ]
  },
  {
   "cell_type": "code",
   "execution_count": 80,
   "id": "0bf65dc2-d96b-4dee-a474-fcbc6496a878",
   "metadata": {},
   "outputs": [
    {
     "name": "stdout",
     "output_type": "stream",
     "text": [
      "P 요소 안의 텍스트 추출: ['This is a sample HTML document to demonstrate various regex patterns.', 'Price: $19.99', 'Description: A great product for everyone!', 'Price: $29.99', 'Description: Another fantastic product!', 'Visit <a href=\"https://example.com\">Example</a> or <a href=\"http://test.com\">Test</a>!', 'Special characters: @#$%^&*()_+[]{}|;\\':\",.<>?/~`', 'Some more text here.', '&copy; 2023 Sample Company. All rights reserved.']\n"
     ]
    }
   ],
   "source": [
    "# 17. <p> 요소 안의 텍스트 추출\n",
    "paragraph_pattern = r'<p>(.*?)</p>'\n",
    "paragraphs = re.findall(paragraph_pattern,html_content,flags=re.DOTALL)\n",
    "print(\"P 요소 안의 텍스트 추출:\",paragraphs)"
   ]
  },
  {
   "cell_type": "code",
   "execution_count": 94,
   "id": "12ad4a1c-dcd9-4e65-8c29-53dfd8cac966",
   "metadata": {},
   "outputs": [
    {
     "name": "stdout",
     "output_type": "stream",
     "text": [
      "특정 키워드가 포함된 li 요소 찾기:  ['<li>(Banana)</li>']\n"
     ]
    }
   ],
   "source": [
    "# 18. 특정 키워드가 포함된 <li> 요소 찾기\n",
    "keyword = \"Banana\"\n",
    "keyword_item_patter = rf'<li>.*?{keyword}.*?</li>' # r스트링 f스트링 동시사용\n",
    "keyword_items = re.findall(keyword_item_patter,html_content)\n",
    "print(\"특정 키워드가 포함된 li 요소 찾기: \",keyword_items)"
   ]
  },
  {
   "cell_type": "code",
   "execution_count": 104,
   "id": "7f2daf8a-0e52-4b3e-a042-e93a0044f88b",
   "metadata": {},
   "outputs": [
    {
     "name": "stdout",
     "output_type": "stream",
     "text": [
      "[19.99, 29.99]\n",
      "특정 가격 이상인 제품 찾기:  ['Product 2']\n"
     ]
    }
   ],
   "source": [
    "# 19. 특정 가격 이상인 제품 찾기\n",
    "threshold_price = 20.00\n",
    "# for price in re.findall(price_pattern,html_content):\n",
    "#     print(price)\n",
    "# float(price[1:]): '$19.99' --> '19.99' -->19.99\n",
    "price_values = [float(price[1:]) for price in re.findall(price_pattern,html_content)]\n",
    "#print(price_values)\n",
    "\n",
    "my_product = [product_names[i] for i in range(len(product_names))if price_values[i] > threshold_price]\n",
    "print(\"특정 가격 이상인 제품 찾기: \",my_product)"
   ]
  },
  {
   "cell_type": "code",
   "execution_count": 106,
   "id": "577e2ec0-1531-4478-9b2d-27d1b8d06ebf",
   "metadata": {},
   "outputs": [
    {
     "name": "stdout",
     "output_type": "stream",
     "text": [
      "HTML에서 특정 텍스트를 대체하기:  <!DOCTYPE html>\n",
      "<html lang=\"en\">\n",
      "<head>\n",
      "    <meta charset=\"UTF-8\">\n",
      "    <meta name=\"viewport\" content=\"width=device-width, initial-scale=1.0\">\n",
      "    <title>Sample HTML for Regex</title>\n",
      "</head>\n",
      "<body>\n",
      "    <h1>Updated HTML Docuemnt</h1>\n",
      "    <p>This is a sample HTML document to demonstrate various regex patterns.</p>\n",
      "    \n",
      "    <h2>Contact Information</h2>\n",
      "    <ul>\n",
      "        <li>Email: test@example.com</li>\n",
      "        <li>Email: hello@world.net</li>\n",
      "        <li>Phone: (123) 456-7890</li>\n",
      "        <li>Phone: 987-654-3210</li>\n",
      "    </ul>\n",
      "    \n",
      "    <h2>Products</h2>\n",
      "    <div class=\"product\">\n",
      "        <h3>Product 1</h3>\n",
      "        <p>Price: $19.99</p>\n",
      "        <p>Description: A great product for everyone!</p>\n",
      "    </div>\n",
      "    <div class=\"product\">\n",
      "        <h3>Product 2</h3>\n",
      "        <p>Price: $29.99</p>\n",
      "        <p>Description: Another fantastic product!</p>\n",
      "    </div>\n",
      "    \n",
      "    <h2>Links</h2>\n",
      "    <p>Visit <a href=\"https://example.com\">Example</a> or <a href=\"http://test.com\">Test</a>!</p>\n",
      "    \n",
      "    <h2>List of Items</h2>\n",
      "    <ul>\n",
      "        <li>(Apple)</li>\n",
      "        <li>(Banana)</li>\n",
      "        <li>(Orange)</li>\n",
      "        <li>(Grapes)</li>\n",
      "    </ul>\n",
      "\n",
      "    <h2>Text with Special Characters</h2>\n",
      "    <p>Special characters: @#$%^&*()_+[]{}|;':\",.<>?/~`</p>\n",
      "\n",
      "    <h2>Comments</h2>\n",
      "    <div>\n",
      "        <!-- This is a comment -->\n",
      "        <p>Some more text here.</p>\n",
      "    </div>\n",
      "\n",
      "    <h2>Footer</h2>\n",
      "    <footer>\n",
      "        <p>&copy; 2023 Sample Company. All rights reserved.</p>\n",
      "    </footer>\n",
      "</body>\n",
      "</html>\n",
      "\n",
      "\n"
     ]
    }
   ],
   "source": [
    "# 20. 특정 텍스트 대체\n",
    "modified_html = re.sub(r\"Sample HTML Document\",'Updated HTML Docuemnt',html_content)\n",
    "print(\"HTML에서 특정 텍스트를 대체하기: \",modified_html)"
   ]
  },
  {
   "cell_type": "code",
   "execution_count": null,
   "id": "f2ec1eae-3298-4c2e-8af0-972b6619b791",
   "metadata": {},
   "outputs": [],
   "source": []
  }
 ],
 "metadata": {
  "kernelspec": {
   "display_name": "Python 3 (ipykernel)",
   "language": "python",
   "name": "python3"
  },
  "language_info": {
   "codemirror_mode": {
    "name": "ipython",
    "version": 3
   },
   "file_extension": ".py",
   "mimetype": "text/x-python",
   "name": "python",
   "nbconvert_exporter": "python",
   "pygments_lexer": "ipython3",
   "version": "3.12.7"
  }
 },
 "nbformat": 4,
 "nbformat_minor": 5
}
