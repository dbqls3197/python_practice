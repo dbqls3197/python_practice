{
 "cells": [
  {
   "cell_type": "markdown",
   "id": "eabe4000-18f8-4455-9b0b-ac8182aada1e",
   "metadata": {},
   "source": [
    "## 판다스\n",
    "- 판다스는 데이터 작업에 사용되는 라이브러리로 데이터 분석, 정리, 탐색, 조작을 위한 기능이 포함되어 있다.\n",
    "- 판다스를 사용하면 빅데이터 분석은 물론 통계 이론에 기반한 데이터 분석이 가능하다.\n",
    "- 판다스는 정제되지 않은 데이터를 정리하여 가독성과 연관성이 높은 데이터로 만들 수 있다.\n",
    "- 판다스는 결측치, 중복, 불균형 데이터와 같이 잘못된 값을 포함하는 행을 삭제 및 변경할 수도 있다."
   ]
  },
  {
   "cell_type": "code",
   "execution_count": 11,
   "id": "e7c80269-4968-44e6-b902-f6939952a39f",
   "metadata": {},
   "outputs": [
    {
     "data": {
      "text/html": [
       "<div>\n",
       "<style scoped>\n",
       "    .dataframe tbody tr th:only-of-type {\n",
       "        vertical-align: middle;\n",
       "    }\n",
       "\n",
       "    .dataframe tbody tr th {\n",
       "        vertical-align: top;\n",
       "    }\n",
       "\n",
       "    .dataframe thead th {\n",
       "        text-align: right;\n",
       "    }\n",
       "</style>\n",
       "<table border=\"1\" class=\"dataframe\">\n",
       "  <thead>\n",
       "    <tr style=\"text-align: right;\">\n",
       "      <th></th>\n",
       "      <th>도시</th>\n",
       "      <th>인구</th>\n",
       "    </tr>\n",
       "  </thead>\n",
       "  <tbody>\n",
       "    <tr>\n",
       "      <th>0</th>\n",
       "      <td>서울</td>\n",
       "      <td>940</td>\n",
       "    </tr>\n",
       "    <tr>\n",
       "      <th>1</th>\n",
       "      <td>부산</td>\n",
       "      <td>330</td>\n",
       "    </tr>\n",
       "    <tr>\n",
       "      <th>2</th>\n",
       "      <td>울산</td>\n",
       "      <td>110</td>\n",
       "    </tr>\n",
       "  </tbody>\n",
       "</table>\n",
       "</div>"
      ],
      "text/plain": [
       "   도시   인구\n",
       "0  서울  940\n",
       "1  부산  330\n",
       "2  울산  110"
      ]
     },
     "execution_count": 11,
     "metadata": {},
     "output_type": "execute_result"
    }
   ],
   "source": [
    "## 판다스 기본 형태\n",
    "import pandas as pd\n",
    "\n",
    "city = {\n",
    "    '도시': ['서울','부산','울산'],\n",
    "    '인구':[940,330,110]\n",
    "}\n",
    "\n",
    "\n",
    "df = pd.DataFrame(city)\n",
    "df"
   ]
  },
  {
   "cell_type": "code",
   "execution_count": 13,
   "id": "0eab7c38-ac4e-47ee-8906-566462781e66",
   "metadata": {},
   "outputs": [
    {
     "data": {
      "text/plain": [
       "0    서울\n",
       "1    부산\n",
       "2    울산\n",
       "dtype: object"
      ]
     },
     "execution_count": 13,
     "metadata": {},
     "output_type": "execute_result"
    }
   ],
   "source": [
    "import pandas as pd\n",
    "city = ['서울','부산','울산']\n",
    "df = pd.Series(city)\n",
    "df"
   ]
  },
  {
   "cell_type": "code",
   "execution_count": 15,
   "id": "34051a7c-68fc-4560-a4ea-4fea096d72b1",
   "metadata": {},
   "outputs": [
    {
     "data": {
      "text/plain": [
       "a    서울\n",
       "b    부산\n",
       "c    울산\n",
       "dtype: object"
      ]
     },
     "execution_count": 15,
     "metadata": {},
     "output_type": "execute_result"
    }
   ],
   "source": [
    "df = pd.Series(city,index = ['a','b','c'])\n",
    "df"
   ]
  },
  {
   "cell_type": "code",
   "execution_count": 17,
   "id": "ccf417a4-7b04-47dc-b6f0-378ea91efdbd",
   "metadata": {},
   "outputs": [
    {
     "data": {
      "text/plain": [
       "'서울'"
      ]
     },
     "execution_count": 17,
     "metadata": {},
     "output_type": "execute_result"
    }
   ],
   "source": [
    "df['a']"
   ]
  },
  {
   "cell_type": "code",
   "execution_count": 19,
   "id": "8419af8d-17a6-4e6c-811e-70f1d7b9d667",
   "metadata": {},
   "outputs": [
    {
     "data": {
      "text/plain": [
       "'부산'"
      ]
     },
     "execution_count": 19,
     "metadata": {},
     "output_type": "execute_result"
    }
   ],
   "source": [
    "df['b']"
   ]
  },
  {
   "cell_type": "code",
   "execution_count": 23,
   "id": "5fe081ac-9dda-4c51-8607-43d9231a1804",
   "metadata": {},
   "outputs": [
    {
     "data": {
      "text/plain": [
       "서울    940\n",
       "부산    330\n",
       "울산    110\n",
       "dtype: int64"
      ]
     },
     "execution_count": 23,
     "metadata": {},
     "output_type": "execute_result"
    }
   ],
   "source": [
    "import pandas as pd\n",
    "city = {'서울':940,'부산':330,'울산':110}\n",
    "df =pd.Series(city)\n",
    "df"
   ]
  },
  {
   "cell_type": "code",
   "execution_count": 25,
   "id": "7177ac59-a785-46e3-b2fe-11d0527b3b2d",
   "metadata": {},
   "outputs": [
    {
     "data": {
      "text/plain": [
       "940"
      ]
     },
     "execution_count": 25,
     "metadata": {},
     "output_type": "execute_result"
    }
   ],
   "source": [
    "df['서울']"
   ]
  },
  {
   "cell_type": "code",
   "execution_count": 75,
   "id": "4e461cc5-d813-49f8-9f33-95fb3266f031",
   "metadata": {},
   "outputs": [
    {
     "data": {
      "text/plain": [
       "0    10\n",
       "1    20\n",
       "2    30\n",
       "3    40\n",
       "dtype: int64"
      ]
     },
     "execution_count": 75,
     "metadata": {},
     "output_type": "execute_result"
    }
   ],
   "source": [
    "import pandas as pd\n",
    "data =[10, 20, 30, 40]\n",
    "series= pd.Series(data)\n",
    "series"
   ]
  },
  {
   "cell_type": "code",
   "execution_count": 35,
   "id": "d1a5480f-e7a4-471d-b658-5911ccfe424d",
   "metadata": {},
   "outputs": [
    {
     "data": {
      "text/plain": [
       "a    10\n",
       "b    20\n",
       "c    30\n",
       "d    40\n",
       "dtype: int64"
      ]
     },
     "execution_count": 35,
     "metadata": {},
     "output_type": "execute_result"
    }
   ],
   "source": [
    "data =[10, 20, 30, 40]\n",
    "index=['a','b','c','d']\n",
    "series= pd.Series(data, index=index)\n",
    "series"
   ]
  },
  {
   "cell_type": "code",
   "execution_count": 37,
   "id": "f7bbf3e7-8a62-478a-aebd-abf511e94811",
   "metadata": {},
   "outputs": [
    {
     "name": "stdout",
     "output_type": "stream",
     "text": [
      "Mean: 25.0\n",
      "Sum: 100\n",
      "Max: 40\n",
      "Standard Deviation: 12.909944487358056\n"
     ]
    }
   ],
   "source": [
    "print(\"Mean:\",series.mean())  #평균\n",
    "print(\"Sum:\",series.sum())    #합계 \n",
    "print(\"Max:\",series.max())    #최대값\n",
    "print(\"Standard Deviation:\",series.std())  #표준편차"
   ]
  },
  {
   "cell_type": "code",
   "execution_count": 39,
   "id": "7c0d3b21-0731-46a9-abef-e8453bbd8f1e",
   "metadata": {},
   "outputs": [
    {
     "data": {
      "text/plain": [
       "30"
      ]
     },
     "execution_count": 39,
     "metadata": {},
     "output_type": "execute_result"
    }
   ],
   "source": [
    "# 원소 접근\n",
    "series[\"c\"]"
   ]
  },
  {
   "cell_type": "code",
   "execution_count": 41,
   "id": "9efe3801-c6ab-4b83-8756-33f063e9d92c",
   "metadata": {},
   "outputs": [
    {
     "name": "stdout",
     "output_type": "stream",
     "text": [
      "c    30\n",
      "d    40\n",
      "dtype: int64\n"
     ]
    }
   ],
   "source": [
    "# 특정조건 요소 선택\n",
    "filered = series[series>20]\n",
    "print(filered)"
   ]
  },
  {
   "cell_type": "code",
   "execution_count": 43,
   "id": "3c31c4bc-942b-4de5-aedc-30658d0fbe02",
   "metadata": {},
   "outputs": [
    {
     "data": {
      "text/plain": [
       "a     10\n",
       "b     20\n",
       "c    100\n",
       "d     40\n",
       "dtype: int64"
      ]
     },
     "execution_count": 43,
     "metadata": {},
     "output_type": "execute_result"
    }
   ],
   "source": [
    "series['c'] = 100\n",
    "series"
   ]
  },
  {
   "cell_type": "code",
   "execution_count": 47,
   "id": "fb456317-5e5a-48e1-a68f-d99bf77aa7b4",
   "metadata": {},
   "outputs": [
    {
     "name": "stdout",
     "output_type": "stream",
     "text": [
      "a     10\n",
      "b     20\n",
      "c    100\n",
      "d     40\n",
      "e     50\n",
      "dtype: int64\n"
     ]
    }
   ],
   "source": [
    "# 원소 추가\n",
    "series['e'] = 50\n",
    "print(series)"
   ]
  },
  {
   "cell_type": "code",
   "execution_count": 55,
   "id": "8a628f96-53a2-4c04-9128-41d471d41c84",
   "metadata": {},
   "outputs": [
    {
     "name": "stdout",
     "output_type": "stream",
     "text": [
      "b     20\n",
      "c    100\n",
      "d     40\n",
      "e     50\n",
      "dtype: int64\n"
     ]
    }
   ],
   "source": [
    "series = series.drop('a')\n",
    "print(series)"
   ]
  },
  {
   "cell_type": "code",
   "execution_count": 89,
   "id": "606891fa-44df-477d-94c4-bacdd2ed8420",
   "metadata": {},
   "outputs": [
    {
     "name": "stdout",
     "output_type": "stream",
     "text": [
      "b    10\n",
      "c    30\n",
      "d    50\n",
      "e    70\n",
      "dtype: int64\n"
     ]
    }
   ],
   "source": [
    "data2 =[5, 15, 25, 35]\n",
    "series =pd.Series(data2,index=['b','c','d','e'])\n",
    "result =series +series2\n",
    "print(result)\n",
    "                               "
   ]
  },
  {
   "cell_type": "code",
   "execution_count": 63,
   "id": "39722179-fe32-4b75-98af-aa7508fc54db",
   "metadata": {},
   "outputs": [
    {
     "data": {
      "text/plain": [
       "DatetimeIndex(['2023-01-01', '2023-01-02', '2023-01-03', '2023-01-04',\n",
       "               '2023-01-05'],\n",
       "              dtype='datetime64[ns]', freq='D')"
      ]
     },
     "execution_count": 63,
     "metadata": {},
     "output_type": "execute_result"
    }
   ],
   "source": [
    "date_range =pd.date_range(start='2023-01-01',periods=5)\n",
    "date_range"
   ]
  },
  {
   "cell_type": "code",
   "execution_count": 65,
   "id": "8fbdf9df-f6e1-42ee-a1e4-0e53b4a2ce98",
   "metadata": {},
   "outputs": [
    {
     "data": {
      "text/plain": [
       "2023-01-01    1\n",
       "2023-01-02    3\n",
       "2023-01-03    5\n",
       "2023-01-04    7\n",
       "2023-01-05    9\n",
       "Freq: D, dtype: int64"
      ]
     },
     "execution_count": 65,
     "metadata": {},
     "output_type": "execute_result"
    }
   ],
   "source": [
    "time_series = pd.Series([1,3,5,7,9], index=date_range)\n",
    "time_series"
   ]
  },
  {
   "cell_type": "code",
   "execution_count": null,
   "id": "9659182b-ed14-46f3-b041-f02151d7230b",
   "metadata": {},
   "outputs": [],
   "source": [
    "# 시리즈(1차원)를 데이터 프레임(2차원)으로 변환\n",
    "df = time_series.to_frame(name='Values')\n",
    "df"
   ]
  },
  {
   "cell_type": "markdown",
   "id": "f0a0f668-bcd4-47fa-8b1e-05cd548aa4f3",
   "metadata": {},
   "source": [
    "## 판다스 데이터 프레임(DataFrame)\n",
    "- 일반적으로 판다스에서는 데이터프레임이라고 하는 2차원 배열(행,열 구성)을 사용한다.\n",
    "- 데이터프레임은 2차원 배열 또는 행열로 구성된 2차원 테이블 구조를 가진다.\n",
    "- 딕셔너리(Dicitionary) 형태의 데이터로 데이터프레임을 만들 수 있다.\n",
    "- 두 개의 시리즈가 모여서 데이터프레임을 생성하는 것과 같다.\n",
    "- 딕셔너리의 키(Key)값은 컬럼명(필드명)으로 생성"
   ]
  },
  {
   "cell_type": "code",
   "execution_count": 92,
   "id": "f6b8e5ea-a06d-4392-b92b-3bc3d8f5fc64",
   "metadata": {},
   "outputs": [
    {
     "data": {
      "text/html": [
       "<div>\n",
       "<style scoped>\n",
       "    .dataframe tbody tr th:only-of-type {\n",
       "        vertical-align: middle;\n",
       "    }\n",
       "\n",
       "    .dataframe tbody tr th {\n",
       "        vertical-align: top;\n",
       "    }\n",
       "\n",
       "    .dataframe thead th {\n",
       "        text-align: right;\n",
       "    }\n",
       "</style>\n",
       "<table border=\"1\" class=\"dataframe\">\n",
       "  <thead>\n",
       "    <tr style=\"text-align: right;\">\n",
       "      <th></th>\n",
       "      <th>도시</th>\n",
       "      <th>인구</th>\n",
       "    </tr>\n",
       "  </thead>\n",
       "  <tbody>\n",
       "    <tr>\n",
       "      <th>0</th>\n",
       "      <td>서울</td>\n",
       "      <td>940</td>\n",
       "    </tr>\n",
       "    <tr>\n",
       "      <th>1</th>\n",
       "      <td>부산</td>\n",
       "      <td>330</td>\n",
       "    </tr>\n",
       "    <tr>\n",
       "      <th>2</th>\n",
       "      <td>울산</td>\n",
       "      <td>110</td>\n",
       "    </tr>\n",
       "  </tbody>\n",
       "</table>\n",
       "</div>"
      ],
      "text/plain": [
       "   도시   인구\n",
       "0  서울  940\n",
       "1  부산  330\n",
       "2  울산  110"
      ]
     },
     "execution_count": 92,
     "metadata": {},
     "output_type": "execute_result"
    }
   ],
   "source": [
    "import pandas as pd\n",
    "city = {\n",
    "    '도시':['서울','부산','울산'],\n",
    "    '인구':[940,330,110]\n",
    "}\n",
    "df= pd.DataFrame(city)\n",
    "df"
   ]
  },
  {
   "cell_type": "code",
   "execution_count": 94,
   "id": "588d7f48-2bb9-4fea-bbb1-aadea7a05b09",
   "metadata": {},
   "outputs": [
    {
     "data": {
      "text/plain": [
       "0    서울\n",
       "1    부산\n",
       "2    울산\n",
       "Name: 도시, dtype: object"
      ]
     },
     "execution_count": 94,
     "metadata": {},
     "output_type": "execute_result"
    }
   ],
   "source": [
    "df['도시']  # 필드명"
   ]
  },
  {
   "cell_type": "code",
   "execution_count": 96,
   "id": "5c849a67-973a-4396-b5b8-0cf41197f150",
   "metadata": {},
   "outputs": [
    {
     "data": {
      "text/plain": [
       "도시     서울\n",
       "인구    940\n",
       "Name: 0, dtype: object"
      ]
     },
     "execution_count": 96,
     "metadata": {},
     "output_type": "execute_result"
    }
   ],
   "source": [
    "df.loc[0] # loc를 사용하면 행단위로 나온다"
   ]
  },
  {
   "cell_type": "code",
   "execution_count": 98,
   "id": "ce8d37cf-63d6-4e97-90ce-683336c43c52",
   "metadata": {},
   "outputs": [
    {
     "data": {
      "text/html": [
       "<div>\n",
       "<style scoped>\n",
       "    .dataframe tbody tr th:only-of-type {\n",
       "        vertical-align: middle;\n",
       "    }\n",
       "\n",
       "    .dataframe tbody tr th {\n",
       "        vertical-align: top;\n",
       "    }\n",
       "\n",
       "    .dataframe thead th {\n",
       "        text-align: right;\n",
       "    }\n",
       "</style>\n",
       "<table border=\"1\" class=\"dataframe\">\n",
       "  <thead>\n",
       "    <tr style=\"text-align: right;\">\n",
       "      <th></th>\n",
       "      <th>도시</th>\n",
       "      <th>인구</th>\n",
       "    </tr>\n",
       "  </thead>\n",
       "  <tbody>\n",
       "    <tr>\n",
       "      <th>0</th>\n",
       "      <td>서울</td>\n",
       "      <td>940</td>\n",
       "    </tr>\n",
       "  </tbody>\n",
       "</table>\n",
       "</div>"
      ],
      "text/plain": [
       "   도시   인구\n",
       "0  서울  940"
      ]
     },
     "execution_count": 98,
     "metadata": {},
     "output_type": "execute_result"
    }
   ],
   "source": [
    "df.loc[[0]]  # [[]]형태로 사용하면 데이터 프레임형태로 나온다"
   ]
  },
  {
   "cell_type": "code",
   "execution_count": 110,
   "id": "ce12dc55-4730-4ee4-856e-20addd5154ec",
   "metadata": {},
   "outputs": [
    {
     "data": {
      "text/html": [
       "<div>\n",
       "<style scoped>\n",
       "    .dataframe tbody tr th:only-of-type {\n",
       "        vertical-align: middle;\n",
       "    }\n",
       "\n",
       "    .dataframe tbody tr th {\n",
       "        vertical-align: top;\n",
       "    }\n",
       "\n",
       "    .dataframe thead th {\n",
       "        text-align: right;\n",
       "    }\n",
       "</style>\n",
       "<table border=\"1\" class=\"dataframe\">\n",
       "  <thead>\n",
       "    <tr style=\"text-align: right;\">\n",
       "      <th></th>\n",
       "      <th>도시</th>\n",
       "      <th>인구</th>\n",
       "    </tr>\n",
       "  </thead>\n",
       "  <tbody>\n",
       "    <tr>\n",
       "      <th>0</th>\n",
       "      <td>서울</td>\n",
       "      <td>940</td>\n",
       "    </tr>\n",
       "    <tr>\n",
       "      <th>2</th>\n",
       "      <td>울산</td>\n",
       "      <td>110</td>\n",
       "    </tr>\n",
       "  </tbody>\n",
       "</table>\n",
       "</div>"
      ],
      "text/plain": [
       "   도시   인구\n",
       "0  서울  940\n",
       "2  울산  110"
      ]
     },
     "execution_count": 110,
     "metadata": {},
     "output_type": "execute_result"
    }
   ],
   "source": [
    "df.loc[[0,2]]"
   ]
  },
  {
   "cell_type": "code",
   "execution_count": 116,
   "id": "a3f9c9b1-6eee-4578-abd3-f159ca87c639",
   "metadata": {},
   "outputs": [
    {
     "data": {
      "text/html": [
       "<div>\n",
       "<style scoped>\n",
       "    .dataframe tbody tr th:only-of-type {\n",
       "        vertical-align: middle;\n",
       "    }\n",
       "\n",
       "    .dataframe tbody tr th {\n",
       "        vertical-align: top;\n",
       "    }\n",
       "\n",
       "    .dataframe thead th {\n",
       "        text-align: right;\n",
       "    }\n",
       "</style>\n",
       "<table border=\"1\" class=\"dataframe\">\n",
       "  <thead>\n",
       "    <tr style=\"text-align: right;\">\n",
       "      <th></th>\n",
       "      <th>도시</th>\n",
       "      <th>인구</th>\n",
       "    </tr>\n",
       "  </thead>\n",
       "  <tbody>\n",
       "    <tr>\n",
       "      <th>0</th>\n",
       "      <td>서울</td>\n",
       "      <td>940</td>\n",
       "    </tr>\n",
       "    <tr>\n",
       "      <th>1</th>\n",
       "      <td>부산</td>\n",
       "      <td>330</td>\n",
       "    </tr>\n",
       "    <tr>\n",
       "      <th>2</th>\n",
       "      <td>울산</td>\n",
       "      <td>110</td>\n",
       "    </tr>\n",
       "  </tbody>\n",
       "</table>\n",
       "</div>"
      ],
      "text/plain": [
       "   도시   인구\n",
       "0  서울  940\n",
       "1  부산  330\n",
       "2  울산  110"
      ]
     },
     "execution_count": 116,
     "metadata": {},
     "output_type": "execute_result"
    }
   ],
   "source": [
    "df.iloc[0:3]"
   ]
  },
  {
   "cell_type": "code",
   "execution_count": 122,
   "id": "88004b8b-42c2-4cc3-a749-992aafc73cd1",
   "metadata": {},
   "outputs": [
    {
     "data": {
      "text/html": [
       "<div>\n",
       "<style scoped>\n",
       "    .dataframe tbody tr th:only-of-type {\n",
       "        vertical-align: middle;\n",
       "    }\n",
       "\n",
       "    .dataframe tbody tr th {\n",
       "        vertical-align: top;\n",
       "    }\n",
       "\n",
       "    .dataframe thead th {\n",
       "        text-align: right;\n",
       "    }\n",
       "</style>\n",
       "<table border=\"1\" class=\"dataframe\">\n",
       "  <thead>\n",
       "    <tr style=\"text-align: right;\">\n",
       "      <th></th>\n",
       "      <th>도시</th>\n",
       "      <th>인구</th>\n",
       "    </tr>\n",
       "  </thead>\n",
       "  <tbody>\n",
       "    <tr>\n",
       "      <th>1등</th>\n",
       "      <td>서울</td>\n",
       "      <td>940</td>\n",
       "    </tr>\n",
       "    <tr>\n",
       "      <th>2등</th>\n",
       "      <td>부산</td>\n",
       "      <td>330</td>\n",
       "    </tr>\n",
       "    <tr>\n",
       "      <th>3등</th>\n",
       "      <td>울산</td>\n",
       "      <td>110</td>\n",
       "    </tr>\n",
       "  </tbody>\n",
       "</table>\n",
       "</div>"
      ],
      "text/plain": [
       "    도시   인구\n",
       "1등  서울  940\n",
       "2등  부산  330\n",
       "3등  울산  110"
      ]
     },
     "execution_count": 122,
     "metadata": {},
     "output_type": "execute_result"
    }
   ],
   "source": [
    "import pandas as pd\n",
    "city = {\n",
    "    '도시':['서울','부산','울산'],\n",
    "    '인구':[940,330,110]\n",
    "}\n",
    "df=pd.DataFrame(city,index=['1등','2등','3등'])\n",
    "df"
   ]
  },
  {
   "cell_type": "code",
   "execution_count": 126,
   "id": "831e4e9f-5dae-4d35-851a-5ca27c27e194",
   "metadata": {},
   "outputs": [
    {
     "data": {
      "text/html": [
       "<div>\n",
       "<style scoped>\n",
       "    .dataframe tbody tr th:only-of-type {\n",
       "        vertical-align: middle;\n",
       "    }\n",
       "\n",
       "    .dataframe tbody tr th {\n",
       "        vertical-align: top;\n",
       "    }\n",
       "\n",
       "    .dataframe thead th {\n",
       "        text-align: right;\n",
       "    }\n",
       "</style>\n",
       "<table border=\"1\" class=\"dataframe\">\n",
       "  <thead>\n",
       "    <tr style=\"text-align: right;\">\n",
       "      <th></th>\n",
       "      <th>도시</th>\n",
       "      <th>인구</th>\n",
       "    </tr>\n",
       "  </thead>\n",
       "  <tbody>\n",
       "    <tr>\n",
       "      <th>1등</th>\n",
       "      <td>서울</td>\n",
       "      <td>940</td>\n",
       "    </tr>\n",
       "  </tbody>\n",
       "</table>\n",
       "</div>"
      ],
      "text/plain": [
       "    도시   인구\n",
       "1등  서울  940"
      ]
     },
     "execution_count": 126,
     "metadata": {},
     "output_type": "execute_result"
    }
   ],
   "source": [
    "df.loc[['1등']]"
   ]
  },
  {
   "cell_type": "code",
   "execution_count": 274,
   "id": "2d11c706-8430-4292-9e7c-a6c44b0676d2",
   "metadata": {},
   "outputs": [
    {
     "data": {
      "text/html": [
       "<div>\n",
       "<style scoped>\n",
       "    .dataframe tbody tr th:only-of-type {\n",
       "        vertical-align: middle;\n",
       "    }\n",
       "\n",
       "    .dataframe tbody tr th {\n",
       "        vertical-align: top;\n",
       "    }\n",
       "\n",
       "    .dataframe thead th {\n",
       "        text-align: right;\n",
       "    }\n",
       "</style>\n",
       "<table border=\"1\" class=\"dataframe\">\n",
       "  <thead>\n",
       "    <tr style=\"text-align: right;\">\n",
       "      <th></th>\n",
       "      <th>성명</th>\n",
       "      <th>나이</th>\n",
       "      <th>몸무게</th>\n",
       "      <th>급여</th>\n",
       "    </tr>\n",
       "  </thead>\n",
       "  <tbody>\n",
       "    <tr>\n",
       "      <th>0</th>\n",
       "      <td>김민재</td>\n",
       "      <td>27</td>\n",
       "      <td>75</td>\n",
       "      <td>5428000</td>\n",
       "    </tr>\n",
       "    <tr>\n",
       "      <th>1</th>\n",
       "      <td>이강인</td>\n",
       "      <td>22</td>\n",
       "      <td>57</td>\n",
       "      <td>3428000</td>\n",
       "    </tr>\n",
       "    <tr>\n",
       "      <th>2</th>\n",
       "      <td>박찬호</td>\n",
       "      <td>50</td>\n",
       "      <td>91</td>\n",
       "      <td>8428000</td>\n",
       "    </tr>\n",
       "    <tr>\n",
       "      <th>3</th>\n",
       "      <td>차범근</td>\n",
       "      <td>70</td>\n",
       "      <td>80</td>\n",
       "      <td>4428000</td>\n",
       "    </tr>\n",
       "    <tr>\n",
       "      <th>4</th>\n",
       "      <td>추신수</td>\n",
       "      <td>43</td>\n",
       "      <td>100</td>\n",
       "      <td>4528000</td>\n",
       "    </tr>\n",
       "    <tr>\n",
       "      <th>5</th>\n",
       "      <td>손흥민</td>\n",
       "      <td>31</td>\n",
       "      <td>72</td>\n",
       "      <td>7028000</td>\n",
       "    </tr>\n",
       "    <tr>\n",
       "      <th>6</th>\n",
       "      <td>황희찬</td>\n",
       "      <td>28</td>\n",
       "      <td>69</td>\n",
       "      <td>2528000</td>\n",
       "    </tr>\n",
       "  </tbody>\n",
       "</table>\n",
       "</div>"
      ],
      "text/plain": [
       "    성명  나이  몸무게       급여\n",
       "0  김민재  27   75  5428000\n",
       "1  이강인  22   57  3428000\n",
       "2  박찬호  50   91  8428000\n",
       "3  차범근  70   80  4428000\n",
       "4  추신수  43  100  4528000\n",
       "5  손흥민  31   72  7028000\n",
       "6  황희찬  28   69  2528000"
      ]
     },
     "execution_count": 274,
     "metadata": {},
     "output_type": "execute_result"
    }
   ],
   "source": [
    "import pandas as pd\n",
    "data = [['김민재', 27, 75, 5428000],\n",
    "        ['이강인', 22, 57, 3428000],\n",
    "        ['박찬호', 50, 91, 8428000],\n",
    "        ['차범근', 70, 80, 4428000],\n",
    "        ['추신수', 43, 100, 4528000],\n",
    "        ['손흥민', 31, 72, 7028000],\n",
    "        ['황희찬', 28, 69, 2528000]]\n",
    "df = pd.DataFrame(data,columns=[\"성명\",'나이','몸무게','급여'])\n",
    "df"
   ]
  },
  {
   "cell_type": "code",
   "execution_count": null,
   "id": "a8ce1034-d026-41a1-b54b-4ea3152b3509",
   "metadata": {},
   "outputs": [],
   "source": [
    "df[['성명','급여']]"
   ]
  },
  {
   "cell_type": "code",
   "execution_count": 147,
   "id": "0971e9c2-60dd-4f30-bbef-eff5c0cfd566",
   "metadata": {},
   "outputs": [
    {
     "data": {
      "text/plain": [
       "0    김민재\n",
       "1    이강인\n",
       "2    박찬호\n",
       "3    차범근\n",
       "4    추신수\n",
       "5    손흥민\n",
       "6    황희찬\n",
       "Name: 성명, dtype: object"
      ]
     },
     "execution_count": 147,
     "metadata": {},
     "output_type": "execute_result"
    }
   ],
   "source": [
    "df.성명"
   ]
  },
  {
   "cell_type": "code",
   "execution_count": 140,
   "id": "f2225ce1-3924-4da8-acaf-c78e5e42c32a",
   "metadata": {},
   "outputs": [],
   "source": [
    "# df['성명','급여']  # [] 두 개 이상 컬럼을 반드시 [[  ]]  형식으로"
   ]
  },
  {
   "cell_type": "markdown",
   "id": "ca3deb1b-e704-498b-a5e0-4a34b4b5dadf",
   "metadata": {},
   "source": [
    "## loc: location의 약자로 하나 이상의 지정된 행과 열\n",
    "- .loc[행]\n",
    "- .loc[행,열]"
   ]
  },
  {
   "cell_type": "code",
   "execution_count": 152,
   "id": "cb804cbe-30a8-47e7-bb84-ea3fac177b44",
   "metadata": {},
   "outputs": [
    {
     "data": {
      "text/html": [
       "<div>\n",
       "<style scoped>\n",
       "    .dataframe tbody tr th:only-of-type {\n",
       "        vertical-align: middle;\n",
       "    }\n",
       "\n",
       "    .dataframe tbody tr th {\n",
       "        vertical-align: top;\n",
       "    }\n",
       "\n",
       "    .dataframe thead th {\n",
       "        text-align: right;\n",
       "    }\n",
       "</style>\n",
       "<table border=\"1\" class=\"dataframe\">\n",
       "  <thead>\n",
       "    <tr style=\"text-align: right;\">\n",
       "      <th></th>\n",
       "      <th>성명</th>\n",
       "      <th>나이</th>\n",
       "      <th>몸무게</th>\n",
       "      <th>급여</th>\n",
       "    </tr>\n",
       "  </thead>\n",
       "  <tbody>\n",
       "    <tr>\n",
       "      <th>1</th>\n",
       "      <td>이강인</td>\n",
       "      <td>22</td>\n",
       "      <td>57</td>\n",
       "      <td>3428000</td>\n",
       "    </tr>\n",
       "    <tr>\n",
       "      <th>3</th>\n",
       "      <td>차범근</td>\n",
       "      <td>70</td>\n",
       "      <td>80</td>\n",
       "      <td>4428000</td>\n",
       "    </tr>\n",
       "  </tbody>\n",
       "</table>\n",
       "</div>"
      ],
      "text/plain": [
       "    성명  나이  몸무게       급여\n",
       "1  이강인  22   57  3428000\n",
       "3  차범근  70   80  4428000"
      ]
     },
     "execution_count": 152,
     "metadata": {},
     "output_type": "execute_result"
    }
   ],
   "source": [
    "df.loc[[1,3]]"
   ]
  },
  {
   "cell_type": "code",
   "execution_count": 158,
   "id": "8a6b1157-1552-4195-9e79-53140e1adb5a",
   "metadata": {},
   "outputs": [
    {
     "data": {
      "text/html": [
       "<div>\n",
       "<style scoped>\n",
       "    .dataframe tbody tr th:only-of-type {\n",
       "        vertical-align: middle;\n",
       "    }\n",
       "\n",
       "    .dataframe tbody tr th {\n",
       "        vertical-align: top;\n",
       "    }\n",
       "\n",
       "    .dataframe thead th {\n",
       "        text-align: right;\n",
       "    }\n",
       "</style>\n",
       "<table border=\"1\" class=\"dataframe\">\n",
       "  <thead>\n",
       "    <tr style=\"text-align: right;\">\n",
       "      <th></th>\n",
       "      <th>성명</th>\n",
       "      <th>나이</th>\n",
       "      <th>몸무게</th>\n",
       "      <th>급여</th>\n",
       "    </tr>\n",
       "  </thead>\n",
       "  <tbody>\n",
       "    <tr>\n",
       "      <th>0</th>\n",
       "      <td>김민재</td>\n",
       "      <td>27</td>\n",
       "      <td>75</td>\n",
       "      <td>5428000</td>\n",
       "    </tr>\n",
       "    <tr>\n",
       "      <th>1</th>\n",
       "      <td>이강인</td>\n",
       "      <td>22</td>\n",
       "      <td>57</td>\n",
       "      <td>3428000</td>\n",
       "    </tr>\n",
       "    <tr>\n",
       "      <th>2</th>\n",
       "      <td>박찬호</td>\n",
       "      <td>50</td>\n",
       "      <td>91</td>\n",
       "      <td>8428000</td>\n",
       "    </tr>\n",
       "  </tbody>\n",
       "</table>\n",
       "</div>"
      ],
      "text/plain": [
       "    성명  나이  몸무게       급여\n",
       "0  김민재  27   75  5428000\n",
       "1  이강인  22   57  3428000\n",
       "2  박찬호  50   91  8428000"
      ]
     },
     "execution_count": 158,
     "metadata": {},
     "output_type": "execute_result"
    }
   ],
   "source": [
    "df.loc[0:2]"
   ]
  },
  {
   "cell_type": "code",
   "execution_count": 164,
   "id": "493ecb9b-f3b6-49ac-8d4b-018d4acbb430",
   "metadata": {},
   "outputs": [
    {
     "data": {
      "text/html": [
       "<div>\n",
       "<style scoped>\n",
       "    .dataframe tbody tr th:only-of-type {\n",
       "        vertical-align: middle;\n",
       "    }\n",
       "\n",
       "    .dataframe tbody tr th {\n",
       "        vertical-align: top;\n",
       "    }\n",
       "\n",
       "    .dataframe thead th {\n",
       "        text-align: right;\n",
       "    }\n",
       "</style>\n",
       "<table border=\"1\" class=\"dataframe\">\n",
       "  <thead>\n",
       "    <tr style=\"text-align: right;\">\n",
       "      <th></th>\n",
       "      <th>성명</th>\n",
       "    </tr>\n",
       "  </thead>\n",
       "  <tbody>\n",
       "    <tr>\n",
       "      <th>0</th>\n",
       "      <td>김민재</td>\n",
       "    </tr>\n",
       "  </tbody>\n",
       "</table>\n",
       "</div>"
      ],
      "text/plain": [
       "    성명\n",
       "0  김민재"
      ]
     },
     "execution_count": 164,
     "metadata": {},
     "output_type": "execute_result"
    }
   ],
   "source": [
    "df.loc[[0],['성명']]"
   ]
  },
  {
   "cell_type": "code",
   "execution_count": 167,
   "id": "ec5e56aa-f169-49d0-a065-2ecc49c107d3",
   "metadata": {},
   "outputs": [
    {
     "data": {
      "text/html": [
       "<div>\n",
       "<style scoped>\n",
       "    .dataframe tbody tr th:only-of-type {\n",
       "        vertical-align: middle;\n",
       "    }\n",
       "\n",
       "    .dataframe tbody tr th {\n",
       "        vertical-align: top;\n",
       "    }\n",
       "\n",
       "    .dataframe thead th {\n",
       "        text-align: right;\n",
       "    }\n",
       "</style>\n",
       "<table border=\"1\" class=\"dataframe\">\n",
       "  <thead>\n",
       "    <tr style=\"text-align: right;\">\n",
       "      <th></th>\n",
       "      <th>성명</th>\n",
       "      <th>나이</th>\n",
       "    </tr>\n",
       "  </thead>\n",
       "  <tbody>\n",
       "    <tr>\n",
       "      <th>0</th>\n",
       "      <td>김민재</td>\n",
       "      <td>27</td>\n",
       "    </tr>\n",
       "    <tr>\n",
       "      <th>2</th>\n",
       "      <td>박찬호</td>\n",
       "      <td>50</td>\n",
       "    </tr>\n",
       "  </tbody>\n",
       "</table>\n",
       "</div>"
      ],
      "text/plain": [
       "    성명  나이\n",
       "0  김민재  27\n",
       "2  박찬호  50"
      ]
     },
     "execution_count": 167,
     "metadata": {},
     "output_type": "execute_result"
    }
   ],
   "source": [
    "df.loc[[0,2],['성명','나이']]"
   ]
  },
  {
   "cell_type": "code",
   "execution_count": 173,
   "id": "830df4bc-bfe4-418a-ab85-a2f9ef9249a2",
   "metadata": {},
   "outputs": [
    {
     "data": {
      "text/html": [
       "<div>\n",
       "<style scoped>\n",
       "    .dataframe tbody tr th:only-of-type {\n",
       "        vertical-align: middle;\n",
       "    }\n",
       "\n",
       "    .dataframe tbody tr th {\n",
       "        vertical-align: top;\n",
       "    }\n",
       "\n",
       "    .dataframe thead th {\n",
       "        text-align: right;\n",
       "    }\n",
       "</style>\n",
       "<table border=\"1\" class=\"dataframe\">\n",
       "  <thead>\n",
       "    <tr style=\"text-align: right;\">\n",
       "      <th></th>\n",
       "      <th>성명</th>\n",
       "      <th>나이</th>\n",
       "    </tr>\n",
       "  </thead>\n",
       "  <tbody>\n",
       "    <tr>\n",
       "      <th>0</th>\n",
       "      <td>김민재</td>\n",
       "      <td>27</td>\n",
       "    </tr>\n",
       "    <tr>\n",
       "      <th>1</th>\n",
       "      <td>이강인</td>\n",
       "      <td>22</td>\n",
       "    </tr>\n",
       "    <tr>\n",
       "      <th>2</th>\n",
       "      <td>박찬호</td>\n",
       "      <td>50</td>\n",
       "    </tr>\n",
       "    <tr>\n",
       "      <th>3</th>\n",
       "      <td>차범근</td>\n",
       "      <td>70</td>\n",
       "    </tr>\n",
       "  </tbody>\n",
       "</table>\n",
       "</div>"
      ],
      "text/plain": [
       "    성명  나이\n",
       "0  김민재  27\n",
       "1  이강인  22\n",
       "2  박찬호  50\n",
       "3  차범근  70"
      ]
     },
     "execution_count": 173,
     "metadata": {},
     "output_type": "execute_result"
    }
   ],
   "source": [
    "df.loc[0:3,['성명','나이']]"
   ]
  },
  {
   "cell_type": "code",
   "execution_count": 175,
   "id": "68180511-0655-4cfa-a798-96eef497db8f",
   "metadata": {},
   "outputs": [
    {
     "data": {
      "text/html": [
       "<div>\n",
       "<style scoped>\n",
       "    .dataframe tbody tr th:only-of-type {\n",
       "        vertical-align: middle;\n",
       "    }\n",
       "\n",
       "    .dataframe tbody tr th {\n",
       "        vertical-align: top;\n",
       "    }\n",
       "\n",
       "    .dataframe thead th {\n",
       "        text-align: right;\n",
       "    }\n",
       "</style>\n",
       "<table border=\"1\" class=\"dataframe\">\n",
       "  <thead>\n",
       "    <tr style=\"text-align: right;\">\n",
       "      <th></th>\n",
       "      <th>성명</th>\n",
       "    </tr>\n",
       "  </thead>\n",
       "  <tbody>\n",
       "    <tr>\n",
       "      <th>0</th>\n",
       "      <td>김민재</td>\n",
       "    </tr>\n",
       "    <tr>\n",
       "      <th>1</th>\n",
       "      <td>이강인</td>\n",
       "    </tr>\n",
       "    <tr>\n",
       "      <th>2</th>\n",
       "      <td>박찬호</td>\n",
       "    </tr>\n",
       "    <tr>\n",
       "      <th>3</th>\n",
       "      <td>차범근</td>\n",
       "    </tr>\n",
       "  </tbody>\n",
       "</table>\n",
       "</div>"
      ],
      "text/plain": [
       "    성명\n",
       "0  김민재\n",
       "1  이강인\n",
       "2  박찬호\n",
       "3  차범근"
      ]
     },
     "execution_count": 175,
     "metadata": {},
     "output_type": "execute_result"
    }
   ],
   "source": [
    "df.loc[:3,['성명']]"
   ]
  },
  {
   "cell_type": "code",
   "execution_count": 177,
   "id": "f5740ec4-7d81-40fd-ad8f-74dbbd1eccde",
   "metadata": {},
   "outputs": [
    {
     "data": {
      "text/html": [
       "<div>\n",
       "<style scoped>\n",
       "    .dataframe tbody tr th:only-of-type {\n",
       "        vertical-align: middle;\n",
       "    }\n",
       "\n",
       "    .dataframe tbody tr th {\n",
       "        vertical-align: top;\n",
       "    }\n",
       "\n",
       "    .dataframe thead th {\n",
       "        text-align: right;\n",
       "    }\n",
       "</style>\n",
       "<table border=\"1\" class=\"dataframe\">\n",
       "  <thead>\n",
       "    <tr style=\"text-align: right;\">\n",
       "      <th></th>\n",
       "      <th>성명</th>\n",
       "      <th>나이</th>\n",
       "      <th>몸무게</th>\n",
       "      <th>급여</th>\n",
       "    </tr>\n",
       "  </thead>\n",
       "  <tbody>\n",
       "    <tr>\n",
       "      <th>0</th>\n",
       "      <td>김민재</td>\n",
       "      <td>27</td>\n",
       "      <td>75</td>\n",
       "      <td>5428000</td>\n",
       "    </tr>\n",
       "    <tr>\n",
       "      <th>1</th>\n",
       "      <td>이강인</td>\n",
       "      <td>22</td>\n",
       "      <td>57</td>\n",
       "      <td>3428000</td>\n",
       "    </tr>\n",
       "    <tr>\n",
       "      <th>3</th>\n",
       "      <td>차범근</td>\n",
       "      <td>70</td>\n",
       "      <td>80</td>\n",
       "      <td>4428000</td>\n",
       "    </tr>\n",
       "  </tbody>\n",
       "</table>\n",
       "</div>"
      ],
      "text/plain": [
       "    성명  나이  몸무게       급여\n",
       "0  김민재  27   75  5428000\n",
       "1  이강인  22   57  3428000\n",
       "3  차범근  70   80  4428000"
      ]
     },
     "execution_count": 177,
     "metadata": {},
     "output_type": "execute_result"
    }
   ],
   "source": [
    "df.loc[[0,1,3]]"
   ]
  },
  {
   "cell_type": "code",
   "execution_count": 179,
   "id": "c7a57b64-6719-4211-a942-c0eb3d2de106",
   "metadata": {},
   "outputs": [
    {
     "data": {
      "text/html": [
       "<div>\n",
       "<style scoped>\n",
       "    .dataframe tbody tr th:only-of-type {\n",
       "        vertical-align: middle;\n",
       "    }\n",
       "\n",
       "    .dataframe tbody tr th {\n",
       "        vertical-align: top;\n",
       "    }\n",
       "\n",
       "    .dataframe thead th {\n",
       "        text-align: right;\n",
       "    }\n",
       "</style>\n",
       "<table border=\"1\" class=\"dataframe\">\n",
       "  <thead>\n",
       "    <tr style=\"text-align: right;\">\n",
       "      <th></th>\n",
       "      <th>성명</th>\n",
       "      <th>나이</th>\n",
       "      <th>몸무게</th>\n",
       "      <th>급여</th>\n",
       "    </tr>\n",
       "  </thead>\n",
       "  <tbody>\n",
       "    <tr>\n",
       "      <th>0</th>\n",
       "      <td>김민재</td>\n",
       "      <td>27</td>\n",
       "      <td>75</td>\n",
       "      <td>5428000</td>\n",
       "    </tr>\n",
       "    <tr>\n",
       "      <th>1</th>\n",
       "      <td>이강인</td>\n",
       "      <td>22</td>\n",
       "      <td>57</td>\n",
       "      <td>3428000</td>\n",
       "    </tr>\n",
       "    <tr>\n",
       "      <th>2</th>\n",
       "      <td>박찬호</td>\n",
       "      <td>50</td>\n",
       "      <td>91</td>\n",
       "      <td>8428000</td>\n",
       "    </tr>\n",
       "    <tr>\n",
       "      <th>3</th>\n",
       "      <td>차범근</td>\n",
       "      <td>70</td>\n",
       "      <td>80</td>\n",
       "      <td>4428000</td>\n",
       "    </tr>\n",
       "  </tbody>\n",
       "</table>\n",
       "</div>"
      ],
      "text/plain": [
       "    성명  나이  몸무게       급여\n",
       "0  김민재  27   75  5428000\n",
       "1  이강인  22   57  3428000\n",
       "2  박찬호  50   91  8428000\n",
       "3  차범근  70   80  4428000"
      ]
     },
     "execution_count": 179,
     "metadata": {},
     "output_type": "execute_result"
    }
   ],
   "source": [
    "df.loc[0:3]  "
   ]
  },
  {
   "cell_type": "code",
   "execution_count": 181,
   "id": "15f45a87-9044-4faf-815f-4c537ed8f8bc",
   "metadata": {},
   "outputs": [
    {
     "data": {
      "text/html": [
       "<div>\n",
       "<style scoped>\n",
       "    .dataframe tbody tr th:only-of-type {\n",
       "        vertical-align: middle;\n",
       "    }\n",
       "\n",
       "    .dataframe tbody tr th {\n",
       "        vertical-align: top;\n",
       "    }\n",
       "\n",
       "    .dataframe thead th {\n",
       "        text-align: right;\n",
       "    }\n",
       "</style>\n",
       "<table border=\"1\" class=\"dataframe\">\n",
       "  <thead>\n",
       "    <tr style=\"text-align: right;\">\n",
       "      <th></th>\n",
       "      <th>성명</th>\n",
       "      <th>나이</th>\n",
       "      <th>몸무게</th>\n",
       "      <th>급여</th>\n",
       "    </tr>\n",
       "  </thead>\n",
       "  <tbody>\n",
       "    <tr>\n",
       "      <th>0</th>\n",
       "      <td>김민재</td>\n",
       "      <td>27</td>\n",
       "      <td>75</td>\n",
       "      <td>5428000</td>\n",
       "    </tr>\n",
       "    <tr>\n",
       "      <th>1</th>\n",
       "      <td>이강인</td>\n",
       "      <td>22</td>\n",
       "      <td>57</td>\n",
       "      <td>3428000</td>\n",
       "    </tr>\n",
       "    <tr>\n",
       "      <th>2</th>\n",
       "      <td>박찬호</td>\n",
       "      <td>50</td>\n",
       "      <td>91</td>\n",
       "      <td>8428000</td>\n",
       "    </tr>\n",
       "  </tbody>\n",
       "</table>\n",
       "</div>"
      ],
      "text/plain": [
       "    성명  나이  몸무게       급여\n",
       "0  김민재  27   75  5428000\n",
       "1  이강인  22   57  3428000\n",
       "2  박찬호  50   91  8428000"
      ]
     },
     "execution_count": 181,
     "metadata": {},
     "output_type": "execute_result"
    }
   ],
   "source": [
    "df.iloc[0:3]  # 인덱스 기준"
   ]
  },
  {
   "cell_type": "code",
   "execution_count": 183,
   "id": "b37c72c5-c28c-458c-b149-7d70cb972c5b",
   "metadata": {},
   "outputs": [
    {
     "data": {
      "text/plain": [
       "5428000"
      ]
     },
     "execution_count": 183,
     "metadata": {},
     "output_type": "execute_result"
    }
   ],
   "source": [
    "df.loc[0,'급여']"
   ]
  },
  {
   "cell_type": "code",
   "execution_count": 191,
   "id": "f2ad6e4a-1bc3-413e-a7ca-4c867370e0f3",
   "metadata": {},
   "outputs": [
    {
     "data": {
      "text/plain": [
       "5428000"
      ]
     },
     "execution_count": 191,
     "metadata": {},
     "output_type": "execute_result"
    }
   ],
   "source": [
    "df.iloc[0,3]"
   ]
  },
  {
   "cell_type": "code",
   "execution_count": 193,
   "id": "8294bdc0-6c0e-4822-84ac-f3be2fdb142f",
   "metadata": {},
   "outputs": [
    {
     "data": {
      "text/html": [
       "<div>\n",
       "<style scoped>\n",
       "    .dataframe tbody tr th:only-of-type {\n",
       "        vertical-align: middle;\n",
       "    }\n",
       "\n",
       "    .dataframe tbody tr th {\n",
       "        vertical-align: top;\n",
       "    }\n",
       "\n",
       "    .dataframe thead th {\n",
       "        text-align: right;\n",
       "    }\n",
       "</style>\n",
       "<table border=\"1\" class=\"dataframe\">\n",
       "  <thead>\n",
       "    <tr style=\"text-align: right;\">\n",
       "      <th></th>\n",
       "      <th>성명</th>\n",
       "    </tr>\n",
       "  </thead>\n",
       "  <tbody>\n",
       "    <tr>\n",
       "      <th>0</th>\n",
       "      <td>김민재</td>\n",
       "    </tr>\n",
       "    <tr>\n",
       "      <th>1</th>\n",
       "      <td>이강인</td>\n",
       "    </tr>\n",
       "    <tr>\n",
       "      <th>2</th>\n",
       "      <td>박찬호</td>\n",
       "    </tr>\n",
       "    <tr>\n",
       "      <th>3</th>\n",
       "      <td>차범근</td>\n",
       "    </tr>\n",
       "  </tbody>\n",
       "</table>\n",
       "</div>"
      ],
      "text/plain": [
       "    성명\n",
       "0  김민재\n",
       "1  이강인\n",
       "2  박찬호\n",
       "3  차범근"
      ]
     },
     "execution_count": 193,
     "metadata": {},
     "output_type": "execute_result"
    }
   ],
   "source": [
    "df.loc[:3,['성명']]"
   ]
  },
  {
   "cell_type": "code",
   "execution_count": 197,
   "id": "e7bcb043-f7ef-4267-b872-a68dd22ae1e3",
   "metadata": {},
   "outputs": [
    {
     "data": {
      "text/html": [
       "<div>\n",
       "<style scoped>\n",
       "    .dataframe tbody tr th:only-of-type {\n",
       "        vertical-align: middle;\n",
       "    }\n",
       "\n",
       "    .dataframe tbody tr th {\n",
       "        vertical-align: top;\n",
       "    }\n",
       "\n",
       "    .dataframe thead th {\n",
       "        text-align: right;\n",
       "    }\n",
       "</style>\n",
       "<table border=\"1\" class=\"dataframe\">\n",
       "  <thead>\n",
       "    <tr style=\"text-align: right;\">\n",
       "      <th></th>\n",
       "      <th>성명</th>\n",
       "    </tr>\n",
       "  </thead>\n",
       "  <tbody>\n",
       "    <tr>\n",
       "      <th>0</th>\n",
       "      <td>김민재</td>\n",
       "    </tr>\n",
       "    <tr>\n",
       "      <th>1</th>\n",
       "      <td>이강인</td>\n",
       "    </tr>\n",
       "    <tr>\n",
       "      <th>2</th>\n",
       "      <td>박찬호</td>\n",
       "    </tr>\n",
       "  </tbody>\n",
       "</table>\n",
       "</div>"
      ],
      "text/plain": [
       "    성명\n",
       "0  김민재\n",
       "1  이강인\n",
       "2  박찬호"
      ]
     },
     "execution_count": 197,
     "metadata": {},
     "output_type": "execute_result"
    }
   ],
   "source": [
    "df.iloc[:3,[0]]"
   ]
  },
  {
   "cell_type": "code",
   "execution_count": 199,
   "id": "47f5d488-19aa-4aed-bc7c-2572a057c839",
   "metadata": {},
   "outputs": [
    {
     "data": {
      "text/html": [
       "<div>\n",
       "<style scoped>\n",
       "    .dataframe tbody tr th:only-of-type {\n",
       "        vertical-align: middle;\n",
       "    }\n",
       "\n",
       "    .dataframe tbody tr th {\n",
       "        vertical-align: top;\n",
       "    }\n",
       "\n",
       "    .dataframe thead th {\n",
       "        text-align: right;\n",
       "    }\n",
       "</style>\n",
       "<table border=\"1\" class=\"dataframe\">\n",
       "  <thead>\n",
       "    <tr style=\"text-align: right;\">\n",
       "      <th></th>\n",
       "      <th>성명</th>\n",
       "      <th>급여</th>\n",
       "    </tr>\n",
       "  </thead>\n",
       "  <tbody>\n",
       "    <tr>\n",
       "      <th>0</th>\n",
       "      <td>김민재</td>\n",
       "      <td>5428000</td>\n",
       "    </tr>\n",
       "    <tr>\n",
       "      <th>1</th>\n",
       "      <td>이강인</td>\n",
       "      <td>3428000</td>\n",
       "    </tr>\n",
       "    <tr>\n",
       "      <th>3</th>\n",
       "      <td>차범근</td>\n",
       "      <td>4428000</td>\n",
       "    </tr>\n",
       "  </tbody>\n",
       "</table>\n",
       "</div>"
      ],
      "text/plain": [
       "    성명       급여\n",
       "0  김민재  5428000\n",
       "1  이강인  3428000\n",
       "3  차범근  4428000"
      ]
     },
     "execution_count": 199,
     "metadata": {},
     "output_type": "execute_result"
    }
   ],
   "source": [
    "# 인덱스 0, 1, 3번 행과 0,3 번째 컬럼('성명','급여')을 찾는 방법을 비교한다/\n",
    "df.loc[[0,1,3],['성명','급여']]"
   ]
  },
  {
   "cell_type": "code",
   "execution_count": 203,
   "id": "b740fee4-7b3e-4073-888b-e09bd19d23d7",
   "metadata": {},
   "outputs": [
    {
     "data": {
      "text/html": [
       "<div>\n",
       "<style scoped>\n",
       "    .dataframe tbody tr th:only-of-type {\n",
       "        vertical-align: middle;\n",
       "    }\n",
       "\n",
       "    .dataframe tbody tr th {\n",
       "        vertical-align: top;\n",
       "    }\n",
       "\n",
       "    .dataframe thead th {\n",
       "        text-align: right;\n",
       "    }\n",
       "</style>\n",
       "<table border=\"1\" class=\"dataframe\">\n",
       "  <thead>\n",
       "    <tr style=\"text-align: right;\">\n",
       "      <th></th>\n",
       "      <th>성명</th>\n",
       "      <th>급여</th>\n",
       "    </tr>\n",
       "  </thead>\n",
       "  <tbody>\n",
       "    <tr>\n",
       "      <th>0</th>\n",
       "      <td>김민재</td>\n",
       "      <td>5428000</td>\n",
       "    </tr>\n",
       "    <tr>\n",
       "      <th>1</th>\n",
       "      <td>이강인</td>\n",
       "      <td>3428000</td>\n",
       "    </tr>\n",
       "    <tr>\n",
       "      <th>3</th>\n",
       "      <td>차범근</td>\n",
       "      <td>4428000</td>\n",
       "    </tr>\n",
       "  </tbody>\n",
       "</table>\n",
       "</div>"
      ],
      "text/plain": [
       "    성명       급여\n",
       "0  김민재  5428000\n",
       "1  이강인  3428000\n",
       "3  차범근  4428000"
      ]
     },
     "execution_count": 203,
     "metadata": {},
     "output_type": "execute_result"
    }
   ],
   "source": [
    "df.iloc[[0,1,3],[0,3]]"
   ]
  },
  {
   "cell_type": "code",
   "execution_count": 205,
   "id": "403a6f4f-b41b-4a6f-b276-a87578248def",
   "metadata": {},
   "outputs": [
    {
     "data": {
      "text/html": [
       "<div>\n",
       "<style scoped>\n",
       "    .dataframe tbody tr th:only-of-type {\n",
       "        vertical-align: middle;\n",
       "    }\n",
       "\n",
       "    .dataframe tbody tr th {\n",
       "        vertical-align: top;\n",
       "    }\n",
       "\n",
       "    .dataframe thead th {\n",
       "        text-align: right;\n",
       "    }\n",
       "</style>\n",
       "<table border=\"1\" class=\"dataframe\">\n",
       "  <thead>\n",
       "    <tr style=\"text-align: right;\">\n",
       "      <th></th>\n",
       "      <th>성명</th>\n",
       "      <th>나이</th>\n",
       "      <th>몸무게</th>\n",
       "      <th>급여</th>\n",
       "    </tr>\n",
       "  </thead>\n",
       "  <tbody>\n",
       "    <tr>\n",
       "      <th>0</th>\n",
       "      <td>김민재</td>\n",
       "      <td>27</td>\n",
       "      <td>75</td>\n",
       "      <td>5428000</td>\n",
       "    </tr>\n",
       "    <tr>\n",
       "      <th>1</th>\n",
       "      <td>이강인</td>\n",
       "      <td>22</td>\n",
       "      <td>57</td>\n",
       "      <td>3428000</td>\n",
       "    </tr>\n",
       "    <tr>\n",
       "      <th>3</th>\n",
       "      <td>차범근</td>\n",
       "      <td>70</td>\n",
       "      <td>80</td>\n",
       "      <td>4428000</td>\n",
       "    </tr>\n",
       "  </tbody>\n",
       "</table>\n",
       "</div>"
      ],
      "text/plain": [
       "    성명  나이  몸무게       급여\n",
       "0  김민재  27   75  5428000\n",
       "1  이강인  22   57  3428000\n",
       "3  차범근  70   80  4428000"
      ]
     },
     "execution_count": 205,
     "metadata": {},
     "output_type": "execute_result"
    }
   ],
   "source": [
    "df.loc[[0,1,3],'성명':'급여'] # ,을 찍으면 필요한 기능만 가져올수 있음 :을 사용하면 슬라이싱 기능을 사용함"
   ]
  },
  {
   "cell_type": "markdown",
   "id": "4b3e0be2-cafa-445f-8991-88e85f7b25c4",
   "metadata": {},
   "source": [
    "- loc: 행 인덱스명,컬럼명 접근(명으로 접근)\n",
    "- iloc: 행 인덱스번호, 컬럼 인덱스 접근(번호로 접근)\n",
    "- 개별 접근: 대괄호 사용\n",
    "- 범위(슬라이싱)접근: 대괄호 사용안함"
   ]
  },
  {
   "cell_type": "code",
   "execution_count": 209,
   "id": "f80c0b89-5498-4bf0-835a-a679dc370357",
   "metadata": {},
   "outputs": [
    {
     "data": {
      "text/html": [
       "<div>\n",
       "<style scoped>\n",
       "    .dataframe tbody tr th:only-of-type {\n",
       "        vertical-align: middle;\n",
       "    }\n",
       "\n",
       "    .dataframe tbody tr th {\n",
       "        vertical-align: top;\n",
       "    }\n",
       "\n",
       "    .dataframe thead th {\n",
       "        text-align: right;\n",
       "    }\n",
       "</style>\n",
       "<table border=\"1\" class=\"dataframe\">\n",
       "  <thead>\n",
       "    <tr style=\"text-align: right;\">\n",
       "      <th></th>\n",
       "      <th>성명</th>\n",
       "      <th>나이</th>\n",
       "    </tr>\n",
       "  </thead>\n",
       "  <tbody>\n",
       "    <tr>\n",
       "      <th>0</th>\n",
       "      <td>김민재</td>\n",
       "      <td>27</td>\n",
       "    </tr>\n",
       "    <tr>\n",
       "      <th>1</th>\n",
       "      <td>이강인</td>\n",
       "      <td>22</td>\n",
       "    </tr>\n",
       "    <tr>\n",
       "      <th>2</th>\n",
       "      <td>박찬호</td>\n",
       "      <td>50</td>\n",
       "    </tr>\n",
       "  </tbody>\n",
       "</table>\n",
       "</div>"
      ],
      "text/plain": [
       "    성명  나이\n",
       "0  김민재  27\n",
       "1  이강인  22\n",
       "2  박찬호  50"
      ]
     },
     "execution_count": 209,
     "metadata": {},
     "output_type": "execute_result"
    }
   ],
   "source": [
    "df.iloc[:3,:2]"
   ]
  },
  {
   "cell_type": "code",
   "execution_count": 211,
   "id": "3d9cdd68-6ecf-47df-9404-1af616acb85a",
   "metadata": {},
   "outputs": [
    {
     "data": {
      "text/html": [
       "<div>\n",
       "<style scoped>\n",
       "    .dataframe tbody tr th:only-of-type {\n",
       "        vertical-align: middle;\n",
       "    }\n",
       "\n",
       "    .dataframe tbody tr th {\n",
       "        vertical-align: top;\n",
       "    }\n",
       "\n",
       "    .dataframe thead th {\n",
       "        text-align: right;\n",
       "    }\n",
       "</style>\n",
       "<table border=\"1\" class=\"dataframe\">\n",
       "  <thead>\n",
       "    <tr style=\"text-align: right;\">\n",
       "      <th></th>\n",
       "      <th>성명</th>\n",
       "      <th>나이</th>\n",
       "      <th>몸무게</th>\n",
       "    </tr>\n",
       "  </thead>\n",
       "  <tbody>\n",
       "    <tr>\n",
       "      <th>0</th>\n",
       "      <td>김민재</td>\n",
       "      <td>27</td>\n",
       "      <td>75</td>\n",
       "    </tr>\n",
       "    <tr>\n",
       "      <th>1</th>\n",
       "      <td>이강인</td>\n",
       "      <td>22</td>\n",
       "      <td>57</td>\n",
       "    </tr>\n",
       "    <tr>\n",
       "      <th>2</th>\n",
       "      <td>박찬호</td>\n",
       "      <td>50</td>\n",
       "      <td>91</td>\n",
       "    </tr>\n",
       "    <tr>\n",
       "      <th>3</th>\n",
       "      <td>차범근</td>\n",
       "      <td>70</td>\n",
       "      <td>80</td>\n",
       "    </tr>\n",
       "    <tr>\n",
       "      <th>4</th>\n",
       "      <td>추신수</td>\n",
       "      <td>43</td>\n",
       "      <td>100</td>\n",
       "    </tr>\n",
       "    <tr>\n",
       "      <th>5</th>\n",
       "      <td>손흥민</td>\n",
       "      <td>31</td>\n",
       "      <td>72</td>\n",
       "    </tr>\n",
       "    <tr>\n",
       "      <th>6</th>\n",
       "      <td>황희찬</td>\n",
       "      <td>28</td>\n",
       "      <td>69</td>\n",
       "    </tr>\n",
       "  </tbody>\n",
       "</table>\n",
       "</div>"
      ],
      "text/plain": [
       "    성명  나이  몸무게\n",
       "0  김민재  27   75\n",
       "1  이강인  22   57\n",
       "2  박찬호  50   91\n",
       "3  차범근  70   80\n",
       "4  추신수  43  100\n",
       "5  손흥민  31   72\n",
       "6  황희찬  28   69"
      ]
     },
     "execution_count": 211,
     "metadata": {},
     "output_type": "execute_result"
    }
   ],
   "source": [
    "df.iloc[:,:3]"
   ]
  },
  {
   "cell_type": "code",
   "execution_count": 213,
   "id": "bf11398e-8089-48b6-ad4e-6b4ec6bdc975",
   "metadata": {},
   "outputs": [
    {
     "data": {
      "text/html": [
       "<div>\n",
       "<style scoped>\n",
       "    .dataframe tbody tr th:only-of-type {\n",
       "        vertical-align: middle;\n",
       "    }\n",
       "\n",
       "    .dataframe tbody tr th {\n",
       "        vertical-align: top;\n",
       "    }\n",
       "\n",
       "    .dataframe thead th {\n",
       "        text-align: right;\n",
       "    }\n",
       "</style>\n",
       "<table border=\"1\" class=\"dataframe\">\n",
       "  <thead>\n",
       "    <tr style=\"text-align: right;\">\n",
       "      <th></th>\n",
       "      <th>성명</th>\n",
       "      <th>나이</th>\n",
       "      <th>몸무게</th>\n",
       "      <th>급여</th>\n",
       "    </tr>\n",
       "  </thead>\n",
       "  <tbody>\n",
       "    <tr>\n",
       "      <th>0</th>\n",
       "      <td>김민재</td>\n",
       "      <td>27</td>\n",
       "      <td>75</td>\n",
       "      <td>5428000</td>\n",
       "    </tr>\n",
       "    <tr>\n",
       "      <th>2</th>\n",
       "      <td>박찬호</td>\n",
       "      <td>50</td>\n",
       "      <td>91</td>\n",
       "      <td>8428000</td>\n",
       "    </tr>\n",
       "    <tr>\n",
       "      <th>4</th>\n",
       "      <td>추신수</td>\n",
       "      <td>43</td>\n",
       "      <td>100</td>\n",
       "      <td>4528000</td>\n",
       "    </tr>\n",
       "    <tr>\n",
       "      <th>6</th>\n",
       "      <td>황희찬</td>\n",
       "      <td>28</td>\n",
       "      <td>69</td>\n",
       "      <td>2528000</td>\n",
       "    </tr>\n",
       "  </tbody>\n",
       "</table>\n",
       "</div>"
      ],
      "text/plain": [
       "    성명  나이  몸무게       급여\n",
       "0  김민재  27   75  5428000\n",
       "2  박찬호  50   91  8428000\n",
       "4  추신수  43  100  4528000\n",
       "6  황희찬  28   69  2528000"
      ]
     },
     "execution_count": 213,
     "metadata": {},
     "output_type": "execute_result"
    }
   ],
   "source": [
    "df.iloc[::2,:]"
   ]
  },
  {
   "cell_type": "code",
   "execution_count": 215,
   "id": "5fe20b63-9d0c-4e6d-80c2-334f200d39bc",
   "metadata": {},
   "outputs": [
    {
     "data": {
      "text/html": [
       "<div>\n",
       "<style scoped>\n",
       "    .dataframe tbody tr th:only-of-type {\n",
       "        vertical-align: middle;\n",
       "    }\n",
       "\n",
       "    .dataframe tbody tr th {\n",
       "        vertical-align: top;\n",
       "    }\n",
       "\n",
       "    .dataframe thead th {\n",
       "        text-align: right;\n",
       "    }\n",
       "</style>\n",
       "<table border=\"1\" class=\"dataframe\">\n",
       "  <thead>\n",
       "    <tr style=\"text-align: right;\">\n",
       "      <th></th>\n",
       "      <th>성명</th>\n",
       "      <th>나이</th>\n",
       "      <th>몸무게</th>\n",
       "      <th>급여</th>\n",
       "    </tr>\n",
       "  </thead>\n",
       "  <tbody>\n",
       "    <tr>\n",
       "      <th>0</th>\n",
       "      <td>김민재</td>\n",
       "      <td>27</td>\n",
       "      <td>75</td>\n",
       "      <td>5428000</td>\n",
       "    </tr>\n",
       "    <tr>\n",
       "      <th>1</th>\n",
       "      <td>이강인</td>\n",
       "      <td>22</td>\n",
       "      <td>57</td>\n",
       "      <td>3428000</td>\n",
       "    </tr>\n",
       "    <tr>\n",
       "      <th>2</th>\n",
       "      <td>박찬호</td>\n",
       "      <td>50</td>\n",
       "      <td>91</td>\n",
       "      <td>8428000</td>\n",
       "    </tr>\n",
       "    <tr>\n",
       "      <th>3</th>\n",
       "      <td>차범근</td>\n",
       "      <td>70</td>\n",
       "      <td>80</td>\n",
       "      <td>4428000</td>\n",
       "    </tr>\n",
       "    <tr>\n",
       "      <th>4</th>\n",
       "      <td>추신수</td>\n",
       "      <td>43</td>\n",
       "      <td>100</td>\n",
       "      <td>4528000</td>\n",
       "    </tr>\n",
       "    <tr>\n",
       "      <th>5</th>\n",
       "      <td>손흥민</td>\n",
       "      <td>31</td>\n",
       "      <td>72</td>\n",
       "      <td>7028000</td>\n",
       "    </tr>\n",
       "    <tr>\n",
       "      <th>6</th>\n",
       "      <td>황희찬</td>\n",
       "      <td>28</td>\n",
       "      <td>69</td>\n",
       "      <td>2528000</td>\n",
       "    </tr>\n",
       "  </tbody>\n",
       "</table>\n",
       "</div>"
      ],
      "text/plain": [
       "    성명  나이  몸무게       급여\n",
       "0  김민재  27   75  5428000\n",
       "1  이강인  22   57  3428000\n",
       "2  박찬호  50   91  8428000\n",
       "3  차범근  70   80  4428000\n",
       "4  추신수  43  100  4528000\n",
       "5  손흥민  31   72  7028000\n",
       "6  황희찬  28   69  2528000"
      ]
     },
     "execution_count": 215,
     "metadata": {},
     "output_type": "execute_result"
    }
   ],
   "source": [
    "df"
   ]
  },
  {
   "cell_type": "code",
   "execution_count": 227,
   "id": "e1d5a2e6-b571-435c-8502-b1bc76ace538",
   "metadata": {},
   "outputs": [
    {
     "data": {
      "text/html": [
       "<div>\n",
       "<style scoped>\n",
       "    .dataframe tbody tr th:only-of-type {\n",
       "        vertical-align: middle;\n",
       "    }\n",
       "\n",
       "    .dataframe tbody tr th {\n",
       "        vertical-align: top;\n",
       "    }\n",
       "\n",
       "    .dataframe thead th {\n",
       "        text-align: right;\n",
       "    }\n",
       "</style>\n",
       "<table border=\"1\" class=\"dataframe\">\n",
       "  <thead>\n",
       "    <tr style=\"text-align: right;\">\n",
       "      <th></th>\n",
       "      <th>성명</th>\n",
       "      <th>나이</th>\n",
       "      <th>몸무게</th>\n",
       "      <th>급여</th>\n",
       "    </tr>\n",
       "  </thead>\n",
       "  <tbody>\n",
       "    <tr>\n",
       "      <th>2</th>\n",
       "      <td>박찬호</td>\n",
       "      <td>50</td>\n",
       "      <td>91</td>\n",
       "      <td>8428000</td>\n",
       "    </tr>\n",
       "    <tr>\n",
       "      <th>3</th>\n",
       "      <td>차범근</td>\n",
       "      <td>70</td>\n",
       "      <td>80</td>\n",
       "      <td>4428000</td>\n",
       "    </tr>\n",
       "    <tr>\n",
       "      <th>4</th>\n",
       "      <td>추신수</td>\n",
       "      <td>43</td>\n",
       "      <td>100</td>\n",
       "      <td>4528000</td>\n",
       "    </tr>\n",
       "    <tr>\n",
       "      <th>5</th>\n",
       "      <td>손흥민</td>\n",
       "      <td>31</td>\n",
       "      <td>72</td>\n",
       "      <td>7028000</td>\n",
       "    </tr>\n",
       "  </tbody>\n",
       "</table>\n",
       "</div>"
      ],
      "text/plain": [
       "    성명  나이  몸무게       급여\n",
       "2  박찬호  50   91  8428000\n",
       "3  차범근  70   80  4428000\n",
       "4  추신수  43  100  4528000\n",
       "5  손흥민  31   72  7028000"
      ]
     },
     "execution_count": 227,
     "metadata": {},
     "output_type": "execute_result"
    }
   ],
   "source": [
    "# '나이' 컬럼데이터에서 30 이상\n",
    "df.loc[df['나이']>=30]"
   ]
  },
  {
   "cell_type": "code",
   "execution_count": 221,
   "id": "c36582b7-a66b-4811-a7e2-be37fe1e8fa1",
   "metadata": {},
   "outputs": [
    {
     "data": {
      "text/html": [
       "<div>\n",
       "<style scoped>\n",
       "    .dataframe tbody tr th:only-of-type {\n",
       "        vertical-align: middle;\n",
       "    }\n",
       "\n",
       "    .dataframe tbody tr th {\n",
       "        vertical-align: top;\n",
       "    }\n",
       "\n",
       "    .dataframe thead th {\n",
       "        text-align: right;\n",
       "    }\n",
       "</style>\n",
       "<table border=\"1\" class=\"dataframe\">\n",
       "  <thead>\n",
       "    <tr style=\"text-align: right;\">\n",
       "      <th></th>\n",
       "      <th>성명</th>\n",
       "      <th>나이</th>\n",
       "      <th>몸무게</th>\n",
       "      <th>급여</th>\n",
       "    </tr>\n",
       "  </thead>\n",
       "  <tbody>\n",
       "    <tr>\n",
       "      <th>5</th>\n",
       "      <td>손흥민</td>\n",
       "      <td>31</td>\n",
       "      <td>72</td>\n",
       "      <td>7028000</td>\n",
       "    </tr>\n",
       "  </tbody>\n",
       "</table>\n",
       "</div>"
      ],
      "text/plain": [
       "    성명  나이  몸무게       급여\n",
       "5  손흥민  31   72  7028000"
      ]
     },
     "execution_count": 221,
     "metadata": {},
     "output_type": "execute_result"
    }
   ],
   "source": [
    "# '나이' 컬럼의 데이터에서 30 이상이고 35이하\n",
    "# 조건이 두개 이상일 경우 각각 조건을()묶는다\n",
    "df.loc[(df['나이']>=30) & (df['나이']<=35)]"
   ]
  },
  {
   "cell_type": "code",
   "execution_count": 233,
   "id": "bd33bf4f-d7d4-4e1d-847b-b21093aa655e",
   "metadata": {},
   "outputs": [
    {
     "data": {
      "text/html": [
       "<div>\n",
       "<style scoped>\n",
       "    .dataframe tbody tr th:only-of-type {\n",
       "        vertical-align: middle;\n",
       "    }\n",
       "\n",
       "    .dataframe tbody tr th {\n",
       "        vertical-align: top;\n",
       "    }\n",
       "\n",
       "    .dataframe thead th {\n",
       "        text-align: right;\n",
       "    }\n",
       "</style>\n",
       "<table border=\"1\" class=\"dataframe\">\n",
       "  <thead>\n",
       "    <tr style=\"text-align: right;\">\n",
       "      <th></th>\n",
       "      <th>성명</th>\n",
       "    </tr>\n",
       "  </thead>\n",
       "  <tbody>\n",
       "    <tr>\n",
       "      <th>0</th>\n",
       "      <td>김민재</td>\n",
       "    </tr>\n",
       "    <tr>\n",
       "      <th>2</th>\n",
       "      <td>박찬호</td>\n",
       "    </tr>\n",
       "    <tr>\n",
       "      <th>5</th>\n",
       "      <td>손흥민</td>\n",
       "    </tr>\n",
       "  </tbody>\n",
       "</table>\n",
       "</div>"
      ],
      "text/plain": [
       "    성명\n",
       "0  김민재\n",
       "2  박찬호\n",
       "5  손흥민"
      ]
     },
     "execution_count": 233,
     "metadata": {},
     "output_type": "execute_result"
    }
   ],
   "source": [
    "df.loc[df['급여']>=5000000,['성명']]"
   ]
  },
  {
   "cell_type": "code",
   "execution_count": 235,
   "id": "bd2dd220-82c2-4568-95fb-d9302fda06f1",
   "metadata": {},
   "outputs": [
    {
     "data": {
      "text/html": [
       "<div>\n",
       "<style scoped>\n",
       "    .dataframe tbody tr th:only-of-type {\n",
       "        vertical-align: middle;\n",
       "    }\n",
       "\n",
       "    .dataframe tbody tr th {\n",
       "        vertical-align: top;\n",
       "    }\n",
       "\n",
       "    .dataframe thead th {\n",
       "        text-align: right;\n",
       "    }\n",
       "</style>\n",
       "<table border=\"1\" class=\"dataframe\">\n",
       "  <thead>\n",
       "    <tr style=\"text-align: right;\">\n",
       "      <th></th>\n",
       "      <th>성명</th>\n",
       "      <th>나이</th>\n",
       "      <th>몸무게</th>\n",
       "    </tr>\n",
       "  </thead>\n",
       "  <tbody>\n",
       "    <tr>\n",
       "      <th>0</th>\n",
       "      <td>김민재</td>\n",
       "      <td>27</td>\n",
       "      <td>75</td>\n",
       "    </tr>\n",
       "    <tr>\n",
       "      <th>2</th>\n",
       "      <td>박찬호</td>\n",
       "      <td>50</td>\n",
       "      <td>91</td>\n",
       "    </tr>\n",
       "    <tr>\n",
       "      <th>5</th>\n",
       "      <td>손흥민</td>\n",
       "      <td>31</td>\n",
       "      <td>72</td>\n",
       "    </tr>\n",
       "  </tbody>\n",
       "</table>\n",
       "</div>"
      ],
      "text/plain": [
       "    성명  나이  몸무게\n",
       "0  김민재  27   75\n",
       "2  박찬호  50   91\n",
       "5  손흥민  31   72"
      ]
     },
     "execution_count": 235,
     "metadata": {},
     "output_type": "execute_result"
    }
   ],
   "source": [
    "df.loc[df['급여']>=5000000,'성명':'몸무게']"
   ]
  },
  {
   "cell_type": "code",
   "execution_count": 243,
   "id": "8424f8fc-9d2f-4f37-822a-958eac176438",
   "metadata": {},
   "outputs": [
    {
     "data": {
      "text/html": [
       "<div>\n",
       "<style scoped>\n",
       "    .dataframe tbody tr th:only-of-type {\n",
       "        vertical-align: middle;\n",
       "    }\n",
       "\n",
       "    .dataframe tbody tr th {\n",
       "        vertical-align: top;\n",
       "    }\n",
       "\n",
       "    .dataframe thead th {\n",
       "        text-align: right;\n",
       "    }\n",
       "</style>\n",
       "<table border=\"1\" class=\"dataframe\">\n",
       "  <thead>\n",
       "    <tr style=\"text-align: right;\">\n",
       "      <th></th>\n",
       "      <th>성명</th>\n",
       "      <th>나이</th>\n",
       "      <th>몸무게</th>\n",
       "      <th>급여</th>\n",
       "      <th>체질량</th>\n",
       "    </tr>\n",
       "  </thead>\n",
       "  <tbody>\n",
       "    <tr>\n",
       "      <th>0</th>\n",
       "      <td>김민재</td>\n",
       "      <td>27</td>\n",
       "      <td>75</td>\n",
       "      <td>5428000</td>\n",
       "      <td></td>\n",
       "    </tr>\n",
       "    <tr>\n",
       "      <th>1</th>\n",
       "      <td>이강인</td>\n",
       "      <td>22</td>\n",
       "      <td>57</td>\n",
       "      <td>3428000</td>\n",
       "      <td></td>\n",
       "    </tr>\n",
       "    <tr>\n",
       "      <th>2</th>\n",
       "      <td>박찬호</td>\n",
       "      <td>50</td>\n",
       "      <td>91</td>\n",
       "      <td>8428000</td>\n",
       "      <td></td>\n",
       "    </tr>\n",
       "    <tr>\n",
       "      <th>3</th>\n",
       "      <td>차범근</td>\n",
       "      <td>70</td>\n",
       "      <td>80</td>\n",
       "      <td>4428000</td>\n",
       "      <td></td>\n",
       "    </tr>\n",
       "    <tr>\n",
       "      <th>4</th>\n",
       "      <td>추신수</td>\n",
       "      <td>43</td>\n",
       "      <td>100</td>\n",
       "      <td>4528000</td>\n",
       "      <td></td>\n",
       "    </tr>\n",
       "    <tr>\n",
       "      <th>5</th>\n",
       "      <td>손흥민</td>\n",
       "      <td>31</td>\n",
       "      <td>72</td>\n",
       "      <td>7028000</td>\n",
       "      <td></td>\n",
       "    </tr>\n",
       "    <tr>\n",
       "      <th>6</th>\n",
       "      <td>황희찬</td>\n",
       "      <td>28</td>\n",
       "      <td>69</td>\n",
       "      <td>2528000</td>\n",
       "      <td></td>\n",
       "    </tr>\n",
       "  </tbody>\n",
       "</table>\n",
       "</div>"
      ],
      "text/plain": [
       "    성명  나이  몸무게       급여 체질량\n",
       "0  김민재  27   75  5428000    \n",
       "1  이강인  22   57  3428000    \n",
       "2  박찬호  50   91  8428000    \n",
       "3  차범근  70   80  4428000    \n",
       "4  추신수  43  100  4528000    \n",
       "5  손흥민  31   72  7028000    \n",
       "6  황희찬  28   69  2528000    "
      ]
     },
     "execution_count": 243,
     "metadata": {},
     "output_type": "execute_result"
    }
   ],
   "source": [
    "df['체질량']=''\n",
    "df"
   ]
  },
  {
   "cell_type": "code",
   "execution_count": 249,
   "id": "c1be26e3-4b99-4167-b266-45255d892697",
   "metadata": {},
   "outputs": [
    {
     "data": {
      "text/html": [
       "<div>\n",
       "<style scoped>\n",
       "    .dataframe tbody tr th:only-of-type {\n",
       "        vertical-align: middle;\n",
       "    }\n",
       "\n",
       "    .dataframe tbody tr th {\n",
       "        vertical-align: top;\n",
       "    }\n",
       "\n",
       "    .dataframe thead th {\n",
       "        text-align: right;\n",
       "    }\n",
       "</style>\n",
       "<table border=\"1\" class=\"dataframe\">\n",
       "  <thead>\n",
       "    <tr style=\"text-align: right;\">\n",
       "      <th></th>\n",
       "      <th>성명</th>\n",
       "      <th>나이</th>\n",
       "      <th>몸무게</th>\n",
       "      <th>급여</th>\n",
       "      <th>체질량</th>\n",
       "    </tr>\n",
       "  </thead>\n",
       "  <tbody>\n",
       "    <tr>\n",
       "      <th>0</th>\n",
       "      <td>김민재</td>\n",
       "      <td>27</td>\n",
       "      <td>75</td>\n",
       "      <td>5428000</td>\n",
       "      <td></td>\n",
       "    </tr>\n",
       "    <tr>\n",
       "      <th>1</th>\n",
       "      <td>이강인</td>\n",
       "      <td>22</td>\n",
       "      <td>57</td>\n",
       "      <td>3428000</td>\n",
       "      <td></td>\n",
       "    </tr>\n",
       "    <tr>\n",
       "      <th>2</th>\n",
       "      <td>박찬호</td>\n",
       "      <td>50</td>\n",
       "      <td>91</td>\n",
       "      <td>8428000</td>\n",
       "      <td>비만</td>\n",
       "    </tr>\n",
       "    <tr>\n",
       "      <th>3</th>\n",
       "      <td>차범근</td>\n",
       "      <td>70</td>\n",
       "      <td>80</td>\n",
       "      <td>4428000</td>\n",
       "      <td></td>\n",
       "    </tr>\n",
       "    <tr>\n",
       "      <th>4</th>\n",
       "      <td>추신수</td>\n",
       "      <td>43</td>\n",
       "      <td>100</td>\n",
       "      <td>4528000</td>\n",
       "      <td>비만</td>\n",
       "    </tr>\n",
       "    <tr>\n",
       "      <th>5</th>\n",
       "      <td>손흥민</td>\n",
       "      <td>31</td>\n",
       "      <td>72</td>\n",
       "      <td>7028000</td>\n",
       "      <td></td>\n",
       "    </tr>\n",
       "    <tr>\n",
       "      <th>6</th>\n",
       "      <td>황희찬</td>\n",
       "      <td>28</td>\n",
       "      <td>69</td>\n",
       "      <td>2528000</td>\n",
       "      <td></td>\n",
       "    </tr>\n",
       "  </tbody>\n",
       "</table>\n",
       "</div>"
      ],
      "text/plain": [
       "    성명  나이  몸무게       급여 체질량\n",
       "0  김민재  27   75  5428000    \n",
       "1  이강인  22   57  3428000    \n",
       "2  박찬호  50   91  8428000  비만\n",
       "3  차범근  70   80  4428000    \n",
       "4  추신수  43  100  4528000  비만\n",
       "5  손흥민  31   72  7028000    \n",
       "6  황희찬  28   69  2528000    "
      ]
     },
     "execution_count": 249,
     "metadata": {},
     "output_type": "execute_result"
    }
   ],
   "source": [
    "df.loc[df['몸무게']>80,['체질량']] = '비만'\n",
    "df"
   ]
  },
  {
   "cell_type": "markdown",
   "id": "2c83e5ad-9513-41e7-b0d2-b0bfde164345",
   "metadata": {},
   "source": [
    "### df.drop: 특정 행과 컬럼을 삭제\n",
    "        * axis=0: 세로축(행)\n",
    "        * axis=1: 가로축(열)"
   ]
  },
  {
   "cell_type": "code",
   "execution_count": 254,
   "id": "31fa4016-f33f-462f-9516-a6dedad5afbd",
   "metadata": {},
   "outputs": [
    {
     "data": {
      "text/html": [
       "<div>\n",
       "<style scoped>\n",
       "    .dataframe tbody tr th:only-of-type {\n",
       "        vertical-align: middle;\n",
       "    }\n",
       "\n",
       "    .dataframe tbody tr th {\n",
       "        vertical-align: top;\n",
       "    }\n",
       "\n",
       "    .dataframe thead th {\n",
       "        text-align: right;\n",
       "    }\n",
       "</style>\n",
       "<table border=\"1\" class=\"dataframe\">\n",
       "  <thead>\n",
       "    <tr style=\"text-align: right;\">\n",
       "      <th></th>\n",
       "      <th>성명</th>\n",
       "      <th>나이</th>\n",
       "      <th>급여</th>\n",
       "    </tr>\n",
       "  </thead>\n",
       "  <tbody>\n",
       "    <tr>\n",
       "      <th>0</th>\n",
       "      <td>김민재</td>\n",
       "      <td>27</td>\n",
       "      <td>5428000</td>\n",
       "    </tr>\n",
       "    <tr>\n",
       "      <th>1</th>\n",
       "      <td>이강인</td>\n",
       "      <td>22</td>\n",
       "      <td>3428000</td>\n",
       "    </tr>\n",
       "    <tr>\n",
       "      <th>2</th>\n",
       "      <td>박찬호</td>\n",
       "      <td>50</td>\n",
       "      <td>8428000</td>\n",
       "    </tr>\n",
       "    <tr>\n",
       "      <th>3</th>\n",
       "      <td>차범근</td>\n",
       "      <td>70</td>\n",
       "      <td>4428000</td>\n",
       "    </tr>\n",
       "    <tr>\n",
       "      <th>4</th>\n",
       "      <td>추신수</td>\n",
       "      <td>43</td>\n",
       "      <td>4528000</td>\n",
       "    </tr>\n",
       "    <tr>\n",
       "      <th>5</th>\n",
       "      <td>손흥민</td>\n",
       "      <td>31</td>\n",
       "      <td>7028000</td>\n",
       "    </tr>\n",
       "    <tr>\n",
       "      <th>6</th>\n",
       "      <td>황희찬</td>\n",
       "      <td>28</td>\n",
       "      <td>2528000</td>\n",
       "    </tr>\n",
       "  </tbody>\n",
       "</table>\n",
       "</div>"
      ],
      "text/plain": [
       "    성명  나이       급여\n",
       "0  김민재  27  5428000\n",
       "1  이강인  22  3428000\n",
       "2  박찬호  50  8428000\n",
       "3  차범근  70  4428000\n",
       "4  추신수  43  4528000\n",
       "5  손흥민  31  7028000\n",
       "6  황희찬  28  2528000"
      ]
     },
     "execution_count": 254,
     "metadata": {},
     "output_type": "execute_result"
    }
   ],
   "source": [
    "df.drop(['몸무게','체질량'],axis=1)"
   ]
  },
  {
   "cell_type": "code",
   "execution_count": 258,
   "id": "9f27db97-a54c-4f14-9143-391418563a8a",
   "metadata": {},
   "outputs": [
    {
     "data": {
      "text/html": [
       "<div>\n",
       "<style scoped>\n",
       "    .dataframe tbody tr th:only-of-type {\n",
       "        vertical-align: middle;\n",
       "    }\n",
       "\n",
       "    .dataframe tbody tr th {\n",
       "        vertical-align: top;\n",
       "    }\n",
       "\n",
       "    .dataframe thead th {\n",
       "        text-align: right;\n",
       "    }\n",
       "</style>\n",
       "<table border=\"1\" class=\"dataframe\">\n",
       "  <thead>\n",
       "    <tr style=\"text-align: right;\">\n",
       "      <th></th>\n",
       "      <th>성명</th>\n",
       "      <th>나이</th>\n",
       "      <th>급여</th>\n",
       "    </tr>\n",
       "  </thead>\n",
       "  <tbody>\n",
       "    <tr>\n",
       "      <th>0</th>\n",
       "      <td>김민재</td>\n",
       "      <td>27</td>\n",
       "      <td>5428000</td>\n",
       "    </tr>\n",
       "    <tr>\n",
       "      <th>1</th>\n",
       "      <td>이강인</td>\n",
       "      <td>22</td>\n",
       "      <td>3428000</td>\n",
       "    </tr>\n",
       "    <tr>\n",
       "      <th>2</th>\n",
       "      <td>박찬호</td>\n",
       "      <td>50</td>\n",
       "      <td>8428000</td>\n",
       "    </tr>\n",
       "    <tr>\n",
       "      <th>3</th>\n",
       "      <td>차범근</td>\n",
       "      <td>70</td>\n",
       "      <td>4428000</td>\n",
       "    </tr>\n",
       "    <tr>\n",
       "      <th>4</th>\n",
       "      <td>추신수</td>\n",
       "      <td>43</td>\n",
       "      <td>4528000</td>\n",
       "    </tr>\n",
       "    <tr>\n",
       "      <th>5</th>\n",
       "      <td>손흥민</td>\n",
       "      <td>31</td>\n",
       "      <td>7028000</td>\n",
       "    </tr>\n",
       "    <tr>\n",
       "      <th>6</th>\n",
       "      <td>황희찬</td>\n",
       "      <td>28</td>\n",
       "      <td>2528000</td>\n",
       "    </tr>\n",
       "  </tbody>\n",
       "</table>\n",
       "</div>"
      ],
      "text/plain": [
       "    성명  나이       급여\n",
       "0  김민재  27  5428000\n",
       "1  이강인  22  3428000\n",
       "2  박찬호  50  8428000\n",
       "3  차범근  70  4428000\n",
       "4  추신수  43  4528000\n",
       "5  손흥민  31  7028000\n",
       "6  황희찬  28  2528000"
      ]
     },
     "execution_count": 258,
     "metadata": {},
     "output_type": "execute_result"
    }
   ],
   "source": [
    "df2 = df.drop(['몸무게','체질량'],axis=1)\n",
    "df2"
   ]
  },
  {
   "cell_type": "code",
   "execution_count": 270,
   "id": "8b38fd82-4002-41b3-82dd-66263903f338",
   "metadata": {},
   "outputs": [],
   "source": [
    "df.drop(['몸무게','체질량'],axis=1, inplace=True)"
   ]
  },
  {
   "cell_type": "code",
   "execution_count": 272,
   "id": "bfc920d4-6db8-4740-985f-2b1bcba37849",
   "metadata": {},
   "outputs": [
    {
     "data": {
      "text/html": [
       "<div>\n",
       "<style scoped>\n",
       "    .dataframe tbody tr th:only-of-type {\n",
       "        vertical-align: middle;\n",
       "    }\n",
       "\n",
       "    .dataframe tbody tr th {\n",
       "        vertical-align: top;\n",
       "    }\n",
       "\n",
       "    .dataframe thead th {\n",
       "        text-align: right;\n",
       "    }\n",
       "</style>\n",
       "<table border=\"1\" class=\"dataframe\">\n",
       "  <thead>\n",
       "    <tr style=\"text-align: right;\">\n",
       "      <th></th>\n",
       "      <th>성명</th>\n",
       "      <th>나이</th>\n",
       "      <th>급여</th>\n",
       "    </tr>\n",
       "  </thead>\n",
       "  <tbody>\n",
       "    <tr>\n",
       "      <th>0</th>\n",
       "      <td>김민재</td>\n",
       "      <td>27</td>\n",
       "      <td>5428000</td>\n",
       "    </tr>\n",
       "    <tr>\n",
       "      <th>1</th>\n",
       "      <td>이강인</td>\n",
       "      <td>22</td>\n",
       "      <td>3428000</td>\n",
       "    </tr>\n",
       "    <tr>\n",
       "      <th>2</th>\n",
       "      <td>박찬호</td>\n",
       "      <td>50</td>\n",
       "      <td>8428000</td>\n",
       "    </tr>\n",
       "    <tr>\n",
       "      <th>3</th>\n",
       "      <td>차범근</td>\n",
       "      <td>70</td>\n",
       "      <td>4428000</td>\n",
       "    </tr>\n",
       "    <tr>\n",
       "      <th>4</th>\n",
       "      <td>추신수</td>\n",
       "      <td>43</td>\n",
       "      <td>4528000</td>\n",
       "    </tr>\n",
       "    <tr>\n",
       "      <th>5</th>\n",
       "      <td>손흥민</td>\n",
       "      <td>31</td>\n",
       "      <td>7028000</td>\n",
       "    </tr>\n",
       "    <tr>\n",
       "      <th>6</th>\n",
       "      <td>황희찬</td>\n",
       "      <td>28</td>\n",
       "      <td>2528000</td>\n",
       "    </tr>\n",
       "  </tbody>\n",
       "</table>\n",
       "</div>"
      ],
      "text/plain": [
       "    성명  나이       급여\n",
       "0  김민재  27  5428000\n",
       "1  이강인  22  3428000\n",
       "2  박찬호  50  8428000\n",
       "3  차범근  70  4428000\n",
       "4  추신수  43  4528000\n",
       "5  손흥민  31  7028000\n",
       "6  황희찬  28  2528000"
      ]
     },
     "execution_count": 272,
     "metadata": {},
     "output_type": "execute_result"
    }
   ],
   "source": [
    "df"
   ]
  },
  {
   "cell_type": "code",
   "execution_count": 276,
   "id": "04c45307-8f9c-43b6-8855-ec530ad960d6",
   "metadata": {},
   "outputs": [
    {
     "data": {
      "text/html": [
       "<div>\n",
       "<style scoped>\n",
       "    .dataframe tbody tr th:only-of-type {\n",
       "        vertical-align: middle;\n",
       "    }\n",
       "\n",
       "    .dataframe tbody tr th {\n",
       "        vertical-align: top;\n",
       "    }\n",
       "\n",
       "    .dataframe thead th {\n",
       "        text-align: right;\n",
       "    }\n",
       "</style>\n",
       "<table border=\"1\" class=\"dataframe\">\n",
       "  <thead>\n",
       "    <tr style=\"text-align: right;\">\n",
       "      <th></th>\n",
       "      <th>성명</th>\n",
       "      <th>나이</th>\n",
       "      <th>몸무게</th>\n",
       "      <th>급여</th>\n",
       "    </tr>\n",
       "  </thead>\n",
       "  <tbody>\n",
       "    <tr>\n",
       "      <th>0</th>\n",
       "      <td>김민재</td>\n",
       "      <td>27</td>\n",
       "      <td>75</td>\n",
       "      <td>5428000</td>\n",
       "    </tr>\n",
       "    <tr>\n",
       "      <th>1</th>\n",
       "      <td>이강인</td>\n",
       "      <td>22</td>\n",
       "      <td>57</td>\n",
       "      <td>3428000</td>\n",
       "    </tr>\n",
       "    <tr>\n",
       "      <th>2</th>\n",
       "      <td>박찬호</td>\n",
       "      <td>50</td>\n",
       "      <td>91</td>\n",
       "      <td>8428000</td>\n",
       "    </tr>\n",
       "    <tr>\n",
       "      <th>3</th>\n",
       "      <td>차범근</td>\n",
       "      <td>70</td>\n",
       "      <td>80</td>\n",
       "      <td>4428000</td>\n",
       "    </tr>\n",
       "    <tr>\n",
       "      <th>4</th>\n",
       "      <td>추신수</td>\n",
       "      <td>43</td>\n",
       "      <td>100</td>\n",
       "      <td>4528000</td>\n",
       "    </tr>\n",
       "    <tr>\n",
       "      <th>5</th>\n",
       "      <td>손흥민</td>\n",
       "      <td>31</td>\n",
       "      <td>72</td>\n",
       "      <td>7028000</td>\n",
       "    </tr>\n",
       "    <tr>\n",
       "      <th>6</th>\n",
       "      <td>황희찬</td>\n",
       "      <td>28</td>\n",
       "      <td>69</td>\n",
       "      <td>2528000</td>\n",
       "    </tr>\n",
       "  </tbody>\n",
       "</table>\n",
       "</div>"
      ],
      "text/plain": [
       "    성명  나이  몸무게       급여\n",
       "0  김민재  27   75  5428000\n",
       "1  이강인  22   57  3428000\n",
       "2  박찬호  50   91  8428000\n",
       "3  차범근  70   80  4428000\n",
       "4  추신수  43  100  4528000\n",
       "5  손흥민  31   72  7028000\n",
       "6  황희찬  28   69  2528000"
      ]
     },
     "execution_count": 276,
     "metadata": {},
     "output_type": "execute_result"
    }
   ],
   "source": [
    "df"
   ]
  },
  {
   "cell_type": "code",
   "execution_count": 292,
   "id": "f04f9070-e449-4144-a53d-0daa6da87c66",
   "metadata": {},
   "outputs": [
    {
     "data": {
      "text/html": [
       "<div>\n",
       "<style scoped>\n",
       "    .dataframe tbody tr th:only-of-type {\n",
       "        vertical-align: middle;\n",
       "    }\n",
       "\n",
       "    .dataframe tbody tr th {\n",
       "        vertical-align: top;\n",
       "    }\n",
       "\n",
       "    .dataframe thead th {\n",
       "        text-align: right;\n",
       "    }\n",
       "</style>\n",
       "<table border=\"1\" class=\"dataframe\">\n",
       "  <thead>\n",
       "    <tr style=\"text-align: right;\">\n",
       "      <th></th>\n",
       "      <th>성명</th>\n",
       "      <th>나이</th>\n",
       "      <th>몸무게</th>\n",
       "      <th>급여</th>\n",
       "    </tr>\n",
       "  </thead>\n",
       "  <tbody>\n",
       "    <tr>\n",
       "      <th>1</th>\n",
       "      <td>이강인</td>\n",
       "      <td>22</td>\n",
       "      <td>57</td>\n",
       "      <td>3428000</td>\n",
       "    </tr>\n",
       "    <tr>\n",
       "      <th>2</th>\n",
       "      <td>박찬호</td>\n",
       "      <td>50</td>\n",
       "      <td>91</td>\n",
       "      <td>8428000</td>\n",
       "    </tr>\n",
       "    <tr>\n",
       "      <th>3</th>\n",
       "      <td>차범근</td>\n",
       "      <td>70</td>\n",
       "      <td>80</td>\n",
       "      <td>4428000</td>\n",
       "    </tr>\n",
       "    <tr>\n",
       "      <th>4</th>\n",
       "      <td>추신수</td>\n",
       "      <td>43</td>\n",
       "      <td>100</td>\n",
       "      <td>4528000</td>\n",
       "    </tr>\n",
       "    <tr>\n",
       "      <th>5</th>\n",
       "      <td>손흥민</td>\n",
       "      <td>31</td>\n",
       "      <td>72</td>\n",
       "      <td>7028000</td>\n",
       "    </tr>\n",
       "    <tr>\n",
       "      <th>6</th>\n",
       "      <td>황희찬</td>\n",
       "      <td>28</td>\n",
       "      <td>69</td>\n",
       "      <td>2528000</td>\n",
       "    </tr>\n",
       "  </tbody>\n",
       "</table>\n",
       "</div>"
      ],
      "text/plain": [
       "    성명  나이  몸무게       급여\n",
       "1  이강인  22   57  3428000\n",
       "2  박찬호  50   91  8428000\n",
       "3  차범근  70   80  4428000\n",
       "4  추신수  43  100  4528000\n",
       "5  손흥민  31   72  7028000\n",
       "6  황희찬  28   69  2528000"
      ]
     },
     "execution_count": 292,
     "metadata": {},
     "output_type": "execute_result"
    }
   ],
   "source": [
    "df.drop(0)   ### 기본값 : axis=0, 행, 0: 인덱스명\n",
    "#df.drop(0, axis=0)"
   ]
  },
  {
   "cell_type": "code",
   "execution_count": 304,
   "id": "b64f88c2-4cb7-49a8-9ebb-f0aa930bd1b6",
   "metadata": {},
   "outputs": [
    {
     "data": {
      "text/html": [
       "<div>\n",
       "<style scoped>\n",
       "    .dataframe tbody tr th:only-of-type {\n",
       "        vertical-align: middle;\n",
       "    }\n",
       "\n",
       "    .dataframe tbody tr th {\n",
       "        vertical-align: top;\n",
       "    }\n",
       "\n",
       "    .dataframe thead th {\n",
       "        text-align: right;\n",
       "    }\n",
       "</style>\n",
       "<table border=\"1\" class=\"dataframe\">\n",
       "  <thead>\n",
       "    <tr style=\"text-align: right;\">\n",
       "      <th></th>\n",
       "      <th>성명</th>\n",
       "      <th>나이</th>\n",
       "      <th>몸무게</th>\n",
       "      <th>급여</th>\n",
       "    </tr>\n",
       "  </thead>\n",
       "  <tbody>\n",
       "    <tr>\n",
       "      <th>0</th>\n",
       "      <td>김민재</td>\n",
       "      <td>27</td>\n",
       "      <td>75</td>\n",
       "      <td>5428000</td>\n",
       "    </tr>\n",
       "    <tr>\n",
       "      <th>1</th>\n",
       "      <td>이강인</td>\n",
       "      <td>22</td>\n",
       "      <td>57</td>\n",
       "      <td>3428000</td>\n",
       "    </tr>\n",
       "    <tr>\n",
       "      <th>4</th>\n",
       "      <td>추신수</td>\n",
       "      <td>43</td>\n",
       "      <td>100</td>\n",
       "      <td>4528000</td>\n",
       "    </tr>\n",
       "    <tr>\n",
       "      <th>5</th>\n",
       "      <td>손흥민</td>\n",
       "      <td>31</td>\n",
       "      <td>72</td>\n",
       "      <td>7028000</td>\n",
       "    </tr>\n",
       "    <tr>\n",
       "      <th>6</th>\n",
       "      <td>황희찬</td>\n",
       "      <td>28</td>\n",
       "      <td>69</td>\n",
       "      <td>2528000</td>\n",
       "    </tr>\n",
       "  </tbody>\n",
       "</table>\n",
       "</div>"
      ],
      "text/plain": [
       "    성명  나이  몸무게       급여\n",
       "0  김민재  27   75  5428000\n",
       "1  이강인  22   57  3428000\n",
       "4  추신수  43  100  4528000\n",
       "5  손흥민  31   72  7028000\n",
       "6  황희찬  28   69  2528000"
      ]
     },
     "execution_count": 304,
     "metadata": {},
     "output_type": "execute_result"
    }
   ],
   "source": [
    "df.drop(df.index[2:4]) # 행의 범위를 지정해서 삭제()"
   ]
  },
  {
   "cell_type": "code",
   "execution_count": 306,
   "id": "d13b335b-fd89-44de-9aba-3161fc45b2a1",
   "metadata": {},
   "outputs": [
    {
     "data": {
      "text/html": [
       "<div>\n",
       "<style scoped>\n",
       "    .dataframe tbody tr th:only-of-type {\n",
       "        vertical-align: middle;\n",
       "    }\n",
       "\n",
       "    .dataframe tbody tr th {\n",
       "        vertical-align: top;\n",
       "    }\n",
       "\n",
       "    .dataframe thead th {\n",
       "        text-align: right;\n",
       "    }\n",
       "</style>\n",
       "<table border=\"1\" class=\"dataframe\">\n",
       "  <thead>\n",
       "    <tr style=\"text-align: right;\">\n",
       "      <th></th>\n",
       "      <th>성명</th>\n",
       "      <th>나이</th>\n",
       "      <th>몸무게</th>\n",
       "      <th>급여</th>\n",
       "    </tr>\n",
       "  </thead>\n",
       "  <tbody>\n",
       "    <tr>\n",
       "      <th>0</th>\n",
       "      <td>김민재</td>\n",
       "      <td>27</td>\n",
       "      <td>75</td>\n",
       "      <td>5428000</td>\n",
       "    </tr>\n",
       "    <tr>\n",
       "      <th>1</th>\n",
       "      <td>이강인</td>\n",
       "      <td>22</td>\n",
       "      <td>57</td>\n",
       "      <td>3428000</td>\n",
       "    </tr>\n",
       "    <tr>\n",
       "      <th>4</th>\n",
       "      <td>추신수</td>\n",
       "      <td>43</td>\n",
       "      <td>100</td>\n",
       "      <td>4528000</td>\n",
       "    </tr>\n",
       "    <tr>\n",
       "      <th>5</th>\n",
       "      <td>손흥민</td>\n",
       "      <td>31</td>\n",
       "      <td>72</td>\n",
       "      <td>7028000</td>\n",
       "    </tr>\n",
       "    <tr>\n",
       "      <th>6</th>\n",
       "      <td>황희찬</td>\n",
       "      <td>28</td>\n",
       "      <td>69</td>\n",
       "      <td>2528000</td>\n",
       "    </tr>\n",
       "  </tbody>\n",
       "</table>\n",
       "</div>"
      ],
      "text/plain": [
       "    성명  나이  몸무게       급여\n",
       "0  김민재  27   75  5428000\n",
       "1  이강인  22   57  3428000\n",
       "4  추신수  43  100  4528000\n",
       "5  손흥민  31   72  7028000\n",
       "6  황희찬  28   69  2528000"
      ]
     },
     "execution_count": 306,
     "metadata": {},
     "output_type": "execute_result"
    }
   ],
   "source": [
    "df.drop(df.iloc[2:4].index) # 행의 범위를 지정해서 삭제(df.iloc[].index를 활용)"
   ]
  },
  {
   "cell_type": "code",
   "execution_count": 308,
   "id": "3c360184-264d-47c3-bfa7-b7be1d195345",
   "metadata": {},
   "outputs": [
    {
     "data": {
      "text/html": [
       "<div>\n",
       "<style scoped>\n",
       "    .dataframe tbody tr th:only-of-type {\n",
       "        vertical-align: middle;\n",
       "    }\n",
       "\n",
       "    .dataframe tbody tr th {\n",
       "        vertical-align: top;\n",
       "    }\n",
       "\n",
       "    .dataframe thead th {\n",
       "        text-align: right;\n",
       "    }\n",
       "</style>\n",
       "<table border=\"1\" class=\"dataframe\">\n",
       "  <thead>\n",
       "    <tr style=\"text-align: right;\">\n",
       "      <th></th>\n",
       "      <th>성명</th>\n",
       "      <th>나이</th>\n",
       "      <th>급여</th>\n",
       "    </tr>\n",
       "  </thead>\n",
       "  <tbody>\n",
       "    <tr>\n",
       "      <th>0</th>\n",
       "      <td>김민재</td>\n",
       "      <td>27</td>\n",
       "      <td>5428000</td>\n",
       "    </tr>\n",
       "    <tr>\n",
       "      <th>1</th>\n",
       "      <td>이강인</td>\n",
       "      <td>22</td>\n",
       "      <td>3428000</td>\n",
       "    </tr>\n",
       "    <tr>\n",
       "      <th>2</th>\n",
       "      <td>박찬호</td>\n",
       "      <td>50</td>\n",
       "      <td>8428000</td>\n",
       "    </tr>\n",
       "    <tr>\n",
       "      <th>3</th>\n",
       "      <td>차범근</td>\n",
       "      <td>70</td>\n",
       "      <td>4428000</td>\n",
       "    </tr>\n",
       "    <tr>\n",
       "      <th>4</th>\n",
       "      <td>추신수</td>\n",
       "      <td>43</td>\n",
       "      <td>4528000</td>\n",
       "    </tr>\n",
       "    <tr>\n",
       "      <th>5</th>\n",
       "      <td>손흥민</td>\n",
       "      <td>31</td>\n",
       "      <td>7028000</td>\n",
       "    </tr>\n",
       "    <tr>\n",
       "      <th>6</th>\n",
       "      <td>황희찬</td>\n",
       "      <td>28</td>\n",
       "      <td>2528000</td>\n",
       "    </tr>\n",
       "  </tbody>\n",
       "</table>\n",
       "</div>"
      ],
      "text/plain": [
       "    성명  나이       급여\n",
       "0  김민재  27  5428000\n",
       "1  이강인  22  3428000\n",
       "2  박찬호  50  8428000\n",
       "3  차범근  70  4428000\n",
       "4  추신수  43  4528000\n",
       "5  손흥민  31  7028000\n",
       "6  황희찬  28  2528000"
      ]
     },
     "execution_count": 308,
     "metadata": {},
     "output_type": "execute_result"
    }
   ],
   "source": [
    "df.iloc[:,[0,1,3]]"
   ]
  },
  {
   "cell_type": "code",
   "execution_count": 310,
   "id": "1c3609d2-d0c3-4602-8d6c-57dac3e49cb8",
   "metadata": {},
   "outputs": [
    {
     "data": {
      "text/html": [
       "<div>\n",
       "<style scoped>\n",
       "    .dataframe tbody tr th:only-of-type {\n",
       "        vertical-align: middle;\n",
       "    }\n",
       "\n",
       "    .dataframe tbody tr th {\n",
       "        vertical-align: top;\n",
       "    }\n",
       "\n",
       "    .dataframe thead th {\n",
       "        text-align: right;\n",
       "    }\n",
       "</style>\n",
       "<table border=\"1\" class=\"dataframe\">\n",
       "  <thead>\n",
       "    <tr style=\"text-align: right;\">\n",
       "      <th></th>\n",
       "      <th>성명</th>\n",
       "      <th>급여</th>\n",
       "    </tr>\n",
       "  </thead>\n",
       "  <tbody>\n",
       "    <tr>\n",
       "      <th>0</th>\n",
       "      <td>김민재</td>\n",
       "      <td>5428000</td>\n",
       "    </tr>\n",
       "    <tr>\n",
       "      <th>1</th>\n",
       "      <td>이강인</td>\n",
       "      <td>3428000</td>\n",
       "    </tr>\n",
       "    <tr>\n",
       "      <th>2</th>\n",
       "      <td>박찬호</td>\n",
       "      <td>8428000</td>\n",
       "    </tr>\n",
       "    <tr>\n",
       "      <th>3</th>\n",
       "      <td>차범근</td>\n",
       "      <td>4428000</td>\n",
       "    </tr>\n",
       "    <tr>\n",
       "      <th>4</th>\n",
       "      <td>추신수</td>\n",
       "      <td>4528000</td>\n",
       "    </tr>\n",
       "    <tr>\n",
       "      <th>5</th>\n",
       "      <td>손흥민</td>\n",
       "      <td>7028000</td>\n",
       "    </tr>\n",
       "    <tr>\n",
       "      <th>6</th>\n",
       "      <td>황희찬</td>\n",
       "      <td>2528000</td>\n",
       "    </tr>\n",
       "  </tbody>\n",
       "</table>\n",
       "</div>"
      ],
      "text/plain": [
       "    성명       급여\n",
       "0  김민재  5428000\n",
       "1  이강인  3428000\n",
       "2  박찬호  8428000\n",
       "3  차범근  4428000\n",
       "4  추신수  4528000\n",
       "5  손흥민  7028000\n",
       "6  황희찬  2528000"
      ]
     },
     "execution_count": 310,
     "metadata": {},
     "output_type": "execute_result"
    }
   ],
   "source": [
    "df.iloc[:,[0,1,3]].drop(\"나이\",axis=1)"
   ]
  },
  {
   "cell_type": "markdown",
   "id": "143fdb37-381b-46e8-a05d-7a6949e4fb73",
   "metadata": {},
   "source": [
    "## .str() 메서드\n",
    "\n",
    "*[문자열 추출]\n",
    "- .str.len(): 각 문자열의 길이를 반환한다.\n",
    "- .str.split(): 문자열을 특정 구분자를 기준으로 분할한다.\n",
    "- .str.get(): 문자열의 특정 위치에 있는 문자를 반환한다.\n",
    "\n",
    "*[문자열 변환]\n",
    "- .str.lower(): 모든 문자열을 소문자로 변환한다.\n",
    "- .str.upper(): 모든 문자열을 대문자로 변환한다.\n",
    "- .str.capitalize(): 각 문자열의 첫 문자를 대문자로 변환한다.\n",
    "\n",
    "*[문자열 처리]\n",
    "- .str.contains(): 특정 문자열이 포함되어 있는지 확인한다.\n",
    "- .str.replace(): 특정 문자열을 다른 문자열로 대체다.\n",
    "- .str.findall(): 정규 표현식과 일치하는 모든 문자열을 리스트로 반환한다.\n",
    "- .str.strip(): 문자열 양 끝에 포함된 공백을 재거"
   ]
  },
  {
   "cell_type": "code",
   "execution_count": 379,
   "id": "847814f2-bc81-4a7b-b0ce-eb1f35b8f345",
   "metadata": {},
   "outputs": [
    {
     "data": {
      "text/html": [
       "<div>\n",
       "<style scoped>\n",
       "    .dataframe tbody tr th:only-of-type {\n",
       "        vertical-align: middle;\n",
       "    }\n",
       "\n",
       "    .dataframe tbody tr th {\n",
       "        vertical-align: top;\n",
       "    }\n",
       "\n",
       "    .dataframe thead th {\n",
       "        text-align: right;\n",
       "    }\n",
       "</style>\n",
       "<table border=\"1\" class=\"dataframe\">\n",
       "  <thead>\n",
       "    <tr style=\"text-align: right;\">\n",
       "      <th></th>\n",
       "      <th>0</th>\n",
       "    </tr>\n",
       "  </thead>\n",
       "  <tbody>\n",
       "    <tr>\n",
       "      <th>0</th>\n",
       "      <td>김예찬, m, 부장, 010-1234-5678, 서울시 강남구 삼성동</td>\n",
       "    </tr>\n",
       "    <tr>\n",
       "      <th>1</th>\n",
       "      <td>이하은, f, 인턴, 010-8765-4321, 부산시 해운대구 우동</td>\n",
       "    </tr>\n",
       "    <tr>\n",
       "      <th>2</th>\n",
       "      <td>박지현, f, 과장, 010-1357-2468, 대구시 수성구 범어동</td>\n",
       "    </tr>\n",
       "    <tr>\n",
       "      <th>3</th>\n",
       "      <td>최준호, m, 임시, 010-1928-3746, 인천시 연수구 송도동</td>\n",
       "    </tr>\n",
       "    <tr>\n",
       "      <th>4</th>\n",
       "      <td>김예서, f, 과장, 010-2846-5937, 천안시 서북구 두정동</td>\n",
       "    </tr>\n",
       "  </tbody>\n",
       "</table>\n",
       "</div>"
      ],
      "text/plain": [
       "                                        0\n",
       "0  김예찬, m, 부장, 010-1234-5678, 서울시 강남구 삼성동\n",
       "1  이하은, f, 인턴, 010-8765-4321, 부산시 해운대구 우동\n",
       "2  박지현, f, 과장, 010-1357-2468, 대구시 수성구 범어동\n",
       "3  최준호, m, 임시, 010-1928-3746, 인천시 연수구 송도동\n",
       "4  김예서, f, 과장, 010-2846-5937, 천안시 서북구 두정동"
      ]
     },
     "execution_count": 379,
     "metadata": {},
     "output_type": "execute_result"
    }
   ],
   "source": [
    "import pandas as pd\n",
    "data =['김예찬, m, 부장, 010-1234-5678, 서울시 강남구 삼성동',\n",
    "       '이하은, f, 인턴, 010-8765-4321, 부산시 해운대구 우동',\n",
    "       '박지현, f, 과장, 010-1357-2468, 대구시 수성구 범어동',\n",
    "       '최준호, m, 임시, 010-1928-3746, 인천시 연수구 송도동',\n",
    "       '김예서, f, 과장, 010-2846-5937, 천안시 서북구 두정동'\n",
    "      ]\n",
    "data\n",
    "pd.DataFrame(data)"
   ]
  },
  {
   "cell_type": "code",
   "execution_count": 381,
   "id": "f30baea7-164f-44b2-aa67-06d92f77f831",
   "metadata": {},
   "outputs": [
    {
     "data": {
      "text/html": [
       "<div>\n",
       "<style scoped>\n",
       "    .dataframe tbody tr th:only-of-type {\n",
       "        vertical-align: middle;\n",
       "    }\n",
       "\n",
       "    .dataframe tbody tr th {\n",
       "        vertical-align: top;\n",
       "    }\n",
       "\n",
       "    .dataframe thead th {\n",
       "        text-align: right;\n",
       "    }\n",
       "</style>\n",
       "<table border=\"1\" class=\"dataframe\">\n",
       "  <thead>\n",
       "    <tr style=\"text-align: right;\">\n",
       "      <th></th>\n",
       "      <th>직원데이터</th>\n",
       "    </tr>\n",
       "  </thead>\n",
       "  <tbody>\n",
       "    <tr>\n",
       "      <th>0</th>\n",
       "      <td>김예찬, m, 부장, 010-1234-5678, 서울시 강남구 삼성동</td>\n",
       "    </tr>\n",
       "    <tr>\n",
       "      <th>1</th>\n",
       "      <td>이하은, f, 인턴, 010-8765-4321, 부산시 해운대구 우동</td>\n",
       "    </tr>\n",
       "    <tr>\n",
       "      <th>2</th>\n",
       "      <td>박지현, f, 과장, 010-1357-2468, 대구시 수성구 범어동</td>\n",
       "    </tr>\n",
       "    <tr>\n",
       "      <th>3</th>\n",
       "      <td>최준호, m, 임시, 010-1928-3746, 인천시 연수구 송도동</td>\n",
       "    </tr>\n",
       "    <tr>\n",
       "      <th>4</th>\n",
       "      <td>김예서, f, 과장, 010-2846-5937, 천안시 서북구 두정동</td>\n",
       "    </tr>\n",
       "  </tbody>\n",
       "</table>\n",
       "</div>"
      ],
      "text/plain": [
       "                                    직원데이터\n",
       "0  김예찬, m, 부장, 010-1234-5678, 서울시 강남구 삼성동\n",
       "1  이하은, f, 인턴, 010-8765-4321, 부산시 해운대구 우동\n",
       "2  박지현, f, 과장, 010-1357-2468, 대구시 수성구 범어동\n",
       "3  최준호, m, 임시, 010-1928-3746, 인천시 연수구 송도동\n",
       "4  김예서, f, 과장, 010-2846-5937, 천안시 서북구 두정동"
      ]
     },
     "execution_count": 381,
     "metadata": {},
     "output_type": "execute_result"
    }
   ],
   "source": [
    "df = pd.DataFrame(data, columns=['직원데이터'])\n",
    "df"
   ]
  },
  {
   "cell_type": "code",
   "execution_count": 383,
   "id": "10711c24-b7eb-4c33-88bc-a2e38c25bb98",
   "metadata": {},
   "outputs": [
    {
     "data": {
      "text/html": [
       "<div>\n",
       "<style scoped>\n",
       "    .dataframe tbody tr th:only-of-type {\n",
       "        vertical-align: middle;\n",
       "    }\n",
       "\n",
       "    .dataframe tbody tr th {\n",
       "        vertical-align: top;\n",
       "    }\n",
       "\n",
       "    .dataframe thead th {\n",
       "        text-align: right;\n",
       "    }\n",
       "</style>\n",
       "<table border=\"1\" class=\"dataframe\">\n",
       "  <thead>\n",
       "    <tr style=\"text-align: right;\">\n",
       "      <th></th>\n",
       "      <th>0</th>\n",
       "      <th>1</th>\n",
       "      <th>2</th>\n",
       "      <th>3</th>\n",
       "      <th>4</th>\n",
       "    </tr>\n",
       "  </thead>\n",
       "  <tbody>\n",
       "    <tr>\n",
       "      <th>0</th>\n",
       "      <td>김예찬</td>\n",
       "      <td>m</td>\n",
       "      <td>부장</td>\n",
       "      <td>010-1234-5678</td>\n",
       "      <td>서울시 강남구 삼성동</td>\n",
       "    </tr>\n",
       "    <tr>\n",
       "      <th>1</th>\n",
       "      <td>이하은</td>\n",
       "      <td>f</td>\n",
       "      <td>인턴</td>\n",
       "      <td>010-8765-4321</td>\n",
       "      <td>부산시 해운대구 우동</td>\n",
       "    </tr>\n",
       "    <tr>\n",
       "      <th>2</th>\n",
       "      <td>박지현</td>\n",
       "      <td>f</td>\n",
       "      <td>과장</td>\n",
       "      <td>010-1357-2468</td>\n",
       "      <td>대구시 수성구 범어동</td>\n",
       "    </tr>\n",
       "    <tr>\n",
       "      <th>3</th>\n",
       "      <td>최준호</td>\n",
       "      <td>m</td>\n",
       "      <td>임시</td>\n",
       "      <td>010-1928-3746</td>\n",
       "      <td>인천시 연수구 송도동</td>\n",
       "    </tr>\n",
       "    <tr>\n",
       "      <th>4</th>\n",
       "      <td>김예서</td>\n",
       "      <td>f</td>\n",
       "      <td>과장</td>\n",
       "      <td>010-2846-5937</td>\n",
       "      <td>천안시 서북구 두정동</td>\n",
       "    </tr>\n",
       "  </tbody>\n",
       "</table>\n",
       "</div>"
      ],
      "text/plain": [
       "     0   1    2               3             4\n",
       "0  김예찬   m   부장   010-1234-5678   서울시 강남구 삼성동\n",
       "1  이하은   f   인턴   010-8765-4321   부산시 해운대구 우동\n",
       "2  박지현   f   과장   010-1357-2468   대구시 수성구 범어동\n",
       "3  최준호   m   임시   010-1928-3746   인천시 연수구 송도동\n",
       "4  김예서   f   과장   010-2846-5937   천안시 서북구 두정동"
      ]
     },
     "execution_count": 383,
     "metadata": {},
     "output_type": "execute_result"
    }
   ],
   "source": [
    "# expand=True 는 각 행의 문자열을 분할한 다음, 분할된 각각의 데이터를 별도의 컬럼으로 저장한다.\n",
    "df =df['직원데이터'].str.split(',',expand=True)\n",
    "df"
   ]
  },
  {
   "cell_type": "code",
   "execution_count": 385,
   "id": "9cb22b7e-2c9f-494b-8754-5caa12a8617f",
   "metadata": {},
   "outputs": [
    {
     "data": {
      "text/html": [
       "<div>\n",
       "<style scoped>\n",
       "    .dataframe tbody tr th:only-of-type {\n",
       "        vertical-align: middle;\n",
       "    }\n",
       "\n",
       "    .dataframe tbody tr th {\n",
       "        vertical-align: top;\n",
       "    }\n",
       "\n",
       "    .dataframe thead th {\n",
       "        text-align: right;\n",
       "    }\n",
       "</style>\n",
       "<table border=\"1\" class=\"dataframe\">\n",
       "  <thead>\n",
       "    <tr style=\"text-align: right;\">\n",
       "      <th></th>\n",
       "      <th>성명</th>\n",
       "      <th>성별</th>\n",
       "      <th>직급</th>\n",
       "      <th>전화번호</th>\n",
       "      <th>주소</th>\n",
       "    </tr>\n",
       "  </thead>\n",
       "  <tbody>\n",
       "    <tr>\n",
       "      <th>0</th>\n",
       "      <td>김예찬</td>\n",
       "      <td>m</td>\n",
       "      <td>부장</td>\n",
       "      <td>010-1234-5678</td>\n",
       "      <td>서울시 강남구 삼성동</td>\n",
       "    </tr>\n",
       "    <tr>\n",
       "      <th>1</th>\n",
       "      <td>이하은</td>\n",
       "      <td>f</td>\n",
       "      <td>인턴</td>\n",
       "      <td>010-8765-4321</td>\n",
       "      <td>부산시 해운대구 우동</td>\n",
       "    </tr>\n",
       "    <tr>\n",
       "      <th>2</th>\n",
       "      <td>박지현</td>\n",
       "      <td>f</td>\n",
       "      <td>과장</td>\n",
       "      <td>010-1357-2468</td>\n",
       "      <td>대구시 수성구 범어동</td>\n",
       "    </tr>\n",
       "    <tr>\n",
       "      <th>3</th>\n",
       "      <td>최준호</td>\n",
       "      <td>m</td>\n",
       "      <td>임시</td>\n",
       "      <td>010-1928-3746</td>\n",
       "      <td>인천시 연수구 송도동</td>\n",
       "    </tr>\n",
       "    <tr>\n",
       "      <th>4</th>\n",
       "      <td>김예서</td>\n",
       "      <td>f</td>\n",
       "      <td>과장</td>\n",
       "      <td>010-2846-5937</td>\n",
       "      <td>천안시 서북구 두정동</td>\n",
       "    </tr>\n",
       "  </tbody>\n",
       "</table>\n",
       "</div>"
      ],
      "text/plain": [
       "    성명  성별   직급            전화번호            주소\n",
       "0  김예찬   m   부장   010-1234-5678   서울시 강남구 삼성동\n",
       "1  이하은   f   인턴   010-8765-4321   부산시 해운대구 우동\n",
       "2  박지현   f   과장   010-1357-2468   대구시 수성구 범어동\n",
       "3  최준호   m   임시   010-1928-3746   인천시 연수구 송도동\n",
       "4  김예서   f   과장   010-2846-5937   천안시 서북구 두정동"
      ]
     },
     "execution_count": 385,
     "metadata": {},
     "output_type": "execute_result"
    }
   ],
   "source": [
    "df.columns =['성명','성별','직급','전화번호','주소']\n",
    "df"
   ]
  },
  {
   "cell_type": "code",
   "execution_count": 387,
   "id": "2a92e4e5-d8b6-4d98-afd4-0f7e656d5dba",
   "metadata": {},
   "outputs": [
    {
     "data": {
      "text/html": [
       "<div>\n",
       "<style scoped>\n",
       "    .dataframe tbody tr th:only-of-type {\n",
       "        vertical-align: middle;\n",
       "    }\n",
       "\n",
       "    .dataframe tbody tr th {\n",
       "        vertical-align: top;\n",
       "    }\n",
       "\n",
       "    .dataframe thead th {\n",
       "        text-align: right;\n",
       "    }\n",
       "</style>\n",
       "<table border=\"1\" class=\"dataframe\">\n",
       "  <thead>\n",
       "    <tr style=\"text-align: right;\">\n",
       "      <th></th>\n",
       "      <th>성명</th>\n",
       "      <th>성별</th>\n",
       "      <th>직급</th>\n",
       "      <th>전화번호</th>\n",
       "      <th>주소</th>\n",
       "    </tr>\n",
       "  </thead>\n",
       "  <tbody>\n",
       "    <tr>\n",
       "      <th>0</th>\n",
       "      <td>김예찬</td>\n",
       "      <td>M</td>\n",
       "      <td>부장</td>\n",
       "      <td>010-1234-5678</td>\n",
       "      <td>서울시 강남구 삼성동</td>\n",
       "    </tr>\n",
       "    <tr>\n",
       "      <th>1</th>\n",
       "      <td>이하은</td>\n",
       "      <td>F</td>\n",
       "      <td>인턴</td>\n",
       "      <td>010-8765-4321</td>\n",
       "      <td>부산시 해운대구 우동</td>\n",
       "    </tr>\n",
       "    <tr>\n",
       "      <th>2</th>\n",
       "      <td>박지현</td>\n",
       "      <td>F</td>\n",
       "      <td>과장</td>\n",
       "      <td>010-1357-2468</td>\n",
       "      <td>대구시 수성구 범어동</td>\n",
       "    </tr>\n",
       "    <tr>\n",
       "      <th>3</th>\n",
       "      <td>최준호</td>\n",
       "      <td>M</td>\n",
       "      <td>임시</td>\n",
       "      <td>010-1928-3746</td>\n",
       "      <td>인천시 연수구 송도동</td>\n",
       "    </tr>\n",
       "    <tr>\n",
       "      <th>4</th>\n",
       "      <td>김예서</td>\n",
       "      <td>F</td>\n",
       "      <td>과장</td>\n",
       "      <td>010-2846-5937</td>\n",
       "      <td>천안시 서북구 두정동</td>\n",
       "    </tr>\n",
       "  </tbody>\n",
       "</table>\n",
       "</div>"
      ],
      "text/plain": [
       "    성명  성별   직급            전화번호            주소\n",
       "0  김예찬   M   부장   010-1234-5678   서울시 강남구 삼성동\n",
       "1  이하은   F   인턴   010-8765-4321   부산시 해운대구 우동\n",
       "2  박지현   F   과장   010-1357-2468   대구시 수성구 범어동\n",
       "3  최준호   M   임시   010-1928-3746   인천시 연수구 송도동\n",
       "4  김예서   F   과장   010-2846-5937   천안시 서북구 두정동"
      ]
     },
     "execution_count": 387,
     "metadata": {},
     "output_type": "execute_result"
    }
   ],
   "source": [
    "df['성별']=df['성별'].str.upper()\n",
    "df"
   ]
  },
  {
   "cell_type": "code",
   "execution_count": 389,
   "id": "22c8d6d5-06af-4de3-8d62-48deeb0f36a5",
   "metadata": {},
   "outputs": [],
   "source": [
    "df['성별'] = df['성별'].str.replace('M','Male')"
   ]
  },
  {
   "cell_type": "code",
   "execution_count": 391,
   "id": "704325d6-859e-4db9-90b5-79e281d47437",
   "metadata": {},
   "outputs": [
    {
     "data": {
      "text/html": [
       "<div>\n",
       "<style scoped>\n",
       "    .dataframe tbody tr th:only-of-type {\n",
       "        vertical-align: middle;\n",
       "    }\n",
       "\n",
       "    .dataframe tbody tr th {\n",
       "        vertical-align: top;\n",
       "    }\n",
       "\n",
       "    .dataframe thead th {\n",
       "        text-align: right;\n",
       "    }\n",
       "</style>\n",
       "<table border=\"1\" class=\"dataframe\">\n",
       "  <thead>\n",
       "    <tr style=\"text-align: right;\">\n",
       "      <th></th>\n",
       "      <th>성명</th>\n",
       "      <th>성별</th>\n",
       "      <th>직급</th>\n",
       "      <th>전화번호</th>\n",
       "      <th>주소</th>\n",
       "    </tr>\n",
       "  </thead>\n",
       "  <tbody>\n",
       "    <tr>\n",
       "      <th>0</th>\n",
       "      <td>김예찬</td>\n",
       "      <td>Male</td>\n",
       "      <td>부장</td>\n",
       "      <td>010-1234-5678</td>\n",
       "      <td>서울시 강남구 삼성동</td>\n",
       "    </tr>\n",
       "    <tr>\n",
       "      <th>1</th>\n",
       "      <td>이하은</td>\n",
       "      <td>F</td>\n",
       "      <td>인턴</td>\n",
       "      <td>010-8765-4321</td>\n",
       "      <td>부산시 해운대구 우동</td>\n",
       "    </tr>\n",
       "    <tr>\n",
       "      <th>2</th>\n",
       "      <td>박지현</td>\n",
       "      <td>F</td>\n",
       "      <td>과장</td>\n",
       "      <td>010-1357-2468</td>\n",
       "      <td>대구시 수성구 범어동</td>\n",
       "    </tr>\n",
       "    <tr>\n",
       "      <th>3</th>\n",
       "      <td>최준호</td>\n",
       "      <td>Male</td>\n",
       "      <td>임시</td>\n",
       "      <td>010-1928-3746</td>\n",
       "      <td>인천시 연수구 송도동</td>\n",
       "    </tr>\n",
       "    <tr>\n",
       "      <th>4</th>\n",
       "      <td>김예서</td>\n",
       "      <td>F</td>\n",
       "      <td>과장</td>\n",
       "      <td>010-2846-5937</td>\n",
       "      <td>천안시 서북구 두정동</td>\n",
       "    </tr>\n",
       "  </tbody>\n",
       "</table>\n",
       "</div>"
      ],
      "text/plain": [
       "    성명     성별   직급            전화번호            주소\n",
       "0  김예찬   Male   부장   010-1234-5678   서울시 강남구 삼성동\n",
       "1  이하은      F   인턴   010-8765-4321   부산시 해운대구 우동\n",
       "2  박지현      F   과장   010-1357-2468   대구시 수성구 범어동\n",
       "3  최준호   Male   임시   010-1928-3746   인천시 연수구 송도동\n",
       "4  김예서      F   과장   010-2846-5937   천안시 서북구 두정동"
      ]
     },
     "execution_count": 391,
     "metadata": {},
     "output_type": "execute_result"
    }
   ],
   "source": [
    "df"
   ]
  },
  {
   "cell_type": "code",
   "execution_count": 393,
   "id": "ad464dd6-9b44-4c1f-bf11-88315ada6ad4",
   "metadata": {},
   "outputs": [
    {
     "data": {
      "text/html": [
       "<div>\n",
       "<style scoped>\n",
       "    .dataframe tbody tr th:only-of-type {\n",
       "        vertical-align: middle;\n",
       "    }\n",
       "\n",
       "    .dataframe tbody tr th {\n",
       "        vertical-align: top;\n",
       "    }\n",
       "\n",
       "    .dataframe thead th {\n",
       "        text-align: right;\n",
       "    }\n",
       "</style>\n",
       "<table border=\"1\" class=\"dataframe\">\n",
       "  <thead>\n",
       "    <tr style=\"text-align: right;\">\n",
       "      <th></th>\n",
       "      <th>성명</th>\n",
       "      <th>성별</th>\n",
       "      <th>직급</th>\n",
       "      <th>전화번호</th>\n",
       "      <th>주소</th>\n",
       "    </tr>\n",
       "  </thead>\n",
       "  <tbody>\n",
       "    <tr>\n",
       "      <th>0</th>\n",
       "      <td>김예찬</td>\n",
       "      <td>Male</td>\n",
       "      <td>부장</td>\n",
       "      <td>010-1234-5678</td>\n",
       "      <td>서울시 강남구 삼성동</td>\n",
       "    </tr>\n",
       "    <tr>\n",
       "      <th>1</th>\n",
       "      <td>이하은</td>\n",
       "      <td>Female</td>\n",
       "      <td>인턴</td>\n",
       "      <td>010-8765-4321</td>\n",
       "      <td>부산시 해운대구 우동</td>\n",
       "    </tr>\n",
       "    <tr>\n",
       "      <th>2</th>\n",
       "      <td>박지현</td>\n",
       "      <td>Female</td>\n",
       "      <td>과장</td>\n",
       "      <td>010-1357-2468</td>\n",
       "      <td>대구시 수성구 범어동</td>\n",
       "    </tr>\n",
       "    <tr>\n",
       "      <th>3</th>\n",
       "      <td>최준호</td>\n",
       "      <td>Male</td>\n",
       "      <td>임시</td>\n",
       "      <td>010-1928-3746</td>\n",
       "      <td>인천시 연수구 송도동</td>\n",
       "    </tr>\n",
       "    <tr>\n",
       "      <th>4</th>\n",
       "      <td>김예서</td>\n",
       "      <td>Female</td>\n",
       "      <td>과장</td>\n",
       "      <td>010-2846-5937</td>\n",
       "      <td>천안시 서북구 두정동</td>\n",
       "    </tr>\n",
       "  </tbody>\n",
       "</table>\n",
       "</div>"
      ],
      "text/plain": [
       "    성명       성별   직급            전화번호            주소\n",
       "0  김예찬     Male   부장   010-1234-5678   서울시 강남구 삼성동\n",
       "1  이하은   Female   인턴   010-8765-4321   부산시 해운대구 우동\n",
       "2  박지현   Female   과장   010-1357-2468   대구시 수성구 범어동\n",
       "3  최준호     Male   임시   010-1928-3746   인천시 연수구 송도동\n",
       "4  김예서   Female   과장   010-2846-5937   천안시 서북구 두정동"
      ]
     },
     "execution_count": 393,
     "metadata": {},
     "output_type": "execute_result"
    }
   ],
   "source": [
    "df['성별'] = df['성별'].str.replace('F','Female')\n",
    "df"
   ]
  },
  {
   "cell_type": "code",
   "execution_count": 395,
   "id": "a146b6db-4521-42c3-9209-07671e90c48f",
   "metadata": {},
   "outputs": [
    {
     "data": {
      "text/html": [
       "<div>\n",
       "<style scoped>\n",
       "    .dataframe tbody tr th:only-of-type {\n",
       "        vertical-align: middle;\n",
       "    }\n",
       "\n",
       "    .dataframe tbody tr th {\n",
       "        vertical-align: top;\n",
       "    }\n",
       "\n",
       "    .dataframe thead th {\n",
       "        text-align: right;\n",
       "    }\n",
       "</style>\n",
       "<table border=\"1\" class=\"dataframe\">\n",
       "  <thead>\n",
       "    <tr style=\"text-align: right;\">\n",
       "      <th></th>\n",
       "      <th>성명</th>\n",
       "      <th>성별</th>\n",
       "      <th>직급</th>\n",
       "      <th>전화번호</th>\n",
       "      <th>주소</th>\n",
       "    </tr>\n",
       "  </thead>\n",
       "  <tbody>\n",
       "    <tr>\n",
       "      <th>0</th>\n",
       "      <td>김예찬</td>\n",
       "      <td>남성</td>\n",
       "      <td>부장</td>\n",
       "      <td>010-1234-5678</td>\n",
       "      <td>서울시 강남구 삼성동</td>\n",
       "    </tr>\n",
       "    <tr>\n",
       "      <th>1</th>\n",
       "      <td>이하은</td>\n",
       "      <td>여성</td>\n",
       "      <td>인턴</td>\n",
       "      <td>010-8765-4321</td>\n",
       "      <td>부산시 해운대구 우동</td>\n",
       "    </tr>\n",
       "    <tr>\n",
       "      <th>2</th>\n",
       "      <td>박지현</td>\n",
       "      <td>여성</td>\n",
       "      <td>과장</td>\n",
       "      <td>010-1357-2468</td>\n",
       "      <td>대구시 수성구 범어동</td>\n",
       "    </tr>\n",
       "    <tr>\n",
       "      <th>3</th>\n",
       "      <td>최준호</td>\n",
       "      <td>남성</td>\n",
       "      <td>임시</td>\n",
       "      <td>010-1928-3746</td>\n",
       "      <td>인천시 연수구 송도동</td>\n",
       "    </tr>\n",
       "    <tr>\n",
       "      <th>4</th>\n",
       "      <td>김예서</td>\n",
       "      <td>여성</td>\n",
       "      <td>과장</td>\n",
       "      <td>010-2846-5937</td>\n",
       "      <td>천안시 서북구 두정동</td>\n",
       "    </tr>\n",
       "  </tbody>\n",
       "</table>\n",
       "</div>"
      ],
      "text/plain": [
       "    성명   성별   직급            전화번호            주소\n",
       "0  김예찬   남성   부장   010-1234-5678   서울시 강남구 삼성동\n",
       "1  이하은   여성   인턴   010-8765-4321   부산시 해운대구 우동\n",
       "2  박지현   여성   과장   010-1357-2468   대구시 수성구 범어동\n",
       "3  최준호   남성   임시   010-1928-3746   인천시 연수구 송도동\n",
       "4  김예서   여성   과장   010-2846-5937   천안시 서북구 두정동"
      ]
     },
     "execution_count": 395,
     "metadata": {},
     "output_type": "execute_result"
    }
   ],
   "source": [
    "df['성별'] = df['성별'].str.replace('Male','남성').str.replace('Female','여성')\n",
    "df"
   ]
  },
  {
   "cell_type": "code",
   "execution_count": 397,
   "id": "a5801fbe-8457-4710-9724-9c58b9312411",
   "metadata": {},
   "outputs": [
    {
     "data": {
      "text/html": [
       "<div>\n",
       "<style scoped>\n",
       "    .dataframe tbody tr th:only-of-type {\n",
       "        vertical-align: middle;\n",
       "    }\n",
       "\n",
       "    .dataframe tbody tr th {\n",
       "        vertical-align: top;\n",
       "    }\n",
       "\n",
       "    .dataframe thead th {\n",
       "        text-align: right;\n",
       "    }\n",
       "</style>\n",
       "<table border=\"1\" class=\"dataframe\">\n",
       "  <thead>\n",
       "    <tr style=\"text-align: right;\">\n",
       "      <th></th>\n",
       "      <th>성명</th>\n",
       "      <th>성별</th>\n",
       "      <th>직급</th>\n",
       "      <th>전화번호</th>\n",
       "      <th>주소</th>\n",
       "    </tr>\n",
       "  </thead>\n",
       "  <tbody>\n",
       "    <tr>\n",
       "      <th>0</th>\n",
       "      <td>김예찬</td>\n",
       "      <td>남성</td>\n",
       "      <td>부장</td>\n",
       "      <td>010-1234-5678</td>\n",
       "      <td>서울시 강남구 삼성동</td>\n",
       "    </tr>\n",
       "    <tr>\n",
       "      <th>1</th>\n",
       "      <td>이하은</td>\n",
       "      <td>여성</td>\n",
       "      <td>사원</td>\n",
       "      <td>010-8765-4321</td>\n",
       "      <td>부산시 해운대구 우동</td>\n",
       "    </tr>\n",
       "    <tr>\n",
       "      <th>2</th>\n",
       "      <td>박지현</td>\n",
       "      <td>여성</td>\n",
       "      <td>과장</td>\n",
       "      <td>010-1357-2468</td>\n",
       "      <td>대구시 수성구 범어동</td>\n",
       "    </tr>\n",
       "    <tr>\n",
       "      <th>3</th>\n",
       "      <td>최준호</td>\n",
       "      <td>남성</td>\n",
       "      <td>사원</td>\n",
       "      <td>010-1928-3746</td>\n",
       "      <td>인천시 연수구 송도동</td>\n",
       "    </tr>\n",
       "    <tr>\n",
       "      <th>4</th>\n",
       "      <td>김예서</td>\n",
       "      <td>여성</td>\n",
       "      <td>과장</td>\n",
       "      <td>010-2846-5937</td>\n",
       "      <td>천안시 서북구 두정동</td>\n",
       "    </tr>\n",
       "  </tbody>\n",
       "</table>\n",
       "</div>"
      ],
      "text/plain": [
       "    성명   성별   직급            전화번호            주소\n",
       "0  김예찬   남성   부장   010-1234-5678   서울시 강남구 삼성동\n",
       "1  이하은   여성   사원   010-8765-4321   부산시 해운대구 우동\n",
       "2  박지현   여성   과장   010-1357-2468   대구시 수성구 범어동\n",
       "3  최준호   남성   사원   010-1928-3746   인천시 연수구 송도동\n",
       "4  김예서   여성   과장   010-2846-5937   천안시 서북구 두정동"
      ]
     },
     "execution_count": 397,
     "metadata": {},
     "output_type": "execute_result"
    }
   ],
   "source": [
    "df['직급'] = df['직급'].str.replace('인턴|임시','사원',regex=True)\n",
    "df"
   ]
  },
  {
   "cell_type": "raw",
   "id": "7199fff2-31d6-4025-80ba-9e6fd1872516",
   "metadata": {},
   "source": [
    "정규표현식 : 특정한 규칙을 가진 문자열을 검색하거나 차환하는데 사용하는 기호식. (^, , ?, +, |, ＼)\n",
    ".str.replace('^LG', '엘지', regex=True) 'LG'로 시작하는 부분을 '엘지'로 대체한다.\n",
    ".str.replace('대학$', '대학교', regex=True) '대학'으로 끝나는 부분을 '대학교'로 대체한다.\n",
    ".str.replace('부산', '부산시', regex=True) '부산'으로 시작하는 부분을 '부산시'로 대체한다.\n",
    ".str.replace('부산+', '부산광역시', regex=True) '부산' 뒤에 한 글자가 존재하는 문자를 '부산광역시'로 대체한다.\n",
    ".str.replace('부산?', '부산광역시', regex=True) '부산' 뒤에 0 글자 또는 한 글자가 존재하는 문자를 '부산광역시'로 대체한다."
   ]
  },
  {
   "cell_type": "code",
   "execution_count": 407,
   "id": "ba5ae35a-79b3-4d10-9bb3-3f1a0e56ca06",
   "metadata": {},
   "outputs": [
    {
     "data": {
      "text/plain": [
       "0    False\n",
       "1     True\n",
       "2     True\n",
       "3    False\n",
       "4     True\n",
       "Name: 성별, dtype: bool"
      ]
     },
     "execution_count": 407,
     "metadata": {},
     "output_type": "execute_result"
    }
   ],
   "source": [
    "df['성별'].str.contains('여성')\n"
   ]
  },
  {
   "cell_type": "code",
   "execution_count": 409,
   "id": "0d7f6220-1692-49b8-a436-385733eaca8d",
   "metadata": {},
   "outputs": [
    {
     "data": {
      "text/html": [
       "<div>\n",
       "<style scoped>\n",
       "    .dataframe tbody tr th:only-of-type {\n",
       "        vertical-align: middle;\n",
       "    }\n",
       "\n",
       "    .dataframe tbody tr th {\n",
       "        vertical-align: top;\n",
       "    }\n",
       "\n",
       "    .dataframe thead th {\n",
       "        text-align: right;\n",
       "    }\n",
       "</style>\n",
       "<table border=\"1\" class=\"dataframe\">\n",
       "  <thead>\n",
       "    <tr style=\"text-align: right;\">\n",
       "      <th></th>\n",
       "      <th>성명</th>\n",
       "      <th>성별</th>\n",
       "      <th>직급</th>\n",
       "      <th>전화번호</th>\n",
       "      <th>주소</th>\n",
       "    </tr>\n",
       "  </thead>\n",
       "  <tbody>\n",
       "    <tr>\n",
       "      <th>1</th>\n",
       "      <td>이하은</td>\n",
       "      <td>여성</td>\n",
       "      <td>사원</td>\n",
       "      <td>010-8765-4321</td>\n",
       "      <td>부산시 해운대구 우동</td>\n",
       "    </tr>\n",
       "    <tr>\n",
       "      <th>2</th>\n",
       "      <td>박지현</td>\n",
       "      <td>여성</td>\n",
       "      <td>과장</td>\n",
       "      <td>010-1357-2468</td>\n",
       "      <td>대구시 수성구 범어동</td>\n",
       "    </tr>\n",
       "    <tr>\n",
       "      <th>4</th>\n",
       "      <td>김예서</td>\n",
       "      <td>여성</td>\n",
       "      <td>과장</td>\n",
       "      <td>010-2846-5937</td>\n",
       "      <td>천안시 서북구 두정동</td>\n",
       "    </tr>\n",
       "  </tbody>\n",
       "</table>\n",
       "</div>"
      ],
      "text/plain": [
       "    성명   성별   직급            전화번호            주소\n",
       "1  이하은   여성   사원   010-8765-4321   부산시 해운대구 우동\n",
       "2  박지현   여성   과장   010-1357-2468   대구시 수성구 범어동\n",
       "4  김예서   여성   과장   010-2846-5937   천안시 서북구 두정동"
      ]
     },
     "execution_count": 409,
     "metadata": {},
     "output_type": "execute_result"
    }
   ],
   "source": [
    "df[df['성별'].str.contains('여성')]"
   ]
  },
  {
   "cell_type": "code",
   "execution_count": 411,
   "id": "b7415886-b9eb-4bee-9259-4f2f23fdb8e6",
   "metadata": {},
   "outputs": [
    {
     "data": {
      "text/html": [
       "<div>\n",
       "<style scoped>\n",
       "    .dataframe tbody tr th:only-of-type {\n",
       "        vertical-align: middle;\n",
       "    }\n",
       "\n",
       "    .dataframe tbody tr th {\n",
       "        vertical-align: top;\n",
       "    }\n",
       "\n",
       "    .dataframe thead th {\n",
       "        text-align: right;\n",
       "    }\n",
       "</style>\n",
       "<table border=\"1\" class=\"dataframe\">\n",
       "  <thead>\n",
       "    <tr style=\"text-align: right;\">\n",
       "      <th></th>\n",
       "      <th>성명</th>\n",
       "      <th>성별</th>\n",
       "      <th>직급</th>\n",
       "      <th>전화번호</th>\n",
       "      <th>주소</th>\n",
       "    </tr>\n",
       "  </thead>\n",
       "  <tbody>\n",
       "    <tr>\n",
       "      <th>0</th>\n",
       "      <td>김예찬</td>\n",
       "      <td>남성</td>\n",
       "      <td>부장</td>\n",
       "      <td>010-1234-5678</td>\n",
       "      <td>서울시 강남구 삼성동</td>\n",
       "    </tr>\n",
       "    <tr>\n",
       "      <th>3</th>\n",
       "      <td>최준호</td>\n",
       "      <td>남성</td>\n",
       "      <td>사원</td>\n",
       "      <td>010-1928-3746</td>\n",
       "      <td>인천시 연수구 송도동</td>\n",
       "    </tr>\n",
       "  </tbody>\n",
       "</table>\n",
       "</div>"
      ],
      "text/plain": [
       "    성명   성별   직급            전화번호            주소\n",
       "0  김예찬   남성   부장   010-1234-5678   서울시 강남구 삼성동\n",
       "3  최준호   남성   사원   010-1928-3746   인천시 연수구 송도동"
      ]
     },
     "execution_count": 411,
     "metadata": {},
     "output_type": "execute_result"
    }
   ],
   "source": [
    "df[df['성별'].str.contains('남성')]"
   ]
  },
  {
   "cell_type": "code",
   "execution_count": 421,
   "id": "c1d2b0cb-0c64-4b27-9e21-1b7dfcce80c7",
   "metadata": {},
   "outputs": [],
   "source": [
    "df['관리자'] = df['직급'].str.contains('과장')"
   ]
  },
  {
   "cell_type": "code",
   "execution_count": 423,
   "id": "7dbe8803-ce06-44d3-a76d-6f04df830656",
   "metadata": {},
   "outputs": [
    {
     "data": {
      "text/html": [
       "<div>\n",
       "<style scoped>\n",
       "    .dataframe tbody tr th:only-of-type {\n",
       "        vertical-align: middle;\n",
       "    }\n",
       "\n",
       "    .dataframe tbody tr th {\n",
       "        vertical-align: top;\n",
       "    }\n",
       "\n",
       "    .dataframe thead th {\n",
       "        text-align: right;\n",
       "    }\n",
       "</style>\n",
       "<table border=\"1\" class=\"dataframe\">\n",
       "  <thead>\n",
       "    <tr style=\"text-align: right;\">\n",
       "      <th></th>\n",
       "      <th>성명</th>\n",
       "      <th>성별</th>\n",
       "      <th>직급</th>\n",
       "      <th>전화번호</th>\n",
       "      <th>주소</th>\n",
       "      <th>관리자</th>\n",
       "    </tr>\n",
       "  </thead>\n",
       "  <tbody>\n",
       "    <tr>\n",
       "      <th>0</th>\n",
       "      <td>김예찬</td>\n",
       "      <td>남성</td>\n",
       "      <td>부장</td>\n",
       "      <td>010-1234-5678</td>\n",
       "      <td>서울시 강남구 삼성동</td>\n",
       "      <td>False</td>\n",
       "    </tr>\n",
       "    <tr>\n",
       "      <th>1</th>\n",
       "      <td>이하은</td>\n",
       "      <td>여성</td>\n",
       "      <td>사원</td>\n",
       "      <td>010-8765-4321</td>\n",
       "      <td>부산시 해운대구 우동</td>\n",
       "      <td>False</td>\n",
       "    </tr>\n",
       "    <tr>\n",
       "      <th>2</th>\n",
       "      <td>박지현</td>\n",
       "      <td>여성</td>\n",
       "      <td>과장</td>\n",
       "      <td>010-1357-2468</td>\n",
       "      <td>대구시 수성구 범어동</td>\n",
       "      <td>True</td>\n",
       "    </tr>\n",
       "    <tr>\n",
       "      <th>3</th>\n",
       "      <td>최준호</td>\n",
       "      <td>남성</td>\n",
       "      <td>사원</td>\n",
       "      <td>010-1928-3746</td>\n",
       "      <td>인천시 연수구 송도동</td>\n",
       "      <td>False</td>\n",
       "    </tr>\n",
       "    <tr>\n",
       "      <th>4</th>\n",
       "      <td>김예서</td>\n",
       "      <td>여성</td>\n",
       "      <td>과장</td>\n",
       "      <td>010-2846-5937</td>\n",
       "      <td>천안시 서북구 두정동</td>\n",
       "      <td>True</td>\n",
       "    </tr>\n",
       "  </tbody>\n",
       "</table>\n",
       "</div>"
      ],
      "text/plain": [
       "    성명   성별   직급            전화번호            주소    관리자\n",
       "0  김예찬   남성   부장   010-1234-5678   서울시 강남구 삼성동  False\n",
       "1  이하은   여성   사원   010-8765-4321   부산시 해운대구 우동  False\n",
       "2  박지현   여성   과장   010-1357-2468   대구시 수성구 범어동   True\n",
       "3  최준호   남성   사원   010-1928-3746   인천시 연수구 송도동  False\n",
       "4  김예서   여성   과장   010-2846-5937   천안시 서북구 두정동   True"
      ]
     },
     "execution_count": 423,
     "metadata": {},
     "output_type": "execute_result"
    }
   ],
   "source": [
    "df"
   ]
  },
  {
   "cell_type": "code",
   "execution_count": 429,
   "id": "a2510670-c59e-4711-9c57-ffae3022666e",
   "metadata": {},
   "outputs": [
    {
     "data": {
      "text/html": [
       "<div>\n",
       "<style scoped>\n",
       "    .dataframe tbody tr th:only-of-type {\n",
       "        vertical-align: middle;\n",
       "    }\n",
       "\n",
       "    .dataframe tbody tr th {\n",
       "        vertical-align: top;\n",
       "    }\n",
       "\n",
       "    .dataframe thead th {\n",
       "        text-align: right;\n",
       "    }\n",
       "</style>\n",
       "<table border=\"1\" class=\"dataframe\">\n",
       "  <thead>\n",
       "    <tr style=\"text-align: right;\">\n",
       "      <th></th>\n",
       "      <th>성명</th>\n",
       "      <th>성별</th>\n",
       "      <th>직급</th>\n",
       "      <th>전화번호</th>\n",
       "      <th>주소</th>\n",
       "      <th>관리자</th>\n",
       "    </tr>\n",
       "  </thead>\n",
       "  <tbody>\n",
       "    <tr>\n",
       "      <th>2</th>\n",
       "      <td>박지현</td>\n",
       "      <td>여성</td>\n",
       "      <td>과장</td>\n",
       "      <td>010-1357-2468</td>\n",
       "      <td>대구시 수성구 범어동</td>\n",
       "      <td>True</td>\n",
       "    </tr>\n",
       "    <tr>\n",
       "      <th>4</th>\n",
       "      <td>김예서</td>\n",
       "      <td>여성</td>\n",
       "      <td>과장</td>\n",
       "      <td>010-2846-5937</td>\n",
       "      <td>천안시 서북구 두정동</td>\n",
       "      <td>True</td>\n",
       "    </tr>\n",
       "  </tbody>\n",
       "</table>\n",
       "</div>"
      ],
      "text/plain": [
       "    성명   성별   직급            전화번호            주소   관리자\n",
       "2  박지현   여성   과장   010-1357-2468   대구시 수성구 범어동  True\n",
       "4  김예서   여성   과장   010-2846-5937   천안시 서북구 두정동  True"
      ]
     },
     "execution_count": 429,
     "metadata": {},
     "output_type": "execute_result"
    }
   ],
   "source": [
    "df[df['관리자']== True]"
   ]
  },
  {
   "cell_type": "code",
   "execution_count": 431,
   "id": "60092f1e-bb5f-4e77-a35d-6b0aea68df0f",
   "metadata": {},
   "outputs": [],
   "source": [
    "df= df.drop(columns=\"관리자\")"
   ]
  },
  {
   "cell_type": "code",
   "execution_count": 433,
   "id": "befadd33-31e1-4a85-ab45-a849fb35dbdf",
   "metadata": {},
   "outputs": [
    {
     "data": {
      "text/html": [
       "<div>\n",
       "<style scoped>\n",
       "    .dataframe tbody tr th:only-of-type {\n",
       "        vertical-align: middle;\n",
       "    }\n",
       "\n",
       "    .dataframe tbody tr th {\n",
       "        vertical-align: top;\n",
       "    }\n",
       "\n",
       "    .dataframe thead th {\n",
       "        text-align: right;\n",
       "    }\n",
       "</style>\n",
       "<table border=\"1\" class=\"dataframe\">\n",
       "  <thead>\n",
       "    <tr style=\"text-align: right;\">\n",
       "      <th></th>\n",
       "      <th>성명</th>\n",
       "      <th>성별</th>\n",
       "      <th>직급</th>\n",
       "      <th>전화번호</th>\n",
       "      <th>주소</th>\n",
       "    </tr>\n",
       "  </thead>\n",
       "  <tbody>\n",
       "    <tr>\n",
       "      <th>0</th>\n",
       "      <td>김예찬</td>\n",
       "      <td>남성</td>\n",
       "      <td>부장</td>\n",
       "      <td>010-1234-5678</td>\n",
       "      <td>서울시 강남구 삼성동</td>\n",
       "    </tr>\n",
       "    <tr>\n",
       "      <th>1</th>\n",
       "      <td>이하은</td>\n",
       "      <td>여성</td>\n",
       "      <td>사원</td>\n",
       "      <td>010-8765-4321</td>\n",
       "      <td>부산시 해운대구 우동</td>\n",
       "    </tr>\n",
       "    <tr>\n",
       "      <th>2</th>\n",
       "      <td>박지현</td>\n",
       "      <td>여성</td>\n",
       "      <td>과장</td>\n",
       "      <td>010-1357-2468</td>\n",
       "      <td>대구시 수성구 범어동</td>\n",
       "    </tr>\n",
       "    <tr>\n",
       "      <th>3</th>\n",
       "      <td>최준호</td>\n",
       "      <td>남성</td>\n",
       "      <td>사원</td>\n",
       "      <td>010-1928-3746</td>\n",
       "      <td>인천시 연수구 송도동</td>\n",
       "    </tr>\n",
       "    <tr>\n",
       "      <th>4</th>\n",
       "      <td>김예서</td>\n",
       "      <td>여성</td>\n",
       "      <td>과장</td>\n",
       "      <td>010-2846-5937</td>\n",
       "      <td>천안시 서북구 두정동</td>\n",
       "    </tr>\n",
       "  </tbody>\n",
       "</table>\n",
       "</div>"
      ],
      "text/plain": [
       "    성명   성별   직급            전화번호            주소\n",
       "0  김예찬   남성   부장   010-1234-5678   서울시 강남구 삼성동\n",
       "1  이하은   여성   사원   010-8765-4321   부산시 해운대구 우동\n",
       "2  박지현   여성   과장   010-1357-2468   대구시 수성구 범어동\n",
       "3  최준호   남성   사원   010-1928-3746   인천시 연수구 송도동\n",
       "4  김예서   여성   과장   010-2846-5937   천안시 서북구 두정동"
      ]
     },
     "execution_count": 433,
     "metadata": {},
     "output_type": "execute_result"
    }
   ],
   "source": [
    "df"
   ]
  },
  {
   "cell_type": "code",
   "execution_count": 441,
   "id": "03ee31dc-fba8-47cf-83b1-30950e4e24e7",
   "metadata": {},
   "outputs": [
    {
     "data": {
      "text/plain": [
       "0     서울시\n",
       "1     부산시\n",
       "2     대구시\n",
       "3     인천시\n",
       "4     천안시\n",
       "Name: 주소, dtype: object"
      ]
     },
     "execution_count": 441,
     "metadata": {},
     "output_type": "execute_result"
    }
   ],
   "source": [
    "df['주소'].str[:4]"
   ]
  },
  {
   "cell_type": "code",
   "execution_count": 443,
   "id": "c9264ac3-ee6a-4496-88c8-a8ddb9e728a7",
   "metadata": {},
   "outputs": [],
   "source": [
    "df['도시'] = df['주소'].str[:4]"
   ]
  },
  {
   "cell_type": "code",
   "execution_count": 445,
   "id": "3c61d224-fdcf-4109-b561-21493337b2f7",
   "metadata": {},
   "outputs": [
    {
     "data": {
      "text/html": [
       "<div>\n",
       "<style scoped>\n",
       "    .dataframe tbody tr th:only-of-type {\n",
       "        vertical-align: middle;\n",
       "    }\n",
       "\n",
       "    .dataframe tbody tr th {\n",
       "        vertical-align: top;\n",
       "    }\n",
       "\n",
       "    .dataframe thead th {\n",
       "        text-align: right;\n",
       "    }\n",
       "</style>\n",
       "<table border=\"1\" class=\"dataframe\">\n",
       "  <thead>\n",
       "    <tr style=\"text-align: right;\">\n",
       "      <th></th>\n",
       "      <th>성명</th>\n",
       "      <th>성별</th>\n",
       "      <th>직급</th>\n",
       "      <th>전화번호</th>\n",
       "      <th>주소</th>\n",
       "      <th>도시</th>\n",
       "    </tr>\n",
       "  </thead>\n",
       "  <tbody>\n",
       "    <tr>\n",
       "      <th>0</th>\n",
       "      <td>김예찬</td>\n",
       "      <td>남성</td>\n",
       "      <td>부장</td>\n",
       "      <td>010-1234-5678</td>\n",
       "      <td>서울시 강남구 삼성동</td>\n",
       "      <td>서울시</td>\n",
       "    </tr>\n",
       "    <tr>\n",
       "      <th>1</th>\n",
       "      <td>이하은</td>\n",
       "      <td>여성</td>\n",
       "      <td>사원</td>\n",
       "      <td>010-8765-4321</td>\n",
       "      <td>부산시 해운대구 우동</td>\n",
       "      <td>부산시</td>\n",
       "    </tr>\n",
       "    <tr>\n",
       "      <th>2</th>\n",
       "      <td>박지현</td>\n",
       "      <td>여성</td>\n",
       "      <td>과장</td>\n",
       "      <td>010-1357-2468</td>\n",
       "      <td>대구시 수성구 범어동</td>\n",
       "      <td>대구시</td>\n",
       "    </tr>\n",
       "    <tr>\n",
       "      <th>3</th>\n",
       "      <td>최준호</td>\n",
       "      <td>남성</td>\n",
       "      <td>사원</td>\n",
       "      <td>010-1928-3746</td>\n",
       "      <td>인천시 연수구 송도동</td>\n",
       "      <td>인천시</td>\n",
       "    </tr>\n",
       "    <tr>\n",
       "      <th>4</th>\n",
       "      <td>김예서</td>\n",
       "      <td>여성</td>\n",
       "      <td>과장</td>\n",
       "      <td>010-2846-5937</td>\n",
       "      <td>천안시 서북구 두정동</td>\n",
       "      <td>천안시</td>\n",
       "    </tr>\n",
       "  </tbody>\n",
       "</table>\n",
       "</div>"
      ],
      "text/plain": [
       "    성명   성별   직급            전화번호            주소    도시\n",
       "0  김예찬   남성   부장   010-1234-5678   서울시 강남구 삼성동   서울시\n",
       "1  이하은   여성   사원   010-8765-4321   부산시 해운대구 우동   부산시\n",
       "2  박지현   여성   과장   010-1357-2468   대구시 수성구 범어동   대구시\n",
       "3  최준호   남성   사원   010-1928-3746   인천시 연수구 송도동   인천시\n",
       "4  김예서   여성   과장   010-2846-5937   천안시 서북구 두정동   천안시"
      ]
     },
     "execution_count": 445,
     "metadata": {},
     "output_type": "execute_result"
    }
   ],
   "source": [
    "df"
   ]
  },
  {
   "cell_type": "code",
   "execution_count": 447,
   "id": "536e448a-9b6a-4e9c-ad5e-5d744e9fee6b",
   "metadata": {},
   "outputs": [
    {
     "data": {
      "text/html": [
       "<div>\n",
       "<style scoped>\n",
       "    .dataframe tbody tr th:only-of-type {\n",
       "        vertical-align: middle;\n",
       "    }\n",
       "\n",
       "    .dataframe tbody tr th {\n",
       "        vertical-align: top;\n",
       "    }\n",
       "\n",
       "    .dataframe thead th {\n",
       "        text-align: right;\n",
       "    }\n",
       "</style>\n",
       "<table border=\"1\" class=\"dataframe\">\n",
       "  <thead>\n",
       "    <tr style=\"text-align: right;\">\n",
       "      <th></th>\n",
       "      <th>성명</th>\n",
       "      <th>성별</th>\n",
       "      <th>직급</th>\n",
       "      <th>전화번호</th>\n",
       "      <th>주소</th>\n",
       "      <th>도시</th>\n",
       "    </tr>\n",
       "  </thead>\n",
       "  <tbody>\n",
       "    <tr>\n",
       "      <th>0</th>\n",
       "      <td>김예찬</td>\n",
       "      <td>남성</td>\n",
       "      <td>부장</td>\n",
       "      <td>010-1234-5678</td>\n",
       "      <td>서울시 강남구 삼성동</td>\n",
       "      <td>서울시</td>\n",
       "    </tr>\n",
       "    <tr>\n",
       "      <th>1</th>\n",
       "      <td>이하은</td>\n",
       "      <td>여성</td>\n",
       "      <td>사원</td>\n",
       "      <td>010-8765-4321</td>\n",
       "      <td>부산시 해운대구 우동</td>\n",
       "      <td>부산시</td>\n",
       "    </tr>\n",
       "    <tr>\n",
       "      <th>2</th>\n",
       "      <td>박지현</td>\n",
       "      <td>여성</td>\n",
       "      <td>과장</td>\n",
       "      <td>010-1357-2468</td>\n",
       "      <td>대구시 수성구 범어동</td>\n",
       "      <td>대구시</td>\n",
       "    </tr>\n",
       "    <tr>\n",
       "      <th>3</th>\n",
       "      <td>최준호</td>\n",
       "      <td>남성</td>\n",
       "      <td>사원</td>\n",
       "      <td>010-1928-3746</td>\n",
       "      <td>인천시 연수구 송도동</td>\n",
       "      <td>인천시</td>\n",
       "    </tr>\n",
       "    <tr>\n",
       "      <th>4</th>\n",
       "      <td>김예서</td>\n",
       "      <td>여성</td>\n",
       "      <td>과장</td>\n",
       "      <td>010-2846-5937</td>\n",
       "      <td>천안시 서북구 두정동</td>\n",
       "      <td>천안시</td>\n",
       "    </tr>\n",
       "  </tbody>\n",
       "</table>\n",
       "</div>"
      ],
      "text/plain": [
       "    성명   성별   직급            전화번호           주소    도시\n",
       "0  김예찬   남성   부장   010-1234-5678  서울시 강남구 삼성동   서울시\n",
       "1  이하은   여성   사원   010-8765-4321  부산시 해운대구 우동   부산시\n",
       "2  박지현   여성   과장   010-1357-2468  대구시 수성구 범어동   대구시\n",
       "3  최준호   남성   사원   010-1928-3746  인천시 연수구 송도동   인천시\n",
       "4  김예서   여성   과장   010-2846-5937  천안시 서북구 두정동   천안시"
      ]
     },
     "execution_count": 447,
     "metadata": {},
     "output_type": "execute_result"
    }
   ],
   "source": [
    "df['주소'] = df['주소'].str.strip()\n",
    "df"
   ]
  },
  {
   "cell_type": "code",
   "execution_count": 449,
   "id": "25d22188-445e-4893-bc7f-f31bc9073a50",
   "metadata": {},
   "outputs": [
    {
     "data": {
      "text/html": [
       "<div>\n",
       "<style scoped>\n",
       "    .dataframe tbody tr th:only-of-type {\n",
       "        vertical-align: middle;\n",
       "    }\n",
       "\n",
       "    .dataframe tbody tr th {\n",
       "        vertical-align: top;\n",
       "    }\n",
       "\n",
       "    .dataframe thead th {\n",
       "        text-align: right;\n",
       "    }\n",
       "</style>\n",
       "<table border=\"1\" class=\"dataframe\">\n",
       "  <thead>\n",
       "    <tr style=\"text-align: right;\">\n",
       "      <th></th>\n",
       "      <th>0</th>\n",
       "      <th>1</th>\n",
       "      <th>2</th>\n",
       "    </tr>\n",
       "  </thead>\n",
       "  <tbody>\n",
       "    <tr>\n",
       "      <th>0</th>\n",
       "      <td>서울시</td>\n",
       "      <td>강남구</td>\n",
       "      <td>삼성동</td>\n",
       "    </tr>\n",
       "    <tr>\n",
       "      <th>1</th>\n",
       "      <td>부산시</td>\n",
       "      <td>해운대구</td>\n",
       "      <td>우동</td>\n",
       "    </tr>\n",
       "    <tr>\n",
       "      <th>2</th>\n",
       "      <td>대구시</td>\n",
       "      <td>수성구</td>\n",
       "      <td>범어동</td>\n",
       "    </tr>\n",
       "    <tr>\n",
       "      <th>3</th>\n",
       "      <td>인천시</td>\n",
       "      <td>연수구</td>\n",
       "      <td>송도동</td>\n",
       "    </tr>\n",
       "    <tr>\n",
       "      <th>4</th>\n",
       "      <td>천안시</td>\n",
       "      <td>서북구</td>\n",
       "      <td>두정동</td>\n",
       "    </tr>\n",
       "  </tbody>\n",
       "</table>\n",
       "</div>"
      ],
      "text/plain": [
       "     0     1    2\n",
       "0  서울시   강남구  삼성동\n",
       "1  부산시  해운대구   우동\n",
       "2  대구시   수성구  범어동\n",
       "3  인천시   연수구  송도동\n",
       "4  천안시   서북구  두정동"
      ]
     },
     "execution_count": 449,
     "metadata": {},
     "output_type": "execute_result"
    }
   ],
   "source": [
    "df['주소'].str.split(' ',expand=True)\n"
   ]
  },
  {
   "cell_type": "code",
   "execution_count": 451,
   "id": "5d4aaf8a-d86c-4183-b08a-011844687153",
   "metadata": {},
   "outputs": [],
   "source": [
    "df[['시','구','동']] = df['주소'].str.split(' ',expand=True)"
   ]
  },
  {
   "cell_type": "code",
   "execution_count": 453,
   "id": "2517a3cf-5606-473b-859a-c7bd0979f456",
   "metadata": {},
   "outputs": [
    {
     "data": {
      "text/html": [
       "<div>\n",
       "<style scoped>\n",
       "    .dataframe tbody tr th:only-of-type {\n",
       "        vertical-align: middle;\n",
       "    }\n",
       "\n",
       "    .dataframe tbody tr th {\n",
       "        vertical-align: top;\n",
       "    }\n",
       "\n",
       "    .dataframe thead th {\n",
       "        text-align: right;\n",
       "    }\n",
       "</style>\n",
       "<table border=\"1\" class=\"dataframe\">\n",
       "  <thead>\n",
       "    <tr style=\"text-align: right;\">\n",
       "      <th></th>\n",
       "      <th>성명</th>\n",
       "      <th>성별</th>\n",
       "      <th>직급</th>\n",
       "      <th>전화번호</th>\n",
       "      <th>주소</th>\n",
       "      <th>도시</th>\n",
       "      <th>시</th>\n",
       "      <th>구</th>\n",
       "      <th>동</th>\n",
       "    </tr>\n",
       "  </thead>\n",
       "  <tbody>\n",
       "    <tr>\n",
       "      <th>0</th>\n",
       "      <td>김예찬</td>\n",
       "      <td>남성</td>\n",
       "      <td>부장</td>\n",
       "      <td>010-1234-5678</td>\n",
       "      <td>서울시 강남구 삼성동</td>\n",
       "      <td>서울시</td>\n",
       "      <td>서울시</td>\n",
       "      <td>강남구</td>\n",
       "      <td>삼성동</td>\n",
       "    </tr>\n",
       "    <tr>\n",
       "      <th>1</th>\n",
       "      <td>이하은</td>\n",
       "      <td>여성</td>\n",
       "      <td>사원</td>\n",
       "      <td>010-8765-4321</td>\n",
       "      <td>부산시 해운대구 우동</td>\n",
       "      <td>부산시</td>\n",
       "      <td>부산시</td>\n",
       "      <td>해운대구</td>\n",
       "      <td>우동</td>\n",
       "    </tr>\n",
       "    <tr>\n",
       "      <th>2</th>\n",
       "      <td>박지현</td>\n",
       "      <td>여성</td>\n",
       "      <td>과장</td>\n",
       "      <td>010-1357-2468</td>\n",
       "      <td>대구시 수성구 범어동</td>\n",
       "      <td>대구시</td>\n",
       "      <td>대구시</td>\n",
       "      <td>수성구</td>\n",
       "      <td>범어동</td>\n",
       "    </tr>\n",
       "    <tr>\n",
       "      <th>3</th>\n",
       "      <td>최준호</td>\n",
       "      <td>남성</td>\n",
       "      <td>사원</td>\n",
       "      <td>010-1928-3746</td>\n",
       "      <td>인천시 연수구 송도동</td>\n",
       "      <td>인천시</td>\n",
       "      <td>인천시</td>\n",
       "      <td>연수구</td>\n",
       "      <td>송도동</td>\n",
       "    </tr>\n",
       "    <tr>\n",
       "      <th>4</th>\n",
       "      <td>김예서</td>\n",
       "      <td>여성</td>\n",
       "      <td>과장</td>\n",
       "      <td>010-2846-5937</td>\n",
       "      <td>천안시 서북구 두정동</td>\n",
       "      <td>천안시</td>\n",
       "      <td>천안시</td>\n",
       "      <td>서북구</td>\n",
       "      <td>두정동</td>\n",
       "    </tr>\n",
       "  </tbody>\n",
       "</table>\n",
       "</div>"
      ],
      "text/plain": [
       "    성명   성별   직급            전화번호           주소    도시    시     구    동\n",
       "0  김예찬   남성   부장   010-1234-5678  서울시 강남구 삼성동   서울시  서울시   강남구  삼성동\n",
       "1  이하은   여성   사원   010-8765-4321  부산시 해운대구 우동   부산시  부산시  해운대구   우동\n",
       "2  박지현   여성   과장   010-1357-2468  대구시 수성구 범어동   대구시  대구시   수성구  범어동\n",
       "3  최준호   남성   사원   010-1928-3746  인천시 연수구 송도동   인천시  인천시   연수구  송도동\n",
       "4  김예서   여성   과장   010-2846-5937  천안시 서북구 두정동   천안시  천안시   서북구  두정동"
      ]
     },
     "execution_count": 453,
     "metadata": {},
     "output_type": "execute_result"
    }
   ],
   "source": [
    "df"
   ]
  },
  {
   "cell_type": "code",
   "execution_count": 2,
   "id": "4708ad66-9117-48f1-8a6a-13aaa3f6d84c",
   "metadata": {},
   "outputs": [
    {
     "name": "stdout",
     "output_type": "stream",
     "text": [
      "D:\\study\\jupyter\\202412\\20241213\n"
     ]
    }
   ],
   "source": [
    "import os\n",
    "print(os.getcwd())"
   ]
  },
  {
   "cell_type": "code",
   "execution_count": null,
   "id": "74f2c0f9-a078-4f96-8447-984812103e18",
   "metadata": {},
   "outputs": [],
   "source": []
  }
 ],
 "metadata": {
  "kernelspec": {
   "display_name": "Python 3 (ipykernel)",
   "language": "python",
   "name": "python3"
  },
  "language_info": {
   "codemirror_mode": {
    "name": "ipython",
    "version": 3
   },
   "file_extension": ".py",
   "mimetype": "text/x-python",
   "name": "python",
   "nbconvert_exporter": "python",
   "pygments_lexer": "ipython3",
   "version": "3.12.7"
  }
 },
 "nbformat": 4,
 "nbformat_minor": 5
}
