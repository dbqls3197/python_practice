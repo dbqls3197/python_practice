{
 "cells": [
  {
   "cell_type": "code",
   "execution_count": null,
   "id": "c18e3d60-4f4c-442e-9b3a-bf9ced16d6f3",
   "metadata": {},
   "outputs": [],
   "source": [
    "import urllib.request\n",
    "response = urllib.request.urlopen(\"http://sejong123.ivyro.net/\")\n",
    "html = response.read().decode('utf-8')\n",
    "print(html)"
   ]
  },
  {
   "cell_type": "code",
   "execution_count": null,
   "id": "5ff12231-8ead-4ab7-ba8b-5516bd0c4e81",
   "metadata": {},
   "outputs": [],
   "source": [
    "WebDriverWait(driver,10).until(\n",
    "    EC.presence_of_element_located((By.CSS_SELECTOR,'a._editn_link'))\n",
    ")"
   ]
  },
  {
   "cell_type": "code",
   "execution_count": null,
   "id": "614d1e28-4d6b-43db-960e-32cd1c49955f",
   "metadata": {},
   "outputs": [],
   "source": [
    "from selenium import webdriver\n",
    "from selenium.webdriver.common.by import By\n",
    "from selenium.webdriver.support.ui import WebDriverWait\n",
    "from selenium.webdriver.support import expected_conditions as EC\n",
    "from bs4 import BeautifulSoup\n",
    "import json\n",
    "import time\n",
    "from datetime import datetime\n",
    "from webdriver_manager.chrome import ChromeDriverManager\n",
    "from selenium.webdriver.chrome.service import Service"
   ]
  },
  {
   "cell_type": "code",
   "execution_count": null,
   "id": "6e965c85-65ea-4fd7-8980-2ad84b5fa655",
   "metadata": {},
   "outputs": [],
   "source": [
    "# 네이버 검색 크롤링\n",
    "from selenium import webdriver\n",
    "from selenium.webdriver.common.by import By\n",
    "from selenium.webdriver.support.ui import WebDriverWait\n",
    "from selenium.webdriver.support import expected_conditions as EC\n",
    "from bs4 import BeautifulSoup\n",
    "import time\n",
    "from datetime import datetime\n",
    "\n",
    "def get_news_titles(keyword, num_pages):\n",
    "\n",
    "    driver= webdriver.Chrome()\n",
    "\n",
    "    titles = []\n",
    "\n",
    "    for page in range(1,num_pages+1):\n",
    "        url = f\"https://search.naver.com/search.naver?where=news&query={keyword}&start={(page-1)*10+1}\"\n",
    "        driver.get(url)\n",
    "\n",
    "        time.sleep(2)\n",
    "\n",
    "        soup = BeautifulSoup(driver.page_source,'html.parser')\n",
    "\n",
    "\n",
    "        main_titles =soup.select('a.news_tit')\n",
    "\n",
    "        for title in main_titles:\n",
    "            titles.append({\n",
    "                'title':title.get('title'),\n",
    "                'link':title.get('href')\n",
    "            })\n",
    "\n",
    "        print(f\"{page}페이지 완료\")\n",
    "\n",
    "    print(\"\\n=== 검색 결과 ===\")\n",
    "    print(f\"검색어:{keyword}\")\n",
    "    print(f\"수집 시간: {datetime.now().strftime('%Y-%m-%d %H:%M:%S')}\")\n",
    "    print(f\"총 {len(titles)}개의 기사 수집\\n\")\n",
    "\n",
    "    for idx, item in enumerate(titles,1):\n",
    "        print(f\"{idx}. {item['title']}\")\n",
    "        print(f\"    링크 : {item['link']}\")\n",
    "        print()\n",
    "\n",
    "    driver.quit()\n",
    "\n",
    "keyword = \"인공지능\"\n",
    "num_pages = 3\n",
    "get_news_titles(keyword,num_pages)\n",
    "\n"
   ]
  }
 ],
 "metadata": {
  "kernelspec": {
   "display_name": "Python 3 (ipykernel)",
   "language": "python",
   "name": "python3"
  },
  "language_info": {
   "codemirror_mode": {
    "name": "ipython",
    "version": 3
   },
   "file_extension": ".py",
   "mimetype": "text/x-python",
   "name": "python",
   "nbconvert_exporter": "python",
   "pygments_lexer": "ipython3",
   "version": "3.12.7"
  }
 },
 "nbformat": 4,
 "nbformat_minor": 5
}
