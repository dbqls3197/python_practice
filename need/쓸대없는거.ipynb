{
 "cells": [
  {
   "cell_type": "code",
   "execution_count": null,
   "id": "6118647e-650c-4aef-9ff0-96b19299af2d",
   "metadata": {},
   "outputs": [],
   "source": [
    "# 카카오톡 자동으로 보내기\n",
    "import pyautogui\n",
    "import pyperclip\n",
    "import webbrowser\n",
    "for _ in range(10):\n",
    "    pyautogui.moveTo(1614,1076)\n",
    "    pyautogui.click()\n",
    "    \n",
    "    pyperclip.copy('모오야 🎶 벌써😮 아침이네🌤️혼잣말을해💬〰️  구워진 빵에🍞 버터 발라발라🧈〰️ 비가 그치면 🌂주변이 눅눅해 💨아직〰️축축해🫧 이상한〰️🧐  발자국이라고🐾 생각했는데 ❓어젯밤에 만든 발자〰️국🦶🏻〰️〰️ 땅이🌱물을 잔뜩 🌧️머금어서 아직💦 축축해🎤아〰️↘️↘️↗️↗️↗️ 찡🌟하고 차가와‼️')\n",
    "    pyautogui.hotkey('ctrl','v')\n",
    "    \n",
    "    \n",
    "    pyautogui.moveTo(1857,1127)\n",
    "    pyautogui.click()"
   ]
  },
  {
   "cell_type": "code",
   "execution_count": null,
   "id": "c35d0b81-0ded-4029-8a00-493910f579d0",
   "metadata": {},
   "outputs": [],
   "source": [
    "# 웹툰 스크롤 자동으로 내리기\n",
    "import pyautogui\n",
    "import time\n",
    "from pynput import keyboard\n",
    "\n",
    "# 키보드 입력을 감지할 변수\n",
    "space_pressed = False\n",
    "\n",
    "# 스페이스바가 눌렸을 때 호출되는 함수\n",
    "def on_press(key):\n",
    "    global space_pressed\n",
    "    try:\n",
    "        if key == keyboard.Key.space:  # 스페이스바가 눌리면\n",
    "            space_pressed = True\n",
    "    except AttributeError:\n",
    "        pass\n",
    "\n",
    "# 리스너 설정\n",
    "listener = keyboard.Listener(on_press=on_press)\n",
    "listener.start()  # 리스너를 백그라운드에서 실행\n",
    "\n",
    "while True:\n",
    "    pyautogui.scroll(-1000)  # 스크롤 내리기\n",
    "    time.sleep(0.8)  # 1초 대기\n",
    "\n",
    "    if space_pressed:  # 스페이스바가 눌리면 반복 종료\n",
    "        print(\"스페이스바가 눌렸습니다. 반복 종료.\")\n",
    "        break  # 반복 종료\n"
   ]
  }
 ],
 "metadata": {
  "kernelspec": {
   "display_name": "Python 3 (ipykernel)",
   "language": "python",
   "name": "python3"
  },
  "language_info": {
   "codemirror_mode": {
    "name": "ipython",
    "version": 3
   },
   "file_extension": ".py",
   "mimetype": "text/x-python",
   "name": "python",
   "nbconvert_exporter": "python",
   "pygments_lexer": "ipython3",
   "version": "3.12.7"
  }
 },
 "nbformat": 4,
 "nbformat_minor": 5
}
