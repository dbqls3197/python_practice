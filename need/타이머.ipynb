{
 "cells": [
  {
   "cell_type": "code",
   "execution_count": null,
   "id": "dad06354-be92-406e-b023-35a384e1d51f",
   "metadata": {},
   "outputs": [
    {
     "name": "stdin",
     "output_type": "stream",
     "text": [
      "타이머를 몇 분으로 설정하시겠습니까? 1\n"
     ]
    },
    {
     "name": "stdout",
     "output_type": "stream",
     "text": [
      "타이머 시작: 1분 후에 알림이 웁니다.\n",
      "남은시간: 0:00:44.992528\r"
     ]
    }
   ],
   "source": [
    "# 타이머 \n",
    "from datetime import datetime, timedelta\n",
    "import time\n",
    "\n",
    "def start_timer(minutes):\n",
    "    \"\"\" 타이머를 시작하는 함수\"\"\"\n",
    "    duration = timedelta(minutes=minutes) # 타이머 시간 설정\n",
    "    end_time = datetime.now() + duration # 종료 시간 계산\n",
    "\n",
    "    print(f\"타이머 시작: {minutes}분 후에 알림이 웁5니다.\")\n",
    "    while datetime.now() < end_time:\n",
    "        time_left = end_time -datetime.now()\n",
    "\n",
    "        # 같은 초에 남은 시간 출력\n",
    "        print(f\"남은시간: {time_left}\",end='\\r')\n",
    "        time.sleep(1) # 1초 대기\n",
    "\n",
    "    print(\"\\n타이머 완료! 시간입니다!\")\n",
    "\n",
    "# 프로그램 실행\n",
    "\n",
    "# 사용자로부터 분 단위 입력 받기\n",
    "\n",
    "try:\n",
    "    minutes =int(input(\"타이머를 몇 분으로 설정하시겠습니까?\"))\n",
    "    if minutes <=0:\n",
    "        raise ValueError(\"0 또는 그 이하의 값은 입력할 수 없습니다.\")\n",
    "    start_timer(minutes)\n",
    "except ValueError as e:\n",
    "    print(f\"잘못된 입력: {e}\")"
   ]
  },
  {
   "cell_type": "code",
   "execution_count": null,
   "id": "32a11953-948b-455c-b54d-081545699e48",
   "metadata": {},
   "outputs": [],
   "source": []
  }
 ],
 "metadata": {
  "kernelspec": {
   "display_name": "Python 3 (ipykernel)",
   "language": "python",
   "name": "python3"
  },
  "language_info": {
   "codemirror_mode": {
    "name": "ipython",
    "version": 3
   },
   "file_extension": ".py",
   "mimetype": "text/x-python",
   "name": "python",
   "nbconvert_exporter": "python",
   "pygments_lexer": "ipython3",
   "version": "3.12.7"
  }
 },
 "nbformat": 4,
 "nbformat_minor": 5
}
