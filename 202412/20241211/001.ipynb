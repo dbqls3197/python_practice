{
 "cells": [
  {
   "cell_type": "markdown",
   "id": "8061534d-5751-4482-ae5a-7517a7ca28e6",
   "metadata": {},
   "source": [
    "# Numpy(Numerical Python)\n",
    "- Numpy는 Numerical Python의 약자로 과학 및 공학 분야에서 사용되는 오픈 소스 파이썬 라이브러리이다.\n",
    "- Numpy 라이버르리에는 다차원 배열 및 행렬 데이터 구조가 포함되어 있다.\n",
    "- Numpy는 배열로 저장된 값에 대한 수학 연산을 수행하는데 사용된다."
   ]
  },
  {
   "cell_type": "code",
   "execution_count": null,
   "id": "bffbd06c-fcfc-4377-a8b5-68ad4a8fb18c",
   "metadata": {},
   "outputs": [],
   "source": [
    "! pip install numpy # 넘파이 설치"
   ]
  },
  {
   "cell_type": "code",
   "execution_count": null,
   "id": "57436c6f-5061-493a-830f-0b6c94866fae",
   "metadata": {},
   "outputs": [],
   "source": [
    "! pip list # 설치된 라이브러리 목록 확인"
   ]
  },
  {
   "cell_type": "code",
   "execution_count": 13,
   "id": "4a8dbd29-6723-4f63-8594-cc2fe525608a",
   "metadata": {},
   "outputs": [],
   "source": [
    "import numpy as np"
   ]
  },
  {
   "cell_type": "code",
   "execution_count": 19,
   "id": "1b8dcff9-60d9-4abd-966f-61157c4bce73",
   "metadata": {},
   "outputs": [
    {
     "name": "stdout",
     "output_type": "stream",
     "text": [
      "seoul\n"
     ]
    }
   ],
   "source": [
    "city = ['seoul','busan','ulsan']\n",
    "print(city[0])"
   ]
  },
  {
   "cell_type": "code",
   "execution_count": 29,
   "id": "4a7f080b-a333-4086-b085-ddf010ef4ddb",
   "metadata": {},
   "outputs": [
    {
     "name": "stdout",
     "output_type": "stream",
     "text": [
      "seoul\n",
      "<class 'numpy.ndarray'>\n",
      "<U5\n"
     ]
    }
   ],
   "source": [
    "city = np.array(['seoul','busan','ulsan'])\n",
    "print(city[0])\n",
    "print(type(city))\n",
    "print(city.dtype)"
   ]
  },
  {
   "cell_type": "code",
   "execution_count": 35,
   "id": "0047dd28-a478-41cf-b50c-ca8c6e2933c0",
   "metadata": {},
   "outputs": [
    {
     "name": "stdout",
     "output_type": "stream",
     "text": [
      "[ 3  5  6  8 10]\n",
      "<class 'numpy.ndarray'>\n",
      "int32\n"
     ]
    }
   ],
   "source": [
    "arr = np.array([2,4,6,8,10]) # 일반적인 형태\n",
    "#arr = np.array((3,5,6,8,10))\n",
    "print(arr)\n",
    "print(type(arr))\n",
    "print(arr.dtype)"
   ]
  },
  {
   "cell_type": "markdown",
   "id": "999000b4-2209-4230-bc4e-60243fc0a5b4",
   "metadata": {},
   "source": [
    "### 리스트와 넘파이 비교"
   ]
  },
  {
   "cell_type": "code",
   "execution_count": 40,
   "id": "b6215632-1310-4add-aedc-024562a43bc4",
   "metadata": {},
   "outputs": [
    {
     "name": "stdout",
     "output_type": "stream",
     "text": [
      "[1, 3, 5, 2, 4, 6]\n"
     ]
    }
   ],
   "source": [
    "# 리스트 형태\n",
    "a = [1,3,5]\n",
    "b = [2,4,6]\n",
    "\n",
    "print(a+b)"
   ]
  },
  {
   "cell_type": "code",
   "execution_count": 44,
   "id": "cd550846-58ca-4000-a300-801078f035a8",
   "metadata": {},
   "outputs": [],
   "source": [
    "print(a * b) # 에러발생"
   ]
  },
  {
   "cell_type": "code",
   "execution_count": 46,
   "id": "c8c35b52-c8e9-485c-b518-fa3dcf09c7d6",
   "metadata": {},
   "outputs": [
    {
     "name": "stdout",
     "output_type": "stream",
     "text": [
      "[1, 3, 5, 1, 3, 5, 1, 3, 5]\n"
     ]
    }
   ],
   "source": [
    "print(a *3)"
   ]
  },
  {
   "cell_type": "code",
   "execution_count": 48,
   "id": "e0ac9e1a-8bce-41cc-a4c5-cbba332f5e83",
   "metadata": {},
   "outputs": [
    {
     "name": "stdout",
     "output_type": "stream",
     "text": [
      "7\n"
     ]
    }
   ],
   "source": [
    "print(a[1] +b[1])"
   ]
  },
  {
   "cell_type": "code",
   "execution_count": 50,
   "id": "e2f93828-33fb-4fb5-bc1f-a10cbedc31f7",
   "metadata": {},
   "outputs": [
    {
     "name": "stdout",
     "output_type": "stream",
     "text": [
      "7\n"
     ]
    }
   ],
   "source": [
    "# 넘파이 형태\n",
    "a = np.array([1,3,5])\n",
    "b = np.array([2,4,6])\n",
    "\n",
    "print(a[1]+b[1])"
   ]
  },
  {
   "cell_type": "code",
   "execution_count": 52,
   "id": "c6b408c1-dffc-4309-9f7b-2d07a34d50fa",
   "metadata": {},
   "outputs": [
    {
     "name": "stdout",
     "output_type": "stream",
     "text": [
      "[ 3  7 11]\n"
     ]
    }
   ],
   "source": [
    "print(a+b)"
   ]
  },
  {
   "cell_type": "code",
   "execution_count": 54,
   "id": "3b3878e5-7bb5-4505-99a5-345188d76178",
   "metadata": {},
   "outputs": [
    {
     "name": "stdout",
     "output_type": "stream",
     "text": [
      "[ 2 12 30]\n"
     ]
    }
   ],
   "source": [
    "print(a * b)"
   ]
  },
  {
   "cell_type": "code",
   "execution_count": 56,
   "id": "dd877d8b-c5b7-46cf-86fe-ff4b3a3d9b86",
   "metadata": {},
   "outputs": [
    {
     "name": "stdout",
     "output_type": "stream",
     "text": [
      "[ 3  9 15]\n"
     ]
    }
   ],
   "source": [
    "print(a *3)"
   ]
  },
  {
   "cell_type": "code",
   "execution_count": 68,
   "id": "a2d840b1-8b8b-4d3b-8474-73456fb1d656",
   "metadata": {},
   "outputs": [
    {
     "name": "stdout",
     "output_type": "stream",
     "text": [
      "2단: [ 2  4  6  8 10 12 14 16 18]\n",
      "3단: [ 3  6  9 12 15 18 21 24 27]\n",
      "1단: [1 2 3 4 5 6 7 8 9]\n",
      "2단: [ 2  4  6  8 10 12 14 16 18]\n",
      "3단: [ 3  6  9 12 15 18 21 24 27]\n",
      "4단: [ 4  8 12 16 20 24 28 32 36]\n",
      "5단: [ 5 10 15 20 25 30 35 40 45]\n",
      "6단: [ 6 12 18 24 30 36 42 48 54]\n",
      "7단: [ 7 14 21 28 35 42 49 56 63]\n",
      "8단: [ 8 16 24 32 40 48 56 64 72]\n",
      "9단: [ 9 18 27 36 45 54 63 72 81]\n"
     ]
    }
   ],
   "source": [
    "c = np.array([1, 2, 3, 4, 5, 6, 7, 8, 9]) # 리스트를 넘파이로 변환\n",
    "#print(f\"2단:\", c *2)\n",
    "#print(f\"3단:\", c *3)\n",
    "for i in range(1,10):\n",
    "    print(f\"{i}단:\", c *i)\n",
    "    "
   ]
  },
  {
   "cell_type": "code",
   "execution_count": 81,
   "id": "632e8112-3d4c-43cd-9414-9046b8f5122a",
   "metadata": {},
   "outputs": [
    {
     "name": "stdout",
     "output_type": "stream",
     "text": [
      "[ 5 10 15 20 25 30 35 40 45]\n",
      "<class 'numpy.ndarray'>\n",
      "[5, 10, 15, 20, 25, 30, 35, 40, 45]\n",
      "<class 'list'>\n"
     ]
    }
   ],
   "source": [
    "res = c * 5\n",
    "print(res)\n",
    "print(type(res))\n",
    "lres = res.tolist()  # 넘파이를 리스트로 변환\n",
    "print(lres)\n",
    "print(type(lres))"
   ]
  },
  {
   "cell_type": "code",
   "execution_count": 84,
   "id": "b3aa18c0-91aa-4288-a518-ccaaf1d98be9",
   "metadata": {},
   "outputs": [
    {
     "name": "stdout",
     "output_type": "stream",
     "text": [
      "[11 22 33]\n",
      "[10 40 90]\n",
      "[0.1 0.1 0.1]\n"
     ]
    }
   ],
   "source": [
    "import numpy as np\n",
    "\n",
    "# 1차원간 배열 연산\n",
    "a= np.array([1,2,3])\n",
    "b= np.array([10,20,30])\n",
    "\n",
    "print(a + b)\n",
    "print(a * b)\n",
    "print(a / b)"
   ]
  },
  {
   "cell_type": "markdown",
   "id": "8a5ea47f-42d7-4161-8f79-78ef5a6229e8",
   "metadata": {},
   "source": [
    "### 사례"
   ]
  },
  {
   "cell_type": "code",
   "execution_count": 96,
   "id": "55f11769-ad64-4fa1-b436-56729fc8e973",
   "metadata": {},
   "outputs": [
    {
     "name": "stdout",
     "output_type": "stream",
     "text": [
      "BMI: [20.76124567 22.85714286 21.484375  ]\n"
     ]
    }
   ],
   "source": [
    "import numpy as np\n",
    "\n",
    "# 체질량 지수(BMI)\n",
    "heights = np.array([170,175,160])     # 키(cm)\n",
    "weights = np.array([60,70,55])       # 몸무게\n",
    "\n",
    "# BMI = 몸무게 /(키/100)^2\n",
    "# 저체중 : BMI < 18.5\n",
    "# 정상 : 18.5 <= MBI < 24.9\n",
    "# 과체중 : 25<= BMI < 29.9\n",
    "# 비만 : BMI >= 30\n",
    "\n",
    "bmi = weights / (heights/100)**2\n",
    "print(\"BMI:\", bmi)\n"
   ]
  },
  {
   "cell_type": "code",
   "execution_count": 102,
   "id": "2cf8365c-7163-460a-835a-e09fa2904417",
   "metadata": {},
   "outputs": [
    {
     "ename": "ValueError",
     "evalue": "operands could not be broadcast together with shapes (3,) (2,) ",
     "output_type": "error",
     "traceback": [
      "\u001b[1;31m---------------------------------------------------------------------------\u001b[0m",
      "\u001b[1;31mValueError\u001b[0m                                Traceback (most recent call last)",
      "Cell \u001b[1;32mIn[102], line 3\u001b[0m\n\u001b[0;32m      1\u001b[0m a\u001b[38;5;241m=\u001b[39m np\u001b[38;5;241m.\u001b[39marray([\u001b[38;5;241m1\u001b[39m, \u001b[38;5;241m2\u001b[39m, \u001b[38;5;241m3\u001b[39m])\n\u001b[0;32m      2\u001b[0m c \u001b[38;5;241m=\u001b[39m np\u001b[38;5;241m.\u001b[39marray([\u001b[38;5;241m1\u001b[39m, \u001b[38;5;241m2\u001b[39m])\n\u001b[1;32m----> 3\u001b[0m \u001b[38;5;28mprint\u001b[39m(a \u001b[38;5;241m+\u001b[39m c)\n",
      "\u001b[1;31mValueError\u001b[0m: operands could not be broadcast together with shapes (3,) (2,) "
     ]
    }
   ],
   "source": [
    "a= np.array([1, 2, 3]) # 값 개수가 안맞으면 계산이 안된다. (3개,2개)\n",
    "c = np.array([1, 2])\n",
    "print(a + c)"
   ]
  },
  {
   "cell_type": "code",
   "execution_count": 114,
   "id": "916b3ab6-673a-4d69-bfdd-90f343ada384",
   "metadata": {},
   "outputs": [
    {
     "name": "stdout",
     "output_type": "stream",
     "text": [
      "과목별 평균:  [85.         87.33333333 88.         90.33333333]\n",
      "학생별 평균:  [89.5  88.25 85.25]\n",
      "[[ 0.          2.66666667  0.          4.66666667]\n",
      " [ 7.         -0.33333333 -3.         -1.33333333]\n",
      " [-7.         -2.33333333  3.         -3.33333333]]\n"
     ]
    }
   ],
   "source": [
    "## \n",
    "\n",
    "import numpy as np\n",
    "\n",
    "# 행 : 학생별 / 열:과목별\n",
    "# axis = 0: 세로방향(열)\n",
    "# axis = 1: 가로방향(행)\n",
    "scores =np.array([[85,90,88,95],\n",
    "                  [92,87,85,89],\n",
    "                  [78,85,91,87]])\n",
    "# 과목별 평균\n",
    "subject_mean = scores.mean(axis=0)\n",
    "print(f\"과목별 평균: \",subject_mean)\n",
    "# 학생별 평균\n",
    "student_mean = scores.mean(axis=1)\n",
    "print(f\"학생별 평균: \",student_mean)\n",
    "\n",
    "# 정규화\n",
    "nml = scores - subject_mean\n",
    "print(nml)"
   ]
  },
  {
   "cell_type": "code",
   "execution_count": 130,
   "id": "77bee057-9095-4e86-948d-97146e51fcab",
   "metadata": {},
   "outputs": [
    {
     "name": "stdout",
     "output_type": "stream",
     "text": [
      "[[36.  25.5 17.6  7.5]\n",
      " [34.  27.6 17.4  9.8]\n",
      " [35.2 25.8 18.2  9. ]]\n",
      "[86.6 88.8 88.2]\n"
     ]
    }
   ],
   "source": [
    "# 학생들의 점수 (행: 학생 열:과목)\n",
    "scores = np.array([[90,85,88,75],   # 학생1\n",
    "                   [85,92,87,98],   # 학생2\n",
    "                   [88,86,91,90]])  # 학생3\n",
    "\n",
    "# 과목별 가중치(40%, 30%, 20%, 10%)\n",
    "w = np.array([0.4, 0.3, 0.2,0.1])\n",
    "wscore = scores * w\n",
    "print(wscore)\n",
    "# 가중치가 반영된 학생별 평균 점수\n",
    "fscore = wscore.sum(axis=1)\n",
    "print(fscore)"
   ]
  },
  {
   "cell_type": "code",
   "execution_count": 138,
   "id": "4d3cbe65-5351-4b13-bfcb-3e05a62e1aff",
   "metadata": {},
   "outputs": [
    {
     "name": "stdout",
     "output_type": "stream",
     "text": [
      "[10800. 28000.  7600. 31500. 23800.]\n"
     ]
    }
   ],
   "source": [
    "## 상품가격 할인율 계산\n",
    "\n",
    "# 상품가격 : 12000,35000,8000,45000,28000\n",
    "# 할인률 : 10,20,5,30,15\n",
    "# 할인률이 적용된 가격은\n",
    "product = np.array([12000,35000,8000,45000,28000])\n",
    "discount = np.array([10,20,5,30,15])\n",
    "a =  product-(product/100 * discount)\n",
    "print(a)"
   ]
  },
  {
   "cell_type": "code",
   "execution_count": 270,
   "id": "3111278f-e9a8-4787-be19-31a8e664761e",
   "metadata": {},
   "outputs": [
    {
     "name": "stdout",
     "output_type": "stream",
     "text": [
      "[ 45000. 127500. 200000.  72000. 102000.]\n"
     ]
    }
   ],
   "source": [
    "import numpy as np\n",
    "\n",
    "# 상품 가격(원)\n",
    "prices = np.array([50000,150000,250000,80000,120000])\n",
    "discount= []\n",
    "\n",
    "for price in prices:\n",
    "    if price < 100000:\n",
    "        discount.append(10)\n",
    "    elif 100000 <= price < 200000:\n",
    "        discount.append(15)\n",
    "    else:\n",
    "        discount.append(20)\n",
    "\n",
    "discounts = np.array(discount)\n",
    "\n",
    "final_prices = prices - (prices * discounts / 100)\n",
    "\n",
    "print(final_prices)\n",
    "\n"
   ]
  },
  {
   "cell_type": "code",
   "execution_count": 274,
   "id": "24c2c022-05b6-4f07-808a-aedf31f8b5f8",
   "metadata": {},
   "outputs": [
    {
     "name": "stdout",
     "output_type": "stream",
     "text": [
      "[ 45000. 127500. 200000.  72000. 102000.]\n"
     ]
    }
   ],
   "source": [
    "import numpy as np\n",
    "\n",
    "# 상품 가격(원)\n",
    "prices = np.array([50000, 150000, 250000, 80000, 120000])\n",
    "\n",
    "# 할인율을 저장할 리스트\n",
    "discounts = []\n",
    "\n",
    "# 각 상품에 대한 할인율 계산\n",
    "for price in prices:\n",
    "    if price < 100000:             # 10만원 미만\n",
    "        discounts.append(10)\n",
    "    elif 100000 <= price < 200000: # 20만원 미만\n",
    "        discounts.append(15)\n",
    "    else:                          # 20만원 이상\n",
    "        discounts.append(20)\n",
    "\n",
    "# 할인율 배열로 변환\n",
    "discounts = np.array(discounts)\n",
    "\n",
    "# 최종 가격 계산\n",
    "final_prices = prices - (prices * discounts / 100)\n",
    "\n",
    "print(final_prices)\n"
   ]
  },
  {
   "cell_type": "code",
   "execution_count": 272,
   "id": "ecc18f21-6388-4841-874a-1ef74528c277",
   "metadata": {},
   "outputs": [
    {
     "name": "stdout",
     "output_type": "stream",
     "text": [
      "[ 45000. 127500. 200000.  72000. 102000.]\n"
     ]
    }
   ],
   "source": [
    "import numpy as np\n",
    "\n",
    "# 상품 가격(원)\n",
    "prices = np.array([50000,150000,250000,80000,120000])\n",
    "## 할인 조건 : 10만원 미만-10% 20만원 미만 15% 20만원 이상 20%할인\n",
    "def get_discount_rate(price):\n",
    "    if price < 100000:\n",
    "        return 10\n",
    "    elif 100000 < price < 200000:\n",
    "        return 15\n",
    "    else:\n",
    "        return 20\n",
    "\n",
    "discounts = np.array( [get_discount_rate(price) for price in prices])\n",
    "\n",
    "discount_amout = prices * (discounts/100)\n",
    "fprice = prices - discount_amout\n",
    "\n",
    "print(fprice)\n"
   ]
  },
  {
   "cell_type": "code",
   "execution_count": 280,
   "id": "4fdd5d72-6338-40b7-b750-a9d147135eb5",
   "metadata": {},
   "outputs": [
    {
     "name": "stdout",
     "output_type": "stream",
     "text": [
      "화씨 온도:\n",
      " [[77.  80.6 78.8 75.2 73.4]\n",
      " [82.4 86.  84.2 80.6 78.8]\n",
      " [71.6 75.2 73.4 69.8 68. ]]\n"
     ]
    }
   ],
   "source": [
    "# 5일간 3개 도시의 온도(섭씨)\n",
    "temps_c = np.array([[25,27,26,24,23],  # 서울\n",
    "                    [28,30,29,27,26],  # 부산\n",
    "                    [22,24,23,21,20]   # 강릉\n",
    "                   ])\n",
    "\n",
    "# 섭씨 --> 화씨: F(c * 9/5) + 32\n",
    "temps_f = (temps_c * 9/5) + 32\n",
    "\n",
    "print(\"화씨 온도:\\n\",temps_f)\n"
   ]
  },
  {
   "cell_type": "code",
   "execution_count": 296,
   "id": "ffd91a33-745e-497e-9f26-f9ed7d44d5bc",
   "metadata": {},
   "outputs": [
    {
     "name": "stdout",
     "output_type": "stream",
     "text": [
      "할인 금액: [21250. 45000. 13500. 40000. 96000.]\n"
     ]
    }
   ],
   "source": [
    "import numpy as np\n",
    "\n",
    "# 의류 상품 가격(원)\n",
    "clothing_prices = np.array([25000,60000,15000,80000,120000])\n",
    "\n",
    "# 의류 상품별 할인율(%)\n",
    "clothing_discounts = np.array([15,25,10,50,20])\n",
    "\n",
    "discount_f = 1 - (clothing_discounts / 100)\n",
    "final_price = clothing_prices * discount_f\n",
    "print('할인 금액:',final_price)"
   ]
  },
  {
   "cell_type": "code",
   "execution_count": 304,
   "id": "c2182335-5cfc-488c-830b-38ec295cf030",
   "metadata": {},
   "outputs": [
    {
     "name": "stdout",
     "output_type": "stream",
     "text": [
      "[530000.         486666.66666667 516666.66666667 693333.33333333\n",
      " 616666.66666667 746666.66666667 513333.33333333]\n",
      "요일별 평균 대비 성과 (%):\n",
      " [[-1.88679245 -1.36986301 -1.29032258 -0.48076923  0.54054054  0.44642857\n",
      "  -0.64935065]\n",
      " [-9.43396226 -5.47945205 -5.16129032 -3.36538462 -5.94594595 -4.91071429\n",
      "  -4.54545455]\n",
      " [11.32075472  6.84931507  6.4516129   3.84615385  5.40540541  4.46428571\n",
      "   5.19480519]]\n"
     ]
    }
   ],
   "source": [
    "import numpy as np\n",
    "\n",
    "# 3개 지점의 일주일 매출 데이터\n",
    "sales = np.array([[520000, 480000, 510000, 690000, 620000, 750000, 510000],  # 1호점\n",
    "                  [480000, 460000, 490000, 670000, 580000, 710000, 490000],  # 2호점\n",
    "                  [590000, 520000, 550000, 720000, 650000, 780000, 540000]]) # 3호점\n",
    "daily_avg = sales.mean(axis=0)\n",
    "print(daily_avg)\n",
    "perfomance = (sales/ daily_avg *100) -100 # 평균 대비 퍼센트\n",
    "\n",
    "print(\"요일별 평균 대비 성과 (%):\\n\",perfomance)"
   ]
  },
  {
   "cell_type": "code",
   "execution_count": null,
   "id": "d9a3ccda-f33d-42ee-8a5a-03627cc36c0a",
   "metadata": {},
   "outputs": [],
   "source": []
  }
 ],
 "metadata": {
  "kernelspec": {
   "display_name": "Python 3 (ipykernel)",
   "language": "python",
   "name": "python3"
  },
  "language_info": {
   "codemirror_mode": {
    "name": "ipython",
    "version": 3
   },
   "file_extension": ".py",
   "mimetype": "text/x-python",
   "name": "python",
   "nbconvert_exporter": "python",
   "pygments_lexer": "ipython3",
   "version": "3.12.7"
  }
 },
 "nbformat": 4,
 "nbformat_minor": 5
}
