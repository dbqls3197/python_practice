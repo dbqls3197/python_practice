{
 "cells": [
  {
   "cell_type": "markdown",
   "id": "bc0436ff-2b91-4b99-92dd-582137575fac",
   "metadata": {},
   "source": [
    "## 0차원 배열 (스칼라)\n",
    "- 하나의 데이터 값을 가진 배열\n"
   ]
  },
  {
   "cell_type": "code",
   "execution_count": 12,
   "id": "8d10cbfb-9b6a-4d7b-8a3a-1ef833d35b2c",
   "metadata": {},
   "outputs": [
    {
     "name": "stdout",
     "output_type": "stream",
     "text": [
      "12\n",
      "<class 'numpy.ndarray'>\n",
      "()\n"
     ]
    }
   ],
   "source": [
    "import numpy as np\n",
    "\n",
    "arr =np.array(12)\n",
    "print(arr)\n",
    "print(type(arr))\n",
    "# shape(): 배열이 무슨 차원으로 구성되어 있는지 보여줌\n",
    "print(np.shape(arr)) # 0차원에서는 반환값이 없음"
   ]
  },
  {
   "cell_type": "markdown",
   "id": "4453aaa9-1947-4643-92ee-63b3de083c95",
   "metadata": {},
   "source": [
    "## 1차원 배열(백터)\n",
    "- 넘파이 배열의 가장 기본적인 배열을 말한다.\n",
    "- 1차원 배열은 파이썬의 리스트(list)와 동일한형태를 가진다."
   ]
  },
  {
   "cell_type": "code",
   "execution_count": 16,
   "id": "2278ce78-b784-43b1-8017-062f1428c7f6",
   "metadata": {},
   "outputs": [
    {
     "name": "stdout",
     "output_type": "stream",
     "text": [
      "[ 2  4  6  8 10]\n",
      "(5,)\n"
     ]
    }
   ],
   "source": [
    "import numpy as np\n",
    "arr = np.array([2,4,6,8,10])\n",
    "print(arr)\n",
    "print(np.shape(arr))"
   ]
  },
  {
   "cell_type": "code",
   "execution_count": 52,
   "id": "760ce65d-5fe5-4b05-b130-4fb0155cccd3",
   "metadata": {},
   "outputs": [
    {
     "name": "stdout",
     "output_type": "stream",
     "text": [
      "[0. 0. 0. 0. 0.]\n",
      "[1. 1. 1. 1. 1.]\n",
      "[1. 1. 1. 1. 1.]\n",
      "[0 1 2 3 4]\n",
      "[1. 2. 3. 4. 5.]\n",
      "[ 2  5  8 11 14 17]\n",
      "[  0.  50. 100.]\n"
     ]
    }
   ],
   "source": [
    "# 넘파이 초기화\n",
    "\n",
    "print(np.zeros(5)) # 0으로 채워진 1차원 배열 생성\n",
    "print(np.ones(5)) # 1로 채워진 1차원 배열 생성\n",
    "print(np.empty(5))  # 빈 배열 생성, 메모리 상태에 따라 다름다(바로 값을 넣으려고 만든 경우)\n",
    "print(np.arange(5))  #0부터 5개 숫자 형성[0 1 2 3 4]\n",
    "\n",
    "arr =np.empty(5)\n",
    "arr[:] =np.arange(1,6)\n",
    "print(arr)\n",
    "\n",
    "print(np.arange(2,20,3)) # 2 ~ 19 ,step:3, 일정한 간격의 배열 생성(시작,정지,단계(step))\n",
    "print(np.linspace(0,100,num=3))"
   ]
  },
  {
   "cell_type": "code",
   "execution_count": 56,
   "id": "bf8f1649-f2ab-4da8-845f-c5243bf16c00",
   "metadata": {},
   "outputs": [
    {
     "name": "stdout",
     "output_type": "stream",
     "text": [
      "[ 90  80 100  85  98]\n",
      "[0. 0. 0. 0. 0.]\n"
     ]
    }
   ],
   "source": [
    "import numpy as np\n",
    "scores= np.array([90,80,100,85,98])\n",
    "print(scores)\n",
    "scores = np.zeros(5)\n",
    "print(scores)"
   ]
  },
  {
   "cell_type": "code",
   "execution_count": 58,
   "id": "7ab032df-b5bb-4434-ad86-d60c720acdab",
   "metadata": {},
   "outputs": [
    {
     "name": "stdout",
     "output_type": "stream",
     "text": [
      "Inital Scores: [0. 0. 0. 0. 0.]\n",
      "Updated Scores: [85. 90.  0.  0.  0.]\n"
     ]
    }
   ],
   "source": [
    "# 5명의 출석 상태를 1로 초기화\n",
    "num_students = 5\n",
    "attepdance =np.zeros(num_students)\n",
    "print(\"Inital Scores:\",scores)\n",
    "\n",
    "# 점수 입력 (예시)\n",
    "\n",
    "scores[0] =85\n",
    "scores[1] =90\n",
    "print(\"Updated Scores:\",scores)"
   ]
  },
  {
   "cell_type": "markdown",
   "id": "307c0231-d083-4f58-ba57-2c70993be6be",
   "metadata": {},
   "source": [
    "## 2차원 배열(매트릭스:행렬)\n",
    "- 2-차원 배열을 행렬(Matrix)이라고 한다.\n",
    "- 2-차원 배열은 테이블(표) 형태과 같이 행과 열로 구성된 배열이다."
   ]
  },
  {
   "cell_type": "code",
   "execution_count": 63,
   "id": "fa31a6eb-297b-426a-b19b-54d9c420b9a7",
   "metadata": {},
   "outputs": [
    {
     "name": "stdout",
     "output_type": "stream",
     "text": [
      "[[2 4 6]\n",
      " [1 3 5]]\n",
      "(2, 3)\n"
     ]
    }
   ],
   "source": [
    "import numpy as np\n",
    "arr = np.array([\n",
    "                [2,4,6],\n",
    "                [1,3,5]\n",
    "                ]) # 2행 3열\n",
    "print(arr)\n",
    "print(np.shape(arr))"
   ]
  },
  {
   "cell_type": "code",
   "execution_count": 67,
   "id": "251b565f-7e91-4531-ac17-ed62eba14178",
   "metadata": {},
   "outputs": [
    {
     "name": "stdout",
     "output_type": "stream",
     "text": [
      "[[ 2  4]\n",
      " [ 6  8]\n",
      " [10 12]]\n",
      "(3, 2)\n"
     ]
    }
   ],
   "source": [
    "import numpy as np\n",
    "arr =np.array([[2,4],[6,8],[10,12]]) # 3행 ,2열\n",
    "print(arr)\n",
    "print(np.shape(arr))"
   ]
  },
  {
   "cell_type": "code",
   "execution_count": 69,
   "id": "478ed4bf-c217-4d41-a045-c30713dcd97b",
   "metadata": {},
   "outputs": [
    {
     "name": "stdout",
     "output_type": "stream",
     "text": [
      "3\n",
      "2\n"
     ]
    }
   ],
   "source": [
    "print(len(arr))  # 행의 개수를 표시\n",
    "print(len(arr[0])) # 열의 개수를 표시"
   ]
  },
  {
   "cell_type": "code",
   "execution_count": 71,
   "id": "ecc83ab9-94d1-4d4f-bfa9-e43d9080e6b9",
   "metadata": {},
   "outputs": [
    {
     "name": "stdout",
     "output_type": "stream",
     "text": [
      "(3, 4)\n",
      "3\n",
      "4\n"
     ]
    }
   ],
   "source": [
    "arr = np.array([[85,90,78,92],\n",
    "                [75,80,88,70],\n",
    "                [95,100,90,85]])\n",
    "print(np.shape(arr))\n",
    "print(len(arr))    # 행 수\n",
    "print(len(arr[0])) # 열 수"
   ]
  },
  {
   "cell_type": "code",
   "execution_count": 79,
   "id": "323b1cfc-0a1c-4693-bfa0-11098517b5d1",
   "metadata": {},
   "outputs": [
    {
     "name": "stdout",
     "output_type": "stream",
     "text": [
      "(5, 2)\n",
      "5\n",
      "2\n",
      "(5, 2)\n",
      "2 차원\n"
     ]
    }
   ],
   "source": [
    "# 5종 제품의 재고 수량과 가격\n",
    "arr =np.array([[10,100],\n",
    "               [5,200],\n",
    "               [20,50],\n",
    "               [0,150],\n",
    "               [15,80]])\n",
    "print(np.shape(arr))\n",
    "print(len(arr))    # 행 수\n",
    "print(len(arr[0])) # 열 수\n",
    "print(arr.shape)          # 배열의 크기(튜플로 반환)\n",
    "print(arr.ndim,\"차원\")    # 배열의 차원 수 : 0 1 2 3"
   ]
  },
  {
   "cell_type": "markdown",
   "id": "195d7bf3-07ea-4202-b248-4f704cdb9c3d",
   "metadata": {},
   "source": [
    "## 3차원 배열(텐서)\n",
    "- 3-차원 이상의 배열을 텐서(Tensor)라고 한다.\n",
    "- 3-차원 배열은 2-차원 배열을 몇번 사용하는지에 따라 깊이가 결정된다"
   ]
  },
  {
   "cell_type": "code",
   "execution_count": 87,
   "id": "88cfad0f-c042-46e5-9381-229ebf2bfebd",
   "metadata": {},
   "outputs": [
    {
     "name": "stdout",
     "output_type": "stream",
     "text": [
      "[[[111 112 113]\n",
      "  [121 122 123]]\n",
      "\n",
      " [[211 212 213]\n",
      "  [221 222 223]]\n",
      "\n",
      " [[311 312 313]\n",
      "  [321 322 323]]\n",
      "\n",
      " [[411 412 413]\n",
      "  [421 422 423]]]\n",
      "(4, 2, 3)\n"
     ]
    }
   ],
   "source": [
    "import numpy as np\n",
    "arr = np.array([[[111,112,113], [121,122,123]],\n",
    "                [[211,212,213], [221,222,223]],\n",
    "                [[311,312,313], [321,322,323]],\n",
    "                [[411,412,413], [421,422,423]]\n",
    "               ])\n",
    "print(arr)\n",
    "print(np.shape(arr))"
   ]
  },
  {
   "cell_type": "code",
   "execution_count": 89,
   "id": "b9ffecc7-dc5c-470c-8b0e-945a3f254dcc",
   "metadata": {},
   "outputs": [
    {
     "name": "stdout",
     "output_type": "stream",
     "text": [
      "4\n",
      "2\n",
      "3\n"
     ]
    }
   ],
   "source": [
    "print(len(arr))        # 깊이(총)를 표시\n",
    "print(len(arr[0]))     # 형의 개수를 표시\n",
    "print(len(arr[0][0]))  # 열의 개수를 표시 "
   ]
  },
  {
   "cell_type": "markdown",
   "id": "23b4a233-5f7f-4472-87fb-3d35b1f0df0f",
   "metadata": {},
   "source": [
    "## 배열의 재구성\n",
    "- 배열 재구성(reshpae)은 데이터를 변경하지 않고 배열의 크기를 변경하는 것을 말한다.\n",
    "- 배열 크기를 변경할 때 원래 배열과 동일한 수의 데이터를 가져야 한다.\n",
    "- 1-차원 배열의 데이터 수가 6 개라면 새롭게 변경하는 2-차원 배열의 데이터 수도 6개이어야 한다."
   ]
  },
  {
   "cell_type": "code",
   "execution_count": 101,
   "id": "8f9299fa-b91e-489f-b8c1-3702eebf447b",
   "metadata": {},
   "outputs": [
    {
     "name": "stdout",
     "output_type": "stream",
     "text": [
      "[ 1  2  3  4  5  6  7  8  9 10 11 12]\n",
      "[[ 1  2  3]\n",
      " [ 4  5  6]\n",
      " [ 7  8  9]\n",
      " [10 11 12]]\n",
      "[[ 1  2]\n",
      " [ 3  4]\n",
      " [ 5  6]\n",
      " [ 7  8]\n",
      " [ 9 10]\n",
      " [11 12]]\n",
      "[ 1  2  3  4  5  6  7  8  9 10 11 12]\n"
     ]
    }
   ],
   "source": [
    "# reshape 시 전체 원소 개수는 유지되어야함\n",
    "\n",
    "import numpy as np\n",
    "arr = np.array([1, 2, 3, 4, 5, 6, 7, 8, 9, 10, 11, 12]) # 넘파이 배열 1차원 ---> 2차원 (4, 3)(2, 6)\n",
    "print(arr)\n",
    "#new1 =np.reshape(arr,(4,3))\n",
    "#new2 =np.reshape(arr,(2,6))\n",
    "new1 =arr.reshape(4,3)\n",
    "new2 =arr.reshape(6,2)\n",
    "print(new1)\n",
    "print(new2)\n",
    "# 2차원 ----> 1차원\n",
    "new3 = new2.flatten()\n",
    "print(new3)"
   ]
  },
  {
   "cell_type": "code",
   "execution_count": 105,
   "id": "075c6fef-c139-47db-872d-8de5bd9f0395",
   "metadata": {},
   "outputs": [
    {
     "name": "stdout",
     "output_type": "stream",
     "text": [
      "[[ 1  2  3]\n",
      " [ 4  5  6]\n",
      " [ 7  8  9]\n",
      " [10 11 12]] \n",
      "\n",
      "[[ 1  2  3  4  5  6]\n",
      " [ 7  8  9 10 11 12]]\n",
      "[ 1  2  3  4  5  6  7  8  9 10 11 12]\n"
     ]
    }
   ],
   "source": [
    "a = [1, 2, 3, 4, 5, 6, 7, 8, 9, 10, 11, 12] # 리스트\n",
    "new1 =np.reshape(a,(4,3))\n",
    "new2 =np.reshape(a,(2,6))\n",
    "new3 =np.reshape(a,(1,12))\n",
    "print(new1,'\\n')\n",
    "print(new2)\n",
    "print(*new3)"
   ]
  },
  {
   "cell_type": "code",
   "execution_count": 109,
   "id": "19c078df-58b2-4334-b90e-96eea7d2fc4f",
   "metadata": {},
   "outputs": [
    {
     "name": "stdout",
     "output_type": "stream",
     "text": [
      "[[[ 1  2]\n",
      "  [ 3  4]\n",
      "  [ 5  6]]\n",
      "\n",
      " [[ 7  8]\n",
      "  [ 9 10]\n",
      "  [11 12]]]\n",
      "(2, 3, 2)\n",
      "3\n"
     ]
    }
   ],
   "source": [
    "# 1차원 ---> 3차원 배열크기 변경\n",
    "import numpy as np\n",
    "arr = np.array([1, 2, 3, 4, 5, 6, 7, 8, 9, 10, 11, 12])\n",
    "new4 = arr.reshape(2,3,2)\n",
    "print(new4)\n",
    "print(new4.shape)\n",
    "print(new4.ndim)"
   ]
  },
  {
   "cell_type": "markdown",
   "id": "dadd3803-b61e-46e1-a120-0641a8563e37",
   "metadata": {},
   "source": [
    "## 배열의 차원 수를 확장하기\n",
    "- 넘파이 newaxis 함수를 사용하여 기본 배열의 크기(차원수)를 확장할 수 있다.\n",
    "- newaxis 함수는 배열의 크기를 한 차원 늘리는 것으로 1-차원 배열을 2-차원배열로,2-차원 배열을 3-차원 배열로 재구성해 준다.\n",
    "- np.newaxis로 새로운 축을 추가할 때, 그 축의 크기는 항상 1이 됩니다. 이것은 numpy의 설계된 방식"
   ]
  },
  {
   "cell_type": "code",
   "execution_count": 116,
   "id": "c78c9f57-7e9c-4bd2-bcb2-166116b6cf4a",
   "metadata": {},
   "outputs": [
    {
     "name": "stdout",
     "output_type": "stream",
     "text": [
      "[1 2 3 4 5 6]\n",
      "(6,)\n",
      "[[1 2 3 4 5 6]]\n",
      "(1, 6)\n",
      "[[1]\n",
      " [2]\n",
      " [3]\n",
      " [4]\n",
      " [5]\n",
      " [6]]\n",
      "(6, 1)\n"
     ]
    }
   ],
   "source": [
    "import numpy as np\n",
    "new = np.array([1, 2, 3, 4, 5, 6])\n",
    "print(new)\n",
    "print(new.shape)\n",
    "newarr =new[np.newaxis,:]\n",
    "print(newarr)\n",
    "print(newarr.shape)\n",
    "newarr2 =new[:,np.newaxis]\n",
    "print(newarr2)\n",
    "print(newarr2.shape)"
   ]
  },
  {
   "cell_type": "code",
   "execution_count": 124,
   "id": "fb7276e6-2005-4c11-895c-f96826adf4d3",
   "metadata": {},
   "outputs": [
    {
     "name": "stdout",
     "output_type": "stream",
     "text": [
      "(4,)\n",
      "(1, 4)\n",
      "[[1 2 3 4]]\n",
      "(4, 1)\n",
      "[[1]\n",
      " [2]\n",
      " [3]\n",
      " [4]]\n"
     ]
    }
   ],
   "source": [
    "import numpy as np\n",
    "arr = np.array([1, 2, 3, 4])\n",
    "\n",
    "row_vector = arr[np.newaxis,:]\n",
    "col_vector = arr[:,np.newaxis]\n",
    "print(arr.shape)\n",
    "\n",
    "print(row_vector.shape) # (1,4)\n",
    "print(row_vector)\n",
    "print(col_vector.shape) # (4,1) \n",
    "print(col_vector)"
   ]
  },
  {
   "cell_type": "markdown",
   "id": "9b2c8a90-72b2-42a9-8416-1eb905fecebf",
   "metadata": {},
   "source": [
    "## 넘파이 인덱싱\n",
    "- 파이썬 리스트(list)의 데이터를 인덱싱할 수 있는 것과 같이 넘파이 배열 또한 데이터를 인덱싱할 수 있다.\n",
    "- 넘파이 배열의 인덱싱 방법은 리스트(list)의 인덱싱 방법과 동일하다. 즉 인덱스 번호를 참조하여 배열에 저장된 특정 데이터를 찾을 수 있다.\n",
    "- 넘파이 배열의 인덱스는 0 으로 시작하므로 첫 번쨰 데이터의 인덱스는0, 두 번째 데이터의 인덱스는 1로 표시한다.\n"
   ]
  },
  {
   "cell_type": "code",
   "execution_count": 127,
   "id": "a34cc182-3e47-4482-9ca0-a87834e76bad",
   "metadata": {},
   "outputs": [
    {
     "data": {
      "text/plain": [
       "2"
      ]
     },
     "execution_count": 127,
     "metadata": {},
     "output_type": "execute_result"
    }
   ],
   "source": [
    "# 1차원 인덱싱\n",
    "import numpy as np\n",
    "arr = np.array([2, 4, 6, 8])\n",
    "arr[0]\n"
   ]
  },
  {
   "cell_type": "code",
   "execution_count": 129,
   "id": "61ad7030-6398-4c38-a279-1cb278fe30e2",
   "metadata": {},
   "outputs": [
    {
     "name": "stdout",
     "output_type": "stream",
     "text": [
      "12\n",
      "32\n"
     ]
    }
   ],
   "source": [
    "# 1차원 인덱싱\n",
    "import numpy as np\n",
    "arr = np.array([2, 4, 6, 8])\n",
    "print(arr[1] + arr[3])\n",
    "print(arr[1] * arr[3])"
   ]
  },
  {
   "cell_type": "code",
   "execution_count": 131,
   "id": "abc11fcf-7b35-4ec0-baaf-2e829101fd25",
   "metadata": {},
   "outputs": [
    {
     "data": {
      "text/plain": [
       "array([[2, 4, 6],\n",
       "       [1, 3, 5]])"
      ]
     },
     "execution_count": 131,
     "metadata": {},
     "output_type": "execute_result"
    }
   ],
   "source": [
    "# 2차원 인덱싱\n",
    "arr =np.array([[2, 4, 6], [1, 3, 5]])\n",
    "arr"
   ]
  },
  {
   "cell_type": "code",
   "execution_count": 133,
   "id": "e971c00a-7f74-45c0-a5ca-7977bae35d9c",
   "metadata": {},
   "outputs": [
    {
     "data": {
      "text/plain": [
       "4"
      ]
     },
     "execution_count": 133,
     "metadata": {},
     "output_type": "execute_result"
    }
   ],
   "source": [
    "arr[0,1]"
   ]
  },
  {
   "cell_type": "code",
   "execution_count": 137,
   "id": "5dadb8b8-0919-44c3-b15e-b89b34811e23",
   "metadata": {},
   "outputs": [
    {
     "data": {
      "text/plain": [
       "5"
      ]
     },
     "execution_count": 137,
     "metadata": {},
     "output_type": "execute_result"
    }
   ],
   "source": [
    "arr[1,2]"
   ]
  },
  {
   "cell_type": "code",
   "execution_count": 145,
   "id": "d5cfe323-6bc7-4358-9cab-317c0b3f878f",
   "metadata": {},
   "outputs": [
    {
     "name": "stdout",
     "output_type": "stream",
     "text": [
      "(2, 2, 3)\n"
     ]
    }
   ],
   "source": [
    "# 3차원 인덱싱\n",
    "import numpy as np\n",
    "arr = np.array([[[11,12,13],[14,15,16]],\n",
    "              [[21,22,23],[24,25,26]]])\n",
    "arr # (2, 2, 3)\n",
    "print(arr.shape)"
   ]
  },
  {
   "cell_type": "code",
   "execution_count": 147,
   "id": "58174ac1-f2de-4c40-b1f1-f9103b1489da",
   "metadata": {},
   "outputs": [
    {
     "name": "stdout",
     "output_type": "stream",
     "text": [
      "11\n"
     ]
    }
   ],
   "source": [
    "print(arr[0,0,0])"
   ]
  },
  {
   "cell_type": "code",
   "execution_count": 149,
   "id": "fd931a91-86e3-4af0-8818-b8889e1cc58c",
   "metadata": {},
   "outputs": [
    {
     "name": "stdout",
     "output_type": "stream",
     "text": [
      "21\n"
     ]
    }
   ],
   "source": [
    "print(arr[1,0,0])"
   ]
  },
  {
   "cell_type": "code",
   "execution_count": 151,
   "id": "4c889971-d70f-4405-b756-0ae9c5a97cb2",
   "metadata": {},
   "outputs": [
    {
     "name": "stdout",
     "output_type": "stream",
     "text": [
      "26\n"
     ]
    }
   ],
   "source": [
    "print(arr[1,1,2])"
   ]
  },
  {
   "cell_type": "markdown",
   "id": "1f6e7d75-761c-42b1-8714-1f7269590549",
   "metadata": {},
   "source": [
    "## 음수 인덱싱"
   ]
  },
  {
   "cell_type": "code",
   "execution_count": 154,
   "id": "a068a111-2657-478c-bf03-8ab71f9fded6",
   "metadata": {},
   "outputs": [
    {
     "data": {
      "text/plain": [
       "8"
      ]
     },
     "execution_count": 154,
     "metadata": {},
     "output_type": "execute_result"
    }
   ],
   "source": [
    "import numpy as np\n",
    "arr =np.array([2, 4, 6, 8])\n",
    "arr[-1]"
   ]
  },
  {
   "cell_type": "code",
   "execution_count": 158,
   "id": "7dca8765-0f78-44f1-8813-22a6ab34bdb2",
   "metadata": {},
   "outputs": [
    {
     "data": {
      "text/plain": [
       "3"
      ]
     },
     "execution_count": 158,
     "metadata": {},
     "output_type": "execute_result"
    }
   ],
   "source": [
    "import numpy as np\n",
    "arr =np.array([[2, 4, 6],[1, 3, 5]])\n",
    "arr[1,-2]\n",
    "arr[-1,-2]"
   ]
  },
  {
   "cell_type": "markdown",
   "id": "b74f6aa2-0179-4691-83eb-844717041b87",
   "metadata": {},
   "source": [
    "## 조건에 맞는 요소 인덱싱\n",
    "- 특정 조건에 맞는 데이터만을 인덱싱할 수 있다.\n",
    "- 부울리안(True,False)값으로 표시."
   ]
  },
  {
   "cell_type": "code",
   "execution_count": 161,
   "id": "24a3bfb4-4514-4d12-82e8-32637564fff8",
   "metadata": {},
   "outputs": [
    {
     "data": {
      "text/plain": [
       "array([[ True,  True,  True,  True],\n",
       "       [False, False, False, False],\n",
       "       [False, False, False, False]])"
      ]
     },
     "execution_count": 161,
     "metadata": {},
     "output_type": "execute_result"
    }
   ],
   "source": [
    "import numpy as np\n",
    "arr =np.array([[1, 2, 3, 4],[5, 6, 7, 8],[9, 10, 11, 12]])\n",
    "arr < 5"
   ]
  },
  {
   "cell_type": "code",
   "execution_count": 174,
   "id": "58b961c0-7ec9-4469-bc7c-c9ec1946418c",
   "metadata": {},
   "outputs": [
    {
     "data": {
      "text/plain": [
       "array([1, 2, 3, 4])"
      ]
     },
     "execution_count": 174,
     "metadata": {},
     "output_type": "execute_result"
    }
   ],
   "source": [
    "arr[arr < 5]"
   ]
  },
  {
   "cell_type": "code",
   "execution_count": 176,
   "id": "5b85d6c3-7a60-4884-b779-67a0ecde7609",
   "metadata": {},
   "outputs": [
    {
     "data": {
      "text/plain": [
       "array([ 9, 10, 11, 12])"
      ]
     },
     "execution_count": 176,
     "metadata": {},
     "output_type": "execute_result"
    }
   ],
   "source": [
    "arr[arr > 8]"
   ]
  },
  {
   "cell_type": "code",
   "execution_count": 178,
   "id": "ada7e9a8-0293-46ec-b822-a08492f62d6b",
   "metadata": {},
   "outputs": [
    {
     "data": {
      "text/plain": [
       "array([ 2,  4,  6,  8, 10, 12])"
      ]
     },
     "execution_count": 178,
     "metadata": {},
     "output_type": "execute_result"
    }
   ],
   "source": [
    "arr[arr % 2 ==0]"
   ]
  },
  {
   "cell_type": "code",
   "execution_count": 180,
   "id": "943dd7dc-6016-4cab-917f-229d7c0a74dc",
   "metadata": {},
   "outputs": [
    {
     "data": {
      "text/plain": [
       "array([[False,  True, False,  True],\n",
       "       [False,  True, False,  True],\n",
       "       [False,  True, False,  True]])"
      ]
     },
     "execution_count": 180,
     "metadata": {},
     "output_type": "execute_result"
    }
   ],
   "source": [
    "arr % 2 ==0"
   ]
  },
  {
   "cell_type": "code",
   "execution_count": 188,
   "id": "762d1637-3153-41bd-9881-0d2012c392bd",
   "metadata": {},
   "outputs": [
    {
     "data": {
      "text/plain": [
       "array([4, 5, 6, 7, 8])"
      ]
     },
     "execution_count": 188,
     "metadata": {},
     "output_type": "execute_result"
    }
   ],
   "source": [
    "arr[(arr>3)&(arr<9)]"
   ]
  },
  {
   "cell_type": "code",
   "execution_count": 192,
   "id": "540cce94-d38f-4e7d-8705-11e1746ad968",
   "metadata": {},
   "outputs": [
    {
     "name": "stdout",
     "output_type": "stream",
     "text": [
      "10\n",
      "19\n",
      "[10 11 12]\n",
      "[10 11 12]\n",
      "[14 15 16 17 18 19]\n",
      "[14 15]\n",
      "[14 15]\n"
     ]
    }
   ],
   "source": [
    "import numpy as np\n",
    "arr =np.array([10, 11, 12, 13, 14, 15, 16, 17, 18, 19])\n",
    "print(arr[0])    # 인덱스 0번 10\n",
    "print(arr[-1])   # 제일 뒤 19\n",
    "print(arr[0:3])  # [시작번호:끝번호+1] 10 11 12\n",
    "print(arr[:3])   # 처음부터 3번 앞까지 10 11 12\n",
    "print(arr[4:])   # 4번부터 끝까지 14 15 16 17 18 19\n",
    "print(arr[4:6])  # 4번부터 6번 앞까지 14 15 \n",
    "print(arr[4:-4]) # 4번부터 뒤에서 4번 앞까지 14 15"
   ]
  },
  {
   "cell_type": "code",
   "execution_count": null,
   "id": "a5299f57-0ebf-4d6f-a53c-52d532c3f061",
   "metadata": {},
   "outputs": [],
   "source": []
  }
 ],
 "metadata": {
  "kernelspec": {
   "display_name": "Python 3 (ipykernel)",
   "language": "python",
   "name": "python3"
  },
  "language_info": {
   "codemirror_mode": {
    "name": "ipython",
    "version": 3
   },
   "file_extension": ".py",
   "mimetype": "text/x-python",
   "name": "python",
   "nbconvert_exporter": "python",
   "pygments_lexer": "ipython3",
   "version": "3.12.7"
  }
 },
 "nbformat": 4,
 "nbformat_minor": 5
}
