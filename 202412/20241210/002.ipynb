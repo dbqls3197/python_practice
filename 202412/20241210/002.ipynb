{
 "cells": [
  {
   "cell_type": "markdown",
   "id": "97f59cec-d64b-4745-8d5a-16f34064df28",
   "metadata": {},
   "source": [
    "## re.match() 예제\n",
    "<li>문자열의 사작에서 패턴과 일치하는 부분"
   ]
  },
  {
   "cell_type": "code",
   "execution_count": 14,
   "id": "daae15cd-20ab-47a1-985a-7ff91b99d7d7",
   "metadata": {},
   "outputs": [
    {
     "name": "stdout",
     "output_type": "stream",
     "text": [
      "True\n"
     ]
    }
   ],
   "source": [
    "import re\n",
    "# 문제 1 : 올바른 한국 휴대폰 번호 형식인지 검사(010으로 시작)\n",
    "phone = '010-1234-5678'\n",
    "pattern = r'010-\\d{3,4}-\\d{4}'\n",
    "result =re.match(pattern,phone)\n",
    "print(bool(result))"
   ]
  },
  {
   "cell_type": "code",
   "execution_count": 20,
   "id": "552e283f-f314-4170-848f-e61a6d1b9c20",
   "metadata": {},
   "outputs": [
    {
     "name": "stdout",
     "output_type": "stream",
     "text": [
      "True\n"
     ]
    }
   ],
   "source": [
    "# 문제 2: 이름이 영문 대문자로 시작하고 2-10글자인지 검사\n",
    "name = \"John\"\n",
    "pattern = r'^[A-Z][\\w]{1,9}'\n",
    "result = re.match(pattern,name)\n",
    "print(bool(result))"
   ]
  },
  {
   "cell_type": "code",
   "execution_count": 24,
   "id": "c98c8692-a2a1-47bc-b683-b8b44494baf0",
   "metadata": {},
   "outputs": [
    {
     "name": "stdout",
     "output_type": "stream",
     "text": [
      "True\n"
     ]
    }
   ],
   "source": [
    "# 문제 3: 올바른 주민등록번호 형식인지 검사\n",
    "ssn = \"901231-1234567\"\n",
    "pattern = r'\\d{6}-[1-4]\\d{6}$'\n",
    "result = re.match(pattern,ssn)\n",
    "print(bool(result))"
   ]
  },
  {
   "cell_type": "code",
   "execution_count": 26,
   "id": "7298cfaf-f173-44b6-9190-2eaba284061b",
   "metadata": {},
   "outputs": [
    {
     "name": "stdout",
     "output_type": "stream",
     "text": [
      "True\n"
     ]
    }
   ],
   "source": [
    "# 문제 4: 올바른 우편번호 형식인지 검사 (5자리 숫자)\n",
    "postal = \"12345\"\n",
    "# ^와 $ 는 각 줄단위 (\\n은 끝을 의미)\n",
    "pattern = r'^\\d{5}$'\n",
    "result = re.match(pattern,postal)\n",
    "print(bool(result))"
   ]
  },
  {
   "cell_type": "code",
   "execution_count": 32,
   "id": "e2adeb29-2e74-47a0-8411-484009fa7ebf",
   "metadata": {},
   "outputs": [
    {
     "name": "stdout",
     "output_type": "stream",
     "text": [
      "True\n"
     ]
    }
   ],
   "source": [
    "# 문제 5: 연도가 2000-2099 사이인지 검사\n",
    "year = \"2024\"\n",
    "pattern = r'^20\\d{2}$'\n",
    "result = re.match(pattern,year)\n",
    "print(bool(result))"
   ]
  },
  {
   "cell_type": "markdown",
   "id": "15a7e15f-75f8-40e3-93af-433a7f556257",
   "metadata": {},
   "source": [
    "## re.search() 예제\n",
    "<li>문자열 전체에서 패턴과 일치하는 첫 번쨰 부분"
   ]
  },
  {
   "cell_type": "code",
   "execution_count": 49,
   "id": "b22f2b31-01dc-41a7-902d-a3db79c44f8b",
   "metadata": {},
   "outputs": [
    {
     "name": "stdout",
     "output_type": "stream",
     "text": [
      "True\n"
     ]
    }
   ],
   "source": [
    "# 문제 1: 문자열에 이메일 주소가 포함되어 있는지 검사\n",
    "text = \"연락처 : user@example.com 입니다\"\n",
    "pattern = r'[\\w]+@[\\w]+\\.[\\w]{2,3}'\n",
    "result = re.search(pattern,text)\n",
    "print(bool(result))"
   ]
  },
  {
   "cell_type": "code",
   "execution_count": 63,
   "id": "e827495e-dadb-48a0-9464-2f96dcde8b73",
   "metadata": {},
   "outputs": [
    {
     "name": "stdout",
     "output_type": "stream",
     "text": [
      "True\n",
      "https://www.example.com\n"
     ]
    }
   ],
   "source": [
    "# 문제 2: URL이 포함되어 있는지 검사\n",
    "text2 = \"웹사이트: https://www.example.com\"\n",
    "result = re.search(r'https?://[\\w\\.-]+\\.\\w+',text2)\n",
    "print(bool(result))\n",
    "print(result.group())"
   ]
  },
  {
   "cell_type": "code",
   "execution_count": 73,
   "id": "4c56984b-45da-4d84-af31-fbf50dcc3901",
   "metadata": {},
   "outputs": [
    {
     "name": "stdout",
     "output_type": "stream",
     "text": [
      "True\n"
     ]
    }
   ],
   "source": [
    "# 문제 3: 신용카드 번호가 포함되어 있는지 검사\n",
    "text = '카드번호는 1234-5678-9012-3456 입니다.'\n",
    "# (?=조건) : 긍정 탐색\n",
    "# (?!조건) : 부정 탐색\n",
    "result = re.search(r'\\d{4}-\\d{4}-\\d{4}-\\d{4}(?!\\d)',text)\n",
    "print(bool(result))"
   ]
  },
  {
   "cell_type": "code",
   "execution_count": 79,
   "id": "9a0467e2-e2d4-4beb-8810-733bfcac10fd",
   "metadata": {},
   "outputs": [
    {
     "name": "stdout",
     "output_type": "stream",
     "text": [
      "True\n"
     ]
    }
   ],
   "source": [
    "# 문제 4 : IPv4 주소가 포함되어 있는지 검사\n",
    "text = \"IP 주소: 192.168.0.1 입니다.\"\n",
    "result = re.search(r'\\d{1,3}\\.\\d{1,3}\\.\\d{1,3}\\.\\d{,3}(?!\\d)',text)\n",
    "print(bool(result))"
   ]
  },
  {
   "cell_type": "code",
   "execution_count": 81,
   "id": "ce37d320-fca5-479f-834f-d15e38768c7e",
   "metadata": {},
   "outputs": [
    {
     "name": "stdout",
     "output_type": "stream",
     "text": [
      "True\n"
     ]
    }
   ],
   "source": [
    "# 문제 4 : 시간 형식(HH:MM:SS)이 포함되어 있는지 검사\n",
    "text = \"현재 시작은 14:30:45 니다.\"\n",
    "result = re.search(r'([01]\\d|2[0-3]):[0-5]\\d:[0-5]\\d',text)\n",
    "print(bool(result))"
   ]
  },
  {
   "cell_type": "markdown",
   "id": "3161744d-e726-4462-954e-85210ca94ccc",
   "metadata": {},
   "source": [
    "## re.findall() 예제"
   ]
  },
  {
   "cell_type": "code",
   "execution_count": 96,
   "id": "6ca2dd39-95ad-46b1-83be-7eba2670ba8c",
   "metadata": {},
   "outputs": [
    {
     "name": "stdout",
     "output_type": "stream",
     "text": [
      "['user1@example.com', 'user2@example.com']\n"
     ]
    }
   ],
   "source": [
    "# 문제 1 : 문자열에서 모든 이메일 주소 추출\n",
    "text = \"연락처: user1@example.com, user2@example.com\"\n",
    "emails = re.findall(r'[\\w\\.-]+@[\\w\\.-]+\\.\\w+',text)\n",
    "#emails = re.findall(r'([\\w\\.-]+)@[\\w\\.-]+\\.\\w+',text) # 캡쳐그룹 : 아이디\n",
    "#emails = re.findall(r'[\\w\\.-]+@([\\w\\.-]+\\.\\w+)',text) # 캡처그룹  : 도메인\n",
    "#emails = re.findall(r'([\\w\\.-]+)@([\\w\\.-]+\\.\\w+)',text) # 캡쳐그룹 복수(튜플)\n",
    "#emails = re.findall(r'([\\w\\.-]+)@(?:[\\w\\.-]+\\.\\w+)',text) # ?: --> 캡쳐그룹 제외\n",
    "\n",
    "print(emails)"
   ]
  },
  {
   "cell_type": "code",
   "execution_count": 100,
   "id": "bf002393-cd71-4fcb-b5dc-f2d3b05c39f6",
   "metadata": {},
   "outputs": [
    {
     "name": "stdout",
     "output_type": "stream",
     "text": [
      "['맑음', '화창', '좋아요']\n"
     ]
    }
   ],
   "source": [
    "# 문제 2 : 문자열에서 모든 해시테그(#) 추출\n",
    "text = \"오늘 날씨 #맑음 #화창 #좋아요\"\n",
    "tags = re.findall(r'#(\\w+)',text)\n",
    "print(tags)"
   ]
  },
  {
   "cell_type": "code",
   "execution_count": 120,
   "id": "6285a5e3-8729-40df-9326-0098e58528ba",
   "metadata": {},
   "outputs": [
    {
     "name": "stdout",
     "output_type": "stream",
     "text": [
      "['1000', '2500']\n",
      "[1000, 2500]\n",
      "(1000, 2500)\n"
     ]
    }
   ],
   "source": [
    "# 문제 3: 문자열에서 모든 금액(숫자 + 원) 추출\n",
    "text = \"상품가: 1000원, 배송비: 2500원\"\n",
    "prices = re.findall(r'(\\d+)원',text)\n",
    "print(prices)\n",
    "# 숫자 문자열을 숫자값으로 변환\n",
    "p2 = [int(price) for price in re.findall(r'(\\d+)원',text)]\n",
    "p3 = tuple(p2)\n",
    "print(p2)\n",
    "print(p3)"
   ]
  },
  {
   "cell_type": "code",
   "execution_count": 148,
   "id": "6ee2a6e3-ea70-4423-90d9-abbd94c3259c",
   "metadata": {},
   "outputs": [
    {
     "name": "stdout",
     "output_type": "stream",
     "text": [
      "[('div', '첫번째'), ('p', '두번째')]\n"
     ]
    }
   ],
   "source": [
    "# 문제 4: HTML 테그 내용 추출\n",
    "text = '<div>첫번째</div><p>두번째</p>'\n",
    "html = re.findall(r'<\\w+>(.*?)</\\w+>',text) # 값만 가져옴\n",
    "#html = re.findall(r'<\\w+>.*?</\\w+>',text) # 전체내용을 다져옴\n",
    "#html = re.findall(r'<(\\w+)>(.*?)</\\1>',text) # 같은쌍안에 있는값만 가져온다\n",
    "print(html)"
   ]
  },
  {
   "cell_type": "code",
   "execution_count": 152,
   "id": "37466e44-4348-4b40-9cb2-30872689b92b",
   "metadata": {},
   "outputs": [
    {
     "name": "stdout",
     "output_type": "stream",
     "text": [
      "['2024-01-01', '2024-12-31']\n"
     ]
    }
   ],
   "source": [
    "# 문제 5: 날짜 형식(YYYY-MM-DD) 추출\n",
    "text = '시작일: 2024-01-01, 종료일: 2024-12-31'\n",
    "dates = re.findall(r'\\d+[4]-\\d[1,2]-\\d[1,2]',text)\n",
    "print(dates)\n"
   ]
  },
  {
   "cell_type": "markdown",
   "id": "34326f40-013a-4985-864b-5e324e14af69",
   "metadata": {},
   "source": [
    "## re.finditer() 예제\n",
    "- 정규식과 매치되는 모든 문자열을 반복 가능한 객체로 리턴\n",
    "- group: 매치된 문자열을 전체를 리턴한다.\n",
    "- group(n) : 캡춰 그룹을 serical로 호출 (serial: 1부터 시작)\n",
    "- start: 매치된 문자열의 시작 위치를 리턴한다.\n",
    "- end: 매치된 문자열의 끝 위치를 리턴한다.\n",
    "- span: 매치된 문자열의 (시작,끝)에 해당하는 튜플을 리턴"
   ]
  },
  {
   "cell_type": "code",
   "execution_count": 179,
   "id": "524b5bce-b6bd-4fcb-b710-5ab190bb3c86",
   "metadata": {},
   "outputs": [
    {
     "name": "stdout",
     "output_type": "stream",
     "text": [
      "단어:Python, 위치: (0, 6)\n",
      "단어:is, 위치: (7, 9)\n",
      "단어:a, 위치: (10, 11)\n",
      "단어:programming, 위치: (12, 23)\n",
      "단어:language, 위치: (24, 32)\n"
     ]
    }
   ],
   "source": [
    "# 문제 1: 모든 단어와 그 위치 찾기\n",
    "text = \"Python is a programming language\"\n",
    "for match in re.finditer(r'\\w+',text):\n",
    "    print(f\"단어:{match.group()}, 위치: {match.span()}\")\n",
    "    "
   ]
  },
  {
   "cell_type": "code",
   "execution_count": 191,
   "id": "0d2aa592-24ef-4c16-9955-69c71fce55ff",
   "metadata": {},
   "outputs": [
    {
     "name": "stdout",
     "output_type": "stream",
     "text": [
      "숫자:100, 위치: (4, 7)\n",
      "숫자:200, 위치: (13, 16)\n",
      "숫자:300, 위치: (22, 25)\n"
     ]
    }
   ],
   "source": [
    "# 문제 2: 모든 숫자와 위치 찾기\n",
    "text = '값1: 100, 값2: 200, 값3: 300'\n",
    "for match in re.finditer(r'\\b\\d+\\b',text):\n",
    "    print(f\"숫자:{match.group()}, 위치: {match.span()}\")\n"
   ]
  },
  {
   "cell_type": "code",
   "execution_count": 201,
   "id": "993f4d69-4694-4686-b61b-078e75f9d1c7",
   "metadata": {},
   "outputs": [
    {
     "name": "stdout",
     "output_type": "stream",
     "text": [
      "전체:user@example.com\n",
      "아이디:user\n",
      "도메인:example.com\n",
      "전체:admin@example.com\n",
      "아이디:admin\n",
      "도메인:example.com\n"
     ]
    }
   ],
   "source": [
    "# 문제 3: 이메일 주소와 도메인 호출\n",
    "text = \"이메일 : user@example.com, admin@example.com\"\n",
    "#for match in re.finditer(r'[\\w\\.-]+@[\\w\\.\\-]+\\.\\w+',text):\n",
    "for match in re.finditer(r'([\\w\\.-]+)@([\\w\\.\\-]+\\.\\w+)',text):\n",
    "    print(f\"전체:{match.group()}\")\n",
    "    print(f\"아이디:{match.group(1)}\")\n",
    "    print(f\"도메인:{match.group(2)}\")"
   ]
  },
  {
   "cell_type": "code",
   "execution_count": 207,
   "id": "dc02d626-b5fe-470d-89f3-fce09498ffc1",
   "metadata": {},
   "outputs": [
    {
     "name": "stdout",
     "output_type": "stream",
     "text": [
      "전체:<div>내용1</div>\n",
      "테그:div\n",
      "테그 텍스트:내용1\n",
      "전체:<p>내용2</p>\n",
      "테그:p\n",
      "테그 텍스트:내용2\n"
     ]
    }
   ],
   "source": [
    "# 문제 4: HTML 테그와 내용 분석\n",
    "text = '<div>내용1</div><p>내용2</p>'\n",
    "for match in re.finditer(r'<(\\w+)>(.*?)</\\1>',text):\n",
    "    print(f\"전체:{match.group()}\")\n",
    "    print(f\"테그:{match.group(1)}\")\n",
    "    print(f\"테그 텍스트:{match.group(2)}\")"
   ]
  },
  {
   "cell_type": "code",
   "execution_count": 223,
   "id": "f56b70f9-3521-4289-8730-828a64c72e4b",
   "metadata": {},
   "outputs": [
    {
     "name": "stdout",
     "output_type": "stream",
     "text": [
      "시간:10:00:00\n",
      "이벤트:로그인\n",
      "시간:10:30:00\n",
      "이벤트:로그아웃\n"
     ]
    }
   ],
   "source": [
    "# 문제 5: 시간 로그 분석\n",
    "text = \"10:00:00 로그인, 10:30:00 로그아웃\"\n",
    "for match in re.finditer(r'(\\d{2}:\\d{2}:\\d{2})\\s([a-zA-Z0-9가-힣]+)',text):\n",
    "    #print(f\"전체:{match.group()}\")\n",
    "    print(f\"시간:{match.group(1)}\")\n",
    "    print(f\"이벤트:{match.group(2)}\")"
   ]
  },
  {
   "cell_type": "markdown",
   "id": "170d6443-3259-4858-bf19-ad7b6742aeff",
   "metadata": {},
   "source": [
    "## re.sub() 예제\n",
    "- 문자열에서 정규식 패턴과 일치하는 부분을 다른 문자열로 대체\n",
    "  "
   ]
  },
  {
   "cell_type": "code",
   "execution_count": 246,
   "id": "9509d5f1-9600-475d-8842-4771b4df2b3d",
   "metadata": {},
   "outputs": [
    {
     "name": "stdout",
     "output_type": "stream",
     "text": [
      "연락처 : 010-1234-****\n"
     ]
    }
   ],
   "source": [
    "# 문제 1: 전화번호 마스킹(뒤 4자리를 ****로 변경)\n",
    "text = \"연락처 : 010-1234-5678\"\n",
    "pattern = r'(\\d{3}-\\d{3,4}-)\\d{4}'\n",
    "replacement = r\"\\1****\"\n",
    "#replacement = r\"\\g<1>****\"\n",
    "masked = re.sub(pattern, replacement, text)\n",
    "print(masked)"
   ]
  },
  {
   "cell_type": "code",
   "execution_count": 260,
   "id": "bf413ddd-525c-4119-a24b-7e04a2afb53c",
   "metadata": {},
   "outputs": [
    {
     "name": "stdout",
     "output_type": "stream",
     "text": [
      "이메일: u*******@example.com\n"
     ]
    }
   ],
   "source": [
    "# 문제 2: 이메일 주소 마스킹 (사용자명 일부를 *로 변경)\n",
    "text = \"이메일: user1234@example.com\"\n",
    "masked = re.sub(r'([\\w\\.\\-]{1})([\\w\\.\\-]+)(@[\\w\\.\\-]+\\.\\w+)',r'\\1*******\\3',text)\n",
    "print(masked)"
   ]
  },
  {
   "cell_type": "code",
   "execution_count": 262,
   "id": "0ec6c8e2-711c-4260-9a48-d57d8b1fe896",
   "metadata": {},
   "outputs": [
    {
     "name": "stdout",
     "output_type": "stream",
     "text": [
      "내용입니다문단입니다\n"
     ]
    }
   ],
   "source": [
    "# 문제 3: HTML 테그 제거\n",
    "text = \"<div>내용입니다</div><p>문단입니다</p>\"\n",
    "cleaned = re.sub(r'<[^>]+>','',text)\n",
    "print(cleaned)"
   ]
  },
  {
   "cell_type": "code",
   "execution_count": 266,
   "id": "b01ed51b-67f0-4ec8-9cb3-bbb9707662b7",
   "metadata": {},
   "outputs": [
    {
     "name": "stdout",
     "output_type": "stream",
     "text": [
      "사이트: <a href=\"https://example.com\"> 입니다\n"
     ]
    }
   ],
   "source": [
    "# 문제 4: URL을 클릭 가능한 링크로 변경\n",
    "text = \"사이트: https://example.com 입니다\"\n",
    "linked = re.sub(r'(https?://[\\w]+.\\w+)',r'<a href=\"\\1\">',text)\n",
    "print(linked)"
   ]
  },
  {
   "cell_type": "code",
   "execution_count": 272,
   "id": "5f213b4d-04ec-44e6-816e-a267af2de9f1",
   "metadata": {},
   "outputs": [
    {
     "name": "stdout",
     "output_type": "stream",
     "text": [
      "날짜: 01/03/2024\n"
     ]
    }
   ],
   "source": [
    "# 문제 5: 날짜 형식 변경 (YYYY-MM-DD -> MM/DD/YYYY)\n",
    "text = '날짜: 2024-01-03'\n",
    "linked = re.sub(r'(\\d{4})-(\\d{2})-(\\d{2})',r'\\2/\\3/\\1',text)\n",
    "print(linked)"
   ]
  },
  {
   "cell_type": "code",
   "execution_count": 282,
   "id": "8d6fe27c-a4df-4375-9c13-9617e38cc733",
   "metadata": {},
   "outputs": [
    {
     "name": "stdout",
     "output_type": "stream",
     "text": [
      "971007-1*******\n"
     ]
    }
   ],
   "source": [
    "# 문제 6: 주민등록번호 마스킹 (뒷자리 전체를 *로 변경)\n",
    "text = '971007-1656756'\n",
    "linked = re.sub(r'(\\d{6})-([1-4])\\d{6}',r'\\1-1*******',text)\n",
    "print(linked)"
   ]
  },
  {
   "cell_type": "code",
   "execution_count": null,
   "id": "ba83581c-cc09-40d5-9c1d-753b3a730e50",
   "metadata": {},
   "outputs": [],
   "source": []
  }
 ],
 "metadata": {
  "kernelspec": {
   "display_name": "Python 3 (ipykernel)",
   "language": "python",
   "name": "python3"
  },
  "language_info": {
   "codemirror_mode": {
    "name": "ipython",
    "version": 3
   },
   "file_extension": ".py",
   "mimetype": "text/x-python",
   "name": "python",
   "nbconvert_exporter": "python",
   "pygments_lexer": "ipython3",
   "version": "3.12.7"
  }
 },
 "nbformat": 4,
 "nbformat_minor": 5
}
