{
 "cells": [
  {
   "cell_type": "markdown",
   "id": "b016ae36-4ef3-4040-9c26-e9daf7c3fee6",
   "metadata": {},
   "source": [
    "## newaxis는 주로:\n",
    "- 1차원 배열을 특정 방향(행/열)으로 확장해야 할 때\n",
    "- 두 배열 간의 모든 조합을 계산해야 할 때\n",
    "- 행렬 연산에서 차원을 명시적으로 제어해야 할 때 사용됩니다.\n"
   ]
  },
  {
   "cell_type": "code",
   "execution_count": 21,
   "id": "87711a82-89af-4164-964c-6f03158e9770",
   "metadata": {},
   "outputs": [
    {
     "name": "stdout",
     "output_type": "stream",
     "text": [
      "원본: (3,)\n"
     ]
    }
   ],
   "source": [
    "import numpy as np\n",
    "# 1차원 배열\n",
    "a = np.array([1, 2, 3])\n",
    "print(\"원본:\",a.shape)"
   ]
  },
  {
   "cell_type": "code",
   "execution_count": 25,
   "id": "958a34be-f784-48b8-a3aa-edb5831433ef",
   "metadata": {},
   "outputs": [
    {
     "name": "stdout",
     "output_type": "stream",
     "text": [
      "[[1 2 3]]\n",
      "행 백터: (1, 3)\n"
     ]
    }
   ],
   "source": [
    "b = a[np.newaxis,:]\n",
    "print(b)\n",
    "print(\"행 백터:\",b.shape)"
   ]
  },
  {
   "cell_type": "code",
   "execution_count": 29,
   "id": "7405a81d-4177-4bd3-9d16-a1596e663358",
   "metadata": {},
   "outputs": [
    {
     "name": "stdout",
     "output_type": "stream",
     "text": [
      "[[1]\n",
      " [2]\n",
      " [3]]\n",
      "열 백터: (3, 1)\n"
     ]
    }
   ],
   "source": [
    "c = a[:,np.newaxis]\n",
    "print(c)\n",
    "print(\"열 백터:\",c.shape)"
   ]
  },
  {
   "cell_type": "code",
   "execution_count": 31,
   "id": "c72dcf55-a292-40f7-8c26-521f55e2d271",
   "metadata": {},
   "outputs": [
    {
     "name": "stdout",
     "output_type": "stream",
     "text": [
      "[1 4 9]\n"
     ]
    }
   ],
   "source": [
    "print(a*a)"
   ]
  },
  {
   "cell_type": "code",
   "execution_count": 37,
   "id": "fdd010fa-dda5-4b4c-977a-b4ed7dfec8a0",
   "metadata": {},
   "outputs": [
    {
     "name": "stdout",
     "output_type": "stream",
     "text": [
      "[[1 4 9]]\n"
     ]
    }
   ],
   "source": [
    "print(a*b)"
   ]
  },
  {
   "cell_type": "code",
   "execution_count": 39,
   "id": "31c7b3a2-a68a-4f55-898c-a82a6f22eb36",
   "metadata": {},
   "outputs": [
    {
     "name": "stdout",
     "output_type": "stream",
     "text": [
      "[[1 2 3]\n",
      " [2 4 6]\n",
      " [3 6 9]]\n"
     ]
    }
   ],
   "source": [
    "print(a*c)"
   ]
  },
  {
   "cell_type": "code",
   "execution_count": 59,
   "id": "906182bf-64f0-4dd8-84a6-1c71f15311d0",
   "metadata": {},
   "outputs": [
    {
     "name": "stdout",
     "output_type": "stream",
     "text": [
      "(3,)\n",
      "(3,)\n",
      "[0.5 2.  4.5]\n"
     ]
    }
   ],
   "source": [
    "import numpy as np\n",
    "# 이미지 픽셀, 가중치\n",
    "pixels = np.array([1,2,3])\n",
    "weights = np.array([0.5,1.0,1.5])\n",
    "print(pixels.shape)\n",
    "print(weights.shape)\n",
    "result = pixels * weights\n",
    "print(result)"
   ]
  },
  {
   "cell_type": "code",
   "execution_count": 63,
   "id": "1645be37-421a-478b-a448-0de519ce7d4a",
   "metadata": {},
   "outputs": [
    {
     "name": "stdout",
     "output_type": "stream",
     "text": [
      "(3, 1)\n"
     ]
    }
   ],
   "source": [
    "pixels_col = pixels[:,np.newaxis]\n",
    "print(pixels_col.shape)"
   ]
  },
  {
   "cell_type": "code",
   "execution_count": 65,
   "id": "54a02731-aaad-4295-afcd-3219caaa475e",
   "metadata": {},
   "outputs": [
    {
     "name": "stdout",
     "output_type": "stream",
     "text": [
      "[[0.5 1.  1.5]\n",
      " [1.  2.  3. ]\n",
      " [1.5 3.  4.5]]\n"
     ]
    }
   ],
   "source": [
    "result = pixels_col * weights\n",
    "print(result)"
   ]
  },
  {
   "cell_type": "code",
   "execution_count": 75,
   "id": "1cec28ce-759c-41e6-8a6f-1aa18b1134e9",
   "metadata": {},
   "outputs": [
    {
     "name": "stdout",
     "output_type": "stream",
     "text": [
      "(3,)\n",
      "(3, 1)\n",
      "(3, 3)\n"
     ]
    },
    {
     "data": {
      "text/plain": [
       "array([[5, 6, 7],\n",
       "       [6, 7, 8],\n",
       "       [7, 8, 9]])"
      ]
     },
     "execution_count": 75,
     "metadata": {},
     "output_type": "execute_result"
    }
   ],
   "source": [
    "import numpy as np\n",
    "\n",
    "# 기본 배열\n",
    "a = np.array([1, 2, 3])          # shape(3,)\n",
    "print(a.shape)\n",
    "b = np.array([[4],[5],[6]])      # shape(3,1)\n",
    "print(b.shape)\n",
    "c = a + b\n",
    "print(c.shape)\n",
    "c"
   ]
  },
  {
   "cell_type": "code",
   "execution_count": 100,
   "id": "cedfecea-7f30-4c52-b530-8623ed1eda47",
   "metadata": {},
   "outputs": [
    {
     "data": {
      "image/png": "[encoded data removed]",
      "text/plain": [
       "<Figure size 640x480 with 1 Axes>"
      ]
     },
     "metadata": {},
     "output_type": "display_data"
    },
    {
     "name": "stdout",
     "output_type": "stream",
     "text": [
      "Gray Image:\n",
      " [[ 85.  85.  85.]\n",
      " [170. 170. 170.]\n",
      " [255. 128.   0.]]\n"
     ]
    },
    {
     "data": {
      "image/png": "[encoded data removed]",
      "text/plain": [
       "<Figure size 640x480 with 1 Axes>"
      ]
     },
     "metadata": {},
     "output_type": "display_data"
    }
   ],
   "source": [
    "# np.mean\n",
    "\n",
    "import numpy as np\n",
    "import matplotlib.pyplot as plt\n",
    "\n",
    "# 예제 컬러 이미지(3X3)\n",
    "color_image = np.array([[[255,0,0],[0,255,0],[0,0,255]],\n",
    "                        [[255,255,0],[255,0,255],[0,255,255]],\n",
    "                        [[255,255,255],[128,128,128],[0,0,0]]])\n",
    "#  시각화\n",
    "plt.imshow(color_image, cmap=\"BrBG\")\n",
    "plt.show()\n",
    "\n",
    "# 흑백 변환\n",
    "gray_image = np.mean(color_image, axis=2)\n",
    "print(\"Gray Image:\\n\",gray_image)\n",
    "\n",
    "#  시각화\n",
    "plt.imshow(gray_image,cmap=\"gray\")\n",
    "plt.show()"
   ]
  },
  {
   "cell_type": "code",
   "execution_count": 104,
   "id": "c89522c0-5397-4774-bfb8-115d809a8282",
   "metadata": {},
   "outputs": [
    {
     "name": "stdout",
     "output_type": "stream",
     "text": [
      "[10 12 14 16 18]\n",
      "[10 13 16 19]\n",
      "[10 12 14 16]\n",
      "[15 17 19]\n",
      "[19 18 17 16 15 14 13 12 11 10]\n",
      "[10 11 12 13 14 15 16 17 18 19]\n"
     ]
    }
   ],
   "source": [
    "import numpy as np\n",
    "arr =np.array([10,11,12,13,14,15,16,17,18,19])\n",
    "\n",
    "print(arr[::2])   # 처음부터 끝까지 2씩 증가\n",
    "print(arr[::3])   # 처음부터 끝까지 3씩 증가\n",
    "print(arr[0:7:2]) # 0부터 6까지 2씩 증가\n",
    "print(arr[5::2])  # 5부터 끝까지 2씩 증가\n",
    "print(arr[::-1])  # 역순으로 1씩 증가 \n",
    "print(arr[:])"
   ]
  },
  {
   "cell_type": "markdown",
   "id": "64956750-3994-4481-bb28-80d8851d60c6",
   "metadata": {},
   "source": [
    "## 넘파이 검색\n",
    "- 배열에서 특정 값을 검색하여 일치하는 데이터의 인덱스를 반환\n",
    "- 배열에서 원하는 값을 찾으려면 where() 메서드를 사용한다"
   ]
  },
  {
   "cell_type": "code",
   "execution_count": 130,
   "id": "4ad16619-b3d5-4740-bec8-cfcf2b8d32b1",
   "metadata": {},
   "outputs": [
    {
     "name": "stdout",
     "output_type": "stream",
     "text": [
      "[1 2 3]\n",
      "(array([0, 1, 2], dtype=int64),)\n",
      "[1 2 3]\n"
     ]
    }
   ],
   "source": [
    "import numpy as np\n",
    "arr =np.array([1, 2, 3, 4, 5, 4, 4])\n",
    "print(arr[arr < 4])\n",
    "x = np.where(arr <4) # --> 인덱스 정보\n",
    "print(x)\n",
    "print(arr[x])"
   ]
  },
  {
   "cell_type": "code",
   "execution_count": 128,
   "id": "7223d488-1229-4464-8e28-b4d6d8a78fa1",
   "metadata": {},
   "outputs": [
    {
     "name": "stdout",
     "output_type": "stream",
     "text": [
      "(array([0, 2, 4, 6], dtype=int64),)\n",
      "[1 3 5 7]\n"
     ]
    }
   ],
   "source": [
    "import numpy as np\n",
    "arr = np.array([1,2,3,4,5,6,7,8])\n",
    "#x = np.where(arr % 2 ==0)\n",
    "x = np.where(arr % 2 ==1)\n",
    "print(x)\n",
    "print(arr[x])"
   ]
  },
  {
   "cell_type": "code",
   "execution_count": 144,
   "id": "c28047af-e24f-4b51-ae84-106ad38fbde6",
   "metadata": {},
   "outputs": [
    {
     "name": "stdout",
     "output_type": "stream",
     "text": [
      "['합격' '합격' '합격' '불합격' '합격' '합격']\n"
     ]
    }
   ],
   "source": [
    "import numpy as np\n",
    "\n",
    "# 성적 배열\n",
    "scores = np.array([85,67,90,45,78,92])\n",
    "pass_mark = 60\n",
    "\n",
    "# x = np.where(scores > pass_mark)\n",
    "#print(x)\n",
    "# print(scores[x])\n",
    "\n",
    "x = np.where(scores >= pass_mark,'합격','불합격')\n",
    "print(x)"
   ]
  },
  {
   "cell_type": "code",
   "execution_count": 148,
   "id": "71f158be-1dc6-4681-90b3-9f885463803c",
   "metadata": {},
   "outputs": [
    {
     "data": {
      "text/plain": [
       "[(85, '합격'), (67, '합격'), (90, '합격'), (45, '불합격'), (78, '합격'), (92, '합격')]"
      ]
     },
     "execution_count": 148,
     "metadata": {},
     "output_type": "execute_result"
    }
   ],
   "source": [
    "list(zip(scores,x))"
   ]
  },
  {
   "cell_type": "code",
   "execution_count": 164,
   "id": "4c38b119-b5fa-4570-be3a-e6b7e0d275a7",
   "metadata": {},
   "outputs": [
    {
     "name": "stdout",
     "output_type": "stream",
     "text": [
      "['가디건' '반팔티셔츠' '반팔티셔츠' '가디건' '코트']\n"
     ]
    },
    {
     "data": {
      "text/plain": [
       "[(15, '가디건'), (25, '반팔티셔츠'), (30, '반팔티셔츠'), (10, '가디건'), (5, '코트')]"
      ]
     },
     "execution_count": 164,
     "metadata": {},
     "output_type": "execute_result"
    }
   ],
   "source": [
    "## 옷 추천\n",
    "import numpy as np\n",
    "# 기온 배열 (섭씨)\n",
    "temperatures = np.array([15,25,30,10,5])\n",
    "\n",
    "# 10도 미만: 코트, 20도 미만: 가디건, 그외: 반팔 티셔츠\n",
    "x = np.where(temperatures <10,\"코트\",np.where(temperatures <20,\"가디건\",'반팔티셔츠'))\n",
    "print(x)\n",
    "list(zip(temperatures,x))"
   ]
  },
  {
   "cell_type": "code",
   "execution_count": 170,
   "id": "7b6fa6ae-0431-4af1-bd0f-77ba8f7b8465",
   "metadata": {},
   "outputs": [
    {
     "name": "stdout",
     "output_type": "stream",
     "text": [
      "['실버' '실버' '브론즈' '골드' '골드']\n"
     ]
    },
    {
     "data": {
      "text/plain": [
       "[(150, '실버'), (300, '실버'), (50, '브론즈'), (700, '골드'), (1200, '골드')]"
      ]
     },
     "execution_count": 170,
     "metadata": {},
     "output_type": "execute_result"
    }
   ],
   "source": [
    "## 고객 등급 분류\n",
    "import numpy as np\n",
    "\n",
    "# 고객의 구매 금액 배열\n",
    "purchases = np.array([150,300,50,700,1200])\n",
    "# 100 미만: 브론즈 500 미만: 실버, 그 이상:골드\n",
    "a = np.where(purchases < 100,\"브론즈\",np.where(purchases < 500,\"실버\",\"골드\"))\n",
    "print(a)\n",
    "list(zip(purchases,a))"
   ]
  },
  {
   "cell_type": "code",
   "execution_count": 178,
   "id": "532d409e-1f53-440e-a46b-a33e9b48fa68",
   "metadata": {},
   "outputs": [
    {
     "name": "stdout",
     "output_type": "stream",
     "text": [
      "(array([1, 2, 2, 2], dtype=int64), array([2, 0, 1, 2], dtype=int64))\n",
      "[(1, 2), (2, 0), (2, 1), (2, 2)]\n"
     ]
    }
   ],
   "source": [
    "import numpy as np\n",
    "arr = np.array([[1, 2, 3],\n",
    "                [4, 5, 6],\n",
    "                [7, 8, 9]])\n",
    "a = np.where(arr > 5)\n",
    "print(a)\n",
    "print(list(zip(a[0],a[1])))"
   ]
  },
  {
   "cell_type": "code",
   "execution_count": 182,
   "id": "b4c0e16e-436b-4a6e-8518-0a1f8c6d469a",
   "metadata": {},
   "outputs": [
    {
     "data": {
      "text/plain": [
       "array([6, 7, 8, 9])"
      ]
     },
     "execution_count": 182,
     "metadata": {},
     "output_type": "execute_result"
    }
   ],
   "source": [
    "arr[a]"
   ]
  },
  {
   "cell_type": "code",
   "execution_count": 184,
   "id": "6fc88520-b72f-4255-b05c-ce9c355b8734",
   "metadata": {},
   "outputs": [
    {
     "name": "stdout",
     "output_type": "stream",
     "text": [
      "(2, 3, 4)\n"
     ]
    }
   ],
   "source": [
    "import numpy as np\n",
    "arr = np.array([\n",
    "    [[1, 2, 3, 4],\n",
    "    [5, 6, 7, 8],\n",
    "    [9, 10, 11, 12]],\n",
    "\n",
    "    [[13, 14, 15, 16],\n",
    "    [17, 18, 19, 20],\n",
    "    [21, 22, 23, 24]]\n",
    "])\n",
    "print(arr.shape)"
   ]
  },
  {
   "cell_type": "code",
   "execution_count": 188,
   "id": "f3eb0ede-4eb0-4235-bd9c-6307a1ae1a3c",
   "metadata": {},
   "outputs": [
    {
     "name": "stdout",
     "output_type": "stream",
     "text": [
      "\n",
      "np.where 결과:\n",
      "(array([0, 0, 0, 0, 0, 0, 0, 0, 0], dtype=int64), array([0, 0, 0, 0, 1, 1, 1, 1, 2], dtype=int64), array([0, 1, 2, 3, 0, 1, 2, 3, 0], dtype=int64))\n"
     ]
    }
   ],
   "source": [
    "result = np.where(arr<10)\n",
    "print(\"\\nnp.where 결과:\")\n",
    "print(result)"
   ]
  },
  {
   "cell_type": "code",
   "execution_count": 190,
   "id": "fe857fe5-7653-463c-b855-b0bb32d5beda",
   "metadata": {},
   "outputs": [
    {
     "name": "stdout",
     "output_type": "stream",
     "text": [
      "[(0, 0, 0), (0, 0, 1), (0, 0, 2), (0, 0, 3), (0, 1, 0), (0, 1, 1), (0, 1, 2), (0, 1, 3), (0, 2, 0)]\n"
     ]
    }
   ],
   "source": [
    "print(list(zip(result[0],result[1],result[2])))"
   ]
  },
  {
   "cell_type": "code",
   "execution_count": 196,
   "id": "5fe0fb6c-1392-4c74-a8ad-0840074d5f0a",
   "metadata": {},
   "outputs": [
    {
     "name": "stdout",
     "output_type": "stream",
     "text": [
      "[(0, 0, 0), (0, 0, 1), (0, 0, 2), (0, 0, 3), (0, 1, 0), (0, 1, 1), (0, 1, 2), (0, 1, 3), (0, 2, 0)]\n"
     ]
    }
   ],
   "source": [
    "print(list(zip(*result)))"
   ]
  },
  {
   "cell_type": "code",
   "execution_count": 198,
   "id": "a61bd0e6-989f-4eab-b358-61f954b855d6",
   "metadata": {},
   "outputs": [
    {
     "name": "stdout",
     "output_type": "stream",
     "text": [
      "위치(0,0,0)의 값:1\n",
      "위치(0,0,1)의 값:2\n",
      "위치(0,0,2)의 값:3\n",
      "위치(0,0,3)의 값:4\n",
      "위치(0,1,0)의 값:5\n",
      "위치(0,1,1)의 값:6\n",
      "위치(0,1,2)의 값:7\n",
      "위치(0,1,3)의 값:8\n",
      "위치(0,2,0)의 값:9\n"
     ]
    }
   ],
   "source": [
    "for d,r,c in zip(*result):\n",
    "    print(f\"위치({d},{r},{c})의 값:{arr[d,r,c]}\")"
   ]
  },
  {
   "cell_type": "code",
   "execution_count": 202,
   "id": "28c08b65-79e1-49f7-b26a-ffc52b75a373",
   "metadata": {},
   "outputs": [
    {
     "name": "stdout",
     "output_type": "stream",
     "text": [
      "[[[ True  True  True  True]\n",
      "  [ True  True  True  True]\n",
      "  [ True  True  True  True]]\n",
      "\n",
      " [[ True  True False False]\n",
      "  [False False False False]\n",
      "  [False False False False]]]\n"
     ]
    }
   ],
   "source": [
    "y = np.where(arr < 15, True,False)\n",
    "print(y)"
   ]
  },
  {
   "cell_type": "markdown",
   "id": "623f2602-dd7a-48ca-9332-02be8e406e4e",
   "metadata": {},
   "source": [
    "### argmax(), argmin() 메서드\n",
    "- 배열에서 가장 큰 값 또는 가장 작은 값의 위치(인덱스)를 찾아준다.\n",
    "    - argmax() : 가장 큰 값의 위치(인덱스) 찾기\n",
    "    - argmin() : 가장 작은 값의 위치 (인덱스) 찾기\n",
    "- 기본적으로 배열을 평탄화(flatten)하여 인덱스를 반환"
   ]
  },
  {
   "cell_type": "code",
   "execution_count": 232,
   "id": "f989959a-784e-45a2-80a2-040194969f18",
   "metadata": {},
   "outputs": [
    {
     "name": "stdout",
     "output_type": "stream",
     "text": [
      "25\n",
      "11\n",
      "9\n",
      "[1 1 1 1 1]\n",
      "[4 4]\n",
      "------------------------\n",
      "0\n",
      "[0 0 0 0 0]\n",
      "[0 0]\n"
     ]
    }
   ],
   "source": [
    "import numpy as np\n",
    "arr = np.array([[11, 12, 13, 14, 15],\n",
    "                [21, 22, 23, 24, 25]])\n",
    "print(arr.max())\n",
    "print(arr.min())\n",
    "\n",
    "print(np.argmax(arr))\n",
    "print(np.argmax(arr,axis = 0))   #행\n",
    "print(np.argmax(arr,axis = 1))   #열\n",
    "print('------------------------')\n",
    "print(np.argmin(arr))\n",
    "print(np.argmin(arr,axis = 0))   #행\n",
    "print(np.argmin(arr,axis = 1))   #열"
   ]
  },
  {
   "cell_type": "code",
   "execution_count": 236,
   "id": "25c2421b-51d2-4225-ad7e-5d3c6cbdd8c4",
   "metadata": {},
   "outputs": [
    {
     "name": "stdout",
     "output_type": "stream",
     "text": [
      "3 2\n",
      "3 2\n"
     ]
    }
   ],
   "source": [
    "# 성적(최고,최저)\n",
    "import numpy as np\n",
    "scores = np.array([88,92,79,95,85])\n",
    "x = np.argmax(scores)\n",
    "y = np.argmin(scores)\n",
    "print(x,y)\n",
    "\n",
    "x1 = np.argmax(scores)\n",
    "y1 = np.argmin(scores)\n",
    "print(x1,y1)\n"
   ]
  },
  {
   "cell_type": "code",
   "execution_count": 272,
   "id": "897e2465-8418-4007-be4b-06782f1d69cb",
   "metadata": {},
   "outputs": [
    {
     "name": "stdout",
     "output_type": "stream",
     "text": [
      "[0 0 1] [2 2 0]\n",
      "[88 92 95] [78 88 79]\n"
     ]
    }
   ],
   "source": [
    "import numpy as np\n",
    "scores = np.array([[88,92,79],\n",
    "                   [85,90,95],\n",
    "                   [78,88,80]])\n",
    "# 각 과목별 최고 성적 인덱스\n",
    "# 각 과목별 최저 점수 인덱스\n",
    "x = np.argmax(scores,axis=0)\n",
    "y = np.argmin(scores,axis=0)\n",
    "print(x,y)\n",
    "# 최고 성적 값 추출\n",
    "a = scores[x,np.arange(scores.shape[1])]\n",
    "# 최저 성적 값 추출\n",
    "b = scores[y,np.arange(scores.shape[1])]\n",
    "print(a,b)\n",
    "# print(list(zip(a,x)))\n",
    "# print(list(zip(b,y)))"
   ]
  },
  {
   "cell_type": "code",
   "execution_count": 299,
   "id": "1040f25e-a60a-43fc-b2a5-39b7259b2e41",
   "metadata": {},
   "outputs": [
    {
     "name": "stdout",
     "output_type": "stream",
     "text": [
      "[1 1 6] [3 6 1]\n",
      "[25 32 20] [19 26 14]\n",
      "[25 32 20] [19 26 14]\n"
     ]
    }
   ],
   "source": [
    "# 도시별 온도 기록 (행:도시 열:요일)\n",
    "temperatures = np.array([[22, 25, 20, 19, 23, 24, 21],\n",
    "                         [30, 32, 31, 29, 28, 27, 26],\n",
    "                         [15, 14, 16, 17, 18, 19, 20]])\n",
    "a = np.argmax(temperatures,axis=1)\n",
    "b = np.argmin(temperatures,axis=1)\n",
    "print(a,b)\n",
    "c = temperatures[np.arange(temperatures.shape[0]),a]\n",
    "c2 = temperatures[[0,1,2],[1,1,6]]\n",
    "d = temperatures[np.arange(temperatures.shape[0]),b]\n",
    "d2 = temperatures[[0,1,2],[3,6,1]]\n",
    "print(c,d)\n",
    "print(c2,d2)"
   ]
  },
  {
   "cell_type": "code",
   "execution_count": null,
   "id": "f2748ae7-fa04-4452-9ed1-1247818338fe",
   "metadata": {},
   "outputs": [],
   "source": []
  }
 ],
 "metadata": {
  "kernelspec": {
   "display_name": "Python 3 (ipykernel)",
   "language": "python",
   "name": "python3"
  },
  "language_info": {
   "codemirror_mode": {
    "name": "ipython",
    "version": 3
   },
   "file_extension": ".py",
   "mimetype": "text/x-python",
   "name": "python",
   "nbconvert_exporter": "python",
   "pygments_lexer": "ipython3",
   "version": "3.12.7"
  }
 },
 "nbformat": 4,
 "nbformat_minor": 5
}
