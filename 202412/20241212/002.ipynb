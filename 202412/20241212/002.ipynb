{
 "cells": [
  {
   "cell_type": "markdown",
   "id": "4ed8eeaf-47eb-47f3-9744-b5c247c9ddac",
   "metadata": {},
   "source": [
    "## 넘파이 정렬\n",
    "- 정렬은 배열 요소를 순서대로 배열하는 것을 말한다.\n",
    "- 정렬된 순서는 숫자 또는 문자와 같은 요소를 오른차순 또는 내림차순 순서로 배열하는 것을 말한다.\n",
    "- 넘파이 배열 객체에는 배열을 정렬하는 sort()라는 메서드가 있다.\n"
   ]
  },
  {
   "cell_type": "markdown",
   "id": "c5214145-4962-4f4c-9272-c378b5950f28",
   "metadata": {},
   "source": [
    "### np.sort(), np.argsort() 매서드\n",
    "- sort() 메서드 및 np.argsort() 메서드는 배열 데이터를 정렬하는데 매우 유용\n",
    "    - np.sort(arr): 원본 데이터는 그대로 두고 임시로 정렬된 배열을 보여준다.\n",
    "    - 배열명.sort(): 배열에 저장된 데이터를 정렬한 다음 정렬된 데이터를 저장\n",
    "    - np.argsort(): 데이터가 정렬되었을 때의 각 데이터 위치(인덱스)를 반환"
   ]
  },
  {
   "cell_type": "code",
   "execution_count": 20,
   "id": "5fd9e7d6-b2c7-4535-b900-0c3b9e3fb486",
   "metadata": {},
   "outputs": [
    {
     "name": "stdout",
     "output_type": "stream",
     "text": [
      "arr: [2 1 5 3 7 4 6 8]\n",
      "np.sort: [1 2 3 4 5 6 7 8]\n",
      "arr: [2 1 5 3 7 4 6 8]\n",
      "arr2: [1 2 3 4 5 6 7 8]\n"
     ]
    }
   ],
   "source": [
    "import numpy as np\n",
    "arr = np.array([2,1,5,3,7,4,6,8])\n",
    "\n",
    "print('arr:',arr)\n",
    "print('np.sort:',np.sort(arr))  # 실제로 원본 데이터가 바뀌는건 아니다\n",
    "arr2 =np.sort(arr)\n",
    "print('arr:',arr)\n",
    "print('arr2:',arr2)"
   ]
  },
  {
   "cell_type": "code",
   "execution_count": 16,
   "id": "2e3b293a-9670-43b9-9413-506fcf5a702d",
   "metadata": {},
   "outputs": [
    {
     "name": "stdout",
     "output_type": "stream",
     "text": [
      "arr: [2 1 5 3 7 4 6 8]\n",
      "arr.sort: None\n",
      "arr: [1 2 3 4 5 6 7 8]\n"
     ]
    }
   ],
   "source": [
    "print('arr:',arr)\n",
    "print('arr.sort:',arr.sort())  # 원본데이터가 바뀐다\n",
    "print('arr:',arr)\n"
   ]
  },
  {
   "cell_type": "code",
   "execution_count": 22,
   "id": "4c02fdbc-e803-4d44-a61f-1e3457e41119",
   "metadata": {},
   "outputs": [
    {
     "name": "stdout",
     "output_type": "stream",
     "text": [
      "원본= [2 1 5 3 7 4 6 8]\n",
      "정렬= [1 2 3 4 5 6 7 8]\n",
      "위치= [1 0 3 5 2 6 4 7]\n",
      "원본= [2 1 5 3 7 4 6 8]\n"
     ]
    }
   ],
   "source": [
    "print('원본=',arr)\n",
    "print('정렬=',np.sort(arr))\n",
    "print('위치=',np.argsort(arr))\n",
    "print('원본=',arr)"
   ]
  },
  {
   "cell_type": "code",
   "execution_count": 30,
   "id": "1bcb8424-4d78-40ab-93e5-3dee2db4a4a5",
   "metadata": {},
   "outputs": [
    {
     "name": "stdout",
     "output_type": "stream",
     "text": [
      "[2 4 0 1 3]\n",
      "[75 85 88 92 95]\n",
      "['Charlie' 'Eva' 'Alice' 'Bob' 'David']\n",
      "학생 성적 정렬 결과:\n",
      "Charlie : 75점(원래 인덱스:2)\n",
      "Eva : 85점(원래 인덱스:4)\n",
      "Alice : 88점(원래 인덱스:0)\n",
      "Bob : 92점(원래 인덱스:1)\n",
      "David : 95점(원래 인덱스:3)\n"
     ]
    }
   ],
   "source": [
    "import numpy as np\n",
    "\n",
    "# 학생 이름과 성적\n",
    "students = np.array([\"Alice\",\"Bob\",'Charlie','David','Eva'])\n",
    "scores = np.array([88,92,75,95,85])\n",
    "\n",
    "# 성적 정렬 및 원래 인덱스 찾기\n",
    "sorted_indices = np.argsort(scores)\n",
    "print(sorted_indices)\n",
    "\n",
    "sorted_scores = np.sort(scores)\n",
    "print(sorted_scores)\n",
    "\n",
    "sorted_students = students[sorted_indices]  ## 원래 인덱스값을 통해 정렬된 점수와 매칭되도록 함\n",
    "print(sorted_students)\n",
    "\n",
    "# 결과 출력\n",
    "print(\"학생 성적 정렬 결과:\")\n",
    "for i in range(len(sorted_scores)):\n",
    "    print(f'{sorted_students[i]} : {sorted_scores[i]}점(원래 인덱스:{sorted_indices[i]})')"
   ]
  },
  {
   "cell_type": "markdown",
   "id": "e0837ecb-52e2-49bc-a53a-1c0e459ccfc3",
   "metadata": {},
   "source": [
    "### 2차원 배열 정렬"
   ]
  },
  {
   "cell_type": "code",
   "execution_count": 35,
   "id": "67a8266a-95c7-4ac2-8460-f031169dd2ec",
   "metadata": {},
   "outputs": [
    {
     "name": "stdout",
     "output_type": "stream",
     "text": [
      "[[2 3 4]\n",
      " [0 1 5]]\n",
      "[[2 3 4]\n",
      " [0 1 5]]\n",
      "[[3 0 1]\n",
      " [5 2 4]]\n"
     ]
    }
   ],
   "source": [
    "import numpy as np\n",
    "arr = np.array([[3, 2, 4], [5, 0, 1]])\n",
    "\n",
    "print(np.sort(arr))\n",
    "print(np.sort(arr,axis=1))\n",
    "v\n",
    "print(np.sort(arr,axis=0))"
   ]
  },
  {
   "cell_type": "code",
   "execution_count": 41,
   "id": "6f72eeb1-d8ed-4f17-b8bc-579fe9a78869",
   "metadata": {},
   "outputs": [
    {
     "name": "stdout",
     "output_type": "stream",
     "text": [
      "각 과목별 정렬된 성적:\n",
      "[[78 88 75]\n",
      " [85 90 80]\n",
      " [88 92 95]]\n"
     ]
    }
   ],
   "source": [
    "import numpy as np\n",
    "# 학생 성적: 행은 학생 ,열은 과목\n",
    "scores =np.array([[88,92,75],\n",
    "                  [85,90,95],\n",
    "                  [78,88,80]])\n",
    "\n",
    "\n",
    "# 각 과목별 성적 정렬\n",
    "sorted_scores = np.sort(scores,axis=0) # 세로측\n",
    "print(\"각 과목별 정렬된 성적:\")                                                                                                                                                                                                                                                                                                                                                                                                                                                                                                                                                                                                                                                                                                                                                                                                                                                                                                                                                                                                                                                l\n",
    "print(sorted_scores)"
   ]
  },
  {
   "cell_type": "markdown",
   "id": "b3522e02-0bb5-400b-bf8d-88abc6560c28",
   "metadata": {},
   "source": [
    "## 넘파이 병합\n",
    "- 배열 병합은 두 개 이상의 배열의 값을 하나의 배열로 합치는 것\n",
    "- 넘파이는 병합하려는 배열의 순서를 축과 함께concatente() 메서드에 전달한다. 축을 명확하게 입력하지 않으면 0으로 간주"
   ]
  },
  {
   "cell_type": "code",
   "execution_count": 51,
   "id": "1cae6a18-4c28-4bef-8699-3f2508284237",
   "metadata": {},
   "outputs": [
    {
     "name": "stdout",
     "output_type": "stream",
     "text": [
      "[1 2 3 4 5 6]\n"
     ]
    }
   ],
   "source": [
    "import numpy as np\n",
    "arr1 =np.array([1,2,3])\n",
    "arr2 =np.array([4,5,6])\n",
    "\n",
    "# [1, 2, 3]                [4, 5, 6]\n",
    "\n",
    "arr = np.concatenate((arr1,arr2))  # 튜플 또는 리스트로 인자를 전달\n",
    "#arr = np.concatenate((arr1,arr2),axis=0) \n",
    "print(arr)\n",
    "\n",
    "# arr3 = np.concatenate((arr1,arr2),axis=1)  # 2차원 이상에서만\n",
    "# print(arr3)"
   ]
  },
  {
   "cell_type": "code",
   "execution_count": 57,
   "id": "5c0d461f-74e6-40a9-bc05-a8197e20af43",
   "metadata": {},
   "outputs": [
    {
     "name": "stdout",
     "output_type": "stream",
     "text": [
      "[[1 2 5 6]\n",
      " [3 4 7 8]]\n",
      "(2, 4)\n",
      "[[1 2]\n",
      " [3 4]\n",
      " [5 6]\n",
      " [7 8]]\n",
      "(4, 2)\n"
     ]
    }
   ],
   "source": [
    "import numpy as np\n",
    "arr1 = np.array([[1,2], [3,4]])\n",
    "arr2 = np.array([[5,6], [7,8]])\n",
    "'''\n",
    "[1,2]                [5,6]\n",
    "[3,4]                [7,8]   \n",
    "\n",
    "\n",
    "[5,6]\n",
    "[7,8]'''\n",
    "arr = np.concatenate((arr1,arr2),axis=1)   # 가로축\n",
    "print(arr)\n",
    "print(arr.shape)\n",
    "\n",
    "arr1 = np.concatenate((arr1,arr2),axis=0)  # 세로축\n",
    "print(arr1)\n",
    "print(arr1.shape)\n",
    "                     "
   ]
  },
  {
   "cell_type": "code",
   "execution_count": 59,
   "id": "bbe88bec-b946-4656-96ea-e41c2c7e1ac4",
   "metadata": {},
   "outputs": [
    {
     "name": "stdout",
     "output_type": "stream",
     "text": [
      "병합된 가격 정보:\n",
      "[[25000 27000]\n",
      " [15000 16000]\n",
      " [24000 26000]\n",
      " [15500 16500]]\n"
     ]
    }
   ],
   "source": [
    "import numpy as np\n",
    "\n",
    "# 상점 1의 제품 가격\n",
    "store1_prices = np.array([[25000,27000], # 제품 1\n",
    "                         [15000,16000]]) # 제품 2\n",
    "# 상점 2의 제품 가격\n",
    "store2_prices = np.array([[24000,26000], # 제품 1\n",
    "                         [15500,16500]]) # 제품 2\n",
    "combined_prices =np.concatenate((store1_prices,store2_prices),axis=0)\n",
    "print(\"병합된 가격 정보:\")\n",
    "print(combined_prices)"
   ]
  },
  {
   "cell_type": "code",
   "execution_count": 65,
   "id": "5fe84ad6-ea9a-4bb8-85ae-84725704dadc",
   "metadata": {},
   "outputs": [
    {
     "name": "stdout",
     "output_type": "stream",
     "text": [
      "병합된 성적:\n",
      "[[85 90 88 92]\n",
      " [78 82 80 75]]\n"
     ]
    }
   ],
   "source": [
    "import numpy as np\n",
    "\n",
    "# 과목별 성적\n",
    "math_scores = np.array([[85,90],   # 학생 1 \n",
    "                        [78,82]])  # 학생 2\n",
    "english_scores = np.array([[88,92],   # 학생 1 \n",
    "                        [80,75]])  # 학생 2\n",
    "combined_scores = np.concatenate((math_scores,english_scores),axis=1)\n",
    "print(\"병합된 성적:\")\n",
    "print(combined_scores)"
   ]
  },
  {
   "cell_type": "markdown",
   "id": "ba990f86-e15f-4f1f-b04f-cb6f06fc71bb",
   "metadata": {},
   "source": [
    "## 넘파이 산술연산\n",
    "- 산술 연산자 +,-,X,/ 를 사용하여 넘파이 배열들 간의 값을 계산\n",
    "  "
   ]
  },
  {
   "cell_type": "code",
   "execution_count": 73,
   "id": "9fa2d351-0aca-4fad-85c7-e0b736106684",
   "metadata": {},
   "outputs": [
    {
     "name": "stdout",
     "output_type": "stream",
     "text": [
      "[32 34 36 38 40]\n",
      "[32 34 36 38 40]\n"
     ]
    }
   ],
   "source": [
    "## 더하기\n",
    "import numpy as np\n",
    "arr1 =np.array([21, 22, 23, 24, 25])\n",
    "arr2 =np.array([11, 12, 13, 14, 15])\n",
    "\n",
    "newarr = arr1 + arr2\n",
    "print(newarr)\n",
    "newarr = np.add(arr1, arr2)\n",
    "print(newarr)"
   ]
  },
  {
   "cell_type": "code",
   "execution_count": 81,
   "id": "fa46fadd-098f-4e83-9928-36ddc578682b",
   "metadata": {},
   "outputs": [
    {
     "name": "stdout",
     "output_type": "stream",
     "text": [
      "[10 10 10 10 10]\n",
      "[10 10 10 10 10]\n"
     ]
    }
   ],
   "source": [
    "## 빼기\n",
    "newarr = arr1 - arr2\n",
    "print(newarr)\n",
    "\n",
    "newarr =np.subtract(arr1,arr2)\n",
    "print(newarr)"
   ]
  },
  {
   "cell_type": "code",
   "execution_count": 83,
   "id": "a5d4d1ea-c23e-471d-9042-92bc90867852",
   "metadata": {},
   "outputs": [
    {
     "name": "stdout",
     "output_type": "stream",
     "text": [
      "[231 264 299 336 375]\n",
      "[231 264 299 336 375]\n"
     ]
    }
   ],
   "source": [
    "## 곱하기\n",
    "newarr = arr1 * arr2\n",
    "print(newarr)\n",
    "\n",
    "newarr =np.multiply(arr1,arr2)\n",
    "print(newarr)"
   ]
  },
  {
   "cell_type": "code",
   "execution_count": 85,
   "id": "66d94227-ee8b-42ca-a498-90b482dc8a3e",
   "metadata": {},
   "outputs": [
    {
     "name": "stdout",
     "output_type": "stream",
     "text": [
      "[1.90909091 1.83333333 1.76923077 1.71428571 1.66666667]\n",
      "[1.90909091 1.83333333 1.76923077 1.71428571 1.66666667]\n"
     ]
    }
   ],
   "source": [
    "## 나누기 \n",
    "newarr = arr1 / arr2\n",
    "print(newarr)\n",
    "\n",
    "newarr =np.divide(arr1,arr2)\n",
    "print(newarr)"
   ]
  },
  {
   "cell_type": "code",
   "execution_count": 89,
   "id": "dff8c018-e5a8-48f0-9fcf-0380cde12bfa",
   "metadata": {},
   "outputs": [
    {
     "name": "stdout",
     "output_type": "stream",
     "text": [
      "[ 1  4  9 16 25]\n",
      "[   1    4   27  256 3125]\n"
     ]
    }
   ],
   "source": [
    "## 거듭제곱\n",
    "arr1 =np.array([1, 2, 3, 4, 5])\n",
    "arr2 =np.array([1, 2, 3, 4, 5])\n",
    "newarr = arr1 * arr2\n",
    "print(newarr)\n",
    "\n",
    "newarr =np.power(arr1,arr2)\n",
    "print(newarr)"
   ]
  },
  {
   "cell_type": "code",
   "execution_count": 93,
   "id": "47768022-8a5e-4023-b708-6985b0811a38",
   "metadata": {},
   "outputs": [
    {
     "name": "stdout",
     "output_type": "stream",
     "text": [
      "(array([5, 7, 7, 8, 8]), array([1, 0, 3, 1, 3]))\n",
      "[(11, 2, 5, 1), (21, 3, 7, 0), (31, 4, 7, 3), (41, 5, 8, 1), (51, 6, 8, 3)]\n"
     ]
    }
   ],
   "source": [
    "# 나누기후 몫과 나머지\n",
    "import numpy as np\n",
    "arr1 = np.array([11,21,31,41,51])\n",
    "arr2 =np.array([2,3,4,5,6])\n",
    "\n",
    "newarr =np.divmod(arr1,arr2) # 몫과 나머지가 개별적인 배열로 튜플로 반환\n",
    "print(newarr)\n",
    "\n",
    "print(list(zip(arr1,arr2, *newarr)))"
   ]
  },
  {
   "cell_type": "code",
   "execution_count": 95,
   "id": "3c8efa97-8b5e-4399-a18a-98b9acb3ae09",
   "metadata": {},
   "outputs": [
    {
     "data": {
      "text/plain": [
       "array([1, 2, 3, 4, 5])"
      ]
     },
     "execution_count": 95,
     "metadata": {},
     "output_type": "execute_result"
    }
   ],
   "source": [
    "# 절대값\n",
    "import numpy as np\n",
    "arr = np.array([1,-2, 3, -4, 5])\n",
    "\n",
    "newarr=np.absolute(arr)\n",
    "newarr"
   ]
  },
  {
   "cell_type": "markdown",
   "id": "0b7a8690-ce8c-475d-bd6c-8b9c56ba8371",
   "metadata": {},
   "source": [
    "## 넘파이 기술통계\n",
    "- 넘파이는 데이터 집합에 대해 간단한 통계를 계산하는 매서드를 제공"
   ]
  },
  {
   "cell_type": "code",
   "execution_count": 102,
   "id": "13994d18-689b-4e90-99c6-2422cc7f3211",
   "metadata": {},
   "outputs": [
    {
     "name": "stdout",
     "output_type": "stream",
     "text": [
      "[-24 -13  -8  -7  -6  -1   0   0   2   2   4   4   5   5   5   7   8   9\n",
      "  10  10  15  15  18  19  23  23]\n",
      "26\n",
      "125\n",
      "4.8076923076923075\n",
      "115.23224852071006\n",
      "10.734628476137871\n",
      "23\n",
      "-24\n",
      "5.0\n",
      "0.0\n",
      "5.0\n",
      "10.0\n",
      "23.0\n"
     ]
    }
   ],
   "source": [
    "import numpy as np\n",
    "x= np.array([18, 5, 10, 23, 19, -8, 10, 0, 0, 5, 2, 15, 8, 2, 5, 4, 15, -1, 4, -7, -24, 7, 9, -6, 23, -13])\n",
    "print(np.sort(x))              \n",
    "print(len(x))                  # 데이터 개수\n",
    "print(sum(x))                  # 데이터 합계\n",
    "print(np.mean(x))              # 평균\n",
    "print(np.var(x))               # 분산(데이터의 흩어짐 정도를 나타내며, 평균으로부터의 거리의 제곱을 평균한 값)\n",
    "print(np.std(x))               # 표준편차 (분산의 제곱근으로, 원래 단위로 데이터의 변동선을 나타냄)\n",
    "print(np.max(x))               # 최대값\n",
    "print(np.min(x))               # 최소값\n",
    "print(np.median(x))            # 중앙값\n",
    "print(np.percentile(x,25))     # 1사분위수\n",
    "print(np.percentile(x,50))     # 2사분위수\n",
    "print(np.percentile(x,75))     # 3사분위수\n",
    "print(np.percentile(x,100))    # 4사분위수   \n"
   ]
  }
 ],
 "metadata": {
  "kernelspec": {
   "display_name": "Python 3 (ipykernel)",
   "language": "python",
   "name": "python3"
  },
  "language_info": {
   "codemirror_mode": {
    "name": "ipython",
    "version": 3
   },
   "file_extension": ".py",
   "mimetype": "text/x-python",
   "name": "python",
   "nbconvert_exporter": "python",
   "pygments_lexer": "ipython3",
   "version": "3.12.7"
  }
 },
 "nbformat": 4,
 "nbformat_minor": 5
}
