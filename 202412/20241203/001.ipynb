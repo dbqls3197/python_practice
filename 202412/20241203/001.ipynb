{
 "cells": [
  {
   "cell_type": "markdown",
   "id": "fa99f3da-959f-47ed-a55e-f4dcf6856dc5",
   "metadata": {},
   "source": [
    "## 데스크탑 자동화"
   ]
  },
  {
   "cell_type": "code",
   "execution_count": 2,
   "id": "f9c60474-64bf-4881-b490-74ac8c52b3ae",
   "metadata": {},
   "outputs": [],
   "source": [
    "# pip install pyautogui 설치"
   ]
  },
  {
   "cell_type": "code",
   "execution_count": 21,
   "id": "e0992a41-76fa-4c68-ac2d-853b86f95b32",
   "metadata": {},
   "outputs": [],
   "source": [
    "import pyautogui\n",
    "import time"
   ]
  },
  {
   "cell_type": "code",
   "execution_count": 4,
   "id": "ad9f2283-ca0f-479f-81c1-ad55b07aebfa",
   "metadata": {},
   "outputs": [
    {
     "name": "stdout",
     "output_type": "stream",
     "text": [
      "Size(width=1920, height=1200)\n"
     ]
    }
   ],
   "source": [
    "# 화면 크기 출력\n",
    "print(pyautogui.size())"
   ]
  },
  {
   "cell_type": "code",
   "execution_count": 5,
   "id": "aaa6b2c9-4242-43c3-821e-67345211ff24",
   "metadata": {},
   "outputs": [
    {
     "name": "stdout",
     "output_type": "stream",
     "text": [
      "화면 너비:1920, 화면 높이:1200\n"
     ]
    }
   ],
   "source": [
    "ps =pyautogui.size()\n",
    "print(f\"화면 너비:{ps.width}, 화면 높이:{ps.height}\")"
   ]
  },
  {
   "cell_type": "code",
   "execution_count": 236,
   "id": "cb9951a1-3836-4264-970f-ad371e68fd16",
   "metadata": {},
   "outputs": [
    {
     "name": "stdout",
     "output_type": "stream",
     "text": [
      "Point(x=607, y=474)\n"
     ]
    }
   ],
   "source": [
    "# 마우스 위치 출력\n",
    "print(pyautogui.position())"
   ]
  },
  {
   "cell_type": "code",
   "execution_count": 143,
   "id": "63f5a233-446d-4464-a8e6-2580b6037382",
   "metadata": {},
   "outputs": [],
   "source": [
    "# 마우스 움직이기 (너비,높이,움직임(없으면 바로이동함))\n",
    "pyautogui.moveTo(20,100,2)"
   ]
  },
  {
   "cell_type": "code",
   "execution_count": 8,
   "id": "c8f63db1-f03e-4dda-988c-2d4b21a6fead",
   "metadata": {},
   "outputs": [],
   "source": [
    "# 현재있는 마우스 위치에서 클릭(왼쪽)\n",
    "pyautogui.click()"
   ]
  },
  {
   "cell_type": "code",
   "execution_count": 9,
   "id": "64d417eb-de05-478f-b7c3-1a54462faa5a",
   "metadata": {},
   "outputs": [],
   "source": [
    "# 현재있는 마우스 위치에서 클릭(오른쪽)\n",
    "pyautogui.click(button ='right')"
   ]
  },
  {
   "cell_type": "code",
   "execution_count": 10,
   "id": "bc677236-3f0a-4361-839d-54e0673139d4",
   "metadata": {},
   "outputs": [],
   "source": [
    "# 현재있는 마우스 위치에서 더블클릭(왼쪽)\n",
    "pyautogui.doubleClick()"
   ]
  },
  {
   "cell_type": "code",
   "execution_count": 11,
   "id": "75f3dd46-da94-4995-9127-3095be9f2bb6",
   "metadata": {},
   "outputs": [],
   "source": [
    "# 1초마다 3번 클릭\n",
    "pyautogui.click(clicks=3,interval=1)"
   ]
  },
  {
   "cell_type": "code",
   "execution_count": 252,
   "id": "9a090dc9-7cb4-425b-b125-739483adb84b",
   "metadata": {},
   "outputs": [],
   "source": [
    "pyautogui.mouseInfo()"
   ]
  },
  {
   "cell_type": "code",
   "execution_count": 135,
   "id": "13c472d5-d418-40b9-9f7b-7ecab47aa2bc",
   "metadata": {},
   "outputs": [
    {
     "ename": "AttributeError",
     "evalue": "module 'pyautogui' has no attribute 'dragTO'",
     "output_type": "error",
     "traceback": [
      "\u001b[1;31m---------------------------------------------------------------------------\u001b[0m",
      "\u001b[1;31mAttributeError\u001b[0m                            Traceback (most recent call last)",
      "Cell \u001b[1;32mIn[135], line 2\u001b[0m\n\u001b[0;32m      1\u001b[0m pyautogui\u001b[38;5;241m.\u001b[39mmoveTo(\u001b[38;5;241m1865\u001b[39m,\u001b[38;5;241m466\u001b[39m,\u001b[38;5;241m2\u001b[39m)\n\u001b[1;32m----> 2\u001b[0m pyautogui\u001b[38;5;241m.\u001b[39mdragTO(\u001b[38;5;241m1865\u001b[39m,\u001b[38;5;241m466\u001b[39m,\u001b[38;5;241m2\u001b[39m)\n\u001b[0;32m      3\u001b[0m current_position \u001b[38;5;241m=\u001b[39m pyautogui\u001b[38;5;241m.\u001b[39mposition()\n\u001b[0;32m      4\u001b[0m \u001b[38;5;28mprint\u001b[39m(\u001b[38;5;124m\"\u001b[39m\u001b[38;5;124m현재 마우스 위치:\u001b[39m\u001b[38;5;124m\"\u001b[39m, current_position)\n",
      "\u001b[1;31mAttributeError\u001b[0m: module 'pyautogui' has no attribute 'dragTO'"
     ]
    }
   ],
   "source": [
    "pyautogui.moveTo(1865,466,2)\n",
    "pyautogui.dragTO(1865,466,2)\n",
    "current_position = pyautogui.position()\n",
    "print(\"현재 마우스 위치:\", current_position)"
   ]
  },
  {
   "cell_type": "code",
   "execution_count": 127,
   "id": "513816a8-3d56-480e-bfed-424b854bb405",
   "metadata": {},
   "outputs": [],
   "source": [
    "pyautogui.scroll(700)"
   ]
  },
  {
   "cell_type": "code",
   "execution_count": 141,
   "id": "76e3dc95-d38c-4ad4-9529-d6b40f327119",
   "metadata": {},
   "outputs": [],
   "source": [
    "pyautogui.moveTo(1865,466,2)\n",
    "pyautogui.click()\n",
    "pyautogui.scroll(-700)"
   ]
  },
  {
   "cell_type": "code",
   "execution_count": null,
   "id": "4a44243d-b82b-4e5d-a8b7-ba88ee45c727",
   "metadata": {},
   "outputs": [],
   "source": [
    "for _ in range(30):\n",
    "    pyautogui.moveTo(541,783,2)\n",
    "    pyautogui.click(clicks=1,interval=3)\n",
    "    "
   ]
  },
  {
   "cell_type": "code",
   "execution_count": null,
   "id": "5053e3ab-f221-44a1-a6be-2c02231b716c",
   "metadata": {},
   "outputs": [],
   "source": [
    "# 클릭 반복\n",
    "for _ in range(10):\n",
    "    pyautogui.click()\n",
    "    time.sleep(0.5)"
   ]
  },
  {
   "cell_type": "code",
   "execution_count": 222,
   "id": "6467f9a3-e3db-4a8f-8047-1d6dfb4bcfac",
   "metadata": {},
   "outputs": [],
   "source": [
    "# 스크롤 반복\n",
    "for _ in range(10):\n",
    "    pyautogui.scroll(-800)\n",
    "    time.sleep(1)"
   ]
  },
  {
   "cell_type": "code",
   "execution_count": null,
   "id": "8858b871-ec16-4746-9d79-95d8ad0f3a35",
   "metadata": {},
   "outputs": [],
   "source": [
    "pyautogui.write('startcoding',interval=0.25)\n",
    "# pyautogui.write('스타트코딩')"
   ]
  },
  {
   "cell_type": "raw",
   "id": "ad62dbb0-4246-4dd8-a5cb-7da3f5a5714d",
   "metadata": {},
   "source": [
    "기본 키 목록\n",
    "알파벳 키: 'a', 'b', 'c', ..., 'z'\n",
    "숫자 키: '0', '1', '2', ..., '9'\n",
    "기타 키:\n",
    "특수 문자: '!', '@', '#', '$', '%', '^', '&', '*', '(', ')', '_', '+', '-', '=', '{', '}', '[', ']', ':', ';', '\"', ''', '<', '>', ',', '.', '?', '/'\n",
    "공백: 'space'\n",
    "탭: 'tab'\n",
    "엔터: 'enter'\n",
    "백스페이스: 'backspace'\n",
    "ESC: 'esc'\n",
    "화살표 키: 'up', 'down', 'left', 'right'\n",
    "홈: 'home'\n",
    "끝: 'end'\n",
    "페이지 업: 'pageup'\n",
    "페이지 다운: 'pagedown'\n",
    "프린트 스크린: 'printscreen'\n",
    "윈도우 키: 'win'\n",
    "컨트롤, 알트, 쉬프트: 'ctrl', 'alt', 'shift'\n",
    "Caps Lock: 'capslock'\n",
    "Insert: 'insert'\n",
    "Delete: 'delete'\n",
    "키패드 키: 'num0', 'num1', ..., 'num9', 'numadd', 'numsub', 'nummultiply', 'numdivide'"
   ]
  },
  {
   "cell_type": "code",
   "execution_count": 184,
   "id": "356ab0bf-c756-4d31-afda-6b51edbc5470",
   "metadata": {},
   "outputs": [],
   "source": [
    "pyautogui.press('up')\n",
    "pyautogui.press('enter')"
   ]
  },
  {
   "cell_type": "raw",
   "id": "ed178eaa-9a5f-4b5d-8073-6ba0cdc58847",
   "metadata": {},
   "source": [
    "import pyperclip\n",
    "pyperclip.copy('한글입력')\n",
    "pyperclip.hotkey('ctrl','v')"
   ]
  },
  {
   "cell_type": "code",
   "execution_count": 190,
   "id": "d63a18dc-6548-47e6-8eba-df3eb76b8c23",
   "metadata": {},
   "outputs": [],
   "source": [
    "for _ in range(10):\n",
    "    pyautogui.click()\n",
    "    pyautogui.typewrite(\"fuck\",interval=0.1)\n",
    "    pyautogui.write(\"ing\",interval=0.1)\n",
    "    pyautogui.moveTo(20,100,2)"
   ]
  },
  {
   "cell_type": "code",
   "execution_count": null,
   "id": "9d7bcbf5-96df-4dab-8e24-8fd916c520ce",
   "metadata": {},
   "outputs": [],
   "source": [
    "time sleep(3) # 3초 대기\n",
    "pyperclip.hotkey('ctrl','c') #복사\n",
    "\n",
    "pyperclip.hotkey('ctrl','v') # 붙여넣기"
   ]
  },
  {
   "cell_type": "code",
   "execution_count": null,
   "id": "96dedb2c-70a2-4e7b-8401-ce7ad3f9e3de",
   "metadata": {},
   "outputs": [],
   "source": [
    "pyperclip.hotkey('alt','f4')"
   ]
  },
  {
   "cell_type": "code",
   "execution_count": null,
   "id": "c2d2a24b-dcf7-4c86-b5d7-4afe770a319b",
   "metadata": {},
   "outputs": [],
   "source": [
    "pyperclip.hotkey('ctrl','alt','c')"
   ]
  },
  {
   "cell_type": "code",
   "execution_count": null,
   "id": "134f5636-cf10-42fa-b22d-f3a4563a3afb",
   "metadata": {},
   "outputs": [],
   "source": [
    "# http://10.0.66.99/auto/login.php\n",
    "# ID : 이름\n",
    "# pwd : 1111"
   ]
  },
  {
   "cell_type": "code",
   "execution_count": null,
   "id": "c5fe262d-46bd-4409-a414-885fa0fa1549",
   "metadata": {},
   "outputs": [],
   "source": [
    "109,204/120,232/19,255"
   ]
  },
  {
   "cell_type": "code",
   "execution_count": 218,
   "id": "71a4eb2f-67ab-46b4-9e39-9e16d8fbfc17",
   "metadata": {},
   "outputs": [],
   "source": [
    "import pyautogui\n",
    "import pyperclip\n",
    "pyautogui.moveTo(109,204,2)\n",
    "pyautogui.click() \n",
    "\n",
    "pyperclip.copy('손유빈')\n",
    "pyautogui.hotkey('ctrl','v')\n",
    "\n",
    "pyautogui.moveTo(120,232,2)\n",
    "pyautogui.click() \n",
    "\n",
    "pyperclip.copy('1111')\n",
    "pyautogui.hotkey('ctrl','v')\n",
    "\n",
    "pyautogui.moveTo(19,255,2)\n",
    "pyautogui.click()\n"
   ]
  },
  {
   "cell_type": "code",
   "execution_count": null,
   "id": "db94dd31-2d9a-43c6-b3db-97ac11a4fec6",
   "metadata": {},
   "outputs": [],
   "source": [
    "964,422/667,421/580,461/589,587"
   ]
  },
  {
   "cell_type": "code",
   "execution_count": 250,
   "id": "85fa8c4b-2b0b-47f5-aaa1-989e58402738",
   "metadata": {},
   "outputs": [],
   "source": [
    "import pyautogui\n",
    "import pyperclip\n",
    "import webbrowser\n",
    "pyautogui.moveTo(964,422,2)\n",
    "pyautogui.click()\n",
    "time.sleep(1)\n",
    "\n",
    "pyperclip.copy('dbqls3197')\n",
    "pyautogui.hotkey('ctrl','v')\n",
    "\n",
    "pyautogui.moveTo(607,474,2)\n",
    "pyautogui.click() \n",
    "\n",
    "pyperclip.copy('qpwo55!!')\n",
    "pyautogui.hotkey('ctrl','v')\n",
    "\n",
    "pyautogui.moveTo(589,587,2)\n",
    "pyautogui.click()"
   ]
  },
  {
   "cell_type": "code",
   "execution_count": 270,
   "id": "16ef5b01-a090-4624-8e36-aa815991eb33",
   "metadata": {},
   "outputs": [
    {
     "name": "stdout",
     "output_type": "stream",
     "text": [
      "OK\n"
     ]
    }
   ],
   "source": [
    "a =pyautogui.alert(\"이것은 알림 메시지 입니다!\")\n",
    "print(a)"
   ]
  },
  {
   "cell_type": "code",
   "execution_count": 276,
   "id": "91dd483a-82ed-4253-bb16-ebee8fb68837",
   "metadata": {},
   "outputs": [
    {
     "name": "stdout",
     "output_type": "stream",
     "text": [
      "OK\n"
     ]
    }
   ],
   "source": [
    "a = pyautogui.confirm('이 작업을 진행하시겠습니까?')\n",
    "print(a)"
   ]
  },
  {
   "cell_type": "code",
   "execution_count": 23,
   "id": "37e9583e-fb89-424d-be84-7b77820247bd",
   "metadata": {},
   "outputs": [
    {
     "name": "stdout",
     "output_type": "stream",
     "text": [
      "사용자의 선택: 작업2\n"
     ]
    }
   ],
   "source": [
    "a = pyautogui.confirm('어떤 작업을 진행하시겠습니까?',\n",
    "    buttons=['작업1','작업2','작업3']\n",
    ")\n",
    "print('사용자의 선택:',a)"
   ]
  },
  {
   "cell_type": "code",
   "execution_count": 289,
   "id": "fd6447fd-0497-4adf-af3b-b9cfc7015399",
   "metadata": {},
   "outputs": [
    {
     "name": "stdout",
     "output_type": "stream",
     "text": [
      "asd\n"
     ]
    }
   ],
   "source": [
    "a = pyautogui.prompt('이름을 입력하세요:')\n",
    "print(a)"
   ]
  },
  {
   "cell_type": "code",
   "execution_count": 291,
   "id": "57d9f9d6-b5b3-48ed-95ec-febe5237bb47",
   "metadata": {},
   "outputs": [
    {
     "name": "stdout",
     "output_type": "stream",
     "text": [
      "121212\n"
     ]
    }
   ],
   "source": [
    "b = pyautogui.password('비밀번호를 입력하세요:')\n",
    "print(b)"
   ]
  },
  {
   "cell_type": "code",
   "execution_count": 297,
   "id": "77bdf4e5-fc27-4daf-903f-e69018258fa4",
   "metadata": {},
   "outputs": [],
   "source": [
    "# 전체화면 파일로 저장\n",
    "screenshot = pyautogui.screenshot()\n",
    "screenshot.save('full_screenshot.png')"
   ]
  },
  {
   "cell_type": "code",
   "execution_count": null,
   "id": "c33f608f-f704-4da3-9871-2ec715430c3b",
   "metadata": {},
   "outputs": [],
   "source": [
    "pyautogui.screenshot('screenshot.png')"
   ]
  },
  {
   "cell_type": "code",
   "execution_count": null,
   "id": "17ea44a8-9b7a-4db5-8af9-2eaa48285ad3",
   "metadata": {},
   "outputs": [],
   "source": [
    "screenshot = pyautogui.screenshot(region=(100,100,300,400))\n",
    "screenshot.save('full_screenshot.png')\n",
    "\n",
    "pyautogui.screenshot('screenshot.png',region=(100,100,300,400))\n"
   ]
  },
  {
   "cell_type": "code",
   "execution_count": null,
   "id": "d5f7620a-bc59-463b-a47f-8e11a8a1b43c",
   "metadata": {},
   "outputs": [],
   "source": []
  }
 ],
 "metadata": {
  "kernelspec": {
   "display_name": "Python 3 (ipykernel)",
   "language": "python",
   "name": "python3"
  },
  "language_info": {
   "codemirror_mode": {
    "name": "ipython",
    "version": 3
   },
   "file_extension": ".py",
   "mimetype": "text/x-python",
   "name": "python",
   "nbconvert_exporter": "python",
   "pygments_lexer": "ipython3",
   "version": "3.12.7"
  }
 },
 "nbformat": 4,
 "nbformat_minor": 5
}
