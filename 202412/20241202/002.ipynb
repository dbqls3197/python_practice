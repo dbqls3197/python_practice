{
 "cells": [
  {
   "cell_type": "code",
   "execution_count": 1,
   "id": "776d006a-b8e3-48d0-a3e0-384b13847eb2",
   "metadata": {},
   "outputs": [
    {
     "ename": "SyntaxError",
     "evalue": "invalid syntax (1878577329.py, line 1)",
     "output_type": "error",
     "traceback": [
      "\u001b[1;36m  Cell \u001b[1;32mIn[1], line 1\u001b[1;36m\u001b[0m\n\u001b[1;33m    <!-- 예제 1 -->\u001b[0m\n\u001b[1;37m    ^\u001b[0m\n\u001b[1;31mSyntaxError\u001b[0m\u001b[1;31m:\u001b[0m invalid syntax\n"
     ]
    }
   ],
   "source": [
    "<!-- 예제 1 -->\n",
    "<div id=\"login-form\">\n",
    "    <input type=\"text\" name=\"username\" placeholder=\"Username\">\n",
    "    <input type=\"password\" name=\"password\" placeholder=\"Password\">\n",
    "    <button type=\"submit\">Login</button>\n",
    "</div>\n",
    "\n",
    "<!-- 예제 2 -->\n",
    "<div id=\"signup-form\">\n",
    "    <input type=\"text\" name=\"email\" placeholder=\"Email\">\n",
    "    <input type=\"password\" name=\"password\" placeholder=\"Password\">\n",
    "    <button type=\"submit\">Sign Up</button>\n",
    "</div>\n",
    "\n",
    "<!-- 예제 3 -->\n",
    "<div id=\"search-bar\">\n",
    "    <input type=\"text\" placeholder=\"Search...\">\n",
    "    <button type=\"submit\">Search</button>\n",
    "</div>\n",
    "\n",
    "<!-- 예제 4 -->\n",
    "<div id=\"profile-info\">\n",
    "    <h2>User Profile</h2>\n",
    "</div>\n",
    "\n",
    "<!-- 예제 5 -->\n",
    "<div id=\"settings\">\n",
    "    <h3>Settings</h3>\n",
    "</div>"
   ]
  },
  {
   "cell_type": "code",
   "execution_count": null,
   "id": "b778e4a0-c340-4349-a21b-ab9e9ea7357d",
   "metadata": {},
   "outputs": [],
   "source": [
    "drvier.find.element(By.ID,\"login-form\")\n",
    "drvier.find.element(By.ID,\"signup-form\")\n",
    "drvier.find.element(By.ID,\"search-bar\")\n",
    "drvier.find.element(By.ID,\"profile-info\")\n",
    "drvier.find.element(By.ID,\"settings\")"
   ]
  },
  {
   "cell_type": "markdown",
   "id": "4357810b-136b-4ac9-8771-92d5b2211d09",
   "metadata": {},
   "source": [
    "### CLASS_NAME"
   ]
  },
  {
   "cell_type": "code",
   "execution_count": null,
   "id": "4c28b5d6-1a87-4f45-87bc-85645b538ad8",
   "metadata": {},
   "outputs": [],
   "source": [
    "<!-- 예제 1 -->\n",
    "<nav class=\"navigation-menu\">\n",
    "    <ul>\n",
    "        <li><a href=\"#home\">Home</a></li>\n",
    "        <li><a href=\"#about\">About</a></li>\n",
    "    </ul>\n",
    "</nav>\n",
    "\n",
    "<!-- 예제 2 -->\n",
    "<div class=\"product-list\">\n",
    "    <div class=\"product-item\">Product 1</div>\n",
    "    <div class=\"product-item\">Product 2</div>\n",
    "</div>\n",
    "\n",
    "<!-- 예제 3 -->\n",
    "<footer class=\"footer\">\n",
    "    <p>(c) 2023 Company Name</p>\n",
    "</footer>\n",
    "\n",
    "<!-- 예제 4 -->\n",
    "<section class=\"banner\">\n",
    "    <h1>Welcome to Our Site</h1>\n",
    "</section>\n",
    "\n",
    "<!-- 예제 5 -->\n",
    "<div class=\"alert alert-success\">Success! Your action was successful.</div>"
   ]
  },
  {
   "cell_type": "code",
   "execution_count": null,
   "id": "50325882-6d13-4c0d-991c-50696469fdea",
   "metadata": {},
   "outputs": [],
   "source": [
    "drvier.find.element(By.CLASS_NAME,\"navigation-menu\")\n",
    "drvier.find.element(By.CLASS_NAME,\"product-list\")\n",
    "drvier.find.element(By.CLASS_NAME,\"footer\")\n",
    "drvier.find.element(By.CLASS_NAME,\"banner\")\n",
    "drvier.find.element(By.CLASS_NAME,\"alert\")"
   ]
  },
  {
   "cell_type": "markdown",
   "id": "8d90c305-3bb1-4b97-9779-5deb8ffc7623",
   "metadata": {},
   "source": [
    "## By.NAME"
   ]
  },
  {
   "cell_type": "code",
   "execution_count": null,
   "id": "cdd786c3-e84b-40fa-a2fa-563183e1d4e0",
   "metadata": {},
   "outputs": [],
   "source": [
    "<!-- 예제 1 -->\n",
    "<form>\n",
    "    <input type=\"text\" name=\"email\" placeholder=\"Email\">\n",
    "    <input type=\"submit\" value=\"Subscribe\">\n",
    "</form>\n",
    "\n",
    "<!-- 예제 2 -->\n",
    "<form>\n",
    "    <input type=\"text\" name=\"username\" placeholder=\"Username\">\n",
    "    <input type=\"password\" name=\"password\" placeholder=\"Password\">\n",
    "    <input type=\"submit\" value=\"Login\">\n",
    "</form>\n",
    "\n",
    "<!-- 예제 3 -->\n",
    "<form>\n",
    "    <input type=\"text\" name=\"search\" placeholder=\"Search...\">\n",
    "    <input type=\"submit\" value=\"Go\">\n",
    "</form>\n",
    "\n",
    "<!-- 예제 4 -->\n",
    "<form>\n",
    "    <input type=\"text\" name=\"first-name\" placeholder=\"First Name\">\n",
    "    <input type=\"text\" name=\"last-name\" placeholder=\"Last Name\">\n",
    "</form>\n",
    "\n",
    "<!-- 예제 5 -->\n",
    "<form>\n",
    "    <input type=\"text\" name=\"phone\" placeholder=\"Phone Number\">\n",
    "    <input type=\"submit\" value=\"Submit\">\n",
    "</form>"
   ]
  },
  {
   "cell_type": "code",
   "execution_count": null,
   "id": "218c9a23-3714-4f50-b2e6-c1c431ad3af3",
   "metadata": {},
   "outputs": [],
   "source": [
    "drvier.find.element(By.NAME,\"email\").get_attribute('value') #===> 요소의 value(값) 가져오기\n",
    "drvier.find.element(By.NAME,\"username\") # ==> 요소(객체) 찾기\n",
    "drvier.find.element(By.NAME,\"search\")\n",
    "drvier.find.element(By.NAME,\"first-name\")\n",
    "drvier.find.element(By.NAME,\"phone\")"
   ]
  },
  {
   "cell_type": "markdown",
   "id": "bfcb7fdb-e0c7-4a54-9283-37703112b8a7",
   "metadata": {},
   "source": [
    "## By.TAG.NAME"
   ]
  },
  {
   "cell_type": "code",
   "execution_count": null,
   "id": "32e75abf-114f-43a1-a71e-7aa248c337fd",
   "metadata": {},
   "outputs": [],
   "source": [
    "<!-- 예제 1 -->\n",
    "<a href=\"https://example.com\">Click Here</a>\n",
    "<p>This is a paragraph.</p>\n",
    "\n",
    "<!-- 예제 2 -->\n",
    "<ul>\n",
    "    <li>Item 1</li>\n",
    "    <li>Item 2</li>\n",
    "</ul>\n",
    "\n",
    "<!-- 예제 3 -->\n",
    "<div>\n",
    "    <h1>Welcome</h1>\n",
    "    <p>Enjoy your stay!</p>\n",
    "</div>\n",
    "\n",
    "<!-- 예제 4 -->\n",
    "<section>\n",
    "    <h2>About Us</h2>\n",
    "    <p>We are a company.</p>\n",
    "</section>\n",
    "\n",
    "<!-- 예제 5 -->\n",
    "<article>\n",
    "    <h3>Latest News</h3>\n",
    "    <p>Breaking news here!</p>\n",
    "</article>"
   ]
  },
  {
   "cell_type": "code",
   "execution_count": null,
   "id": "e2939425-89b3-442d-96b0-84dc3ad7d3ae",
   "metadata": {},
   "outputs": [],
   "source": [
    "drvier.find.element(By.TAG.NAME,\"a\")\n",
    "drvier.find.element(By.TAG.NAME,\"li\")\n",
    "drvier.find.elements(By.TAG.NAME,\"li\") # ==> li 전체 요소(객체)\n",
    "drvier.find.elements(By.TAG.NAME,\"li\") [1] ## ==> 두번쨰 li 요소(객체)\n",
    "drvier.find.element(By.TAG.NAME,'h1')\n",
    "drvier.find.element(By.TAG.NAME,\"h2\")\n",
    "drvier.find.element(By.TAG.NAME,\"article\")"
   ]
  },
  {
   "cell_type": "markdown",
   "id": "f361cce2-9da0-4f57-83d6-2bfe856db690",
   "metadata": {},
   "source": [
    "### By.LINK_TEXT"
   ]
  },
  {
   "cell_type": "code",
   "execution_count": null,
   "id": "67527b0e-4ec4-452b-8074-345a569d9ff6",
   "metadata": {},
   "outputs": [],
   "source": [
    "<!-- 예제 1 -->\n",
    "<a href=\"#terms\">Click Here</a>\n",
    "<a href=\"#privacy\">Privacy Policy</a>\n",
    "\n",
    "<!-- 예제 2 -->\n",
    "<a href=\"#contact\">Contact Us</a>\n",
    "<a href=\"#about\">About Us</a>\n",
    "\n",
    "<!-- 예제 3 -->\n",
    "<a href=\"#login\">Login</a>\n",
    "<a href=\"#register\">Register</a>\n",
    "\n",
    "<!-- 예제 4 -->\n",
    "<a href=\"#home\">Home</a>\n",
    "<a href=\"#services\">Our Services</a>\n",
    "\n",
    "<!-- 예제 5 -->\n",
    "<a href=\"#faq\">FAQ</a>\n",
    "<a href=\"#support\">Support</a>"
   ]
  },
  {
   "cell_type": "code",
   "execution_count": null,
   "id": "35c8410d-1d85-4c5e-8cae-873eedba41d7",
   "metadata": {},
   "outputs": [],
   "source": [
    "drvier.find.element(By.LINK_TEXT,\"Click Here\")\n",
    "drvier.find.element(By.LINK_TEXT,\"Contact\")\n",
    "drvier.find.element(By.LINK_TEXT,\"Login\")\n",
    "drvier.find.element(By.LINK_TEXT,\"Home\")\n",
    "drvier.find.element(By.LINK_TEXT,\"FAQ\")"
   ]
  },
  {
   "cell_type": "markdown",
   "id": "6656d15b-8de6-45d9-9f95-8be67aeab276",
   "metadata": {},
   "source": [
    "### By.RARTIAL_LINK_TEXT"
   ]
  },
  {
   "cell_type": "code",
   "execution_count": null,
   "id": "1a49a5e9-ba87-4a38-acfa-d7152366db8e",
   "metadata": {},
   "outputs": [],
   "source": [
    "<!-- 예제 1 -->\n",
    "<a href=\"#more-info\">More Info</a>\n",
    "<a href=\"#details\">View Details</a>\n",
    "\n",
    "<!-- 예제 2 -->\n",
    "<a href=\"#contact\">Contact Us</a>\n",
    "<a href=\"#about\">Learn More About Us</a>\n",
    "\n",
    "<!-- 예제 3 -->\n",
    "<a href=\"#login\">Login</a>\n",
    "<a href=\"#register\">Join Us</a>\n",
    "\n",
    "<!-- 예제 4 -->\n",
    "<a href=\"#home\">Go Home</a>\n",
    "<a href=\"#services\">See Our Services</a>\n",
    "\n",
    "<!-- 예제 5 -->\n",
    "<a href=\"#faq\">Frequently Asked Questions</a>\n",
    "<a href=\"#support\">Get Support</a>"
   ]
  },
  {
   "cell_type": "code",
   "execution_count": null,
   "id": "dd1081d1-a0cb-413e-b01f-38964c3ea865",
   "metadata": {},
   "outputs": [],
   "source": [
    "drvier.find.element(By.LINK_TEXT,\"More\")\n",
    "drvier.find.element(By.LINK_TEXT,\"Contact\")\n",
    "drvier.find.element(By.LINK_TEXT,\"Join\")\n",
    "drvier.find.element(By.LINK_TEXT,\"Go\")  \n",
    "drvier.find.element(By.LINK_TEXT,\"Frequently\")"
   ]
  },
  {
   "cell_type": "markdown",
   "id": "251a681a-ab73-4532-bddc-a244627ec4d7",
   "metadata": {},
   "source": [
    "### By.XPAThh"
   ]
  },
  {
   "cell_type": "code",
   "execution_count": null,
   "id": "bbae27d2-b16f-4727-85e8-06773d3b8f7a",
   "metadata": {},
   "outputs": [],
   "source": [
    "-- 예제 1 -->\n",
    "<div class=\"container\">\n",
    "    <h1>Welcome</h1>\n",
    "    <p>This is a container.</p>\n",
    "</div>\n",
    "\n",
    "<!-- 예제 2 -->\n",
    "<div class=\"product\">\n",
    "    <h2>Product Title</h2>\n",
    "    <p>Description here.</p>\n",
    "</div>\n",
    "\n",
    "<!-- 예제 3 -->\n",
    "<ul class=\"menu\">\n",
    "    <li><a href=\"#home\">Home</a></li>\n",
    "    <li><a href=\"#about\">About</a></li>\n",
    "</ul>\n",
    "\n",
    "<!-- 예제 4 -->\n",
    "<section class=\"banner\">\n",
    "    <h1>Special Offer!</h1>\n",
    "</section>\n",
    "\n",
    "<!-- 예제 5 -->\n",
    "<footer>\n",
    "    <p>(c) 2023 Example Company</p>\n",
    "</footer>"
   ]
  },
  {
   "cell_type": "code",
   "execution_count": null,
   "id": "8af8f2a3-d693-488f-b11f-b39ce764b76c",
   "metadata": {},
   "outputs": [],
   "source": [
    "drvier.find.element(By.XPATH,\"//div[@class'containrt']'\")\n",
    "drvier.find.element(By.XPATHvzdi,\"//[@class'containrt']\")  \n",
    "drvier.find.element(By.XPATH,\"ui[@class-'containrt']\")  \n",
    "drvier.find.element(By.XPATH,\"Go\")  \n",
    "drvier.find.element(By.XPATH,\"Go\")  \n"
   ]
  },
  {
   "cell_type": "markdown",
   "id": "82732a1b-9818-4be5-ad32-2dfd187334c7",
   "metadata": {},
   "source": [
    "### By.CSS_SELECTOR"
   ]
  },
  {
   "cell_type": "code",
   "execution_count": null,
   "id": "318ebc0d-4741-4725-9bac-1369c34372da",
   "metadata": {},
   "outputs": [],
   "source": [
    "<!-- 예제 1 -->\n",
    "<button class=\"submit\">Submit</button>\n",
    "<button class=\"cancel\">Cancel</button>\n",
    "\n",
    "<!-- 예제 2 -->\n",
    "<input type=\"text\" class=\"form-control\" placeholder=\"Enter text\">\n",
    "<input type=\"password\" class=\"form-control\" placeholder=\"Enter password\">\n",
    "\n",
    "<!-- 예제 3 -->\n",
    "<div class=\"alert alert-warning\">Warning! Check this.</div>\n",
    "<div class=\"alert alert-danger\">Error! Something went wrong.</div>\n",
    "\n",
    "<!-- 예제 4 -->\n",
    "<img class=\"profile-pic\" src=\"profile.jpg\" alt=\"Profile Picture\">\n",
    "\n",
    "<!-- 예제 5 -->\n",
    "<a class=\"nav-link\" href=\"#home\">Home</a>\n",
    "<a class=\"nav-link\" href=\"#about\">About</a>\n"
   ]
  },
  {
   "cell_type": "code",
   "execution_count": null,
   "id": "b12bde87-4dac-42e2-b6e7-5e7e49c918c1",
   "metadata": {},
   "outputs": [],
   "source": [
    "drvier.find.element(By.CSS_SELECTOR,\"button.submit\")\n",
    "drvier.find.element(By.CSS_SELECTOR,\"input.form-control[type='text']\")\n",
    "drvier.find.element(By.CSS_SELECTOR,\"div.alert.alert-waring\")\n",
    "drvier.find.element(By.CSS_SELECTOR,\"img.profile-pic\")\n",
    "drvier.find.element(By.CSS_SELECTOR,\"a.nav-link[href='#about']\")"
   ]
  },
  {
   "cell_type": "code",
   "execution_count": null,
   "id": "26aef2d3-8c67-4073-a40d-b051f48fe81e",
   "metadata": {},
   "outputs": [],
   "source": [
    "<html>\n",
    "    <head>\n",
    "        <title>업무자동화 공부하기</title>\n",
    "    </head>\n",
    "    <body>\n",
    "        <input type='text' value='아이디를 입력하세요.'>\n",
    "        <input type='password'>\n",
    "        <input type='button' value='로그인'>\n",
    "        <a href=\"http://naver.com\">네이버로 이동하기</a>\n",
    "        <div id=\"content\">\n",
    "            <h1 id ='title' class='about'>웹스크래핑 알아보기</h1>\n",
    "            <p>Beautiful Soup을 공부해보자</p>\n",
    "    </body>\n",
    "</html>"
   ]
  },
  {
   "cell_type": "code",
   "execution_count": null,
   "id": "a72ac85b-9af5-4eb0-b3f1-9dfc40637ee9",
   "metadata": {},
   "outputs": [],
   "source": [
    "drvier.find.element(By.XPATH,'/html/body/div/h1')"
   ]
  },
  {
   "cell_type": "code",
   "execution_count": null,
   "id": "c25c5a3e-d6c5-42bd-81df-03896a490da6",
   "metadata": {},
   "outputs": [],
   "source": [
    "drvier.find.element(By.XPATH,\"//h1[@class='about']\")"
   ]
  },
  {
   "cell_type": "code",
   "execution_count": null,
   "id": "756782c4-fcc7-40c6-ab40-76c5cdba317d",
   "metadata": {},
   "outputs": [],
   "source": [
    "drvier.find.element(By.XPATH,\"//h1*[@class='about']\")"
   ]
  },
  {
   "cell_type": "code",
   "execution_count": 21,
   "id": "ee4860c8-232c-4c25-9a5e-a9ca29c954b8",
   "metadata": {},
   "outputs": [],
   "source": [
    "from selenium import webdriver\n",
    "from selenium.webdriver.common.by import By\n",
    "from flask import Flask, render_template_string\n",
    "\n",
    "app = Flask(__name__)\n",
    "\n",
    "# 셀레니움 드라이버 설정\n",
    "def create_driver():\n",
    "    options = webdriver.ChromeOptions()\n",
    "    options.add_argument('--headless')  # 화면 숨김\n",
    "    options.add_argument('--no-sandbox')\n",
    "    options.add_argument('--disable-dev-shm-usage')\n",
    "    return webdriver.Chrome(options=options)\n",
    "\n",
    "# 네이버 뉴스 크롤링 함수\n",
    "def scrape_naver_news():\n",
    "    base_url = \"https://news.naver.com/\"\n",
    "    driver = create_driver()\n",
    "    driver.get(base_url)\n",
    "\n",
    "    news_data = []\n",
    "    try:\n",
    "        headlines = driver.find_elements(By.CSS_SELECTOR, \"div.cjs_news_tw\")\n",
    "        for headline in headlines[:10]:  # 상위 10개 뉴스만 가져옴\n",
    "            title_element = headline.find_element(By.CSS_SELECTOR, \"a\")\n",
    "            title = title_element.text\n",
    "            link = title_element.get_attribute(\"href\")\n",
    "            news_data.append({\"title\": title, \"link\": link})\n",
    "    except Exception as e:\n",
    "        print(f\"Error during scraping: {e}\")\n",
    "    finally:\n",
    "        driver.quit()\n",
    "\n",
    "    return news_data\n"
   ]
  },
  {
   "cell_type": "code",
   "execution_count": null,
   "id": "cd981e53-6483-4a88-ae23-083282905847",
   "metadata": {},
   "outputs": [],
   "source": []
  }
 ],
 "metadata": {
  "kernelspec": {
   "display_name": "Python 3 (ipykernel)",
   "language": "python",
   "name": "python3"
  },
  "language_info": {
   "codemirror_mode": {
    "name": "ipython",
    "version": 3
   },
   "file_extension": ".py",
   "mimetype": "text/x-python",
   "name": "python",
   "nbconvert_exporter": "python",
   "pygments_lexer": "ipython3",
   "version": "3.12.7"
  }
 },
 "nbformat": 4,
 "nbformat_minor": 5
}
