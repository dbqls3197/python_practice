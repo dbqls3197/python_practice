{
 "cells": [
  {
   "cell_type": "code",
   "execution_count": 1,
   "id": "f45355ef-967a-4ba3-b8e2-959bb17c2000",
   "metadata": {},
   "outputs": [
    {
     "name": "stdin",
     "output_type": "stream",
     "text": [
      " sad\n",
      " asd\n"
     ]
    },
    {
     "ename": "ValueError",
     "evalue": "invalid literal for int() with base 10: 'asd'",
     "output_type": "error",
     "traceback": [
      "\u001b[1;31m---------------------------------------------------------------------------\u001b[0m",
      "\u001b[1;31mValueError\u001b[0m                                Traceback (most recent call last)",
      "Cell \u001b[1;32mIn[1], line 2\u001b[0m\n\u001b[0;32m      1\u001b[0m S \u001b[38;5;241m=\u001b[39m \u001b[38;5;28mlist\u001b[39m(\u001b[38;5;28mmap\u001b[39m(\u001b[38;5;28mstr\u001b[39m,\u001b[38;5;28minput\u001b[39m()\u001b[38;5;241m.\u001b[39msplit()))\n\u001b[1;32m----> 2\u001b[0m i \u001b[38;5;241m=\u001b[39m \u001b[38;5;28mint\u001b[39m(\u001b[38;5;28minput\u001b[39m())\n\u001b[0;32m      3\u001b[0m i \u001b[38;5;241m=\u001b[39m i \u001b[38;5;241m-\u001b[39m\u001b[38;5;241m1\u001b[39m\n\u001b[0;32m      4\u001b[0m \u001b[38;5;28mprint\u001b[39m(S[\u001b[38;5;241m0\u001b[39m][i])\n",
      "\u001b[1;31mValueError\u001b[0m: invalid literal for int() with base 10: 'asd'"
     ]
    }
   ],
   "source": [
    "S = list(map(str,input().split()))\n",
    "i = int(input())\n",
    "i = i -1\n",
    "print(S[0][i])"
   ]
  },
  {
   "cell_type": "code",
   "execution_count": null,
   "id": "7013fc3b-8f9f-4698-9229-ec0abfacb681",
   "metadata": {},
   "outputs": [],
   "source": [
    "a = list(map(str,input().split()))\n",
    "print(len(*a))\n"
   ]
  },
  {
   "cell_type": "code",
   "execution_count": null,
   "id": "075f3d1e-3c53-4ed8-b6a7-5d66e0614549",
   "metadata": {},
   "outputs": [],
   "source": [
    "T = int(input())\n",
    "for _ in range(T):\n",
    "    a = str(input())\n",
    "    a = a.upper()\n",
    "    print(a[0],a[-1],sep=\"\")"
   ]
  },
  {
   "cell_type": "code",
   "execution_count": null,
   "id": "f5568dfb-771d-4fcf-8dd1-c037db96a277",
   "metadata": {},
   "outputs": [],
   "source": [
    "# input으로 받은 것을 아스키 코드로 변경(1글자만 입력해야함) (ord)\n",
    "a = input()\n",
    "chrr = ord(a)\n",
    "print(chrr)"
   ]
  },
  {
   "cell_type": "code",
   "execution_count": null,
   "id": "67ddbf4e-185c-4ed4-a07f-d7839ad9392a",
   "metadata": {},
   "outputs": [],
   "source": [
    "# 숫자나 문자를 아스키코드로 바꿔줌(chr)\n",
    "a = 90\n",
    "chrr = chr(a)\n",
    "print(chrr)"
   ]
  },
  {
   "cell_type": "code",
   "execution_count": null,
   "id": "b35ef8ff-f3d1-47bf-9f72-14c8eeb86852",
   "metadata": {},
   "outputs": [],
   "source": [
    "a = int(input())\n",
    "b = input()\n",
    "c = 0\n",
    "for i in range(a):\n",
    "    c = c+ int(b[i])\n",
    "print(c)"
   ]
  },
  {
   "cell_type": "code",
   "execution_count": null,
   "id": "70587a25-3d55-4574-b20f-37c450d8b3a7",
   "metadata": {},
   "outputs": [],
   "source": [
    "s = input()\n",
    "\n",
    "AlphaList = [-1] * 26\n",
    "\n",
    "for idx, char in enumerate(s):\n",
    "    if AlphaList[ord(char) - ord('a')] == -1:\n",
    "        AlphaList[ord(char) - ord('a')] = idx\n",
    "\n",
    "print(*AlphaList)"
   ]
  },
  {
   "cell_type": "code",
   "execution_count": null,
   "id": "00f67dd2-45b1-46ca-8a2a-b36efbad832b",
   "metadata": {},
   "outputs": [],
   "source": []
  },
  {
   "cell_type": "code",
   "execution_count": null,
   "id": "e9053c2c-ef0f-479f-b92a-130ccf955a17",
   "metadata": {},
   "outputs": [],
   "source": [
    "R = int(input())\n",
    "for i in range(R):\n",
    "    c = []\n",
    "    a,S= map(str,input().split())\n",
    "    sc = len(S)\n",
    "    d = int(a)\n",
    "    for b in range(sc):\n",
    "        q = S[b]*d\n",
    "        c.append(q)\n",
    "    print(''.join(c))\n"
   ]
  },
  {
   "cell_type": "code",
   "execution_count": null,
   "id": "61178bf7-4ce4-4397-9c3c-0fddc27d06ce",
   "metadata": {},
   "outputs": [],
   "source": [
    "a = list(input().split())\n",
    "print(len(a))"
   ]
  },
  {
   "cell_type": "code",
   "execution_count": null,
   "id": "099aeae8-0631-49cd-8b7c-0b6178259b87",
   "metadata": {},
   "outputs": [],
   "source": [
    "a,b = map(int,input().split())\n",
    "c = str(a)\n",
    "c = c[::-1]\n",
    "d = str(b)\n",
    "d = d[::-1]\n",
    "c = int(c)\n",
    "d = int(d)\n",
    "print(max(c,d))"
   ]
  },
  {
   "cell_type": "code",
   "execution_count": null,
   "id": "eeb63bc2-df32-4f55-9137-f65a829c5db8",
   "metadata": {},
   "outputs": [],
   "source": [
    "String = input()\n",
    "num = len(String)\n",
    "time = 0\n",
    "for x in range(num) :\n",
    "    alphabet = String[x]\n",
    "    if alphabet == \"A\" or alphabet == \"B\" or alphabet == \"C\" :\n",
    "        time = time + 3\n",
    "        \n",
    "    elif alphabet == \"D\" or alphabet == \"E\" or alphabet == \"F\" :\n",
    "        time = time + 4\n",
    "        \n",
    "    elif alphabet == \"G\" or alphabet == \"H\" or alphabet == \"I\" :\n",
    "        time = time + 5\n",
    "\n",
    "    elif alphabet == \"J\" or alphabet ==\"K\" or alphabet ==\"L\" :\n",
    "        time = time + 6\n",
    "\n",
    "    elif alphabet == \"M\" or alphabet ==\"N\" or alphabet ==\"O\" :\n",
    "        time = time + 7\n",
    "        \n",
    "    elif alphabet == \"P\" or alphabet ==\"Q\" or alphabet ==\"R\" or alphabet ==\"S\" :\n",
    "        time = time + 8\n",
    "        \n",
    "    elif alphabet == \"T\" or alphabet ==\"U\" or alphabet ==\"V\" :\n",
    "        time = time + 9\n",
    "        \n",
    "    elif alphabet == \"W\" or alphabet ==\"X\" or alphabet ==\"Y\" or alphabet ==\"Z\" :\n",
    "        time = time + 10\n",
    "        \n",
    "print(time)"
   ]
  },
  {
   "cell_type": "code",
   "execution_count": null,
   "id": "412b0659-3e6d-4e93-a206-afcd2c11b1db",
   "metadata": {},
   "outputs": [
    {
     "name": "stdin",
     "output_type": "stream",
     "text": [
      " asd\n"
     ]
    },
    {
     "name": "stdout",
     "output_type": "stream",
     "text": [
      "asd\n"
     ]
    },
    {
     "name": "stdin",
     "output_type": "stream",
     "text": [
      " asd\n"
     ]
    },
    {
     "name": "stdout",
     "output_type": "stream",
     "text": [
      "asd\n"
     ]
    },
    {
     "name": "stdin",
     "output_type": "stream",
     "text": [
      " dddd\n"
     ]
    },
    {
     "name": "stdout",
     "output_type": "stream",
     "text": [
      "dddd\n"
     ]
    },
    {
     "name": "stdin",
     "output_type": "stream",
     "text": [
      " ddd\n"
     ]
    },
    {
     "name": "stdout",
     "output_type": "stream",
     "text": [
      "ddd\n"
     ]
    },
    {
     "name": "stdin",
     "output_type": "stream",
     "text": [
      " dd\n"
     ]
    },
    {
     "name": "stdout",
     "output_type": "stream",
     "text": [
      "dd\n"
     ]
    },
    {
     "name": "stdin",
     "output_type": "stream",
     "text": [
      " dddd\n"
     ]
    },
    {
     "name": "stdout",
     "output_type": "stream",
     "text": [
      "dddd\n"
     ]
    },
    {
     "name": "stdin",
     "output_type": "stream",
     "text": [
      " ddd\n"
     ]
    },
    {
     "name": "stdout",
     "output_type": "stream",
     "text": [
      "ddd\n"
     ]
    }
   ],
   "source": [
    "while True:\n",
    "    try:\n",
    "        a = input()\n",
    "        print(a)\n",
    "    except EOFError:\n",
    "        break\n",
    "        "
   ]
  },
  {
   "cell_type": "code",
   "execution_count": null,
   "id": "983199f5-e2c3-4dd0-8a9d-829e84c009b4",
   "metadata": {},
   "outputs": [],
   "source": []
  }
 ],
 "metadata": {
  "kernelspec": {
   "display_name": "Python 3 (ipykernel)",
   "language": "python",
   "name": "python3"
  },
  "language_info": {
   "codemirror_mode": {
    "name": "ipython",
    "version": 3
   },
   "file_extension": ".py",
   "mimetype": "text/x-python",
   "name": "python",
   "nbconvert_exporter": "python",
   "pygments_lexer": "ipython3",
   "version": "3.12.7"
  }
 },
 "nbformat": 4,
 "nbformat_minor": 5
}
