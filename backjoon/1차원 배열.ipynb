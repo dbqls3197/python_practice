{
 "cells": [
  {
   "cell_type": "code",
   "execution_count": 60,
   "id": "93f3f33e-527e-4c74-a8bb-52213ea1f723",
   "metadata": {},
   "outputs": [
    {
     "name": "stdin",
     "output_type": "stream",
     "text": [
      " 5\n",
      " 1\n",
      " 2\n",
      " 3\n",
      " 4\n",
      " 5\n",
      " 1\n"
     ]
    },
    {
     "name": "stdout",
     "output_type": "stream",
     "text": [
      "1\n"
     ]
    }
   ],
   "source": [
    "N = int(input())\n",
    "a = []\n",
    "\n",
    "for i in range(N):\n",
    "    num = int(input())\n",
    "    a.append(num)\n",
    "\n",
    "V = int(input())\n",
    "\n",
    "c = 0\n",
    "\n",
    "for i in range(N):\n",
    "    if  V == i:\n",
    "        c = c +1\n",
    "print(c)"
   ]
  },
  {
   "cell_type": "code",
   "execution_count": 54,
   "id": "ac29f661-004c-46fc-ba25-328f5f36bb18",
   "metadata": {},
   "outputs": [
    {
     "name": "stdin",
     "output_type": "stream",
     "text": [
      " 1\n",
      " 1\n",
      " 1\n"
     ]
    },
    {
     "name": "stdout",
     "output_type": "stream",
     "text": [
      "1\n"
     ]
    }
   ],
   "source": [
    "N = int(input())\n",
    "numbers = list(map(int, input().split()))\n",
    "v = int(input())\n",
    "answer = 0\n",
    "\n",
    "for i in range(N):\n",
    "    if numbers[i] == v:\n",
    "        answer += 1\n",
    "\n",
    "print(answer)"
   ]
  },
  {
   "cell_type": "code",
   "execution_count": 106,
   "id": "050ea9c7-e5fd-4447-aa68-31fd38fdf39d",
   "metadata": {},
   "outputs": [
    {
     "name": "stdin",
     "output_type": "stream",
     "text": [
      " 1, 2, 3\n"
     ]
    },
    {
     "data": {
      "text/plain": [
       "[1, 2, 3]"
      ]
     },
     "execution_count": 106,
     "metadata": {},
     "output_type": "execute_result"
    }
   ],
   "source": [
    "#N,X =map(int,input().split())\n",
    "a = list(map(int, input().split(',')))\n",
    "a\n",
    "# for i in range(N):\n",
    "#     if X > a[i]:\n",
    "#         print(a[i],end=' ')\n",
    "\n",
    "    \n",
    "    "
   ]
  },
  {
   "cell_type": "code",
   "execution_count": 118,
   "id": "a77bc269-3999-47fc-9a37-0859a23c2671",
   "metadata": {},
   "outputs": [
    {
     "name": "stdin",
     "output_type": "stream",
     "text": [
      " 5\n",
      " 20 10 35 30 7\n"
     ]
    },
    {
     "name": "stdout",
     "output_type": "stream",
     "text": [
      "7 35\n"
     ]
    }
   ],
   "source": [
    "N = int(input())\n",
    "a = list(map(int, input().split()))\n",
    "b = min(a)\n",
    "d = max(a)\n",
    "print(b,d)"
   ]
  },
  {
   "cell_type": "code",
   "execution_count": 225,
   "id": "a84960cf-8f9e-41d3-bca0-aaec4cbe9bf2",
   "metadata": {},
   "outputs": [
    {
     "name": "stdin",
     "output_type": "stream",
     "text": [
      " 1\n",
      " 2\n",
      " 3\n",
      " 4\n",
      " 5\n",
      " 6\n",
      " \n"
     ]
    },
    {
     "name": "stdout",
     "output_type": "stream",
     "text": [
      "6\n",
      "6\n"
     ]
    }
   ],
   "source": [
    "b= []\n",
    "while True:\n",
    "    try:\n",
    "        a = int(input())\n",
    "        b.append(a)\n",
    "    except:\n",
    "        break\n",
    "print(max(b))\n",
    "c = b.index(max(b)) + 1\n",
    "print(c)\n",
    "    \n",
    "        "
   ]
  },
  {
   "cell_type": "code",
   "execution_count": 231,
   "id": "40398266-daa2-4abc-b7f9-1d1e2dfd783e",
   "metadata": {},
   "outputs": [
    {
     "name": "stdin",
     "output_type": "stream",
     "text": [
      " 5 4\n",
      " 1 2 3\n",
      " 3 4 4\n",
      " 1 4 1\n",
      " 2 2 2\n"
     ]
    },
    {
     "name": "stdout",
     "output_type": "stream",
     "text": [
      "1 2 1 1 0\n"
     ]
    }
   ],
   "source": [
    "N, M = map(int, input().split())  \n",
    "baskets = [0] * (N + 1)\n",
    "\n",
    "for _ in range(M):\n",
    "    i, j, k = map(int, input().split())\n",
    "    for idx in range(i, j + 1):\n",
    "        baskets[idx] = k  \n",
    "\n",
    "print(\" \".join(map(str, baskets[1:])))"
   ]
  },
  {
   "cell_type": "code",
   "execution_count": 263,
   "id": "d8939c87-7a02-4f1b-a1ac-07e0b75549b9",
   "metadata": {},
   "outputs": [
    {
     "name": "stdin",
     "output_type": "stream",
     "text": [
      " 5 4\n",
      " 1 2 3\n",
      " 3 4 4\n",
      " 1 4 1\n",
      " 2 2 2\n"
     ]
    },
    {
     "name": "stdout",
     "output_type": "stream",
     "text": [
      "1 2 1 1 0\n"
     ]
    }
   ],
   "source": [
    "N, M = map(int, input().split())  \n",
    "baskets = [0] * (N + 1)\n",
    "\n",
    "for _ in range(M):\n",
    "    i, j, k = map(int, input().split())\n",
    "    for idx in range(i, j + 1):\n",
    "        baskets[idx] = k  \n",
    "\n",
    "print(*baskets[1:])\n"
   ]
  },
  {
   "cell_type": "code",
   "execution_count": 343,
   "id": "f3c4cdbb-d5ba-446e-975a-2796cdf2fed9",
   "metadata": {},
   "outputs": [
    {
     "name": "stdin",
     "output_type": "stream",
     "text": [
      " 5 4\n",
      " 1 2\n",
      " 3 4\n",
      " 1 4\n",
      " 2 2\n"
     ]
    },
    {
     "name": "stdout",
     "output_type": "stream",
     "text": [
      "3 1 4 2 5\n"
     ]
    }
   ],
   "source": [
    "N, M = map(int, input().split())\n",
    "a = []\n",
    "for q in range(N):\n",
    "    a.append(q + 1)\n",
    "for i in range(M):\n",
    "    c, d = map(int,input().split())\n",
    "    e = a[c-1]\n",
    "    a[c-1] = a[d-1]\n",
    "    a[d-1] = e\n",
    "print(*a)\n"
   ]
  },
  {
   "cell_type": "code",
   "execution_count": 347,
   "id": "1e5971cf-2446-469c-bcf4-3d354ffcccdd",
   "metadata": {},
   "outputs": [
    {
     "name": "stdin",
     "output_type": "stream",
     "text": [
      " 5 4\n",
      " 1 2\n",
      " 3 4\n",
      " 1 4\n",
      " 2 2\n"
     ]
    },
    {
     "name": "stdout",
     "output_type": "stream",
     "text": [
      "3 1 4 2 5\n"
     ]
    }
   ],
   "source": [
    "N, M = map(int, input().split())\n",
    "a = []\n",
    "for q in range(N):\n",
    "    a.append(q+1)\n",
    "for i in range(M):\n",
    "    c, d = map(int,input().split())\n",
    "    e = a[c-1]\n",
    "    a[c-1] = a[d-1]\n",
    "    a[d-1] = e\n",
    "print(*a)"
   ]
  },
  {
   "cell_type": "code",
   "execution_count": 83,
   "id": "82325332-8d39-48a3-bc61-19b7d9775e13",
   "metadata": {},
   "outputs": [
    {
     "name": "stdin",
     "output_type": "stream",
     "text": [
      " 9\n",
      " 30\n",
      " 6\n",
      " 12\n",
      " 10\n",
      " 20\n",
      " 21\n",
      " 11\n",
      " 7\n",
      " 5\n",
      " 28\n",
      " 4\n",
      " 18\n",
      " 29\n",
      " 17\n",
      " 19\n",
      " 27\n",
      " 13\n",
      " 16\n",
      " 26\n",
      " 14\n",
      " 23\n",
      " 2\n",
      " 15\n",
      " 3\n",
      " 1\n",
      " 24\n",
      " 25\n"
     ]
    },
    {
     "name": "stdout",
     "output_type": "stream",
     "text": [
      "8\n",
      "22\n"
     ]
    }
   ],
   "source": [
    "b = []\n",
    "d = []\n",
    "for i in range(28):\n",
    "    a = int(input())\n",
    "    b.append(a)\n",
    "for e in range(1,31):\n",
    "    d.append(e)\n",
    "d = list(set(d) - set(b))\n",
    "print(min(d))\n",
    "print(max(d))\n",
    "    \n",
    "\n",
    "    \n",
    "    "
   ]
  },
  {
   "cell_type": "code",
   "execution_count": 155,
   "id": "985afcac-3aa6-4c8e-96be-ef35eedbfdb4",
   "metadata": {},
   "outputs": [
    {
     "name": "stdin",
     "output_type": "stream",
     "text": [
      " 39\n",
      " 40\n",
      " 41\n",
      " 42\n",
      " 43\n",
      " 44\n",
      " 82\n",
      " 83\n",
      " 84\n",
      " 85\n"
     ]
    },
    {
     "name": "stdout",
     "output_type": "stream",
     "text": [
      "6\n"
     ]
    }
   ],
   "source": [
    "A = []\n",
    "B = []\n",
    "for i in range(10):\n",
    "    c = int(input())\n",
    "    A.append(c)\n",
    "\n",
    "for e in range(10):\n",
    "    d = A[e] % 42\n",
    "    B.append(d)\n",
    "F = list(set(B))\n",
    "print(len(F))"
   ]
  },
  {
   "cell_type": "code",
   "execution_count": null,
   "id": "8600c0d7-3af0-41c3-88be-a25fc1495cde",
   "metadata": {},
   "outputs": [],
   "source": []
  },
  {
   "cell_type": "code",
   "execution_count": null,
   "id": "0c94eb61-46ca-44ce-a673-18849e4b3c59",
   "metadata": {},
   "outputs": [],
   "source": []
  },
  {
   "cell_type": "code",
   "execution_count": 42,
   "id": "71f47cb3-660b-4acc-aa21-bb88ad0df574",
   "metadata": {},
   "outputs": [
    {
     "name": "stdin",
     "output_type": "stream",
     "text": [
      " 5 4\n",
      " 1 2\n",
      " 3 4\n",
      " 1 4\n",
      " 2 2\n"
     ]
    },
    {
     "name": "stdout",
     "output_type": "stream",
     "text": [
      "3 4 1 2 5\n"
     ]
    }
   ],
   "source": [
    "N,M = map(int, input().split())\n",
    "A = []\n",
    "for _ in range(N):\n",
    "    A.append(N)\n",
    "    N = N -1\n",
    "    A.sort(reverse=False)\n",
    "for _ in range(M):\n",
    "    i,j = map(int, input().split())\n",
    "    A[i-1:j] = A[i-1:j][::-1]\n",
    "print(*A)\n",
    "           "
   ]
  },
  {
   "cell_type": "code",
   "execution_count": 85,
   "id": "2a33ffa1-c877-43b0-a1ff-2bcff1e50371",
   "metadata": {},
   "outputs": [
    {
     "name": "stdin",
     "output_type": "stream",
     "text": [
      " 4\n",
      " 1 100 100 100\n"
     ]
    },
    {
     "name": "stdout",
     "output_type": "stream",
     "text": [
      "75.25\n"
     ]
    }
   ],
   "source": [
    "a = int(input())\n",
    "b = list(map(int,input().split()))\n",
    "c = max(b)\n",
    "e = 0\n",
    "for i in range(a):\n",
    "    d = b[i] / c * 100\n",
    "    e = e + d\n",
    "q = e/a\n",
    "z = round(q,2)\n",
    "print(z)\n",
    "\n",
    "\n",
    "\n"
   ]
  },
  {
   "cell_type": "code",
   "execution_count": 37,
   "id": "d9e33bb5-5e65-4291-bf10-0aada772d938",
   "metadata": {},
   "outputs": [
    {
     "name": "stdout",
     "output_type": "stream",
     "text": [
      "1반 전체 점수: [85 90 75 88]\n",
      "1반 전체 인원: 4 명\n",
      "1반 전체 합계: 338\n",
      "1반 전체 합계: 84.5\n",
      "각 반의 첫번째 학생: [85 92 89]\n",
      "각 반의 첫번째 학생 합계: 266\n",
      "각 반의 첫번째 학생 평균: 88.66666666666667\n"
     ]
    }
   ],
   "source": [
    "import numpy as np\n",
    "\n",
    "# 1. 학생들의 시험 점수 분석 (3반,4명의 학생)\n",
    "scores =np.array([[85,90,75,88], \n",
    "                  [92,86,78,95],\n",
    "                  [89,91,84,82]])\n",
    "print(\"1반 전체 점수:\",scores[0])\n",
    "print(\"1반 전체 인원:\",len(scores[0]),'명')\n",
    "print(\"1반 전체 합계:\",np.sum(scores[0]))\n",
    "print(\"1반 전체 합계:\",np.mean(scores[0]))\n",
    "\n",
    "print(\"각 반의 첫번째 학생:\",scores[:,0])\n",
    "print(\"각 반의 첫번째 학생 합계:\",np.sum(scores[:,0]))\n",
    "print(\"각 반의 첫번째 학생 평균:\",np.mean(scores[:,0]))"
   ]
  },
  {
   "cell_type": "code",
   "execution_count": 39,
   "id": "fd17d695-afe4-4392-8215-9834fcef9980",
   "metadata": {},
   "outputs": [
    {
     "name": "stdout",
     "output_type": "stream",
     "text": [
      "[15]\n"
     ]
    }
   ],
   "source": [
    "# 재고관리\n",
    "import numpy as np\n",
    "inventory =np.array([[50,30,20,40],   # 서울 지점\n",
    "                     [45,25,15,35],   # 부산 지점\n",
    "                     [55,35,25,45]])  # 강릉 지점\n",
    "low_stock = inventory[inventory<20]\n",
    "print(low_stock)"
   ]
  },
  {
   "cell_type": "code",
   "execution_count": 51,
   "id": "3fd56883-6c81-483e-a2b9-4775221429c4",
   "metadata": {},
   "outputs": [
    {
     "name": "stdout",
     "output_type": "stream",
     "text": [
      "[(1, 2)]\n"
     ]
    }
   ],
   "source": [
    "low_stock1 =np.where(inventory < 20)\n",
    "print(list(zip(low_stock1[0],low_stock1[1])))"
   ]
  },
  {
   "cell_type": "code",
   "execution_count": null,
   "id": "7dbfe019-01f7-4202-b858-ec4c3662a054",
   "metadata": {},
   "outputs": [],
   "source": []
  }
 ],
 "metadata": {
  "kernelspec": {
   "display_name": "Python 3 (ipykernel)",
   "language": "python",
   "name": "python3"
  },
  "language_info": {
   "codemirror_mode": {
    "name": "ipython",
    "version": 3
   },
   "file_extension": ".py",
   "mimetype": "text/x-python",
   "name": "python",
   "nbconvert_exporter": "python",
   "pygments_lexer": "ipython3",
   "version": "3.12.7"
  }
 },
 "nbformat": 4,
 "nbformat_minor": 5
}
