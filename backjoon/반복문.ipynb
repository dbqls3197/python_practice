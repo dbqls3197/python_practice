{
 "cells": [
  {
   "cell_type": "code",
   "execution_count": 2,
   "id": "d677ba97-95f0-4566-8a4a-87672561f16d",
   "metadata": {},
   "outputs": [
    {
     "name": "stdin",
     "output_type": "stream",
     "text": [
      " 1\n"
     ]
    },
    {
     "name": "stdout",
     "output_type": "stream",
     "text": [
      "1 * 1 = 1\n",
      "1 * 2 = 2\n",
      "1 * 3 = 3\n",
      "1 * 4 = 4\n",
      "1 * 5 = 5\n",
      "1 * 6 = 6\n",
      "1 * 7 = 7\n",
      "1 * 8 = 8\n",
      "1 * 9 = 9\n"
     ]
    }
   ],
   "source": [
    "n = int(input())\n",
    "b = 1\n",
    "while b < 10 :\n",
    "    print(n,\"*\", b, \"=\",int(n*b))\n",
    "    b = b +1\n",
    "   \n",
    "        \n",
    "    "
   ]
  },
  {
   "cell_type": "code",
   "execution_count": 10,
   "id": "14a2adfe-3186-4c6b-b1c3-1e1a85d7b0c7",
   "metadata": {},
   "outputs": [
    {
     "name": "stdin",
     "output_type": "stream",
     "text": [
      " 1\n",
      " 1 2\n"
     ]
    },
    {
     "name": "stdout",
     "output_type": "stream",
     "text": [
      "3\n"
     ]
    }
   ],
   "source": [
    "t = int(input())\n",
    "while True:\n",
    "    a,b = map(int,input().split())\n",
    "    print(a + b)\n",
    "    t = t -1\n",
    "    if t == 0:\n",
    "        break"
   ]
  },
  {
   "cell_type": "code",
   "execution_count": 8,
   "id": "a5fd29fc-bac2-4d60-a329-e0a45838e10f",
   "metadata": {},
   "outputs": [
    {
     "name": "stdin",
     "output_type": "stream",
     "text": [
      " 1\n"
     ]
    },
    {
     "name": "stdout",
     "output_type": "stream",
     "text": [
      "1\n"
     ]
    }
   ],
   "source": [
    "n = int(input())\n",
    "b = 0\n",
    "while True:\n",
    "    b =  b + n\n",
    "    n = n - 1\n",
    "    if n == 0:\n",
    "        break\n",
    "print(b)"
   ]
  },
  {
   "cell_type": "code",
   "execution_count": null,
   "id": "4d1f87cc-ebbb-4666-823f-522b7600dbba",
   "metadata": {},
   "outputs": [],
   "source": [
    "x = int(input())\n",
    "n = int(input())\n",
    "if 1 <= x <= 1000000000 and 1 < n < 100:\n",
    "    c = 0\n",
    "    for i in range(n):\n",
    "        a,b = map(int,input().split())\n",
    "        if 1 <= a <= 1000000 and 1 <= b <= 10:\n",
    "            c += a * b\n",
    "    if x == c:\n",
    "        print(\"YES\")\n",
    "    else:\n",
    "        print(\"NO\")\n"
   ]
  },
  {
   "cell_type": "code",
   "execution_count": null,
   "id": "0631de41-3c28-4634-ab22-bb24ff8dd962",
   "metadata": {},
   "outputs": [],
   "source": [
    "X = int(input())\n",
    "N = int(input())\n",
    "\n",
    "\n",
    "if 1 <= X <= 1000000000 and 1 <= N <= 100:\n",
    "    c=0\n",
    "    for i in range(N):\n",
    "        a, b = map(int,input().split())\n",
    "        if 1 <= a <= 1000000 and 1 <= b <= 10:\n",
    "            c +=  a*b\n",
    "    if c == X:\n",
    "        print(\"Yes\")\n",
    "    else:\n",
    "        print(\"No\")"
   ]
  },
  {
   "cell_type": "code",
   "execution_count": null,
   "id": "68f000d9-d805-4bc7-a791-018d797c3a29",
   "metadata": {},
   "outputs": [],
   "source": [
    "N = int(input())\n",
    "if N % 4 ==0:\n",
    "    print(N//4*\"long \",\"int\", sep = '')\n",
    "\n",
    "   "
   ]
  },
  {
   "cell_type": "code",
   "execution_count": 6,
   "id": "6da6989c-4217-476d-9ece-167895d1ea8c",
   "metadata": {},
   "outputs": [],
   "source": [
    "#못 푼 문제\n",
    "import sys\n",
    "try:\n",
    "    T = int(sys.stdin.readline().rstrip())\n",
    "    for i in range(T):\n",
    "        a, b = map(int,sys.stdin.readline().rstrip().split())\n",
    "        print(a+b)\n",
    "except ValueError:\n",
    "    pass"
   ]
  },
  {
   "cell_type": "code",
   "execution_count": 46,
   "id": "09a63f3e-7fdb-40f1-9fbf-5bef5bce2edc",
   "metadata": {},
   "outputs": [
    {
     "name": "stdin",
     "output_type": "stream",
     "text": [
      " 2\n",
      " 5\n",
      " 5\n"
     ]
    },
    {
     "name": "stdout",
     "output_type": "stream",
     "text": [
      "Case #1: 10\n"
     ]
    },
    {
     "name": "stdin",
     "output_type": "stream",
     "text": [
      " 5\n",
      " 5\n"
     ]
    },
    {
     "name": "stdout",
     "output_type": "stream",
     "text": [
      "Case #2: 10\n"
     ]
    }
   ],
   "source": [
    "T = int(input())\n",
    "for i in range(T):\n",
    "    a,b = map(int,input().split())\n",
    "    print(f'Case #{i+1}: {a + b}')"
   ]
  },
  {
   "cell_type": "code",
   "execution_count": 14,
   "id": "e271ac5e-c91a-4661-ae8f-15932d8368c6",
   "metadata": {},
   "outputs": [
    {
     "name": "stdin",
     "output_type": "stream",
     "text": [
      " 5\n",
      " 1 1\n"
     ]
    },
    {
     "name": "stdout",
     "output_type": "stream",
     "text": [
      "Case #1: 1 + 1 = 2\n"
     ]
    },
    {
     "name": "stdin",
     "output_type": "stream",
     "text": [
      " 2 3\n"
     ]
    },
    {
     "name": "stdout",
     "output_type": "stream",
     "text": [
      "Case #2: 2 + 3 = 5\n"
     ]
    },
    {
     "name": "stdin",
     "output_type": "stream",
     "text": [
      " 3 4\n"
     ]
    },
    {
     "name": "stdout",
     "output_type": "stream",
     "text": [
      "Case #3: 3 + 4 = 7\n"
     ]
    },
    {
     "name": "stdin",
     "output_type": "stream",
     "text": [
      " 9 8\n"
     ]
    },
    {
     "name": "stdout",
     "output_type": "stream",
     "text": [
      "Case #4: 9 + 8 = 17\n"
     ]
    },
    {
     "name": "stdin",
     "output_type": "stream",
     "text": [
      " 5 2\n"
     ]
    },
    {
     "name": "stdout",
     "output_type": "stream",
     "text": [
      "Case #5: 5 + 2 = 7\n"
     ]
    }
   ],
   "source": [
    "T = int(input())\n",
    "for i in range(T):\n",
    "    a,b = map(int,input().split())\n",
    "    print(f'Case #{i+1}: {a} + {b} = {a + b}')"
   ]
  },
  {
   "cell_type": "code",
   "execution_count": 138,
   "id": "13e5b487-304e-4165-b2da-4d6f20996b38",
   "metadata": {},
   "outputs": [
    {
     "name": "stdin",
     "output_type": "stream",
     "text": [
      " 5\n"
     ]
    },
    {
     "name": "stdout",
     "output_type": "stream",
     "text": [
      "     \n",
      "    *\n",
      "   **\n",
      "  ***\n",
      " ****\n",
      "*****\n",
      "******\n"
     ]
    }
   ],
   "source": [
    "N = int(input())\n",
    "for i in range(N):\n",
    "    print(\" \"*(N-i),\"*\"*(i),sep=\"\")"
   ]
  },
  {
   "cell_type": "code",
   "execution_count": 124,
   "id": "2595fa6e-9e07-4549-8c92-48cda0484343",
   "metadata": {},
   "outputs": [
    {
     "name": "stdin",
     "output_type": "stream",
     "text": [
      " 5\n"
     ]
    },
    {
     "name": "stdout",
     "output_type": "stream",
     "text": [
      "    *\n",
      "   **\n",
      "  ***\n",
      " ****\n",
      "*****\n"
     ]
    }
   ],
   "source": [
    "N=int(input())\n",
    "\n",
    "for i in range(1,N+1):\n",
    "    print(\" \"*(N-i),\"*\"*(i),sep=\"\")"
   ]
  },
  {
   "cell_type": "code",
   "execution_count": 186,
   "id": "14f5ca79-0bab-415a-ac6a-560888f03d72",
   "metadata": {},
   "outputs": [
    {
     "name": "stdin",
     "output_type": "stream",
     "text": [
      " 1 1\n"
     ]
    },
    {
     "name": "stdout",
     "output_type": "stream",
     "text": [
      "2\n"
     ]
    },
    {
     "name": "stdin",
     "output_type": "stream",
     "text": [
      " 1 1\n"
     ]
    },
    {
     "name": "stdout",
     "output_type": "stream",
     "text": [
      "2\n"
     ]
    },
    {
     "name": "stdin",
     "output_type": "stream",
     "text": [
      " 1 1\n"
     ]
    },
    {
     "name": "stdout",
     "output_type": "stream",
     "text": [
      "2\n"
     ]
    },
    {
     "name": "stdin",
     "output_type": "stream",
     "text": [
      " 0 0\n"
     ]
    }
   ],
   "source": [
    "while True:\n",
    "    a,b = map(int,input().split())\n",
    "    if a + b == 0:\n",
    "        break\n",
    "    else:\n",
    "        print(a + b)\n"
   ]
  },
  {
   "cell_type": "code",
   "execution_count": 190,
   "id": "e173d2e4-de3e-4a3b-b8ad-d2e62a64070d",
   "metadata": {},
   "outputs": [
    {
     "name": "stdin",
     "output_type": "stream",
     "text": [
      " 5 5\n"
     ]
    },
    {
     "name": "stdout",
     "output_type": "stream",
     "text": [
      "10\n"
     ]
    },
    {
     "name": "stdin",
     "output_type": "stream",
     "text": [
      " 5 5\n"
     ]
    },
    {
     "name": "stdout",
     "output_type": "stream",
     "text": [
      "10\n"
     ]
    },
    {
     "name": "stdin",
     "output_type": "stream",
     "text": [
      " 0\n"
     ]
    }
   ],
   "source": [
    "while True:\n",
    "    try:\n",
    "        a,b = map(int,input().split())\n",
    "        print(a + b)\n",
    "\n",
    "    except:\n",
    "        break\n"
   ]
  },
  {
   "cell_type": "code",
   "execution_count": null,
   "id": "fed684dd-d3dd-4334-8807-5ee5cd3a1ca0",
   "metadata": {},
   "outputs": [],
   "source": []
  }
 ],
 "metadata": {
  "kernelspec": {
   "display_name": "Python 3 (ipykernel)",
   "language": "python",
   "name": "python3"
  },
  "language_info": {
   "codemirror_mode": {
    "name": "ipython",
    "version": 3
   },
   "file_extension": ".py",
   "mimetype": "text/x-python",
   "name": "python",
   "nbconvert_exporter": "python",
   "pygments_lexer": "ipython3",
   "version": "3.12.7"
  }
 },
 "nbformat": 4,
 "nbformat_minor": 5
}
