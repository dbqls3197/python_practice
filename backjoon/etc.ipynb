{
 "cells": [
  {
   "cell_type": "code",
   "execution_count": 31,
   "id": "acb61a6d-018e-49b9-adb2-d91367c4fb39",
   "metadata": {},
   "outputs": [
    {
     "name": "stdin",
     "output_type": "stream",
     "text": [
      " 5\n",
      " asd\n",
      " sad\n",
      " asd\n",
      " as\n",
      " q\n"
     ]
    },
    {
     "name": "stdout",
     "output_type": "stream",
     "text": [
      "q as asd sad\n"
     ]
    }
   ],
   "source": [
    "# 단어정렬\n",
    "a = int(input())\n",
    "b = []\n",
    "for i in range(a):\n",
    "    c = str(input())\n",
    "    b.append(c)\n",
    "d = sorted(set(b), key=lambda x: (len(x), x))\n",
    "print(*d)"
   ]
  },
  {
   "cell_type": "code",
   "execution_count": null,
   "id": "701ec70f-ce21-4184-a41f-b1d19ce53261",
   "metadata": {},
   "outputs": [],
   "source": [
    "# 수 정렬하기 3\n"
   ]
  }
 ],
 "metadata": {
  "kernelspec": {
   "display_name": "Python 3 (ipykernel)",
   "language": "python",
   "name": "python3"
  },
  "language_info": {
   "codemirror_mode": {
    "name": "ipython",
    "version": 3
   },
   "file_extension": ".py",
   "mimetype": "text/x-python",
   "name": "python",
   "nbconvert_exporter": "python",
   "pygments_lexer": "ipython3",
   "version": "3.12.7"
  }
 },
 "nbformat": 4,
 "nbformat_minor": 5
}
