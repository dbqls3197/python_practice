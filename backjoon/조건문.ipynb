{
 "cells": [
  {
   "cell_type": "code",
   "execution_count": 73,
   "id": "dbd8ad11-c162-4bad-8947-b50a6f8c9528",
   "metadata": {},
   "outputs": [
    {
     "name": "stdin",
     "output_type": "stream",
     "text": [
      " 12 12\n"
     ]
    },
    {
     "name": "stdout",
     "output_type": "stream",
     "text": [
      "11 27\n"
     ]
    }
   ],
   "source": [
    "h, m = map(int,input().split())\n",
    "a = 45\n",
    "m = m - a\n",
    "if m < 0:\n",
    "    h = h-1\n",
    "    m = m + 60\n",
    "    if h < 0:\n",
    "        h = h + 24\n",
    "print(h,m)"
   ]
  },
  {
   "cell_type": "code",
   "execution_count": 71,
   "id": "7d8725d9-f9fa-4d41-9653-3df1205845f3",
   "metadata": {},
   "outputs": [
    {
     "name": "stdin",
     "output_type": "stream",
     "text": [
      " 14 20\n",
      " 800\n"
     ]
    },
    {
     "name": "stdout",
     "output_type": "stream",
     "text": [
      "3 40\n"
     ]
    }
   ],
   "source": [
    "h, m = map(int,input().split())\n",
    "a = int(input())\n",
    "c = (m + a) %  60\n",
    "h = h + int((m + a) / 60)\n",
    "if h >= 24:\n",
    "    h = h - 24\n",
    "print(h,c)"
   ]
  },
  {
   "cell_type": "code",
   "execution_count": 150,
   "id": "788ecdb8-435c-494c-ad61-bc7406cd3722",
   "metadata": {},
   "outputs": [
    {
     "name": "stdin",
     "output_type": "stream",
     "text": [
      " 1 2 1\n"
     ]
    },
    {
     "name": "stdout",
     "output_type": "stream",
     "text": [
      "1100\n"
     ]
    }
   ],
   "source": [
    "a,b,c = map(int,input().split())\n",
    "if  a != b and b != c and a != c:\n",
    "    d = max(a, b, c) * 100\n",
    "    print(d)\n",
    "elif a == b == c:\n",
    "    f = 10000 + (a * 1000)\n",
    "    print(f)    \n",
    "else:\n",
    "    if a == b :\n",
    "        print(1000 + a * 100)\n",
    "    elif a == c:\n",
    "        print(1000 + a * 100)\n",
    "    else:\n",
    "        print(1000 + b * 100)"
   ]
  },
  {
   "cell_type": "code",
   "execution_count": null,
   "id": "2b622df7-8415-497d-85f8-dbbd0827df6c",
   "metadata": {},
   "outputs": [],
   "source": []
  }
 ],
 "metadata": {
  "kernelspec": {
   "display_name": "Python 3 (ipykernel)",
   "language": "python",
   "name": "python3"
  },
  "language_info": {
   "codemirror_mode": {
    "name": "ipython",
    "version": 3
   },
   "file_extension": ".py",
   "mimetype": "text/x-python",
   "name": "python",
   "nbconvert_exporter": "python",
   "pygments_lexer": "ipython3",
   "version": "3.12.7"
  }
 },
 "nbformat": 4,
 "nbformat_minor": 5
}
