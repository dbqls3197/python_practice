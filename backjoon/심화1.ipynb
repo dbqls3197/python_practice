{
 "cells": [
  {
   "cell_type": "code",
   "execution_count": 1,
   "id": "f7b7e7f8-8880-4a0c-a55d-883f07d48194",
   "metadata": {},
   "outputs": [
    {
     "name": "stdout",
     "output_type": "stream",
     "text": [
      "         ,r'\"7\n",
      "r`-_   ,'  ,/\n",
      " \\. \". L_r'\n",
      "   `~\\/\n",
      "      |\n",
      "      |\n"
     ]
    }
   ],
   "source": [
    "a=r'''         ,r'\"7\n",
    "r`-_   ,'  ,/\n",
    " \\. \". L_r'\n",
    "   `~\\/\n",
    "      |\n",
    "      |'''\n",
    "print(a)"
   ]
  },
  {
   "cell_type": "code",
   "execution_count": 2,
   "id": "ac154db6-83e2-41c6-9584-909290c249ce",
   "metadata": {},
   "outputs": [
    {
     "name": "stdin",
     "output_type": "stream",
     "text": [
      " 1\n"
     ]
    },
    {
     "ename": "ValueError",
     "evalue": "not enough values to unpack (expected 6, got 1)",
     "output_type": "error",
     "traceback": [
      "\u001b[1;31m---------------------------------------------------------------------------\u001b[0m",
      "\u001b[1;31mValueError\u001b[0m                                Traceback (most recent call last)",
      "Cell \u001b[1;32mIn[2], line 1\u001b[0m\n\u001b[1;32m----> 1\u001b[0m a,b,c,d,e,f \u001b[38;5;241m=\u001b[39m \u001b[38;5;28mmap\u001b[39m(\u001b[38;5;28mint\u001b[39m,\u001b[38;5;28minput\u001b[39m()\u001b[38;5;241m.\u001b[39msplit())\n\u001b[0;32m      2\u001b[0m g \u001b[38;5;241m=\u001b[39m \u001b[38;5;241m1\u001b[39m\n\u001b[0;32m      3\u001b[0m i \u001b[38;5;241m=\u001b[39m \u001b[38;5;241m2\u001b[39m\n",
      "\u001b[1;31mValueError\u001b[0m: not enough values to unpack (expected 6, got 1)"
     ]
    }
   ],
   "source": [
    "a,b,c,d,e,f = map(int,input().split())\n",
    "g = 1\n",
    "i = 2\n",
    "l = 8\n",
    "print(g-a,g-b,i-c,i-d,i-e,l-f)"
   ]
  },
  {
   "cell_type": "code",
   "execution_count": 9,
   "id": "17c03fbf-796f-4604-a9b4-2bcda8282b2b",
   "metadata": {},
   "outputs": [
    {
     "name": "stdin",
     "output_type": "stream",
     "text": [
      " 5\n"
     ]
    },
    {
     "name": "stdout",
     "output_type": "stream",
     "text": [
      "    *\n",
      "   ***\n",
      "  *****\n",
      " *******\n",
      "*********\n",
      " *******\n",
      "  *****\n",
      "   ***\n",
      "    *\n"
     ]
    }
   ],
   "source": [
    "N = int(input())\n",
    "for i in range(N):\n",
    "    print(' '*(N-i-1) + '*'*(2*i+1))\n",
    "for i in range(N-1,0,-1):\n",
    "    print(' '*(N-i) + '*'*(2*i-1))"
   ]
  },
  {
   "cell_type": "code",
   "execution_count": 11,
   "id": "fd1bb0bb-f664-43b1-a9bd-d0a67dfc7260",
   "metadata": {},
   "outputs": [
    {
     "name": "stdin",
     "output_type": "stream",
     "text": [
      " 5\n"
     ]
    },
    {
     "name": "stdout",
     "output_type": "stream",
     "text": [
      "    *\n",
      "   ***\n",
      "  *****\n",
      " *******\n",
      "*********\n",
      " *******\n",
      "  *****\n",
      "   ***\n",
      "    *\n"
     ]
    }
   ],
   "source": [
    "N = int(input())\n",
    "for i in range(N):\n",
    "    print(' '*(N-i-1) , '*'*(2*i+1),sep=\"\")\n",
    "for i in range(N-1,0,-1):\n",
    "    print(' '*(N-i) , '*'*(2*i-1),sep=\"\")"
   ]
  },
  {
   "cell_type": "code",
   "execution_count": 13,
   "id": "b842efdc-10a1-4a10-846b-d3435da77d42",
   "metadata": {},
   "outputs": [
    {
     "name": "stdin",
     "output_type": "stream",
     "text": [
      " 5\n"
     ]
    },
    {
     "name": "stdout",
     "output_type": "stream",
     "text": [
      "1\n"
     ]
    }
   ],
   "source": [
    "a = str(input())\n",
    "b = a[::-1]\n",
    "if a == b:\n",
    "    print(1)\n",
    "else:\n",
    "    print(0)"
   ]
  },
  {
   "cell_type": "code",
   "execution_count": 15,
   "id": "9660f78b-cb7c-44cf-85c6-cacfe8d3c03b",
   "metadata": {},
   "outputs": [
    {
     "name": "stdin",
     "output_type": "stream",
     "text": [
      " 5\n"
     ]
    },
    {
     "name": "stdout",
     "output_type": "stream",
     "text": [
      "5\n"
     ]
    }
   ],
   "source": [
    "a = list(input().upper())\n",
    "count ={}\n",
    "for i in a:\n",
    "    if i in count:\n",
    "        count[i]  += 1\n",
    "    else:\n",
    "        count[i] = 1\n",
    "max_count = max(count.values())     \n",
    "most_frequent = [key for key, value in count.items() if value == max_count]\n",
    "if len(most_frequent) > 1:  \n",
    "    print(\"?\")\n",
    "else:\n",
    "    print(most_frequent[0])\n"
   ]
  },
  {
   "cell_type": "code",
   "execution_count": 17,
   "id": "d7e5a925-899b-48c4-a358-5587f61376ff",
   "metadata": {},
   "outputs": [
    {
     "name": "stdin",
     "output_type": "stream",
     "text": [
      " 5\n"
     ]
    },
    {
     "name": "stdout",
     "output_type": "stream",
     "text": [
      "1\n"
     ]
    }
   ],
   "source": [
    "a = input()\n",
    "b = ['c=','c-','dz=','d-','lj','nj','s=','z=']\n",
    "for i in b:\n",
    "    a = a.replace(i,\"#\")\n",
    "\n",
    "print(len(a))\n",
    "        "
   ]
  },
  {
   "cell_type": "code",
   "execution_count": 19,
   "id": "91174e20-4b97-482b-8ccc-575368918b77",
   "metadata": {},
   "outputs": [
    {
     "name": "stdin",
     "output_type": "stream",
     "text": [
      " 5\n",
      " 5\n",
      " 5\n",
      " 5\n",
      " 5\n",
      " 5\n"
     ]
    },
    {
     "name": "stdout",
     "output_type": "stream",
     "text": [
      "5\n"
     ]
    }
   ],
   "source": [
    "a = int(input())\n",
    "b = 0\n",
    "for i in range(a):\n",
    "    c = input()\n",
    "    d = set()\n",
    "    e = ''\n",
    "    is_group = True\n",
    "\n",
    "    for j in c:\n",
    "        if c != e:\n",
    "            if c in d:\n",
    "                is_group =False\n",
    "                break\n",
    "            d.add(j)\n",
    "\n",
    "    if is_group:\n",
    "        b +=1\n",
    "\n",
    "print(b)\n",
    "    "
   ]
  },
  {
   "cell_type": "code",
   "execution_count": 29,
   "id": "1fd89825-1782-48c8-b94c-f55172241d82",
   "metadata": {},
   "outputs": [
    {
     "name": "stdin",
     "output_type": "stream",
     "text": [
      " 4\n",
      " aba\n",
      " abab\n",
      " abcabc\n",
      " a\n"
     ]
    },
    {
     "name": "stdout",
     "output_type": "stream",
     "text": [
      "1\n"
     ]
    }
   ],
   "source": [
    "a = int(input())\n",
    "b = 0\n",
    "\n",
    "for i in range(a):\n",
    "    c = input()\n",
    "    d = set()\n",
    "    e = ''\n",
    "\n",
    "    for j in c:\n",
    "        if j != e:\n",
    "            if j in d:\n",
    "                break\n",
    "            d.add(j)\n",
    "        e = j\n",
    "\n",
    "    else:\n",
    "        b += 1\n",
    "print(b)\n"
   ]
  }
 ],
 "metadata": {
  "kernelspec": {
   "display_name": "Python 3 (ipykernel)",
   "language": "python",
   "name": "python3"
  },
  "language_info": {
   "codemirror_mode": {
    "name": "ipython",
    "version": 3
   },
   "file_extension": ".py",
   "mimetype": "text/x-python",
   "name": "python",
   "nbconvert_exporter": "python",
   "pygments_lexer": "ipython3",
   "version": "3.12.7"
  }
 },
 "nbformat": 4,
 "nbformat_minor": 5
}
