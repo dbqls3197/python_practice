{
 "cells": [
  {
   "cell_type": "markdown",
   "id": "a1b82899-721d-4447-8365-8cd31264465a",
   "metadata": {},
   "source": [
    "### 클래스 복습"
   ]
  },
  {
   "cell_type": "code",
   "execution_count": 17,
   "id": "18d8b938-a05a-4dcd-a445-64ea20ff9479",
   "metadata": {},
   "outputs": [
    {
     "name": "stdout",
     "output_type": "stream",
     "text": [
      "우리 집 최고\n"
     ]
    }
   ],
   "source": [
    "# 비어있는 Human 클래스 정의\n",
    "'''class Human:\n",
    "    pass'''\n",
    "# 인스턴스 생성시 \"우리집 최고\" 출력되도록\n",
    "'''class Human:\n",
    "    def __init__(self):\n",
    "        print(\"우리 집 최고\")\n",
    "        '''\n",
    "# a라는 변수로 바인딩(객체/인스턴스 생성)\n",
    "a = Human()\n",
    "\n",
    "#print(a) # \"우리집 최고\"\n",
    "\n"
   ]
  },
  {
   "cell_type": "code",
   "execution_count": 25,
   "id": "cf2fa680-72cd-442e-8981-3dc58018ee89",
   "metadata": {},
   "outputs": [
    {
     "name": "stdout",
     "output_type": "stream",
     "text": [
      "홍길동\n",
      "31\n",
      "남자\n"
     ]
    }
   ],
   "source": [
    "# 이름, 나이, 성별 (name, age, gender)\n",
    "# 이름만 출력\n",
    "\n",
    "class Human:\n",
    "    def __init__(self,name,age,gender):\n",
    "        self.name = name\n",
    "        self.age = age\n",
    "        self.gender =gender\n",
    "a = Human(\"홍길동\",31,\"남자\")\n",
    "print(a.name)\n",
    "print(a.age)\n",
    "print(a.gender)"
   ]
  },
  {
   "cell_type": "code",
   "execution_count": 46,
   "id": "18b9ba8d-9202-4c69-b875-9ccb87a61a53",
   "metadata": {},
   "outputs": [
    {
     "name": "stdout",
     "output_type": "stream",
     "text": [
      "이렇게 보내시나요~\n",
      "홍길동\n",
      "31\n",
      "남자\n",
      "****************************************************************************************************\n"
     ]
    }
   ],
   "source": [
    "# a.who()\n",
    "class Human:\n",
    "    def __init__(self,name,age,gender):\n",
    "        self.name = name\n",
    "        self.age = age\n",
    "        self.gender =gender\n",
    "\n",
    "    def __del__(self):\n",
    "        print(\"이렇게 보내시나요~\")\n",
    "\n",
    "    def who(self):\n",
    "        print(f\"이름 : {self.name}, 나이 : {self.age}, 성별: {self.gender}\")\n",
    "\n",
    "    def setinfo(self,name,age,gender):\n",
    "        self.name = name\n",
    "        self.age = age\n",
    "        self.gender =gender\n",
    "        \n",
    "a = Human(\"홍길동\",31,\"남자\")\n",
    "print(a.name)\n",
    "print(a.age)\n",
    "print(a.gender)\n",
    "print(\"*\"*100)\n"
   ]
  },
  {
   "cell_type": "code",
   "execution_count": 33,
   "id": "29dc13d4-65d8-47a2-a20f-6f10c9b8ec17",
   "metadata": {},
   "outputs": [
    {
     "name": "stdout",
     "output_type": "stream",
     "text": [
      "이름 : 홍길동, 나이 : 31, 성별: 남자\n"
     ]
    }
   ],
   "source": [
    "a.who()"
   ]
  },
  {
   "cell_type": "code",
   "execution_count": 42,
   "id": "a8ba8923-db46-493b-a953-ac85ed6a25c5",
   "metadata": {},
   "outputs": [
    {
     "name": "stdout",
     "output_type": "stream",
     "text": [
      "유관순\n",
      "19\n",
      "여자\n",
      "****************************************************************************************************\n"
     ]
    }
   ],
   "source": [
    "# setinfo\n",
    "a.setinfo(\"유관순\",19,\"여자\")\n",
    "print(a.name)\n",
    "print(a.age)\n",
    "print(a.gender)\n",
    "print(\"*\"*100)"
   ]
  },
  {
   "cell_type": "code",
   "execution_count": null,
   "id": "2c9d67e7",
   "metadata": {},
   "outputs": [],
   "source": []
  },
  {
   "cell_type": "code",
   "execution_count": 48,
   "id": "6df5062b-5428-4c39-b44d-6e6e80c53b8a",
   "metadata": {},
   "outputs": [
    {
     "name": "stdout",
     "output_type": "stream",
     "text": [
      "이렇게 보내시나요~\n"
     ]
    }
   ],
   "source": [
    "del a"
   ]
  },
  {
   "cell_type": "code",
   "execution_count": 70,
   "id": "c2838976-e1f0-4540-8d3f-63566621d11f",
   "metadata": {},
   "outputs": [
    {
     "name": "stdout",
     "output_type": "stream",
     "text": [
      "Wow!\n"
     ]
    }
   ],
   "source": [
    "class OMG:\n",
    "    def print(self):\n",
    "        print(\"Wow!\")\n",
    "\n",
    "\n",
    "myi = OMG()\n",
    "myi.print()"
   ]
  },
  {
   "cell_type": "markdown",
   "id": "e6c9e3e4-c91b-4e93-8a2d-559786f88d00",
   "metadata": {},
   "source": [
    "### 클래스 확장 연습"
   ]
  },
  {
   "cell_type": "code",
   "execution_count": 93,
   "id": "60cd6b67-2362-432b-8453-1a5c25db3223",
   "metadata": {},
   "outputs": [
    {
     "name": "stdout",
     "output_type": "stream",
     "text": [
      "==== 메뉴 ====\n",
      "- 아메리카노: 1,900원\n",
      "- 카페라떼: 2,900원\n",
      "- 카푸치노: 3,500원\n",
      "- 녹차: 3,800원\n",
      "****************************************************************************************************\n"
     ]
    },
    {
     "name": "stdout",
     "output_type": "stream",
     "text": [
      "어떤 음료를 주문하시겠습니까? 아메리카노\n",
      "몇 잔을 주문하시겠습니까? 3\n"
     ]
    },
    {
     "name": "stdout",
     "output_type": "stream",
     "text": [
      "주문하신 아메리카노 3잔의 가격은 5700원 입니다.\n"
     ]
    }
   ],
   "source": [
    "def calculate_coffee_price():\n",
    "\n",
    "    drinks = {\n",
    "        '아메리카노' : 1900,\n",
    "        '카페라떼' : 2900,\n",
    "        '카푸치노' : 3500,\n",
    "        '녹차' : 3800\n",
    "    }\n",
    "    \n",
    "    print(\"==== 메뉴 ====\")\n",
    "    for drink, price in drinks.items():\n",
    "        print(f\"- {drink}: {price:,}원\")\n",
    "    print(\"*\" *100)\n",
    "    \n",
    "    order = input(\"어떤 음료를 주문하시겠습니까?\")\n",
    "    quantity = int(input('몇 잔을 주문하시겠습니까?'))\n",
    "\n",
    "    if order in drinks:\n",
    "        price = drinks[order] * quantity\n",
    "        print(f\"주문하신 {order} {quantity}잔의 가격은 {price}원 입니다.\")\n",
    "    else:\n",
    "        print(f\"죄송합니다. 주문하신 음료는 없습니다\")\n",
    "\n",
    "calculate_coffee_price()"
   ]
  },
  {
   "cell_type": "code",
   "execution_count": 204,
   "id": "49fcd7d9-9ee5-482c-bd40-e7ceb73c79f0",
   "metadata": {},
   "outputs": [
    {
     "name": "stdout",
     "output_type": "stream",
     "text": [
      "==== 메뉴 ====\n",
      "- 1)아메리카노: 1,900원\n",
      "- 2)카페라떼: 2,900원\n",
      "- 3)카푸치노: 3,500원\n",
      "- 4)녹차: 3,800원\n"
     ]
    },
    {
     "name": "stdout",
     "output_type": "stream",
     "text": [
      "주문하실 상품 번호를 선택해 주세요 3\n",
      "몇 잔을 주문하시겠습니까? 3\n"
     ]
    },
    {
     "name": "stdout",
     "output_type": "stream",
     "text": [
      "주문하신 카푸치노 3잔의 가격은 10500원 입니다.\n"
     ]
    }
   ],
   "source": [
    "# 클래스로 변경하기 -> 가격표를 파라미터로 전달하여 \n",
    "'''\n",
    "[속성]\n",
    "상품, 가격\n",
    "\n",
    "[매소드]\n",
    "가격계산\n",
    "메뉴보이기\n",
    "프로세스 실행\n",
    "'''\n",
    "\n",
    "class CoffeeCalculator:\n",
    "    \n",
    "    def __init__(self):\n",
    "        self.drinks = {\n",
    "            '아메리카노' : 1900,\n",
    "            '카페라떼' : 2900,\n",
    "            '카푸치노' : 3500,\n",
    "            '녹차' : 3800\n",
    "        }\n",
    "\n",
    "    def show_menu(self):\n",
    "        print(\"==== 메뉴 ====\")\n",
    "        \n",
    "        for i, (drink,price) in enumerate(self.drinks.items(),1):\n",
    "        #for i, data in enumerate(self.drinks.items(),1):    \n",
    "            print(f\"- {i}){drink}: {price:,}원\")\n",
    "            #print(f\"- {i}){data[0]}: {data[1]:,}원\")\n",
    "        \n",
    "        '''\n",
    "        for drink, price in self.drinks.items():\n",
    "            print(f\"- {drink}: {price:,}원\")\n",
    "        print(\"*\" *100)\n",
    "        '''\n",
    "    def cal_price(self,order,quantity):\n",
    "        return self.drinks[order] * quantity\n",
    "\n",
    "    def run(self):\n",
    "        self.show_menu()\n",
    "        chk = int(input(\"주문하실 상품 번호를 선택해 주세요\"))\n",
    "        order =[k for k in self.drinks.keys()][chk-1]\n",
    "        #order =list(self.drinks.keys())[chk-1]\n",
    "            \n",
    "        quantity = int(input('몇 잔을 주문하시겠습니까?'))\n",
    "    \n",
    "        if order in self.drinks:\n",
    "            price = self.cal_price(order, quantity)\n",
    "            print(f\"주문하신 {order} {quantity}잔의 가격은 {price}원 입니다.\")\n",
    "        else:\n",
    "            print(f\"죄송합니다. 주문하신 음료는 없습니다\")\n",
    "            \n",
    "cafe = CoffeeCalculator()\n",
    "\n",
    "cafe.run()"
   ]
  },
  {
   "cell_type": "code",
   "execution_count": 252,
   "id": "32f7f8ff-aa68-4912-99ef-d76a8fa67e18",
   "metadata": {},
   "outputs": [
    {
     "name": "stdout",
     "output_type": "stream",
     "text": [
      "==== 메뉴 ====\n",
      "- 1)아메리카노: 4,000원\n",
      "- 2)카페라떼: 4,500원\n",
      "- 3)카푸치노: 4,500원\n",
      "- 4)녹차: 4,000원\n",
      "- 5)바닐라라떼: 4,500원\n"
     ]
    },
    {
     "name": "stdout",
     "output_type": "stream",
     "text": [
      "주문하실 상품 번호를 선택해 주세요 3\n",
      "몇 잔을 주문하시겠습니까? 3\n"
     ]
    },
    {
     "name": "stdout",
     "output_type": "stream",
     "text": [
      "주문하신 카푸치노 3잔의 가격은 13500원 입니다.\n"
     ]
    }
   ],
   "source": [
    "# 클래스로 변경하기 -> 가격표를 파라미터로 전달하여 \n",
    "'''\n",
    "[속성]\n",
    "상품, 가격\n",
    "\n",
    "[매소드]\n",
    "가격계산\n",
    "메뉴보이기\n",
    "프로세스 실행\n",
    "'''\n",
    "\n",
    "class CoffeeCalculator:\n",
    "    \n",
    "    def __init__(self,data):\n",
    "        '''self.drinks = {\n",
    "            '아메리카노' : 1900,\n",
    "            '카페라떼' : 2900,\n",
    "            '카푸치노' : 3500,\n",
    "            '녹차' : 3800\n",
    "        }'''\n",
    "        \n",
    "        \n",
    "        self.drinks = {}\n",
    "        for order,price in data:\n",
    "            self.drinks[order] = price\n",
    "        \n",
    "        \n",
    "            \n",
    "\n",
    "    def show_menu(self):\n",
    "        print(\"==== 메뉴 ====\")\n",
    "        \n",
    "        for i, (drink,price) in enumerate(self.drinks.items(),1):\n",
    "        #for i, data in enumerate(self.drinks.items(),1):    \n",
    "            print(f\"- {i}){drink}: {price:,}원\")\n",
    "            #print(f\"- {i}){data[0]}: {data[1]:,}원\")\n",
    "        \n",
    "        '''\n",
    "        for drink, price in self.drinks.items():\n",
    "            print(f\"- {drink}: {price:,}원\")\n",
    "        print(\"*\" *100)\n",
    "        '''\n",
    "    def cal_price(self,order,quantity):\n",
    "        return self.drinks[order] * quantity\n",
    "\n",
    "    def run(self):\n",
    "        self.show_menu()\n",
    "        chk = int(input(\"주문하실 상품 번호를 선택해 주세요\"))\n",
    "        order =[k for k in self.drinks.keys()][chk-1]\n",
    "        #order =list(self.drinks.keys())[chk-1]\n",
    "            \n",
    "        quantity = int(input('몇 잔을 주문하시겠습니까?'))\n",
    "    \n",
    "        if order in self.drinks:\n",
    "            price = self.cal_price(order, quantity)\n",
    "            print(f\"주문하신 {order} {quantity}잔의 가격은 {price}원 입니다.\")\n",
    "        else:\n",
    "            print(f\"죄송합니다. 주문하신 음료는 없습니다\")\n",
    "\n",
    "\n",
    "data = [(\"아메리카노\" ,4000),('카페라떼',4500),('카푸치노',4500),('녹차',4000),('바닐라라떼',4500)]\n",
    "cafe = CoffeeCalculator(data)\n",
    "cafe.run()"
   ]
  },
  {
   "cell_type": "code",
   "execution_count": 256,
   "id": "365fdc63-2f22-4245-9bd8-511a0d03ba7d",
   "metadata": {},
   "outputs": [
    {
     "name": "stdout",
     "output_type": "stream",
     "text": [
      "==== 태평점 메뉴 ====\n",
      "- 1) 아메리카노: 4,000원\n",
      "- 2) 카페라떼: 4,500원\n",
      "- 3) 카푸치노: 4,500원\n",
      "- 4) 녹차: 4,000원\n"
     ]
    },
    {
     "name": "stdout",
     "output_type": "stream",
     "text": [
      "주문하실 상품 번호를 선택해 주세요:  3\n",
      "몇 잔을 주문하시겠습니까?  3\n"
     ]
    },
    {
     "name": "stdout",
     "output_type": "stream",
     "text": [
      "주문하신 카푸치노 3잔의 가격은 13,500원 입니다.\n"
     ]
    }
   ],
   "source": [
    "class CoffeeCalculator:\n",
    "    \n",
    "    def __init__(self, name, data):\n",
    "        self.name = name\n",
    "        self.drinks = {order: price for order, price in data}\n",
    "\n",
    "    def show_menu(self):\n",
    "        print(f\"==== {self.name} 메뉴 ====\")\n",
    "        for i, (drink, price) in enumerate(self.drinks.items(), 1):\n",
    "            print(f\"- {i}) {drink}: {price:,}원\")\n",
    "\n",
    "    def cal_price(self, order, quantity):\n",
    "        return self.drinks[order] * quantity\n",
    "\n",
    "    def run(self):\n",
    "        self.show_menu()\n",
    "        chk = int(input(\"주문하실 상품 번호를 선택해 주세요: \"))\n",
    "        order = list(self.drinks.keys())[chk - 1]\n",
    "        quantity = int(input('몇 잔을 주문하시겠습니까? '))\n",
    "    \n",
    "        if order in self.drinks:\n",
    "            price = self.cal_price(order, quantity)\n",
    "            print(f\"주문하신 {order} {quantity}잔의 가격은 {price:,}원 입니다.\")\n",
    "        else:\n",
    "            print(\"죄송합니다. 주문하신 음료는 없습니다.\")\n",
    "\n",
    "# 가격표 데이터와 가게명\n",
    "data = [\"태평점\", [(\"아메리카노\", 4000), ('카페라떼', 4500), ('카푸치노', 4500), ('녹차', 4000)]]\n",
    "\n",
    "# 객체 생성 후 실행\n",
    "cafe = CoffeeCalculator(data[0], data[1])\n",
    "cafe.run()\n"
   ]
  },
  {
   "cell_type": "code",
   "execution_count": null,
   "id": "0ce40173-c22c-48f5-9fa4-baa03cad1ead",
   "metadata": {},
   "outputs": [],
   "source": []
  }
 ],
 "metadata": {
  "kernelspec": {
   "display_name": "Python 3 (ipykernel)",
   "language": "python",
   "name": "python3"
  },
  "language_info": {
   "codemirror_mode": {
    "name": "ipython",
    "version": 3
   },
   "file_extension": ".py",
   "mimetype": "text/x-python",
   "name": "python",
   "nbconvert_exporter": "python",
   "pygments_lexer": "ipython3",
   "version": "3.12.7"
  }
 },
 "nbformat": 4,
 "nbformat_minor": 5
}
