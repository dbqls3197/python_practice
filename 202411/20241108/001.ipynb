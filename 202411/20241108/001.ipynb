{
 "cells": [
  {
   "cell_type": "code",
   "execution_count": 1,
   "id": "c26ccbba-a181-4df0-b416-b50493f686d0",
   "metadata": {},
   "outputs": [
    {
     "name": "stdout",
     "output_type": "stream",
     "text": [
      "2000.28\n",
      "3050.427\n",
      "2050.2870000000003\n",
      "1980.2772\n",
      "--------------------\n",
      "7501.05\n",
      "2050.2870000000003\n",
      "2050.2870000000003\n",
      "1980.2772\n",
      "--------------------\n",
      "15452.163\n",
      "15052.107\n",
      "15552.177\n",
      "14902.086000000001\n",
      "--------------------\n"
     ]
    }
   ],
   "source": [
    "data = [\n",
    "    [ 2000, 3050, 2050, 1980],\n",
    "    [ 7500, 2050, 2050, 1980],\n",
    "    [ 15450, 15050, 15550, 14900]\n",
    "]\n",
    "# 수수료를 0.014 %로 가정할 떄, 각 가격에 수수료를 포함한 가격을 한라인에 하나씩 출력\n",
    "commission_rate = 0.014/100\n",
    "for row in data:\n",
    "    for price in row:\n",
    "        last_price = price * (1 + commission_rate)\n",
    "        print(last_price)\n",
    "    print(\"-\" * 20)\n",
    "\n"
   ]
  },
  {
   "cell_type": "code",
   "execution_count": 2,
   "id": "bd76e1b6-fc9c-4ea3-9ed1-513328714bda",
   "metadata": {},
   "outputs": [],
   "source": [
    "result = []\n",
    "result2 = []\n",
    "for row in data:\n",
    "    for price in row:\n",
    "        last_price = price * (1 + commission_rate)\n",
    "        result.append(last_price)"
   ]
  },
  {
   "cell_type": "code",
   "execution_count": 3,
   "id": "bdd29570-0447-4f2d-b03e-89450db83d6a",
   "metadata": {},
   "outputs": [
    {
     "name": "stdout",
     "output_type": "stream",
     "text": [
      "[[2000.28, 3050.427, 2050.2870000000003, 1980.2772], [7501.05, 2050.2870000000003, 2050.2870000000003, 1980.2772], [15452.163, 15052.107, 15552.177, 14902.086000000001]]\n"
     ]
    }
   ],
   "source": [
    "\n",
    "result = []\n",
    "for row in data:\n",
    "    sub =[]\n",
    "    for price in row:\n",
    "        last_price = price * (1 + commission_rate)\n",
    "        sub.append(last_price)\n",
    "    result.append(sub)\n",
    "print(result)"
   ]
  },
  {
   "cell_type": "code",
   "execution_count": 4,
   "id": "9cf5aac4-8651-4d8c-892c-2f992695af24",
   "metadata": {},
   "outputs": [
    {
     "name": "stdout",
     "output_type": "stream",
     "text": [
      "190\n",
      "310\n"
     ]
    }
   ],
   "source": [
    "data = [[\"open\", \"high\", \"low\",\"close\"],\n",
    "        [100, 110, 70, 100],\n",
    "        [200, 210, 180, 190,],\n",
    "        [300, 310, 300, 310]]\n",
    "for i in data[1:]:\n",
    "    if i[3] > 150:\n",
    "        print(i[3])\n",
    "   \n"
   ]
  },
  {
   "cell_type": "code",
   "execution_count": 5,
   "id": "1d69a1d7-e589-46f2-a791-1acc67ac8984",
   "metadata": {},
   "outputs": [
    {
     "name": "stdout",
     "output_type": "stream",
     "text": [
      "100\n",
      "310\n"
     ]
    }
   ],
   "source": [
    "# 종가가 시가 보다 크거나 같은 경우에만 종가를 출력\n",
    "data = [[\"open\", \"high\", \"low\",\"close\"],\n",
    "        [100, 110, 70, 100],\n",
    "        [200, 210, 180, 190,],\n",
    "        [300, 310, 300, 310]]\n",
    "for i in data[1:]:\n",
    "    if (i[3] >= i[0]):\n",
    "        print(i[3])\n",
    "    "
   ]
  },
  {
   "cell_type": "code",
   "execution_count": 6,
   "id": "12007f1d-fa78-40f0-a4a3-b81a6c0def93",
   "metadata": {},
   "outputs": [
    {
     "name": "stdout",
     "output_type": "stream",
     "text": [
      "[40, 30, 10]\n"
     ]
    }
   ],
   "source": [
    "# 고가와 저가의 차이를 변동폭을 리스트로 저장\n",
    "data = [[\"open\", \"high\", \"low\",\"close\"],\n",
    "        [100, 110, 70, 100],\n",
    "        [200, 210, 180, 190,],\n",
    "        [300, 310, 300, 310]]\n",
    "\n",
    "a = []\n",
    "for i in data[1:]:\n",
    "    a.append(i[1] - i[2])\n",
    "print(a)\n",
    "    \n",
    "\n",
    "\n",
    "       \n",
    "    "
   ]
  },
  {
   "cell_type": "code",
   "execution_count": 7,
   "id": "4849b730-38cb-449d-b8f6-2197366a8401",
   "metadata": {},
   "outputs": [
    {
     "name": "stdout",
     "output_type": "stream",
     "text": [
      "[10]\n"
     ]
    }
   ],
   "source": [
    "# 종가가 시가보다 높은 날의 변동성 (고가 - 저가)를 화면에 출력\n",
    "data = [[\"open\", \"high\", \"low\",\"close\"],\n",
    "        [100, 110, 70, 100],\n",
    "        [200, 210, 180, 190,],\n",
    "        [300, 310, 300, 310]]\n",
    "\n",
    "a = []\n",
    "for i in data[1:]:\n",
    "    if(i[3] - i[0] > 0):\n",
    "        a.append(i[1] - i[2])\n",
    "print(a)"
   ]
  },
  {
   "cell_type": "code",
   "execution_count": 8,
   "id": "0abcb3fd-a127-4453-814b-9baa49b9c795",
   "metadata": {},
   "outputs": [
    {
     "name": "stdout",
     "output_type": "stream",
     "text": [
      "0\n"
     ]
    }
   ],
   "source": [
    "# 시가에 매수해서 종가에 매도 했을 경우 총 수익금을 계산\n",
    "data = [[\"open\", \"high\", \"low\",\"close\"],\n",
    "        [100, 110, 70, 100],\n",
    "        [200, 210, 180, 190],\n",
    "        [300, 310, 300, 310]]\n",
    "\n",
    "a = 0\n",
    "for i in data[1:]:\n",
    "    a +=(i[3] - i[0])\n",
    "print(a)    "
   ]
  },
  {
   "cell_type": "markdown",
   "id": "a6813087-f005-483a-9652-d987fa00aae6",
   "metadata": {},
   "source": [
    "### 딕셔너리"
   ]
  },
  {
   "cell_type": "code",
   "execution_count": 10,
   "id": "1ba11e46-f42b-46f2-b329-6502bd09984f",
   "metadata": {},
   "outputs": [
    {
     "data": {
      "text/plain": [
       "{'메로나': 1000, '폴라포': 1200, '빵빠레': 1800}"
      ]
     },
     "execution_count": 10,
     "metadata": {},
     "output_type": "execute_result"
    }
   ],
   "source": [
    "ice = {\"메로나\": 1000, \"폴라포\":1200, \"빵빠레\": 1800}\n",
    "ice"
   ]
  },
  {
   "cell_type": "code",
   "execution_count": 11,
   "id": "a1158374-bb8f-4df6-9f93-e7b38e41cf0a",
   "metadata": {},
   "outputs": [
    {
     "name": "stdout",
     "output_type": "stream",
     "text": [
      "{'메로나': 1000, '폴라포': 1200, '빵빠레': 1800, '죠스바': 1200, '월드콘': 1500}\n"
     ]
    }
   ],
   "source": [
    "ice[\"죠스바\"]= 1200\n",
    "ice[\"월드콘\"]= 1500\n",
    "print(ice)"
   ]
  },
  {
   "cell_type": "code",
   "execution_count": 12,
   "id": "5b7d0cbd-2cc2-497e-86ff-e0f9350c9358",
   "metadata": {},
   "outputs": [
    {
     "name": "stdout",
     "output_type": "stream",
     "text": [
      "메로나 가격 : 1000\n"
     ]
    }
   ],
   "source": [
    "print(\"메로나 가격 :\",ice[\"메로나\"])"
   ]
  },
  {
   "cell_type": "code",
   "execution_count": 13,
   "id": "bf54ee14-b89a-474b-a04b-8ba100fbe219",
   "metadata": {},
   "outputs": [
    {
     "name": "stdout",
     "output_type": "stream",
     "text": [
      "{'메로나': 1200, '폴라포': 1200, '빵빠레': 1800, '죠스바': 1200, '월드콘': 1500}\n"
     ]
    }
   ],
   "source": [
    "ice[\"메로나\"] =1200\n",
    "print(ice)"
   ]
  },
  {
   "cell_type": "code",
   "execution_count": 14,
   "id": "b42d6c01-57a4-436e-8c35-9f0e2d4e78b8",
   "metadata": {},
   "outputs": [
    {
     "name": "stdout",
     "output_type": "stream",
     "text": [
      "{'폴라포': 1200, '빵빠레': 1800, '죠스바': 1200, '월드콘': 1500}\n"
     ]
    }
   ],
   "source": [
    "del ice[\"메로나\"]\n",
    "print(ice)"
   ]
  },
  {
   "cell_type": "code",
   "execution_count": 15,
   "id": "e1300a5b-8f31-43a2-8934-2806c5b68459",
   "metadata": {},
   "outputs": [
    {
     "name": "stdout",
     "output_type": "stream",
     "text": [
      "{'메로나': [300, 20], '비비빅': [400, 3], '죠스바': [250, 100]}\n"
     ]
    }
   ],
   "source": [
    "cream ={\"메로나\" : [300, 20],\n",
    "        \"비비빅\" : [400, 3],\n",
    "        \"죠스바\" : [250, 100]}\n",
    "print(cream)"
   ]
  },
  {
   "cell_type": "code",
   "execution_count": 16,
   "id": "870e85b5-1bb7-4dfc-b3f2-f9964666dd34",
   "metadata": {},
   "outputs": [
    {
     "name": "stdout",
     "output_type": "stream",
     "text": [
      "메로나가격: 300원\n",
      "메로나재고: 20개\n"
     ]
    }
   ],
   "source": [
    "print(f\"메로나가격: {cream[\"메로나\"][0]}원\")\n",
    "print(f\"메로나재고: {cream[\"메로나\"][1]}개\")"
   ]
  },
  {
   "cell_type": "code",
   "execution_count": 28,
   "id": "22f7571b-4462-4ea6-ab93-3c7485317f11",
   "metadata": {},
   "outputs": [
    {
     "data": {
      "text/plain": [
       "{'메로나': [300, 20], '비비빅': [400, 3], '죠스바': [250, 100], '월드콘': [500, 7]}"
      ]
     },
     "execution_count": 28,
     "metadata": {},
     "output_type": "execute_result"
    }
   ],
   "source": [
    "cream [\"월드콘\"]=[500,7]\n",
    "cream"
   ]
  },
  {
   "cell_type": "code",
   "execution_count": 63,
   "id": "6c0b2673-a278-4d24-a6f5-5a9a61f0a09f",
   "metadata": {},
   "outputs": [
    {
     "name": "stdout",
     "output_type": "stream",
     "text": [
      "['메로나', '비비빅', '죠스바', '월드콘']\n"
     ]
    }
   ],
   "source": [
    "price = list(cream.keys())\n",
    "print(price)"
   ]
  },
  {
   "cell_type": "code",
   "execution_count": 75,
   "id": "71aceb6e-0e0c-4226-a50f-92dc949659da",
   "metadata": {},
   "outputs": [
    {
     "name": "stdout",
     "output_type": "stream",
     "text": [
      "6700\n"
     ]
    }
   ],
   "source": [
    "icecream = {\"탱크보이\": 1200, \"폴라포\": 1200, \"빵빠래\" : 1800, \"월드콘\" : 1500, \"메로나\" : 1000}\n",
    "a = (sum(icecream.values()))\n",
    "print(a)"
   ]
  },
  {
   "cell_type": "code",
   "execution_count": 81,
   "id": "a308a3ff-ed81-4d74-b026-4f7b3ab0a8b0",
   "metadata": {},
   "outputs": [
    {
     "name": "stdout",
     "output_type": "stream",
     "text": [
      "{'탱크보이': 1200, '폴라포': 1200, '빵빠래': 1800, '월드콘': 1500, '메로나': 1000, '팥빙수': 2700, '아맛나': 1000}\n"
     ]
    }
   ],
   "source": [
    "new_product = {\"팥빙수\" : 2700, \"아맛나\": 1000}\n",
    "\n",
    "icecream.update(new_product)\n",
    "print(icecream)"
   ]
  },
  {
   "cell_type": "code",
   "execution_count": 87,
   "id": "8b787ed3-1c73-4ef0-982a-2f9b98f77d1a",
   "metadata": {},
   "outputs": [
    {
     "name": "stdout",
     "output_type": "stream",
     "text": [
      "('apple', 300)\n",
      "('pear', 250)\n",
      "('peach', 400)\n"
     ]
    },
    {
     "data": {
      "text/plain": [
       "{'apple': 300, 'pear': 250, 'peach': 400}"
      ]
     },
     "execution_count": 87,
     "metadata": {},
     "output_type": "execute_result"
    }
   ],
   "source": [
    "keys =(\"apple\", \"pear\", \"peach\")\n",
    "vals = (300, 250, 400)\n",
    "for i in zip(keys, vals):\n",
    "    print(i)\n",
    "result = dict(zip(keys, vals))\n",
    "result"
   ]
  },
  {
   "cell_type": "code",
   "execution_count": 101,
   "id": "7382a848-f187-4c42-b9f5-2891992c04aa",
   "metadata": {},
   "outputs": [
    {
     "name": "stdout",
     "output_type": "stream",
     "text": [
      "{'09/05': 10500, '09/06': 10300, '09/07': 10100, '09/08': 10000, '09/09': 11000}\n"
     ]
    }
   ],
   "source": [
    "date = [\"09/05\", \"09/06\", \"09/07\", \"09/08\", \"09/09\"]\n",
    "close_price = [10500, 10300, 10100, 10000, 11000]\n",
    "close_table = dict(zip(date,close_price))\n",
    "print(close_table)"
   ]
  },
  {
   "cell_type": "code",
   "execution_count": 115,
   "id": "82f23dec-b0ba-4a5e-80d6-278e0ad74e28",
   "metadata": {},
   "outputs": [
    {
     "name": "stdin",
     "output_type": "stream",
     "text": [
      "어떤 학생의 점수가 궁금한가요? 하윤\n"
     ]
    },
    {
     "name": "stdout",
     "output_type": "stream",
     "text": [
      "82 점 입니다.\n"
     ]
    }
   ],
   "source": [
    "midterm = {\"도윤\" : 43, \"하윤\" : 82, \"시우\" : 76, \"지유\" : 61, \"주원\" : 94}\n",
    "student = input(\"어떤 학생의 점수가 궁금한가요?\")\n",
    "\n",
    "if student in midterm.keys():\n",
    "    print(midterm[student],\"점 입니다.\")\n",
    "else:\n",
    "    print(\"해당학생이 없습니다.\")"
   ]
  },
  {
   "cell_type": "code",
   "execution_count": null,
   "id": "de0f25e3-50eb-43b2-9105-0b1a055694a4",
   "metadata": {},
   "outputs": [],
   "source": []
  }
 ],
 "metadata": {
  "kernelspec": {
   "display_name": "Python 3 (ipykernel)",
   "language": "python",
   "name": "python3"
  },
  "language_info": {
   "codemirror_mode": {
    "name": "ipython",
    "version": 3
   },
   "file_extension": ".py",
   "mimetype": "text/x-python",
   "name": "python",
   "nbconvert_exporter": "python",
   "pygments_lexer": "ipython3",
   "version": "3.12.7"
  }
 },
 "nbformat": 4,
 "nbformat_minor": 5
}
