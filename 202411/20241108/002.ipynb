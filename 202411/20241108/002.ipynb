{
 "cells": [
  {
   "cell_type": "markdown",
   "id": "191fce4f-07a9-46b1-ada5-cece36b75ec7",
   "metadata": {},
   "source": [
    "## 함수"
   ]
  },
  {
   "cell_type": "code",
   "execution_count": 2,
   "id": "e2838b91-5793-44c5-9c47-8a2ec7816a45",
   "metadata": {},
   "outputs": [
    {
     "name": "stdout",
     "output_type": "stream",
     "text": [
      "홍길동님 안녕하세요\n",
      "이순신님 안녕하세요\n"
     ]
    }
   ],
   "source": [
    "# function\n",
    "def intro(name):\n",
    "    print(f\"{name}님 안녕하세요\")\n",
    "\n",
    "intro(\"홍길동\")\n",
    "intro(\"이순신\")"
   ]
  },
  {
   "cell_type": "code",
   "execution_count": 3,
   "id": "8e8d1def-7d05-4eaf-baf6-e5481e52816c",
   "metadata": {},
   "outputs": [
    {
     "name": "stdout",
     "output_type": "stream",
     "text": [
      "9\n",
      "12\n"
     ]
    }
   ],
   "source": [
    "def adding(a=2,b=3):\n",
    "    print(a + b)\n",
    "\n",
    "adding(4,5)\n",
    "adding(5,7)"
   ]
  },
  {
   "cell_type": "code",
   "execution_count": 4,
   "id": "5a3a09e1-524c-4e56-a8fd-0199db2886e3",
   "metadata": {},
   "outputs": [
    {
     "name": "stdout",
     "output_type": "stream",
     "text": [
      "9\n",
      "5\n"
     ]
    }
   ],
   "source": [
    "adding(1,8)\n",
    "adding()"
   ]
  },
  {
   "cell_type": "code",
   "execution_count": 5,
   "id": "e2fc02ea-4316-4629-bae3-b410acd1001e",
   "metadata": {},
   "outputs": [
    {
     "name": "stdout",
     "output_type": "stream",
     "text": [
      "9\n"
     ]
    }
   ],
   "source": [
    "adding(int(\"1\"),8)"
   ]
  },
  {
   "cell_type": "code",
   "execution_count": 6,
   "id": "155c6d36-ebe7-4af4-b07e-59d7f8693753",
   "metadata": {},
   "outputs": [
    {
     "name": "stdout",
     "output_type": "stream",
     "text": [
      "안녕하세요^^\n",
      "고맙습니다^^\n"
     ]
    }
   ],
   "source": [
    "def print_smile(string):\n",
    "    print(string + \"^^\")\n",
    "print_smile(\"안녕하세요\")\n",
    "print_smile(\"고맙습니다\")\n"
   ]
  },
  {
   "cell_type": "code",
   "execution_count": 7,
   "id": "42417867-54e3-48ca-99f7-020e5eb3ba9f",
   "metadata": {},
   "outputs": [
    {
     "name": "stdout",
     "output_type": "stream",
     "text": [
      "곧끝나요~^^\n"
     ]
    }
   ],
   "source": [
    "print_smile(\"곧끝나요~\")\n"
   ]
  },
  {
   "cell_type": "code",
   "execution_count": 8,
   "id": "c6815be6-6039-4478-aa80-7ceb5e9be1a9",
   "metadata": {},
   "outputs": [
    {
     "name": "stdout",
     "output_type": "stream",
     "text": [
      "＊즐거운 금요일\n",
      "＊즐거운 주말\n"
     ]
    }
   ],
   "source": [
    "def print_star(string):\n",
    "    print(\"＊\" + string)\n",
    "\n",
    "print_star(\"즐거운 금요일\")\n",
    "\n",
    "print_star(\"즐거운 주말\")"
   ]
  },
  {
   "cell_type": "code",
   "execution_count": 9,
   "id": "96ef92fa-843b-41f9-a104-986a6a698fdc",
   "metadata": {},
   "outputs": [
    {
     "name": "stdout",
     "output_type": "stream",
     "text": [
      "즐거운 금요일즐거운 주말"
     ]
    }
   ],
   "source": [
    "def printn(string):\n",
    "    print(string, end=\"\")\n",
    "\n",
    "printn(\"즐거운 금요일\")\n",
    "printn(\"즐거운 주말\")"
   ]
  },
  {
   "cell_type": "code",
   "execution_count": 10,
   "id": "3ddaa7dc-3b21-4888-a038-c151e28789e8",
   "metadata": {},
   "outputs": [
    {
     "name": "stdout",
     "output_type": "stream",
     "text": [
      "1100.0\n"
     ]
    }
   ],
   "source": [
    "def vat(price):\n",
    "    print(price * 1.1)\n",
    "\n",
    "vat(1000)\n"
   ]
  },
  {
   "cell_type": "code",
   "execution_count": 11,
   "id": "be6a3e87-aa7c-439f-a8b3-8aad94e11797",
   "metadata": {},
   "outputs": [
    {
     "name": "stdout",
     "output_type": "stream",
     "text": [
      "97.33333333333333\n"
     ]
    }
   ],
   "source": [
    "def print_score(score_list):\n",
    "    print(sum(score_list)/len(score_list))\n",
    "\n",
    "s = [98, 95, 99]\n",
    "print_score(s)"
   ]
  },
  {
   "cell_type": "code",
   "execution_count": 12,
   "id": "5d2dec7a-a719-47ed-9896-bf9aafddd1bd",
   "metadata": {},
   "outputs": [
    {
     "name": "stdout",
     "output_type": "stream",
     "text": [
      "2\n",
      "10\n",
      "12\n"
     ]
    }
   ],
   "source": [
    "def print_even(my_list):\n",
    "    for v in my_list :\n",
    "        if v % 2 ==0:\n",
    "            print(v)\n",
    "\n",
    "print_even([1, 3, 2, 10, 12, 11, 15])"
   ]
  },
  {
   "cell_type": "code",
   "execution_count": 13,
   "id": "969ab3bf-20ad-4009-99cb-d66b0a9daad6",
   "metadata": {},
   "outputs": [
    {
     "name": "stdout",
     "output_type": "stream",
     "text": [
      "이름\n",
      "나이\n",
      "성별\n"
     ]
    }
   ],
   "source": [
    "def print_keys(dic):\n",
    "    for keys in dic.keys():\n",
    "        print(keys)\n",
    "\n",
    "\n",
    "print_keys ({\"이름\":\"김말똥\",\"나이\":30, \"성별\":0})\n"
   ]
  },
  {
   "cell_type": "code",
   "execution_count": 14,
   "id": "be3c73e0-889b-4e79-9ce0-ed01e8084731",
   "metadata": {},
   "outputs": [
    {
     "name": "stdout",
     "output_type": "stream",
     "text": [
      "[100, 130, 100, 100]\n",
      "[130]\n"
     ]
    }
   ],
   "source": [
    "my_dict = {\"10/26\" : [100, 130, 100, 100],\n",
    "           \"10/27\" : [10, 12, 10, 11]}\n",
    "\n",
    "def print_value_by_key(my_dict, key):\n",
    "    print(my_dict[key])\n",
    "    print([value for value in my_dict[key] if value > 100])\n",
    "    \n",
    "    \n",
    "print_value_by_key (my_dict, \"10/26\")"
   ]
  },
  {
   "cell_type": "code",
   "execution_count": 6,
   "id": "8ba9962e-06d4-4e04-86ea-95da0a4fdd81",
   "metadata": {},
   "outputs": [
    {
     "name": "stdout",
     "output_type": "stream",
     "text": [
      "아이엠어보\n",
      "이유알어걸\n",
      "오\n"
     ]
    }
   ],
   "source": [
    "def print_5xn(line):\n",
    "    chunk_num = int(len(line) / 5)\n",
    "    for x in range(chunk_num +1):\n",
    "        print(line[x * 5: x *5 +5])\n",
    "\n",
    "print_5xn(\"아이엠어보이유알어걸오\")"
   ]
  },
  {
   "cell_type": "code",
   "execution_count": 32,
   "id": "6a1ab11d-f73f-4d49-8798-d1574cd5ab66",
   "metadata": {},
   "outputs": [
    {
     "name": "stdout",
     "output_type": "stream",
     "text": [
      "아이엠어보\n",
      "이유알어걸\n",
      "오\n"
     ]
    }
   ],
   "source": [
    "def print_xn(line):\n",
    "    chuck_num = int(len(line) / 5)\n",
    "    addnum = 1 if len(line) % 5 != 0 else 0\n",
    "    for x in range(chuck_num + addnum):\n",
    "        print(line[x * 5: x * 5 +5])\n",
    "\n",
    "print_xn(\"아이엠어보이유알어걸오\")\n"
   ]
  },
  {
   "cell_type": "code",
   "execution_count": 61,
   "id": "32a81f58-1f60-4783-99cd-bd885288d91f",
   "metadata": {},
   "outputs": [
    {
     "name": "stdout",
     "output_type": "stream",
     "text": [
      "아이엠\n",
      "어보이\n",
      "유알어\n",
      "걸오\n"
     ]
    }
   ],
   "source": [
    "def print_xn1(line,limit):\n",
    "     chuck_num = int(len(line) / limit)\n",
    "     addnum = 1 if len(line) % limit != 0 else 0\n",
    "     for x in range(chuck_num + addnum):\n",
    "          print(line[x * limit: x * limit +limit])\n",
    "\n",
    "print_xn1(\"아이엠어보이유알어걸오\",3)    "
   ]
  },
  {
   "cell_type": "code",
   "execution_count": 244,
   "id": "654ca47d-0fe8-48b0-bdbc-b023f5efe815",
   "metadata": {},
   "outputs": [
    {
     "name": "stdout",
     "output_type": "stream",
     "text": [
      "['아이엠', '어보이', '유알어', '걸오']\n"
     ]
    }
   ],
   "source": [
    "def print_xn1(line,limit):\n",
    "     chuck_num = int(len(line) / limit)\n",
    "     addnum = 1 if len(line) % limit != 0 else 0\n",
    "     result = []\n",
    "     for x in range(chuck_num + addnum):\n",
    "          result.append(line[x * limit: x * limit +limit])\n",
    "     return result\n",
    "\n",
    "lastval =  print_xn1(\"아이엠어보이유알어걸오\",3)\n",
    "print(lastval)\n"
   ]
  },
  {
   "cell_type": "code",
   "execution_count": 89,
   "id": "3b9731aa-213f-4299-a8e4-f013def21e1b",
   "metadata": {},
   "outputs": [
    {
     "name": "stdout",
     "output_type": "stream",
     "text": [
      "4166666\n"
     ]
    }
   ],
   "source": [
    "def calc_monthly_sclary(annual_pay):\n",
    "    monthly_pay = int(annual_pay / 12)\n",
    "    return monthly_pay\n",
    "\n",
    "print(calc_monthly_sclary(50000000))                     "
   ]
  },
  {
   "cell_type": "code",
   "execution_count": 93,
   "id": "f8cb30a3-be1c-4ae1-ab8d-b2e9145af59b",
   "metadata": {},
   "outputs": [
    {
     "name": "stdout",
     "output_type": "stream",
     "text": [
      "http://www.naver.com\n"
     ]
    }
   ],
   "source": [
    "def make_url(domain):\n",
    "    return \"http://\" + \"www.\" + domain + \".com\"\n",
    "\n",
    "print(make_url(\"naver\"))\n",
    "\n",
    "\n",
    "# http://www.naver.com"
   ]
  },
  {
   "cell_type": "code",
   "execution_count": 133,
   "id": "0961bfb0-e7bb-46da-8f74-82e4ad6e079e",
   "metadata": {},
   "outputs": [
    {
     "name": "stdout",
     "output_type": "stream",
     "text": [
      "http://www.naver.com\n"
     ]
    }
   ],
   "source": [
    "def make_url(domain):\n",
    "    return \"http://www.{}.com\".format(domain)\n",
    "print(make_url(\"naver\"))\n"
   ]
  },
  {
   "cell_type": "code",
   "execution_count": 135,
   "id": "6ef4db84-afb7-40a1-9946-9be8ff826648",
   "metadata": {},
   "outputs": [
    {
     "name": "stdout",
     "output_type": "stream",
     "text": [
      "http://www.naver.com\n"
     ]
    }
   ],
   "source": [
    "def make_url(domain):\n",
    "    return f\"http://www.{domain}.com\"\n",
    "print(make_url(\"naver\"))\n"
   ]
  },
  {
   "cell_type": "code",
   "execution_count": 188,
   "id": "eb3d721f-465a-4cc4-ae1a-18e9fa58587d",
   "metadata": {},
   "outputs": [
    {
     "name": "stdout",
     "output_type": "stream",
     "text": [
      "4.1점은 백분율로 91.11점입니다\n"
     ]
    }
   ],
   "source": [
    "def score(scores,total):\n",
    "    a = (scores / total) * 100\n",
    "    return a\n",
    "    \n",
    "scores = 4.1\n",
    "total = 4.5\n",
    "a = score(scores,total)\n",
    "print(f\"{scores}점은 백분율로 {a:.2f}점입니다\")\n",
    "    "
   ]
  },
  {
   "cell_type": "code",
   "execution_count": null,
   "id": "b342aa7d-f35c-4006-9827-7e9f7d386517",
   "metadata": {},
   "outputs": [],
   "source": [
    "def score(scores, total):\n",
    "    a = (scores / total) * 100  # No need for int(), just perform the division\n",
    "    return a\n",
    "    \n",
    "scores = 4.1\n",
    "total = 4.5\n",
    "a = score(scores, total)\n",
    "print(f\"{scores}점은 백분율로 {a:.2f}점입니다\")\n"
   ]
  },
  {
   "cell_type": "code",
   "execution_count": 230,
   "id": "bd4de3ab-1d8e-44d7-a0e0-17d49df238b2",
   "metadata": {},
   "outputs": [
    {
     "name": "stdout",
     "output_type": "stream",
     "text": [
      "<table border=\"1\">\n",
      " <tr>\n",
      "     <td>1,1</td>\n",
      "     <td>1,2</td>\n",
      "     <td>1,3</td>\n",
      "</tr>\n",
      " <tr>\n",
      "     <td>2,1</td>\n",
      "     <td>2,2</td>\n",
      "     <td>2,3</td>\n",
      "</tr>\n",
      " <tr>\n",
      "     <td>3,1</td>\n",
      "     <td>3,2</td>\n",
      "     <td>3,3</td>\n",
      "</tr>\n",
      "</table>\n"
     ]
    }
   ],
   "source": [
    "def generate_html_table(rows, cols):\n",
    "    table = '<table border=\"1\">\\n'\n",
    "\n",
    "    for r in range(rows):\n",
    "        table += ' <tr>\\n'\n",
    "        for c in range(cols):\n",
    "            table += f'     <td>{r + 1},{c + 1}</td>\\n'\n",
    "        table += '</tr>\\n'\n",
    "\n",
    "    table += '</table>'\n",
    "    return table\n",
    "\n",
    "print(generate_html_table(3,3))"
   ]
  }
 ],
 "metadata": {
  "kernelspec": {
   "display_name": "Python 3 (ipykernel)",
   "language": "python",
   "name": "python3"
  },
  "language_info": {
   "codemirror_mode": {
    "name": "ipython",
    "version": 3
   },
   "file_extension": ".py",
   "mimetype": "text/x-python",
   "name": "python",
   "nbconvert_exporter": "python",
   "pygments_lexer": "ipython3",
   "version": "3.12.7"
  }
 },
 "nbformat": 4,
 "nbformat_minor": 5
}
