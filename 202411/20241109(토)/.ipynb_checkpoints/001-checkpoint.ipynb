{
 "cells": [
  {
   "cell_type": "code",
   "execution_count": 2,
   "id": "fc3e1bd4-58ec-4259-8eeb-eb4059f9c616",
   "metadata": {},
   "outputs": [
    {
     "name": "stdout",
     "output_type": "stream",
     "text": [
      "이름\t나이\t지역\n",
      "윤인성\t25\t강서구\n",
      "윤아린\t24\t강서구\n",
      "구름\t3\t강서구\n"
     ]
    }
   ],
   "source": [
    "print(\"이름\\t나이\\t지역\")\n",
    "print(\"윤인성\\t25\\t강서구\")\n",
    "print(\"윤아린\\t24\\t강서구\")\n",
    "print(\"구름\\t3\\t강서구\")"
   ]
  },
  {
   "cell_type": "code",
   "execution_count": 6,
   "id": "59da1dcf-3e19-44f4-ad4e-3936aaea70be",
   "metadata": {},
   "outputs": [
    {
     "name": "stdout",
     "output_type": "stream",
     "text": [
      "동해물과 백두산이 마르고 닳도록\n",
      "하느님이 보우하사 우리나라 만세\n",
      "무궁화 삼천리 화려강산 대한사람\n",
      "대한으로 길이 보전하세\n"
     ]
    }
   ],
   "source": [
    "print(\"\"\"동해물과 백두산이 마르고 닳도록\n",
    "하느님이 보우하사 우리나라 만세\n",
    "무궁화 삼천리 화려강산 대한사람\n",
    "대한으로 길이 보전하세\"\"\")"
   ]
  },
  {
   "cell_type": "code",
   "execution_count": 22,
   "id": "49ea5c0f-cf5a-4280-a95e-8a629c968207",
   "metadata": {},
   "outputs": [
    {
     "name": "stdout",
     "output_type": "stream",
     "text": [
      "안녕하세요\n",
      "안녕하세요!\n",
      "안녕하세요안녕하세요안녕하세요\n"
     ]
    }
   ],
   "source": [
    "print(\"안녕\" + \"하세요\")\n",
    "print(\"안녕하세요\" + \"!\")\n",
    "print(\"안녕하세요\" * 3)"
   ]
  },
  {
   "cell_type": "code",
   "execution_count": 30,
   "id": "88e47eb9-7f6a-4b53-9033-98c5f968ddad",
   "metadata": {},
   "outputs": [
    {
     "name": "stdout",
     "output_type": "stream",
     "text": [
      "안녕하세요하세요하세요\n"
     ]
    }
   ],
   "source": [
    "print(\"안녕\" + \"하세요\" * 3)"
   ]
  },
  {
   "cell_type": "code",
   "execution_count": 38,
   "id": "52800794-a663-4d80-86aa-80d6dc67a8c6",
   "metadata": {},
   "outputs": [
    {
     "name": "stdout",
     "output_type": "stream",
     "text": [
      "2\n",
      "1\n"
     ]
    }
   ],
   "source": [
    "print(5//2)\n",
    "print(5 % 2 )"
   ]
  },
  {
   "cell_type": "code",
   "execution_count": 60,
   "id": "eda9b96e-9821-46b9-877b-29cda8a3e65b",
   "metadata": {},
   "outputs": [
    {
     "name": "stdout",
     "output_type": "stream",
     "text": [
      "4\n"
     ]
    }
   ],
   "source": [
    "pi = 2\n",
    "print(pi + 2)"
   ]
  },
  {
   "cell_type": "code",
   "execution_count": 62,
   "id": "1cd7b128-8bfa-476f-8d6d-8a35f865bef6",
   "metadata": {},
   "outputs": [
    {
     "name": "stdin",
     "output_type": "stream",
     "text": [
      "입력> 1\n"
     ]
    },
    {
     "name": "stdout",
     "output_type": "stream",
     "text": [
      "자료: 1\n",
      "자료형: <class 'str'>\n"
     ]
    }
   ],
   "source": [
    "string = input(\"입력>\")\n",
    "\n",
    "print(\"자료:\", string)\n",
    "print(\"자료형:\",type(string))"
   ]
  },
  {
   "cell_type": "code",
   "execution_count": 66,
   "id": "25949376-9205-4893-ab5c-156e22625c48",
   "metadata": {},
   "outputs": [
    {
     "name": "stdin",
     "output_type": "stream",
     "text": [
      "입력> 100\n"
     ]
    },
    {
     "name": "stdout",
     "output_type": "stream",
     "text": [
      "입력 + 100: 100100\n"
     ]
    }
   ],
   "source": [
    "string = input(\"입력>\")\n",
    "\n",
    "print(\"입력 + 100:\", string + \"100\")"
   ]
  },
  {
   "cell_type": "code",
   "execution_count": 68,
   "id": "efddc153-ec5a-438f-bed7-61fa811d35f6",
   "metadata": {},
   "outputs": [
    {
     "name": "stdin",
     "output_type": "stream",
     "text": [
      "입력A>  273\n",
      "입력B>  52\n"
     ]
    },
    {
     "name": "stdout",
     "output_type": "stream",
     "text": [
      "문자열 자료: 27352\n",
      "숫자 자료: 325\n"
     ]
    }
   ],
   "source": [
    "string_a =input(\"입력A> \")\n",
    "int_a = int(string_a)\n",
    "\n",
    "string_b =input(\"입력B> \")\n",
    "int_b = int(string_b)\n",
    "\n",
    "print(\"문자열 자료:\", string_a + string_b)\n",
    "print(\"숫자 자료:\", int_a + int_b)"
   ]
  },
  {
   "cell_type": "code",
   "execution_count": 70,
   "id": "eff6d44c-a0c8-462e-92be-1de65151cd87",
   "metadata": {},
   "outputs": [
    {
     "name": "stdout",
     "output_type": "stream",
     "text": [
      "<class 'int'> 52\n",
      "<class 'float'> 52.273\n"
     ]
    }
   ],
   "source": [
    "output_a = int(\"52\")\n",
    "output_b = float(\"52.273\")\n",
    "\n",
    "print(type(output_a), output_a)\n",
    "print(type(output_b), output_b)"
   ]
  },
  {
   "cell_type": "code",
   "execution_count": 78,
   "id": "00693bda-8079-4962-99d3-be82b0af70f6",
   "metadata": {},
   "outputs": [
    {
     "name": "stdin",
     "output_type": "stream",
     "text": [
      "inch단위의 숫자를 입력해주세요: 20\n"
     ]
    },
    {
     "name": "stdout",
     "output_type": "stream",
     "text": [
      "20 inch는 cm 단위로 50.8 cm입니다.\n"
     ]
    }
   ],
   "source": [
    "raw_input = input(\"inch단위의 숫자를 입력해주세요:\")\n",
    "\n",
    "inch = int(raw_input)\n",
    "cm = inch * 2.54\n",
    "\n",
    "print(inch, \"inch는 cm 단위로\", cm, \"cm입니다.\")"
   ]
  },
  {
   "cell_type": "code",
   "execution_count": 101,
   "id": "c87099a4-a6fc-4552-802c-5eb121eee348",
   "metadata": {},
   "outputs": [
    {
     "name": "stdout",
     "output_type": "stream",
     "text": [
      "12\n",
      "14\n"
     ]
    }
   ],
   "source": [
    "a = \"{}{}\".format(1,2)\n",
    "print(a)\n",
    "b = \"{}{}\".format(1,4,3)\n",
    "print(b)\n",
    "#b = \"{}{}\".format()\n",
    "#print(b)"
   ]
  },
  {
   "cell_type": "code",
   "execution_count": 119,
   "id": "7dcc4ce9-2fd5-449e-ac5e-fb2f793383a4",
   "metadata": {},
   "outputs": [
    {
     "name": "stdout",
     "output_type": "stream",
     "text": [
      "#기본\n",
      "52\n",
      "# 특정 칸에 출력하기\n",
      "   52\n",
      "        52\n",
      "# 빈칸을 0으로 채우기\n",
      "00052\n",
      "-0052\n"
     ]
    }
   ],
   "source": [
    "out_a = \"{:d}\".format(52)\n",
    "\n",
    "out_b = \"{:5d}\".format(52)\n",
    "out_c = \"{:10d}\".format(52)\n",
    "\n",
    "out_d = \"{:05d}\".format(52)\n",
    "out_e = \"{:05d}\".format(-52)\n",
    "\n",
    "print(\"#기본\")\n",
    "print(out_a)\n",
    "print(\"# 특정 칸에 출력하기\")\n",
    "print(out_b)\n",
    "print(out_c)\n",
    "print(\"# 빈칸을 0으로 채우기\")\n",
    "print(out_d)\n",
    "print(out_e)"
   ]
  },
  {
   "cell_type": "code",
   "execution_count": 105,
   "id": "ffb3442a-3abf-4cd7-ab02-4c3850ee3e5d",
   "metadata": {},
   "outputs": [
    {
     "name": "stdout",
     "output_type": "stream",
     "text": [
      "+52\n",
      "-52\n",
      " 52\n",
      "-52\n"
     ]
    }
   ],
   "source": [
    "out_f = \"{:+d}\".format(52)\n",
    "out_g = \"{:+d}\".format(-52)\n",
    "out_h = \"{: d}\".format(52)\n",
    "out_i = \"{: d}\".format(-52)\n",
    "\n",
    "print(out_f)\n",
    "print(out_g)\n",
    "print(out_h)\n",
    "print(out_)"
   ]
  },
  {
   "cell_type": "code",
   "execution_count": 111,
   "id": "f05bedb0-9202-42dd-a2bc-0537fd452fe8",
   "metadata": {},
   "outputs": [
    {
     "name": "stdout",
     "output_type": "stream",
     "text": [
      "  +52\n",
      "  -52\n",
      "+  52\n",
      "-  52\n",
      "+0052\n",
      "-0052\n"
     ]
    }
   ],
   "source": [
    "out_h = \"{:+5d}\".format(52)\n",
    "out_i = \"{:+5d}\".format(-52)\n",
    "out_j = \"{:=+5d}\".format(52)\n",
    "out_k = \"{:=+5d}\".format(-52)\n",
    "out_l = \"{:+05d}\".format(52)\n",
    "out_m = \"{:+05d}\".format(-52)\n",
    "\n",
    "print(out_h)\n",
    "print(out_i)\n",
    "print(out_j)\n",
    "print(out_k)\n",
    "print(out_l)\n",
    "print(out_m)"
   ]
  },
  {
   "cell_type": "code",
   "execution_count": 11,
   "id": "f8b890ce-9b89-420c-8e30-82c69f63e31b",
   "metadata": {},
   "outputs": [
    {
     "name": "stdout",
     "output_type": "stream",
     "text": [
      "52.273000\n",
      "      52.273000\n",
      "     +52.273000\n",
      "+0000052.273000\n"
     ]
    }
   ],
   "source": [
    "out_a = \"{:f}\".format(52.273)\n",
    "out_b = \"{:15f}\".format(52.273)\n",
    "out_c = \"{:+15f}\".format(52.273)\n",
    "out_d = \"{:+015f}\".format(52.273)\n",
    "\n",
    "print(out_a)\n",
    "print(out_b)\n",
    "print(out_c)\n",
    "print(out_d)"
   ]
  },
  {
   "cell_type": "code",
   "execution_count": 41,
   "id": "9ac78f38-0306-4c07-a23c-51bd95c930f0",
   "metadata": {},
   "outputs": [
    {
     "name": "stdin",
     "output_type": "stream",
     "text": [
      "구의 반지름을 입력해주세요: 5\n"
     ]
    },
    {
     "name": "stdout",
     "output_type": "stream",
     "text": [
      "523.5986666666666\n",
      "314.1592\n"
     ]
    }
   ],
   "source": [
    "pi =3.141592\n",
    "a = float(input(\"구의 반지름을 입력해주세요:\"))\n",
    "b = (4/3) * pi * (a**3)\n",
    "c = 4 * pi * (a**2)\n",
    "print(b)\n",
    "print(c)"
   ]
  },
  {
   "cell_type": "code",
   "execution_count": 43,
   "id": "efae1878-3012-47c9-b0e4-2499f3ac6877",
   "metadata": {},
   "outputs": [
    {
     "name": "stdin",
     "output_type": "stream",
     "text": [
      "밑변의 길이를 입력해주세요: 3\n",
      "높이의 길이를 입력해주세요: 4\n"
     ]
    },
    {
     "name": "stdout",
     "output_type": "stream",
     "text": [
      "625.0\n"
     ]
    }
   ],
   "source": [
    "a = float(input(\"밑변의 길이를 입력해주세요:\"))\n",
    "b = float(input(\"높이의 길이를 입력해주세요:\"))\n",
    "\n",
    "c = (a**2 + b**2) ** (2/1)\n",
    "\n",
    "print(c)"
   ]
  },
  {
   "cell_type": "code",
   "execution_count": 18,
   "id": "77c71bfc-f9b1-4be0-b06d-3babbe7bbd53",
   "metadata": {},
   "outputs": [
    {
     "name": "stdin",
     "output_type": "stream",
     "text": [
      "정수입력> 52\n"
     ]
    },
    {
     "name": "stdout",
     "output_type": "stream",
     "text": [
      "짝수입니다\n"
     ]
    }
   ],
   "source": [
    "number = input(\"정수입력>\")\n",
    "\n",
    "last_character = number[-1]\n",
    "\n",
    "last_number =int(last_character)\n",
    "\n",
    "if last_number == 0 \\\n",
    "    or last_number ==2\\\n",
    "    or last_number ==4\\\n",
    "    or last_number ==6\\\n",
    "    or last_number ==8:\n",
    "    print(\"짝수입니다\")\n",
    "\n",
    "if last_number ==1\\\n",
    "    or last_number ==3\\\n",
    "    or last_number ==5\\\n",
    "    or last_number ==7\\\n",
    "    or last_number ==9:\n",
    "    print(\"홀수입니다\")"
   ]
  },
  {
   "cell_type": "code",
   "execution_count": 22,
   "id": "fc0325bf-86cb-4e13-b3f6-58b75a31f410",
   "metadata": {},
   "outputs": [
    {
     "name": "stdin",
     "output_type": "stream",
     "text": [
      "정수입력> 4\n"
     ]
    },
    {
     "name": "stdout",
     "output_type": "stream",
     "text": [
      "짝수입니다\n"
     ]
    }
   ],
   "source": [
    "number = input(\"정수입력>\")\n",
    "last_character = number[-1]\n",
    "\n",
    "if last_character in \"02468\":\n",
    "    print(\"짝수입니다\")\n",
    "\n",
    "if last_character in \"13579\":\n",
    "    print(\"홀수입니다\")"
   ]
  },
  {
   "cell_type": "code",
   "execution_count": 26,
   "id": "09b780a4-497a-4916-aed2-d6c32d88b4bd",
   "metadata": {},
   "outputs": [
    {
     "name": "stdin",
     "output_type": "stream",
     "text": [
      "정수입력> 4\n"
     ]
    },
    {
     "name": "stdout",
     "output_type": "stream",
     "text": [
      "짝수입니다\n"
     ]
    }
   ],
   "source": [
    "number = input(\"정수입력>\")\n",
    "number =int(number)\n",
    "\n",
    "if number % 2== 0:\n",
    "    print(\"짝수입니다\")\n",
    "\n",
    "if number % 2== 1:\n",
    "    print(\"홀수입니다\")"
   ]
  },
  {
   "cell_type": "code",
   "execution_count": 28,
   "id": "7dd245cd-93ac-45f6-a585-94860634b46f",
   "metadata": {},
   "outputs": [
    {
     "name": "stdin",
     "output_type": "stream",
     "text": [
      "정수입력> 4\n"
     ]
    },
    {
     "name": "stdout",
     "output_type": "stream",
     "text": [
      "짝수입니다\n"
     ]
    }
   ],
   "source": [
    "number = input(\"정수입력>\")\n",
    "number = int(number)\n",
    "\n",
    "if number % 2 == 0:\n",
    "    print(\"짝수입니다\")\n",
    "else:\n",
    "    print(\"홀수입니다\")"
   ]
  },
  {
   "cell_type": "code",
   "execution_count": null,
   "id": "7e0b2681-369e-49c0-8fac-8b65ce7aac8b",
   "metadata": {},
   "outputs": [],
   "source": [
    "import datetime\n",
    "\n",
    "now = datetime.datetime.now()\n",
    "month = now.month\n",
    "\n",
    "if 3 <= month <= 5:\n",
    "    print(\"현재는 봄입니다\")\n",
    "elif 6 <= month <= 8:\n",
    "    print(\"현재는 여름입니다\")\n",
    "elif 9 <= month <= 11:\n",
    "    print(\"현재는 여름입니다\")\n",
    "elif 6 <= month <= 8:\n",
    "    print(\"현재는 여름입니다\")"
   ]
  }
 ],
 "metadata": {
  "kernelspec": {
   "display_name": "Python 3 (ipykernel)",
   "language": "python",
   "name": "python3"
  },
  "language_info": {
   "codemirror_mode": {
    "name": "ipython",
    "version": 3
   },
   "file_extension": ".py",
   "mimetype": "text/x-python",
   "name": "python",
   "nbconvert_exporter": "python",
   "pygments_lexer": "ipython3",
   "version": "3.12.7"
  }
 },
 "nbformat": 4,
 "nbformat_minor": 5
}
