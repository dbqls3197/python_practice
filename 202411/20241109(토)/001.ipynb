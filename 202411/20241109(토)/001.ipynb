{
 "cells": [
  {
   "cell_type": "code",
   "execution_count": 1,
   "id": "fc3e1bd4-58ec-4259-8eeb-eb4059f9c616",
   "metadata": {},
   "outputs": [
    {
     "name": "stdout",
     "output_type": "stream",
     "text": [
      "이름\t나이\t지역\n",
      "윤인성\t25\t강서구\n",
      "윤아린\t24\t강서구\n",
      "구름\t3\t강서구\n"
     ]
    }
   ],
   "source": [
    "print(\"이름\\t나이\\t지역\")\n",
    "print(\"윤인성\\t25\\t강서구\")\n",
    "print(\"윤아린\\t24\\t강서구\")\n",
    "print(\"구름\\t3\\t강서구\")"
   ]
  },
  {
   "cell_type": "code",
   "execution_count": 2,
   "id": "59da1dcf-3e19-44f4-ad4e-3936aaea70be",
   "metadata": {},
   "outputs": [
    {
     "name": "stdout",
     "output_type": "stream",
     "text": [
      "동해물과 백두산이 마르고 닳도록\n",
      "하느님이 보우하사 우리나라 만세\n",
      "무궁화 삼천리 화려강산 대한사람\n",
      "대한으로 길이 보전하세\n"
     ]
    }
   ],
   "source": [
    "print(\"\"\"동해물과 백두산이 마르고 닳도록\n",
    "하느님이 보우하사 우리나라 만세\n",
    "무궁화 삼천리 화려강산 대한사람\n",
    "대한으로 길이 보전하세\"\"\")"
   ]
  },
  {
   "cell_type": "code",
   "execution_count": 3,
   "id": "49ea5c0f-cf5a-4280-a95e-8a629c968207",
   "metadata": {},
   "outputs": [
    {
     "name": "stdout",
     "output_type": "stream",
     "text": [
      "안녕하세요\n",
      "안녕하세요!\n",
      "안녕하세요안녕하세요안녕하세요\n"
     ]
    }
   ],
   "source": [
    "print(\"안녕\" + \"하세요\")\n",
    "print(\"안녕하세요\" + \"!\")\n",
    "print(\"안녕하세요\" * 3)"
   ]
  },
  {
   "cell_type": "code",
   "execution_count": 4,
   "id": "88e47eb9-7f6a-4b53-9033-98c5f968ddad",
   "metadata": {},
   "outputs": [
    {
     "name": "stdout",
     "output_type": "stream",
     "text": [
      "안녕하세요하세요하세요\n"
     ]
    }
   ],
   "source": [
    "print(\"안녕\" + \"하세요\" * 3)"
   ]
  },
  {
   "cell_type": "code",
   "execution_count": 5,
   "id": "52800794-a663-4d80-86aa-80d6dc67a8c6",
   "metadata": {},
   "outputs": [
    {
     "name": "stdout",
     "output_type": "stream",
     "text": [
      "2\n",
      "1\n"
     ]
    }
   ],
   "source": [
    "print(5//2)\n",
    "print(5 % 2 )"
   ]
  },
  {
   "cell_type": "code",
   "execution_count": 6,
   "id": "eda9b96e-9821-46b9-877b-29cda8a3e65b",
   "metadata": {},
   "outputs": [
    {
     "name": "stdout",
     "output_type": "stream",
     "text": [
      "4\n"
     ]
    }
   ],
   "source": [
    "pi = 2\n",
    "print(pi + 2)"
   ]
  },
  {
   "cell_type": "code",
   "execution_count": 7,
   "id": "1cd7b128-8bfa-476f-8d6d-8a35f865bef6",
   "metadata": {},
   "outputs": [
    {
     "name": "stdin",
     "output_type": "stream",
     "text": [
      "입력> 1\n"
     ]
    },
    {
     "name": "stdout",
     "output_type": "stream",
     "text": [
      "자료: 1\n",
      "자료형: <class 'str'>\n"
     ]
    }
   ],
   "source": [
    "string = input(\"입력>\")\n",
    "\n",
    "print(\"자료:\", string)\n",
    "print(\"자료형:\",type(string))"
   ]
  },
  {
   "cell_type": "code",
   "execution_count": 8,
   "id": "25949376-9205-4893-ab5c-156e22625c48",
   "metadata": {},
   "outputs": [
    {
     "name": "stdin",
     "output_type": "stream",
     "text": [
      "입력> 1\n"
     ]
    },
    {
     "name": "stdout",
     "output_type": "stream",
     "text": [
      "입력 + 100: 1100\n"
     ]
    }
   ],
   "source": [
    "string = input(\"입력>\")\n",
    "\n",
    "print(\"입력 + 100:\", string + \"100\")"
   ]
  },
  {
   "cell_type": "code",
   "execution_count": 9,
   "id": "efddc153-ec5a-438f-bed7-61fa811d35f6",
   "metadata": {},
   "outputs": [
    {
     "name": "stdin",
     "output_type": "stream",
     "text": [
      "입력A>  1\n",
      "입력B>  1\n"
     ]
    },
    {
     "name": "stdout",
     "output_type": "stream",
     "text": [
      "문자열 자료: 11\n",
      "숫자 자료: 2\n"
     ]
    }
   ],
   "source": [
    "string_a =input(\"입력A> \")\n",
    "int_a = int(string_a)\n",
    "\n",
    "string_b =input(\"입력B> \")\n",
    "int_b = int(string_b)\n",
    "\n",
    "print(\"문자열 자료:\", string_a + string_b)\n",
    "print(\"숫자 자료:\", int_a + int_b)"
   ]
  },
  {
   "cell_type": "code",
   "execution_count": 10,
   "id": "eff6d44c-a0c8-462e-92be-1de65151cd87",
   "metadata": {},
   "outputs": [
    {
     "name": "stdout",
     "output_type": "stream",
     "text": [
      "<class 'int'> 52\n",
      "<class 'float'> 52.273\n"
     ]
    }
   ],
   "source": [
    "output_a = int(\"52\")\n",
    "output_b = float(\"52.273\")\n",
    "\n",
    "print(type(output_a), output_a)\n",
    "print(type(output_b), output_b)"
   ]
  },
  {
   "cell_type": "code",
   "execution_count": null,
   "id": "05ac492e-7316-4665-9346-9a2a3856f0f2",
   "metadata": {},
   "outputs": [],
   "source": [
    "# raw_input = input(\"inch단위의 숫자를 입력해주세요:\")\n",
    "\n",
    "inch = int(raw_input)\n",
    "cm = inch * 2.54\n",
    "\n",
    "print(inch, \"inch는 cm 단위로\", cm, \"cm입니다.\")"
   ]
  },
  {
   "cell_type": "code",
   "execution_count": 12,
   "id": "c87099a4-a6fc-4552-802c-5eb121eee348",
   "metadata": {},
   "outputs": [
    {
     "name": "stdout",
     "output_type": "stream",
     "text": [
      "12\n",
      "14\n"
     ]
    }
   ],
   "source": [
    "a = \"{}{}\".format(1,2)\n",
    "print(a)\n",
    "b = \"{}{}\".format(1,4,3)\n",
    "print(b)\n",
    "#b = \"{}{}\".format()\n",
    "#print(b)"
   ]
  },
  {
   "cell_type": "code",
   "execution_count": 13,
   "id": "7dcc4ce9-2fd5-449e-ac5e-fb2f793383a4",
   "metadata": {},
   "outputs": [
    {
     "name": "stdout",
     "output_type": "stream",
     "text": [
      "#기본\n",
      "52\n",
      "# 특정 칸에 출력하기\n",
      "   52\n",
      "        52\n",
      "# 빈칸을 0으로 채우기\n",
      "00052\n",
      "-0052\n"
     ]
    }
   ],
   "source": [
    "out_a = \"{:d}\".format(52)\n",
    "\n",
    "out_b = \"{:5d}\".format(52)\n",
    "out_c = \"{:10d}\".format(52)\n",
    "\n",
    "out_d = \"{:05d}\".format(52)\n",
    "out_e = \"{:05d}\".format(-52)\n",
    "\n",
    "print(\"#기본\")\n",
    "print(out_a)\n",
    "print(\"# 특정 칸에 출력하기\")\n",
    "print(out_b)\n",
    "print(out_c)\n",
    "print(\"# 빈칸을 0으로 채우기\")\n",
    "print(out_d)\n",
    "print(out_e)"
   ]
  },
  {
   "cell_type": "code",
   "execution_count": 14,
   "id": "ffb3442a-3abf-4cd7-ab02-4c3850ee3e5d",
   "metadata": {},
   "outputs": [
    {
     "name": "stdout",
     "output_type": "stream",
     "text": [
      "+52\n",
      "-52\n",
      " 52\n"
     ]
    },
    {
     "ename": "NameError",
     "evalue": "name 'out_' is not defined",
     "output_type": "error",
     "traceback": [
      "\u001b[1;31m---------------------------------------------------------------------------\u001b[0m",
      "\u001b[1;31mNameError\u001b[0m                                 Traceback (most recent call last)",
      "Cell \u001b[1;32mIn[14], line 9\u001b[0m\n\u001b[0;32m      7\u001b[0m \u001b[38;5;28mprint\u001b[39m(out_g)\n\u001b[0;32m      8\u001b[0m \u001b[38;5;28mprint\u001b[39m(out_h)\n\u001b[1;32m----> 9\u001b[0m \u001b[38;5;28mprint\u001b[39m(out_)\n",
      "\u001b[1;31mNameError\u001b[0m: name 'out_' is not defined"
     ]
    }
   ],
   "source": [
    "out_f = \"{:+d}\".format(52)\n",
    "out_g = \"{:+d}\".format(-52)\n",
    "out_h = \"{: d}\".format(52)\n",
    "out_i = \"{: d}\".format(-52)\n",
    "\n",
    "print(out_f)\n",
    "print(out_g)\n",
    "print(out_h)\n",
    "print(out_)"
   ]
  },
  {
   "cell_type": "code",
   "execution_count": null,
   "id": "f05bedb0-9202-42dd-a2bc-0537fd452fe8",
   "metadata": {},
   "outputs": [],
   "source": [
    "out_h = \"{:+5d}\".format(52)\n",
    "out_i = \"{:+5d}\".format(-52)\n",
    "out_j = \"{:=+5d}\".format(52)\n",
    "out_k = \"{:=+5d}\".format(-52)\n",
    "out_l = \"{:+05d}\".format(52)\n",
    "out_m = \"{:+05d}\".format(-52)\n",
    "\n",
    "print(out_h)\n",
    "print(out_i)\n",
    "print(out_j)\n",
    "print(out_k)\n",
    "print(out_l)\n",
    "print(out_m)"
   ]
  },
  {
   "cell_type": "code",
   "execution_count": null,
   "id": "f8b890ce-9b89-420c-8e30-82c69f63e31b",
   "metadata": {},
   "outputs": [],
   "source": [
    "out_a = \"{:f}\".format(52.273)\n",
    "out_b = \"{:15f}\".format(52.273)\n",
    "out_c = \"{:+15f}\".format(52.273)\n",
    "out_d = \"{:+015f}\".format(52.273)\n",
    "\n",
    "print(out_a)\n",
    "print(out_b)\n",
    "print(out_c)\n",
    "print(out_d)"
   ]
  },
  {
   "cell_type": "code",
   "execution_count": null,
   "id": "9ac78f38-0306-4c07-a23c-51bd95c930f0",
   "metadata": {},
   "outputs": [],
   "source": [
    "pi =3.141592\n",
    "a = float(input(\"구의 반지름을 입력해주세요:\"))\n",
    "b = (4/3) * pi * (a**3)\n",
    "c = 4 * pi * (a**2)\n",
    "print(b)\n",
    "print(c)"
   ]
  },
  {
   "cell_type": "code",
   "execution_count": null,
   "id": "efae1878-3012-47c9-b0e4-2499f3ac6877",
   "metadata": {},
   "outputs": [],
   "source": [
    "a = float(input(\"밑변의 길이를 입력해주세요:\"))\n",
    "b = float(input(\"높이의 길이를 입력해주세요:\"))\n",
    "\n",
    "c = (a**2 + b**2) ** (2/1)\n",
    "\n",
    "print(c)"
   ]
  },
  {
   "cell_type": "code",
   "execution_count": null,
   "id": "77c71bfc-f9b1-4be0-b06d-3babbe7bbd53",
   "metadata": {},
   "outputs": [],
   "source": [
    "number = input(\"정수입력>\")\n",
    "\n",
    "last_character = number[-1]\n",
    "\n",
    "last_number =int(last_character)\n",
    "\n",
    "if last_number == 0 \\\n",
    "    or last_number ==2\\\n",
    "    or last_number ==4\\\n",
    "    or last_number ==6\\\n",
    "    or last_number ==8:\n",
    "    print(\"짝수입니다\")\n",
    "\n",
    "if last_number ==1\\\n",
    "    or last_number ==3\\\n",
    "    or last_number ==5\\\n",
    "    or last_number ==7\\\n",
    "    or last_number ==9:\n",
    "    print(\"홀수입니다\")"
   ]
  },
  {
   "cell_type": "code",
   "execution_count": null,
   "id": "fc0325bf-86cb-4e13-b3f6-58b75a31f410",
   "metadata": {},
   "outputs": [],
   "source": [
    "number = input(\"정수입력>\")\n",
    "last_character = number[-1]\n",
    "\n",
    "if last_character in \"02468\":\n",
    "    print(\"짝수입니다\")\n",
    "\n",
    "if last_character in \"13579\":\n",
    "    print(\"홀수입니다\")"
   ]
  },
  {
   "cell_type": "code",
   "execution_count": null,
   "id": "09b780a4-497a-4916-aed2-d6c32d88b4bd",
   "metadata": {},
   "outputs": [],
   "source": [
    "number = input(\"정수입력>\")\n",
    "number =int(number)\n",
    "\n",
    "if number % 2== 0:\n",
    "    print(\"짝수입니다\")\n",
    "\n",
    "if number % 2== 1:\n",
    "    print(\"홀수입니다\")"
   ]
  },
  {
   "cell_type": "code",
   "execution_count": null,
   "id": "7dd245cd-93ac-45f6-a585-94860634b46f",
   "metadata": {},
   "outputs": [],
   "source": [
    "number = input(\"정수입력>\")\n",
    "number = int(number)\n",
    "\n",
    "if number % 2 == 0:\n",
    "    print(\"짝수입니다\")\n",
    "else:\n",
    "    print(\"홀수입니다\")"
   ]
  },
  {
   "cell_type": "code",
   "execution_count": null,
   "id": "7e0b2681-369e-49c0-8fac-8b65ce7aac8b",
   "metadata": {},
   "outputs": [],
   "source": [
    "import datetime\n",
    "\n",
    "now = datetime.datetime.now()\n",
    "month = now.month\n",
    "\n",
    "if 3 <= month <= 5:\n",
    "    print(\"현재는 봄입니다\")\n",
    "elif 6 <= month <= 8:\n",
    "    print(\"현재는 여름입니다\")\n",
    "elif 9 <= month <= 11:\n",
    "    print(\"현재는 가을입니다\")\n",
    "else:\n",
    "    print(\"현재는 겨울입니다\")\n",
    "    "
   ]
  },
  {
   "cell_type": "code",
   "execution_count": null,
   "id": "1abbe5cf-7f70-470c-99b0-67e0ae6160fe",
   "metadata": {},
   "outputs": [],
   "source": [
    "print(\"# if 조건문에 0 넣기\")\n",
    "if 0:\n",
    "    print(\"0은 True로 변환됩니다\")\n",
    "else:\n",
    "    print(\"0은 False로 변환됩니다\")\n",
    "    print()\n",
    "\n",
    "print(\"# if 조건문에 빈 문자열 넣기\")\n",
    "if\"\":\n",
    "    print(\"빈 문자열은 True로 변환됩니다\")\n",
    "else:\n",
    "    print(\"빈 문자열은 False로 변환됩니다\")"
   ]
  },
  {
   "cell_type": "code",
   "execution_count": null,
   "id": "9fa80635-a827-46a3-b2f4-b775e1a98910",
   "metadata": {},
   "outputs": [],
   "source": [
    "x = 10\n",
    "y = 2\n",
    "\n",
    "if x > 4:\n",
    "    if y > 2:\n",
    "        print(x * y)\n",
    "\n",
    "else:\n",
    "    print(x + y)"
   ]
  },
  {
   "cell_type": "code",
   "execution_count": null,
   "id": "8cacd85a-442b-4cc2-98aa-d53840eddf8e",
   "metadata": {},
   "outputs": [],
   "source": [
    "from datetime import datetime\n",
    "\n",
    "now = datetime.now()\n",
    "\n",
    "입력 = str(input(\"입력\"))\n",
    "if \"안녕\" in 입력:\n",
    "    print(\"안녕하세요\")\n",
    "elif \"몇 시\" in 입력:\n",
    "    print(\"지금\",now.hour,\"시입니다\")\n",
    "else:\n",
    "    print(입력)\n",
    "\n"
   ]
  },
  {
   "cell_type": "code",
   "execution_count": null,
   "id": "4f302f45-feb4-40a1-b7c5-90e90e238588",
   "metadata": {},
   "outputs": [],
   "source": [
    "a = int(input(\"정수를 입력해주세요 : \"))\n",
    "if a % 2 == 0:\n",
    "    print(f\"{a}는 2로 나누어 떨어지는 숫자입니다\")\n",
    "else:\n",
    "    print(f\"{a}는 2로 나누어 떨어지는 숫자가아닙니다\")\n",
    "if a % 3 == 0:\n",
    "    print(f\"{a}는 3로 나누어 떨어지는 숫자입니다\")\n",
    "else:\n",
    "    print(f\"{a}는 3로 나누어 떨어지는 숫자가아닙니다\")\n",
    "if a % 4 == 0:\n",
    "    print(f\"{a}는 4로 나누어 떨어지는 숫자입니다\")\n",
    "else:\n",
    "    print(f\"{a}는 4로 나누어 떨어지는 숫자가아닙니다\")\n",
    "if a % 5 == 0:\n",
    "    print(f\"{a}는 5로 나누어 떨어지는 숫자입니다\")\n",
    "else:\n",
    "    print(f\"{a}는 5로 나누어 떨어지는 숫자가아닙니다\")\n"
   ]
  },
  {
   "cell_type": "code",
   "execution_count": null,
   "id": "f523521d-c42c-4da3-a1f2-178456b6b53d",
   "metadata": {},
   "outputs": [],
   "source": [
    "list_a = [1, 2, 3]\n",
    "list_b = [4, 5, 6]\n",
    "\n",
    "print(\"#리스트\")\n",
    "print(\"list_a = \", list_a)\n",
    "print(\"list_b = \", list_b)\n",
    "print()\n",
    "\n",
    "print(\"# 리스트 기본 연산자\")\n",
    "print(\"list_a + list_b =\",list_a +list_b)\n",
    "print(\"list_a *3 =\", list_a *3)\n",
    "print()\n",
    "\n",
    "# 함수\n",
    "print(\"#길이 구하기\")\n",
    "print(\"len(list_a) =\",len(list_a))"
   ]
  },
  {
   "cell_type": "code",
   "execution_count": null,
   "id": "bc73d252-435a-4073-bea2-08c6f549214f",
   "metadata": {},
   "outputs": [],
   "source": [
    "list_a =[1,2,3]\n",
    "\n",
    "# 리스트 뒤에 요소 추가하기\n",
    "print(\"# 리스트 뒤에 요소 추가하기\")\n",
    "list_a.append(4)\n",
    "list_a.append(5)\n",
    "print(list_a)\n",
    "print()\n",
    "\n",
    "# 리스트 중간 요소 추가하기\n",
    "\n",
    "print(\"# 리스트 중간에 요소 추가하기\")\n",
    "list_a.insert(0,10)\n",
    "print(list_a)"
   ]
  },
  {
   "cell_type": "code",
   "execution_count": null,
   "id": "8456d124-49e7-4c11-8c47-f39e56f66707",
   "metadata": {},
   "outputs": [],
   "source": [
    "list_a =[0, 1, 2, 3, 4, 5]\n",
    "print(\"# 리스트의 요소 하나 재거하기\")\n",
    "\n",
    "# 재거 방법[1] -del 키워드\n",
    "del list_a[1]\n",
    "print(\"del list_a[1]:\",list_a)\n",
    "\n",
    "# 재거 방법[2] -pop()\n",
    "list_a.pop(2)\n",
    "print(\"pop(2):\",list_a)"
   ]
  },
  {
   "cell_type": "code",
   "execution_count": null,
   "id": "31a0dd99-0187-4cd0-83f4-1d4a811bfe33",
   "metadata": {},
   "outputs": [],
   "source": [
    "array = [273, 32, 103, 57, 52]\n",
    "\n",
    "for i in array:\n",
    "    print(i)"
   ]
  },
  {
   "cell_type": "code",
   "execution_count": null,
   "id": "ca1bca55-e216-4393-899f-c1efb7692f6c",
   "metadata": {},
   "outputs": [],
   "source": [
    "a = [[1, 2, 3],\n",
    "     [4, 5, 6],\n",
    "     [7, 8]]\n",
    "for items in a:\n",
    "    print(items)\n"
   ]
  },
  {
   "cell_type": "code",
   "execution_count": null,
   "id": "46203f85-e0e7-4892-8f20-8832429b7d22",
   "metadata": {},
   "outputs": [],
   "source": [
    "a = [[1, 2, 3],\n",
    "     [4, 5, 6],\n",
    "     [7, 8]]\n",
    "for items in a:\n",
    "    for i in items:\n",
    "        print(i)"
   ]
  },
  {
   "cell_type": "code",
   "execution_count": null,
   "id": "60b13a07-f218-423a-93f4-c598c3c932f4",
   "metadata": {},
   "outputs": [],
   "source": [
    "numbers = [273, 103, 5, 32, 65, 9, 72, 800, 99]\n",
    "for i in numbers:\n",
    "    if i % 2 == 0:\n",
    "        print(f\"{i}는 짝수입니다.\")\n",
    "    else:\n",
    "        print(f\"{i}는 홀수입니다.\")"
   ]
  },
  {
   "cell_type": "code",
   "execution_count": null,
   "id": "eda538ae-bccd-41b0-8d20-5c83c811dffc",
   "metadata": {},
   "outputs": [],
   "source": [
    "numbers = [273, 103, 5, 32, 65, 9, 72, 800, 99]\n",
    "for i in numbers:\n",
    "    if i < 10:\n",
    "        print(f\"{i}는 1자릿수 입니다.\")\n",
    "    elif i <100:\n",
    "        print(f\"{i}는 2자릿수 입니다.\")\n",
    "    else:\n",
    "        print(f\"{i}는 3자릿수 입니다.\")\n",
    "        \n",
    "    \n",
    "        "
   ]
  },
  {
   "cell_type": "code",
   "execution_count": null,
   "id": "5e0030d0-e51f-4bc9-96ee-9889a3f442aa",
   "metadata": {},
   "outputs": [],
   "source": [
    "numbers = [1, 2, 3, 4, 5, 6, 7, 8, 9]\n",
    "output = [[], [], []]\n",
    "\n",
    "for number in numbers:\n",
    "    output[(number + 2) % 3].append(number)\n",
    "print(output)"
   ]
  },
  {
   "cell_type": "code",
   "execution_count": null,
   "id": "09478776-a12d-49a2-bc4c-4aba600073ff",
   "metadata": {},
   "outputs": [],
   "source": [
    "numbers = [1, 2, 3, 4, 5, 6, 7, 8, 9]\n",
    "\n",
    "for i in range(0, len(numbers) // 2):\n",
    "    print(i)\n",
    "    j = i * 2 + 1\n",
    "    print(f\"i = {i}, j ={j}\")\n",
    "    numbers[j] = numbers[j] **2\n",
    "\n",
    "print(numbers)"
   ]
  },
  {
   "cell_type": "code",
   "execution_count": 15,
   "id": "496dc75d-55fc-4469-b6b4-c30354a7d4db",
   "metadata": {},
   "outputs": [
    {
     "name": "stdout",
     "output_type": "stream",
     "text": [
      "name : 7D 건조 망고\n",
      "type : 당절임\n",
      "ingredient : ['망고', '설탕', '메타중아황산나트륨', '치자황색소']\n",
      "origin: 필리핀\n",
      "\n",
      "name: 8D 건조 망고\n",
      "8D 건조 망고\n",
      "{'name': '8D 건조 망고', 'type': '당절임', 'ingredient': ['망고', '설탕', '메타중아황산나트륨', '치자황색소'], 'origin': '필리핀', 'price': 5000}\n",
      "{'name': '8D 건조 파인애플', 'type': '당절임', 'ingredient': ['망고', '설탕', '메타중아황산나트륨', '치자황색소'], 'origin': '필리핀', 'price': 5000}\n",
      "{'name': '8D 건조 파인애플', 'type': '당절임', 'origin': '필리핀', 'price': 5000}\n"
     ]
    }
   ],
   "source": [
    "dic ={\n",
    "    \"name\": \"7D 건조 망고\",\n",
    "    \"type\": \"당절임\",\n",
    "    \"ingredient\" : [\"망고\",\"설탕\",\"메타중아황산나트륨\",\"치자황색소\"],\n",
    "    \"origin\" : \"필리핀\"\n",
    "}\n",
    "\n",
    "print(\"name :\",dic[\"name\"])\n",
    "print(\"type :\",dic[\"type\"])\n",
    "print(\"ingredient :\",dic[\"ingredient\"])\n",
    "print(\"origin:\",dic[\"origin\"])\n",
    "print()\n",
    "\n",
    "dic[\"name\"] = \"8D 건조 망고\"\n",
    "print(\"name:\",dic[\"name\"])\n",
    "print(dic[\"name\"])\n",
    "\n",
    "dic[\"price\"] = 5000\n",
    "print(dic)\n",
    "\n",
    "dic[\"name\"] = \"8D 건조 파인애플\"\n",
    "\n",
    "print(dic)\n",
    "\n",
    "del dic[\"ingredient\"]\n",
    "\n",
    "print(dic)"
   ]
  },
  {
   "cell_type": "code",
   "execution_count": 17,
   "id": "96fba1d1-3806-4e40-8ebb-d9daee7b259f",
   "metadata": {},
   "outputs": [
    {
     "name": "stdout",
     "output_type": "stream",
     "text": [
      "요소 추가 이전: {}\n",
      "{'name': '새로운 이름', 'bead': '새로운 정신', 'body': '새로운 몸'}\n"
     ]
    }
   ],
   "source": [
    "dic = {}\n",
    "\n",
    "print(\"요소 추가 이전:\",dic)\n",
    "\n",
    "dic[\"name\"] = \"새로운 이름\"\n",
    "dic[\"bead\"] = \"새로운 정신\"\n",
    "dic[\"body\"] = \"새로운 몸\"\n",
    "\n",
    "print(dic)"
   ]
  },
  {
   "cell_type": "code",
   "execution_count": null,
   "id": "2d143353-f3f5-410f-9f08-3493fad53f22",
   "metadata": {},
   "outputs": [],
   "source": [
    "dic ={\n",
    "    \"name\": \"7D 건조 망고\",\n",
    "    \"type\": \"당절임\"\n",
    "}\n",
    "print(\"요소 재거 이전:\",dic)\n",
    "\n",
    "del dic[\"name\"]\n",
    "del dic['type']\n",
    "\n",
    "print(dic)"
   ]
  },
  {
   "cell_type": "code",
   "execution_count": 12,
   "id": "9095ff57-2c51-4666-a9e3-c0f5b6f49df8",
   "metadata": {},
   "outputs": [
    {
     "name": "stdin",
     "output_type": "stream",
     "text": [
      ">접근하고자 하는 키: 1\n"
     ]
    },
    {
     "name": "stdout",
     "output_type": "stream",
     "text": [
      "존재하지 않는 키에 접근하고 있습니다.\n"
     ]
    }
   ],
   "source": [
    "dic ={\n",
    "    \"name\": \"7D 건조 망고\",\n",
    "    \"type\": \"당절임\",\n",
    "    \"ingredient\" : [\"망고\",\"설탕\",\"메타중아황산나트륨\",\"치자황색소\"],\n",
    "    \"origin\" : \"필리핀\"\n",
    "}\n",
    "\n",
    "key = input(\">접근하고자 하는 키:\")\n",
    "\n",
    "if key in dic:\n",
    "    print(dic[key])\n",
    "else:\n",
    "    print(\"존재하지 않는 키에 접근하고 있습니다.\")"
   ]
  },
  {
   "cell_type": "code",
   "execution_count": null,
   "id": "bdaca6f8-65ad-438e-81b8-8b4c94950914",
   "metadata": {},
   "outputs": [],
   "source": [
    "dic ={\n",
    "    \"name\": \"7D 건조 망고\",\n",
    "    \"type\": \"당절임\",\n",
    "    \"ingredient\" : [\"망고\",\"설탕\",\"메타중아황산나트륨\",\"치자황색소\"],\n",
    "    \"origin\" : \"필리핀\"\n",
    "}\n",
    "\n",
    "value = dic.get(\"존재하지 않는 키\")\n",
    "print(\"값:\",value)\n",
    "\n",
    "if value == None:\n",
    "    print(\"존재하지 않는 키에 접근했었습니다.\")"
   ]
  },
  {
   "cell_type": "code",
   "execution_count": null,
   "id": "247c3717-47fe-467b-a30c-93ccc67b5010",
   "metadata": {},
   "outputs": [],
   "source": [
    "dic ={\n",
    "    \"name\": \"7D 건조 망고\",\n",
    "    \"type\": \"당절임\",\n",
    "    \"ingredient\" : [\"망고\",\"설탕\",\"메타중아황산나트륨\",\"치자황색소\"],\n",
    "    \"origin\" : \"필리핀\"\n",
    "}\n",
    "\n",
    "for key in dic:\n",
    "    #print(key,\":\",dic[key])\n",
    "    print(key)\n",
    "    print(value)"
   ]
  },
  {
   "cell_type": "code",
   "execution_count": null,
   "id": "2f59d36b-722a-4bd8-a053-a32b851efd02",
   "metadata": {},
   "outputs": [],
   "source": [
    "numbers =[1,2,5,7,9,5,2,4,7,8,5,6,3,2,4]\n",
    "count ={}\n",
    "\n",
    "for i in numbers:\n",
    "   if i in count:\n",
    "       count[i] = count[i] +1\n",
    "   else:\n",
    "       count[i] = 1\n",
    "\n",
    "print(count)"
   ]
  },
  {
   "cell_type": "code",
   "execution_count": null,
   "id": "d85ae397-1acc-4d9a-ab4a-d1ec6b2a0b3c",
   "metadata": {},
   "outputs": [],
   "source": [
    "numbers = [273, 103, 5, 32, 65, 9, 72, 800, 99]\n",
    "\n",
    "for number in numbers:\n",
    "    if number >= 100:\n",
    "        print(number)"
   ]
  },
  {
   "cell_type": "code",
   "execution_count": 9,
   "id": "35994b35-9868-49a0-802a-233c5143ba73",
   "metadata": {},
   "outputs": [
    {
     "name": "stdout",
     "output_type": "stream",
     "text": [
      "273홀수입니다.\n",
      "103홀수입니다.\n",
      "5홀수입니다.\n",
      "32짝수입니다.\n",
      "65홀수입니다.\n",
      "9홀수입니다.\n",
      "72짝수입니다.\n",
      "800짝수입니다.\n",
      "99홀수입니다.\n"
     ]
    }
   ],
   "source": [
    "numbers = [273, 103, 5, 32, 65, 9, 72, 800, 99]\n",
    "\n",
    "for number in numbers:\n",
    "    if number % 2 == 0:\n",
    "        print(f\"{number}짝수입니다.\")\n",
    "    else:\n",
    "        print(f\"{number}홀수입니다.\")"
   ]
  },
  {
   "cell_type": "code",
   "execution_count": 7,
   "id": "528c3ebf-1970-4dfa-b91b-77a419ad0ba5",
   "metadata": {},
   "outputs": [
    {
     "name": "stdout",
     "output_type": "stream",
     "text": [
      "273는 3자리수입니다\n",
      "103는 3자리수입니다\n",
      "5는 1자리수입니다\n",
      "32는 2자리수입니다\n",
      "65는 2자리수입니다\n",
      "9는 1자리수입니다\n",
      "72는 2자리수입니다\n",
      "800는 3자리수입니다\n",
      "99는 2자리수입니다\n"
     ]
    }
   ],
   "source": [
    "numbers = [273, 103, 5, 32, 65, 9, 72, 800, 99]\n",
    "\n",
    "for number in numbers:\n",
    "    if number < 10:\n",
    "        print(f\"{number}는 1자리수입니다\")\n",
    "    elif number < 100:\n",
    "        print(f\"{number}는 2자리수입니다\")\n",
    "    else:\n",
    "        print(f\"{number}는 3자리수입니다\")"
   ]
  },
  {
   "cell_type": "code",
   "execution_count": 5,
   "id": "2ce9f7af-8e6a-49c8-8ff8-2a3a8adf74b6",
   "metadata": {},
   "outputs": [
    {
     "name": "stdout",
     "output_type": "stream",
     "text": [
      "[[1, 4, 7], [2, 5, 8], [3, 6, 9]]\n"
     ]
    }
   ],
   "source": [
    "numbers = [1,2,3,4,5,6,7,8,9]\n",
    "output = [[],[],[]]\n",
    "\n",
    "for number in numbers:\n",
    "    output[(number + 2) % 3].append(number)\n",
    "\n",
    "print(output)"
   ]
  },
  {
   "cell_type": "code",
   "execution_count": 3,
   "id": "72968e8c-80fe-4f73-aae0-4f2413129706",
   "metadata": {},
   "outputs": [
    {
     "name": "stdout",
     "output_type": "stream",
     "text": [
      "0\n",
      "i = 0, j =1\n",
      "1\n",
      "i = 1, j =3\n",
      "2\n",
      "i = 2, j =5\n",
      "3\n",
      "i = 3, j =7\n",
      "[1, 4, 3, 16, 5, 36, 7, 64, 9]\n"
     ]
    }
   ],
   "source": [
    "numbers = [1,2,3,4,5,6,7,8,9]\n",
    "for i in range(0, len(numbers) //2):\n",
    "    print(i)\n",
    "    j = i * 2 + 1\n",
    "    print(f\"i = {i}, j ={j}\")\n",
    "    numbers[j] = numbers[j] **2\n",
    "\n",
    "print(numbers)"
   ]
  },
  {
   "cell_type": "code",
   "execution_count": null,
   "id": "ab78132c-b923-4c63-a5bb-8757726c2982",
   "metadata": {},
   "outputs": [],
   "source": [
    "dic ={\n",
    "    \"name\": \"7D 건조 망고\",\n",
    "    \"type\": \"당절임\",\n",
    "    \"ingredient\" : [\"망고\",\"설탕\",\"메타중아황산나트륨\",\"치자황색소\"],\n",
    "    \"origin\" : \"필리핀\"\n",
    "}\n",
    "\n",
    "a = input(\">접근하고자 하는 키:\")\n",
    "\n",
    "if a in dic:\n",
    "    print(dic[a])\n",
    "else:\n",
    "    print(\"존재하지 않는 키에 접근하고 있습니다.\")"
   ]
  },
  {
   "cell_type": "code",
   "execution_count": null,
   "id": "c657382b-46a9-4da3-a8cf-9218ef5994a7",
   "metadata": {
    "scrolled": true
   },
   "outputs": [],
   "source": [
    "dic ={\n",
    "    \"name\": \"7D 건조 망고\",\n",
    "    \"type\": \"당절임\",\n",
    "    \"ingredient\" : [\"망고\",\"설탕\",\"메타중아황산나트륨\",\"치자황색소\"],\n",
    "    \"origin\" : \"필리핀\"\n",
    "}\n",
    "\n",
    "for value in dic:\n",
    "    #print(key,\":\",dic[key])\n",
    "    print(value,dic[value])"
   ]
  },
  {
   "cell_type": "code",
   "execution_count": 52,
   "id": "6cfdd5f2-85e2-4907-8b5f-135cc7a44ea2",
   "metadata": {},
   "outputs": [
    {
     "name": "stdout",
     "output_type": "stream",
     "text": [
      "구름 5살\n",
      "초코 3살\n",
      "아지 1살\n",
      "호랑이 1살\n"
     ]
    }
   ],
   "source": [
    "pets = [\n",
    "    {\"name\":\"구름\", \"age\": 5},\n",
    "    {\"name\":\"초코\", \"age\": 3},\n",
    "    {\"name\":\"아지\", \"age\": 1},\n",
    "    {\"name\":\"호랑이\", \"age\": 1}\n",
    "]\n",
    "for i in pets:\n",
    "    print(i[\"name\"],str(i['age']) +\"살\")"
   ]
  },
  {
   "cell_type": "code",
   "execution_count": 174,
   "id": "5d4d7ebe-65c7-4d4e-a094-758db4320903",
   "metadata": {},
   "outputs": [
    {
     "name": "stdout",
     "output_type": "stream",
     "text": [
      "{1: 5, 2: 3, 3: 2, 5: 5, 4: 3, 8: 3, 6: 2, 7: 5, 9: 3, 34: 1, 15: 1}\n"
     ]
    }
   ],
   "source": [
    "numbers =[1,2,3,5,4,8,4,1,6,8,3,1,5,7,9,4,2,5,7,9,5,2,34,7,1,15,6,7,8,9,5,1,7]\n",
    "count = {}\n",
    "\n",
    "for number in numbers:\n",
    "    if number in count:\n",
    "        count[number] = count[number] +1\n",
    "    else:\n",
    "        count[number] = 1\n",
    "\n",
    "print(count)"
   ]
  },
  {
   "cell_type": "code",
   "execution_count": 132,
   "id": "5afe3ae7-c242-4f35-b996-1621bec93a32",
   "metadata": {},
   "outputs": [
    {
     "name": "stdout",
     "output_type": "stream",
     "text": [
      "name : 기사\n",
      "level : 12\n",
      "sword : 불꽃의 검\n",
      "armor : 풀 플레이트\n",
      "skill : 베기\n",
      "skill : 세게 베기\n",
      "skill : 아주 세게 베기\n"
     ]
    }
   ],
   "source": [
    "character = {\n",
    "    \"name\":\"기사\",\n",
    "    \"level\" : 12,\n",
    "    \"items\" : {\n",
    "        \"sword\": \"불꽃의 검\",\n",
    "        \"armor\": \"풀 플레이트\"\n",
    "    },\n",
    "    \"skill\":['베기','세게 베기','아주 세게 베기']\n",
    "}\n",
    "for key in character:\n",
    "    if type(character[key]) is dict:\n",
    "        for small_key in character[key]:\n",
    "            print(small_key,\":\",character[key][small_key])\n",
    "    elif type(character[key]) is list:\n",
    "        for item in character[key]:\n",
    "            print(key, \":\",item)\n",
    "    else:\n",
    "        print(key,\":\",character[key])"
   ]
  },
  {
   "cell_type": "code",
   "execution_count": 152,
   "id": "9e080d41-4224-4cb7-9746-2c20d9a624aa",
   "metadata": {},
   "outputs": [
    {
     "name": "stdout",
     "output_type": "stream",
     "text": [
      "구름 5살\n",
      "초코 3살\n",
      "아지 1살\n",
      "호랑이 1살\n"
     ]
    }
   ],
   "source": [
    "pets = [\n",
    "    {\"name\":\"구름\", \"age\": 5},\n",
    "    {\"name\":\"초코\", \"age\": 3},\n",
    "    {\"name\":\"아지\", \"age\": 1},\n",
    "    {\"name\":\"호랑이\", \"age\": 1}\n",
    "]\n",
    "for i in pets:\n",
    "    print(i[\"name\"],str(i['age']) + \"살\")"
   ]
  },
  {
   "cell_type": "code",
   "execution_count": 180,
   "id": "d6ccfbc8-0435-473a-b5ec-cc108d0a7e14",
   "metadata": {},
   "outputs": [
    {
     "name": "stdout",
     "output_type": "stream",
     "text": [
      "{1: 5, 2: 3, 3: 2, 5: 5, 4: 3, 8: 3, 6: 2, 7: 5, 9: 3, 34: 1, 15: 1}\n"
     ]
    }
   ],
   "source": [
    "numbers =[1,2,3,5,4,8,4,1,6,8,3,1,5,7,9,4,2,5,7,9,5,2,34,7,1,15,6,7,8,9,5,1,7]\n",
    "count = {}\n",
    "for number in numbers:\n",
    "    if number in count:\n",
    "        count[number] = count[number] +1\n",
    "    else:\n",
    "        count[number] = 1\n",
    "\n",
    "print(count)"
   ]
  },
  {
   "cell_type": "code",
   "execution_count": 26,
   "id": "8119384f-3ca0-4d30-aab9-18500b111641",
   "metadata": {},
   "outputs": [
    {
     "name": "stdout",
     "output_type": "stream",
     "text": [
      "#리스트\n",
      "list_a = [1, 2, 3]\n",
      "list_b = [4, 5, 6]\n",
      "\n",
      "# 리스트 기본 연산자\n",
      "list_a + list_b= [1, 2, 3, 4, 5, 6]\n",
      "list_a * 3 = [1, 2, 3, 1, 2, 3, 1, 2, 3]\n",
      "\n",
      "# 길이 구하기\n",
      "len(list_a) =  3\n"
     ]
    }
   ],
   "source": [
    "list_a = [1,2,3]\n",
    "list_b = [4,5,6]\n",
    "\n",
    "print(\"#리스트\")\n",
    "print(\"list_a =\",list_a)\n",
    "print(\"list_b =\",list_b)\n",
    "print()\n",
    "\n",
    "print(\"# 리스트 기본 연산자\")\n",
    "print(\"list_a + list_b=\", list_a + list_b)\n",
    "print(\"list_a * 3 =\",list_a * 3)\n",
    "print()\n",
    "\n",
    "print(\"# 길이 구하기\")\n",
    "print(\"len(list_a) = \", len (list_a))"
   ]
  },
  {
   "cell_type": "code",
   "execution_count": 30,
   "id": "594b5e87-1f44-4f0e-a4d1-f1a0f97c73e3",
   "metadata": {},
   "outputs": [
    {
     "name": "stdout",
     "output_type": "stream",
     "text": [
      "# 리스트 뒤에 요소 추가하기\n",
      "[1, 2, 3, 4, 5]\n",
      "\n",
      "# 리스트 중간에 요소 추가하기\n",
      "[10, 1, 2, 3, 4, 5]\n"
     ]
    }
   ],
   "source": [
    "list_a = [1,2,3]\n",
    "\n",
    "print(\"# 리스트 뒤에 요소 추가하기\")\n",
    "list_a.append(4)\n",
    "list_a.append(5)\n",
    "print(list_a)\n",
    "print()\n",
    "\n",
    "print(\"# 리스트 중간에 요소 추가하기\")\n",
    "list_a.insert(0,10)\n",
    "print(list_a)"
   ]
  },
  {
   "cell_type": "code",
   "execution_count": 34,
   "id": "3f60e4e9-b183-41e6-8c69-065e1d024a81",
   "metadata": {},
   "outputs": [
    {
     "name": "stdout",
     "output_type": "stream",
     "text": [
      "[1, 2, 3, 4, 5, 6]\n"
     ]
    }
   ],
   "source": [
    "list_a = [1,2,3]\n",
    "list_b = [4,5,6]\n",
    "list_a.extend(list_b)\n",
    "print(list_a)"
   ]
  },
  {
   "cell_type": "code",
   "execution_count": 38,
   "id": "c16a00dd-0629-474e-9810-152cb3f9dca8",
   "metadata": {},
   "outputs": [
    {
     "name": "stdout",
     "output_type": "stream",
     "text": [
      "# 리스트의 요소 하나 재거하기\n",
      "[0, 2, 3, 4, 5]\n",
      "[0, 2, 4, 5]\n"
     ]
    }
   ],
   "source": [
    "list_a = [0,1,2,3,4,5]\n",
    "print(\"# 리스트의 요소 하나 재거하기\")\n",
    "\n",
    "del list_a[1]\n",
    "print(list_a)\n",
    "\n",
    "list_a.pop(2)\n",
    "print(list_a)"
   ]
  },
  {
   "cell_type": "code",
   "execution_count": 40,
   "id": "5ea755f3-3530-4d8f-ab21-bd3dca4951fc",
   "metadata": {},
   "outputs": [
    {
     "data": {
      "text/plain": [
       "[1, 1, 2]"
      ]
     },
     "execution_count": 40,
     "metadata": {},
     "output_type": "execute_result"
    }
   ],
   "source": [
    "list_c = [1,2,1,2]\n",
    "list_c.remove(2)\n",
    "list_c"
   ]
  },
  {
   "cell_type": "code",
   "execution_count": 42,
   "id": "f6b7c205-7304-4e8b-8916-7768902ba4bb",
   "metadata": {},
   "outputs": [
    {
     "data": {
      "text/plain": [
       "[]"
      ]
     },
     "execution_count": 42,
     "metadata": {},
     "output_type": "execute_result"
    }
   ],
   "source": [
    "list_d = [0,1,2,3,4,5]\n",
    "list_d.clear()\n",
    "list_d"
   ]
  },
  {
   "cell_type": "code",
   "execution_count": 46,
   "id": "e07e907f-988e-4157-a15e-9227887736d0",
   "metadata": {},
   "outputs": [
    {
     "data": {
      "text/plain": [
       "[275, 273, 103, 52, 32, 7, 1]"
      ]
     },
     "execution_count": 46,
     "metadata": {},
     "output_type": "execute_result"
    }
   ],
   "source": [
    "list_e = [52,273,103,32,275,1,7]\n",
    "list_e.sort()\n",
    "list_e\n",
    "list_e.sort(reverse=True)\n",
    "list_e"
   ]
  },
  {
   "cell_type": "code",
   "execution_count": 58,
   "id": "cb4f9e5a-ef7d-4547-8fc7-df51d4d3d752",
   "metadata": {},
   "outputs": [
    {
     "data": {
      "text/plain": [
       "True"
      ]
     },
     "execution_count": 58,
     "metadata": {},
     "output_type": "execute_result"
    }
   ],
   "source": [
    "list_a = [273,32,103,57,52]\n",
    "#273 in list_a\n",
    "#99 in list_a\n",
    "#100 in list_a\n",
    "52 in list_a"
   ]
  },
  {
   "cell_type": "code",
   "execution_count": 62,
   "id": "0ce8b82f-365f-4414-9267-6282ec24886e",
   "metadata": {},
   "outputs": [
    {
     "data": {
      "text/plain": [
       "False"
      ]
     },
     "execution_count": 62,
     "metadata": {},
     "output_type": "execute_result"
    }
   ],
   "source": [
    "list_a = [273,32,103,57,52]\n",
    "273 not in list_a\n",
    "99 not in list_a\n",
    "100 not in list_a\n",
    "52 not in list_a\n",
    "not 273 in list_a"
   ]
  },
  {
   "cell_type": "code",
   "execution_count": 64,
   "id": "d3190189-7442-4db8-9140-535563dbabd1",
   "metadata": {},
   "outputs": [
    {
     "name": "stdout",
     "output_type": "stream",
     "text": [
      "273\n",
      "32\n",
      "103\n",
      "57\n",
      "52\n"
     ]
    }
   ],
   "source": [
    "array = [273,32,103,57,52]\n",
    "for i in array:\n",
    "    print(i)"
   ]
  },
  {
   "cell_type": "code",
   "execution_count": 66,
   "id": "4c251ae7-4f10-41bb-b02d-f95ccdf0c926",
   "metadata": {},
   "outputs": [
    {
     "name": "stdout",
     "output_type": "stream",
     "text": [
      "1\n",
      "2\n",
      "3\n",
      "4\n",
      "5\n",
      "6\n",
      "7\n",
      "8\n",
      "9\n"
     ]
    }
   ],
   "source": [
    "list_of =[\n",
    "    [1,2,3],\n",
    "    [4,5,6,7],\n",
    "    [8,9]\n",
    "]\n",
    "for a in list_of:\n",
    "    for i in a:\n",
    "        print(i)"
   ]
  },
  {
   "cell_type": "code",
   "execution_count": 74,
   "id": "bc884762-7284-423f-98ec-9a3830e68940",
   "metadata": {},
   "outputs": [
    {
     "data": {
      "text/plain": [
       "[[1, 2, 3, 4], 5]"
      ]
     },
     "execution_count": 74,
     "metadata": {},
     "output_type": "execute_result"
    }
   ],
   "source": [
    "a = [1,2,3,4]\n",
    "a.append(5)\n",
    "a\n",
    "\n",
    "b= [1,2,3,4]\n",
    "c = [b, 5]\n",
    "b\n",
    "c"
   ]
  },
  {
   "cell_type": "code",
   "execution_count": 76,
   "id": "27c686ed-56ce-40d6-93f9-45e1f67649ab",
   "metadata": {},
   "outputs": [
    {
     "name": "stdout",
     "output_type": "stream",
     "text": [
      "1 2 3 4\n"
     ]
    }
   ],
   "source": [
    "a = [1,2,3,4]\n",
    "print(*a)"
   ]
  },
  {
   "cell_type": "code",
   "execution_count": 78,
   "id": "12a59f81-2829-4f74-86d5-b686fe9bc0c9",
   "metadata": {},
   "outputs": [
    {
     "name": "stdout",
     "output_type": "stream",
     "text": [
      "273는 홀수입니다.\n",
      "103는 홀수입니다.\n",
      "5는 홀수입니다.\n",
      "32는 짝수입니다.\n",
      "65는 홀수입니다.\n",
      "9는 홀수입니다.\n",
      "72는 짝수입니다.\n",
      "800는 짝수입니다.\n",
      "99는 홀수입니다.\n"
     ]
    }
   ],
   "source": [
    "numbers = [273,103,5,32,65,9,72,800,99]\n",
    "for i in numbers:\n",
    "    if i % 2 ==0:\n",
    "        print(f\"{i}는 짝수입니다.\")\n",
    "    else:\n",
    "        print(f\"{i}는 홀수입니다.\")\n",
    "        "
   ]
  },
  {
   "cell_type": "code",
   "execution_count": 80,
   "id": "727486f6-63de-4db6-9e4f-71db6465efdc",
   "metadata": {},
   "outputs": [
    {
     "name": "stdout",
     "output_type": "stream",
     "text": [
      "273는 3자리수입니다.\n",
      "103는 3자리수입니다.\n",
      "5는 1자리수입니다.\n",
      "32는 2자리수입니다.\n",
      "65는 2자리수입니다.\n",
      "9는 1자리수입니다.\n",
      "72는 2자리수입니다.\n",
      "800는 3자리수입니다.\n",
      "99는 2자리수입니다.\n"
     ]
    }
   ],
   "source": [
    "numbers = [273,103,5,32,65,9,72,800,99]\n",
    "for i in numbers:\n",
    "    if i < 10:\n",
    "        print(f\"{i}는 1자리수입니다.\")\n",
    "    elif i < 100:\n",
    "        print(f\"{i}는 2자리수입니다.\")\n",
    "    else:\n",
    "        print(f\"{i}는 3자리수입니다.\")"
   ]
  },
  {
   "cell_type": "code",
   "execution_count": 86,
   "id": "ba79dc51-893a-499a-80b8-339ceed441b0",
   "metadata": {},
   "outputs": [
    {
     "name": "stdout",
     "output_type": "stream",
     "text": [
      "[[1, 4, 7], [2, 5, 8], [3, 6, 9]]\n"
     ]
    }
   ],
   "source": [
    "numbers = [1,2,3,4,5,6,7,8,9]\n",
    "output = [[],[],[]]\n",
    "\n",
    "for number in numbers:\n",
    "    output[(number +2) %3].append(number)\n",
    "\n",
    "print(output)"
   ]
  },
  {
   "cell_type": "code",
   "execution_count": 88,
   "id": "470ebb45-8fdb-4ade-bebd-7707065f7159",
   "metadata": {},
   "outputs": [
    {
     "name": "stdout",
     "output_type": "stream",
     "text": [
      "i=0,j=1\n",
      "i=1,j=3\n",
      "i=2,j=5\n",
      "i=3,j=7\n",
      "[1, 4, 3, 16, 5, 36, 7, 64, 9]\n"
     ]
    }
   ],
   "source": [
    "numbers =[1,2,3,4,5,6,7,8,9]\n",
    "\n",
    "for i in range(0, len(numbers)//2):\n",
    "    j = i * 2 +1\n",
    "    print(f\"i={i},j={j}\")\n",
    "    numbers[j] = numbers[j] **2\n",
    "\n",
    "print(numbers)"
   ]
  },
  {
   "cell_type": "code",
   "execution_count": null,
   "id": "cf60cf4c-e4f0-4b58-9c52-430294e4676d",
   "metadata": {},
   "outputs": [],
   "source": []
  }
 ],
 "metadata": {
  "kernelspec": {
   "display_name": "Python 3 (ipykernel)",
   "language": "python",
   "name": "python3"
  },
  "language_info": {
   "codemirror_mode": {
    "name": "ipython",
    "version": 3
   },
   "file_extension": ".py",
   "mimetype": "text/x-python",
   "name": "python",
   "nbconvert_exporter": "python",
   "pygments_lexer": "ipython3",
   "version": "3.12.7"
  }
 },
 "nbformat": 4,
 "nbformat_minor": 5
}
