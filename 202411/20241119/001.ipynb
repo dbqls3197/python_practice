{
 "cells": [
  {
   "cell_type": "markdown",
   "id": "656e75f1-fca1-4cad-aad5-f308c70df908",
   "metadata": {},
   "source": [
    "### shutil 모듈"
   ]
  },
  {
   "cell_type": "code",
   "execution_count": 3,
   "id": "9ec85b3a-9000-4393-9823-177fb99fe191",
   "metadata": {},
   "outputs": [
    {
     "data": {
      "text/plain": [
       "'test_copy.txt'"
      ]
     },
     "execution_count": 3,
     "metadata": {},
     "output_type": "execute_result"
    }
   ],
   "source": [
    "import shutil\n",
    "# 파일 복사\n",
    "shutil.copy(\"test.txt\",\"test_copy.txt\")"
   ]
  },
  {
   "cell_type": "code",
   "execution_count": 4,
   "id": "0440e08a-9e94-4a3f-979b-2574c8538dfa",
   "metadata": {},
   "outputs": [
    {
     "ename": "FileExistsError",
     "evalue": "[WinError 183] 파일이 이미 있으므로 만들 수 없습니다: 'test_dir_bak'",
     "output_type": "error",
     "traceback": [
      "\u001b[1;31m---------------------------------------------------------------------------\u001b[0m",
      "\u001b[1;31mFileExistsError\u001b[0m                           Traceback (most recent call last)",
      "Cell \u001b[1;32mIn[4], line 2\u001b[0m\n\u001b[0;32m      1\u001b[0m \u001b[38;5;66;03m# 디렉토리 전체 복사\u001b[39;00m\n\u001b[1;32m----> 2\u001b[0m shutil\u001b[38;5;241m.\u001b[39mcopytree(\u001b[38;5;124m\"\u001b[39m\u001b[38;5;124mtest_dir\u001b[39m\u001b[38;5;124m\"\u001b[39m,\u001b[38;5;124m\"\u001b[39m\u001b[38;5;124mtest_dir_bak\u001b[39m\u001b[38;5;124m\"\u001b[39m)\n",
      "File \u001b[1;32m~\\anaconda3\\Lib\\shutil.py:600\u001b[0m, in \u001b[0;36mcopytree\u001b[1;34m(src, dst, symlinks, ignore, copy_function, ignore_dangling_symlinks, dirs_exist_ok)\u001b[0m\n\u001b[0;32m    598\u001b[0m \u001b[38;5;28;01mwith\u001b[39;00m os\u001b[38;5;241m.\u001b[39mscandir(src) \u001b[38;5;28;01mas\u001b[39;00m itr:\n\u001b[0;32m    599\u001b[0m     entries \u001b[38;5;241m=\u001b[39m \u001b[38;5;28mlist\u001b[39m(itr)\n\u001b[1;32m--> 600\u001b[0m \u001b[38;5;28;01mreturn\u001b[39;00m _copytree(entries\u001b[38;5;241m=\u001b[39mentries, src\u001b[38;5;241m=\u001b[39msrc, dst\u001b[38;5;241m=\u001b[39mdst, symlinks\u001b[38;5;241m=\u001b[39msymlinks,\n\u001b[0;32m    601\u001b[0m                  ignore\u001b[38;5;241m=\u001b[39mignore, copy_function\u001b[38;5;241m=\u001b[39mcopy_function,\n\u001b[0;32m    602\u001b[0m                  ignore_dangling_symlinks\u001b[38;5;241m=\u001b[39mignore_dangling_symlinks,\n\u001b[0;32m    603\u001b[0m                  dirs_exist_ok\u001b[38;5;241m=\u001b[39mdirs_exist_ok)\n",
      "File \u001b[1;32m~\\anaconda3\\Lib\\shutil.py:498\u001b[0m, in \u001b[0;36m_copytree\u001b[1;34m(entries, src, dst, symlinks, ignore, copy_function, ignore_dangling_symlinks, dirs_exist_ok)\u001b[0m\n\u001b[0;32m    495\u001b[0m \u001b[38;5;28;01melse\u001b[39;00m:\n\u001b[0;32m    496\u001b[0m     ignored_names \u001b[38;5;241m=\u001b[39m ()\n\u001b[1;32m--> 498\u001b[0m os\u001b[38;5;241m.\u001b[39mmakedirs(dst, exist_ok\u001b[38;5;241m=\u001b[39mdirs_exist_ok)\n\u001b[0;32m    499\u001b[0m errors \u001b[38;5;241m=\u001b[39m []\n\u001b[0;32m    500\u001b[0m use_srcentry \u001b[38;5;241m=\u001b[39m copy_function \u001b[38;5;129;01mis\u001b[39;00m copy2 \u001b[38;5;129;01mor\u001b[39;00m copy_function \u001b[38;5;129;01mis\u001b[39;00m copy\n",
      "File \u001b[1;32m<frozen os>:225\u001b[0m, in \u001b[0;36mmakedirs\u001b[1;34m(name, mode, exist_ok)\u001b[0m\n",
      "\u001b[1;31mFileExistsError\u001b[0m: [WinError 183] 파일이 이미 있으므로 만들 수 없습니다: 'test_dir_bak'"
     ]
    }
   ],
   "source": [
    "# 디렉토리 전체 복사\n",
    "shutil.copytree(\"test_dir\",\"test_dir_bak\")"
   ]
  },
  {
   "cell_type": "code",
   "execution_count": null,
   "id": "dcf22828-bb34-4731-bc28-b6ce79edf8ea",
   "metadata": {},
   "outputs": [],
   "source": [
    "# 파일 이동 (이동하면서 이름변경 가능)\n",
    "shutil.move(\"test_dir/test2.txt\",\"test_dir2/test22.txt\")"
   ]
  },
  {
   "cell_type": "code",
   "execution_count": null,
   "id": "d45b4e6f-dee8-4ab9-8325-85ad6d1dde83",
   "metadata": {},
   "outputs": [],
   "source": [
    "import os\n",
    "# 디렉토리 전체 삭제\n",
    "shutil.rmtree(\"test_dir_bak\")\n",
    "# 비어있는 디렉토리만 삭제\n",
    "os.rmdir(\"test_dir_bak\")"
   ]
  },
  {
   "cell_type": "code",
   "execution_count": null,
   "id": "f496fc71-e73d-4da9-80e5-904a4a51a75c",
   "metadata": {},
   "outputs": [],
   "source": [
    "print(\"\\n=== 디스크 사용량 ===\")\n",
    "total, used, free = shutil.disk_usage('/')\n",
    "print(f\"전체: {total// (2**30)} GiB\")\n",
    "print(f\"사용: {used// (2**30)} GiB\")\n",
    "print(f\"여유: {free// (2**30)} GiB\") "
   ]
  },
  {
   "cell_type": "code",
   "execution_count": null,
   "id": "f3fb0530-1fd1-4d5e-a8ee-c8c399787123",
   "metadata": {},
   "outputs": [],
   "source": [
    "def format_size(bytes):\n",
    "    units = ['B', 'KB', 'MB', 'GB', 'TB']\n",
    "    if bytes == 0:\n",
    "        return \"0 B\"\n",
    "    size = bytes\n",
    "    unit_index = 0\n",
    "    while size >= 1024 and unit_index < len(units) -1:\n",
    "        size /= 1024\n",
    "        unit_index += 1\n",
    "    return f\"{size:.2f} {units[unit_index]}\"\n",
    "\n",
    "total_bytes = 123456789012\n",
    "formatted_size = format_size(total_bytes)\n",
    "print(f\"전체: {formatted_size}\")"
   ]
  },
  {
   "cell_type": "markdown",
   "id": "4036707e-9d13-4115-b2e8-e627899d1a32",
   "metadata": {},
   "source": [
    "## Class(클래스)"
   ]
  },
  {
   "cell_type": "code",
   "execution_count": 6,
   "id": "d2c99b06-4e25-4556-a448-3bd7f5256594",
   "metadata": {},
   "outputs": [
    {
     "name": "stdout",
     "output_type": "stream",
     "text": [
      "3\n",
      "7\n",
      "3\n",
      "10\n"
     ]
    }
   ],
   "source": [
    "result1 = 0\n",
    "result2 = 0\n",
    "def add1(num):\n",
    "    global result1\n",
    "    result1 += num\n",
    "    return result1\n",
    "\n",
    "def add2(num):\n",
    "    global result2\n",
    "    result2 += num\n",
    "    return result2\n",
    "\n",
    "print(add1(3))\n",
    "print(add1(4))\n",
    "print(add2(3))\n",
    "print(add2(7))"
   ]
  },
  {
   "cell_type": "code",
   "execution_count": 20,
   "id": "a4582163-7277-4040-b540-7b5f53121a57",
   "metadata": {},
   "outputs": [
    {
     "name": "stdout",
     "output_type": "stream",
     "text": [
      "3\n",
      "7\n",
      "3\n",
      "10\n",
      "10\n",
      "5\n"
     ]
    }
   ],
   "source": [
    "# 클래스를 만들떄 첫 글자는 대문자로 사용\n",
    "class calculate:\n",
    "    def __init__(self):\n",
    "        self.result = 0\n",
    "\n",
    "    def add(self,num):\n",
    "        self.result += num\n",
    "        return self.result\n",
    "\n",
    "    def sub(self,num):\n",
    "        self.result -= num\n",
    "        return self.result\n",
    "\n",
    "cal1 = calculate()\n",
    "cal2 = calculate()\n",
    "\n",
    "print(cal1.add(3))\n",
    "print(cal1.add(4))\n",
    "print(cal2.add(3))\n",
    "print(cal2.add(7))\n",
    "print(cal2.result)\n",
    "\n",
    "print(cal1.sub(2))\n"
   ]
  },
  {
   "cell_type": "code",
   "execution_count": 87,
   "id": "9fda9c3d-81e2-42fe-9e63-13a2e84713a2",
   "metadata": {},
   "outputs": [
    {
     "name": "stdout",
     "output_type": "stream",
     "text": [
      "버디가 멍멍합니다.\n",
      "신디가 멍멍합니다.\n",
      "버디의 나이는3세 입니다. \n",
      "신디의 나이는5세 입니다. \n"
     ]
    }
   ],
   "source": [
    "class Dog:\n",
    "    def __init__(self,name, age):\n",
    "        self.name = name\n",
    "        self.age =age\n",
    "\n",
    "    def bark(self):\n",
    "        return f\"{self.name}가 멍멍합니다.\"\n",
    "\n",
    "    def get_age(self):\n",
    "        return f\"{self.name}의 나이는{self.age}세 입니다. \"\n",
    "\n",
    "dog1 = Dog(\"버디\", 3)\n",
    "\n",
    "dog2 = Dog(\"신디\", 5)\n",
    "\n",
    "print(dog1.bark())\n",
    "print(dog2.bark())\n",
    "\n",
    "print(dog1.get_age())\n",
    "print(dog2.get_age())"
   ]
  },
  {
   "cell_type": "code",
   "execution_count": 101,
   "id": "abbdfe71-b1d0-4a77-9d0f-1106edabf325",
   "metadata": {},
   "outputs": [
    {
     "name": "stdout",
     "output_type": "stream",
     "text": [
      "철이가 멍멍합니다.\n",
      "철이의 나이는1세 입니다. \n",
      "철이의 주인은 영수 입니다.\n"
     ]
    }
   ],
   "source": [
    "class Puppy(Dog):\n",
    "    # 자녀 생성자 초기화시 부모 생성자 무시됨\n",
    "    def __init__(self,name,age,owner):\n",
    "        # 부모 생성자 초기화\n",
    "        super().__init__(name,age)\n",
    "        self.owner = owner\n",
    "    \n",
    "    def get_owner(self):\n",
    "        return f\"{self.name}의 주인은 {self.owner} 입니다.\"\n",
    "\n",
    "puppy1 = Puppy(\"철이\", 1, \"영수\")\n",
    "\n",
    "print(puppy1.bark())\n",
    "print(puppy1.get_age())\n",
    "print(puppy1.get_owner())"
   ]
  },
  {
   "cell_type": "code",
   "execution_count": 103,
   "id": "38df8758-c195-41eb-bf6d-1e10a90ebacf",
   "metadata": {},
   "outputs": [
    {
     "data": {
      "text/plain": [
       "125"
      ]
     },
     "execution_count": 103,
     "metadata": {},
     "output_type": "execute_result"
    }
   ],
   "source": [
    "c.pow()"
   ]
  },
  {
   "cell_type": "code",
   "execution_count": 105,
   "id": "438d5ba7-34d9-4ed4-af6a-8f55e029cecc",
   "metadata": {},
   "outputs": [
    {
     "name": "stdout",
     "output_type": "stream",
     "text": [
      "6, 2, 8, 2.0\n",
      "12, 4, 32, 2.0\n"
     ]
    }
   ],
   "source": [
    "# 값을 2개 입력받아서 연산하는 클래스 생성\n",
    "class Fourcal:\n",
    "\n",
    "    \n",
    "    def __init__(self,first,second):\n",
    "        self.first = first\n",
    "        self.second = second\n",
    "\n",
    "    def setdata(self,first,second):\n",
    "        self.first = first\n",
    "        self.second = second\n",
    "\n",
    "    def add(self):\n",
    "        result = self.first + self.second\n",
    "        return result\n",
    "\n",
    "    def sub(self):\n",
    "        result = self.first - self.second\n",
    "        return result\n",
    "\n",
    "    def mul(self):\n",
    "        result = self.first * self.second\n",
    "        return result\n",
    "\n",
    "    def div(self):\n",
    "        result = self.first / self.second\n",
    "        return result\n",
    "\n",
    "a = Fourcal(4, 2)\n",
    "b = Fourcal(8, 4)\n",
    "\n",
    "#a.setdata(4, 2)\n",
    "#a.first = 5\n",
    "#a.second = 3\n",
    "\n",
    "\n",
    "print(a.add(),a.sub(),a.mul(),a.div(),sep=\", \")\n",
    "print(b.add(),b.sub(),b.mul(),b.div(),sep=\", \")\n"
   ]
  },
  {
   "cell_type": "code",
   "execution_count": 107,
   "id": "4fcd31cc-48db-40b7-9302-09b46af97bee",
   "metadata": {},
   "outputs": [
    {
     "data": {
      "text/plain": [
       "125"
      ]
     },
     "execution_count": 107,
     "metadata": {},
     "output_type": "execute_result"
    }
   ],
   "source": [
    "class AddFourcal(Fourcal):\n",
    "    def pow(self):\n",
    "        result = self.first ** self.second\n",
    "        return result\n",
    "\n",
    "c = AddFourcal(5, 3)\n",
    "#c.add()\n",
    "c.pow()\n"
   ]
  },
  {
   "cell_type": "code",
   "execution_count": 113,
   "id": "d659c9c1-f9e3-44eb-8dd6-1ed63d4d8cbb",
   "metadata": {},
   "outputs": [
    {
     "name": "stdout",
     "output_type": "stream",
     "text": [
      "4\n",
      "4\n",
      "0\n"
     ]
    },
    {
     "ename": "ZeroDivisionError",
     "evalue": "division by zero",
     "output_type": "error",
     "traceback": [
      "\u001b[1;31m---------------------------------------------------------------------------\u001b[0m",
      "\u001b[1;31mZeroDivisionError\u001b[0m                         Traceback (most recent call last)",
      "Cell \u001b[1;32mIn[113], line 5\u001b[0m\n\u001b[0;32m      3\u001b[0m \u001b[38;5;28mprint\u001b[39m(d\u001b[38;5;241m.\u001b[39msub())\n\u001b[0;32m      4\u001b[0m \u001b[38;5;28mprint\u001b[39m(d\u001b[38;5;241m.\u001b[39mmul())\n\u001b[1;32m----> 5\u001b[0m \u001b[38;5;28mprint\u001b[39m(d\u001b[38;5;241m.\u001b[39mdiv())\n",
      "Cell \u001b[1;32mIn[105], line 26\u001b[0m, in \u001b[0;36mFourcal.div\u001b[1;34m(self)\u001b[0m\n\u001b[0;32m     25\u001b[0m \u001b[38;5;28;01mdef\u001b[39;00m \u001b[38;5;21mdiv\u001b[39m(\u001b[38;5;28mself\u001b[39m):\n\u001b[1;32m---> 26\u001b[0m     result \u001b[38;5;241m=\u001b[39m \u001b[38;5;28mself\u001b[39m\u001b[38;5;241m.\u001b[39mfirst \u001b[38;5;241m/\u001b[39m \u001b[38;5;28mself\u001b[39m\u001b[38;5;241m.\u001b[39msecond\n\u001b[0;32m     27\u001b[0m     \u001b[38;5;28;01mreturn\u001b[39;00m result\n",
      "\u001b[1;31mZeroDivisionError\u001b[0m: division by zero"
     ]
    }
   ],
   "source": [
    "d = Fourcal(4, 0)\n",
    "print(d.add())\n",
    "print(d.sub())\n",
    "print(d.mul())\n",
    "print(d.div())"
   ]
  },
  {
   "cell_type": "code",
   "execution_count": 117,
   "id": "fae11291-a373-4280-b385-ad1a02432f27",
   "metadata": {},
   "outputs": [
    {
     "name": "stdout",
     "output_type": "stream",
     "text": [
      "3\n",
      "3\n",
      "0\n",
      "0\n"
     ]
    }
   ],
   "source": [
    "# 매소드 오버라이딩\n",
    "class SafeFourcal(Fourcal):\n",
    "    def div(self):\n",
    "        if self.second ==0:\n",
    "            return 0\n",
    "        else:\n",
    "            return self.first/ self.second\n",
    "\n",
    "e = SafeFourcal(3, 0)\n",
    "print(e.add())\n",
    "print(e.sub())\n",
    "print(e.mul())\n",
    "print(e.div())"
   ]
  },
  {
   "cell_type": "code",
   "execution_count": 129,
   "id": "752bdee1-c413-44ec-bd8c-64ead82c0159",
   "metadata": {},
   "outputs": [
    {
     "name": "stdout",
     "output_type": "stream",
     "text": [
      "10000\n"
     ]
    },
    {
     "ename": "AttributeError",
     "evalue": "'BanlAccount' object has no attribute '__balance'",
     "output_type": "error",
     "traceback": [
      "\u001b[1;31m---------------------------------------------------------------------------\u001b[0m",
      "\u001b[1;31mAttributeError\u001b[0m                            Traceback (most recent call last)",
      "Cell \u001b[1;32mIn[129], line 16\u001b[0m\n\u001b[0;32m     13\u001b[0m account\u001b[38;5;241m.\u001b[39mdeposit(\u001b[38;5;241m10000\u001b[39m)\n\u001b[0;32m     15\u001b[0m \u001b[38;5;28mprint\u001b[39m(account\u001b[38;5;241m.\u001b[39mget_balance())\n\u001b[1;32m---> 16\u001b[0m \u001b[38;5;28mprint\u001b[39m(account\u001b[38;5;241m.\u001b[39m__balance)\n",
      "\u001b[1;31mAttributeError\u001b[0m: 'BanlAccount' object has no attribute '__balance'"
     ]
    }
   ],
   "source": [
    "# 캡슐화\n",
    "class BanlAccount:\n",
    "    def __init__(self, owner, balance=0):\n",
    "        self.__owner = owner\n",
    "        self.__balance = balance\n",
    "\n",
    "    def deposit(self, amount):\n",
    "        self.__balance += amount\n",
    "\n",
    "    def get_balance(self):\n",
    "        return self.__balance\n",
    "\n",
    "account = BanlAccount(\"홍길동\")\n",
    "account.deposit(10000)\n",
    "\n",
    "print(account.get_balance())\n",
    "print(account.__balance)"
   ]
  },
  {
   "cell_type": "code",
   "execution_count": 151,
   "id": "41868cf6-6109-4ac0-91b0-cf742f2778ea",
   "metadata": {},
   "outputs": [
    {
     "name": "stdout",
     "output_type": "stream",
     "text": [
      "78.5\n"
     ]
    }
   ],
   "source": [
    "class Shape:\n",
    "    def area(self):\n",
    "        raise NotImplementEorror(\"하위 클래스에서 적용해야 함\")\n",
    "\n",
    "class Circle(Shape):\n",
    "    def __init__(self,radius):\n",
    "        self.radius = radius\n",
    "\n",
    "    def area(self):\n",
    "        return 3.14 * (self.radius **2)\n",
    "\n",
    "a = Shape()\n",
    "Circle = Circle(5)\n",
    "\n",
    "print(Circle.area())"
   ]
  },
  {
   "cell_type": "code",
   "execution_count": null,
   "id": "9387edb8-17af-4056-bf4d-d675c5279e25",
   "metadata": {},
   "outputs": [],
   "source": []
  }
 ],
 "metadata": {
  "kernelspec": {
   "display_name": "Python 3 (ipykernel)",
   "language": "python",
   "name": "python3"
  },
  "language_info": {
   "codemirror_mode": {
    "name": "ipython",
    "version": 3
   },
   "file_extension": ".py",
   "mimetype": "text/x-python",
   "name": "python",
   "nbconvert_exporter": "python",
   "pygments_lexer": "ipython3",
   "version": "3.12.7"
  }
 },
 "nbformat": 4,
 "nbformat_minor": 5
}
