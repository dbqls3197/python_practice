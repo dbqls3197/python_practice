{
 "cells": [
  {
   "cell_type": "code",
   "execution_count": 3,
   "id": "4fcfacf4-c5ca-4a27-abd6-a8b3a65f6f78",
   "metadata": {},
   "outputs": [
    {
     "name": "stdout",
     "output_type": "stream",
     "text": [
      "아이엠어보\n",
      "이유알어걸\n",
      "오\n"
     ]
    }
   ],
   "source": [
    "def print_xn(line):\n",
    "    chuck_num = int(len(line) / 5)\n",
    "    addnum = 1 if len(line) % 5 != 0 else 0\n",
    "    for x in range(chuck_num + addnum):\n",
    "        print(line[x * 5: x * 5 +5])\n",
    "\n",
    "print_xn(\"아이엠어보이유알어걸오\")"
   ]
  },
  {
   "cell_type": "code",
   "execution_count": 4,
   "id": "d1ddee38-becb-4c05-9dce-d3d3788d3f76",
   "metadata": {},
   "outputs": [
    {
     "name": "stdout",
     "output_type": "stream",
     "text": [
      "아이엠\n",
      "어보이\n",
      "유알어\n",
      "걸오\n"
     ]
    }
   ],
   "source": [
    "def print_xn1(line,limit):\n",
    "     chuck_num = int(len(line) / limit)\n",
    "     addnum = 1 if len(line) % limit != 0 else 0\n",
    "     for x in range(chuck_num + addnum):\n",
    "          print(line[x * limit: x * limit +limit])\n",
    "\n",
    "print_xn1(\"아이엠어보이유알어걸오\",3)    "
   ]
  },
  {
   "cell_type": "code",
   "execution_count": 5,
   "id": "6fe3b972-98ca-4c1b-a662-5f7505079c45",
   "metadata": {},
   "outputs": [
    {
     "name": "stdout",
     "output_type": "stream",
     "text": [
      "['아이엠', '어보이', '유알어', '걸오']\n"
     ]
    }
   ],
   "source": [
    "def print_xn1(line,limit):\n",
    "     chuck_num = int(len(line) / limit)\n",
    "     addnum = 1 if len(line) % limit != 0 else 0\n",
    "     result = []\n",
    "     for x in range(chuck_num + addnum):\n",
    "          result.append(line[x * limit: x * limit +limit])\n",
    "     return result\n",
    "\n",
    "lastval =  print_xn1(\"아이엠어보이유알어걸오\",3)\n",
    "print(lastval)\n"
   ]
  },
  {
   "cell_type": "code",
   "execution_count": 6,
   "id": "0aa45f79-e927-443c-bfd8-2c86826a9e2b",
   "metadata": {},
   "outputs": [
    {
     "name": "stdout",
     "output_type": "stream",
     "text": [
      "4166666\n"
     ]
    }
   ],
   "source": [
    "def calc_monthly_sclary(annual_pay):\n",
    "    monthly_pay = int(annual_pay / 12)\n",
    "    return monthly_pay\n",
    "\n",
    "print(calc_monthly_sclary(50000000))  "
   ]
  },
  {
   "cell_type": "code",
   "execution_count": 7,
   "id": "7cc631a6-e446-49d5-a895-16c6d9cfee86",
   "metadata": {},
   "outputs": [
    {
     "name": "stdout",
     "output_type": "stream",
     "text": [
      "http://www.naver.com\n"
     ]
    }
   ],
   "source": [
    "def make_url(domain):\n",
    "    return \"http://\" + \"www.\" + domain + \".com\"\n",
    "\n",
    "print(make_url(\"naver\"))\n",
    "\n",
    "\n",
    "# http://www.naver.com"
   ]
  },
  {
   "cell_type": "code",
   "execution_count": 8,
   "id": "676d72d9-1d32-4353-84a8-8f9bc2d1e872",
   "metadata": {},
   "outputs": [
    {
     "name": "stdout",
     "output_type": "stream",
     "text": [
      "http://www.naver.com\n"
     ]
    }
   ],
   "source": [
    "def make_url(domain):\n",
    "    return \"http://www.{}.com\".format(domain)\n",
    "print(make_url(\"naver\"))"
   ]
  },
  {
   "cell_type": "code",
   "execution_count": 9,
   "id": "7b5311c0-22ef-43b0-bcbb-94e20bf9b3a1",
   "metadata": {},
   "outputs": [
    {
     "name": "stdout",
     "output_type": "stream",
     "text": [
      "http://www.naver.com\n"
     ]
    }
   ],
   "source": [
    "def make_url(domain):\n",
    "    return f\"http://www.{domain}.com\"\n",
    "print(make_url(\"naver\"))"
   ]
  },
  {
   "cell_type": "code",
   "execution_count": 10,
   "id": "4bec3643-ec66-4bc6-b31d-b44dc18ff8f3",
   "metadata": {},
   "outputs": [
    {
     "name": "stdout",
     "output_type": "stream",
     "text": [
      "4.1점은 백분율로 91.11점입니다\n"
     ]
    }
   ],
   "source": [
    "def score(scores,total):\n",
    "    a = (scores / total) * 100\n",
    "    return a\n",
    "    \n",
    "scores = 4.1\n",
    "total = 4.5\n",
    "a = score(scores,total)\n",
    "print(f\"{scores}점은 백분율로 {a:.2f}점입니다\")\n",
    "    "
   ]
  },
  {
   "cell_type": "code",
   "execution_count": 11,
   "id": "498f4c78-b5f9-4ca7-94b8-473dbe0a73c4",
   "metadata": {},
   "outputs": [
    {
     "name": "stdout",
     "output_type": "stream",
     "text": [
      "<table border=\"1\">\n",
      " <tr>\n",
      "     <td>1,1</td>\n",
      "     <td>1,2</td>\n",
      "     <td>1,3</td>\n",
      "</tr>\n",
      " <tr>\n",
      "     <td>2,1</td>\n",
      "     <td>2,2</td>\n",
      "     <td>2,3</td>\n",
      "</tr>\n",
      " <tr>\n",
      "     <td>3,1</td>\n",
      "     <td>3,2</td>\n",
      "     <td>3,3</td>\n",
      "</tr>\n",
      "</table>\n"
     ]
    }
   ],
   "source": [
    "def generate_html_table(rows, cols):\n",
    "    table = '<table border=\"1\">\\n'\n",
    "\n",
    "    for r in range(rows):\n",
    "        table += ' <tr>\\n'\n",
    "        for c in range(cols):\n",
    "            table += f'     <td>{r + 1},{c + 1}</td>\\n'\n",
    "        table += '</tr>\\n'\n",
    "\n",
    "    table += '</table>'\n",
    "    return table\n",
    "\n",
    "print(generate_html_table(3,3))"
   ]
  },
  {
   "cell_type": "code",
   "execution_count": 12,
   "id": "58e1d4dd-8113-4209-83a8-d81d221e856e",
   "metadata": {},
   "outputs": [
    {
     "name": "stdout",
     "output_type": "stream",
     "text": [
      "(15, 5)\n",
      "15\n",
      "5\n"
     ]
    }
   ],
   "source": [
    "def val(x, y):\n",
    "    sv = x + y\n",
    "    dv = x - y\n",
    "    return sv, dv\n",
    "    \n",
    "print(val(10,5))\n",
    "sum_val, diff_val = val(10,5)\n",
    "print(sum_val)\n",
    "print(diff_val)"
   ]
  },
  {
   "cell_type": "code",
   "execution_count": 13,
   "id": "766ed90a-e542-456b-b3a0-5aa468c7bb5f",
   "metadata": {},
   "outputs": [
    {
     "name": "stdout",
     "output_type": "stream",
     "text": [
      "함수 안에서 호출한 x와 y값: 20 20\n",
      "함수 밖에서 호출한 x와 y값: 20 5\n"
     ]
    }
   ],
   "source": [
    "x = 10\n",
    "y = 5\n",
    "\n",
    "def update_x():\n",
    "    global x \n",
    "    x = 20\n",
    "    y = 20\n",
    "    print(\"함수 안에서 호출한 x와 y값:\",x , y)\n",
    "\n",
    "update_x()\n",
    "print(\"함수 밖에서 호출한 x와 y값:\",x , y)"
   ]
  },
  {
   "cell_type": "markdown",
   "id": "c609c81e-178e-4806-bb0d-87aff2647ee0",
   "metadata": {},
   "source": [
    "### 집합"
   ]
  },
  {
   "cell_type": "markdown",
   "id": "9d2b169b-ca44-4cd3-a0a7-9442ea3ecb29",
   "metadata": {},
   "source": [
    "<li>중복을 허용하지 않는다\n",
    "<li> 순서가 없다(Unordered)."
   ]
  },
  {
   "cell_type": "code",
   "execution_count": 16,
   "id": "79498d4b-482a-49a9-8f20-ba51e84885c0",
   "metadata": {},
   "outputs": [
    {
     "data": {
      "text/plain": [
       "list"
      ]
     },
     "execution_count": 16,
     "metadata": {},
     "output_type": "execute_result"
    }
   ],
   "source": [
    "s1 = [1,2,2,3,3,5]\n",
    "type(s1)"
   ]
  },
  {
   "cell_type": "code",
   "execution_count": 17,
   "id": "de0725dd-914b-4e4f-b632-48694c252723",
   "metadata": {},
   "outputs": [],
   "source": [
    "s2 = set(s1)"
   ]
  },
  {
   "cell_type": "code",
   "execution_count": 18,
   "id": "7edaa757-6c42-4468-b05f-9a42aae889b6",
   "metadata": {},
   "outputs": [
    {
     "name": "stdout",
     "output_type": "stream",
     "text": [
      "{1, 2, 3, 5}\n"
     ]
    },
    {
     "data": {
      "text/plain": [
       "set"
      ]
     },
     "execution_count": 18,
     "metadata": {},
     "output_type": "execute_result"
    }
   ],
   "source": [
    "print(s2)\n",
    "type(s2)"
   ]
  },
  {
   "cell_type": "code",
   "execution_count": 19,
   "id": "94aece79-35e1-4d10-93f3-c308a5900dbe",
   "metadata": {},
   "outputs": [
    {
     "name": "stdout",
     "output_type": "stream",
     "text": [
      "{'e', 'l', 'H', 'o'}\n"
     ]
    }
   ],
   "source": [
    "s3 = set(\"Hello\")\n",
    "print(s3)"
   ]
  },
  {
   "cell_type": "code",
   "execution_count": 20,
   "id": "463484f1-8848-4fa8-9ef9-8e12780b867f",
   "metadata": {},
   "outputs": [
    {
     "data": {
      "text/plain": [
       "(1, 2, 3, 5)"
      ]
     },
     "execution_count": 20,
     "metadata": {},
     "output_type": "execute_result"
    }
   ],
   "source": [
    "t1 = tuple(s2)\n",
    "t1"
   ]
  },
  {
   "cell_type": "code",
   "execution_count": 21,
   "id": "4f7327bc-2e43-48c6-a867-bdc063d6013d",
   "metadata": {},
   "outputs": [],
   "source": [
    "s1 = set([1, 2, 3, 4, 5, 6])\n",
    "s2 = set([4, 5, 6, 7, 8, 9])"
   ]
  },
  {
   "cell_type": "code",
   "execution_count": 22,
   "id": "662176e7-cbae-4496-b7cf-328816679d39",
   "metadata": {},
   "outputs": [
    {
     "data": {
      "text/plain": [
       "{4, 5, 6}"
      ]
     },
     "execution_count": 22,
     "metadata": {},
     "output_type": "execute_result"
    }
   ],
   "source": [
    "# 교집합\n",
    "s1 & s2"
   ]
  },
  {
   "cell_type": "code",
   "execution_count": 23,
   "id": "8b6af00e-5784-415c-a91c-0495452bef70",
   "metadata": {},
   "outputs": [
    {
     "data": {
      "text/plain": [
       "{4, 5, 6}"
      ]
     },
     "execution_count": 23,
     "metadata": {},
     "output_type": "execute_result"
    }
   ],
   "source": [
    "s1.intersection(s2)"
   ]
  },
  {
   "cell_type": "code",
   "execution_count": 24,
   "id": "0abb1fce-46d3-4cda-bb35-65d7ee986e27",
   "metadata": {},
   "outputs": [
    {
     "data": {
      "text/plain": [
       "{1, 2, 3, 4, 5, 6, 7, 8, 9}"
      ]
     },
     "execution_count": 24,
     "metadata": {},
     "output_type": "execute_result"
    }
   ],
   "source": [
    "# 합집합\n",
    "s1 | s2"
   ]
  },
  {
   "cell_type": "code",
   "execution_count": 25,
   "id": "56c3dc8d-27a2-4e43-97e4-c02503be06e6",
   "metadata": {},
   "outputs": [
    {
     "data": {
      "text/plain": [
       "{1, 2, 3, 4, 5, 6, 7, 8, 9}"
      ]
     },
     "execution_count": 25,
     "metadata": {},
     "output_type": "execute_result"
    }
   ],
   "source": [
    "s1.union(s2)"
   ]
  },
  {
   "cell_type": "code",
   "execution_count": 26,
   "id": "88850762-86df-4110-a059-91e1a8a6f78b",
   "metadata": {},
   "outputs": [
    {
     "data": {
      "text/plain": [
       "{1, 2, 3}"
      ]
     },
     "execution_count": 26,
     "metadata": {},
     "output_type": "execute_result"
    }
   ],
   "source": [
    "# 차집합\n",
    "s1 - s2"
   ]
  },
  {
   "cell_type": "code",
   "execution_count": 27,
   "id": "94499898-e306-4881-9954-60a65629141a",
   "metadata": {},
   "outputs": [
    {
     "data": {
      "text/plain": [
       "{1, 2, 3}"
      ]
     },
     "execution_count": 27,
     "metadata": {},
     "output_type": "execute_result"
    }
   ],
   "source": [
    "s1.difference(s2)"
   ]
  },
  {
   "cell_type": "code",
   "execution_count": 28,
   "id": "7b5c9200-eb40-46e3-bb08-aa6decbae10e",
   "metadata": {},
   "outputs": [
    {
     "data": {
      "text/plain": [
       "{7, 8, 9}"
      ]
     },
     "execution_count": 28,
     "metadata": {},
     "output_type": "execute_result"
    }
   ],
   "source": [
    "s2.difference(s1)"
   ]
  },
  {
   "cell_type": "code",
   "execution_count": 29,
   "id": "a215a7b7-6ace-459b-a76a-c4433a684228",
   "metadata": {},
   "outputs": [
    {
     "data": {
      "text/plain": [
       "{1, 2, 3, 4}"
      ]
     },
     "execution_count": 29,
     "metadata": {},
     "output_type": "execute_result"
    }
   ],
   "source": [
    "# 집합 값 추가(1개)\n",
    "s1 = set([1, 2, 3])\n",
    "s1.add(4)\n",
    "s1"
   ]
  },
  {
   "cell_type": "code",
   "execution_count": 30,
   "id": "d1a08a51-800c-4a84-bb6a-8a89b751ef96",
   "metadata": {},
   "outputs": [],
   "source": [
    "# 집합 값 추가 (여러개)\n",
    "s1 = set([1, 2, 3])\n",
    "s1.update([4, 5, 6])"
   ]
  },
  {
   "cell_type": "code",
   "execution_count": 31,
   "id": "1b8b633d-cad8-44d2-b9dd-068f16e3f1e1",
   "metadata": {},
   "outputs": [
    {
     "data": {
      "text/plain": [
       "{1, 2, 3, 4, 5, 6}"
      ]
     },
     "execution_count": 31,
     "metadata": {},
     "output_type": "execute_result"
    }
   ],
   "source": [
    "s1"
   ]
  },
  {
   "cell_type": "code",
   "execution_count": 32,
   "id": "4bd18c9c-404b-4ec0-b115-2f56cb34b514",
   "metadata": {},
   "outputs": [
    {
     "data": {
      "text/plain": [
       "{1, 3}"
      ]
     },
     "execution_count": 32,
     "metadata": {},
     "output_type": "execute_result"
    }
   ],
   "source": [
    "# 특정 값 제거\n",
    "s1 = set([1, 2, 3])\n",
    "s1.remove(2)\n",
    "s1"
   ]
  },
  {
   "cell_type": "markdown",
   "id": "3ccbaefa-cfc3-4d78-b795-31dc12eb323d",
   "metadata": {},
   "source": [
    "## 람다함수"
   ]
  },
  {
   "cell_type": "code",
   "execution_count": 34,
   "id": "4f79d6fa-addc-48aa-832e-eb093febbfc3",
   "metadata": {},
   "outputs": [
    {
     "data": {
      "text/plain": [
       "<function __main__.<lambda>(x, y)>"
      ]
     },
     "execution_count": 34,
     "metadata": {},
     "output_type": "execute_result"
    }
   ],
   "source": [
    "lambda x : x * 2\n",
    "lambda x , y: x + y\n"
   ]
  },
  {
   "cell_type": "code",
   "execution_count": 35,
   "id": "a3218e36-0a44-44b7-8cd8-679258e8e158",
   "metadata": {},
   "outputs": [
    {
     "data": {
      "text/plain": [
       "15"
      ]
     },
     "execution_count": 35,
     "metadata": {},
     "output_type": "execute_result"
    }
   ],
   "source": [
    "def add(a,b):\n",
    "    return a + b\n",
    "r = add(7,8)\n",
    "r"
   ]
  },
  {
   "cell_type": "code",
   "execution_count": 36,
   "id": "1e49246a-6998-41bc-af3f-cd27eb4d4622",
   "metadata": {},
   "outputs": [
    {
     "data": {
      "text/plain": [
       "9"
      ]
     },
     "execution_count": 36,
     "metadata": {},
     "output_type": "execute_result"
    }
   ],
   "source": [
    "add2 = lambda a,b :a+b\n",
    "k = add2(4,5)\n",
    "k"
   ]
  },
  {
   "cell_type": "code",
   "execution_count": 37,
   "id": "bb7dfb58-5e12-488e-af8b-f2b4af1e0cde",
   "metadata": {},
   "outputs": [
    {
     "name": "stdout",
     "output_type": "stream",
     "text": [
      "20\n",
      "22\n"
     ]
    }
   ],
   "source": [
    "def getStLength1(s): return len(s)\n",
    "    \n",
    "getStLength2 = lambda s:len(s)\n",
    "\n",
    "print(getStLength1(\"This is my cpmputer!\"))\n",
    "print(getStLength2(\"This is my cpmputer!!!\"))"
   ]
  },
  {
   "cell_type": "code",
   "execution_count": 38,
   "id": "2cf93b7e-f240-4b50-b144-4f6c9b75ee24",
   "metadata": {},
   "outputs": [
    {
     "name": "stdout",
     "output_type": "stream",
     "text": [
      "True\n"
     ]
    }
   ],
   "source": [
    "is_even = lambda x:x%2==0\n",
    "print(is_even(8))"
   ]
  },
  {
   "cell_type": "code",
   "execution_count": 39,
   "id": "4bf5f684-9d59-4827-99bc-7f193bd1e5a8",
   "metadata": {},
   "outputs": [
    {
     "name": "stdout",
     "output_type": "stream",
     "text": [
      "[2, 3, 4, 5]\n"
     ]
    }
   ],
   "source": [
    "a = [1, 2, 3, 4]\n",
    "def add1(x):\n",
    "    return x+1\n",
    "r = []\n",
    "for i in a:\n",
    "    r.append(add1(i))\n",
    "print(r)\n",
    "\n"
   ]
  },
  {
   "cell_type": "code",
   "execution_count": 40,
   "id": "24a213b9-b664-4945-8ec1-2360423c8ae1",
   "metadata": {},
   "outputs": [
    {
     "name": "stdout",
     "output_type": "stream",
     "text": [
      "[2, 3, 4, 5]\n"
     ]
    }
   ],
   "source": [
    "a = [1, 2, 3, 4]\n",
    "def add1(x):\n",
    "    return x+1\n",
    "r = map(add1,a)\n",
    "print(list(r))"
   ]
  },
  {
   "cell_type": "code",
   "execution_count": 41,
   "id": "d019cc1b-ed19-4e95-b25f-9b887656c40f",
   "metadata": {},
   "outputs": [
    {
     "name": "stdout",
     "output_type": "stream",
     "text": [
      "[2, 3, 4, 5]\n"
     ]
    }
   ],
   "source": [
    "a = [1, 2, 3, 4]\n",
    "r = map(lambda x :x+1,a)\n",
    "print(list(r))"
   ]
  },
  {
   "cell_type": "code",
   "execution_count": 42,
   "id": "c53634e4-97d4-48d0-ba14-0637073aa439",
   "metadata": {},
   "outputs": [
    {
     "data": {
      "text/plain": [
       "['1', '2', '3', '4']"
      ]
     },
     "execution_count": 42,
     "metadata": {},
     "output_type": "execute_result"
    }
   ],
   "source": [
    "a = [1, 2, 3, 4]\n",
    "r = list(map(str,a))\n",
    "r"
   ]
  },
  {
   "cell_type": "code",
   "execution_count": 43,
   "id": "99b7e5ac-d301-41b6-aaca-a03d88f9d78c",
   "metadata": {},
   "outputs": [
    {
     "name": "stdout",
     "output_type": "stream",
     "text": [
      "[1, 4, 9, 16, 25]\n"
     ]
    }
   ],
   "source": [
    "a = [1, 2, 3, 4, 5]\n",
    "squared = list(map(lambda x: x**2, a))\n",
    "print(squared)"
   ]
  },
  {
   "cell_type": "code",
   "execution_count": 44,
   "id": "02d49833-7740-446b-b757-8ea283f10c5e",
   "metadata": {},
   "outputs": [
    {
     "name": "stdout",
     "output_type": "stream",
     "text": [
      "20\n"
     ]
    }
   ],
   "source": [
    "max_value = lambda x, y : x if x > y else y\n",
    "print(max_value(10,20))"
   ]
  },
  {
   "cell_type": "code",
   "execution_count": 45,
   "id": "5a7eddc9-73b1-4c6a-98d6-9baed0c1e829",
   "metadata": {},
   "outputs": [
    {
     "name": "stdout",
     "output_type": "stream",
     "text": [
      "1\n",
      "9\n"
     ]
    }
   ],
   "source": [
    "numbers = [1, 3 ,5 ,7, 9]\n",
    "first_value = lambda lst: lst[0] if lst else None\n",
    "max_value = lambda lst: max(lst) if lst else None\n",
    "print(first_value(numbers))\n",
    "print(max_value(numbers))"
   ]
  },
  {
   "cell_type": "code",
   "execution_count": 46,
   "id": "c4d97aba-9b35-45a5-9192-61c9ac2eeaee",
   "metadata": {},
   "outputs": [
    {
     "name": "stdout",
     "output_type": "stream",
     "text": [
      "[2, 4, 6, 8, 10]\n"
     ]
    }
   ],
   "source": [
    "a = [1,2,3,4,5,6,7,8,9,10]\n",
    "r = []\n",
    "def is_even(x):\n",
    "    return True if x%2==0 else False\n",
    "\n",
    "for i in a:\n",
    "    if is_even(i):\n",
    "        r.append(i)\n",
    "print(r)"
   ]
  },
  {
   "cell_type": "code",
   "execution_count": 47,
   "id": "09ee3d7e-5e56-41a2-b52f-ea65ef2a7745",
   "metadata": {},
   "outputs": [
    {
     "name": "stdout",
     "output_type": "stream",
     "text": [
      "[2, 4, 6, 8, 10]\n"
     ]
    }
   ],
   "source": [
    "a = [1,2,3,4,5,6,7,8,9,10]\n",
    "def is_even(x):\n",
    "    return x%2==0\n",
    "r = filter(is_even,a)\n",
    "print(list(r))"
   ]
  },
  {
   "cell_type": "code",
   "execution_count": 48,
   "id": "47b065c8-a702-45d0-b546-a6067571c8fe",
   "metadata": {},
   "outputs": [
    {
     "name": "stdout",
     "output_type": "stream",
     "text": [
      "[2, 4, 6, 8, 10]\n"
     ]
    }
   ],
   "source": [
    "a = [1,2,3,4,5,6,7,8,9,10]\n",
    "r = list(filter(lambda x:x%2==0,a))\n",
    "print(r)"
   ]
  },
  {
   "cell_type": "code",
   "execution_count": 49,
   "id": "4b258176-7f23-4b1f-ad09-7f22067f4673",
   "metadata": {},
   "outputs": [
    {
     "name": "stdout",
     "output_type": "stream",
     "text": [
      "[5, 5, 6]\n"
     ]
    }
   ],
   "source": [
    "words = [\"hello\", \"world\", \"python\"]\n",
    "r = list(map(lambda word: len(word), words ))\n",
    "print(r)\n"
   ]
  },
  {
   "cell_type": "code",
   "execution_count": 50,
   "id": "36ae4c59-eb89-47ee-8b90-10c046850ef3",
   "metadata": {},
   "outputs": [
    {
     "name": "stdout",
     "output_type": "stream",
     "text": [
      "[5, 7, 9]\n"
     ]
    }
   ],
   "source": [
    "list1 = [1,2,3]\n",
    "list2 = [4,5,6]\n",
    "r = list(map(lambda x,y : x + y, list1,list2))\n",
    "print(r)"
   ]
  },
  {
   "cell_type": "code",
   "execution_count": 51,
   "id": "19d24421-0eea-43e7-9195-51505b9d82cd",
   "metadata": {},
   "outputs": [
    {
     "name": "stdout",
     "output_type": "stream",
     "text": [
      "['apple', 'banana', 'cherry']\n"
     ]
    }
   ],
   "source": [
    "words = [\"banana\", \"apple\", \"cherry\"]\n",
    "sorted_words = sorted(words, key=lambda x: len(x))\n",
    "print(sorted_words)"
   ]
  },
  {
   "cell_type": "code",
   "execution_count": 52,
   "id": "ba957430-dc17-4d1e-9f9e-21e8ff35442f",
   "metadata": {},
   "outputs": [
    {
     "name": "stdout",
     "output_type": "stream",
     "text": [
      "[(1, 'one'), (2, 'two'), (3, 'three')]\n"
     ]
    }
   ],
   "source": [
    "tuples = [(1,'one'), (3,'three'), (2,'two')]\n",
    "sorted_tuples = sorted(tuples, key=lambda x: x[0])\n",
    "print(sorted_tuples)"
   ]
  },
  {
   "cell_type": "code",
   "execution_count": 53,
   "id": "a34f85f7-1253-4676-8a9d-00610590a45c",
   "metadata": {},
   "outputs": [
    {
     "name": "stdout",
     "output_type": "stream",
     "text": [
      "{1: 'one', 2: 'two', 3: 'three'}\n"
     ]
    }
   ],
   "source": [
    "my_dict = {3: 'three', 1: 'one', 2: 'two'}\n",
    "sorted_dict_by_key = dict(sorted(my_dict.items(), key=lambda x: x[0]))\n",
    "print(sorted_dict_by_key)\n"
   ]
  },
  {
   "cell_type": "code",
   "execution_count": 54,
   "id": "c6435946-3c92-46a4-8e9a-777d15b116cf",
   "metadata": {},
   "outputs": [
    {
     "name": "stdout",
     "output_type": "stream",
     "text": [
      "{1: 'one', 3: 'three', 2: 'two'}\n"
     ]
    }
   ],
   "source": [
    "my_dict = {3: 'three', 1: 'one', 2: 'two'}\n",
    "sorted_dict_by_value = dict(sorted(my_dict.items(), key=lambda x: x[1]))  \n",
    "print(sorted_dict_by_value)\n"
   ]
  },
  {
   "cell_type": "code",
   "execution_count": 55,
   "id": "59920949-b555-4996-b77a-985259288249",
   "metadata": {},
   "outputs": [
    {
     "name": "stdout",
     "output_type": "stream",
     "text": [
      "['HELLO', 'WORLD', 'PYTHON']\n"
     ]
    }
   ],
   "source": [
    "# .upper()\n",
    "words = [\"hello\", \"world\", \"python\"]\n",
    "uppercase = list(map(lambda word: word.upper(), words))\n",
    "print(uppercase)"
   ]
  },
  {
   "cell_type": "code",
   "execution_count": 56,
   "id": "c6d43d70-56c0-4034-a422-1878acd3d16b",
   "metadata": {},
   "outputs": [
    {
     "name": "stdout",
     "output_type": "stream",
     "text": [
      "[('사과', 1000), ('자두', 3000), ('딸기', 2500), ('망고', 6000)]\n",
      "{'사과': 1000, '자두': 3000, '딸기': 2500, '망고': 6000}\n"
     ]
    }
   ],
   "source": [
    "# 번외\n",
    "fruit = ['사과','자두','딸기','망고']\n",
    "price = [1000,3000,2500,6000]\n",
    "a = list(zip(fruit,price))\n",
    "b= dict(zip(fruit,price))\n",
    "print(a, b, sep=\"\\n\")"
   ]
  },
  {
   "cell_type": "markdown",
   "id": "35dd738b-3b29-46da-80cd-ad984390f320",
   "metadata": {},
   "source": [
    "### 재귀함수"
   ]
  },
  {
   "cell_type": "code",
   "execution_count": 58,
   "id": "ff9279dd-b39c-40af-8850-e4f4d98b8343",
   "metadata": {},
   "outputs": [
    {
     "name": "stdin",
     "output_type": "stream",
     "text": [
      "숫자를 입력하세요. 12\n"
     ]
    },
    {
     "name": "stdout",
     "output_type": "stream",
     "text": [
      "479001600\n"
     ]
    }
   ],
   "source": [
    "# 팩토리얼 P!\n",
    "\n",
    "\n",
    "def f(n):\n",
    "    if n > 0:\n",
    "        if n == 1:\n",
    "            return 1\n",
    "        return n*f(n-1)\n",
    "    else:\n",
    "        print(\"0보다 큰 수를 입력하세요\")\n",
    "i = int(input(\"숫자를 입력하세요.\"))\n",
    "print(f(i))"
   ]
  },
  {
   "cell_type": "code",
   "execution_count": 59,
   "id": "a1a63b10-ae06-4fd6-9fd1-daff490a9081",
   "metadata": {},
   "outputs": [
    {
     "name": "stdout",
     "output_type": "stream",
     "text": [
      "1\n"
     ]
    }
   ],
   "source": [
    "# 일반적인 함수를 사용한 팩토리얼 (재귀함수 사용하는 것보다 이것이 더 좋음)\n",
    "\n",
    "def factorial_iterative(n):\n",
    "    result=1\n",
    "    for i in range(1, n+1): # for in range(값, 인덱스)\n",
    "        result*=i\n",
    "    return result\n",
    "print(factorial_iterative(1))"
   ]
  },
  {
   "cell_type": "code",
   "execution_count": 60,
   "id": "5f23d325-28e2-4953-9efa-29cc1b45fd64",
   "metadata": {},
   "outputs": [
    {
     "name": "stdin",
     "output_type": "stream",
     "text": [
      "숫자를 입력하세요. 12\n"
     ]
    },
    {
     "name": "stdout",
     "output_type": "stream",
     "text": [
      "78\n"
     ]
    }
   ],
   "source": [
    "# 등차수열의 합공식1 공차=1\n",
    "\n",
    "def f1(n):\n",
    "    if n > 0:\n",
    "        if n == 1:\n",
    "            return 1\n",
    "        return n+f1(n-1)\n",
    "    else:\n",
    "        print(\"0보다 큰 수를 입력하세요\")\n",
    "k = int(input(\"숫자를 입력하세요.\"))\n",
    "print(f1(k))"
   ]
  },
  {
   "cell_type": "code",
   "execution_count": 61,
   "id": "7dd2e4bb-7332-4997-8502-eb1cac3871dc",
   "metadata": {},
   "outputs": [
    {
     "name": "stdout",
     "output_type": "stream",
     "text": [
      "36\n"
     ]
    }
   ],
   "source": [
    "# 등차수열의 합공식2 공차=1\n",
    "\n",
    "def list_sum(arr):\n",
    "    if len(arr) == 0:\n",
    "        return 0\n",
    "    return arr[0] + list_sum(arr[1:])\n",
    "\n",
    "print(list_sum([1,2,3,4,5,6,7,8]))"
   ]
  },
  {
   "cell_type": "code",
   "execution_count": 62,
   "id": "dbbe5b9f-6aa9-4506-9c25-139028882035",
   "metadata": {},
   "outputs": [
    {
     "name": "stdout",
     "output_type": "stream",
     "text": [
      "34\n"
     ]
    }
   ],
   "source": [
    "# fibonacci(피보나치)수열 1, 1, 2, 3, 5, 8, 13, 21, 34 ...\n",
    "\n",
    "def fibonacci(n):\n",
    "    if n <= 1:\n",
    "        return n\n",
    "    return fibonacci(n-1) + fibonacci(n-2)\n",
    "\n",
    "print(fibonacci(9))"
   ]
  },
  {
   "cell_type": "code",
   "execution_count": 63,
   "id": "6b1cae8d-045b-4982-bd44-6ba0b4d5ded8",
   "metadata": {},
   "outputs": [
    {
     "name": "stdout",
     "output_type": "stream",
     "text": [
      "<class 'tuple'>\n",
      "(1, 2, 3, 4, 5, 6, 7)\n",
      "28\n"
     ]
    }
   ],
   "source": [
    "# *args 와 **kwargs는 파이썬에서 함수에 가변 인수를 전달할 때 사용\n",
    "# *args는 튜플 형태\n",
    "# **kwargs는 딕셔너리 형태\n",
    "\n",
    "def sum_numbers(*qwer):\n",
    "    print(type(qwer))\n",
    "    print(qwer)\n",
    "    return sum(qwer)\n",
    "\n",
    "print(sum_numbers(1,2,3,4,5,6,7))"
   ]
  },
  {
   "cell_type": "code",
   "execution_count": 64,
   "id": "2de9103f-23d0-4b57-80c4-44092845295b",
   "metadata": {},
   "outputs": [
    {
     "name": "stdout",
     "output_type": "stream",
     "text": [
      "('Hello, ', 'world!', ' How are you?')\n",
      "Hello, world! How are you?\n"
     ]
    }
   ],
   "source": [
    "def concatenate_strings(*args):\n",
    "    print(args)\n",
    "    return ''.join(args)\n",
    "print(concatenate_strings('Hello, ', 'world!', ' How are you?'))"
   ]
  },
  {
   "cell_type": "code",
   "execution_count": 65,
   "id": "1b39b34e-bc5c-4e87-b526-6a160d518e9c",
   "metadata": {},
   "outputs": [
    {
     "name": "stdout",
     "output_type": "stream",
     "text": [
      "(10, 20, 5, 30)\n",
      "5\n"
     ]
    }
   ],
   "source": [
    "# 가변인수를 활용한 최대값 최소값 구하기\n",
    "\n",
    "def max_num(*args):\n",
    "    print(args)\n",
    "#    return max(args)\n",
    "    return min(args)\n",
    "print(max_num(10,20,5,30))"
   ]
  },
  {
   "cell_type": "code",
   "execution_count": 66,
   "id": "189aed2c-106e-4a0c-b263-9c5e45d6938c",
   "metadata": {},
   "outputs": [
    {
     "name": "stdout",
     "output_type": "stream",
     "text": [
      "1\n",
      "2\n",
      "3\n",
      "apple\n",
      "banana\n"
     ]
    }
   ],
   "source": [
    "def print_list(*args):\n",
    "    for arg in args:\n",
    "        print(arg)\n",
    "print_list(1,2,3,'apple','banana')"
   ]
  },
  {
   "cell_type": "code",
   "execution_count": 67,
   "id": "227517fd-c959-44f2-93c0-54bf8891d8c1",
   "metadata": {},
   "outputs": [
    {
     "name": "stdout",
     "output_type": "stream",
     "text": [
      "5.5\n"
     ]
    }
   ],
   "source": [
    "# 가변인수를 활용한 평균값 구하기\n",
    "\n",
    "def avg_num(*args):\n",
    "    return sum(args)/len(args) if args else 0\n",
    "\n",
    "print(avg_num(1,2,3,4,5,6,7,8,9,10))\n"
   ]
  },
  {
   "cell_type": "code",
   "execution_count": 68,
   "id": "37887ad8-af60-4de4-b93f-1cee330cab9d",
   "metadata": {},
   "outputs": [
    {
     "name": "stdout",
     "output_type": "stream",
     "text": [
      "[1, 2, 3, 4, 5]\n",
      "['apple', 'banana']\n"
     ]
    }
   ],
   "source": [
    "# 가변 인수를 이용한 중복 제거\n",
    "\n",
    "def remove_duplicates(*args):\n",
    "    return list(set(args))\n",
    "\n",
    "print(remove_duplicates(1,2,2,3,3,4,5,5))\n",
    "print(remove_duplicates('apple','banana','apple'))"
   ]
  },
  {
   "cell_type": "code",
   "execution_count": 69,
   "id": "b68a8105-662c-4659-8b00-cb2abe69d1aa",
   "metadata": {},
   "outputs": [
    {
     "name": "stdout",
     "output_type": "stream",
     "text": [
      "Name: Alice\n",
      "Age: 30\n",
      "Additional Information:\n",
      "- NewYork\n",
      "- 555-1234\n",
      "- Likes Python\n",
      "Name: Bob\n",
      "Age: 25\n",
      "Name: Newyork\n",
      "Age: 555-1234\n"
     ]
    }
   ],
   "source": [
    "# 일반 변수와 가변 인수가 함께 있을 때 일반적으로 일반 변수가 먼저 실행되고 가변 인수가 실행됨/ 가변인수는 됨\n",
    "\n",
    "def print_user_info(name, age, *args):\n",
    "    print(f\"Name: {name}\")\n",
    "    print(f\"Age: {age}\")\n",
    "\n",
    "    if args:\n",
    "        print(\"Additional Information:\")\n",
    "        for info in args:\n",
    "            print(f\"- {info}\")\n",
    "print_user_info(\"Alice\", 30, \"NewYork\", \"555-1234\", \"Likes Python\")\n",
    "print_user_info(\"Bob\", 25)\n",
    "print_user_info(\"Newyork\", \"555-1234\") \n",
    "# 함수에서 print_user_info(변수, 변수 ,가변인수)이므로\n",
    "#값이 (\"Newyork\", \"555-1234\") 이렇게만 들어가면 저 두개가 변수 처리됨"
   ]
  },
  {
   "cell_type": "code",
   "execution_count": 70,
   "id": "9f1f82f2-4ffd-4289-8f58-13d2e1814119",
   "metadata": {},
   "outputs": [
    {
     "name": "stdout",
     "output_type": "stream",
     "text": [
      "<class 'dict'>\n",
      "{'name': 'Alice', 'age': 30, 'city': 'New York'}\n",
      "name:Alice\n",
      "age:30\n",
      "city:New York\n"
     ]
    }
   ],
   "source": [
    "# **kwargs 딕셔너리로 변환\n",
    "\n",
    "def print_user_info(**kwargs):\n",
    "    print(type(kwargs))\n",
    "    print(kwargs)\n",
    "    for k, v in kwargs.items():\n",
    "        print(f\"{k}:{v}\")\n",
    "\n",
    "print_user_info(name='Alice',age=30, city=\"New York\")"
   ]
  },
  {
   "cell_type": "code",
   "execution_count": 71,
   "id": "2915a333-9f2d-469e-92c4-a3689677f24b",
   "metadata": {},
   "outputs": [
    {
     "name": "stdout",
     "output_type": "stream",
     "text": [
      "Hello, Bob!\n",
      "Hello, Guest!\n"
     ]
    }
   ],
   "source": [
    "def greet(**kwargs):\n",
    "    name = kwargs.get('name','Guest')\n",
    "    #name = kwargs['name']\n",
    "    print(f\"Hello, {name}!\")\n",
    "    \n",
    "greet(name='Bob')\n",
    "greet()"
   ]
  },
  {
   "cell_type": "code",
   "execution_count": 72,
   "id": "aee48f04-7b6b-4a1b-b67c-fe5b876c41b8",
   "metadata": {},
   "outputs": [
    {
     "name": "stdout",
     "output_type": "stream",
     "text": [
      "{'vloume': 75, 'brightness': 80, 'theme': 'dark'}\n"
     ]
    }
   ],
   "source": [
    "def save_settings(**kwargs):\n",
    "    settings = {}\n",
    "    for key, value in kwargs.items():\n",
    "        settings[key] = value\n",
    "    return settings\n",
    "\n",
    "settings = save_settings(vloume=75, brightness=80, theme= 'dark')\n",
    "print(settings)\n"
   ]
  },
  {
   "cell_type": "code",
   "execution_count": 73,
   "id": "06bb2c11-1efe-400d-a11a-2dbe0ee50a67",
   "metadata": {},
   "outputs": [
    {
     "name": "stdout",
     "output_type": "stream",
     "text": [
      "Error: File not found\n",
      "filename: example.txt\n",
      "line: 42\n"
     ]
    }
   ],
   "source": [
    "# 에러 메세지 표현\n",
    "\n",
    "def customer_error(message, **kwargs):\n",
    "    error_details = f\"Error: {message}\"\n",
    "    for key, value in kwargs.items():\n",
    "        error_details += f\"\\n{key}: {value}\"\n",
    "    return error_details\n",
    "\n",
    "error_message = customer_error(\"File not found\", filename=\"example.txt\",line=42)\n",
    "print(error_message)"
   ]
  },
  {
   "cell_type": "code",
   "execution_count": 74,
   "id": "787fd6cc-1d5b-491b-88c7-6532ec01b6fd",
   "metadata": {},
   "outputs": [
    {
     "name": "stdout",
     "output_type": "stream",
     "text": [
      "120\n"
     ]
    }
   ],
   "source": [
    "# *args를 활용한 덧셈, 곱셈 선택해서 값 계산\n",
    "\n",
    "def add_mul(choice, *args):\n",
    "    if choice == 'add':\n",
    "        result = 0\n",
    "        for i in args:\n",
    "            result = result + i\n",
    "    elif choice == \"mul\":\n",
    "        result = 1\n",
    "        for i in args:\n",
    "            result = result*i\n",
    "    return result\n",
    "\n",
    "result = add_mul('mul',1,2,3,4,5)\n",
    "print(result)"
   ]
  },
  {
   "cell_type": "code",
   "execution_count": 75,
   "id": "ad157eaf-6e94-490d-a5f9-2a67d9070249",
   "metadata": {},
   "outputs": [
    {
     "name": "stdout",
     "output_type": "stream",
     "text": [
      "6\n"
     ]
    }
   ],
   "source": [
    "# **kwargs를 활용한 덧셈, 곱셈 선택해서 값 계산\n",
    "\n",
    "def calculate(operation, **kwargs):\n",
    "    if operation == 'add':\n",
    "        return sum(kwargs.values())\n",
    "    elif operation == \"mul\":\n",
    "        result = 1\n",
    "        for i in kwargs.values():\n",
    "            result = result*i\n",
    "        return result\n",
    "    return None\n",
    "\n",
    "result = calculate('mul',a=1,b=2,c=3)\n",
    "print(result)"
   ]
  },
  {
   "cell_type": "code",
   "execution_count": 76,
   "id": "9b0f9a16-38da-49c2-b92c-db33edbf5376",
   "metadata": {},
   "outputs": [
    {
     "name": "stdout",
     "output_type": "stream",
     "text": [
      "Order for Alice:\n",
      "- Bugger\n",
      "- Fries\n",
      "- Soda\n"
     ]
    },
    {
     "data": {
      "text/plain": [
       "{'customer': 'Alice', 'items': ['Bugger', 'Fries', 'Soda']}"
      ]
     },
     "execution_count": 76,
     "metadata": {},
     "output_type": "execute_result"
    }
   ],
   "source": [
    "# 고객 주문 목록 출력\n",
    "\n",
    "def take_order(customer_name, *menu_items):\n",
    "    print(f\"Order for {customer_name}:\")\n",
    "    for item in menu_items:\n",
    "        print(f\"- {item}\")\n",
    "    order = {\n",
    "        \"customer\" : customer_name,\n",
    "        \"items\" : list(menu_items)\n",
    "    }\n",
    "    return order\n",
    "\n",
    "take_order(\"Alice\",\"Bugger\",\"Fries\",\"Soda\")"
   ]
  },
  {
   "cell_type": "code",
   "execution_count": 77,
   "id": "403624f2-383d-4018-9ddb-aa66295ddd3e",
   "metadata": {},
   "outputs": [
    {
     "name": "stdout",
     "output_type": "stream",
     "text": [
      "41.666666666666664\n"
     ]
    }
   ],
   "source": [
    "# 평균시간 출력\n",
    "\n",
    "def average_workout_duration(*durations):\n",
    "    if not durations:\n",
    "        return 0\n",
    "    return sum(durations) / len(durations)\n",
    "\n",
    "    \n",
    "print(average_workout_duration(35,40,50))"
   ]
  },
  {
   "cell_type": "code",
   "execution_count": null,
   "id": "881ea40e-8004-4095-b800-91920f9ec761",
   "metadata": {},
   "outputs": [],
   "source": []
  }
 ],
 "metadata": {
  "kernelspec": {
   "display_name": "Python 3 (ipykernel)",
   "language": "python",
   "name": "python3"
  },
  "language_info": {
   "codemirror_mode": {
    "name": "ipython",
    "version": 3
   },
   "file_extension": ".py",
   "mimetype": "text/x-python",
   "name": "python",
   "nbconvert_exporter": "python",
   "pygments_lexer": "ipython3",
   "version": "3.12.7"
  }
 },
 "nbformat": 4,
 "nbformat_minor": 5
}
