{
 "cells": [
  {
   "cell_type": "code",
   "execution_count": 1,
   "id": "63b97ddf-790c-4c10-aeea-fa1f9a7079f6",
   "metadata": {},
   "outputs": [
    {
     "data": {
      "text/plain": [
       "range(0, 5)"
      ]
     },
     "execution_count": 1,
     "metadata": {},
     "output_type": "execute_result"
    }
   ],
   "source": [
    "a = range(5)\n",
    "a"
   ]
  },
  {
   "cell_type": "code",
   "execution_count": 2,
   "id": "1de46a2e-0725-498d-9971-4f018194c20b",
   "metadata": {},
   "outputs": [
    {
     "data": {
      "text/plain": [
       "[0, 1, 2, 3, 4]"
      ]
     },
     "execution_count": 2,
     "metadata": {},
     "output_type": "execute_result"
    }
   ],
   "source": [
    "list(range(5))"
   ]
  },
  {
   "cell_type": "code",
   "execution_count": 3,
   "id": "699c4f9a-3411-4499-b3b9-e71ac7caefff",
   "metadata": {},
   "outputs": [
    {
     "data": {
      "text/plain": [
       "[0, 1, 2, 3, 4]"
      ]
     },
     "execution_count": 3,
     "metadata": {},
     "output_type": "execute_result"
    }
   ],
   "source": [
    "list(range(0, 5))"
   ]
  },
  {
   "cell_type": "code",
   "execution_count": 4,
   "id": "bcab61a5-172c-4b5c-a5f6-7a930ade40c4",
   "metadata": {},
   "outputs": [
    {
     "data": {
      "text/plain": [
       "[5, 6, 7, 8, 9]"
      ]
     },
     "execution_count": 4,
     "metadata": {},
     "output_type": "execute_result"
    }
   ],
   "source": [
    "list(range(5, 10))"
   ]
  },
  {
   "cell_type": "code",
   "execution_count": 5,
   "id": "cad7abef-46fe-4328-983a-9c27e2cc31f1",
   "metadata": {},
   "outputs": [
    {
     "data": {
      "text/plain": [
       "[0, 2, 4, 6, 8]"
      ]
     },
     "execution_count": 5,
     "metadata": {},
     "output_type": "execute_result"
    }
   ],
   "source": [
    "list(range(0, 10, 2))"
   ]
  },
  {
   "cell_type": "code",
   "execution_count": 6,
   "id": "6e5eb62a-b9fc-4ebf-a2ff-9022f9e8385c",
   "metadata": {},
   "outputs": [
    {
     "data": {
      "text/plain": [
       "[0, 1, 2, 3, 4, 5, 6, 7, 8, 9, 10]"
      ]
     },
     "execution_count": 6,
     "metadata": {},
     "output_type": "execute_result"
    }
   ],
   "source": [
    "list(range(0, 10 +1))"
   ]
  },
  {
   "cell_type": "code",
   "execution_count": 7,
   "id": "38536ffd-fc65-4c78-a676-1c90c855ef48",
   "metadata": {},
   "outputs": [
    {
     "name": "stdout",
     "output_type": "stream",
     "text": [
      "1 = 반복 변수\n",
      "2 = 반복 변수\n",
      "3 = 반복 변수\n",
      "4 = 반복 변수\n",
      "5 = 반복 변수\n",
      "\n",
      "5 = 반복 변수\n",
      "6 = 반복 변수\n",
      "7 = 반복 변수\n",
      "8 = 반복 변수\n",
      "9 = 반복 변수\n",
      "\n",
      "0 = 반복 변수\n",
      "3 = 반복 변수\n",
      "6 = 반복 변수\n",
      "9 = 반복 변수\n",
      "\n"
     ]
    }
   ],
   "source": [
    "a = [1,2,3,4,5]\n",
    "\n",
    "for i in a:\n",
    "    print(str(i) + \" = 반복 변수\")\n",
    "print()\n",
    "\n",
    "for i in range(5, 10):\n",
    "    print(str(i) + \" = 반복 변수\")\n",
    "print()\n",
    "\n",
    "for i in range (0, 10, 3):\n",
    "    print(str(i) + \" = 반복 변수\")\n",
    "print()    "
   ]
  },
  {
   "cell_type": "code",
   "execution_count": 8,
   "id": "e95986eb-b691-40a6-9b61-a788e36acf82",
   "metadata": {},
   "outputs": [
    {
     "name": "stdout",
     "output_type": "stream",
     "text": [
      "0번쨰 반복: 273\n",
      "1번쨰 반복: 32\n",
      "2번쨰 반복: 103\n",
      "3번쨰 반복: 57\n",
      "4번쨰 반복: 52\n"
     ]
    }
   ],
   "source": [
    "array = [273, 32, 103, 57, 52]\n",
    "for i in range(len(array)):\n",
    "    print(\"{}번쨰 반복: {}\".format(i, array[i]))"
   ]
  },
  {
   "cell_type": "code",
   "execution_count": 9,
   "id": "ecf9c681-b190-4688-bcae-372742eeda73",
   "metadata": {},
   "outputs": [
    {
     "name": "stdout",
     "output_type": "stream",
     "text": [
      "현재 반복 변수: 4\n",
      "현재 반복 변수: 3\n",
      "현재 반복 변수: 2\n",
      "현재 반복 변수: 1\n",
      "현재 반복 변수: 0\n"
     ]
    }
   ],
   "source": [
    "for i in range(4, 0 -1, -1):\n",
    "    print(\"현재 반복 변수: {}\".format(i))"
   ]
  },
  {
   "cell_type": "code",
   "execution_count": 10,
   "id": "1cce1b13-dc84-4013-ae0d-99d5586e9f80",
   "metadata": {},
   "outputs": [
    {
     "name": "stdout",
     "output_type": "stream",
     "text": [
      "현재 반복 변수: 4\n",
      "현재 반복 변수: 3\n",
      "현재 반복 변수: 2\n",
      "현재 반복 변수: 1\n",
      "현재 반복 변수: 0\n"
     ]
    }
   ],
   "source": [
    "for i in reversed(range(5)):\n",
    "    print(\"현재 반복 변수: {}\".format(i))"
   ]
  },
  {
   "cell_type": "code",
   "execution_count": 11,
   "id": "b5ae0f16-3787-4f3b-9965-72e7eb1d894b",
   "metadata": {},
   "outputs": [
    {
     "name": "stdout",
     "output_type": "stream",
     "text": [
      "*\n",
      "**\n",
      "***\n",
      "****\n",
      "*****\n",
      "******\n",
      "*******\n",
      "********\n",
      "*********\n",
      "\n"
     ]
    }
   ],
   "source": [
    "a = \"\"\n",
    "for i in range(1,10):\n",
    "    for j in range(0,i):\n",
    "        a += \"*\"\n",
    "    a +=\"\\n\"\n",
    "\n",
    "print(a)"
   ]
  },
  {
   "cell_type": "code",
   "execution_count": 12,
   "id": "d21b5b61-0703-4a63-9c51-9e285f45067f",
   "metadata": {},
   "outputs": [
    {
     "name": "stdout",
     "output_type": "stream",
     "text": [
      "             *\n",
      "            ***\n",
      "           *****\n",
      "          *******\n",
      "         *********\n",
      "        ***********\n",
      "       *************\n",
      "      ***************\n",
      "     *****************\n",
      "    *******************\n",
      "   *********************\n",
      "  ***********************\n",
      " *************************\n",
      "***************************\n",
      "\n"
     ]
    }
   ],
   "source": [
    "a = \"\"\n",
    "for i in range(1, 15):\n",
    "    for j in range(14,i,-1):\n",
    "        a += ' '\n",
    "    for k in range(0,2 *i-1):\n",
    "        a += \"*\"\n",
    "    a +=\"\\n\"\n",
    "\n",
    "print(a)"
   ]
  },
  {
   "cell_type": "code",
   "execution_count": 13,
   "id": "044b2779-b2eb-4110-83a1-1842bf9badbe",
   "metadata": {},
   "outputs": [
    {
     "name": "stdout",
     "output_type": "stream",
     "text": [
      "0번째 반복입니다.\n",
      "1번째 반복입니다.\n",
      "2번째 반복입니다.\n",
      "3번째 반복입니다.\n",
      "4번째 반복입니다.\n",
      "5번째 반복입니다.\n",
      "6번째 반복입니다.\n",
      "7번째 반복입니다.\n",
      "8번째 반복입니다.\n",
      "9번째 반복입니다.\n"
     ]
    }
   ],
   "source": [
    "i = 0\n",
    "while i < 10:\n",
    "    print(\"{}번째 반복입니다.\".format(i))\n",
    "    i +=1"
   ]
  },
  {
   "cell_type": "code",
   "execution_count": 14,
   "id": "63c75070-fffc-4240-b137-655e55eb03d7",
   "metadata": {},
   "outputs": [
    {
     "name": "stdout",
     "output_type": "stream",
     "text": [
      "[1, 1]\n"
     ]
    }
   ],
   "source": [
    "list_test = [1, 2, 1, 2]\n",
    "value = 2\n",
    "\n",
    "while value in list_test:\n",
    "    list_test.remove(value)\n",
    "\n",
    "print(list_test)"
   ]
  },
  {
   "cell_type": "code",
   "execution_count": 15,
   "id": "42eff48e-dd07-4712-9142-fd10ec151844",
   "metadata": {},
   "outputs": [
    {
     "data": {
      "text/plain": [
       "1732344761.4874904"
      ]
     },
     "execution_count": 15,
     "metadata": {},
     "output_type": "execute_result"
    }
   ],
   "source": [
    "import time\n",
    "\n",
    "time.time()\n"
   ]
  },
  {
   "cell_type": "code",
   "execution_count": 16,
   "id": "143f8a96-c294-40b8-9d60-59487eb704e4",
   "metadata": {},
   "outputs": [
    {
     "name": "stdout",
     "output_type": "stream",
     "text": [
      "5초 동안 30495824번 반복했습니다.\n"
     ]
    }
   ],
   "source": [
    "import time\n",
    "\n",
    "number = 0\n",
    "tar =time.time() +5\n",
    "while time.time() <tar:\n",
    "    number += 1\n",
    "\n",
    "print(\"5초 동안 {}번 반복했습니다.\".format(number))"
   ]
  },
  {
   "cell_type": "code",
   "execution_count": 17,
   "id": "176a1df5-4d10-474c-8928-bb2f9121e0bf",
   "metadata": {},
   "outputs": [
    {
     "name": "stdout",
     "output_type": "stream",
     "text": [
      "0번째 반복문입니다.\n"
     ]
    },
    {
     "name": "stdin",
     "output_type": "stream",
     "text": [
      ">종료하시겠습니까?(y/n):  y\n"
     ]
    },
    {
     "name": "stdout",
     "output_type": "stream",
     "text": [
      "반복을 종료합니다.\n"
     ]
    }
   ],
   "source": [
    "i = 0\n",
    "\n",
    "while True:\n",
    "    print(\"{}번째 반복문입니다.\".format(i))\n",
    "    i = i +1\n",
    "    input_text = input(\">종료하시겠습니까?(y/n): \")\n",
    "    if input_text in [\"y\",\"Y\"]:\n",
    "        print(\"반복을 종료합니다.\")\n",
    "        break        "
   ]
  },
  {
   "cell_type": "code",
   "execution_count": 18,
   "id": "764d580e-fb8f-4f84-a1df-acec11c7d092",
   "metadata": {},
   "outputs": [
    {
     "name": "stdout",
     "output_type": "stream",
     "text": [
      "15\n",
      "20\n",
      "25\n"
     ]
    }
   ],
   "source": [
    "numbers = [5, 15, 6, 20, 7, 25]\n",
    "\n",
    "for number in numbers:\n",
    "    if number <10:\n",
    "        continue\n",
    "    print(number)\n",
    "    "
   ]
  },
  {
   "cell_type": "code",
   "execution_count": 19,
   "id": "110026ab-31fe-4169-82cd-599f32507922",
   "metadata": {},
   "outputs": [
    {
     "name": "stdout",
     "output_type": "stream",
     "text": [
      "{'name': '기사', 'hp': 200, 'mp': 30, 'level': 5}\n"
     ]
    }
   ],
   "source": [
    "key_list = [\"name\",\"hp\",'mp',\"level\"]\n",
    "value_list = ['기사',200,30,5]\n",
    "char = {}\n",
    "for i in range(0,len(key_list)):\n",
    "    char[key_list[i]] = value_list[i]\n",
    "    \n",
    "\n",
    "print(char)"
   ]
  },
  {
   "cell_type": "code",
   "execution_count": 37,
   "id": "0df82a4b-0e95-4692-a5f3-f98a83d32c3a",
   "metadata": {},
   "outputs": [
    {
     "name": "stdout",
     "output_type": "stream",
     "text": [
      "141를 더할 떄 10000을 넘으며 그때의 값은 10011입니다.\n"
     ]
    }
   ],
   "source": [
    "limit = 10000\n",
    "i = 1\n",
    "sum_value = 0\n",
    "while sum_value < limit:\n",
    "    sum_value +=i\n",
    "    i += 1\n",
    "        \n",
    "print(\"{}를 더할 떄 {}을 넘으며 그때의 값은 {}입니다.\" .format(i-1, limit, sum_value))"
   ]
  },
  {
   "cell_type": "code",
   "execution_count": 48,
   "id": "4bb0f5fd-454b-412e-8c7f-3b309453331a",
   "metadata": {},
   "outputs": [
    {
     "name": "stdout",
     "output_type": "stream",
     "text": [
      "최대가 되는 경우: 50 * 50 =2500\n"
     ]
    }
   ],
   "source": [
    "max_value = 0\n",
    "a = 0\n",
    "b = 0\n",
    "for i in range(1, 100 //2 +1):\n",
    "    j = 100 -i\n",
    "    current = i * j\n",
    "    if max_value < current:\n",
    "        a = i\n",
    "        b = j\n",
    "        max_value = current\n",
    "\n",
    "print(\"최대가 되는 경우: {} * {} ={}\".format(a,b,max_value))"
   ]
  },
  {
   "cell_type": "code",
   "execution_count": 52,
   "id": "e1fa51b9-9a35-4765-ac2f-b2e262f4690c",
   "metadata": {},
   "outputs": [
    {
     "name": "stdout",
     "output_type": "stream",
     "text": [
      "# reversed() 함수\n",
      "reversed([1,2,3,4,5]: <list_reverseiterator object at 0x000001D917DD32E0>\n",
      "list(reversed([1,2,3,4,5])): [5, 4, 3, 2, 1]\n",
      "\n",
      "# reversed() 함수와 반복문\n",
      "for i in reversed([1,2,3,4,5]):\n",
      "- 5\n",
      "- 4\n",
      "- 3\n",
      "- 2\n",
      "- 1\n"
     ]
    }
   ],
   "source": [
    "list_a = [1,2,3,4,5]\n",
    "list_reversed = reversed(list_a)\n",
    "\n",
    "print(\"# reversed() 함수\")\n",
    "print(\"reversed([1,2,3,4,5]:\",list_reversed)\n",
    "print(\"list(reversed([1,2,3,4,5])):\",list(list_reversed))\n",
    "print()\n",
    "\n",
    "print(\"# reversed() 함수와 반복문\")\n",
    "print(\"for i in reversed([1,2,3,4,5]):\")\n",
    "for i in reversed(list_a):\n",
    "    print(\"-\",i)"
   ]
  },
  {
   "cell_type": "code",
   "execution_count": 68,
   "id": "8d159d87-21da-4d59-a38f-e4aa9783ad81",
   "metadata": {},
   "outputs": [
    {
     "name": "stdout",
     "output_type": "stream",
     "text": [
      "1번째 요소는 요소A입니다.\n",
      "2번째 요소는 요소B입니다.\n",
      "3번째 요소는 요소C입니다.\n"
     ]
    }
   ],
   "source": [
    "ex = [\"요소A\", \"요소B\", \"요소C\"]\n",
    "a = 0\n",
    "for i in ex:\n",
    "    a = a + 1\n",
    "    print(f\"{a}번째 요소는 {i}입니다.\")"
   ]
  },
  {
   "cell_type": "code",
   "execution_count": 84,
   "id": "b257a117-abce-42b2-bdad-29ceb70f7ef0",
   "metadata": {},
   "outputs": [
    {
     "name": "stdout",
     "output_type": "stream",
     "text": [
      "#단순 출력\n",
      "['요소A', '요소B', '요소C']\n",
      "\n",
      "#enumerate() 함수 적용 출력\n",
      "<enumerate object at 0x000001D918D32A70>\n",
      "\n",
      "# list() 함수로 강제 변환 출력\n",
      "[(0, '요소A'), (1, '요소B'), (2, '요소C')]\n",
      "\n",
      "# 반목문과 조합하기\n",
      "1번째 요소는 요소A입니다.\n",
      "2번째 요소는 요소B입니다.\n",
      "3번째 요소는 요소C입니다.\n"
     ]
    }
   ],
   "source": [
    "ex = [\"요소A\", \"요소B\", \"요소C\"]\n",
    "print(\"#단순 출력\")\n",
    "print(ex)\n",
    "print()\n",
    "\n",
    "print(\"#enumerate() 함수 적용 출력\")\n",
    "print(enumerate(ex))\n",
    "print()\n",
    "\n",
    "print(\"# list() 함수로 강제 변환 출력\")\n",
    "print(list(enumerate(ex)))\n",
    "print()\n",
    "\n",
    "print(\"# 반목문과 조합하기\")\n",
    "for i, value in enumerate(ex):\n",
    "    print(\"{}번째 요소는 {}입니다.\".format(i+1, value))\n"
   ]
  },
  {
   "cell_type": "code",
   "execution_count": 110,
   "id": "f8ed76b3-dfcc-4c57-aec2-a05c47be868b",
   "metadata": {},
   "outputs": [
    {
     "name": "stdout",
     "output_type": "stream",
     "text": [
      "['키A', '키B', '키C']\n"
     ]
    }
   ],
   "source": [
    "ex = {\n",
    "    \"키A\":\"값A\",\n",
    "    \"키B\":\"값B\",\n",
    "    \"키C\":\"값C\",\n",
    "}\n",
    "i =list(ex.keys())\n",
    "print(i)\n",
    "# print(\"# 딕셔너리의 items()함수\")\n",
    "# print(\"items():\",ex.items())\n",
    "# print()\n",
    "\n",
    "# print(\"# 딕셔너리의 items() 함수와 반복문 조합하기\")\n",
    "\n",
    "# for key, element in ex.items():\n",
    "#     print(\"dictionary[{}] = {}\".format(key,element))"
   ]
  },
  {
   "cell_type": "code",
   "execution_count": 104,
   "id": "cf75c711-aa11-4d06-b2de-cb036a590dd8",
   "metadata": {},
   "outputs": [
    {
     "name": "stdout",
     "output_type": "stream",
     "text": [
      "dict_keys(['자바', 'PHP', 'HTML'])\n",
      "dict_values([80, 90, 70])\n",
      "dict_items([('자바', 80), ('PHP', 90), ('HTML', 70)])\n",
      "True\n",
      "False\n",
      "None\n"
     ]
    }
   ],
   "source": [
    "dict1 = {\"자바\":80, \"PHP\":90, \"HTML\":70} \n",
    " \n",
    "print(dict1.keys())\n",
    "print(dict1.values())\n",
    "print(dict1.items())  \n",
    " \n",
    "print('HTML' in dict1) # True\n",
    "print('파이썬' in dict1) # False\n",
    "\n",
    "print(dict1.get(\"파이썬\"))"
   ]
  },
  {
   "cell_type": "code",
   "execution_count": null,
   "id": "383dce2b-631a-44cb-9365-777021386c76",
   "metadata": {},
   "outputs": [],
   "source": []
  }
 ],
 "metadata": {
  "kernelspec": {
   "display_name": "Python 3 (ipykernel)",
   "language": "python",
   "name": "python3"
  },
  "language_info": {
   "codemirror_mode": {
    "name": "ipython",
    "version": 3
   },
   "file_extension": ".py",
   "mimetype": "text/x-python",
   "name": "python",
   "nbconvert_exporter": "python",
   "pygments_lexer": "ipython3",
   "version": "3.12.7"
  }
 },
 "nbformat": 4,
 "nbformat_minor": 5
}
