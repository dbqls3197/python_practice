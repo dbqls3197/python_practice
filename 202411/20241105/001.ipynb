{
 "cells": [
  {
   "cell_type": "markdown",
   "id": "0a89b0c1-8ce2-40c9-93ef-62fb7eb24fc2",
   "metadata": {},
   "source": [
    "## 기본출력"
   ]
  },
  {
   "cell_type": "code",
   "execution_count": 2,
   "id": "19214d62-7b4d-4497-a521-623d06727510",
   "metadata": {},
   "outputs": [
    {
     "name": "stdout",
     "output_type": "stream",
     "text": [
      "감사합니다\n"
     ]
    }
   ],
   "source": [
    "print(\"감사합니다\")"
   ]
  },
  {
   "cell_type": "code",
   "execution_count": 3,
   "id": "66ca6bc0-761f-49cc-88c8-2027701a58e0",
   "metadata": {},
   "outputs": [
    {
     "name": "stdout",
     "output_type": "stream",
     "text": [
      "Helloworld\n"
     ]
    }
   ],
   "source": [
    "print(\"Hello\"+\"world\")"
   ]
  },
  {
   "cell_type": "code",
   "execution_count": 4,
   "id": "45b0ef97-eb8c-4b4d-92bc-5c5386db5614",
   "metadata": {},
   "outputs": [
    {
     "name": "stdout",
     "output_type": "stream",
     "text": [
      "Hello world\n"
     ]
    }
   ],
   "source": [
    "print(\"Hello\",\"world\")"
   ]
  },
  {
   "cell_type": "code",
   "execution_count": 5,
   "id": "3fc72fad-80da-418e-adb8-e06029c366cc",
   "metadata": {},
   "outputs": [
    {
     "name": "stdout",
     "output_type": "stream",
     "text": [
      "Hello\n",
      "World\n"
     ]
    }
   ],
   "source": [
    "print(\"Hello\")\n",
    "print(\"World\")"
   ]
  },
  {
   "cell_type": "code",
   "execution_count": 6,
   "id": "1e277658-768b-4a10-91b8-ed454389ae53",
   "metadata": {},
   "outputs": [
    {
     "name": "stdout",
     "output_type": "stream",
     "text": [
      "Helloworld!\n"
     ]
    }
   ],
   "source": [
    "print(\"Hello\",\"world\",\"!\",sep=\"\")"
   ]
  },
  {
   "cell_type": "code",
   "execution_count": 16,
   "id": "6a07deaa-fe69-4a16-8102-18d8e4677bb7",
   "metadata": {},
   "outputs": [
    {
     "name": "stdout",
     "output_type": "stream",
     "text": [
      "HelloWorld\n"
     ]
    }
   ],
   "source": [
    "print(\"Hello\",end=\"\")\n",
    "print(\"World\")"
   ]
  },
  {
   "cell_type": "code",
   "execution_count": 8,
   "id": "3eb8e20b-d031-4a7e-b7ca-506abcd7937d",
   "metadata": {},
   "outputs": [
    {
     "name": "stdout",
     "output_type": "stream",
     "text": [
      "111\n",
      "222\n",
      "333\n"
     ]
    }
   ],
   "source": [
    "print(\"111\")\n",
    "print(\"222\")\n",
    "print(\"333\")"
   ]
  },
  {
   "cell_type": "code",
   "execution_count": 9,
   "id": "a0819681-c3c9-4beb-ab6b-3a7af475e935",
   "metadata": {},
   "outputs": [
    {
     "name": "stdout",
     "output_type": "stream",
     "text": [
      "111\n",
      "    222\n",
      "333\n"
     ]
    }
   ],
   "source": [
    "print(\"\"\"111\n",
    "    222\n",
    "333\"\"\")"
   ]
  },
  {
   "cell_type": "markdown",
   "id": "a326b0ee-249d-42c8-9887-c9a4ad35b041",
   "metadata": {},
   "source": [
    "# 자료형"
   ]
  },
  {
   "cell_type": "code",
   "execution_count": 11,
   "id": "36d8c5af-8d43-464a-8877-bf2281d1c7fb",
   "metadata": {},
   "outputs": [
    {
     "name": "stdout",
     "output_type": "stream",
     "text": [
      "<class 'str'>\n"
     ]
    }
   ],
   "source": [
    "aaa= \"27\"\n",
    "print(type(aaa))"
   ]
  },
  {
   "cell_type": "code",
   "execution_count": 12,
   "id": "6c3d6dbb-51fb-42e3-bfc0-c167ab6c8d16",
   "metadata": {},
   "outputs": [
    {
     "name": "stdout",
     "output_type": "stream",
     "text": [
      "<class 'int'>\n"
     ]
    }
   ],
   "source": [
    "bbb = 27\n",
    "print(type(bbb))"
   ]
  },
  {
   "cell_type": "code",
   "execution_count": 13,
   "id": "ce8e1c69-e88e-473d-b056-7383c464aeab",
   "metadata": {},
   "outputs": [
    {
     "name": "stdout",
     "output_type": "stream",
     "text": [
      "<class 'float'>\n"
     ]
    }
   ],
   "source": [
    "ccc = 27.5\n",
    "print(type(ccc))"
   ]
  },
  {
   "cell_type": "markdown",
   "id": "da9fbe48-2200-4600-baca-c88a39032b65",
   "metadata": {},
   "source": [
    "# 이스케이프"
   ]
  },
  {
   "cell_type": "code",
   "execution_count": 15,
   "id": "cb8941f6-3174-4681-b4d7-96270e5dd26a",
   "metadata": {},
   "outputs": [
    {
     "name": "stdout",
     "output_type": "stream",
     "text": [
      "'동해물과' '백두산'이\n"
     ]
    }
   ],
   "source": [
    "print(\"'동해물과' '백두산'이\")"
   ]
  },
  {
   "cell_type": "code",
   "execution_count": 16,
   "id": "9f7eebd4-fd78-4e44-84b3-7618c80d709e",
   "metadata": {},
   "outputs": [
    {
     "name": "stdout",
     "output_type": "stream",
     "text": [
      "동해물과 \t 백두산이\n"
     ]
    }
   ],
   "source": [
    "print(\"동해물과 \\t 백두산이\") # tap"
   ]
  },
  {
   "cell_type": "code",
   "execution_count": 17,
   "id": "18749573-bfc3-48ae-a2e3-aff36ad0fb9f",
   "metadata": {},
   "outputs": [
    {
     "name": "stdout",
     "output_type": "stream",
     "text": [
      "동해물과 \t 백두산이\n",
      "111 \t\t 222\n"
     ]
    }
   ],
   "source": [
    "print(\"동해물과 \\t 백두산이\")\n",
    "print(\"111 \\t\\t 222\")"
   ]
  },
  {
   "cell_type": "code",
   "execution_count": 18,
   "id": "6684e84d-a9e0-4952-a078-8983b083a96e",
   "metadata": {},
   "outputs": [
    {
     "name": "stdout",
     "output_type": "stream",
     "text": [
      "3 + 5 = 8\n"
     ]
    }
   ],
   "source": [
    "print(\"3 + 5 = \",3+5, sep=\"\")"
   ]
  },
  {
   "cell_type": "markdown",
   "id": "65ab513b-dd9f-49b5-8906-5c73659835b3",
   "metadata": {},
   "source": [
    "# 1\n"
   ]
  },
  {
   "cell_type": "code",
   "execution_count": 20,
   "id": "e2e54115-83f1-4770-8436-3f4748616f9c",
   "metadata": {},
   "outputs": [
    {
     "name": "stdout",
     "output_type": "stream",
     "text": [
      "3 4\n"
     ]
    }
   ],
   "source": [
    "a = 3\n",
    "b = 4\n",
    "print(a,b)"
   ]
  },
  {
   "cell_type": "code",
   "execution_count": 21,
   "id": "022ef360-7e7c-49a8-b033-a6150532454f",
   "metadata": {},
   "outputs": [
    {
     "name": "stdout",
     "output_type": "stream",
     "text": [
      "5 5\n"
     ]
    }
   ],
   "source": [
    "#c = 5\n",
    "#d = 5\n",
    "c = d = 5\n",
    "print(c, d) "
   ]
  },
  {
   "cell_type": "code",
   "execution_count": 22,
   "id": "8dc6bd66-25f4-47fa-a2e3-28c959758b70",
   "metadata": {},
   "outputs": [
    {
     "name": "stdout",
     "output_type": "stream",
     "text": [
      "1 3 5\n",
      "9\n",
      "15\n"
     ]
    }
   ],
   "source": [
    "z, x, c = 1, 3, 5\n",
    "print(z, x, c)\n",
    "print(z+x+c)\n",
    "print(z*x*c)"
   ]
  },
  {
   "cell_type": "code",
   "execution_count": 23,
   "id": "0c44a919-7ff8-45f8-abf9-872d63e2b5e5",
   "metadata": {},
   "outputs": [
    {
     "name": "stdout",
     "output_type": "stream",
     "text": [
      "500000\n"
     ]
    }
   ],
   "source": [
    "sumsung = 50000\n",
    "print(sumsung * 10)"
   ]
  },
  {
   "cell_type": "markdown",
   "id": "1a31ccfe-4772-46d5-a668-da6658cbc0e1",
   "metadata": {},
   "source": [
    "# 문자열 인덱싱"
   ]
  },
  {
   "cell_type": "code",
   "execution_count": 24,
   "id": "84155003-5777-4d43-9c16-01b1a3a40708",
   "metadata": {},
   "outputs": [
    {
     "name": "stdout",
     "output_type": "stream",
     "text": [
      "hello! python\n"
     ]
    }
   ],
   "source": [
    "s = \"hello\"\n",
    "t = \"python\"\n",
    "print(s+\"!\",t)"
   ]
  },
  {
   "cell_type": "code",
   "execution_count": 25,
   "id": "db790fd3-daac-4868-ae39-db5a0ec9bb7b",
   "metadata": {},
   "outputs": [
    {
     "name": "stdout",
     "output_type": "stream",
     "text": [
      "hello!python\n"
     ]
    }
   ],
   "source": [
    "print(s,t,sep=\"!\")"
   ]
  },
  {
   "cell_type": "code",
   "execution_count": 54,
   "id": "7d2d41e7-4384-4350-9bdb-22bf3834f699",
   "metadata": {},
   "outputs": [
    {
     "name": "stdin",
     "output_type": "stream",
     "text": [
      "이름이 어떻게 되세요? dgd\n"
     ]
    },
    {
     "name": "stdout",
     "output_type": "stream",
     "text": [
      "dgd님 환영합니다\n"
     ]
    }
   ],
   "source": [
    "name = input (\"이름이 어떻게 되세요?\")\n",
    "print(name, \"님 환영합니다\", sep=\"\")"
   ]
  },
  {
   "cell_type": "code",
   "execution_count": 64,
   "id": "f5c937a7-eb0e-414d-8c06-db58896e8cc3",
   "metadata": {},
   "outputs": [
    {
     "name": "stdin",
     "output_type": "stream",
     "text": [
      "올해 나이는요? 28\n"
     ]
    },
    {
     "name": "stdout",
     "output_type": "stream",
     "text": [
      "5년 뒤 나이는 33 살이 되는군요\n"
     ]
    }
   ],
   "source": [
    "age = int(input(\"올해 나이는요?\"))\n",
    "print(\"5년 뒤 나이는\", age+5,\"살이 되는군요\")\n",
    "        "
   ]
  },
  {
   "cell_type": "code",
   "execution_count": 72,
   "id": "d418b768-8988-4d67-99bd-0d9f7d0a2ed5",
   "metadata": {},
   "outputs": [
    {
     "name": "stdin",
     "output_type": "stream",
     "text": [
      "화씨 온도는? 86\n"
     ]
    },
    {
     "name": "stdout",
     "output_type": "stream",
     "text": [
      "화씨온도 86 도는 섭씨 온도 30.0 입니다\n",
      "<class 'int'>\n",
      "<class 'float'>\n"
     ]
    }
   ],
   "source": [
    "# c = (f -32)*(5/9)\n",
    "f = int(input(\"화씨 온도는?\"))\n",
    "c = (f -32)*(5/9)\n",
    "print(\"화씨온도\",f,\"도는 섭씨 온도\",round(c,2),\"입니다\")\n",
    "print(type(f))\n",
    "print(type(c))"
   ]
  },
  {
   "cell_type": "code",
   "execution_count": 82,
   "id": "e876f61c-a54f-45eb-8f97-df002ca42174",
   "metadata": {},
   "outputs": [
    {
     "name": "stdout",
     "output_type": "stream",
     "text": [
      "15\n",
      "33333\n"
     ]
    }
   ],
   "source": [
    "print(3 * 5)\n",
    "print(\"3\" * 5)"
   ]
  },
  {
   "cell_type": "code",
   "execution_count": 86,
   "id": "3c26448c-7383-47a9-8721-d5256850f85f",
   "metadata": {},
   "outputs": [
    {
     "name": "stdout",
     "output_type": "stream",
     "text": [
      "홍\n",
      "길\n",
      "동\n"
     ]
    }
   ],
   "source": [
    "name = \"홍길동\"\n",
    "print(name[0])\n",
    "print(name[1])\n",
    "print(name[2])"
   ]
  },
  {
   "cell_type": "code",
   "execution_count": 101,
   "id": "19a6442f-4e53-43f4-b0e4-be674ee88d1c",
   "metadata": {},
   "outputs": [
    {
     "name": "stdin",
     "output_type": "stream",
     "text": [
      "이름은? 손유빈\n"
     ]
    },
    {
     "name": "stdout",
     "output_type": "stream",
     "text": [
      "당신은  손 씨 성씨군요~\n"
     ]
    }
   ],
   "source": [
    "name = input(\"이름은?\")\n",
    "print(\"당신은 \",name[0],\"씨 성씨군요~\",sep=\"\")"
   ]
  },
  {
   "cell_type": "code",
   "execution_count": 105,
   "id": "d8daf7f5-fedb-4c83-8d17-0ddd993dca4a",
   "metadata": {},
   "outputs": [
    {
     "name": "stdout",
     "output_type": "stream",
     "text": [
      "유빈\n"
     ]
    }
   ],
   "source": [
    "print(name[1:])"
   ]
  },
  {
   "cell_type": "code",
   "execution_count": 110,
   "id": "b86d5d87-971a-40a1-9de8-5ec427199fbb",
   "metadata": {},
   "outputs": [
    {
     "name": "stdout",
     "output_type": "stream",
     "text": [
      "손\n"
     ]
    }
   ],
   "source": [
    "print(name[:1])"
   ]
  },
  {
   "cell_type": "code",
   "execution_count": 128,
   "id": "7a505eb9-1502-4ce9-a08a-178ea67d010b",
   "metadata": {},
   "outputs": [
    {
     "name": "stdout",
     "output_type": "stream",
     "text": [
      "sjn dcto\n"
     ]
    }
   ],
   "source": [
    "txt = \"sejong education\"\n",
    "print(txt[::2])"
   ]
  },
  {
   "cell_type": "code",
   "execution_count": 134,
   "id": "7ebe994c-2ba7-432a-b5dd-3a8072b909a4",
   "metadata": {},
   "outputs": [
    {
     "name": "stdout",
     "output_type": "stream",
     "text": [
      "16\n",
      "n\n"
     ]
    }
   ],
   "source": [
    "print(len(txt))\n",
    "print(txt[15])"
   ]
  },
  {
   "cell_type": "code",
   "execution_count": 138,
   "id": "72b687cb-10ef-45b4-93ac-4219e7218f93",
   "metadata": {},
   "outputs": [
    {
     "name": "stdout",
     "output_type": "stream",
     "text": [
      "n\n"
     ]
    }
   ],
   "source": [
    "print(txt[-1])"
   ]
  },
  {
   "cell_type": "code",
   "execution_count": 27,
   "id": "d34b06aa-9167-4ec1-a7ce-fd9f8df1866d",
   "metadata": {},
   "outputs": [
    {
     "name": "stdout",
     "output_type": "stream",
     "text": [
      "나는 복숭아를 엄청 좋아합니다.\n"
     ]
    }
   ],
   "source": [
    "a= \"나는 사과를 엄청 좋아합니다.\"\n",
    "print(a.replace(\"사과\",\"복숭아\")) # replace는 "
   ]
  },
  {
   "cell_type": "code",
   "execution_count": 41,
   "id": "40fd6183-d106-4452-afd1-f21bad1699a9",
   "metadata": {},
   "outputs": [
    {
     "name": "stdout",
     "output_type": "stream",
     "text": [
      "2210\n",
      "2210\n"
     ]
    }
   ],
   "source": [
    "license_plate = \"24가 2210\"\n",
    "print(license_plate[4:])\n",
    "print(license_plate[-4:])"
   ]
  },
  {
   "cell_type": "code",
   "execution_count": 200,
   "id": "827f6097-f216-4721-ad54-83df48a76099",
   "metadata": {},
   "outputs": [
    {
     "name": "stdout",
     "output_type": "stream",
     "text": [
      "홀홀홀\n"
     ]
    }
   ],
   "source": [
    "string = \"홀짝홀짝홀짝\"\n",
    "print(string[::2])"
   ]
  },
  {
   "cell_type": "code",
   "execution_count": 182,
   "id": "b7363b78-1837-46ba-a0cc-d51b0efc8a02",
   "metadata": {},
   "outputs": [
    {
     "name": "stdout",
     "output_type": "stream",
     "text": [
      "NOHTYP\n"
     ]
    }
   ],
   "source": [
    "string =\"PYTHON\"\n",
    "print(string[::-1])"
   ]
  },
  {
   "cell_type": "code",
   "execution_count": 188,
   "id": "96eeec21-c5ff-460d-a767-e1f95ff59c05",
   "metadata": {},
   "outputs": [
    {
     "name": "stdout",
     "output_type": "stream",
     "text": [
      "나는 사과를 엄청 좋아합니다.\n",
      "나는 복숭아를 엄청 좋아합니다.\n"
     ]
    }
   ],
   "source": [
    "a= \"나는 사과를 엄청 좋아합니다.\"\n",
    "b = a.replace(\"사과\",\"복숭아\")\n",
    "print(a)\n",
    "print(b)"
   ]
  },
  {
   "cell_type": "code",
   "execution_count": 204,
   "id": "67a08d6c-405e-4a6d-bfc5-aaafc88a808e",
   "metadata": {},
   "outputs": [
    {
     "name": "stdout",
     "output_type": "stream",
     "text": [
      "010-1111-2222\n",
      "01011112222\n"
     ]
    }
   ],
   "source": [
    "phone_number = \"010-1111-2222\"\n",
    "phone_number1 = phone_number.replace(\"-\",\"\")\n",
    "print(phone_number)\n",
    "print(phone_number1)"
   ]
  },
  {
   "cell_type": "code",
   "execution_count": 210,
   "id": "0194fb00-18ff-48ec-8d11-e1b85d81ce7e",
   "metadata": {},
   "outputs": [
    {
     "name": "stdout",
     "output_type": "stream",
     "text": [
      "['http://sharebook', 'kr']\n",
      "kr\n"
     ]
    }
   ],
   "source": [
    "url = \"http://sharebook.kr\"\n",
    "url_split = url.split('.')\n",
    "print(url_split)\n",
    "print(url_split[-1])"
   ]
  },
  {
   "cell_type": "code",
   "execution_count": 216,
   "id": "a17ea3ee-a690-4858-b014-50e88ee6ef6b",
   "metadata": {},
   "outputs": [
    {
     "name": "stdout",
     "output_type": "stream",
     "text": [
      "['hong', 'gmail.com']\n",
      "hong#gmail.com\n"
     ]
    }
   ],
   "source": [
    "a = \"hong@gmail.com\"\n",
    "b = a.split(\"@\")\n",
    "print(b)\n",
    "c = \"#\".join(b)\n",
    "print(c)"
   ]
  },
  {
   "cell_type": "code",
   "execution_count": 222,
   "id": "786afae4-1293-406c-913a-2dcc6501f0cb",
   "metadata": {},
   "outputs": [
    {
     "name": "stdout",
     "output_type": "stream",
     "text": [
      "4\n"
     ]
    }
   ],
   "source": [
    "a = \"everyone!\"\n",
    "print(a.find(\"y\"))"
   ]
  },
  {
   "cell_type": "code",
   "execution_count": 230,
   "id": "a662d988-c6de-48ad-8ffa-d9e01d7f5b03",
   "metadata": {},
   "outputs": [
    {
     "name": "stdin",
     "output_type": "stream",
     "text": [
      "이메일 주소? dbqls3197@naver.com\n"
     ]
    },
    {
     "name": "stdout",
     "output_type": "stream",
     "text": [
      "아이디는 dbqls3197 이고 도메인은 naver.com 입니다.\n"
     ]
    }
   ],
   "source": [
    "mail = input(\"이메일 주소?\")\n",
    "pos = mail.find(\"@\")\n",
    "id = mail[:pos]\n",
    "domain = mail[pos+1:]\n",
    "print(\"아이디는\", id, \"이고 도메인은\", domain, \"입니다.\")  "
   ]
  }
 ],
 "metadata": {
  "kernelspec": {
   "display_name": "Python 3 (ipykernel)",
   "language": "python",
   "name": "python3"
  },
  "language_info": {
   "codemirror_mode": {
    "name": "ipython",
    "version": 3
   },
   "file_extension": ".py",
   "mimetype": "text/x-python",
   "name": "python",
   "nbconvert_exporter": "python",
   "pygments_lexer": "ipython3",
   "version": "3.12.7"
  }
 },
 "nbformat": 4,
 "nbformat_minor": 5
}
