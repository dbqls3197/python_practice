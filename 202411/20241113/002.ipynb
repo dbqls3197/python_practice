{
 "cells": [
  {
   "cell_type": "code",
   "execution_count": 2,
   "id": "0e833480-5b3d-4196-8ef4-30447888bc3e",
   "metadata": {},
   "outputs": [
    {
     "name": "stdout",
     "output_type": "stream",
     "text": [
      "[('회의', datetime.datetime(2024, 10, 20, 14, 0)), ('생일 파티', datetime.datetime(2024, 12, 5, 18, 30)), ('발표 준비', datetime.datetime(2024, 11, 15, 9, 0))]\n",
      "[모든 일정]: \n",
      "-회의: 2024-10-20 14:00\n",
      "-생일 파티: 2024-12-05 18:30\n",
      "-발표 준비: 2024-11-15 09:00\n",
      "\n",
      "[남은 일정]\n",
      "-생일 파티: 2024-12-05 18:30(남은일수: 22일)\n",
      "-발표 준비: 2024-11-15 09:00(남은일수: 1일)\n",
      "\n",
      "일정 관리 프로그램\n",
      "1. 일정 추가\n",
      "2. 모든 일정 보기\n",
      "3. 다가오는 일정 보기\n",
      "4. 종료\n"
     ]
    },
    {
     "name": "stdin",
     "output_type": "stream",
     "text": [
      "원하는 작업을 선택하세요 (1~4):  4\n"
     ]
    },
    {
     "name": "stdout",
     "output_type": "stream",
     "text": [
      "프로그램을 종료합니다\n"
     ]
    }
   ],
   "source": [
    "# 일정추가\n",
    "# 일정출력\n",
    "# 예정된 일정 출력\n",
    "# [('회의','2024-11-15 15:30')],[('회의2','2024-11-17 14:00')]\n",
    "#import datetime # datetime.datetime\n",
    "import os\n",
    "from datetime import datetime # datetime\n",
    "\n",
    "# 일정 목록 초기화\n",
    "events = []\n",
    "\n",
    "# 화면 클리어\n",
    "def clear_screen():\n",
    "    os.system('cls' if os.name=='nt' else 'clear')\n",
    "\n",
    "# 파일에 저장된 일정을 일정목록 변수로 초기화\n",
    "def load_events(filename=\"events.txt\"):\n",
    "    global events\n",
    "    with open(filename,'r',encoding=\"utf-8\") as f:\n",
    "        for line in f:\n",
    "            event_name, event_date_str= line.strip().split(\"|\")\n",
    "            event_date = datetime.strptime(event_date_str,'%Y-%m-%d %H:%M')\n",
    "            events.append((event_name,event_date))\n",
    "\n",
    "#일정 파일로 저장\n",
    "    \n",
    "def save_event(filename=\"events.txt\"):\n",
    "    with open(filename,\"w\",encoding=\"utf-8\") as f:\n",
    "        for event_name,event_date in events:\n",
    "            f.write(f\"{event_name}|{event_date.strftime(\"%Y-%m-%d %H:%M\")}\\n\")\n",
    "\n",
    "# 일정추가\n",
    "def add_event(event_name, event_date):\n",
    "    events.append((event_name, event_date))\n",
    "\n",
    "# 모든 일정 출력\n",
    "def show_events():\n",
    "\n",
    "    if not events:\n",
    "        print(\"일정이 없습니다\")\n",
    "        return\n",
    "        \n",
    "    print(\"[모든 일정]: \")\n",
    "    for event_name, event_date in events:\n",
    "        print(f\"-{event_name}: {event_date.strftime('%Y-%m-%d %H:%M')}\")\n",
    "\n",
    "# 남은 일정 출력\n",
    "def show_upcoming_events():\n",
    "    now = datetime.now()\n",
    "    upcoming_events =[event for event in events if event[1] >= now]\n",
    "\n",
    "    print()\n",
    "    print(\"[남은 일정]\")\n",
    "\n",
    "    for event_name, event_date in upcoming_events:\n",
    "            days_left = (event_date -now).days\n",
    "            print(f\"-{event_name}: {event_date.strftime('%Y-%m-%d %H:%M')}(남은일수: {days_left}일)\")\n",
    "\n",
    "\n",
    "add_event(\"회의\",datetime(2024, 10, 20, 14,0))\n",
    "add_event(\"생일 파티\",datetime(2024, 12, 5, 18,30))\n",
    "add_event(\"발표 준비\",datetime(2024, 11, 15, 9,0))\n",
    "print(events)\n",
    "\n",
    "#모든 일정보기\n",
    "show_events()\n",
    "\n",
    "#남은 일정보기\n",
    "show_upcoming_events()\n",
    "\n",
    "def main():\n",
    "    load_events()\n",
    "    while True:\n",
    "        print(\"\\n일정 관리 프로그램\")\n",
    "        print(\"1. 일정 추가\")\n",
    "        print(\"2. 모든 일정 보기\")\n",
    "        print(\"3. 다가오는 일정 보기\")\n",
    "        print(\"4. 종료\")\n",
    "\n",
    "        choice = input(\"원하는 작업을 선택하세요 (1~4): \")\n",
    "\n",
    "        if choice ==\"1\":\n",
    "            event_name = input(\"일정 이름을 입력하세요:\")\n",
    "            event_date_str = input(\"일정 날짜와 시간을 입력하세요 (YYYY-MM-DD HH:MM):\")\n",
    "            event_date = datetime.strptime(event_date_str,'%Y-%m-%d %H:%M')\n",
    "            add_event(event_name, event_date)\n",
    "        elif choice ==\"2\":\n",
    "            show_events()\n",
    "        elif choice ==\"3\":\n",
    "            show_upcoming_events()\n",
    "        elif choice ==\"4\":\n",
    "            print(\"프로그램을 종료합니다\")\n",
    "            break\n",
    "        else:\n",
    "            print(\"잘못된 선택입니다. 다시 시도하세요\")\n",
    "main()"
   ]
  },
  {
   "cell_type": "markdown",
   "id": "150c6f69-3c15-4c8e-a4ea-6558f01a9693",
   "metadata": {},
   "source": [
    "### 자판기 프로그램\n"
   ]
  },
  {
   "cell_type": "code",
   "execution_count": 4,
   "id": "ceb53d9a-2ae7-4430-b2c7-6d651a5c4782",
   "metadata": {},
   "outputs": [
    {
     "name": "stdout",
     "output_type": "stream",
     "text": [
      "\n",
      "현재 잔액: 10000원\n",
      "1. 콜라(1000원)\n",
      "2. 물(500원)\n",
      "3. 커피(1500원)\n",
      "4. 종료\n"
     ]
    },
    {
     "name": "stdin",
     "output_type": "stream",
     "text": [
      "메뉴를 선택하세요 4\n"
     ]
    },
    {
     "name": "stdout",
     "output_type": "stream",
     "text": [
      "프로그램 종료\n"
     ]
    }
   ],
   "source": [
    "balance =10000\n",
    "while True:\n",
    "    print(f\"\\n현재 잔액: {balance}원\")\n",
    "    print(\"1. 콜라(1000원)\")\n",
    "    print(\"2. 물(500원)\")\n",
    "    print(\"3. 커피(1500원)\")\n",
    "    print(\"4. 종료\")\n",
    "\n",
    "    choice = input(\"메뉴를 선택하세요\")\n",
    "    if choice ==\"1\":\n",
    "        if balance >= 1000:\n",
    "            balance -= 1000\n",
    "            print(\"콜라가 나왔습니다\")\n",
    "        else:\n",
    "            print(\"잔액이 부족합니다\")\n",
    "    elif choice ==\"2\":\n",
    "        if balance >= 500:\n",
    "            balance -= 500\n",
    "            print(\"물이 나왔습니다\")\n",
    "        else:\n",
    "            print(\"잔액이 부족합니다\")\n",
    "    elif choice ==\"3\":\n",
    "        if balance >= 1500:\n",
    "            balance -= 1500\n",
    "            print(\"커피가 나왔습니다\")\n",
    "        else:\n",
    "            print(\"잔액이 부족합니다\")\n",
    "    elif choice ==\"4\":\n",
    "        print(\"프로그램 종료\")\n",
    "        break\n",
    "        \n",
    "    "
   ]
  },
  {
   "cell_type": "code",
   "execution_count": 6,
   "id": "6036a078-5202-4156-94a8-ba5d9ffb940b",
   "metadata": {},
   "outputs": [
    {
     "name": "stdout",
     "output_type": "stream",
     "text": [
      "\n",
      "현재 잔액: 10000원\n",
      "1. 콜라(1000원)\n",
      "2. 물(500원)\n",
      "3. 커피(1500원)\n",
      "4. 종료\n"
     ]
    },
    {
     "name": "stdin",
     "output_type": "stream",
     "text": [
      "메뉴를 선택하세요 1\n"
     ]
    },
    {
     "name": "stdout",
     "output_type": "stream",
     "text": [
      "콜라가 나왔습니다.\n",
      "\n",
      "현재 잔액: 9000원\n",
      "1. 콜라(1000원)\n",
      "2. 물(500원)\n",
      "3. 커피(1500원)\n",
      "4. 종료\n"
     ]
    },
    {
     "name": "stdin",
     "output_type": "stream",
     "text": [
      "메뉴를 선택하세요 4\n"
     ]
    },
    {
     "name": "stdout",
     "output_type": "stream",
     "text": [
      "프로그램 종료\n"
     ]
    }
   ],
   "source": [
    "def show_menu(balance):\n",
    "        print(f\"\\n현재 잔액: {balance}원\")\n",
    "        print(\"1. 콜라(1000원)\")\n",
    "        print(\"2. 물(500원)\")\n",
    "        print(\"3. 커피(1500원)\")\n",
    "        print(\"4. 종료\")\n",
    "\n",
    "def buy_drink(balance,price,drink_name):\n",
    "    if balance >= price:\n",
    "        balance -= price\n",
    "        print(f\"{drink_name}가 나왔습니다.\")\n",
    "    else:\n",
    "        print(\"잔액이 부족합니다.\")\n",
    "    return balance\n",
    "\n",
    "def main():\n",
    "    balance =10000\n",
    "    while True:\n",
    "        show_menu(balance)\n",
    "        choice = input(\"메뉴를 선택하세요\")\n",
    "        \n",
    "        if choice ==\"1\":\n",
    "            balance =buy_drink(balance, 1000, \"콜라\")\n",
    "        elif choice ==\"2\":\n",
    "            balance =buy_drink(balance, 500, \"물\")\n",
    "        elif choice ==\"3\":\n",
    "            balance =buy_drink(balance, 1500, \"커피\")\n",
    "        elif choice ==\"4\":\n",
    "            print(\"프로그램 종료\")\n",
    "            break\n",
    "        \n",
    "main()    "
   ]
  },
  {
   "cell_type": "code",
   "execution_count": 12,
   "id": "a68a5086-3e25-4bf2-a459-20fc1613ed35",
   "metadata": {},
   "outputs": [
    {
     "name": "stdout",
     "output_type": "stream",
     "text": [
      "\n",
      "=== ATM 시스템 ===\n",
      "1. 잔액 조회\n",
      "2. 입금\n",
      "3. 출금\n",
      "4. 종료\n"
     ]
    },
    {
     "name": "stdin",
     "output_type": "stream",
     "text": [
      "선택:  4\n"
     ]
    },
    {
     "name": "stdout",
     "output_type": "stream",
     "text": [
      "이용해주셔서 감사합니다.\n"
     ]
    }
   ],
   "source": [
    "balance = 50000\n",
    "while True:\n",
    "    print(\"\\n=== ATM 시스템 ===\")\n",
    "    print(\"1. 잔액 조회\")\n",
    "    print(\"2. 입금\")\n",
    "    print(\"3. 출금\")\n",
    "    print(\"4. 종료\")\n",
    "\n",
    "    choice = input(\"선택: \")\n",
    "\n",
    "    if choice == \"1\":\n",
    "        print(f\"현재 잔액: {balance}원\")\n",
    "    elif choice == \"2\":\n",
    "        amount = int(input(\"입금액: \"))\n",
    "        balance += amount\n",
    "        print(f\"{amount}원이 입금되었습니다.\")\n",
    "    elif choice == \"3\":\n",
    "        amount = int(input(\"출금액: \"))\n",
    "        if amount <= balance:\n",
    "            balance -= amount\n",
    "            print(f\"{amount}원이 출금되었습니다.\")\n",
    "        else:\n",
    "            print(\"잔액이 부족합니다.\")\n",
    "    elif choice == \"4\":\n",
    "        print(\"이용해주셔서 감사합니다.\")\n",
    "        break"
   ]
  },
  {
   "cell_type": "code",
   "execution_count": 23,
   "id": "f3c1bbe8-0f7f-4f7b-940a-5ac800b381bd",
   "metadata": {},
   "outputs": [
    {
     "name": "stdout",
     "output_type": "stream",
     "text": [
      "\n",
      "=== ATM 시스템 ===\n",
      "1. 잔액 조회\n",
      "2. 입금\n",
      "3. 출금\n",
      "4. 종료\n"
     ]
    },
    {
     "name": "stdin",
     "output_type": "stream",
     "text": [
      "선택하세요 500\n"
     ]
    },
    {
     "name": "stdout",
     "output_type": "stream",
     "text": [
      "\n",
      "=== ATM 시스템 ===\n",
      "1. 잔액 조회\n",
      "2. 입금\n",
      "3. 출금\n",
      "4. 종료\n"
     ]
    },
    {
     "name": "stdin",
     "output_type": "stream",
     "text": [
      "선택하세요 1\n"
     ]
    },
    {
     "name": "stdout",
     "output_type": "stream",
     "text": [
      "현재 잔액:50000 입니다.\n",
      "\n",
      "=== ATM 시스템 ===\n",
      "1. 잔액 조회\n",
      "2. 입금\n",
      "3. 출금\n",
      "4. 종료\n"
     ]
    },
    {
     "name": "stdin",
     "output_type": "stream",
     "text": [
      "선택하세요 500\n"
     ]
    },
    {
     "name": "stdout",
     "output_type": "stream",
     "text": [
      "\n",
      "=== ATM 시스템 ===\n",
      "1. 잔액 조회\n",
      "2. 입금\n",
      "3. 출금\n",
      "4. 종료\n"
     ]
    },
    {
     "name": "stdin",
     "output_type": "stream",
     "text": [
      "선택하세요 1\n"
     ]
    },
    {
     "name": "stdout",
     "output_type": "stream",
     "text": [
      "현재 잔액:50000 입니다.\n",
      "\n",
      "=== ATM 시스템 ===\n",
      "1. 잔액 조회\n",
      "2. 입금\n",
      "3. 출금\n",
      "4. 종료\n"
     ]
    },
    {
     "name": "stdin",
     "output_type": "stream",
     "text": [
      "선택하세요 2\n",
      "입금할 금액을 입력하세요: 6000\n"
     ]
    },
    {
     "name": "stdout",
     "output_type": "stream",
     "text": [
      "입금되었습니다. 현재잔액은56000입니다.\n",
      "\n",
      "=== ATM 시스템 ===\n",
      "1. 잔액 조회\n",
      "2. 입금\n",
      "3. 출금\n",
      "4. 종료\n"
     ]
    },
    {
     "name": "stdin",
     "output_type": "stream",
     "text": [
      "선택하세요 1\n"
     ]
    },
    {
     "name": "stdout",
     "output_type": "stream",
     "text": [
      "현재 잔액:56000 입니다.\n",
      "\n",
      "=== ATM 시스템 ===\n",
      "1. 잔액 조회\n",
      "2. 입금\n",
      "3. 출금\n",
      "4. 종료\n"
     ]
    },
    {
     "name": "stdin",
     "output_type": "stream",
     "text": [
      "선택하세요 5\n"
     ]
    },
    {
     "name": "stdout",
     "output_type": "stream",
     "text": [
      "\n",
      "=== ATM 시스템 ===\n",
      "1. 잔액 조회\n",
      "2. 입금\n",
      "3. 출금\n",
      "4. 종료\n"
     ]
    },
    {
     "name": "stdin",
     "output_type": "stream",
     "text": [
      "선택하세요 2\n",
      "입금할 금액을 입력하세요: 50000\n"
     ]
    },
    {
     "name": "stdout",
     "output_type": "stream",
     "text": [
      "입금되었습니다. 현재잔액은106000입니다.\n",
      "\n",
      "=== ATM 시스템 ===\n",
      "1. 잔액 조회\n",
      "2. 입금\n",
      "3. 출금\n",
      "4. 종료\n"
     ]
    },
    {
     "name": "stdin",
     "output_type": "stream",
     "text": [
      "선택하세요 3\n",
      "출금할 금액을 입력하세요 1700000\n"
     ]
    },
    {
     "name": "stdout",
     "output_type": "stream",
     "text": [
      "잔액이 부족합니다\n",
      "\n",
      "=== ATM 시스템 ===\n",
      "1. 잔액 조회\n",
      "2. 입금\n",
      "3. 출금\n",
      "4. 종료\n"
     ]
    },
    {
     "name": "stdin",
     "output_type": "stream",
     "text": [
      "선택하세요 4\n"
     ]
    },
    {
     "name": "stdout",
     "output_type": "stream",
     "text": [
      "종료합니다\n"
     ]
    }
   ],
   "source": [
    "def show_menu(balance):\n",
    "    print(\"\\n=== ATM 시스템 ===\")\n",
    "    print(\"1. 잔액 조회\")\n",
    "    print(\"2. 입금\")\n",
    "    print(\"3. 출금\")\n",
    "    print(\"4. 종료\")\n",
    "\n",
    "def show_money(balance):\n",
    "    print(f\"현재 잔액:{balance} 입니다.\")\n",
    "\n",
    "def plus(balance,count):\n",
    "    balance += count\n",
    "    print(f\"입금되었습니다. 현재잔액은{balance}입니다.\")\n",
    "    return balance\n",
    "    \n",
    "\n",
    "def minus(balance,count):\n",
    "    if balance >= count:\n",
    "        balance -= count\n",
    "        print(f\"출금되었습니다. 현재 잔액은{balance}입니다\")\n",
    "    else:\n",
    "        print(\"잔액이 부족합니다\")\n",
    "    return balance\n",
    "\n",
    "\n",
    "def main():\n",
    "    balance = 50000\n",
    "    while True:\n",
    "        show_menu(balance)  \n",
    "        choice = input(\"선택하세요\")\n",
    "\n",
    "        if choice == \"1\":\n",
    "            show_money(balance)\n",
    "        elif choice == \"2\":\n",
    "            count = int(input(\"입금할 금액을 입력하세요:\"))\n",
    "            balance = plus(balance,count)\n",
    "        elif choice == \"3\":\n",
    "            count = int(input(\"출금할 금액을 입력하세요\"))\n",
    "            balance = minus(balance,count)\n",
    "        elif choice == \"4\":\n",
    "            print(\"종료합니다\")\n",
    "            break\n",
    "if __name__ == \"__main__\":\n",
    "    main()\n",
    "        \n",
    "    \n",
    "\n",
    "\n",
    "\n"
   ]
  },
  {
   "cell_type": "code",
   "execution_count": 1,
   "id": "40b25049-3ea6-4bbd-98a3-d3e280b5bc92",
   "metadata": {},
   "outputs": [
    {
     "name": "stdout",
     "output_type": "stream",
     "text": [
      "\n",
      "=== ATM 시스템 ===\n",
      "1. 잔액 조회\n",
      "2. 입금\n",
      "3. 출금\n",
      "4. 종료\n"
     ]
    },
    {
     "name": "stdin",
     "output_type": "stream",
     "text": [
      "메뉴를 선택하세요 2\n",
      "입금할 금액을 입력하세요:  500\n"
     ]
    },
    {
     "name": "stdout",
     "output_type": "stream",
     "text": [
      "입금이 완료되었습니다. 현재 잔액은 50500원입니다.\n",
      "\n",
      "=== ATM 시스템 ===\n",
      "1. 잔액 조회\n",
      "2. 입금\n",
      "3. 출금\n",
      "4. 종료\n"
     ]
    },
    {
     "name": "stdin",
     "output_type": "stream",
     "text": [
      "메뉴를 선택하세요 4\n"
     ]
    },
    {
     "name": "stdout",
     "output_type": "stream",
     "text": [
      "이용해주셔서 감사합니다.\n"
     ]
    }
   ],
   "source": [
    "def show_menu(balance):\n",
    "    print(\"\\n=== ATM 시스템 ===\")\n",
    "    print(\"1. 잔액 조회\")\n",
    "    print(\"2. 입금\")\n",
    "    print(\"3. 출금\")\n",
    "    print(\"4. 종료\")\n",
    "\n",
    "\n",
    "def show_menoy(balance):\n",
    "    print(f\"\\n현재 잔액: {balance}원\")\n",
    "\n",
    "def addition(balance, amount):\n",
    "    balance += amount\n",
    "    print(f\"입금이 완료되었습니다. 현재 잔액은 {balance}원입니다.\")\n",
    "    return balance\n",
    "\n",
    "def subtraction(balance,amount):\n",
    "    if balance >= amount:\n",
    "        balance -= amount\n",
    "        print(f\"남은 잔액은{balance}원 입니다.\")\n",
    "    else:\n",
    "        print(\"잔액이 부족합니다\")\n",
    "    return balance\n",
    "\n",
    "    \n",
    "\n",
    "\n",
    "def main():\n",
    "    balance =50000\n",
    "    while True:\n",
    "        show_menu(balance)\n",
    "        choice = input(\"메뉴를 선택하세요\")\n",
    "        if choice == '1':\n",
    "            show_menoy(balance)\n",
    "        elif choice == \"2\":\n",
    "            amount = int(input(\"입금할 금액을 입력하세요: \"))\n",
    "            balance = addition(balance,amount)\n",
    "        elif choice == \"3\":\n",
    "            amount = int(input(\"출금할 금액을 입력하세요: \"))\n",
    "            balance = subtraction(balance,amount)\n",
    "        elif choice == \"4\":\n",
    "            print(\"이용해주셔서 감사합니다.\")\n",
    "            break\n",
    "if __name__ == \"__main__\":\n",
    "    main()             \n",
    "        "
   ]
  }
 ],
 "metadata": {
  "kernelspec": {
   "display_name": "Python 3 (ipykernel)",
   "language": "python",
   "name": "python3"
  },
  "language_info": {
   "codemirror_mode": {
    "name": "ipython",
    "version": 3
   },
   "file_extension": ".py",
   "mimetype": "text/x-python",
   "name": "python",
   "nbconvert_exporter": "python",
   "pygments_lexer": "ipython3",
   "version": "3.12.7"
  }
 },
 "nbformat": 4,
 "nbformat_minor": 5
}
