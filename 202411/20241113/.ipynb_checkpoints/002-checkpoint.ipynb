{
 "cells": [
  {
   "cell_type": "code",
   "execution_count": null,
   "id": "0e833480-5b3d-4196-8ef4-30447888bc3e",
   "metadata": {},
   "outputs": [
    {
     "name": "stdout",
     "output_type": "stream",
     "text": [
      "[('회의', datetime.datetime(2024, 10, 20, 14, 0)), ('생일 파티', datetime.datetime(2024, 12, 5, 18, 30)), ('발표 준비', datetime.datetime(2024, 11, 15, 9, 0))]\n",
      "[모든 일정]: \n",
      "-회의: 2024-10-20 14:00\n",
      "-생일 파티: 2024-12-05 18:30\n",
      "-발표 준비: 2024-11-15 09:00\n",
      "\n",
      "[남은 일정]\n",
      "-생일 파티: 2024-12-05 18:30(남은일수: 22일)\n",
      "-발표 준비: 2024-11-15 09:00(남은일수: 1일)\n",
      "\n",
      "일정 관리 프로그램\n",
      "1. 일정 추가\n",
      "2. 모든 일정 보기\n",
      "3. 다가오는 일정 보기\n",
      "4. 종료\n"
     ]
    },
    {
     "name": "stdin",
     "output_type": "stream",
     "text": [
      "원하는 작업을 선택하세요 (1~4):  1\n",
      "일정 이름을 입력하세요: 1\n",
      "일정 날짜와 시간을 입력하세요 (YYYY-MM-DD HH:MM): 2024-11-30 14:30\n"
     ]
    },
    {
     "name": "stdout",
     "output_type": "stream",
     "text": [
      "\n",
      "일정 관리 프로그램\n",
      "1. 일정 추가\n",
      "2. 모든 일정 보기\n",
      "3. 다가오는 일정 보기\n",
      "4. 종료\n"
     ]
    },
    {
     "name": "stdin",
     "output_type": "stream",
     "text": [
      "원하는 작업을 선택하세요 (1~4):  2\n"
     ]
    },
    {
     "name": "stdout",
     "output_type": "stream",
     "text": [
      "[모든 일정]: \n",
      "-회의: 2024-10-20 14:00\n",
      "-생일 파티: 2024-12-05 18:30\n",
      "-발표 준비: 2024-11-15 09:00\n",
      "-1: 2024-11-20 16:30\n",
      "-1: 2024-11-30 14:30\n",
      "\n",
      "일정 관리 프로그램\n",
      "1. 일정 추가\n",
      "2. 모든 일정 보기\n",
      "3. 다가오는 일정 보기\n",
      "4. 종료\n"
     ]
    },
    {
     "name": "stdin",
     "output_type": "stream",
     "text": [
      "원하는 작업을 선택하세요 (1~4):  2\n"
     ]
    },
    {
     "name": "stdout",
     "output_type": "stream",
     "text": [
      "[모든 일정]: \n",
      "-회의: 2024-10-20 14:00\n",
      "-생일 파티: 2024-12-05 18:30\n",
      "-발표 준비: 2024-11-15 09:00\n",
      "-1: 2024-11-20 16:30\n",
      "-1: 2024-11-30 14:30\n",
      "\n",
      "일정 관리 프로그램\n",
      "1. 일정 추가\n",
      "2. 모든 일정 보기\n",
      "3. 다가오는 일정 보기\n",
      "4. 종료\n"
     ]
    },
    {
     "name": "stdin",
     "output_type": "stream",
     "text": [
      "원하는 작업을 선택하세요 (1~4):  1\n",
      "일정 이름을 입력하세요: 집가기\n",
      "일정 날짜와 시간을 입력하세요 (YYYY-MM-DD HH:MM): 2024-11-13 17:40\n"
     ]
    },
    {
     "name": "stdout",
     "output_type": "stream",
     "text": [
      "\n",
      "일정 관리 프로그램\n",
      "1. 일정 추가\n",
      "2. 모든 일정 보기\n",
      "3. 다가오는 일정 보기\n",
      "4. 종료\n"
     ]
    },
    {
     "name": "stdin",
     "output_type": "stream",
     "text": [
      "원하는 작업을 선택하세요 (1~4):  1\n",
      "일정 이름을 입력하세요: 집가기\n",
      "일정 날짜와 시간을 입력하세요 (YYYY-MM-DD HH:MM): 2024-11-13 17:40\n"
     ]
    },
    {
     "name": "stdout",
     "output_type": "stream",
     "text": [
      "\n",
      "일정 관리 프로그램\n",
      "1. 일정 추가\n",
      "2. 모든 일정 보기\n",
      "3. 다가오는 일정 보기\n",
      "4. 종료\n"
     ]
    },
    {
     "name": "stdin",
     "output_type": "stream",
     "text": [
      "원하는 작업을 선택하세요 (1~4):  2\n"
     ]
    },
    {
     "name": "stdout",
     "output_type": "stream",
     "text": [
      "[모든 일정]: \n",
      "-회의: 2024-10-20 14:00\n",
      "-생일 파티: 2024-12-05 18:30\n",
      "-발표 준비: 2024-11-15 09:00\n",
      "-1: 2024-11-20 16:30\n",
      "-1: 2024-11-30 14:30\n",
      "-집가기: 2024-11-13 17:40\n",
      "-집가기: 2024-11-13 17:40\n",
      "\n",
      "일정 관리 프로그램\n",
      "1. 일정 추가\n",
      "2. 모든 일정 보기\n",
      "3. 다가오는 일정 보기\n",
      "4. 종료\n"
     ]
    }
   ],
   "source": [
    "# 일정추가\n",
    "# 일정출력\n",
    "# 예정된 일정 출력\n",
    "# [('회의','2024-11-15 15:30')],[('회의2','2024-11-17 14:00')]\n",
    "#import datetime # datetime.datetime\n",
    "import os\n",
    "from datetime import datetime # datetime\n",
    "\n",
    "# 일정 목록 초기화\n",
    "events = []\n",
    "\n",
    "# 화면 클리어\n",
    "def clear_screen():\n",
    "    os.system('cls' if os.name=='nt' else 'clear')\n",
    "\n",
    "# 파일에 저장된 일정을 일정목록 변수로 초기화\n",
    "def load_events(filename=\"events.txt\"):\n",
    "    global events\n",
    "    with open(filename,'r',encoding=\"utf-8\") as f:\n",
    "        for line in f:\n",
    "            event_name, event_date_str= line.strip().split(\"|\")\n",
    "            event_date = datetime.strptime(event_date_str,'%Y-%m-%d %H:%M')\n",
    "            events.append((event_name,event_date))\n",
    "\n",
    "#일정 파일로 저장\n",
    "    \n",
    "def save_event(filename=\"events.txt\"):\n",
    "    with open(filename,\"w\",encoding=\"utf-8\") as f:\n",
    "        for event_name,event_date in events:\n",
    "            f.write(f\"{event_name}|{event_date.strftime(\"%Y-%m-%d %H:%M\")}\\n\")\n",
    "\n",
    "# 일정추가\n",
    "def add_event(event_name, event_date):\n",
    "    events.append((event_name, event_date))\n",
    "\n",
    "# 모든 일정 출력\n",
    "def show_events():\n",
    "\n",
    "    if not events:\n",
    "        print(\"일정이 없습니다\")\n",
    "        return\n",
    "        \n",
    "    print(\"[모든 일정]: \")\n",
    "    for event_name, event_date in events:\n",
    "        print(f\"-{event_name}: {event_date.strftime('%Y-%m-%d %H:%M')}\")\n",
    "\n",
    "# 남은 일정 출력\n",
    "def show_upcoming_events():\n",
    "    now = datetime.now()\n",
    "    upcoming_events =[event for event in events if event[1] >= now]\n",
    "\n",
    "    print()\n",
    "    print(\"[남은 일정]\")\n",
    "\n",
    "    for event_name, event_date in upcoming_events:\n",
    "            days_left = (event_date -now).days\n",
    "            print(f\"-{event_name}: {event_date.strftime('%Y-%m-%d %H:%M')}(남은일수: {days_left}일)\")\n",
    "\n",
    "\n",
    "add_event(\"회의\",datetime(2024, 10, 20, 14,0))\n",
    "add_event(\"생일 파티\",datetime(2024, 12, 5, 18,30))\n",
    "add_event(\"발표 준비\",datetime(2024, 11, 15, 9,0))\n",
    "print(events)\n",
    "\n",
    "#모든 일정보기\n",
    "show_events()\n",
    "\n",
    "#남은 일정보기\n",
    "show_upcoming_events()\n",
    "\n",
    "def main():\n",
    "    load_events()\n",
    "    while True:\n",
    "        print(\"\\n일정 관리 프로그램\")\n",
    "        print(\"1. 일정 추가\")\n",
    "        print(\"2. 모든 일정 보기\")\n",
    "        print(\"3. 다가오는 일정 보기\")\n",
    "        print(\"4. 종료\")\n",
    "\n",
    "        choice = input(\"원하는 작업을 선택하세요 (1~4): \")\n",
    "\n",
    "        if choice ==\"1\":\n",
    "            event_name = input(\"일정 이름을 입력하세요:\")\n",
    "            event_date_str = input(\"일정 날짜와 시간을 입력하세요 (YYYY-MM-DD HH:MM):\")\n",
    "            event_date = datetime.strptime(event_date_str,'%Y-%m-%d %H:%M')\n",
    "            add_event(event_name, event_date)\n",
    "        elif choice ==\"2\":\n",
    "            show_events()\n",
    "        elif choice ==\"3\":\n",
    "            show_upcoming_events()\n",
    "        elif choice ==\"4\":\n",
    "            print(\"프로그램을 종료합니다\")\n",
    "            break\n",
    "        else:\n",
    "            print(\"잘못된 선택입니다. 다시 시도하세요\")\n",
    "main()"
   ]
  },
  {
   "cell_type": "code",
   "execution_count": null,
   "id": "593c314b-7d77-44ef-9240-d6becea8d7be",
   "metadata": {},
   "outputs": [],
   "source": []
  }
 ],
 "metadata": {
  "kernelspec": {
   "display_name": "Python 3 (ipykernel)",
   "language": "python",
   "name": "python3"
  },
  "language_info": {
   "codemirror_mode": {
    "name": "ipython",
    "version": 3
   },
   "file_extension": ".py",
   "mimetype": "text/x-python",
   "name": "python",
   "nbconvert_exporter": "python",
   "pygments_lexer": "ipython3",
   "version": "3.12.7"
  }
 },
 "nbformat": 4,
 "nbformat_minor": 5
}
