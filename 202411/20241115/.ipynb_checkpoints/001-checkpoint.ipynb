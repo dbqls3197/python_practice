{
 "cells": [
  {
   "cell_type": "markdown",
   "id": "503ef398-f70e-4a9b-83d6-3e7b230ba4b7",
   "metadata": {},
   "source": [
    "### JSON"
   ]
  },
  {
   "cell_type": "code",
   "execution_count": 5,
   "id": "403b20b7-f7b6-40d7-9a17-978a288431fb",
   "metadata": {},
   "outputs": [
    {
     "name": "stdout",
     "output_type": "stream",
     "text": [
      "<class 'dict'> {'이름': '홍길동', '나이': 30, '몸무게': 77}\n"
     ]
    }
   ],
   "source": [
    "import json\n",
    "\n",
    "data = {\n",
    "    \"이름\" : \"홍길동\",\n",
    "    \"나이\" : 30,\n",
    "    \"몸무게\": 77\n",
    "}\n",
    "\n",
    "print(type(data),data)"
   ]
  },
  {
   "cell_type": "code",
   "execution_count": 15,
   "id": "052aad07-a800-42f4-8956-d04fa4b5e8d2",
   "metadata": {},
   "outputs": [
    {
     "name": "stdout",
     "output_type": "stream",
     "text": [
      "<class 'str'> {\"이름\": \"홍길동\", \"나이\": 30, \"몸무게\": 77}\n"
     ]
    }
   ],
   "source": [
    "# 딕셔너리 --> 문자열\n",
    "#json_str = json.dumps(data)\n",
    "json_str = json.dumps(data,ensure_ascii=False)\n",
    "print(type(json_str),json_str)"
   ]
  },
  {
   "cell_type": "code",
   "execution_count": 23,
   "id": "1de5da2e-df6f-4243-ab6c-b7da8a828776",
   "metadata": {},
   "outputs": [
    {
     "name": "stdout",
     "output_type": "stream",
     "text": [
      "<class 'str'> {\"이름\": \"홍길동\", \"나이\": 30, \"몸무게\": 77}\n",
      "<class 'dict'> {'이름': '홍길동', '나이': 30, '몸무게': 77}\n"
     ]
    }
   ],
   "source": [
    "json_str2 = '{\"이름\": \"홍길동\", \"나이\": 30, \"몸무게\": 77}'\n",
    "print(type(json_str2),json_str2)\n",
    "# 문자열 --> 딕셔너리\n",
    "data2 = json.loads(json_str)\n",
    "print(type(data2),data2)"
   ]
  },
  {
   "cell_type": "code",
   "execution_count": 28,
   "id": "3be27518-878e-4c52-8e4a-cd47fabddfda",
   "metadata": {},
   "outputs": [],
   "source": [
    "### json을 파일로 저장\n",
    "\n",
    "data = {\n",
    "    \"name\" : \"김철수\",\n",
    "    \"age\" : 25,\n",
    "    \"cities\": ['서울','대구','부산']\n",
    "}\n",
    "\n",
    "with open('data.json','w',encoding='utf-8') as f:\n",
    "    json.dump(data,f,ensure_ascii=False)"
   ]
  },
  {
   "cell_type": "code",
   "execution_count": 38,
   "id": "996ce9db-1c91-4147-a4d8-33fbe4fdb303",
   "metadata": {},
   "outputs": [
    {
     "name": "stdout",
     "output_type": "stream",
     "text": [
      "{'name': '김철수', 'age': 25, 'cities': ['서울', '대구', '부산']}\n"
     ]
    }
   ],
   "source": [
    "with open('data.json','r',encoding='utf-8') as f:\n",
    "    data = json.load(f)\n",
    "\n",
    "print(data)"
   ]
  },
  {
   "cell_type": "code",
   "execution_count": null,
   "id": "153531a2-03b7-4632-917c-7a043cc34ca4",
   "metadata": {},
   "outputs": [],
   "source": []
  }
 ],
 "metadata": {
  "kernelspec": {
   "display_name": "Python 3 (ipykernel)",
   "language": "python",
   "name": "python3"
  },
  "language_info": {
   "codemirror_mode": {
    "name": "ipython",
    "version": 3
   },
   "file_extension": ".py",
   "mimetype": "text/x-python",
   "name": "python",
   "nbconvert_exporter": "python",
   "pygments_lexer": "ipython3",
   "version": "3.12.7"
  }
 },
 "nbformat": 4,
 "nbformat_minor": 5
}
