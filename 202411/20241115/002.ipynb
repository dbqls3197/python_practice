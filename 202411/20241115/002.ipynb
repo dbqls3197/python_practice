{
 "cells": [
  {
   "cell_type": "code",
   "execution_count": 1,
   "id": "051216ab-8bb3-4d83-9bd1-9a974a2c5426",
   "metadata": {},
   "outputs": [
    {
     "ename": "NameError",
     "evalue": "name 'backup_files' is not defined",
     "output_type": "error",
     "traceback": [
      "\u001b[1;31m---------------------------------------------------------------------------\u001b[0m",
      "\u001b[1;31mNameError\u001b[0m                                 Traceback (most recent call last)",
      "Cell \u001b[1;32mIn[1], line 17\u001b[0m\n\u001b[0;32m     15\u001b[0m source_directory \u001b[38;5;241m=\u001b[39m os\u001b[38;5;241m.\u001b[39mgetcwd()\n\u001b[0;32m     16\u001b[0m backup_directory \u001b[38;5;241m=\u001b[39m \u001b[38;5;124m\"\u001b[39m\u001b[38;5;124mexample_dir\u001b[39m\u001b[38;5;124m\"\u001b[39m\n\u001b[1;32m---> 17\u001b[0m backup_files(source_directory, backup_directory)\n",
      "\u001b[1;31mNameError\u001b[0m: name 'backup_files' is not defined"
     ]
    }
   ],
   "source": [
    "# 빽업\n",
    "import os\n",
    "\n",
    "# os.path.exists # 빽업폴더가 존재하는지 확인\n",
    "# os.makedirs # 뺵업폴더가 없으면 생성\n",
    "# os.listdir # 원본폴더의 파일목롤 불러오기\n",
    "# for{\n",
    "    # os.path .isfile : 목록이 파일인지 확인\n",
    "        # with open(\"source_directory/파일명\",\"rb\") as f1 # 작업폴더 \n",
    "        # f1.read()\n",
    "        # with open(\"backup_directory/파일명\",\"wb\") as f2 # 뺵업폴더\n",
    "        # f2.write()\n",
    "    #}\n",
    "\n",
    "source_directory = os.getcwd()\n",
    "backup_directory = \"example_dir\"\n",
    "backup_files(source_directory, backup_directory)\n"
   ]
  },
  {
   "cell_type": "code",
   "execution_count": null,
   "id": "2d8dffbd-f3b7-4ff9-afa6-baa96a02de18",
   "metadata": {},
   "outputs": [],
   "source": [
    "import os\n",
    "\n",
    "def backup_files(source_directory, backup_directory):  #ㅎ 만들기\n",
    "\n",
    "    os.path.exists(\"afile\") # 파일이 있는지 체크\n",
    "    \n",
    "    new_file = \"afile\"  # 파일이 없다면 만들기\n",
    "    os.makedirs(new_file) \n",
    "    \n",
    "    example = os.listdir(source_directory) # 현재 파일 목록을 example에 넣음\n",
    "    for a in example: # example을 a에 넣고 \n",
    "        if os.path.isfile(a):  # 만약 (a)파일이 있다면  (절대경로)\n",
    "            with open(source_directory + \"/\" + a,\"rb\") as f1:\n",
    "                b  = f1.read() # (a)파일을 읽고 b에 넣기\n",
    "            with open(backup_directory + \"/\" + a,\"wb\") as f2:\n",
    "                f2.write(b)  # b로 옮겨진 파일을 백업파일에 넣기\n",
    "        \n",
    "    \n",
    "source_directory = os.getcwd() # 현재 파일\n",
    "backup_directory = os.getcwd() + '/afile' # 현재파일을 afile 파일에 넣기\n",
    "backup_files(source_directory, backup_directory)\n"
   ]
  },
  {
   "cell_type": "code",
   "execution_count": null,
   "id": "c551cad3-8885-4f46-a034-1138c90e9641",
   "metadata": {},
   "outputs": [],
   "source": [
    "import os\n",
    "\n",
    "def backup_files(source_directory, backup_directory):  #객체 만들기\n",
    "\n",
    "    os.makedirs(backup_directory,exist_ok=True)\n",
    "    '''os.path.exists(backup_directory) # 파일이 있는지 체크\n",
    "    \n",
    "    new_file = backup_directory  # 파일이 없다면 만들기\n",
    "    os.makedirs(new_file) '''\n",
    "    \n",
    "    example = os.listdir(source_directory) # 현재 파일 목록을 example에 넣음\n",
    "    for a in example: # example을 a에 넣고 \n",
    "        if os.path.isfile(a):  # 만약 (a)파일이 있다면  (절대경로)\n",
    "            with open(source_directory + \"/\" + a,\"rb\") as f1:\n",
    "                b  = f1.read() # (a)파일을 읽고 b에 넣기\n",
    "            with open(backup_directory + \"/\" + a,\"wb\") as f2:\n",
    "                f2.write(b)  # b로 옮겨진 파일을 백업파일에 넣기\n",
    "        \n",
    "    \n",
    "source_directory = os.getcwd() # 현재 폴더\n",
    "backup_directory = 'c:/.vscode/1/'+'file' # 현재폴더을 afile 파일에 넣기\n",
    "backup_files(source_directory, backup_directory)\n"
   ]
  },
  {
   "cell_type": "code",
   "execution_count": null,
   "id": "62da971b-43f1-46e1-811f-bc508645dfbb",
   "metadata": {},
   "outputs": [],
   "source": [
    "source_directory = \"D:/test\"\n",
    "filename = \"sample.txt\"\n",
    "\n",
    "# 문자열 연결\n",
    "source_path = source_directory + '/' + filename\n",
    "print(source_path)\n",
    "\n",
    "# 경로연결 메소드\n",
    "source_path = os.path.join(source_directory, filename)\n",
    "print(source_path)\n",
    "\n",
    "# 파일 이름가져오기\n",
    "filename = os.path.basename(source_path)\n",
    "print(filename)\n",
    "\n",
    "# 파일이름 변경 (파일 이동)\n",
    "os.rename(\"sample_new.txt\",\"sample_new1.txt\")"
   ]
  },
  {
   "cell_type": "code",
   "execution_count": null,
   "id": "100e90c5-3368-4622-91b1-ffb6728f6b11",
   "metadata": {},
   "outputs": [],
   "source": [
    "# 파일 분류 (확장자별 폴더로 파일정리[이동])\n",
    "'''\n",
    "[목표] 타겟 경로내의 파일들의 확장자를 기준으로 폴더를 만들고 해당 파일들을 각 확장자 폴더로 이동시켜서 징리하고자 합니다.\n",
    "[순서]\n",
    "1) 타겟 경로내 파일 목록 불러오기\n",
    "2) 파일인지 아닌지 확인 (파일인 경우만 진행)\n",
    "3) 확장자 확인\n",
    "4) 타겟 경로와 확장자 합치기 (생성할 확장자 폴더 경로) \n",
    "5) 확장자 폴더가 존재하지 않을때만 확장자 폴더생성\n",
    "6) 타겟 경로와 경로내 파일 연결 (절대경로 생성)\n",
    "7) 해당 확장자 경로로 파일 이동\n",
    "'''\n",
    "\n",
    "\"\"\"\n",
    "os.listdir : 타겟 경로내 파일목록 부르기\n",
    "    os.path.isfile : 파일 여부 확인\n",
    "        split => 리스트 => [-1] : 확장자 확인\n",
    "        os.path.join : 타겟경로 + 확장자폴더 -> 생성을 위해서\n",
    "        os.path.exsits : 타겟경로 + 확장자폴더 path가 존재하는지 확인\n",
    "            os.makedirs: 존재하지 않으면 생성\n",
    "            \n",
    "        os.path.join : 타겟경로 + 확장자폴더 + 파일명\n",
    "        os .rename : 타겟경로 + 파일명(기존경로) ---> 타겟경로  + 확장자폴더 +  파일명\n",
    "            \n",
    "\"\"\"\n",
    "\n",
    "target_directory = \"path/to/target_directory\"\n",
    "organize_files(target_directory)"
   ]
  },
  {
   "cell_type": "code",
   "execution_count": 25,
   "id": "f19d830f-650d-483f-aa59-2a864f51061d",
   "metadata": {},
   "outputs": [
    {
     "name": "stdout",
     "output_type": "stream",
     "text": [
      "확장자 폴더가 생성되었습니다.- ipynb\n",
      "001.ipynb파일이D:/study/jupyter/20241115\\ipynb 옮겨졌습니다.\n",
      "002.ipynb파일이D:/study/jupyter/20241115\\ipynb 옮겨졌습니다.\n",
      "확장자 폴더가 생성되었습니다.- txt\n",
      "111.txt파일이D:/study/jupyter/20241115\\txt 옮겨졌습니다.\n",
      "확장자 폴더가 생성되었습니다.- json\n",
      "data.json파일이D:/study/jupyter/20241115\\json 옮겨졌습니다.\n",
      "example.txt파일이D:/study/jupyter/20241115\\txt 옮겨졌습니다.\n",
      "sample_new1.txt파일이D:/study/jupyter/20241115\\txt 옮겨졌습니다.\n"
     ]
    }
   ],
   "source": [
    "import os\n",
    "def organize_files(target_dir):\n",
    "    for filename in os.listdir(target_dir):\n",
    "        source_file = os.path.join(target_dir,filename)\n",
    "        if(os.path.isfile(source_file)):\n",
    "            ext = filename.split('.')[-1]\n",
    "            ext_dir =os.path.join(target_dir,ext)\n",
    "            if not os.path.exists(ext_dir):\n",
    "                os.makedirs(ext_dir)\n",
    "                print(f\"확장자 폴더가 생성되었습니다.- {ext}\")\n",
    "\n",
    "            new_file = os.path.join(ext_dir,filename)\n",
    "            os.rename(source_file,new_file)\n",
    "            print(f\"{filename}파일이{ext_dir} 옮겨졌습니다.\")\n",
    "                \n",
    "target_directory = \"D:/study/jupyter/20241115\"\n",
    "organize_files(target_directory)\n",
    "\n",
    "# 파일 크기 확인: os.path.getsize(file_path)"
   ]
  },
  {
   "cell_type": "code",
   "execution_count": 17,
   "id": "dbe0ff9d-9e27-442e-9e54-e14db7dc74af",
   "metadata": {},
   "outputs": [
    {
     "ename": "FileExistsError",
     "evalue": "[WinError 183] 파일이 이미 있으므로 만들 수 없습니다: 'D:/study/jupyter/20241115\\\\001.ipynb' -> 'D:/study/jupyter/20241115/backup\\\\001.ipynb'",
     "output_type": "error",
     "traceback": [
      "\u001b[1;31m---------------------------------------------------------------------------\u001b[0m",
      "\u001b[1;31mFileExistsError\u001b[0m                           Traceback (most recent call last)",
      "Cell \u001b[1;32mIn[17], line 19\u001b[0m\n\u001b[0;32m     17\u001b[0m source_directory \u001b[38;5;241m=\u001b[39m \u001b[38;5;124m\"\u001b[39m\u001b[38;5;124mD:/study/jupyter/20241115\u001b[39m\u001b[38;5;124m\"\u001b[39m\n\u001b[0;32m     18\u001b[0m backup_directory \u001b[38;5;241m=\u001b[39m \u001b[38;5;124m\"\u001b[39m\u001b[38;5;124mD:/study/jupyter/20241115/backup\u001b[39m\u001b[38;5;124m\"\u001b[39m\n\u001b[1;32m---> 19\u001b[0m backup_files(source_directory, backup_directory)\n",
      "Cell \u001b[1;32mIn[17], line 14\u001b[0m, in \u001b[0;36mbackup_files\u001b[1;34m(source, backup)\u001b[0m\n\u001b[0;32m     12\u001b[0m \u001b[38;5;28;01mif\u001b[39;00m os\u001b[38;5;241m.\u001b[39mpath\u001b[38;5;241m.\u001b[39misfile(source_file):\n\u001b[0;32m     13\u001b[0m     backup_file \u001b[38;5;241m=\u001b[39m os\u001b[38;5;241m.\u001b[39mpath\u001b[38;5;241m.\u001b[39mjoin(backup, file)\n\u001b[1;32m---> 14\u001b[0m     os\u001b[38;5;241m.\u001b[39mrename(source_file, backup_file)\n\u001b[0;32m     15\u001b[0m     \u001b[38;5;28mprint\u001b[39m(\u001b[38;5;124mf\u001b[39m\u001b[38;5;124m\"\u001b[39m\u001b[38;5;124mMoved \u001b[39m\u001b[38;5;132;01m{\u001b[39;00mfile\u001b[38;5;132;01m}\u001b[39;00m\u001b[38;5;124m to \u001b[39m\u001b[38;5;132;01m{\u001b[39;00mbackup\u001b[38;5;132;01m}\u001b[39;00m\u001b[38;5;124m\"\u001b[39m)\n",
      "\u001b[1;31mFileExistsError\u001b[0m: [WinError 183] 파일이 이미 있으므로 만들 수 없습니다: 'D:/study/jupyter/20241115\\\\001.ipynb' -> 'D:/study/jupyter/20241115/backup\\\\001.ipynb'"
     ]
    }
   ],
   "source": [
    "import os\n",
    "\n",
    "def backup_files(source, backup):\n",
    "    files = os.listdir(source)\n",
    "\n",
    "    if not os.path.exists(backup):\n",
    "        os.makedirs(backup)\n",
    "\n",
    "    for file in files:\n",
    "        source_file = os.path.join(source, file)\n",
    "\n",
    "        if os.path.isfile(source_file):\n",
    "            backup_file = os.path.join(backup, file)\n",
    "            os.rename(source_file, backup_file)\n",
    "            print(f\"Moved {file} to {backup}\")\n",
    "\n",
    "source_directory = \"D:/study/jupyter/20241115\"\n",
    "backup_directory = \"D:/study/jupyter/20241115/backup\"\n",
    "backup_files(source_directory, backup_directory)\n"
   ]
  },
  {
   "cell_type": "code",
   "execution_count": 88,
   "id": "cfdbc937-f3a3-465f-bef4-8728429ba5d2",
   "metadata": {},
   "outputs": [
    {
     "name": "stdout",
     "output_type": "stream",
     "text": [
      "파일이 삭제되었습니다 - Untitled2.tmp\n"
     ]
    }
   ],
   "source": [
    "## 폴더내 특정 확장자를 가진 파일 일괄 삭제\n",
    "'''\n",
    "특정 폴더\n",
    "특정 확장자\n",
    "'''\n",
    "'''os.listdir\n",
    "split,endswith\n",
    "os.path.join (절대 경로)\n",
    "os.path.isfile        \n",
    "os.remove'''\n",
    "\n",
    "'''\n",
    "1.타겟경로 확인하기\n",
    "2.확장자 확인하기\n",
    "3.타겟 경로와 확장자 합치기\n",
    "4.확장자 파일이 있는지 확인후 없으면 만들기\n",
    "5. 파일이 맞다면 삭제\n",
    "'''\n",
    "import os\n",
    "\n",
    "def del_file(file,de):\n",
    "    for files in os.listdir(file):\n",
    "        if files.endswith(de):\n",
    "            file_path = os.path.join(file,files)\n",
    "            if os.path.isfile(file_path):\n",
    "                os.remove(file_path)\n",
    "                print(f\"파일이 삭제되었습니다 - {files}\")\n",
    "                 \n",
    "            \n",
    "        \n",
    "    \n",
    "    \n",
    "    \n",
    "target_directory = os.getcwd() + '/sample'\n",
    "file_extention = \".tmp\"\n",
    "del_file(target_directory, file_extension)"
   ]
  },
  {
   "cell_type": "code",
   "execution_count": 218,
   "id": "93e4af79-03f3-44d2-9e77-0aa5dc4c01d3",
   "metadata": {},
   "outputs": [
    {
     "name": "stdout",
     "output_type": "stream",
     "text": [
      "File: 002.ipynb - 15,242 bytes\n",
      "File: Untitled.ipynb - 637 bytes\n",
      "File: Untitled1.ipynb - 3,103 bytes\n",
      "File: Untitled2.ipynb - 663 bytes\n",
      "Total file size in 'D:\\study\\jupyter\\20241115/' : 19,645 bytes\n"
     ]
    }
   ],
   "source": [
    "## 특정 폴더 내 모든 파일크기 및 합산 크기\n",
    "import os\n",
    "'''\n",
    "os.path.getsize(file_path) : 파일크기 (byte기준)\n",
    "1. 특정 폴더 목록 순회\n",
    "2. 목록의 절대경로\n",
    "3. 목록이 파일인지 확인\n",
    "4. 파일이면 파일크기 반환 및 전체크기 합산\n",
    "5. 개별파일 크기 및 크기 표시\n",
    "'''\n",
    "def calculate_total_file_size(file):\n",
    "    total_size = 0\n",
    "    for files in os.listdir(file):\n",
    "        file_path = os.path.join(file,files)\n",
    "        if os.path.isfile(file_path):\n",
    "            size = os.path.getsize(file_path)\n",
    "            total_size += size\n",
    "            print(f\"File: {files} - {size:,} bytes\")\n",
    "    print(f\"Total file size in '{file}' : {total_size:,} bytes\")\n",
    "            \n",
    "target_directory = os.getcwd() + '/' \n",
    "calculate_total_file_size(target_directory)"
   ]
  },
  {
   "cell_type": "code",
   "execution_count": null,
   "id": "2be0362f-828f-40bc-88b4-9c668144854f",
   "metadata": {},
   "outputs": [],
   "source": []
  }
 ],
 "metadata": {
  "kernelspec": {
   "display_name": "Python 3 (ipykernel)",
   "language": "python",
   "name": "python3"
  },
  "language_info": {
   "codemirror_mode": {
    "name": "ipython",
    "version": 3
   },
   "file_extension": ".py",
   "mimetype": "text/x-python",
   "name": "python",
   "nbconvert_exporter": "python",
   "pygments_lexer": "ipython3",
   "version": "3.12.7"
  }
 },
 "nbformat": 4,
 "nbformat_minor": 5
}
