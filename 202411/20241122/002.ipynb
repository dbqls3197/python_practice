{
 "cells": [
  {
   "cell_type": "code",
   "execution_count": 1,
   "id": "d0d26b33-c1af-48d1-87fb-9e0d3677805a",
   "metadata": {},
   "outputs": [
    {
     "name": "stdout",
     "output_type": "stream",
     "text": [
      "[(291, 97.0), (270, 90.0), (248, 82.66666666666667)]\n",
      "[(291, 97.0), (270, 90.0), (248, 82.66666666666667)]\n",
      "{0: (291, 97.0), 1: (270, 90.0)}\n"
     ]
    }
   ],
   "source": [
    "scores = [(97, 95, 99),(87, 93, 90),(85, 83, 80)]\n",
    "print([(v[0]+ v[1]+ v[2],(v[0]+ v[1]+ v[2])/3) for k, v in enumerate(scores)]) \n",
    "print([(v[0]+ v[1]+ v[2],(v[0]+ v[1]+ v[2])/3) for v in scores]) \n",
    "\n",
    "print({k:(sum(v),sum(v)/len(v)) for k, v in enumerate(scores) if sum(v)/len(v) > 85}) # 사용자별 총점과 평균(딕셔너리)"
   ]
  },
  {
   "cell_type": "code",
   "execution_count": 2,
   "id": "1a7acb8a-88ec-4b58-ab71-591e545339fb",
   "metadata": {},
   "outputs": [
    {
     "name": "stdout",
     "output_type": "stream",
     "text": [
      "{'lee': (291, 97.0), 'park': (270, 90.0), 'kim': (248, 82.66666666666667)}\n"
     ]
    }
   ],
   "source": [
    "scores = {\"lee\":(97, 95, 99),\"park\":(87, 93, 90),'kim':(85, 83, 80)}\n",
    "print({k:(sum(v),sum(v)/len(v)) for k, v in scores.items()})"
   ]
  },
  {
   "cell_type": "code",
   "execution_count": 3,
   "id": "f62c1aa9-8f9c-4d12-8df7-c2ee12b4cb74",
   "metadata": {},
   "outputs": [
    {
     "data": {
      "text/plain": [
       "5"
      ]
     },
     "execution_count": 3,
     "metadata": {},
     "output_type": "execute_result"
    }
   ],
   "source": [
    "## count - 값이 등장하는 횟수\n",
    "numbers = [1, 2, 2, 3, 2, 2, 2]\n",
    "numbers.count(2)"
   ]
  },
  {
   "cell_type": "code",
   "execution_count": 4,
   "id": "f13d19ed-e4fc-4c52-bb4e-9c72f0530213",
   "metadata": {},
   "outputs": [
    {
     "data": {
      "text/plain": [
       "3"
      ]
     },
     "execution_count": 4,
     "metadata": {},
     "output_type": "execute_result"
    }
   ],
   "source": [
    "chars = ['a','b','a','c','a']\n",
    "chars.count('a')"
   ]
  },
  {
   "cell_type": "code",
   "execution_count": 5,
   "id": "11c3b877-de61-4a80-8d99-afa397245bd0",
   "metadata": {},
   "outputs": [
    {
     "data": {
      "text/plain": [
       "3"
      ]
     },
     "execution_count": 5,
     "metadata": {},
     "output_type": "execute_result"
    }
   ],
   "source": [
    "grades = [True, False, True, True]\n",
    "grades.count(True)"
   ]
  },
  {
   "cell_type": "code",
   "execution_count": 6,
   "id": "2172474a-7ed1-45c0-baa0-82e2f997d552",
   "metadata": {},
   "outputs": [
    {
     "data": {
      "text/plain": [
       "[1, 1, 3, 4, 5]"
      ]
     },
     "execution_count": 6,
     "metadata": {},
     "output_type": "execute_result"
    }
   ],
   "source": [
    "## sort - 리스트 정렬(오름차순)\n",
    "numbers = [3, 1, 4, 1, 5]\n",
    "numbers.sort()\n",
    "numbers"
   ]
  },
  {
   "cell_type": "code",
   "execution_count": 7,
   "id": "87e77360-3502-42b4-bdb7-3a301b977eb2",
   "metadata": {},
   "outputs": [
    {
     "data": {
      "text/plain": [
       "[5, 4, 3, 1, 1]"
      ]
     },
     "execution_count": 7,
     "metadata": {},
     "output_type": "execute_result"
    }
   ],
   "source": [
    "numbers.sort(reverse = True)\n",
    "numbers"
   ]
  },
  {
   "cell_type": "code",
   "execution_count": 8,
   "id": "4396d5e5-1dc9-4c4e-8773-9125b0f94993",
   "metadata": {},
   "outputs": [
    {
     "data": {
      "text/plain": [
       "[('kim', 85), ('Park', 88), ('Lee', 90)]"
      ]
     },
     "execution_count": 8,
     "metadata": {},
     "output_type": "execute_result"
    }
   ],
   "source": [
    "scores = [('Lee',90),('Park',88),('kim', 85)]\n",
    "scores.sort(key=lambda x:x[1])\n",
    "scores"
   ]
  },
  {
   "cell_type": "code",
   "execution_count": 9,
   "id": "e19c018c-fd73-4b39-8d79-c031f00a37ca",
   "metadata": {},
   "outputs": [
    {
     "data": {
      "text/plain": [
       "[5, 1, 4, 1, 3]"
      ]
     },
     "execution_count": 9,
     "metadata": {},
     "output_type": "execute_result"
    }
   ],
   "source": [
    "## reverse - 역순 나열\n",
    "numbers = [3, 1, 4, 1, 5]\n",
    "numbers.reverse()\n",
    "numbers"
   ]
  },
  {
   "cell_type": "markdown",
   "id": "5c972d05-3bc2-4bad-bb53-443911638bae",
   "metadata": {},
   "source": [
    "## Data Reading"
   ]
  },
  {
   "cell_type": "code",
   "execution_count": 11,
   "id": "49dd89c9-6214-4966-a95a-568f817e048e",
   "metadata": {},
   "outputs": [
    {
     "name": "stdout",
     "output_type": "stream",
     "text": [
      "총 금액: 1260000원\n"
     ]
    }
   ],
   "source": [
    "class ShoppingCart:\n",
    "    def __init__(self):\n",
    "        self.items = []\n",
    "\n",
    "    def add_item(self, item, price, quantitiy=1):\n",
    "        self.items.append({\"item\":item,\"price\":price,\"quantitiy\":quantitiy})\n",
    "    def remove_items(self,item):\n",
    "        self.items = [i for i in self.items if i[\"itme\"] != item]\n",
    "\n",
    "    def get_total(self):\n",
    "        return sum(item['price'] * item['quantitiy'] for item in self.items)\n",
    "\n",
    "cart = ShoppingCart()\n",
    "cart.add_item(\"노트북\",1200000)\n",
    "cart.add_item(\"마우스\",30000, 2)\n",
    "print(f\"총 금액: {cart.get_total()}원\")"
   ]
  },
  {
   "cell_type": "code",
   "execution_count": 12,
   "id": "7c7e232e-446c-40f8-8e57-94cf7d1b0792",
   "metadata": {},
   "outputs": [
    {
     "name": "stdout",
     "output_type": "stream",
     "text": [
      "[('김철수', 89.0), ('이영희', 93.0), ('박민수', 82.66666666666667)]\n",
      "최고 성적 학생: 이영희, 평균: 93.00\n"
     ]
    }
   ],
   "source": [
    "grades = [\n",
    "    {\"name\":\"김철수\", \"scores\": [85,90,92]},\n",
    "    {\"name\":\"이영희\", \"scores\": [88,95,96]},\n",
    "    {\"name\":\"박민수\", \"scores\": [75,85,88]}\n",
    "]\n",
    "averages =[(student[\"name\"],sum(student[\"scores\"])/len(student[\"scores\"])) for student in grades]\n",
    "print(averages)\n",
    "\n",
    "top_student = max(averages, key=lambda x :x[1])\n",
    "print(f\"최고 성적 학생: {top_student[0]}, 평균: {top_student[1]:.2f}\")"
   ]
  },
  {
   "cell_type": "code",
   "execution_count": 13,
   "id": "1702154f-0b03-428a-b3b0-ebb5a9cc84de",
   "metadata": {},
   "outputs": [
    {
     "name": "stdout",
     "output_type": "stream",
     "text": [
      "{'name': '햄버거', 'category': '양식', 'price': 9000}\n"
     ]
    }
   ],
   "source": [
    "import random\n",
    "\n",
    "menu_list = [\n",
    "    {\"name\": \"김치찌개\", \"category\": \"한식\", \"price\": 8000},\n",
    "    {\"name\": \"파스타\", \"category\": \"양식\", \"price\": 12000},\n",
    "    {\"name\": \"초밥\", \"category\": \"일식\", \"price\": 15000},\n",
    "    {\"name\": \"불고기\", \"category\": \"한식\", \"price\": 10000},\n",
    "    {\"name\": \"된장찌개\", \"category\": \"한식\", \"price\": 7000},\n",
    "    {\"name\": \"치킨\", \"category\": \"양식\", \"price\": 15000},\n",
    "    {\"name\": \"햄버거\", \"category\": \"양식\", \"price\": 9000},\n",
    "    {\"name\": \"타코\", \"category\": \"양식\", \"price\": 8000},\n",
    "    {\"name\": \"우동\", \"category\": \"일식\", \"price\": 11000},\n",
    "    {\"name\": \"돈부리\", \"category\": \"일식\", \"price\": 12000},\n",
    "    {\"name\": \"마라탕\", \"category\": \"중식\", \"price\": 13000},\n",
    "    {\"name\": \"짜장밥\", \"category\": \"중식\", \"price\": 6000},\n",
    "    {\"name\": \"볶음밥\", \"category\": \"중식\", \"price\": 7000},\n",
    "]\n",
    "\n",
    "def recommend_menu(budget, category =None):\n",
    "    filtered_menu = [menu for menu in menu_list\n",
    "                     if menu[\"price\"] <= budget and\n",
    "                     (category is None or menu[\"category\"] == category)]\n",
    "    return random.choice(filtered_menu) if filtered_menu else None\n",
    "\n",
    "print(recommend_menu(100000))"
   ]
  },
  {
   "cell_type": "code",
   "execution_count": 14,
   "id": "2aa26168-ea75-41b5-89c2-23e35ca39774",
   "metadata": {},
   "outputs": [
    {
     "name": "stdout",
     "output_type": "stream",
     "text": [
      "{'name': '된장찌개', 'category': '한식', 'price': 7000}\n"
     ]
    }
   ],
   "source": [
    "import random\n",
    "\n",
    "menu_list = [\n",
    "    {\"name\": \"김치찌개\", \"category\": \"한식\", \"price\": 8000},\n",
    "    {\"name\": \"파스타\", \"category\": \"양식\", \"price\": 12000},\n",
    "    {\"name\": \"초밥\", \"category\": \"일식\", \"price\": 15000},\n",
    "    {\"name\": \"불고기\", \"category\": \"한식\", \"price\": 10000},\n",
    "    {\"name\": \"된장찌개\", \"category\": \"한식\", \"price\": 7000},\n",
    "    {\"name\": \"치킨\", \"category\": \"양식\", \"price\": 15000},\n",
    "    {\"name\": \"햄버거\", \"category\": \"양식\", \"price\": 9000},\n",
    "    {\"name\": \"타코\", \"category\": \"양식\", \"price\": 8000},\n",
    "    {\"name\": \"우동\", \"category\": \"일식\", \"price\": 11000},\n",
    "    {\"name\": \"돈부리\", \"category\": \"일식\", \"price\": 12000},\n",
    "    {\"name\": \"마라탕\", \"category\": \"중식\", \"price\": 13000},\n",
    "    {\"name\": \"짜장밥\", \"category\": \"중식\", \"price\": 6000},\n",
    "    {\"name\": \"볶음밥\", \"category\": \"중식\", \"price\": 7000},\n",
    "]\n",
    "\n",
    "def recommend_menu(budget, category =None):\n",
    "    filtered_menu = [menu for menu in menu_list\n",
    "                     if menu[\"price\"] <= budget and\n",
    "                     (category is None or menu[\"category\"] == category)]\n",
    "\n",
    "    if filtered_menu:\n",
    "        # 비중 계산: 가격을 비중으로 사용\n",
    "        weights =[menu[\"price\"] for menu in filtered_menu]\n",
    "        chosen_menu = random.choices(filtered_menu, weights=weights, k=3)\n",
    "        return chosen_menu[0]\n",
    "    return None\n",
    "\n",
    "# 예시 출력\n",
    "print(recommend_menu(10000))"
   ]
  },
  {
   "cell_type": "code",
   "execution_count": 15,
   "id": "f9915640-d04b-46d9-ace8-ed553e07a898",
   "metadata": {},
   "outputs": [
    {
     "data": {
      "text/plain": [
       "[{'task': '프로잭트 미팅', 'deadline': '2024-11-25'},\n",
       " {'task': '보고서 제출', 'deadline': '2024-12-01'}]"
      ]
     },
     "execution_count": 15,
     "metadata": {},
     "output_type": "execute_result"
    }
   ],
   "source": [
    "from datetime import datetime\n",
    "\n",
    "class Schedule:\n",
    "    def __init__(self):\n",
    "        self.tasks = []\n",
    "        \n",
    "    def add_task(self, task, deadline):\n",
    "        self.tasks.append({\"task\":task, \"deadline\":deadline})\n",
    "        self.tasks.sort(key=lambda x: datetime.strptime(x[\"deadline\"], \"%Y-%m-%d\"))\n",
    "\n",
    "    def get_upcoming_tasks(self):\n",
    "        today = datetime.now()\n",
    "        return [task for task in self.tasks\n",
    "                if datetime.strptime(task[\"deadline\"],\"%Y-%m-%d\") >= today]\n",
    "\n",
    "schedule = Schedule()\n",
    "schedule.add_task(\"보고서 제출\",\"2024-12-01\")\n",
    "schedule.add_task(\"프로잭트 미팅\", \"2024-11-25\")\n",
    "schedule.get_upcoming_tasks()"
   ]
  },
  {
   "cell_type": "markdown",
   "id": "a1ea9436-ab7a-4f2c-9039-38d8b17c785d",
   "metadata": {},
   "source": [
    "### 튜플 정리"
   ]
  },
  {
   "cell_type": "code",
   "execution_count": 17,
   "id": "b49aa98a-5997-4bc4-9d3e-70d16ab47806",
   "metadata": {},
   "outputs": [
    {
     "data": {
      "text/plain": [
       "3"
      ]
     },
     "execution_count": 17,
     "metadata": {},
     "output_type": "execute_result"
    }
   ],
   "source": [
    "## count \n",
    "numbers =(1, 2, 2, 3, 2, 4)\n",
    "cnt = numbers.count(2)\n",
    "cnt"
   ]
  },
  {
   "cell_type": "code",
   "execution_count": 18,
   "id": "3df6c99a-ccad-4b0f-acb9-782dc2c22cad",
   "metadata": {},
   "outputs": [
    {
     "data": {
      "text/plain": [
       "1"
      ]
     },
     "execution_count": 18,
     "metadata": {},
     "output_type": "execute_result"
    }
   ],
   "source": [
    "words = ('apple','banana','apple','cherry','apple')\n",
    "apple_cnt =words.count('banana')\n",
    "apple_cnt"
   ]
  },
  {
   "cell_type": "code",
   "execution_count": 19,
   "id": "3eca5fb7-a08a-408d-8fea-a1ad6b7a076c",
   "metadata": {},
   "outputs": [
    {
     "data": {
      "text/plain": [
       "2"
      ]
     },
     "execution_count": 19,
     "metadata": {},
     "output_type": "execute_result"
    }
   ],
   "source": [
    "## index (값, start, end)\n",
    "coordinates =(10, 20, 30, 40, 30)\n",
    "coordinates.index(30)"
   ]
  },
  {
   "cell_type": "code",
   "execution_count": 20,
   "id": "40f38368-facb-4642-88fc-57eccb316e0a",
   "metadata": {},
   "outputs": [
    {
     "data": {
      "text/plain": [
       "4"
      ]
     },
     "execution_count": 20,
     "metadata": {},
     "output_type": "execute_result"
    }
   ],
   "source": [
    "coordinates.index(30,3)"
   ]
  },
  {
   "cell_type": "code",
   "execution_count": 21,
   "id": "b6ba190b-54c8-4637-936a-e63224e7d1f0",
   "metadata": {},
   "outputs": [
    {
     "data": {
      "text/plain": [
       "3"
      ]
     },
     "execution_count": 21,
     "metadata": {},
     "output_type": "execute_result"
    }
   ],
   "source": [
    "names =('kim','Lee','park','kim','choi')\n",
    "names.index('kim',1)"
   ]
  },
  {
   "cell_type": "code",
   "execution_count": 22,
   "id": "7f7e1a3e-474d-4906-a38f-f9e8ef53bf03",
   "metadata": {},
   "outputs": [
    {
     "data": {
      "text/plain": [
       "4"
      ]
     },
     "execution_count": 22,
     "metadata": {},
     "output_type": "execute_result"
    }
   ],
   "source": [
    "values = (1, 2, 3, 4, 3, 5, 3)\n",
    "values.index(3, 3, 6)"
   ]
  },
  {
   "cell_type": "code",
   "execution_count": 23,
   "id": "7302772d-e59d-4775-8876-4ef08749bd26",
   "metadata": {},
   "outputs": [
    {
     "name": "stdout",
     "output_type": "stream",
     "text": [
      "3\n",
      "4\n"
     ]
    }
   ],
   "source": [
    "## 언팩킹\n",
    "point =(3, 4)\n",
    "x, y =point\n",
    "print(x, y, sep=\"\\n\")"
   ]
  },
  {
   "cell_type": "code",
   "execution_count": 24,
   "id": "9eaab953-219f-43da-96e9-fe8b7aa98f5e",
   "metadata": {},
   "outputs": [
    {
     "name": "stdout",
     "output_type": "stream",
     "text": [
      "1 2 3\n"
     ]
    }
   ],
   "source": [
    "tp1 =(1,2,3)\n",
    "a, b, c = tp1\n",
    "print(a,b,c)"
   ]
  },
  {
   "cell_type": "code",
   "execution_count": 25,
   "id": "5213493a-1a0a-4702-b02e-64aa202d299f",
   "metadata": {
    "scrolled": true
   },
   "outputs": [
    {
     "name": "stdout",
     "output_type": "stream",
     "text": [
      "1\n",
      "2\n",
      "[3, 4, 5]\n"
     ]
    }
   ],
   "source": [
    "my_tuple = (1, 2, 3, 4, 5)\n",
    "a, b, *rest = my_tuple\n",
    "print(a,b,rest,sep='\\n')"
   ]
  },
  {
   "cell_type": "code",
   "execution_count": 26,
   "id": "1f9b6a2f-53f2-401d-a879-ad9608483386",
   "metadata": {},
   "outputs": [
    {
     "name": "stdout",
     "output_type": "stream",
     "text": [
      "이름:John,나이:30,도시:New York\n"
     ]
    }
   ],
   "source": [
    "person = ('John',30, 'New York')\n",
    "name, age, city = person\n",
    "print(f\"이름:{name},나이:{age},도시:{city}\")"
   ]
  },
  {
   "cell_type": "code",
   "execution_count": 27,
   "id": "ad4f6a44-991c-4b28-885b-ee17297f5fb1",
   "metadata": {},
   "outputs": [
    {
     "data": {
      "text/plain": [
       "'John'"
      ]
     },
     "execution_count": 27,
     "metadata": {},
     "output_type": "execute_result"
    }
   ],
   "source": [
    "person[0]"
   ]
  },
  {
   "cell_type": "code",
   "execution_count": 28,
   "id": "f88b03c0-e6cb-42db-9155-77990ef7ade8",
   "metadata": {},
   "outputs": [
    {
     "ename": "TypeError",
     "evalue": "'tuple' object does not support item assignment",
     "output_type": "error",
     "traceback": [
      "\u001b[1;31m---------------------------------------------------------------------------\u001b[0m",
      "\u001b[1;31mTypeError\u001b[0m                                 Traceback (most recent call last)",
      "Cell \u001b[1;32mIn[28], line 2\u001b[0m\n\u001b[0;32m      1\u001b[0m \u001b[38;5;66;03m# 튜플은 값을 바꿀수 없음\u001b[39;00m\n\u001b[1;32m----> 2\u001b[0m person[\u001b[38;5;241m0\u001b[39m] \u001b[38;5;241m=\u001b[39m\u001b[38;5;124m\"\u001b[39m\u001b[38;5;124mJoseph\u001b[39m\u001b[38;5;124m\"\u001b[39m\n",
      "\u001b[1;31mTypeError\u001b[0m: 'tuple' object does not support item assignment"
     ]
    }
   ],
   "source": [
    "# 튜플은 값을 바꿀수 없음\n",
    "person[0] =\"Joseph\""
   ]
  },
  {
   "cell_type": "code",
   "execution_count": null,
   "id": "fd5b4a1f-e1d2-49cc-9b97-5affc3a89b20",
   "metadata": {},
   "outputs": [],
   "source": [
    "locations = {(0,0) : 'Start',(1,1): 'Middle',(2,2): 'End'}\n",
    "print(f\"시작 지점: {locations[0,0]}\")"
   ]
  },
  {
   "cell_type": "code",
   "execution_count": null,
   "id": "ad1f294e-58f7-4efe-a8b6-16a87d187e53",
   "metadata": {},
   "outputs": [],
   "source": [
    "class LocationTracker:\n",
    "    def __init__(self):\n",
    "        self.locations = []\n",
    "\n",
    "    def add_position(self,position):\n",
    "        x, y = position\n",
    "        self.locations.append((x,y))\n",
    "\n",
    "    def get_path(self):\n",
    "        return self.locations\n",
    "\n",
    "tracker = LocationTracker()\n",
    "tracker.add_position((37.5665, 126.9780)) # 서울\n",
    "tracker.add_position((35.6895, 139.6917)) # 도쿄\n",
    "\n",
    "print(f\"이동 경로: {tracker.get_path()}\")"
   ]
  },
  {
   "cell_type": "code",
   "execution_count": null,
   "id": "0af56daf-0666-45d6-9ffc-f9bb9b8352bc",
   "metadata": {},
   "outputs": [],
   "source": [
    "# 국영수\n",
    "students = [\n",
    "    (\"김철수\", 90, 85, 95),\n",
    "    (\"이영희\", 88, 92, 96),\n",
    "    (\"박민수\", 95, 88, 90)\n",
    "]\n",
    "for name, k, e, m in students:\n",
    "    avg =(k+e+m)/3\n",
    "    print(f\"{name}의 평균점수: {avg}\")\n"
   ]
  },
  {
   "cell_type": "code",
   "execution_count": null,
   "id": "027bf79f-0125-402d-8dd5-aae07fbe5813",
   "metadata": {},
   "outputs": [],
   "source": [
    "weather_data = [\n",
    "    (\"2024-01-01\",5.2, 60, 10),\n",
    "    (\"2024-01-02\",4.8, 65, 30),\n",
    "    (\"2024-01-03\",3.9, 70, 55)\n",
    "]\n",
    "for data, temp, humidity, rain_prob in weather_data:\n",
    "    print(f\"{data}: {temp} C, 습도 {humidity}%,강수확률{rain_prob}%\")"
   ]
  },
  {
   "cell_type": "code",
   "execution_count": 63,
   "id": "daa5bfa3-a44e-4144-9ff5-70c162f2db77",
   "metadata": {},
   "outputs": [
    {
     "name": "stdout",
     "output_type": "stream",
     "text": [
      "아메리카노:4500원 (HOT/ICE)\n",
      "메뉴에 없는 상품입니다.\n"
     ]
    }
   ],
   "source": [
    "def process_order(order):\n",
    "\n",
    "    menu = {\n",
    "        \"아메리카노\" : (4500, \"HOT/ICE\"),\n",
    "        \"카페라떼\" : (5000, \"HOT/ICE\"),\n",
    "        \"녹차\" : (4500, \"HOT only\"),\n",
    "    }\n",
    "\n",
    "    if order in menu:\n",
    "        price, option = menu[order]\n",
    "        return f\"{order}:{price}원 ({option})\"\n",
    "    else:\n",
    "        return \"메뉴에 없는 상품입니다.\"\n",
    "    \n",
    "        \n",
    "    \n",
    "print(process_order(\"아메리카노\"))\n",
    "print(process_order(\"바닐라라떼\"))"
   ]
  },
  {
   "cell_type": "markdown",
   "id": "2b707711-e117-47ee-9643-834e3848c6a7",
   "metadata": {},
   "source": [
    "## 딕셔너리 정리"
   ]
  },
  {
   "cell_type": "code",
   "execution_count": 84,
   "id": "b6690156-b7ac-4eb9-8e0f-1320e75cbddb",
   "metadata": {},
   "outputs": [
    {
     "name": "stdout",
     "output_type": "stream",
     "text": [
      "25 없어요\n"
     ]
    }
   ],
   "source": [
    "user_info = {'name':'kim', 'age': 25}\n",
    "#age = user_info['age']\n",
    "#email = user_info[\"emali\"]\n",
    "\n",
    "age = user_info.get('age')\n",
    "email = user_info.get('email','없어요')\n",
    "print(age, email)"
   ]
  },
  {
   "cell_type": "code",
   "execution_count": 88,
   "id": "fce7b1da-5b54-4413-b31e-3d6210abf8f2",
   "metadata": {},
   "outputs": [
    {
     "name": "stdout",
     "output_type": "stream",
     "text": [
      "0\n"
     ]
    }
   ],
   "source": [
    "score = {'math':90, 'english':85}\n",
    "print(score.get('science',0))"
   ]
  },
  {
   "cell_type": "code",
   "execution_count": 92,
   "id": "a27137bc-d8c2-4527-917d-276beef79b72",
   "metadata": {},
   "outputs": [
    {
     "data": {
      "text/plain": [
       "{'name': 'Lee', 'age': 31, 'job': 'developer'}"
      ]
     },
     "execution_count": 92,
     "metadata": {},
     "output_type": "execute_result"
    }
   ],
   "source": [
    "## update 메소드\n",
    "profile = {'name':'Lee','age':30}\n",
    "#profile['age'] = 31\n",
    "#profile\n",
    "new_info ={'age': 31, 'job':'developer'}\n",
    "profile.update(new_info)\n",
    "profile"
   ]
  },
  {
   "cell_type": "code",
   "execution_count": 94,
   "id": "aba22f43-aceb-4268-b599-543f92a6ce73",
   "metadata": {},
   "outputs": [
    {
     "name": "stdout",
     "output_type": "stream",
     "text": [
      "{'item2': 2000}\n",
      "1000\n"
     ]
    }
   ],
   "source": [
    "## pop\n",
    "cart = {'item1': 1000, 'item2' :2000}\n",
    "price = cart.pop('item1')\n",
    "print(cart,price,sep='\\n')"
   ]
  },
  {
   "cell_type": "code",
   "execution_count": null,
   "id": "f53b445e-0500-491c-ae93-a33a5854095f",
   "metadata": {},
   "outputs": [],
   "source": []
  }
 ],
 "metadata": {
  "kernelspec": {
   "display_name": "Python 3 (ipykernel)",
   "language": "python",
   "name": "python3"
  },
  "language_info": {
   "codemirror_mode": {
    "name": "ipython",
    "version": 3
   },
   "file_extension": ".py",
   "mimetype": "text/x-python",
   "name": "python",
   "nbconvert_exporter": "python",
   "pygments_lexer": "ipython3",
   "version": "3.12.7"
  }
 },
 "nbformat": 4,
 "nbformat_minor": 5
}
