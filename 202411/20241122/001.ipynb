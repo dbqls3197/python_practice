{
 "cells": [
  {
   "cell_type": "markdown",
   "id": "dfe98ade-5d02-4f71-8891-cc2c4f9f1a17",
   "metadata": {},
   "source": [
    "### 리스트 정리"
   ]
  },
  {
   "cell_type": "code",
   "execution_count": 37,
   "id": "226e1085-6dee-49a3-b7de-7f59e28d2f1e",
   "metadata": {},
   "outputs": [
    {
     "data": {
      "text/plain": [
       "[1, 2, 3, 4]"
      ]
     },
     "execution_count": 37,
     "metadata": {},
     "output_type": "execute_result"
    }
   ],
   "source": [
    "# append() - 단일 요소를 리스트 끝에 추가\n",
    "numbers = []\n",
    "numbers = [1,2,3]\n",
    "numbers.append(4)\n",
    "numbers"
   ]
  },
  {
   "cell_type": "code",
   "execution_count": 40,
   "id": "760b4100-f6f4-4922-93bb-b22fe6d598bc",
   "metadata": {},
   "outputs": [
    {
     "data": {
      "text/plain": [
       "['사과', '바나나', '배']"
      ]
     },
     "execution_count": 40,
     "metadata": {},
     "output_type": "execute_result"
    }
   ],
   "source": [
    "f = ['사과','바나나']\n",
    "f.append('배')\n",
    "f"
   ]
  },
  {
   "cell_type": "code",
   "execution_count": 48,
   "id": "1857b541-1a62-4f5e-bad9-c8660922a775",
   "metadata": {},
   "outputs": [
    {
     "data": {
      "text/plain": [
       "[{'item': '노트북', 'price': 1000000}, {'item': '마우스', 'price': 50000}]"
      ]
     },
     "execution_count": 48,
     "metadata": {},
     "output_type": "execute_result"
    }
   ],
   "source": [
    "shopping_cart = []\n",
    "slist = {'item':'노트북','price':1000000}\n",
    "shopping_cart.append(slist)\n",
    "shopping_cart\n",
    "shopping_cart.append({'item':'마우스','price':50000})\n",
    "shopping_cart"
   ]
  },
  {
   "cell_type": "code",
   "execution_count": 78,
   "id": "85f0be9c-d67b-497f-bf22-b5f9271c0cd9",
   "metadata": {},
   "outputs": [
    {
     "data": {
      "text/plain": [
       "[['노트북', 10000000, '상'], ['마우스', 500000, '중']]"
      ]
     },
     "execution_count": 78,
     "metadata": {},
     "output_type": "execute_result"
    }
   ],
   "source": [
    "shopping_cart2 = []\n",
    "shopping_cart2.append([\"노트북\",10000000,'상'])\n",
    "shopping_cart2.append([\"마우스\",500000,'중'])\n",
    "shopping_cart2"
   ]
  },
  {
   "cell_type": "code",
   "execution_count": 80,
   "id": "bbf41dde-15c4-41c1-b70d-5095e138c173",
   "metadata": {},
   "outputs": [
    {
     "data": {
      "text/plain": [
       "[('노트북', 10000000, '상'), ('마우스', 500000, '중')]"
      ]
     },
     "execution_count": 80,
     "metadata": {},
     "output_type": "execute_result"
    }
   ],
   "source": [
    "# 리스트안에 튜플은 들어갈수 있지만 \n",
    "#튜플은 수정이 안되므로 들어갈수없다\n",
    "shopping_cart2 = []\n",
    "shopping_cart2.append((\"노트북\",10000000,'상'))\n",
    "shopping_cart2.append((\"마우스\",500000,'중'))\n",
    "shopping_cart2"
   ]
  },
  {
   "cell_type": "code",
   "execution_count": 109,
   "id": "d47719d8-2c78-442d-b338-b4e5aec28448",
   "metadata": {},
   "outputs": [
    {
     "data": {
      "text/plain": [
       "[1, 2, 3, 4, 5, [6, 7], '4', '5', '45']"
      ]
     },
     "execution_count": 109,
     "metadata": {},
     "output_type": "execute_result"
    }
   ],
   "source": [
    "## extend 반복객체를 한 번에 추가\n",
    "list1 = [1, 2, 3]\n",
    "list1.extend([4,5])\n",
    "list1.append([6,7])\n",
    "list1.extend(\"45\")\n",
    "list1.append(\"45\")\n",
    "list1.extend(9)  # ---> 에러: 'int' object is not iterable(반복 가능한 객체)\n",
    "list1"
   ]
  },
  {
   "cell_type": "code",
   "execution_count": 112,
   "id": "c276569b-9cba-42a6-aece-e9da00cee90e",
   "metadata": {},
   "outputs": [
    {
     "data": {
      "text/plain": [
       "['red', 'blue', 'green', 'yellow']"
      ]
     },
     "execution_count": 112,
     "metadata": {},
     "output_type": "execute_result"
    }
   ],
   "source": [
    "colors = ['red','blue']\n",
    "colors.extend(['green','yellow'])\n",
    "colors"
   ]
  },
  {
   "cell_type": "code",
   "execution_count": 119,
   "id": "b8ea8b29-189b-4de8-a3e1-c81e16e5c652",
   "metadata": {},
   "outputs": [
    {
     "data": {
      "text/plain": [
       "['John', 'kim', 'k', 'i', 'm']"
      ]
     },
     "execution_count": 119,
     "metadata": {},
     "output_type": "execute_result"
    }
   ],
   "source": [
    "names = ['John']\n",
    "names.append('kim')\n",
    "names.extend('kim')\n",
    "names\n"
   ]
  },
  {
   "cell_type": "code",
   "execution_count": 122,
   "id": "12f482e5-8e70-4361-b9f2-a655858436b7",
   "metadata": {},
   "outputs": [
    {
     "data": {
      "text/plain": [
       "[1, 2, 3, 4]"
      ]
     },
     "execution_count": 122,
     "metadata": {},
     "output_type": "execute_result"
    }
   ],
   "source": [
    "## insert - 특정 위치에 요소 삽입\n",
    "n = [1, 3 ,4]\n",
    "n.insert(1,2) # insert(index, value)\n",
    "n\n"
   ]
  },
  {
   "cell_type": "code",
   "execution_count": 125,
   "id": "d2a0f762-fd4e-40be-a319-882dda3c9300",
   "metadata": {},
   "outputs": [
    {
     "data": {
      "text/plain": [
       "['Hello', 'Beautiful', 'World']"
      ]
     },
     "execution_count": 125,
     "metadata": {},
     "output_type": "execute_result"
    }
   ],
   "source": [
    "words = ['Hello','World']\n",
    "words.insert(1,'Beautiful')\n",
    "words"
   ]
  },
  {
   "cell_type": "code",
   "execution_count": 128,
   "id": "42b87e76-b4e8-465f-a076-2acfa5976b6f",
   "metadata": {},
   "outputs": [
    {
     "data": {
      "text/plain": [
       "['음료', '커피', '우유']"
      ]
     },
     "execution_count": 128,
     "metadata": {},
     "output_type": "execute_result"
    }
   ],
   "source": [
    "menu = ['커피', '우유']\n",
    "menu.insert(0,'음료')\n",
    "menu"
   ]
  },
  {
   "cell_type": "code",
   "execution_count": 144,
   "id": "f4427186-12e5-4815-b246-05ea622c22df",
   "metadata": {},
   "outputs": [
    {
     "data": {
      "text/plain": [
       "[1, 3]"
      ]
     },
     "execution_count": 144,
     "metadata": {},
     "output_type": "execute_result"
    }
   ],
   "source": [
    "## remove - 값으로 특정 요소 재거\n",
    "numbers = [1, 2, 3, 2]\n",
    "numbers = list(set(numbers))\n",
    "numbers.remove(2)\n",
    "numbers"
   ]
  },
  {
   "cell_type": "code",
   "execution_count": 146,
   "id": "2c398082-a4b4-4b76-8a48-835044a34fea",
   "metadata": {},
   "outputs": [
    {
     "data": {
      "text/plain": [
       "['banana', 'apple']"
      ]
     },
     "execution_count": 146,
     "metadata": {},
     "output_type": "execute_result"
    }
   ],
   "source": [
    "fruits = ['apple','banana','apple']\n",
    "fruits.remove('apple')\n",
    "fruits"
   ]
  },
  {
   "cell_type": "code",
   "execution_count": 148,
   "id": "742e860e-e19d-400f-a67b-1d1c0d7eb0dd",
   "metadata": {},
   "outputs": [
    {
     "name": "stdout",
     "output_type": "stream",
     "text": [
      "[1, 2]\n",
      "3\n"
     ]
    }
   ],
   "source": [
    "## pop 마지막 또는 인덱스 요소를 재거하고 재거된 요소를 반환\n",
    "stack = [1, 2, 3]\n",
    "last = stack.pop()\n",
    "print(stack, last, sep='\\n')"
   ]
  },
  {
   "cell_type": "code",
   "execution_count": 150,
   "id": "7c9a1db1-38e7-4446-af3f-55e14d24a229",
   "metadata": {},
   "outputs": [
    {
     "name": "stdout",
     "output_type": "stream",
     "text": [
      "['second', 'third']\n",
      "first\n"
     ]
    }
   ],
   "source": [
    "queue = ['first','second','third']\n",
    "first = queue.pop(0)\n",
    "print(queue, first, sep='\\n')"
   ]
  },
  {
   "cell_type": "code",
   "execution_count": 152,
   "id": "a4e508dd-4008-4d65-a025-d5179a15d99c",
   "metadata": {},
   "outputs": [
    {
     "name": "stdout",
     "output_type": "stream",
     "text": [
      "['A', 'C']\n",
      "B\n"
     ]
    }
   ],
   "source": [
    "items = ['A',\"B\",\"C\"]\n",
    "middle = items.pop(1)\n",
    "print(items, middle, sep=\"\\n\")"
   ]
  },
  {
   "cell_type": "code",
   "execution_count": 154,
   "id": "c951a733-a752-455c-8c6c-11293d6665ac",
   "metadata": {},
   "outputs": [
    {
     "data": {
      "text/plain": [
       "2"
      ]
     },
     "execution_count": 154,
     "metadata": {},
     "output_type": "execute_result"
    }
   ],
   "source": [
    "## index - 값의 첫 번쨰 위치(인덱스) 반환\n",
    "numbers = [10, 20, 30, 40, 30]\n",
    "pos = numbers.index(30)\n",
    "pos"
   ]
  },
  {
   "cell_type": "code",
   "execution_count": 156,
   "id": "aee0022b-b335-442d-b265-07d04e6af968",
   "metadata": {},
   "outputs": [
    {
     "data": {
      "text/plain": [
       "1"
      ]
     },
     "execution_count": 156,
     "metadata": {},
     "output_type": "execute_result"
    }
   ],
   "source": [
    "names = ['Kim','Lee', 'Park']\n",
    "idx = names.index(\"Lee\")\n",
    "idx"
   ]
  },
  {
   "cell_type": "code",
   "execution_count": 200,
   "id": "002da930-cdc6-4c7b-8a14-4055838788ec",
   "metadata": {},
   "outputs": [
    {
     "name": "stdout",
     "output_type": "stream",
     "text": [
      "[1, 3, 5]\n"
     ]
    }
   ],
   "source": [
    "my_list = [1, 2, 3, 2, 4, 2, 5]\n",
    "tvalue = 2\n",
    "\n",
    "y = []\n",
    "i = 0\n",
    "for x in my_list:\n",
    "    if x == tvalue:\n",
    "        y.append(i)\n",
    "    i +=1\n",
    "\n",
    "print(y)"
   ]
  },
  {
   "cell_type": "code",
   "execution_count": 186,
   "id": "cb049175-8c6f-4fd5-a3bd-ac7070b69894",
   "metadata": {},
   "outputs": [
    {
     "name": "stdout",
     "output_type": "stream",
     "text": [
      "[1, 3, 5]\n"
     ]
    }
   ],
   "source": [
    "y = []\n",
    "for i, x in enumerate(my_list):\n",
    "    if x == tvalue:\n",
    "        y.append(i)\n",
    "\n",
    "print(y)"
   ]
  },
  {
   "cell_type": "code",
   "execution_count": 206,
   "id": "473cd86c-d790-46c9-853b-d8169b5c310a",
   "metadata": {},
   "outputs": [
    {
     "name": "stdout",
     "output_type": "stream",
     "text": [
      "[1, 3, 5]\n"
     ]
    }
   ],
   "source": [
    "# [표현식 ,반복문 ,조건식]\n",
    "y2 = [i for i, x in enumerate(my_list) if x == tvalue]\n",
    "print(y2)"
   ]
  },
  {
   "cell_type": "code",
   "execution_count": 248,
   "id": "25b8f6d0-b9e6-4906-9dca-ec6f0c6d9039",
   "metadata": {},
   "outputs": [
    {
     "name": "stdout",
     "output_type": "stream",
     "text": [
      "[97, 87, 85]\n",
      "[95, 93, 83]\n",
      "[99, 90, 80]\n",
      "[291, 270, 248]\n",
      "[97.0, 90.0, 82.66666666666667]\n",
      "[(291, 97.0), (270, 90.0), (248, 82.66666666666667)]\n"
     ]
    }
   ],
   "source": [
    "scores = [(97, 95, 99),(87, 93, 90),(85, 83, 80)]\n",
    "# for score in scores:\n",
    "#     print(score)\n",
    "\n",
    "# for a , b, c in scores:\n",
    "#     print(a, b, c, sep=\" | \")\n",
    "\n",
    "print([k for k, m ,e in scores]) # 국어\n",
    "print([m for k, m ,e in scores]) # 수학\n",
    "print([e for k, m ,e in scores]) # 영어\n",
    "\n",
    "print([k+m+e for k, m ,e in scores]) # 사용자별 총점\n",
    "print([(k+m+e)/3 for k, m ,e in scores]) # 사용자별 평균\n",
    "print([(k+m+e,(k+m+e)/3) for k, m ,e in scores]) # 사용자별 총점과 평균"
   ]
  },
  {
   "cell_type": "code",
   "execution_count": 254,
   "id": "18062737-b1e5-431e-994e-6513988377ed",
   "metadata": {},
   "outputs": [
    {
     "name": "stdout",
     "output_type": "stream",
     "text": [
      "[(291, 97.0), (270, 90.0), (248, 82.66666666666667)]\n"
     ]
    }
   ],
   "source": [
    "print([(v[0]+ v[1]+ v[2],(v[0]+ v[1]+ v[2])/3) for k, v in enumerate(scores)]) #사용자별 총점과 평균"
   ]
  },
  {
   "cell_type": "code",
   "execution_count": 268,
   "id": "e7e450b5-e4a9-4dce-9643-3d366de5a0a3",
   "metadata": {},
   "outputs": [
    {
     "name": "stdout",
     "output_type": "stream",
     "text": [
      "{0: (291, 97.0), 1: (270, 90.0), 2: (248, 82.66666666666667)}\n"
     ]
    }
   ],
   "source": [
    "print({k:(v[0]+ v[1]+ v[2],(v[0]+ v[1]+ v[2])/3) for k, v in enumerate(scores)}) #사용자별 총점과 평균(딕셔너리)"
   ]
  },
  {
   "cell_type": "code",
   "execution_count": 280,
   "id": "3f7cbd06-b25e-4f15-b672-ad1a1adfcbd6",
   "metadata": {},
   "outputs": [
    {
     "name": "stdout",
     "output_type": "stream",
     "text": [
      "{0: (291, 97.0), 1: (270, 90.0)}\n"
     ]
    }
   ],
   "source": [
    "print({k:(v[0]+ v[1]+ v[2],(v[0]+ v[1]+ v[2])/3) for k, v in enumerate(scores) if (v[0]+ v[1]+ v[2])/3 >85})"
   ]
  },
  {
   "cell_type": "code",
   "execution_count": 272,
   "id": "9de2e472-1c88-4e71-976e-5dc3ad5157d1",
   "metadata": {},
   "outputs": [
    {
     "data": {
      "text/plain": [
       "['와우', '와우', '와우']"
      ]
     },
     "execution_count": 272,
     "metadata": {},
     "output_type": "execute_result"
    }
   ],
   "source": [
    "scores = [(97, 95, 99),(87, 93, 90),(85, 83, 80)]\n",
    "rs = [\"와우\" for k, m, e in scores]\n",
    "rs"
   ]
  },
  {
   "cell_type": "code",
   "execution_count": 274,
   "id": "68e365a6-7093-41a1-b1e5-cf982f84a90c",
   "metadata": {},
   "outputs": [
    {
     "data": {
      "text/plain": [
       "['와우', '와우', '와우', '와우', '와우']"
      ]
     },
     "execution_count": 274,
     "metadata": {},
     "output_type": "execute_result"
    }
   ],
   "source": [
    "rs = [\"와우\" for _ in range(5)]\n",
    "rs"
   ]
  },
  {
   "cell_type": "code",
   "execution_count": 290,
   "id": "030cbf49-cf03-47af-8c01-99a79b5e56f0",
   "metadata": {},
   "outputs": [
    {
     "data": {
      "text/plain": [
       "[['', '', '', '', ''],\n",
       " ['', '', '', '', ''],\n",
       " ['', '', '', '', ''],\n",
       " ['', '', '', '', ''],\n",
       " ['', '', '', '', ''],\n",
       " ['', '', '', '', ''],\n",
       " ['', '', '', '', ''],\n",
       " ['', '', '', '', '']]"
      ]
     },
     "execution_count": 290,
     "metadata": {},
     "output_type": "execute_result"
    }
   ],
   "source": [
    "rs = [[\"\",\"\",\"\",\"\",\"\"] for _ in range(8)]\n",
    "rs"
   ]
  },
  {
   "cell_type": "code",
   "execution_count": null,
   "id": "6d6c5d09-be0c-4781-8bb9-4b11700fec6d",
   "metadata": {},
   "outputs": [],
   "source": []
  }
 ],
 "metadata": {
  "kernelspec": {
   "display_name": "Python 3 (ipykernel)",
   "language": "python",
   "name": "python3"
  },
  "language_info": {
   "codemirror_mode": {
    "name": "ipython",
    "version": 3
   },
   "file_extension": ".py",
   "mimetype": "text/x-python",
   "name": "python",
   "nbconvert_exporter": "python",
   "pygments_lexer": "ipython3",
   "version": "3.12.7"
  }
 },
 "nbformat": 4,
 "nbformat_minor": 5
}
