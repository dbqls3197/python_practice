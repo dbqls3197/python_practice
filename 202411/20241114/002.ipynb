{
 "cells": [
  {
   "cell_type": "markdown",
   "id": "06ce0f60-fb23-411a-a855-6f3c620693a9",
   "metadata": {},
   "source": [
    "### 영화예매"
   ]
  },
  {
   "cell_type": "markdown",
   "id": "1f050503-8f44-4b8a-839c-39e7ab82de7c",
   "metadata": {},
   "source": [
    "=== 영화예매 시스템 ===\n",
    "현재 좌석 상태:\n",
    "□ ■ □ □ □ □ □ □ □ □\n",
    "1. 예매하기\n",
    "2. 예매 취소\n",
    "3. 종료\n",
    "선택: 1\n",
    "좌석 번호 선택(1-10) :3\n",
    "예매가 완료되었습니다.\n",
    "예매가 취소되었습니다.\n",
    "\n",
    "\n",
    "    "
   ]
  },
  {
   "cell_type": "code",
   "execution_count": 11,
   "id": "e32b8d45-47e5-44ba-a224-92c4a8b38fef",
   "metadata": {},
   "outputs": [
    {
     "name": "stdout",
     "output_type": "stream",
     "text": [
      "\n",
      "=== 영화예매 시스템 ===\n",
      "현재 좌석 상태:\n",
      "□ □ □ □ □ □ □ □ □ □ \n",
      "1. 예매하기\n",
      "2. 예매 취소\n",
      "3. 종료\n"
     ]
    },
    {
     "name": "stdin",
     "output_type": "stream",
     "text": [
      "메뉴를 고르세요:  3\n"
     ]
    },
    {
     "name": "stdout",
     "output_type": "stream",
     "text": [
      "시스템을 종료합니다.\n"
     ]
    }
   ],
   "source": [
    "def movie_seat(seats):\n",
    "    print(\"\\n=== 영화예매 시스템 ===\")\n",
    "    print(\"현재 좌석 상태:\")\n",
    "    for seat in seats:\n",
    "        print(seat, end=\" \")\n",
    "    print(\"\\n1. 예매하기\")\n",
    "    print(\"2. 예매 취소\")\n",
    "    print(\"3. 종료\")\n",
    "\n",
    "def check_seat(seats):\n",
    "    seat = int(input(\"좌석을 선택하세요 (1-10): \")) - 1 \n",
    "    if seat < 0 or seat >= len(seats):\n",
    "        print(\"잘못된 좌석 번호입니다.\")\n",
    "        return\n",
    "    if seats[seat] == \"■\":\n",
    "        print(\"이미 예약된 좌석입니다.\")\n",
    "    else:\n",
    "        seats[seat] = \"■\"\n",
    "        print(\"좌석이 예매되었습니다.\")\n",
    "        \n",
    "def cancel(seats):\n",
    "    seat = int(input(\"좌석을 선택하세요 (1-10): \")) - 1\n",
    "    if seat < 0 or seat >= len(seats):\n",
    "        print(\"잘못된 좌석 번호입니다.\")\n",
    "        return\n",
    "    if seats[seat] == \"□\":\n",
    "        print(\"예매되지 않은 좌석입니다.\")\n",
    "    else: \n",
    "        seats[seat] = \"□\"\n",
    "        print(\"예매가 취소되었습니다.\")\n",
    "\n",
    "def main():\n",
    "    seats = [\"□\"] * 10\n",
    "\n",
    "    while True:\n",
    "        movie_seat(seats)\n",
    "        choice = int(input(\"메뉴를 고르세요: \"))\n",
    "        if choice == 1:\n",
    "            check_seat(seats)\n",
    "        elif choice == 2:\n",
    "            cancel(seats)\n",
    "        elif choice == 3:\n",
    "            print(\"시스템을 종료합니다.\")\n",
    "            break\n",
    "        else:\n",
    "            print(\"잘못된 선택입니다. 다시 입력해주세요.\")\n",
    "\n",
    "main()\n"
   ]
  },
  {
   "cell_type": "code",
   "execution_count": 85,
   "id": "0f5d94f8-f082-4ca8-abcd-d4a3e8f72db0",
   "metadata": {
    "scrolled": true
   },
   "outputs": [
    {
     "name": "stdout",
     "output_type": "stream",
     "text": [
      "\n",
      "=== 영화예매 시스템 ===\n",
      "현재 좌석 상태:\n",
      "[0, 0, 0, 0, 0, 0, 0, 0, 0, 0]□[0, 0, 0, 0, 0, 0, 0, 0, 0, 0]□[0, 0, 0, 0, 0, 0, 0, 0, 0, 0]□[0, 0, 0, 0, 0, 0, 0, 0, 0, 0]□[0, 0, 0, 0, 0, 0, 0, 0, 0, 0]□\n",
      "1. 예매하기\n",
      "2. 예매 취소\n",
      "3. 종료\n"
     ]
    },
    {
     "name": "stdin",
     "output_type": "stream",
     "text": [
      "메뉴를 고르세요:  3\n"
     ]
    },
    {
     "name": "stdout",
     "output_type": "stream",
     "text": [
      "시스템을 종료합니다.\n"
     ]
    }
   ],
   "source": [
    "def movie_seat(seats):\n",
    "    print(\"\\n=== 영화예매 시스템 ===\")\n",
    "    print(\"현재 좌석 상태:\")\n",
    "    for seat in seats:\n",
    "        print(seat, end=\"\")\n",
    "    print(\"\\n1. 예매하기\")\n",
    "    print(\"2. 예매 취소\")\n",
    "    print(\"3. 종료\")\n",
    "\n",
    "def check_seat(seats):\n",
    "    ten = int(input(\"좌석 열을 선택하세요 (1-10):\")) -1\n",
    "    seat = int(input(\"좌석 행을 선택하세요 (1-5): \")) - 1\n",
    "    if vaildate(seat,ten):\n",
    "        if seats[ten][seat] == \"■\":\n",
    "            print(\"이미 예약된 좌석입니다.\")\n",
    "        else:\n",
    "            seats[ten][seat] = \"■\"\n",
    "            print(\"좌석이 예매되었습니다.\")\n",
    "            \n",
    "def cancel(seats):\n",
    "    ten = int(input(\"취소할 좌석 열을 선택하세요 (1-10):\")) -1\n",
    "    seat = int(input(\"취소할좌석 행을 선택하세요 (1-10): \")) - 1\n",
    "    if vaildate(seat,ten):\n",
    "        if seats[ten][seat] == \"□\":\n",
    "            print(\"예매되지 않은 좌석입니다.\")\n",
    "        else: \n",
    "            seats[ten][seat] = \"□\"\n",
    "            print(\"예매가 취소되었습니다.\")\n",
    "\n",
    "def vaildate(seat,ten):\n",
    "    return 0 <= seat < 5 and 0 <= ten < 10\n",
    "\n",
    "\n",
    "def main():\n",
    "    seats = [[0 for _ in range(10)] for _ in range(5)]\n",
    "\n",
    "    while True:\n",
    "        movie_seat(seats)\n",
    "        choice = int(input(\"메뉴를 고르세요: \"))\n",
    "        if choice == 1:\n",
    "            check_seat(seats)\n",
    "        elif choice == 2:\n",
    "            cancel(seats)\n",
    "        elif choice == 3:\n",
    "            print(\"시스템을 종료합니다.\")\n",
    "            break\n",
    "        else:\n",
    "            print(\"잘못된 선택입니다. 다시 입력해주세요.\")\n",
    "\n",
    "main()\n"
   ]
  },
  {
   "cell_type": "code",
   "execution_count": 113,
   "id": "2333c7c8-be2f-4512-aa6b-40f064c27a85",
   "metadata": {},
   "outputs": [
    {
     "name": "stdout",
     "output_type": "stream",
     "text": [
      "방1번쨰 방의 조명 상태: 켜짐\n",
      "방2번쨰 방의 조명 상태: 꺼짐\n",
      "방3번쨰 방의 조명 상태: 켜짐\n",
      "방4번쨰 방의 조명 상태: 꺼짐\n",
      "방5번쨰 방의 조명 상태: 켜짐\n",
      "방6번쨰 방의 조명 상태: 꺼짐\n",
      "방7번쨰 방의 조명 상태: 꺼짐\n",
      "==============================\n",
      "방1번쨰 방의 조명 상태: 꺼짐\n",
      "방2번쨰 방의 조명 상태: 꺼짐\n",
      "방3번쨰 방의 조명 상태: 꺼짐\n",
      "방4번쨰 방의 조명 상태: 꺼짐\n",
      "방5번쨰 방의 조명 상태: 꺼짐\n",
      "방6번쨰 방의 조명 상태: 꺼짐\n",
      "방7번쨰 방의 조명 상태: 꺼짐\n",
      "==============================\n"
     ]
    }
   ],
   "source": [
    "# 각 방의 조명 상태\n",
    "lights =[1, 0, 1, 0, 1, 0, 0]\n",
    "\n",
    "def light_status(lights):\n",
    "    # for i in range(len(lights)):\n",
    "    #     state =\"켜짐\" if lights[i] == 1 else \"꺼짐\"\n",
    "    #     print(f\"방{i+1}번쨰 방의 조명 상태: {state}\")\n",
    "    for i, status in enumerate(lights, start=1):\n",
    "        state = \"켜짐\" if status == 1 else \"꺼짐\"\n",
    "        print(f\"방{i}번쨰 방의 조명 상태: {state}\")\n",
    "        \n",
    "    print(\"=\" * 30)\n",
    "\n",
    "def control_light(lights, room, status):\n",
    "    lights[room -1] = status\n",
    "    return lights\n",
    "\n",
    "light_status(lights)\n",
    "#lights[4] = 0\n",
    "control_light(lights,5,0)\n",
    "control_light(lights,3,0)\n",
    "control_light(lights,1,0)\n",
    "light_status(lights)"
   ]
  },
  {
   "cell_type": "code",
   "execution_count": 125,
   "id": "e038beeb-9df6-4350-a531-07d1baa6ddca",
   "metadata": {},
   "outputs": [
    {
     "name": "stdout",
     "output_type": "stream",
     "text": [
      "출석한 학생 수: 3\n",
      "결석한 학생 번호(리스트): [2, 5]\n"
     ]
    }
   ],
   "source": [
    "# 출석 상태 \n",
    "attendance = [1, 0, 1, 1, 0]\n",
    "# 출석한 학생 수 함수\n",
    "# 결석한 학생 번호 - 리스트\n",
    "def present_count(attendance):\n",
    " return sum(attendance)\n",
    "\n",
    "absent_student = [i for i, status in enumerate(attendance, start=1) if status ==0]\n",
    "\n",
    "print(\"출석한 학생 수:\",present_count(attendance))\n",
    "print(\"결석한 학생 번호(리스트):\", absent_student)"
   ]
  },
  {
   "cell_type": "code",
   "execution_count": 129,
   "id": "83494057-de6e-4a5f-a21c-80390c1f0245",
   "metadata": {},
   "outputs": [
    {
     "data": {
      "text/plain": [
       "[1, 3, 4]"
      ]
     },
     "execution_count": 129,
     "metadata": {},
     "output_type": "execute_result"
    }
   ],
   "source": [
    "# 온라인 상태\n",
    "users = [1, 0, 1, 1, 0]\n",
    "online_users = [i for i, status in enumerate(users, start=1) if status ==1]\n",
    "online_users"
   ]
  },
  {
   "cell_type": "code",
   "execution_count": 157,
   "id": "23da0e8a-05ff-40f9-8e8f-100ba995ddc8",
   "metadata": {},
   "outputs": [
    {
     "name": "stdout",
     "output_type": "stream",
     "text": [
      "5\n",
      "운동하지 않은날: ['화요일', '목요일']\n"
     ]
    }
   ],
   "source": [
    "# 운동 여부\n",
    "weekday_names = [\"월요일\",\"화요일\",\"수요일\",\"목요일\",\"금요일\",\"토요일\",\"일요일\"]\n",
    "exercise_log = [1, 0, 1, 0, 1, 1, 1]\n",
    "print(sum(exercise_log))\n",
    "# 운동한 날 수\n",
    "# 운동하지 않은 요일\n",
    "exercise_day = [weekday_names[i] for i, status in enumerate(exercise_log) if status == 0]\n",
    "print(\"운동하지 않은날:\",exercise_day)"
   ]
  },
  {
   "cell_type": "code",
   "execution_count": 7,
   "id": "bd4b82a3-5f66-454e-8acc-2574374cadda",
   "metadata": {},
   "outputs": [
    {
     "name": "stdout",
     "output_type": "stream",
     "text": [
      "15\n"
     ]
    }
   ],
   "source": [
    "def modify_value(x):\n",
    "    x += 10  # 값을 수정\n",
    "    return x  # 수정된 값을 반환\n",
    "\n",
    "value = 5\n",
    "value = modify_value(value)\n",
    "modify_value(value)# 반환된 값을 다시 할당\n",
    "print(value)  \n",
    "# 출력: 15\n",
    "\n"
   ]
  }
 ],
 "metadata": {
  "kernelspec": {
   "display_name": "Python 3 (ipykernel)",
   "language": "python",
   "name": "python3"
  },
  "language_info": {
   "codemirror_mode": {
    "name": "ipython",
    "version": 3
   },
   "file_extension": ".py",
   "mimetype": "text/x-python",
   "name": "python",
   "nbconvert_exporter": "python",
   "pygments_lexer": "ipython3",
   "version": "3.12.7"
  }
 },
 "nbformat": 4,
 "nbformat_minor": 5
}
